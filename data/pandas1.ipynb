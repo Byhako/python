{
 "cells": [
  {
   "cell_type": "markdown",
   "metadata": {},
   "source": [
    "<h3>Tutorial de Pandas.</h3><br/>\n",
    "<h5>Comencemos con las <strong>series.</strong>   -> s = pd.series(data, index=index)</h5><br/>"
   ]
  },
  {
   "cell_type": "code",
   "execution_count": 19,
   "metadata": {},
   "outputs": [
    {
     "name": "stdout",
     "output_type": "stream",
     "text": [
      "Serie con índices automáticos: \n",
      "0    0.625840\n",
      "1    0.463093\n",
      "2   -0.583003\n",
      "3    0.662899\n",
      "4   -0.640773\n",
      "dtype: float64\n",
      "<class 'pandas.core.series.Series'>\n"
     ]
    }
   ],
   "source": [
    "import pandas as pd\n",
    "import numpy as np\n",
    "# serie con índices automáticos\n",
    "serie = pd.Series(np.random.randn(5))\n",
    "print('Serie con índices automáticos: \\n{}'.format(serie))\n",
    "print(type(serie))"
   ]
  },
  {
   "cell_type": "code",
   "execution_count": 18,
   "metadata": {},
   "outputs": [
    {
     "name": "stdout",
     "output_type": "stream",
     "text": [
      "Serie con índices definidos: \n",
      "ana     -1.833435\n",
      "pepe    -1.457813\n",
      "tomas   -0.676497\n",
      "nicol    0.883232\n",
      "dtype: float64\n"
     ]
    }
   ],
   "source": [
    "# serie con índices definidos por mi\n",
    "serie = pd.Series(np.random.randn(4),\n",
    "                  index = ['ana','pepe','tomas','nicol'])\n",
    "print(u'Serie con índices definidos: \\n{}'.format(serie))"
   ]
  },
  {
   "cell_type": "code",
   "execution_count": 23,
   "metadata": {},
   "outputs": [
    {
     "name": "stdout",
     "output_type": "stream",
     "text": [
      "Serie temporal con índices de fechas: \n",
      "2013-01-01    1.507427\n",
      "2013-01-02   -2.019659\n",
      "2013-01-03    0.278904\n",
      "2013-01-04    1.105325\n",
      "2013-01-05   -2.148531\n",
      "2013-01-06   -0.010113\n",
      "2013-01-07   -0.525141\n",
      "2013-01-08   -0.792528\n",
      "2013-01-09    0.140275\n",
      "2013-01-10   -0.073122\n",
      "Freq: D, dtype: float64 \n"
     ]
    }
   ],
   "source": [
    "# serie(serie temporal) con índices que son fechas\n",
    "serie = pd.Series(np.random.randn(10),\n",
    "                  index = pd.date_range('2013/01/01', periods = 10))\n",
    "print(u'Serie temporal con índices de fechas: \\n{} '.format(serie))"
   ]
  },
  {
   "cell_type": "code",
   "execution_count": 24,
   "metadata": {},
   "outputs": [
    {
     "name": "stdout",
     "output_type": "stream",
     "text": [
      "<class 'numpy.ndarray'>\n"
     ]
    }
   ],
   "source": [
    "print(type(np.random.randn(10)))"
   ]
  },
  {
   "cell_type": "code",
   "execution_count": 27,
   "metadata": {},
   "outputs": [
    {
     "name": "stdout",
     "output_type": "stream",
     "text": [
      "Serie a partir de una lista: \n",
      "0     0\n",
      "1     1\n",
      "2     4\n",
      "3     9\n",
      "4    16\n",
      "dtype: int64\n",
      "\n",
      "Serie a partir de un diccionario: \n",
      "cuadrado de 0     0\n",
      "cuadrado de 1     1\n",
      "cuadrado de 2     4\n",
      "cuadrado de 3     9\n",
      "cuadrado de 4    16\n",
      "dtype: int64\n",
      "\n",
      "Serie a partir de los valores de otra (pandas)serie: \n",
      "0     0\n",
      "1     1\n",
      "2     4\n",
      "3     9\n",
      "4    16\n",
      "dtype: int64\n",
      "\n",
      "Serie a partir de un valor constante: \n",
      "0   -999\n",
      "1   -999\n",
      "2   -999\n",
      "3   -999\n",
      "4   -999\n",
      "dtype: int64\n"
     ]
    }
   ],
   "source": [
    "serie_lista = pd.Series([i*i for i in range(5)])\n",
    "print('Serie a partir de una lista: \\n{}'.format(serie_lista))\n",
    "\n",
    "dicc = {'cuadrado de {}'.format(i) : i*i for i in range(5)}\n",
    "serie_dicc = pd.Series(dicc)\n",
    "print('\\nSerie a partir de un diccionario: \\n{}'.format(serie_dicc))\n",
    "\n",
    "serie_serie = pd.Series(serie_dicc.values)\n",
    "print('\\nSerie a partir de los valores de otra (pandas)serie: \\n{}'.format(serie_serie))\n",
    "\n",
    "serie_cte = pd.Series(-999, index = np.arange(5))\n",
    "print('\\nSerie a partir de un valor constante: \\n{}'.format(serie_cte))"
   ]
  },
  {
   "cell_type": "markdown",
   "metadata": {},
   "source": [
    "<br/>\n",
    "<h5>Una serie (Series o TimeSeries) se puede manejar igual que si tuviéramos un numpy array de una dimensión o igual que si tuviéramos un diccionario. Vemos ejemplos de esto:</h5><br/>"
   ]
  },
  {
   "cell_type": "code",
   "execution_count": null,
   "metadata": {
    "collapsed": true
   },
   "outputs": [],
   "source": []
  },
  {
   "cell_type": "code",
   "execution_count": 43,
   "metadata": {},
   "outputs": [
    {
     "name": "stdout",
     "output_type": "stream",
     "text": [
      "Serie que vamos a usar en este ejemplo: \n",
      "a   -3.285580\n",
      "b   -0.855036\n",
      "c    1.272985\n",
      "d   -0.880317\n",
      "e    1.547123\n",
      "f   -0.193851\n",
      "g    1.270352\n",
      "h    1.398164\n",
      "i    1.277965\n",
      "j    1.635940\n",
      "dtype: float64\n",
      "\n",
      "Se comporta como un numpy array:\n",
      "================================\n",
      ">>serie.max()\n",
      "1.6359395882427823\n",
      ">>serie.sum()\n",
      "3.1877450626134904\n",
      ">>serie.abs()\n",
      "a    3.285580\n",
      "b    0.855036\n",
      "c    1.272985\n",
      "d    0.880317\n",
      "e    1.547123\n",
      "f    0.193851\n",
      "g    1.270352\n",
      "h    1.398164\n",
      "i    1.277965\n",
      "j    1.635940\n",
      "dtype: float64\n",
      ">>serie[serie > 0.6]\n",
      "c    1.272985\n",
      "e    1.547123\n",
      "g    1.270352\n",
      "h    1.398164\n",
      "i    1.277965\n",
      "j    1.635940\n",
      "dtype: float64\n",
      "\n",
      "\n",
      "Se comporta como un diccionario:\n",
      "================================\n",
      ">>serie['a']\n",
      "-3.2855795167470974\n",
      ">>'a' in serie\n",
      "True\n",
      ">>'z' in serie\n",
      "False\n"
     ]
    }
   ],
   "source": [
    "serie = pd.Series(np.random.randn(10),\n",
    "                  index = ['a','b','c','d','e','f','g','h','i','j'])\n",
    "print('Serie que vamos a usar en este ejemplo: \\n{}\\n'.format(serie))\n",
    "# Ejemplos de comportamiento como numpy array\n",
    "print('Se comporta como un numpy array:')\n",
    "print('================================')\n",
    "print('>>serie.max()\\n{}'.format(serie.max()))\n",
    "print('>>serie.sum()\\n{}'.format(serie.sum()))\n",
    "print('>>serie.abs()\\n{}'.format(serie.abs()))\n",
    "print('>>serie[serie > 0.6]\\n{}'.format(serie[serie > 0.6]))\n",
    "#...\n",
    "print('\\n')\n",
    "# Ejemplos de comportamiento como diccionario\n",
    "print(\"Se comporta como un diccionario:\")\n",
    "print(\"================================\")\n",
    "print(\">>serie['a']\\n{}\".format(serie['a']))\n",
    "print(\">>'a' in serie\\n{}\".format('a' in serie))\n",
    "print(\">>'z' in serie\\n{}\".format('z' in serie))"
   ]
  },
  {
   "cell_type": "markdown",
   "metadata": {},
   "source": [
    "<br/>\n",
    "<h5><strong>Suma de series</strong></h5>\n",
    "<h5>Las operaciones se hacen elemento a elemento con los elementos alineados en función del índice. Si se hace, una suma de dos series y en una de las dos no existe un elemento el resultado para ese índice será nan. \n",
    "<br/>"
   ]
  },
  {
   "cell_type": "code",
   "execution_count": 108,
   "metadata": {},
   "outputs": [
    {
     "name": "stdout",
     "output_type": "stream",
     "text": [
      "          s1                         s2                  s1 + s2\n",
      "-----------------------  -----------------------  -----------------------\n",
      "a nan                  + a  0.48351484454112437 = a                  nan\n",
      "b -0.06354157829425938 + b -0.06354157829425938 = b -0.12708315658851876\n",
      "c -0.14699518176255363 + c -0.14699518176255363 = c -0.29399036352510727\n",
      "d    1.432411223855866 + d    1.432411223855866 = d    2.864822447711732\n",
      "e  0.25416248133098884 + e  0.25416248133098884 = e   0.5083249626619777\n",
      "f -0.31705865012233525 + f -0.31705865012233525 = f  -0.6341173002446705\n",
      "g   2.1866273622039336 + g   2.1866273622039336 = g    4.373254724407867\n",
      "h  -0.1589327310190406 + h  -0.1589327310190406 = h  -0.3178654620380812\n",
      "i   1.0331524870929683 + i   1.0331524870929683 = i   2.0663049741859365\n",
      "j  -0.6329508972509573 + j nan                  = j                  nan\n"
     ]
    }
   ],
   "source": [
    "serie = pd.Series(np.random.randn(10),\n",
    "                  index = ['a','b','c','d','e','f','g','h','i','j'])\n",
    "s1 = serie[1:]  # Serie sin indece a.\n",
    "s2 = serie[:-1] # Serie sin indice j.\n",
    "suma = s1 + s2\n",
    "print('          s1                         s2                  s1 + s2')\n",
    "print('-----------------------  -----------------------  -----------------------')\n",
    "for clave in sorted(set( list(s1.keys()) + list(s2.keys()) )):\n",
    "    s11 = s1.get(clave)\n",
    "    s22 = s2.get(clave)\n",
    "    if str(type(s11))==\"<class 'NoneType'>\": s11='nan'\n",
    "    if str(type(s22))==\"<class 'NoneType'>\": s22='nan'\n",
    "\n",
    "    print('{0:1} {1:20} + {0:1} {2:20} = {0:1} {3:20}'.format(clave,s11,s22,suma.get(clave)))\n",
    "    \n",
    "# Un elemento tipo NoneType produce error al intentar imprimirlo con formato, por eso realizamos\n",
    "# la secuencia de 'if'."
   ]
  },
  {
   "cell_type": "markdown",
   "metadata": {},
   "source": [
    "<br/><h5><strong>DataFrame</strong></h5>\n",
    "<br/>\n",
    "<h5>Un DataFrame se puede ver como si fuera una tabla con índices para las filas y las columnas.</h5><br/>"
   ]
  },
  {
   "cell_type": "code",
   "execution_count": 114,
   "metadata": {},
   "outputs": [
    {
     "name": "stdout",
     "output_type": "stream",
     "text": [
      "DataFrame a partir de un diccionario de listas: \n",
      "    a   b\n",
      "0  11  21\n",
      "1  12  22\n",
      "2  13  23\n",
      "\n",
      "DataFrame a partir de un diccionario de 1D ndarrays: \n",
      "   a         b\n",
      "0  0  1.295021\n",
      "1  1  1.408557\n",
      "2  4 -0.315138\n",
      "\n",
      "DataFrame a partir de un 2D ndarray: \n",
      "             velocidad    temperatura  presion\n",
      "primero  6.917324e-310  2.076186e-316      0.0\n",
      "segundo   0.000000e+00   0.000000e+00      0.0\n",
      "tercero   0.000000e+00   0.000000e+00      0.0\n",
      "cuarto    0.000000e+00   0.000000e+00      0.0\n",
      "quinto    0.000000e+00   0.000000e+00      0.0\n",
      "\n",
      "DataFrame a partir de los valores de otro (pandas)DataFrame: \n",
      "            velocidad    temperatura  presion\n",
      "first   6.917324e-310  2.076186e-316      0.0\n",
      "second   0.000000e+00   0.000000e+00      0.0\n",
      "third    0.000000e+00   0.000000e+00      0.0\n"
     ]
    }
   ],
   "source": [
    "df_lista = pd.DataFrame({'a': [11,12,13], 'b': [21,22,23]})\n",
    "print('DataFrame a partir de un diccionario de listas: \\n{}\\n'.format(df_lista))\n",
    "\n",
    "df_np1D = pd.DataFrame({'a': np.arange(3)**2, 'b': np.random.randn(3)})\n",
    "print('DataFrame a partir de un diccionario de 1D ndarrays: \\n{}\\n'.format(df_np1D))\n",
    "\n",
    "df_np2D = pd.DataFrame(np.empty((5,3)),\n",
    "index = ['primero','segundo','tercero','cuarto','quinto'],\n",
    "columns = ['velocidad', 'temperatura','presion'])\n",
    "print('DataFrame a partir de un 2D ndarray: \\n{}\\n'.format(df_np2D))\n",
    "\n",
    "df_df = pd.DataFrame(df_np2D, index = ['primero','segundo','tercero'])\n",
    "df_df.index = ['first','second','third']\n",
    "print('DataFrame a partir de los valores de otro (pandas)DataFrame: \\n{}'.format(df_df))"
   ]
  },
  {
   "cell_type": "code",
   "execution_count": 123,
   "metadata": {},
   "outputs": [
    {
     "ename": "AttributeError",
     "evalue": "'Index' object has no attribute 'text'",
     "output_type": "error",
     "traceback": [
      "\u001b[0;31m---------------------------------------------------------------------------\u001b[0m",
      "\u001b[0;31mAttributeError\u001b[0m                            Traceback (most recent call last)",
      "\u001b[0;32m<ipython-input-123-db4bd7e90e43>\u001b[0m in \u001b[0;36m<module>\u001b[0;34m()\u001b[0m\n\u001b[1;32m      1\u001b[0m \u001b[0mmatriz\u001b[0m \u001b[0;34m=\u001b[0m \u001b[0;34m[\u001b[0m\u001b[0;34m[\u001b[0m\u001b[0;36m1\u001b[0m\u001b[0;34m,\u001b[0m\u001b[0;36m2\u001b[0m\u001b[0;34m,\u001b[0m\u001b[0;36m3\u001b[0m\u001b[0;34m]\u001b[0m\u001b[0;34m,\u001b[0m\u001b[0;34m[\u001b[0m\u001b[0;36m4\u001b[0m\u001b[0;34m,\u001b[0m\u001b[0;36m5\u001b[0m\u001b[0;34m,\u001b[0m\u001b[0;36m6\u001b[0m\u001b[0;34m]\u001b[0m\u001b[0;34m,\u001b[0m\u001b[0;34m[\u001b[0m\u001b[0;36m7\u001b[0m\u001b[0;34m,\u001b[0m\u001b[0;36m8\u001b[0m\u001b[0;34m,\u001b[0m\u001b[0;36m9\u001b[0m\u001b[0;34m]\u001b[0m\u001b[0;34m]\u001b[0m\u001b[0;34m\u001b[0m\u001b[0m\n\u001b[1;32m      2\u001b[0m \u001b[0mdata\u001b[0m \u001b[0;34m=\u001b[0m \u001b[0mpd\u001b[0m\u001b[0;34m.\u001b[0m\u001b[0mDataFrame\u001b[0m\u001b[0;34m(\u001b[0m\u001b[0mmatriz\u001b[0m\u001b[0;34m,\u001b[0m \u001b[0mcolumns\u001b[0m \u001b[0;34m=\u001b[0m \u001b[0;34m[\u001b[0m\u001b[0;34m'uno'\u001b[0m\u001b[0;34m,\u001b[0m \u001b[0;34m'dos'\u001b[0m\u001b[0;34m,\u001b[0m\u001b[0;34m'tres'\u001b[0m\u001b[0;34m]\u001b[0m\u001b[0;34m)\u001b[0m\u001b[0;34m\u001b[0m\u001b[0m\n\u001b[0;32m----> 3\u001b[0;31m \u001b[0mprint\u001b[0m\u001b[0;34m(\u001b[0m\u001b[0mdata\u001b[0m\u001b[0;34m.\u001b[0m\u001b[0mcolumns\u001b[0m\u001b[0;34m.\u001b[0m\u001b[0mtext\u001b[0m\u001b[0;34m)\u001b[0m\u001b[0;34m\u001b[0m\u001b[0m\n\u001b[0m",
      "\u001b[0;31mAttributeError\u001b[0m: 'Index' object has no attribute 'text'"
     ]
    }
   ],
   "source": []
  },
  {
   "cell_type": "code",
   "execution_count": null,
   "metadata": {
    "collapsed": true
   },
   "outputs": [],
   "source": []
  }
 ],
 "metadata": {
  "kernelspec": {
   "display_name": "Python 3",
   "language": "python",
   "name": "python3"
  },
  "language_info": {
   "codemirror_mode": {
    "name": "ipython",
    "version": 3
   },
   "file_extension": ".py",
   "mimetype": "text/x-python",
   "name": "python",
   "nbconvert_exporter": "python",
   "pygments_lexer": "ipython3",
   "version": "3.6.1"
  }
 },
 "nbformat": 4,
 "nbformat_minor": 2
}
