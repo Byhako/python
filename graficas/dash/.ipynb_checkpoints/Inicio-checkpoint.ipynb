{
 "cells": [
  {
   "cell_type": "code",
   "execution_count": 1,
   "metadata": {},
   "outputs": [],
   "source": [
    "import dash\n",
    "import dash_core_components as dcc\n",
    "import dash_html_components as html"
   ]
  },
  {
   "cell_type": "code",
   "execution_count": 21,
   "metadata": {},
   "outputs": [],
   "source": [
    "app = dash.Dash() # crea app web"
   ]
  },
  {
   "cell_type": "code",
   "execution_count": 22,
   "metadata": {},
   "outputs": [],
   "source": [
    "app.layout = html.Div(children=[\n",
    "    html.H1('Mi gráfica en Dash', style={'color':'#043b08', 'textAlign':'center'}),\n",
    "    html.Div('Esta es una aplicación de Flash creada con Dash', style={'color':'#111111', 'textAlign':'center'}),\n",
    "    dcc.Graph(\n",
    "        id='grafico1',\n",
    "        figure={\n",
    "            'data':[\n",
    "                { 'x':[1,2,3], 'y':[4,5,2], 'type':'bar', 'name':'datos1' },\n",
    "                { 'x':[1,2,3], 'y':[3,4,1], 'type':'bar', 'name':'datos2' }\n",
    "            ],\n",
    "            'layout': {\n",
    "                'title': 'Grafica con Dash',\n",
    "                'plot_bgcolor': '#eeeeee',\n",
    "                'paper_bgcolor': '#989997',\n",
    "                'font': { 'color': '#111111' }\n",
    "            }\n",
    "        }\n",
    "    )\n",
    "],\n",
    "style={'backgroundColor': '#e3f7fa'}\n",
    "        )"
   ]
  },
  {
   "cell_type": "code",
   "execution_count": 23,
   "metadata": {},
   "outputs": [
    {
     "name": "stdout",
     "output_type": "stream",
     "text": [
      "Dash is running on http://127.0.0.1:8050/\n",
      "\n",
      "Dash is running on http://127.0.0.1:8050/\n",
      "\n",
      "Dash is running on http://127.0.0.1:8050/\n",
      "\n",
      "Dash is running on http://127.0.0.1:8050/\n",
      "\n",
      "Dash is running on http://127.0.0.1:8050/\n",
      "\n",
      "Dash is running on http://127.0.0.1:8050/\n",
      "\n",
      "Dash is running on http://127.0.0.1:8050/\n",
      "\n",
      " * Serving Flask app \"__main__\" (lazy loading)\n",
      " * Environment: production\n",
      "   WARNING: This is a development server. Do not use it in a production deployment.\n",
      "   Use a production WSGI server instead.\n",
      " * Debug mode: off\n"
     ]
    },
    {
     "name": "stderr",
     "output_type": "stream",
     "text": [
      " * Running on http://127.0.0.1:8050/ (Press CTRL+C to quit)\n",
      "127.0.0.1 - - [16/Nov/2020 19:19:37] \"GET / HTTP/1.1\" 200 -\n",
      "127.0.0.1 - - [16/Nov/2020 19:19:38] \"GET /_dash-component-suites/dash_renderer/react@16.v1_8_3m1604054361.14.0.min.js HTTP/1.1\" 200 -\n",
      "127.0.0.1 - - [16/Nov/2020 19:19:38] \"GET /_dash-component-suites/dash_renderer/prop-types@15.v1_8_3m1604054361.7.2.min.js HTTP/1.1\" 200 -\n",
      "127.0.0.1 - - [16/Nov/2020 19:19:38] \"GET /_dash-component-suites/dash_renderer/polyfill@7.v1_8_3m1604054361.8.7.min.js HTTP/1.1\" 200 -\n",
      "127.0.0.1 - - [16/Nov/2020 19:19:38] \"GET /_dash-component-suites/dash_core_components/dash_core_components-shared.v1_13_0m1604054723.js HTTP/1.1\" 200 -\n",
      "127.0.0.1 - - [16/Nov/2020 19:19:38] \"GET /_dash-component-suites/dash_renderer/react-dom@16.v1_8_3m1604054361.14.0.min.js HTTP/1.1\" 200 -\n",
      "127.0.0.1 - - [16/Nov/2020 19:19:38] \"GET /_dash-component-suites/dash_html_components/dash_html_components.v1_1_1m1599715810.min.js HTTP/1.1\" 200 -\n",
      "127.0.0.1 - - [16/Nov/2020 19:19:38] \"GET /_dash-component-suites/dash_renderer/dash_renderer.v1_8_3m1604054361.min.js HTTP/1.1\" 200 -\n",
      "127.0.0.1 - - [16/Nov/2020 19:19:38] \"GET /_dash-component-suites/dash_core_components/dash_core_components.v1_13_0m1604054723.min.js HTTP/1.1\" 200 -\n",
      "127.0.0.1 - - [16/Nov/2020 19:19:38] \"GET /_dash-layout HTTP/1.1\" 200 -\n",
      "127.0.0.1 - - [16/Nov/2020 19:19:38] \"GET /_dash-dependencies HTTP/1.1\" 200 -\n",
      "127.0.0.1 - - [16/Nov/2020 19:19:38] \"GET /_favicon.ico?v=1.17.0 HTTP/1.1\" 200 -\n"
     ]
    }
   ],
   "source": [
    "app.run_server();"
   ]
  },
  {
   "cell_type": "code",
   "execution_count": null,
   "metadata": {},
   "outputs": [],
   "source": []
  }
 ],
 "metadata": {
  "kernelspec": {
   "display_name": "Python 3",
   "language": "python",
   "name": "python3"
  },
  "language_info": {
   "codemirror_mode": {
    "name": "ipython",
    "version": 3
   },
   "file_extension": ".py",
   "mimetype": "text/x-python",
   "name": "python",
   "nbconvert_exporter": "python",
   "pygments_lexer": "ipython3",
   "version": "3.7.4"
  }
 },
 "nbformat": 4,
 "nbformat_minor": 2
}
