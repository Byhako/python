{
 "cells": [
  {
   "cell_type": "markdown",
   "metadata": {},
   "source": [
    "# Convertir ploty en dash"
   ]
  },
  {
   "cell_type": "code",
   "execution_count": 13,
   "metadata": {},
   "outputs": [],
   "source": [
    "import dash\n",
    "import dash_core_components as dcc\n",
    "import dash_html_components as html\n",
    "import plotly.graph_objs as go\n",
    "import numpy as np"
   ]
  },
  {
   "cell_type": "code",
   "execution_count": 14,
   "metadata": {},
   "outputs": [],
   "source": [
    "app = dash.Dash()\n",
    "\n",
    "x = np.random.randint(1, 500, 100)\n",
    "y = np.random.randint(1, 500, 100)\n",
    "\n",
    "marker = {'symbol': 'square', 'color': 'green', 'size': 12}\n",
    "marker2 = {'symbol': 'square', 'color': 'blue', 'size': 10}\n",
    "\n",
    "grafico = dcc.Graph(\n",
    "    id='Grafica1',\n",
    "    figure={\n",
    "        'data': [ go.Scatter(x=x, y=y, mode='markers', marker=marker) ],\n",
    "        'layout': [ go.Layout(title='Un Scatter Plot') ]\n",
    "    }\n",
    ")\n",
    "\n",
    "\n",
    "grafico2 = dcc.Graph(\n",
    "    id='Grafica2',\n",
    "    figure={\n",
    "        'data': [ go.Scatter(x=x, y=y, mode='markers', marker=marker2) ],\n",
    "        'layout': [ go.Layout(title='Un Scatter Plot') ]\n",
    "    }\n",
    ")"
   ]
  },
  {
   "cell_type": "code",
   "execution_count": null,
   "metadata": {},
   "outputs": [
    {
     "name": "stdout",
     "output_type": "stream",
     "text": [
      "Dash is running on http://127.0.0.1:8050/\n",
      "\n",
      "Dash is running on http://127.0.0.1:8050/\n",
      "\n",
      "Dash is running on http://127.0.0.1:8050/\n",
      "\n",
      "Dash is running on http://127.0.0.1:8050/\n",
      "\n",
      "Dash is running on http://127.0.0.1:8050/\n",
      "\n",
      "Dash is running on http://127.0.0.1:8050/\n",
      "\n",
      " * Serving Flask app \"__main__\" (lazy loading)\n",
      " * Environment: production\n",
      "   WARNING: This is a development server. Do not use it in a production deployment.\n",
      "   Use a production WSGI server instead.\n",
      " * Debug mode: off\n"
     ]
    },
    {
     "name": "stderr",
     "output_type": "stream",
     "text": [
      " * Running on http://127.0.0.1:8050/ (Press CTRL+C to quit)\n",
      "127.0.0.1 - - [16/Nov/2020 19:36:02] \"GET / HTTP/1.1\" 200 -\n",
      "127.0.0.1 - - [16/Nov/2020 19:36:02] \"GET /_dash-component-suites/dash_renderer/polyfill@7.v1_8_3m1604054361.8.7.min.js HTTP/1.1\" 200 -\n",
      "127.0.0.1 - - [16/Nov/2020 19:36:02] \"GET /_dash-component-suites/dash_renderer/react@16.v1_8_3m1604054361.14.0.min.js HTTP/1.1\" 200 -\n",
      "127.0.0.1 - - [16/Nov/2020 19:36:02] \"GET /_dash-component-suites/dash_renderer/prop-types@15.v1_8_3m1604054361.7.2.min.js HTTP/1.1\" 200 -\n",
      "127.0.0.1 - - [16/Nov/2020 19:36:02] \"GET /_dash-component-suites/dash_html_components/dash_html_components.v1_1_1m1599715810.min.js HTTP/1.1\" 200 -\n",
      "127.0.0.1 - - [16/Nov/2020 19:36:02] \"GET /_dash-component-suites/dash_renderer/react-dom@16.v1_8_3m1604054361.14.0.min.js HTTP/1.1\" 200 -\n",
      "127.0.0.1 - - [16/Nov/2020 19:36:02] \"GET /_dash-component-suites/dash_core_components/dash_core_components-shared.v1_13_0m1604054723.js HTTP/1.1\" 200 -\n",
      "127.0.0.1 - - [16/Nov/2020 19:36:02] \"GET /_dash-component-suites/dash_core_components/dash_core_components.v1_13_0m1604054723.min.js HTTP/1.1\" 200 -\n",
      "127.0.0.1 - - [16/Nov/2020 19:36:02] \"GET /_dash-component-suites/dash_renderer/dash_renderer.v1_8_3m1604054361.min.js HTTP/1.1\" 200 -\n",
      "127.0.0.1 - - [16/Nov/2020 19:36:03] \"GET /_dash-layout HTTP/1.1\" 200 -\n",
      "127.0.0.1 - - [16/Nov/2020 19:36:03] \"GET /_dash-dependencies HTTP/1.1\" 200 -\n",
      "127.0.0.1 - - [16/Nov/2020 19:36:03] \"GET /_favicon.ico?v=1.17.0 HTTP/1.1\" 200 -\n"
     ]
    }
   ],
   "source": [
    "app.layout = html.Div([grafico, grafico2])\n",
    "app.run_server()"
   ]
  },
  {
   "cell_type": "code",
   "execution_count": null,
   "metadata": {},
   "outputs": [],
   "source": []
  }
 ],
 "metadata": {
  "kernelspec": {
   "display_name": "Python 3",
   "language": "python",
   "name": "python3"
  },
  "language_info": {
   "codemirror_mode": {
    "name": "ipython",
    "version": 3
   },
   "file_extension": ".py",
   "mimetype": "text/x-python",
   "name": "python",
   "nbconvert_exporter": "python",
   "pygments_lexer": "ipython3",
   "version": "3.7.4"
  }
 },
 "nbformat": 4,
 "nbformat_minor": 2
}
