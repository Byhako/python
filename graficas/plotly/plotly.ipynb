{
 "cells": [
  {
   "cell_type": "code",
   "execution_count": 67,
   "metadata": {},
   "outputs": [],
   "source": [
    "import numpy as np\n",
    "import cufflinks as cf\n",
    "import plotly.offline as pyo\n",
    "import plotly.graph_objs as go\n",
    "import plotly.figure_factory as ff"
   ]
  },
  {
   "cell_type": "code",
   "execution_count": 2,
   "metadata": {},
   "outputs": [
    {
     "data": {
      "text/html": [
       "        <script type=\"text/javascript\">\n",
       "        window.PlotlyConfig = {MathJaxConfig: 'local'};\n",
       "        if (window.MathJax) {MathJax.Hub.Config({SVG: {font: \"STIX-Web\"}});}\n",
       "        if (typeof require !== 'undefined') {\n",
       "        require.undef(\"plotly\");\n",
       "        requirejs.config({\n",
       "            paths: {\n",
       "                'plotly': ['https://cdn.plot.ly/plotly-latest.min']\n",
       "            }\n",
       "        });\n",
       "        require(['plotly'], function(Plotly) {\n",
       "            window._Plotly = Plotly;\n",
       "        });\n",
       "        }\n",
       "        </script>\n",
       "        "
      ]
     },
     "metadata": {},
     "output_type": "display_data"
    },
    {
     "data": {
      "text/html": [
       "        <script type=\"text/javascript\">\n",
       "        window.PlotlyConfig = {MathJaxConfig: 'local'};\n",
       "        if (window.MathJax) {MathJax.Hub.Config({SVG: {font: \"STIX-Web\"}});}\n",
       "        if (typeof require !== 'undefined') {\n",
       "        require.undef(\"plotly\");\n",
       "        requirejs.config({\n",
       "            paths: {\n",
       "                'plotly': ['https://cdn.plot.ly/plotly-latest.min']\n",
       "            }\n",
       "        });\n",
       "        require(['plotly'], function(Plotly) {\n",
       "            window._Plotly = Plotly;\n",
       "        });\n",
       "        }\n",
       "        </script>\n",
       "        "
      ]
     },
     "metadata": {},
     "output_type": "display_data"
    }
   ],
   "source": [
    "pyo.init_notebook_mode(connected=True)\n",
    "cf.go_offline()\n",
    "%matplotlib inline"
   ]
  },
  {
   "cell_type": "markdown",
   "metadata": {},
   "source": [
    "<div class='alert alert-info' style='padding: 0 0 10px'>\n",
    "    <h2 style='text-align:center'>Scatter Plot</h2>\n",
    "</div>"
   ]
  },
  {
   "cell_type": "code",
   "execution_count": 3,
   "metadata": {},
   "outputs": [],
   "source": [
    "x = np.random.randint(0, 100, 50)\n",
    "y = np.random.randint(0, 100, 50)"
   ]
  },
  {
   "cell_type": "code",
   "execution_count": 4,
   "metadata": {},
   "outputs": [
    {
     "data": {
      "text/plain": [
       "'scatter.html'"
      ]
     },
     "execution_count": 4,
     "metadata": {},
     "output_type": "execute_result"
    }
   ],
   "source": [
    "datos = [go.Scatter(x=x, y=y, mode='markers')]\n",
    "pyo.plot(datos, filename='scatter.html')"
   ]
  },
  {
   "cell_type": "code",
   "execution_count": 5,
   "metadata": {},
   "outputs": [],
   "source": [
    "capa = go.Layout(title='Scatter Plot', xaxis=dict(title='Valotes X'), yaxis=dict(title='Valotes Y'))"
   ]
  },
  {
   "cell_type": "code",
   "execution_count": 6,
   "metadata": {},
   "outputs": [
    {
     "data": {
      "text/plain": [
       "'scatter.html'"
      ]
     },
     "execution_count": 6,
     "metadata": {},
     "output_type": "execute_result"
    }
   ],
   "source": [
    "figura = go.Figure(data=datos, layout=capa)\n",
    "pyo.plot(figura, filename='scatter.html')"
   ]
  },
  {
   "cell_type": "code",
   "execution_count": 7,
   "metadata": {},
   "outputs": [],
   "source": [
    "datos = [go.Scatter(x=x, y=y, mode='markers', \n",
    "                    marker=dict(size=12, color='green', symbol='square', line=dict(width=2)))]"
   ]
  },
  {
   "cell_type": "code",
   "execution_count": 8,
   "metadata": {},
   "outputs": [
    {
     "data": {
      "text/plain": [
       "'scatter.html'"
      ]
     },
     "execution_count": 8,
     "metadata": {},
     "output_type": "execute_result"
    }
   ],
   "source": [
    "figura = go.Figure(data=datos, layout=capa)\n",
    "pyo.plot(figura, filename='scatter.html')"
   ]
  },
  {
   "cell_type": "code",
   "execution_count": 9,
   "metadata": {},
   "outputs": [
    {
     "data": {
      "application/vnd.plotly.v1+json": {
       "config": {
        "linkText": "Export to plot.ly",
        "plotlyServerURL": "https://plot.ly",
        "showLink": false
       },
       "data": [
        {
         "marker": {
          "color": "green",
          "line": {
           "width": 2
          },
          "size": 12,
          "symbol": "square"
         },
         "mode": "markers",
         "type": "scatter",
         "x": [
          5,
          28,
          21,
          49,
          88,
          11,
          82,
          39,
          4,
          1,
          16,
          19,
          65,
          28,
          81,
          11,
          47,
          48,
          24,
          98,
          98,
          16,
          91,
          38,
          74,
          36,
          75,
          91,
          93,
          70,
          99,
          25,
          36,
          64,
          95,
          70,
          38,
          78,
          17,
          94,
          96,
          65,
          13,
          51,
          84,
          89,
          7,
          58,
          87,
          14
         ],
         "y": [
          45,
          57,
          0,
          82,
          85,
          89,
          42,
          80,
          28,
          54,
          53,
          87,
          89,
          64,
          90,
          5,
          38,
          7,
          37,
          40,
          95,
          12,
          25,
          70,
          65,
          55,
          3,
          80,
          41,
          66,
          60,
          24,
          45,
          0,
          54,
          2,
          47,
          10,
          69,
          95,
          40,
          10,
          56,
          33,
          50,
          24,
          84,
          6,
          59,
          75
         ]
        }
       ],
       "layout": {
        "template": {
         "data": {
          "bar": [
           {
            "error_x": {
             "color": "#2a3f5f"
            },
            "error_y": {
             "color": "#2a3f5f"
            },
            "marker": {
             "line": {
              "color": "#E5ECF6",
              "width": 0.5
             }
            },
            "type": "bar"
           }
          ],
          "barpolar": [
           {
            "marker": {
             "line": {
              "color": "#E5ECF6",
              "width": 0.5
             }
            },
            "type": "barpolar"
           }
          ],
          "carpet": [
           {
            "aaxis": {
             "endlinecolor": "#2a3f5f",
             "gridcolor": "white",
             "linecolor": "white",
             "minorgridcolor": "white",
             "startlinecolor": "#2a3f5f"
            },
            "baxis": {
             "endlinecolor": "#2a3f5f",
             "gridcolor": "white",
             "linecolor": "white",
             "minorgridcolor": "white",
             "startlinecolor": "#2a3f5f"
            },
            "type": "carpet"
           }
          ],
          "choropleth": [
           {
            "colorbar": {
             "outlinewidth": 0,
             "ticks": ""
            },
            "type": "choropleth"
           }
          ],
          "contour": [
           {
            "colorbar": {
             "outlinewidth": 0,
             "ticks": ""
            },
            "colorscale": [
             [
              0,
              "#0d0887"
             ],
             [
              0.1111111111111111,
              "#46039f"
             ],
             [
              0.2222222222222222,
              "#7201a8"
             ],
             [
              0.3333333333333333,
              "#9c179e"
             ],
             [
              0.4444444444444444,
              "#bd3786"
             ],
             [
              0.5555555555555556,
              "#d8576b"
             ],
             [
              0.6666666666666666,
              "#ed7953"
             ],
             [
              0.7777777777777778,
              "#fb9f3a"
             ],
             [
              0.8888888888888888,
              "#fdca26"
             ],
             [
              1,
              "#f0f921"
             ]
            ],
            "type": "contour"
           }
          ],
          "contourcarpet": [
           {
            "colorbar": {
             "outlinewidth": 0,
             "ticks": ""
            },
            "type": "contourcarpet"
           }
          ],
          "heatmap": [
           {
            "colorbar": {
             "outlinewidth": 0,
             "ticks": ""
            },
            "colorscale": [
             [
              0,
              "#0d0887"
             ],
             [
              0.1111111111111111,
              "#46039f"
             ],
             [
              0.2222222222222222,
              "#7201a8"
             ],
             [
              0.3333333333333333,
              "#9c179e"
             ],
             [
              0.4444444444444444,
              "#bd3786"
             ],
             [
              0.5555555555555556,
              "#d8576b"
             ],
             [
              0.6666666666666666,
              "#ed7953"
             ],
             [
              0.7777777777777778,
              "#fb9f3a"
             ],
             [
              0.8888888888888888,
              "#fdca26"
             ],
             [
              1,
              "#f0f921"
             ]
            ],
            "type": "heatmap"
           }
          ],
          "heatmapgl": [
           {
            "colorbar": {
             "outlinewidth": 0,
             "ticks": ""
            },
            "colorscale": [
             [
              0,
              "#0d0887"
             ],
             [
              0.1111111111111111,
              "#46039f"
             ],
             [
              0.2222222222222222,
              "#7201a8"
             ],
             [
              0.3333333333333333,
              "#9c179e"
             ],
             [
              0.4444444444444444,
              "#bd3786"
             ],
             [
              0.5555555555555556,
              "#d8576b"
             ],
             [
              0.6666666666666666,
              "#ed7953"
             ],
             [
              0.7777777777777778,
              "#fb9f3a"
             ],
             [
              0.8888888888888888,
              "#fdca26"
             ],
             [
              1,
              "#f0f921"
             ]
            ],
            "type": "heatmapgl"
           }
          ],
          "histogram": [
           {
            "marker": {
             "colorbar": {
              "outlinewidth": 0,
              "ticks": ""
             }
            },
            "type": "histogram"
           }
          ],
          "histogram2d": [
           {
            "colorbar": {
             "outlinewidth": 0,
             "ticks": ""
            },
            "colorscale": [
             [
              0,
              "#0d0887"
             ],
             [
              0.1111111111111111,
              "#46039f"
             ],
             [
              0.2222222222222222,
              "#7201a8"
             ],
             [
              0.3333333333333333,
              "#9c179e"
             ],
             [
              0.4444444444444444,
              "#bd3786"
             ],
             [
              0.5555555555555556,
              "#d8576b"
             ],
             [
              0.6666666666666666,
              "#ed7953"
             ],
             [
              0.7777777777777778,
              "#fb9f3a"
             ],
             [
              0.8888888888888888,
              "#fdca26"
             ],
             [
              1,
              "#f0f921"
             ]
            ],
            "type": "histogram2d"
           }
          ],
          "histogram2dcontour": [
           {
            "colorbar": {
             "outlinewidth": 0,
             "ticks": ""
            },
            "colorscale": [
             [
              0,
              "#0d0887"
             ],
             [
              0.1111111111111111,
              "#46039f"
             ],
             [
              0.2222222222222222,
              "#7201a8"
             ],
             [
              0.3333333333333333,
              "#9c179e"
             ],
             [
              0.4444444444444444,
              "#bd3786"
             ],
             [
              0.5555555555555556,
              "#d8576b"
             ],
             [
              0.6666666666666666,
              "#ed7953"
             ],
             [
              0.7777777777777778,
              "#fb9f3a"
             ],
             [
              0.8888888888888888,
              "#fdca26"
             ],
             [
              1,
              "#f0f921"
             ]
            ],
            "type": "histogram2dcontour"
           }
          ],
          "mesh3d": [
           {
            "colorbar": {
             "outlinewidth": 0,
             "ticks": ""
            },
            "type": "mesh3d"
           }
          ],
          "parcoords": [
           {
            "line": {
             "colorbar": {
              "outlinewidth": 0,
              "ticks": ""
             }
            },
            "type": "parcoords"
           }
          ],
          "pie": [
           {
            "automargin": true,
            "type": "pie"
           }
          ],
          "scatter": [
           {
            "marker": {
             "colorbar": {
              "outlinewidth": 0,
              "ticks": ""
             }
            },
            "type": "scatter"
           }
          ],
          "scatter3d": [
           {
            "line": {
             "colorbar": {
              "outlinewidth": 0,
              "ticks": ""
             }
            },
            "marker": {
             "colorbar": {
              "outlinewidth": 0,
              "ticks": ""
             }
            },
            "type": "scatter3d"
           }
          ],
          "scattercarpet": [
           {
            "marker": {
             "colorbar": {
              "outlinewidth": 0,
              "ticks": ""
             }
            },
            "type": "scattercarpet"
           }
          ],
          "scattergeo": [
           {
            "marker": {
             "colorbar": {
              "outlinewidth": 0,
              "ticks": ""
             }
            },
            "type": "scattergeo"
           }
          ],
          "scattergl": [
           {
            "marker": {
             "colorbar": {
              "outlinewidth": 0,
              "ticks": ""
             }
            },
            "type": "scattergl"
           }
          ],
          "scattermapbox": [
           {
            "marker": {
             "colorbar": {
              "outlinewidth": 0,
              "ticks": ""
             }
            },
            "type": "scattermapbox"
           }
          ],
          "scatterpolar": [
           {
            "marker": {
             "colorbar": {
              "outlinewidth": 0,
              "ticks": ""
             }
            },
            "type": "scatterpolar"
           }
          ],
          "scatterpolargl": [
           {
            "marker": {
             "colorbar": {
              "outlinewidth": 0,
              "ticks": ""
             }
            },
            "type": "scatterpolargl"
           }
          ],
          "scatterternary": [
           {
            "marker": {
             "colorbar": {
              "outlinewidth": 0,
              "ticks": ""
             }
            },
            "type": "scatterternary"
           }
          ],
          "surface": [
           {
            "colorbar": {
             "outlinewidth": 0,
             "ticks": ""
            },
            "colorscale": [
             [
              0,
              "#0d0887"
             ],
             [
              0.1111111111111111,
              "#46039f"
             ],
             [
              0.2222222222222222,
              "#7201a8"
             ],
             [
              0.3333333333333333,
              "#9c179e"
             ],
             [
              0.4444444444444444,
              "#bd3786"
             ],
             [
              0.5555555555555556,
              "#d8576b"
             ],
             [
              0.6666666666666666,
              "#ed7953"
             ],
             [
              0.7777777777777778,
              "#fb9f3a"
             ],
             [
              0.8888888888888888,
              "#fdca26"
             ],
             [
              1,
              "#f0f921"
             ]
            ],
            "type": "surface"
           }
          ],
          "table": [
           {
            "cells": {
             "fill": {
              "color": "#EBF0F8"
             },
             "line": {
              "color": "white"
             }
            },
            "header": {
             "fill": {
              "color": "#C8D4E3"
             },
             "line": {
              "color": "white"
             }
            },
            "type": "table"
           }
          ]
         },
         "layout": {
          "annotationdefaults": {
           "arrowcolor": "#2a3f5f",
           "arrowhead": 0,
           "arrowwidth": 1
          },
          "coloraxis": {
           "colorbar": {
            "outlinewidth": 0,
            "ticks": ""
           }
          },
          "colorscale": {
           "diverging": [
            [
             0,
             "#8e0152"
            ],
            [
             0.1,
             "#c51b7d"
            ],
            [
             0.2,
             "#de77ae"
            ],
            [
             0.3,
             "#f1b6da"
            ],
            [
             0.4,
             "#fde0ef"
            ],
            [
             0.5,
             "#f7f7f7"
            ],
            [
             0.6,
             "#e6f5d0"
            ],
            [
             0.7,
             "#b8e186"
            ],
            [
             0.8,
             "#7fbc41"
            ],
            [
             0.9,
             "#4d9221"
            ],
            [
             1,
             "#276419"
            ]
           ],
           "sequential": [
            [
             0,
             "#0d0887"
            ],
            [
             0.1111111111111111,
             "#46039f"
            ],
            [
             0.2222222222222222,
             "#7201a8"
            ],
            [
             0.3333333333333333,
             "#9c179e"
            ],
            [
             0.4444444444444444,
             "#bd3786"
            ],
            [
             0.5555555555555556,
             "#d8576b"
            ],
            [
             0.6666666666666666,
             "#ed7953"
            ],
            [
             0.7777777777777778,
             "#fb9f3a"
            ],
            [
             0.8888888888888888,
             "#fdca26"
            ],
            [
             1,
             "#f0f921"
            ]
           ],
           "sequentialminus": [
            [
             0,
             "#0d0887"
            ],
            [
             0.1111111111111111,
             "#46039f"
            ],
            [
             0.2222222222222222,
             "#7201a8"
            ],
            [
             0.3333333333333333,
             "#9c179e"
            ],
            [
             0.4444444444444444,
             "#bd3786"
            ],
            [
             0.5555555555555556,
             "#d8576b"
            ],
            [
             0.6666666666666666,
             "#ed7953"
            ],
            [
             0.7777777777777778,
             "#fb9f3a"
            ],
            [
             0.8888888888888888,
             "#fdca26"
            ],
            [
             1,
             "#f0f921"
            ]
           ]
          },
          "colorway": [
           "#636efa",
           "#EF553B",
           "#00cc96",
           "#ab63fa",
           "#FFA15A",
           "#19d3f3",
           "#FF6692",
           "#B6E880",
           "#FF97FF",
           "#FECB52"
          ],
          "font": {
           "color": "#2a3f5f"
          },
          "geo": {
           "bgcolor": "white",
           "lakecolor": "white",
           "landcolor": "#E5ECF6",
           "showlakes": true,
           "showland": true,
           "subunitcolor": "white"
          },
          "hoverlabel": {
           "align": "left"
          },
          "hovermode": "closest",
          "mapbox": {
           "style": "light"
          },
          "paper_bgcolor": "white",
          "plot_bgcolor": "#E5ECF6",
          "polar": {
           "angularaxis": {
            "gridcolor": "white",
            "linecolor": "white",
            "ticks": ""
           },
           "bgcolor": "#E5ECF6",
           "radialaxis": {
            "gridcolor": "white",
            "linecolor": "white",
            "ticks": ""
           }
          },
          "scene": {
           "xaxis": {
            "backgroundcolor": "#E5ECF6",
            "gridcolor": "white",
            "gridwidth": 2,
            "linecolor": "white",
            "showbackground": true,
            "ticks": "",
            "zerolinecolor": "white"
           },
           "yaxis": {
            "backgroundcolor": "#E5ECF6",
            "gridcolor": "white",
            "gridwidth": 2,
            "linecolor": "white",
            "showbackground": true,
            "ticks": "",
            "zerolinecolor": "white"
           },
           "zaxis": {
            "backgroundcolor": "#E5ECF6",
            "gridcolor": "white",
            "gridwidth": 2,
            "linecolor": "white",
            "showbackground": true,
            "ticks": "",
            "zerolinecolor": "white"
           }
          },
          "shapedefaults": {
           "line": {
            "color": "#2a3f5f"
           }
          },
          "ternary": {
           "aaxis": {
            "gridcolor": "white",
            "linecolor": "white",
            "ticks": ""
           },
           "baxis": {
            "gridcolor": "white",
            "linecolor": "white",
            "ticks": ""
           },
           "bgcolor": "#E5ECF6",
           "caxis": {
            "gridcolor": "white",
            "linecolor": "white",
            "ticks": ""
           }
          },
          "title": {
           "x": 0.05
          },
          "xaxis": {
           "automargin": true,
           "gridcolor": "white",
           "linecolor": "white",
           "ticks": "",
           "title": {
            "standoff": 15
           },
           "zerolinecolor": "white",
           "zerolinewidth": 2
          },
          "yaxis": {
           "automargin": true,
           "gridcolor": "white",
           "linecolor": "white",
           "ticks": "",
           "title": {
            "standoff": 15
           },
           "zerolinecolor": "white",
           "zerolinewidth": 2
          }
         }
        },
        "title": {
         "text": "Scatter Plot"
        },
        "xaxis": {
         "title": {
          "text": "Valotes X"
         }
        },
        "yaxis": {
         "title": {
          "text": "Valotes Y"
         }
        }
       }
      },
      "text/html": [
       "<div>\n",
       "        \n",
       "        \n",
       "            <div id=\"8e18d75d-f9e3-480d-aa49-c48088cfb445\" class=\"plotly-graph-div\" style=\"height:525px; width:100%;\"></div>\n",
       "            <script type=\"text/javascript\">\n",
       "                require([\"plotly\"], function(Plotly) {\n",
       "                    window.PLOTLYENV=window.PLOTLYENV || {};\n",
       "                    \n",
       "                if (document.getElementById(\"8e18d75d-f9e3-480d-aa49-c48088cfb445\")) {\n",
       "                    Plotly.newPlot(\n",
       "                        '8e18d75d-f9e3-480d-aa49-c48088cfb445',\n",
       "                        [{\"marker\": {\"color\": \"green\", \"line\": {\"width\": 2}, \"size\": 12, \"symbol\": \"square\"}, \"mode\": \"markers\", \"type\": \"scatter\", \"x\": [5, 28, 21, 49, 88, 11, 82, 39, 4, 1, 16, 19, 65, 28, 81, 11, 47, 48, 24, 98, 98, 16, 91, 38, 74, 36, 75, 91, 93, 70, 99, 25, 36, 64, 95, 70, 38, 78, 17, 94, 96, 65, 13, 51, 84, 89, 7, 58, 87, 14], \"y\": [45, 57, 0, 82, 85, 89, 42, 80, 28, 54, 53, 87, 89, 64, 90, 5, 38, 7, 37, 40, 95, 12, 25, 70, 65, 55, 3, 80, 41, 66, 60, 24, 45, 0, 54, 2, 47, 10, 69, 95, 40, 10, 56, 33, 50, 24, 84, 6, 59, 75]}],\n",
       "                        {\"template\": {\"data\": {\"bar\": [{\"error_x\": {\"color\": \"#2a3f5f\"}, \"error_y\": {\"color\": \"#2a3f5f\"}, \"marker\": {\"line\": {\"color\": \"#E5ECF6\", \"width\": 0.5}}, \"type\": \"bar\"}], \"barpolar\": [{\"marker\": {\"line\": {\"color\": \"#E5ECF6\", \"width\": 0.5}}, \"type\": \"barpolar\"}], \"carpet\": [{\"aaxis\": {\"endlinecolor\": \"#2a3f5f\", \"gridcolor\": \"white\", \"linecolor\": \"white\", \"minorgridcolor\": \"white\", \"startlinecolor\": \"#2a3f5f\"}, \"baxis\": {\"endlinecolor\": \"#2a3f5f\", \"gridcolor\": \"white\", \"linecolor\": \"white\", \"minorgridcolor\": \"white\", \"startlinecolor\": \"#2a3f5f\"}, \"type\": \"carpet\"}], \"choropleth\": [{\"colorbar\": {\"outlinewidth\": 0, \"ticks\": \"\"}, \"type\": \"choropleth\"}], \"contour\": [{\"colorbar\": {\"outlinewidth\": 0, \"ticks\": \"\"}, \"colorscale\": [[0.0, \"#0d0887\"], [0.1111111111111111, \"#46039f\"], [0.2222222222222222, \"#7201a8\"], [0.3333333333333333, \"#9c179e\"], [0.4444444444444444, \"#bd3786\"], [0.5555555555555556, \"#d8576b\"], [0.6666666666666666, \"#ed7953\"], [0.7777777777777778, \"#fb9f3a\"], [0.8888888888888888, \"#fdca26\"], [1.0, \"#f0f921\"]], \"type\": \"contour\"}], \"contourcarpet\": [{\"colorbar\": {\"outlinewidth\": 0, \"ticks\": \"\"}, \"type\": \"contourcarpet\"}], \"heatmap\": [{\"colorbar\": {\"outlinewidth\": 0, \"ticks\": \"\"}, \"colorscale\": [[0.0, \"#0d0887\"], [0.1111111111111111, \"#46039f\"], [0.2222222222222222, \"#7201a8\"], [0.3333333333333333, \"#9c179e\"], [0.4444444444444444, \"#bd3786\"], [0.5555555555555556, \"#d8576b\"], [0.6666666666666666, \"#ed7953\"], [0.7777777777777778, \"#fb9f3a\"], [0.8888888888888888, \"#fdca26\"], [1.0, \"#f0f921\"]], \"type\": \"heatmap\"}], \"heatmapgl\": [{\"colorbar\": {\"outlinewidth\": 0, \"ticks\": \"\"}, \"colorscale\": [[0.0, \"#0d0887\"], [0.1111111111111111, \"#46039f\"], [0.2222222222222222, \"#7201a8\"], [0.3333333333333333, \"#9c179e\"], [0.4444444444444444, \"#bd3786\"], [0.5555555555555556, \"#d8576b\"], [0.6666666666666666, \"#ed7953\"], [0.7777777777777778, \"#fb9f3a\"], [0.8888888888888888, \"#fdca26\"], [1.0, \"#f0f921\"]], \"type\": \"heatmapgl\"}], \"histogram\": [{\"marker\": {\"colorbar\": {\"outlinewidth\": 0, \"ticks\": \"\"}}, \"type\": \"histogram\"}], \"histogram2d\": [{\"colorbar\": {\"outlinewidth\": 0, \"ticks\": \"\"}, \"colorscale\": [[0.0, \"#0d0887\"], [0.1111111111111111, \"#46039f\"], [0.2222222222222222, \"#7201a8\"], [0.3333333333333333, \"#9c179e\"], [0.4444444444444444, \"#bd3786\"], [0.5555555555555556, \"#d8576b\"], [0.6666666666666666, \"#ed7953\"], [0.7777777777777778, \"#fb9f3a\"], [0.8888888888888888, \"#fdca26\"], [1.0, \"#f0f921\"]], \"type\": \"histogram2d\"}], \"histogram2dcontour\": [{\"colorbar\": {\"outlinewidth\": 0, \"ticks\": \"\"}, \"colorscale\": [[0.0, \"#0d0887\"], [0.1111111111111111, \"#46039f\"], [0.2222222222222222, \"#7201a8\"], [0.3333333333333333, \"#9c179e\"], [0.4444444444444444, \"#bd3786\"], [0.5555555555555556, \"#d8576b\"], [0.6666666666666666, \"#ed7953\"], [0.7777777777777778, \"#fb9f3a\"], [0.8888888888888888, \"#fdca26\"], [1.0, \"#f0f921\"]], \"type\": \"histogram2dcontour\"}], \"mesh3d\": [{\"colorbar\": {\"outlinewidth\": 0, \"ticks\": \"\"}, \"type\": \"mesh3d\"}], \"parcoords\": [{\"line\": {\"colorbar\": {\"outlinewidth\": 0, \"ticks\": \"\"}}, \"type\": \"parcoords\"}], \"pie\": [{\"automargin\": true, \"type\": \"pie\"}], \"scatter\": [{\"marker\": {\"colorbar\": {\"outlinewidth\": 0, \"ticks\": \"\"}}, \"type\": \"scatter\"}], \"scatter3d\": [{\"line\": {\"colorbar\": {\"outlinewidth\": 0, \"ticks\": \"\"}}, \"marker\": {\"colorbar\": {\"outlinewidth\": 0, \"ticks\": \"\"}}, \"type\": \"scatter3d\"}], \"scattercarpet\": [{\"marker\": {\"colorbar\": {\"outlinewidth\": 0, \"ticks\": \"\"}}, \"type\": \"scattercarpet\"}], \"scattergeo\": [{\"marker\": {\"colorbar\": {\"outlinewidth\": 0, \"ticks\": \"\"}}, \"type\": \"scattergeo\"}], \"scattergl\": [{\"marker\": {\"colorbar\": {\"outlinewidth\": 0, \"ticks\": \"\"}}, \"type\": \"scattergl\"}], \"scattermapbox\": [{\"marker\": {\"colorbar\": {\"outlinewidth\": 0, \"ticks\": \"\"}}, \"type\": \"scattermapbox\"}], \"scatterpolar\": [{\"marker\": {\"colorbar\": {\"outlinewidth\": 0, \"ticks\": \"\"}}, \"type\": \"scatterpolar\"}], \"scatterpolargl\": [{\"marker\": {\"colorbar\": {\"outlinewidth\": 0, \"ticks\": \"\"}}, \"type\": \"scatterpolargl\"}], \"scatterternary\": [{\"marker\": {\"colorbar\": {\"outlinewidth\": 0, \"ticks\": \"\"}}, \"type\": \"scatterternary\"}], \"surface\": [{\"colorbar\": {\"outlinewidth\": 0, \"ticks\": \"\"}, \"colorscale\": [[0.0, \"#0d0887\"], [0.1111111111111111, \"#46039f\"], [0.2222222222222222, \"#7201a8\"], [0.3333333333333333, \"#9c179e\"], [0.4444444444444444, \"#bd3786\"], [0.5555555555555556, \"#d8576b\"], [0.6666666666666666, \"#ed7953\"], [0.7777777777777778, \"#fb9f3a\"], [0.8888888888888888, \"#fdca26\"], [1.0, \"#f0f921\"]], \"type\": \"surface\"}], \"table\": [{\"cells\": {\"fill\": {\"color\": \"#EBF0F8\"}, \"line\": {\"color\": \"white\"}}, \"header\": {\"fill\": {\"color\": \"#C8D4E3\"}, \"line\": {\"color\": \"white\"}}, \"type\": \"table\"}]}, \"layout\": {\"annotationdefaults\": {\"arrowcolor\": \"#2a3f5f\", \"arrowhead\": 0, \"arrowwidth\": 1}, \"coloraxis\": {\"colorbar\": {\"outlinewidth\": 0, \"ticks\": \"\"}}, \"colorscale\": {\"diverging\": [[0, \"#8e0152\"], [0.1, \"#c51b7d\"], [0.2, \"#de77ae\"], [0.3, \"#f1b6da\"], [0.4, \"#fde0ef\"], [0.5, \"#f7f7f7\"], [0.6, \"#e6f5d0\"], [0.7, \"#b8e186\"], [0.8, \"#7fbc41\"], [0.9, \"#4d9221\"], [1, \"#276419\"]], \"sequential\": [[0.0, \"#0d0887\"], [0.1111111111111111, \"#46039f\"], [0.2222222222222222, \"#7201a8\"], [0.3333333333333333, \"#9c179e\"], [0.4444444444444444, \"#bd3786\"], [0.5555555555555556, \"#d8576b\"], [0.6666666666666666, \"#ed7953\"], [0.7777777777777778, \"#fb9f3a\"], [0.8888888888888888, \"#fdca26\"], [1.0, \"#f0f921\"]], \"sequentialminus\": [[0.0, \"#0d0887\"], [0.1111111111111111, \"#46039f\"], [0.2222222222222222, \"#7201a8\"], [0.3333333333333333, \"#9c179e\"], [0.4444444444444444, \"#bd3786\"], [0.5555555555555556, \"#d8576b\"], [0.6666666666666666, \"#ed7953\"], [0.7777777777777778, \"#fb9f3a\"], [0.8888888888888888, \"#fdca26\"], [1.0, \"#f0f921\"]]}, \"colorway\": [\"#636efa\", \"#EF553B\", \"#00cc96\", \"#ab63fa\", \"#FFA15A\", \"#19d3f3\", \"#FF6692\", \"#B6E880\", \"#FF97FF\", \"#FECB52\"], \"font\": {\"color\": \"#2a3f5f\"}, \"geo\": {\"bgcolor\": \"white\", \"lakecolor\": \"white\", \"landcolor\": \"#E5ECF6\", \"showlakes\": true, \"showland\": true, \"subunitcolor\": \"white\"}, \"hoverlabel\": {\"align\": \"left\"}, \"hovermode\": \"closest\", \"mapbox\": {\"style\": \"light\"}, \"paper_bgcolor\": \"white\", \"plot_bgcolor\": \"#E5ECF6\", \"polar\": {\"angularaxis\": {\"gridcolor\": \"white\", \"linecolor\": \"white\", \"ticks\": \"\"}, \"bgcolor\": \"#E5ECF6\", \"radialaxis\": {\"gridcolor\": \"white\", \"linecolor\": \"white\", \"ticks\": \"\"}}, \"scene\": {\"xaxis\": {\"backgroundcolor\": \"#E5ECF6\", \"gridcolor\": \"white\", \"gridwidth\": 2, \"linecolor\": \"white\", \"showbackground\": true, \"ticks\": \"\", \"zerolinecolor\": \"white\"}, \"yaxis\": {\"backgroundcolor\": \"#E5ECF6\", \"gridcolor\": \"white\", \"gridwidth\": 2, \"linecolor\": \"white\", \"showbackground\": true, \"ticks\": \"\", \"zerolinecolor\": \"white\"}, \"zaxis\": {\"backgroundcolor\": \"#E5ECF6\", \"gridcolor\": \"white\", \"gridwidth\": 2, \"linecolor\": \"white\", \"showbackground\": true, \"ticks\": \"\", \"zerolinecolor\": \"white\"}}, \"shapedefaults\": {\"line\": {\"color\": \"#2a3f5f\"}}, \"ternary\": {\"aaxis\": {\"gridcolor\": \"white\", \"linecolor\": \"white\", \"ticks\": \"\"}, \"baxis\": {\"gridcolor\": \"white\", \"linecolor\": \"white\", \"ticks\": \"\"}, \"bgcolor\": \"#E5ECF6\", \"caxis\": {\"gridcolor\": \"white\", \"linecolor\": \"white\", \"ticks\": \"\"}}, \"title\": {\"x\": 0.05}, \"xaxis\": {\"automargin\": true, \"gridcolor\": \"white\", \"linecolor\": \"white\", \"ticks\": \"\", \"title\": {\"standoff\": 15}, \"zerolinecolor\": \"white\", \"zerolinewidth\": 2}, \"yaxis\": {\"automargin\": true, \"gridcolor\": \"white\", \"linecolor\": \"white\", \"ticks\": \"\", \"title\": {\"standoff\": 15}, \"zerolinecolor\": \"white\", \"zerolinewidth\": 2}}}, \"title\": {\"text\": \"Scatter Plot\"}, \"xaxis\": {\"title\": {\"text\": \"Valotes X\"}}, \"yaxis\": {\"title\": {\"text\": \"Valotes Y\"}}},\n",
       "                        {\"responsive\": true}\n",
       "                    ).then(function(){\n",
       "                            \n",
       "var gd = document.getElementById('8e18d75d-f9e3-480d-aa49-c48088cfb445');\n",
       "var x = new MutationObserver(function (mutations, observer) {{\n",
       "        var display = window.getComputedStyle(gd).display;\n",
       "        if (!display || display === 'none') {{\n",
       "            console.log([gd, 'removed!']);\n",
       "            Plotly.purge(gd);\n",
       "            observer.disconnect();\n",
       "        }}\n",
       "}});\n",
       "\n",
       "// Listen for the removal of the full notebook cells\n",
       "var notebookContainer = gd.closest('#notebook-container');\n",
       "if (notebookContainer) {{\n",
       "    x.observe(notebookContainer, {childList: true});\n",
       "}}\n",
       "\n",
       "// Listen for the clearing of the current output cell\n",
       "var outputEl = gd.closest('.output');\n",
       "if (outputEl) {{\n",
       "    x.observe(outputEl, {childList: true});\n",
       "}}\n",
       "\n",
       "                        })\n",
       "                };\n",
       "                });\n",
       "            </script>\n",
       "        </div>"
      ]
     },
     "metadata": {},
     "output_type": "display_data"
    }
   ],
   "source": [
    "pyo.iplot(figura)"
   ]
  },
  {
   "cell_type": "markdown",
   "metadata": {},
   "source": [
    "<div class='alert alert-info' style='padding: 0 0 10px'>\n",
    "    <h2 style='text-align: center'>Linear Plot</h2>\n",
    "</div>"
   ]
  },
  {
   "cell_type": "code",
   "execution_count": 10,
   "metadata": {},
   "outputs": [
    {
     "data": {
      "application/vnd.plotly.v1+json": {
       "config": {
        "linkText": "Export to plot.ly",
        "plotlyServerURL": "https://plot.ly",
        "showLink": false
       },
       "data": [
        {
         "mode": "lines",
         "type": "scatter",
         "x": [
          0,
          0.02040816326530612,
          0.04081632653061224,
          0.061224489795918366,
          0.08163265306122448,
          0.1020408163265306,
          0.12244897959183673,
          0.14285714285714285,
          0.16326530612244897,
          0.18367346938775508,
          0.2040816326530612,
          0.22448979591836732,
          0.24489795918367346,
          0.26530612244897955,
          0.2857142857142857,
          0.3061224489795918,
          0.32653061224489793,
          0.3469387755102041,
          0.36734693877551017,
          0.3877551020408163,
          0.4081632653061224,
          0.42857142857142855,
          0.44897959183673464,
          0.4693877551020408,
          0.4897959183673469,
          0.5102040816326531,
          0.5306122448979591,
          0.5510204081632653,
          0.5714285714285714,
          0.5918367346938775,
          0.6122448979591836,
          0.6326530612244897,
          0.6530612244897959,
          0.673469387755102,
          0.6938775510204082,
          0.7142857142857142,
          0.7346938775510203,
          0.7551020408163265,
          0.7755102040816326,
          0.7959183673469387,
          0.8163265306122448,
          0.836734693877551,
          0.8571428571428571,
          0.8775510204081632,
          0.8979591836734693,
          0.9183673469387754,
          0.9387755102040816,
          0.9591836734693877,
          0.9795918367346939,
          1
         ],
         "y": [
          -3.201799391562319,
          1.2375099973029546,
          -0.1869823913386781,
          -0.017343040553904017,
          -0.21403915439326895,
          0.19760884437884518,
          1.1227815613292493,
          -1.4092313998842672,
          2.370268836072866,
          1.2490092204828882,
          0.978762640976246,
          -1.1931196001091067,
          0.24362566943832384,
          1.6980199741478994,
          -0.7380562149374104,
          -0.15720734339473433,
          -0.009332885699868058,
          1.0177819091657203,
          -0.26669646182585766,
          1.0750231009901938,
          0.17744597774085857,
          0.30739377462869333,
          -0.9930722861159115,
          0.8166707524618102,
          0.7051281872472593,
          -0.4317260012112576,
          -0.3682867156695008,
          1.1109551146624481,
          -0.605720981600092,
          -2.336883378893241,
          0.21941001636282456,
          -0.03465622365181186,
          1.0311845079767896,
          -0.6555516292169518,
          -1.562167883177702,
          0.3640466174502955,
          -1.3310715900652506,
          0.5425060968179883,
          -0.5562195640683478,
          1.3313441919115265,
          -0.8537549741274173,
          -0.2355005740800836,
          1.3543406830259976,
          -0.9900115226857703,
          1.2271808056380897,
          -1.4578795011024317,
          -2.198546458781493,
          1.6869326604326154,
          0.11297875129608893,
          0.3484422542837742
         ]
        }
       ],
       "layout": {
        "template": {
         "data": {
          "bar": [
           {
            "error_x": {
             "color": "#2a3f5f"
            },
            "error_y": {
             "color": "#2a3f5f"
            },
            "marker": {
             "line": {
              "color": "#E5ECF6",
              "width": 0.5
             }
            },
            "type": "bar"
           }
          ],
          "barpolar": [
           {
            "marker": {
             "line": {
              "color": "#E5ECF6",
              "width": 0.5
             }
            },
            "type": "barpolar"
           }
          ],
          "carpet": [
           {
            "aaxis": {
             "endlinecolor": "#2a3f5f",
             "gridcolor": "white",
             "linecolor": "white",
             "minorgridcolor": "white",
             "startlinecolor": "#2a3f5f"
            },
            "baxis": {
             "endlinecolor": "#2a3f5f",
             "gridcolor": "white",
             "linecolor": "white",
             "minorgridcolor": "white",
             "startlinecolor": "#2a3f5f"
            },
            "type": "carpet"
           }
          ],
          "choropleth": [
           {
            "colorbar": {
             "outlinewidth": 0,
             "ticks": ""
            },
            "type": "choropleth"
           }
          ],
          "contour": [
           {
            "colorbar": {
             "outlinewidth": 0,
             "ticks": ""
            },
            "colorscale": [
             [
              0,
              "#0d0887"
             ],
             [
              0.1111111111111111,
              "#46039f"
             ],
             [
              0.2222222222222222,
              "#7201a8"
             ],
             [
              0.3333333333333333,
              "#9c179e"
             ],
             [
              0.4444444444444444,
              "#bd3786"
             ],
             [
              0.5555555555555556,
              "#d8576b"
             ],
             [
              0.6666666666666666,
              "#ed7953"
             ],
             [
              0.7777777777777778,
              "#fb9f3a"
             ],
             [
              0.8888888888888888,
              "#fdca26"
             ],
             [
              1,
              "#f0f921"
             ]
            ],
            "type": "contour"
           }
          ],
          "contourcarpet": [
           {
            "colorbar": {
             "outlinewidth": 0,
             "ticks": ""
            },
            "type": "contourcarpet"
           }
          ],
          "heatmap": [
           {
            "colorbar": {
             "outlinewidth": 0,
             "ticks": ""
            },
            "colorscale": [
             [
              0,
              "#0d0887"
             ],
             [
              0.1111111111111111,
              "#46039f"
             ],
             [
              0.2222222222222222,
              "#7201a8"
             ],
             [
              0.3333333333333333,
              "#9c179e"
             ],
             [
              0.4444444444444444,
              "#bd3786"
             ],
             [
              0.5555555555555556,
              "#d8576b"
             ],
             [
              0.6666666666666666,
              "#ed7953"
             ],
             [
              0.7777777777777778,
              "#fb9f3a"
             ],
             [
              0.8888888888888888,
              "#fdca26"
             ],
             [
              1,
              "#f0f921"
             ]
            ],
            "type": "heatmap"
           }
          ],
          "heatmapgl": [
           {
            "colorbar": {
             "outlinewidth": 0,
             "ticks": ""
            },
            "colorscale": [
             [
              0,
              "#0d0887"
             ],
             [
              0.1111111111111111,
              "#46039f"
             ],
             [
              0.2222222222222222,
              "#7201a8"
             ],
             [
              0.3333333333333333,
              "#9c179e"
             ],
             [
              0.4444444444444444,
              "#bd3786"
             ],
             [
              0.5555555555555556,
              "#d8576b"
             ],
             [
              0.6666666666666666,
              "#ed7953"
             ],
             [
              0.7777777777777778,
              "#fb9f3a"
             ],
             [
              0.8888888888888888,
              "#fdca26"
             ],
             [
              1,
              "#f0f921"
             ]
            ],
            "type": "heatmapgl"
           }
          ],
          "histogram": [
           {
            "marker": {
             "colorbar": {
              "outlinewidth": 0,
              "ticks": ""
             }
            },
            "type": "histogram"
           }
          ],
          "histogram2d": [
           {
            "colorbar": {
             "outlinewidth": 0,
             "ticks": ""
            },
            "colorscale": [
             [
              0,
              "#0d0887"
             ],
             [
              0.1111111111111111,
              "#46039f"
             ],
             [
              0.2222222222222222,
              "#7201a8"
             ],
             [
              0.3333333333333333,
              "#9c179e"
             ],
             [
              0.4444444444444444,
              "#bd3786"
             ],
             [
              0.5555555555555556,
              "#d8576b"
             ],
             [
              0.6666666666666666,
              "#ed7953"
             ],
             [
              0.7777777777777778,
              "#fb9f3a"
             ],
             [
              0.8888888888888888,
              "#fdca26"
             ],
             [
              1,
              "#f0f921"
             ]
            ],
            "type": "histogram2d"
           }
          ],
          "histogram2dcontour": [
           {
            "colorbar": {
             "outlinewidth": 0,
             "ticks": ""
            },
            "colorscale": [
             [
              0,
              "#0d0887"
             ],
             [
              0.1111111111111111,
              "#46039f"
             ],
             [
              0.2222222222222222,
              "#7201a8"
             ],
             [
              0.3333333333333333,
              "#9c179e"
             ],
             [
              0.4444444444444444,
              "#bd3786"
             ],
             [
              0.5555555555555556,
              "#d8576b"
             ],
             [
              0.6666666666666666,
              "#ed7953"
             ],
             [
              0.7777777777777778,
              "#fb9f3a"
             ],
             [
              0.8888888888888888,
              "#fdca26"
             ],
             [
              1,
              "#f0f921"
             ]
            ],
            "type": "histogram2dcontour"
           }
          ],
          "mesh3d": [
           {
            "colorbar": {
             "outlinewidth": 0,
             "ticks": ""
            },
            "type": "mesh3d"
           }
          ],
          "parcoords": [
           {
            "line": {
             "colorbar": {
              "outlinewidth": 0,
              "ticks": ""
             }
            },
            "type": "parcoords"
           }
          ],
          "pie": [
           {
            "automargin": true,
            "type": "pie"
           }
          ],
          "scatter": [
           {
            "marker": {
             "colorbar": {
              "outlinewidth": 0,
              "ticks": ""
             }
            },
            "type": "scatter"
           }
          ],
          "scatter3d": [
           {
            "line": {
             "colorbar": {
              "outlinewidth": 0,
              "ticks": ""
             }
            },
            "marker": {
             "colorbar": {
              "outlinewidth": 0,
              "ticks": ""
             }
            },
            "type": "scatter3d"
           }
          ],
          "scattercarpet": [
           {
            "marker": {
             "colorbar": {
              "outlinewidth": 0,
              "ticks": ""
             }
            },
            "type": "scattercarpet"
           }
          ],
          "scattergeo": [
           {
            "marker": {
             "colorbar": {
              "outlinewidth": 0,
              "ticks": ""
             }
            },
            "type": "scattergeo"
           }
          ],
          "scattergl": [
           {
            "marker": {
             "colorbar": {
              "outlinewidth": 0,
              "ticks": ""
             }
            },
            "type": "scattergl"
           }
          ],
          "scattermapbox": [
           {
            "marker": {
             "colorbar": {
              "outlinewidth": 0,
              "ticks": ""
             }
            },
            "type": "scattermapbox"
           }
          ],
          "scatterpolar": [
           {
            "marker": {
             "colorbar": {
              "outlinewidth": 0,
              "ticks": ""
             }
            },
            "type": "scatterpolar"
           }
          ],
          "scatterpolargl": [
           {
            "marker": {
             "colorbar": {
              "outlinewidth": 0,
              "ticks": ""
             }
            },
            "type": "scatterpolargl"
           }
          ],
          "scatterternary": [
           {
            "marker": {
             "colorbar": {
              "outlinewidth": 0,
              "ticks": ""
             }
            },
            "type": "scatterternary"
           }
          ],
          "surface": [
           {
            "colorbar": {
             "outlinewidth": 0,
             "ticks": ""
            },
            "colorscale": [
             [
              0,
              "#0d0887"
             ],
             [
              0.1111111111111111,
              "#46039f"
             ],
             [
              0.2222222222222222,
              "#7201a8"
             ],
             [
              0.3333333333333333,
              "#9c179e"
             ],
             [
              0.4444444444444444,
              "#bd3786"
             ],
             [
              0.5555555555555556,
              "#d8576b"
             ],
             [
              0.6666666666666666,
              "#ed7953"
             ],
             [
              0.7777777777777778,
              "#fb9f3a"
             ],
             [
              0.8888888888888888,
              "#fdca26"
             ],
             [
              1,
              "#f0f921"
             ]
            ],
            "type": "surface"
           }
          ],
          "table": [
           {
            "cells": {
             "fill": {
              "color": "#EBF0F8"
             },
             "line": {
              "color": "white"
             }
            },
            "header": {
             "fill": {
              "color": "#C8D4E3"
             },
             "line": {
              "color": "white"
             }
            },
            "type": "table"
           }
          ]
         },
         "layout": {
          "annotationdefaults": {
           "arrowcolor": "#2a3f5f",
           "arrowhead": 0,
           "arrowwidth": 1
          },
          "coloraxis": {
           "colorbar": {
            "outlinewidth": 0,
            "ticks": ""
           }
          },
          "colorscale": {
           "diverging": [
            [
             0,
             "#8e0152"
            ],
            [
             0.1,
             "#c51b7d"
            ],
            [
             0.2,
             "#de77ae"
            ],
            [
             0.3,
             "#f1b6da"
            ],
            [
             0.4,
             "#fde0ef"
            ],
            [
             0.5,
             "#f7f7f7"
            ],
            [
             0.6,
             "#e6f5d0"
            ],
            [
             0.7,
             "#b8e186"
            ],
            [
             0.8,
             "#7fbc41"
            ],
            [
             0.9,
             "#4d9221"
            ],
            [
             1,
             "#276419"
            ]
           ],
           "sequential": [
            [
             0,
             "#0d0887"
            ],
            [
             0.1111111111111111,
             "#46039f"
            ],
            [
             0.2222222222222222,
             "#7201a8"
            ],
            [
             0.3333333333333333,
             "#9c179e"
            ],
            [
             0.4444444444444444,
             "#bd3786"
            ],
            [
             0.5555555555555556,
             "#d8576b"
            ],
            [
             0.6666666666666666,
             "#ed7953"
            ],
            [
             0.7777777777777778,
             "#fb9f3a"
            ],
            [
             0.8888888888888888,
             "#fdca26"
            ],
            [
             1,
             "#f0f921"
            ]
           ],
           "sequentialminus": [
            [
             0,
             "#0d0887"
            ],
            [
             0.1111111111111111,
             "#46039f"
            ],
            [
             0.2222222222222222,
             "#7201a8"
            ],
            [
             0.3333333333333333,
             "#9c179e"
            ],
            [
             0.4444444444444444,
             "#bd3786"
            ],
            [
             0.5555555555555556,
             "#d8576b"
            ],
            [
             0.6666666666666666,
             "#ed7953"
            ],
            [
             0.7777777777777778,
             "#fb9f3a"
            ],
            [
             0.8888888888888888,
             "#fdca26"
            ],
            [
             1,
             "#f0f921"
            ]
           ]
          },
          "colorway": [
           "#636efa",
           "#EF553B",
           "#00cc96",
           "#ab63fa",
           "#FFA15A",
           "#19d3f3",
           "#FF6692",
           "#B6E880",
           "#FF97FF",
           "#FECB52"
          ],
          "font": {
           "color": "#2a3f5f"
          },
          "geo": {
           "bgcolor": "white",
           "lakecolor": "white",
           "landcolor": "#E5ECF6",
           "showlakes": true,
           "showland": true,
           "subunitcolor": "white"
          },
          "hoverlabel": {
           "align": "left"
          },
          "hovermode": "closest",
          "mapbox": {
           "style": "light"
          },
          "paper_bgcolor": "white",
          "plot_bgcolor": "#E5ECF6",
          "polar": {
           "angularaxis": {
            "gridcolor": "white",
            "linecolor": "white",
            "ticks": ""
           },
           "bgcolor": "#E5ECF6",
           "radialaxis": {
            "gridcolor": "white",
            "linecolor": "white",
            "ticks": ""
           }
          },
          "scene": {
           "xaxis": {
            "backgroundcolor": "#E5ECF6",
            "gridcolor": "white",
            "gridwidth": 2,
            "linecolor": "white",
            "showbackground": true,
            "ticks": "",
            "zerolinecolor": "white"
           },
           "yaxis": {
            "backgroundcolor": "#E5ECF6",
            "gridcolor": "white",
            "gridwidth": 2,
            "linecolor": "white",
            "showbackground": true,
            "ticks": "",
            "zerolinecolor": "white"
           },
           "zaxis": {
            "backgroundcolor": "#E5ECF6",
            "gridcolor": "white",
            "gridwidth": 2,
            "linecolor": "white",
            "showbackground": true,
            "ticks": "",
            "zerolinecolor": "white"
           }
          },
          "shapedefaults": {
           "line": {
            "color": "#2a3f5f"
           }
          },
          "ternary": {
           "aaxis": {
            "gridcolor": "white",
            "linecolor": "white",
            "ticks": ""
           },
           "baxis": {
            "gridcolor": "white",
            "linecolor": "white",
            "ticks": ""
           },
           "bgcolor": "#E5ECF6",
           "caxis": {
            "gridcolor": "white",
            "linecolor": "white",
            "ticks": ""
           }
          },
          "title": {
           "x": 0.05
          },
          "xaxis": {
           "automargin": true,
           "gridcolor": "white",
           "linecolor": "white",
           "ticks": "",
           "title": {
            "standoff": 15
           },
           "zerolinecolor": "white",
           "zerolinewidth": 2
          },
          "yaxis": {
           "automargin": true,
           "gridcolor": "white",
           "linecolor": "white",
           "ticks": "",
           "title": {
            "standoff": 15
           },
           "zerolinecolor": "white",
           "zerolinewidth": 2
          }
         }
        },
        "title": {
         "text": "Linear Plot"
        },
        "xaxis": {
         "title": {
          "text": "Valotes X"
         }
        },
        "yaxis": {
         "title": {
          "text": "Valotes Y"
         }
        }
       }
      },
      "text/html": [
       "<div>\n",
       "        \n",
       "        \n",
       "            <div id=\"b5724571-4325-4b56-9b26-7c1f547acb11\" class=\"plotly-graph-div\" style=\"height:525px; width:100%;\"></div>\n",
       "            <script type=\"text/javascript\">\n",
       "                require([\"plotly\"], function(Plotly) {\n",
       "                    window.PLOTLYENV=window.PLOTLYENV || {};\n",
       "                    \n",
       "                if (document.getElementById(\"b5724571-4325-4b56-9b26-7c1f547acb11\")) {\n",
       "                    Plotly.newPlot(\n",
       "                        'b5724571-4325-4b56-9b26-7c1f547acb11',\n",
       "                        [{\"mode\": \"lines\", \"type\": \"scatter\", \"x\": [0.0, 0.02040816326530612, 0.04081632653061224, 0.061224489795918366, 0.08163265306122448, 0.1020408163265306, 0.12244897959183673, 0.14285714285714285, 0.16326530612244897, 0.18367346938775508, 0.2040816326530612, 0.22448979591836732, 0.24489795918367346, 0.26530612244897955, 0.2857142857142857, 0.3061224489795918, 0.32653061224489793, 0.3469387755102041, 0.36734693877551017, 0.3877551020408163, 0.4081632653061224, 0.42857142857142855, 0.44897959183673464, 0.4693877551020408, 0.4897959183673469, 0.5102040816326531, 0.5306122448979591, 0.5510204081632653, 0.5714285714285714, 0.5918367346938775, 0.6122448979591836, 0.6326530612244897, 0.6530612244897959, 0.673469387755102, 0.6938775510204082, 0.7142857142857142, 0.7346938775510203, 0.7551020408163265, 0.7755102040816326, 0.7959183673469387, 0.8163265306122448, 0.836734693877551, 0.8571428571428571, 0.8775510204081632, 0.8979591836734693, 0.9183673469387754, 0.9387755102040816, 0.9591836734693877, 0.9795918367346939, 1.0], \"y\": [-3.201799391562319, 1.2375099973029546, -0.1869823913386781, -0.017343040553904017, -0.21403915439326895, 0.19760884437884518, 1.1227815613292493, -1.4092313998842672, 2.370268836072866, 1.2490092204828882, 0.978762640976246, -1.1931196001091067, 0.24362566943832384, 1.6980199741478994, -0.7380562149374104, -0.15720734339473433, -0.009332885699868058, 1.0177819091657203, -0.26669646182585766, 1.0750231009901938, 0.17744597774085857, 0.30739377462869333, -0.9930722861159115, 0.8166707524618102, 0.7051281872472593, -0.4317260012112576, -0.3682867156695008, 1.1109551146624481, -0.605720981600092, -2.336883378893241, 0.21941001636282456, -0.03465622365181186, 1.0311845079767896, -0.6555516292169518, -1.562167883177702, 0.3640466174502955, -1.3310715900652506, 0.5425060968179883, -0.5562195640683478, 1.3313441919115265, -0.8537549741274173, -0.2355005740800836, 1.3543406830259976, -0.9900115226857703, 1.2271808056380897, -1.4578795011024317, -2.198546458781493, 1.6869326604326154, 0.11297875129608893, 0.3484422542837742]}],\n",
       "                        {\"template\": {\"data\": {\"bar\": [{\"error_x\": {\"color\": \"#2a3f5f\"}, \"error_y\": {\"color\": \"#2a3f5f\"}, \"marker\": {\"line\": {\"color\": \"#E5ECF6\", \"width\": 0.5}}, \"type\": \"bar\"}], \"barpolar\": [{\"marker\": {\"line\": {\"color\": \"#E5ECF6\", \"width\": 0.5}}, \"type\": \"barpolar\"}], \"carpet\": [{\"aaxis\": {\"endlinecolor\": \"#2a3f5f\", \"gridcolor\": \"white\", \"linecolor\": \"white\", \"minorgridcolor\": \"white\", \"startlinecolor\": \"#2a3f5f\"}, \"baxis\": {\"endlinecolor\": \"#2a3f5f\", \"gridcolor\": \"white\", \"linecolor\": \"white\", \"minorgridcolor\": \"white\", \"startlinecolor\": \"#2a3f5f\"}, \"type\": \"carpet\"}], \"choropleth\": [{\"colorbar\": {\"outlinewidth\": 0, \"ticks\": \"\"}, \"type\": \"choropleth\"}], \"contour\": [{\"colorbar\": {\"outlinewidth\": 0, \"ticks\": \"\"}, \"colorscale\": [[0.0, \"#0d0887\"], [0.1111111111111111, \"#46039f\"], [0.2222222222222222, \"#7201a8\"], [0.3333333333333333, \"#9c179e\"], [0.4444444444444444, \"#bd3786\"], [0.5555555555555556, \"#d8576b\"], [0.6666666666666666, \"#ed7953\"], [0.7777777777777778, \"#fb9f3a\"], [0.8888888888888888, \"#fdca26\"], [1.0, \"#f0f921\"]], \"type\": \"contour\"}], \"contourcarpet\": [{\"colorbar\": {\"outlinewidth\": 0, \"ticks\": \"\"}, \"type\": \"contourcarpet\"}], \"heatmap\": [{\"colorbar\": {\"outlinewidth\": 0, \"ticks\": \"\"}, \"colorscale\": [[0.0, \"#0d0887\"], [0.1111111111111111, \"#46039f\"], [0.2222222222222222, \"#7201a8\"], [0.3333333333333333, \"#9c179e\"], [0.4444444444444444, \"#bd3786\"], [0.5555555555555556, \"#d8576b\"], [0.6666666666666666, \"#ed7953\"], [0.7777777777777778, \"#fb9f3a\"], [0.8888888888888888, \"#fdca26\"], [1.0, \"#f0f921\"]], \"type\": \"heatmap\"}], \"heatmapgl\": [{\"colorbar\": {\"outlinewidth\": 0, \"ticks\": \"\"}, \"colorscale\": [[0.0, \"#0d0887\"], [0.1111111111111111, \"#46039f\"], [0.2222222222222222, \"#7201a8\"], [0.3333333333333333, \"#9c179e\"], [0.4444444444444444, \"#bd3786\"], [0.5555555555555556, \"#d8576b\"], [0.6666666666666666, \"#ed7953\"], [0.7777777777777778, \"#fb9f3a\"], [0.8888888888888888, \"#fdca26\"], [1.0, \"#f0f921\"]], \"type\": \"heatmapgl\"}], \"histogram\": [{\"marker\": {\"colorbar\": {\"outlinewidth\": 0, \"ticks\": \"\"}}, \"type\": \"histogram\"}], \"histogram2d\": [{\"colorbar\": {\"outlinewidth\": 0, \"ticks\": \"\"}, \"colorscale\": [[0.0, \"#0d0887\"], [0.1111111111111111, \"#46039f\"], [0.2222222222222222, \"#7201a8\"], [0.3333333333333333, \"#9c179e\"], [0.4444444444444444, \"#bd3786\"], [0.5555555555555556, \"#d8576b\"], [0.6666666666666666, \"#ed7953\"], [0.7777777777777778, \"#fb9f3a\"], [0.8888888888888888, \"#fdca26\"], [1.0, \"#f0f921\"]], \"type\": \"histogram2d\"}], \"histogram2dcontour\": [{\"colorbar\": {\"outlinewidth\": 0, \"ticks\": \"\"}, \"colorscale\": [[0.0, \"#0d0887\"], [0.1111111111111111, \"#46039f\"], [0.2222222222222222, \"#7201a8\"], [0.3333333333333333, \"#9c179e\"], [0.4444444444444444, \"#bd3786\"], [0.5555555555555556, \"#d8576b\"], [0.6666666666666666, \"#ed7953\"], [0.7777777777777778, \"#fb9f3a\"], [0.8888888888888888, \"#fdca26\"], [1.0, \"#f0f921\"]], \"type\": \"histogram2dcontour\"}], \"mesh3d\": [{\"colorbar\": {\"outlinewidth\": 0, \"ticks\": \"\"}, \"type\": \"mesh3d\"}], \"parcoords\": [{\"line\": {\"colorbar\": {\"outlinewidth\": 0, \"ticks\": \"\"}}, \"type\": \"parcoords\"}], \"pie\": [{\"automargin\": true, \"type\": \"pie\"}], \"scatter\": [{\"marker\": {\"colorbar\": {\"outlinewidth\": 0, \"ticks\": \"\"}}, \"type\": \"scatter\"}], \"scatter3d\": [{\"line\": {\"colorbar\": {\"outlinewidth\": 0, \"ticks\": \"\"}}, \"marker\": {\"colorbar\": {\"outlinewidth\": 0, \"ticks\": \"\"}}, \"type\": \"scatter3d\"}], \"scattercarpet\": [{\"marker\": {\"colorbar\": {\"outlinewidth\": 0, \"ticks\": \"\"}}, \"type\": \"scattercarpet\"}], \"scattergeo\": [{\"marker\": {\"colorbar\": {\"outlinewidth\": 0, \"ticks\": \"\"}}, \"type\": \"scattergeo\"}], \"scattergl\": [{\"marker\": {\"colorbar\": {\"outlinewidth\": 0, \"ticks\": \"\"}}, \"type\": \"scattergl\"}], \"scattermapbox\": [{\"marker\": {\"colorbar\": {\"outlinewidth\": 0, \"ticks\": \"\"}}, \"type\": \"scattermapbox\"}], \"scatterpolar\": [{\"marker\": {\"colorbar\": {\"outlinewidth\": 0, \"ticks\": \"\"}}, \"type\": \"scatterpolar\"}], \"scatterpolargl\": [{\"marker\": {\"colorbar\": {\"outlinewidth\": 0, \"ticks\": \"\"}}, \"type\": \"scatterpolargl\"}], \"scatterternary\": [{\"marker\": {\"colorbar\": {\"outlinewidth\": 0, \"ticks\": \"\"}}, \"type\": \"scatterternary\"}], \"surface\": [{\"colorbar\": {\"outlinewidth\": 0, \"ticks\": \"\"}, \"colorscale\": [[0.0, \"#0d0887\"], [0.1111111111111111, \"#46039f\"], [0.2222222222222222, \"#7201a8\"], [0.3333333333333333, \"#9c179e\"], [0.4444444444444444, \"#bd3786\"], [0.5555555555555556, \"#d8576b\"], [0.6666666666666666, \"#ed7953\"], [0.7777777777777778, \"#fb9f3a\"], [0.8888888888888888, \"#fdca26\"], [1.0, \"#f0f921\"]], \"type\": \"surface\"}], \"table\": [{\"cells\": {\"fill\": {\"color\": \"#EBF0F8\"}, \"line\": {\"color\": \"white\"}}, \"header\": {\"fill\": {\"color\": \"#C8D4E3\"}, \"line\": {\"color\": \"white\"}}, \"type\": \"table\"}]}, \"layout\": {\"annotationdefaults\": {\"arrowcolor\": \"#2a3f5f\", \"arrowhead\": 0, \"arrowwidth\": 1}, \"coloraxis\": {\"colorbar\": {\"outlinewidth\": 0, \"ticks\": \"\"}}, \"colorscale\": {\"diverging\": [[0, \"#8e0152\"], [0.1, \"#c51b7d\"], [0.2, \"#de77ae\"], [0.3, \"#f1b6da\"], [0.4, \"#fde0ef\"], [0.5, \"#f7f7f7\"], [0.6, \"#e6f5d0\"], [0.7, \"#b8e186\"], [0.8, \"#7fbc41\"], [0.9, \"#4d9221\"], [1, \"#276419\"]], \"sequential\": [[0.0, \"#0d0887\"], [0.1111111111111111, \"#46039f\"], [0.2222222222222222, \"#7201a8\"], [0.3333333333333333, \"#9c179e\"], [0.4444444444444444, \"#bd3786\"], [0.5555555555555556, \"#d8576b\"], [0.6666666666666666, \"#ed7953\"], [0.7777777777777778, \"#fb9f3a\"], [0.8888888888888888, \"#fdca26\"], [1.0, \"#f0f921\"]], \"sequentialminus\": [[0.0, \"#0d0887\"], [0.1111111111111111, \"#46039f\"], [0.2222222222222222, \"#7201a8\"], [0.3333333333333333, \"#9c179e\"], [0.4444444444444444, \"#bd3786\"], [0.5555555555555556, \"#d8576b\"], [0.6666666666666666, \"#ed7953\"], [0.7777777777777778, \"#fb9f3a\"], [0.8888888888888888, \"#fdca26\"], [1.0, \"#f0f921\"]]}, \"colorway\": [\"#636efa\", \"#EF553B\", \"#00cc96\", \"#ab63fa\", \"#FFA15A\", \"#19d3f3\", \"#FF6692\", \"#B6E880\", \"#FF97FF\", \"#FECB52\"], \"font\": {\"color\": \"#2a3f5f\"}, \"geo\": {\"bgcolor\": \"white\", \"lakecolor\": \"white\", \"landcolor\": \"#E5ECF6\", \"showlakes\": true, \"showland\": true, \"subunitcolor\": \"white\"}, \"hoverlabel\": {\"align\": \"left\"}, \"hovermode\": \"closest\", \"mapbox\": {\"style\": \"light\"}, \"paper_bgcolor\": \"white\", \"plot_bgcolor\": \"#E5ECF6\", \"polar\": {\"angularaxis\": {\"gridcolor\": \"white\", \"linecolor\": \"white\", \"ticks\": \"\"}, \"bgcolor\": \"#E5ECF6\", \"radialaxis\": {\"gridcolor\": \"white\", \"linecolor\": \"white\", \"ticks\": \"\"}}, \"scene\": {\"xaxis\": {\"backgroundcolor\": \"#E5ECF6\", \"gridcolor\": \"white\", \"gridwidth\": 2, \"linecolor\": \"white\", \"showbackground\": true, \"ticks\": \"\", \"zerolinecolor\": \"white\"}, \"yaxis\": {\"backgroundcolor\": \"#E5ECF6\", \"gridcolor\": \"white\", \"gridwidth\": 2, \"linecolor\": \"white\", \"showbackground\": true, \"ticks\": \"\", \"zerolinecolor\": \"white\"}, \"zaxis\": {\"backgroundcolor\": \"#E5ECF6\", \"gridcolor\": \"white\", \"gridwidth\": 2, \"linecolor\": \"white\", \"showbackground\": true, \"ticks\": \"\", \"zerolinecolor\": \"white\"}}, \"shapedefaults\": {\"line\": {\"color\": \"#2a3f5f\"}}, \"ternary\": {\"aaxis\": {\"gridcolor\": \"white\", \"linecolor\": \"white\", \"ticks\": \"\"}, \"baxis\": {\"gridcolor\": \"white\", \"linecolor\": \"white\", \"ticks\": \"\"}, \"bgcolor\": \"#E5ECF6\", \"caxis\": {\"gridcolor\": \"white\", \"linecolor\": \"white\", \"ticks\": \"\"}}, \"title\": {\"x\": 0.05}, \"xaxis\": {\"automargin\": true, \"gridcolor\": \"white\", \"linecolor\": \"white\", \"ticks\": \"\", \"title\": {\"standoff\": 15}, \"zerolinecolor\": \"white\", \"zerolinewidth\": 2}, \"yaxis\": {\"automargin\": true, \"gridcolor\": \"white\", \"linecolor\": \"white\", \"ticks\": \"\", \"title\": {\"standoff\": 15}, \"zerolinecolor\": \"white\", \"zerolinewidth\": 2}}}, \"title\": {\"text\": \"Linear Plot\"}, \"xaxis\": {\"title\": {\"text\": \"Valotes X\"}}, \"yaxis\": {\"title\": {\"text\": \"Valotes Y\"}}},\n",
       "                        {\"responsive\": true}\n",
       "                    ).then(function(){\n",
       "                            \n",
       "var gd = document.getElementById('b5724571-4325-4b56-9b26-7c1f547acb11');\n",
       "var x = new MutationObserver(function (mutations, observer) {{\n",
       "        var display = window.getComputedStyle(gd).display;\n",
       "        if (!display || display === 'none') {{\n",
       "            console.log([gd, 'removed!']);\n",
       "            Plotly.purge(gd);\n",
       "            observer.disconnect();\n",
       "        }}\n",
       "}});\n",
       "\n",
       "// Listen for the removal of the full notebook cells\n",
       "var notebookContainer = gd.closest('#notebook-container');\n",
       "if (notebookContainer) {{\n",
       "    x.observe(notebookContainer, {childList: true});\n",
       "}}\n",
       "\n",
       "// Listen for the clearing of the current output cell\n",
       "var outputEl = gd.closest('.output');\n",
       "if (outputEl) {{\n",
       "    x.observe(outputEl, {childList: true});\n",
       "}}\n",
       "\n",
       "                        })\n",
       "                };\n",
       "                });\n",
       "            </script>\n",
       "        </div>"
      ]
     },
     "metadata": {},
     "output_type": "display_data"
    }
   ],
   "source": [
    "x = np.linspace(0, 1, 50)\n",
    "y = np.random.randn(50)\n",
    "\n",
    "valores = go.Scatter(x=x, y=y, mode='lines')\n",
    "\n",
    "datos =[valores]\n",
    "\n",
    "capa = go.Layout(title='Linear Plot', xaxis=dict(title='Valotes X'), yaxis=dict(title='Valotes Y'))\n",
    "figura = go.Figure(data=datos, layout=capa)\n",
    "\n",
    "pyo.iplot(figura)"
   ]
  },
  {
   "cell_type": "code",
   "execution_count": 11,
   "metadata": {},
   "outputs": [],
   "source": [
    "import pandas as pd"
   ]
  },
  {
   "cell_type": "code",
   "execution_count": 13,
   "metadata": {},
   "outputs": [
    {
     "data": {
      "text/html": [
       "<div>\n",
       "<style scoped>\n",
       "    .dataframe tbody tr th:only-of-type {\n",
       "        vertical-align: middle;\n",
       "    }\n",
       "\n",
       "    .dataframe tbody tr th {\n",
       "        vertical-align: top;\n",
       "    }\n",
       "\n",
       "    .dataframe thead th {\n",
       "        text-align: right;\n",
       "    }\n",
       "</style>\n",
       "<table border=\"1\" class=\"dataframe\">\n",
       "  <thead>\n",
       "    <tr style=\"text-align: right;\">\n",
       "      <th></th>\n",
       "      <th>FECHA</th>\n",
       "      <th>DIA</th>\n",
       "      <th>HORA</th>\n",
       "      <th>TEMPERATURA</th>\n",
       "    </tr>\n",
       "  </thead>\n",
       "  <tbody>\n",
       "    <tr>\n",
       "      <th>0</th>\n",
       "      <td>20100607</td>\n",
       "      <td>LUNES</td>\n",
       "      <td>0:00</td>\n",
       "      <td>30.9</td>\n",
       "    </tr>\n",
       "    <tr>\n",
       "      <th>1</th>\n",
       "      <td>20100607</td>\n",
       "      <td>LUNES</td>\n",
       "      <td>1:00</td>\n",
       "      <td>28.7</td>\n",
       "    </tr>\n",
       "    <tr>\n",
       "      <th>2</th>\n",
       "      <td>20100607</td>\n",
       "      <td>LUNES</td>\n",
       "      <td>2:00</td>\n",
       "      <td>26.9</td>\n",
       "    </tr>\n",
       "    <tr>\n",
       "      <th>3</th>\n",
       "      <td>20100607</td>\n",
       "      <td>LUNES</td>\n",
       "      <td>3:00</td>\n",
       "      <td>25.2</td>\n",
       "    </tr>\n",
       "    <tr>\n",
       "      <th>4</th>\n",
       "      <td>20100607</td>\n",
       "      <td>LUNES</td>\n",
       "      <td>4:00</td>\n",
       "      <td>24.1</td>\n",
       "    </tr>\n",
       "  </tbody>\n",
       "</table>\n",
       "</div>"
      ],
      "text/plain": [
       "      FECHA    DIA  HORA  TEMPERATURA\n",
       "0  20100607  LUNES  0:00         30.9\n",
       "1  20100607  LUNES  1:00         28.7\n",
       "2  20100607  LUNES  2:00         26.9\n",
       "3  20100607  LUNES  3:00         25.2\n",
       "4  20100607  LUNES  4:00         24.1"
      ]
     },
     "execution_count": 13,
     "metadata": {},
     "output_type": "execute_result"
    }
   ],
   "source": [
    "datos = pd.read_csv('temperaturas.csv')\n",
    "datos.head()"
   ]
  },
  {
   "cell_type": "code",
   "execution_count": 14,
   "metadata": {},
   "outputs": [],
   "source": [
    "dias = ['LUNES', 'MARTES', 'MIERCOLES', 'JUEVES', 'VIERNES', 'SABADO', 'DOMINGO']"
   ]
  },
  {
   "cell_type": "code",
   "execution_count": 26,
   "metadata": {},
   "outputs": [],
   "source": [
    "valores = []\n",
    "for dia in dias:\n",
    "    seguimiento = go.Scatter(x=datos[datos['DIA'] == dia]['HORA'],\n",
    "                            y=datos[datos['DIA'] == dia]['TEMPERATURA'],\n",
    "                            mode='lines',\n",
    "                            name=dia)\n",
    "    valores.append(seguimiento)"
   ]
  },
  {
   "cell_type": "code",
   "execution_count": 27,
   "metadata": {},
   "outputs": [
    {
     "data": {
      "application/vnd.plotly.v1+json": {
       "config": {
        "linkText": "Export to plot.ly",
        "plotlyServerURL": "https://plot.ly",
        "showLink": false
       },
       "data": [
        {
         "mode": "lines",
         "name": "LUNES",
         "type": "scatter",
         "x": [
          "0:00",
          "1:00",
          "2:00",
          "3:00",
          "4:00",
          "5:00",
          "6:00",
          "7:00",
          "8:00",
          "9:00",
          "10:00",
          "11:00",
          "12:00",
          "13:00",
          "14:00",
          "15:00",
          "16:00",
          "17:00",
          "18:00",
          "19:00",
          "20:00",
          "21:00",
          "22:00",
          "23:00"
         ],
         "y": [
          30.9,
          28.7,
          26.9,
          25.2,
          24.1,
          24.3,
          23.4,
          25.7,
          28.5,
          30.7,
          32.5,
          34.1,
          36.1,
          37.6,
          39,
          40.2,
          40.3,
          40.2,
          40.1,
          39.4,
          38.5,
          37,
          34.7,
          32.6
         ]
        },
        {
         "mode": "lines",
         "name": "MARTES",
         "type": "scatter",
         "x": [
          "0:00",
          "1:00",
          "2:00",
          "3:00",
          "4:00",
          "5:00",
          "6:00",
          "7:00",
          "8:00",
          "9:00",
          "10:00",
          "11:00",
          "12:00",
          "13:00",
          "14:00",
          "15:00",
          "16:00",
          "17:00",
          "18:00",
          "19:00",
          "20:00",
          "21:00",
          "22:00",
          "23:00"
         ],
         "y": [
          25.2,
          24.1,
          24.4,
          24.9,
          22.8,
          19.8,
          18.8,
          21.2,
          24.2,
          27.1,
          29.3,
          30.6,
          32.6,
          34,
          34,
          34.9,
          34.6,
          33.8,
          33.5,
          32.8,
          31,
          29,
          27.6,
          26.3
         ]
        },
        {
         "mode": "lines",
         "name": "MIERCOLES",
         "type": "scatter",
         "x": [
          "0:00",
          "1:00",
          "2:00",
          "3:00",
          "4:00",
          "5:00",
          "6:00",
          "7:00",
          "8:00",
          "9:00",
          "10:00",
          "11:00",
          "12:00",
          "13:00",
          "14:00",
          "15:00",
          "16:00",
          "17:00",
          "18:00",
          "19:00",
          "20:00",
          "21:00",
          "22:00",
          "23:00"
         ],
         "y": [
          23.8,
          20.6,
          19.1,
          18.4,
          18.9,
          18.2,
          17.9,
          20.2,
          23.8,
          26.1,
          27.9,
          29.3,
          30.9,
          32.2,
          33.1,
          33.7,
          34.5,
          34.7,
          34.8,
          34.2,
          32.8,
          31,
          28.7,
          25.5
         ]
        },
        {
         "mode": "lines",
         "name": "JUEVES",
         "type": "scatter",
         "x": [
          "0:00",
          "1:00",
          "2:00",
          "3:00",
          "4:00",
          "5:00",
          "6:00",
          "7:00",
          "8:00",
          "9:00",
          "10:00",
          "11:00",
          "12:00",
          "13:00",
          "14:00",
          "15:00",
          "16:00",
          "17:00",
          "18:00",
          "19:00",
          "20:00",
          "21:00",
          "22:00",
          "23:00"
         ],
         "y": [
          24.3,
          23.1,
          21.8,
          19.8,
          18.5,
          19.2,
          19.7,
          20.7,
          23.2,
          26.1,
          28.6,
          30.8,
          32.3,
          33.8,
          34.9,
          35.8,
          35.9,
          36.3,
          35.8,
          35.4,
          34.2,
          32.7,
          31.1,
          28.6
         ]
        },
        {
         "mode": "lines",
         "name": "VIERNES",
         "type": "scatter",
         "x": [
          "0:00",
          "1:00",
          "2:00",
          "3:00",
          "4:00",
          "5:00",
          "6:00",
          "7:00",
          "8:00",
          "9:00",
          "10:00",
          "11:00",
          "12:00",
          "13:00",
          "14:00",
          "15:00",
          "16:00",
          "17:00",
          "18:00",
          "19:00",
          "20:00",
          "21:00",
          "22:00",
          "23:00"
         ],
         "y": [
          26.4,
          25.4,
          24.2,
          23.6,
          22.5,
          21,
          21.3,
          22.5,
          24.7,
          28.1,
          30.6,
          32.5,
          33.9,
          35.5,
          36.6,
          37.2,
          37.8,
          38.1,
          38.2,
          37.4,
          36,
          34.4,
          32.6,
          30.1
         ]
        },
        {
         "mode": "lines",
         "name": "SABADO",
         "type": "scatter",
         "x": [
          "0:00",
          "1:00",
          "2:00",
          "3:00",
          "4:00",
          "5:00",
          "6:00",
          "7:00",
          "8:00",
          "9:00",
          "10:00",
          "11:00",
          "12:00",
          "13:00",
          "14:00",
          "15:00",
          "16:00",
          "17:00",
          "18:00",
          "19:00",
          "20:00",
          "21:00",
          "22:00",
          "23:00"
         ],
         "y": [
          28.3,
          27.3,
          26.3,
          25.3,
          24.7,
          24.7,
          23.9,
          24.7,
          27.7,
          30.4,
          32.6,
          34.8,
          36.4,
          37.2,
          38.4,
          39.7,
          40,
          40.4,
          40.1,
          39,
          37.3,
          35.7,
          33.9,
          31.4
         ]
        },
        {
         "mode": "lines",
         "name": "DOMINGO",
         "type": "scatter",
         "x": [
          "0:00",
          "1:00",
          "2:00",
          "3:00",
          "4:00",
          "5:00",
          "6:00",
          "7:00",
          "8:00",
          "9:00",
          "10:00",
          "11:00",
          "12:00",
          "13:00",
          "14:00",
          "15:00",
          "16:00",
          "17:00",
          "18:00",
          "19:00",
          "20:00",
          "21:00",
          "22:00",
          "23:00"
         ],
         "y": [
          29.7,
          28.6,
          26.9,
          25.9,
          25.2,
          24.8,
          23.9,
          26.1,
          27.9,
          30.5,
          33.7,
          35.6,
          36.9,
          38.4,
          39.2,
          40.2,
          40.6,
          40.6,
          40.3,
          39.5,
          37.9,
          36.5,
          35,
          32.9
         ]
        }
       ],
       "layout": {
        "template": {
         "data": {
          "bar": [
           {
            "error_x": {
             "color": "#2a3f5f"
            },
            "error_y": {
             "color": "#2a3f5f"
            },
            "marker": {
             "line": {
              "color": "#E5ECF6",
              "width": 0.5
             }
            },
            "type": "bar"
           }
          ],
          "barpolar": [
           {
            "marker": {
             "line": {
              "color": "#E5ECF6",
              "width": 0.5
             }
            },
            "type": "barpolar"
           }
          ],
          "carpet": [
           {
            "aaxis": {
             "endlinecolor": "#2a3f5f",
             "gridcolor": "white",
             "linecolor": "white",
             "minorgridcolor": "white",
             "startlinecolor": "#2a3f5f"
            },
            "baxis": {
             "endlinecolor": "#2a3f5f",
             "gridcolor": "white",
             "linecolor": "white",
             "minorgridcolor": "white",
             "startlinecolor": "#2a3f5f"
            },
            "type": "carpet"
           }
          ],
          "choropleth": [
           {
            "colorbar": {
             "outlinewidth": 0,
             "ticks": ""
            },
            "type": "choropleth"
           }
          ],
          "contour": [
           {
            "colorbar": {
             "outlinewidth": 0,
             "ticks": ""
            },
            "colorscale": [
             [
              0,
              "#0d0887"
             ],
             [
              0.1111111111111111,
              "#46039f"
             ],
             [
              0.2222222222222222,
              "#7201a8"
             ],
             [
              0.3333333333333333,
              "#9c179e"
             ],
             [
              0.4444444444444444,
              "#bd3786"
             ],
             [
              0.5555555555555556,
              "#d8576b"
             ],
             [
              0.6666666666666666,
              "#ed7953"
             ],
             [
              0.7777777777777778,
              "#fb9f3a"
             ],
             [
              0.8888888888888888,
              "#fdca26"
             ],
             [
              1,
              "#f0f921"
             ]
            ],
            "type": "contour"
           }
          ],
          "contourcarpet": [
           {
            "colorbar": {
             "outlinewidth": 0,
             "ticks": ""
            },
            "type": "contourcarpet"
           }
          ],
          "heatmap": [
           {
            "colorbar": {
             "outlinewidth": 0,
             "ticks": ""
            },
            "colorscale": [
             [
              0,
              "#0d0887"
             ],
             [
              0.1111111111111111,
              "#46039f"
             ],
             [
              0.2222222222222222,
              "#7201a8"
             ],
             [
              0.3333333333333333,
              "#9c179e"
             ],
             [
              0.4444444444444444,
              "#bd3786"
             ],
             [
              0.5555555555555556,
              "#d8576b"
             ],
             [
              0.6666666666666666,
              "#ed7953"
             ],
             [
              0.7777777777777778,
              "#fb9f3a"
             ],
             [
              0.8888888888888888,
              "#fdca26"
             ],
             [
              1,
              "#f0f921"
             ]
            ],
            "type": "heatmap"
           }
          ],
          "heatmapgl": [
           {
            "colorbar": {
             "outlinewidth": 0,
             "ticks": ""
            },
            "colorscale": [
             [
              0,
              "#0d0887"
             ],
             [
              0.1111111111111111,
              "#46039f"
             ],
             [
              0.2222222222222222,
              "#7201a8"
             ],
             [
              0.3333333333333333,
              "#9c179e"
             ],
             [
              0.4444444444444444,
              "#bd3786"
             ],
             [
              0.5555555555555556,
              "#d8576b"
             ],
             [
              0.6666666666666666,
              "#ed7953"
             ],
             [
              0.7777777777777778,
              "#fb9f3a"
             ],
             [
              0.8888888888888888,
              "#fdca26"
             ],
             [
              1,
              "#f0f921"
             ]
            ],
            "type": "heatmapgl"
           }
          ],
          "histogram": [
           {
            "marker": {
             "colorbar": {
              "outlinewidth": 0,
              "ticks": ""
             }
            },
            "type": "histogram"
           }
          ],
          "histogram2d": [
           {
            "colorbar": {
             "outlinewidth": 0,
             "ticks": ""
            },
            "colorscale": [
             [
              0,
              "#0d0887"
             ],
             [
              0.1111111111111111,
              "#46039f"
             ],
             [
              0.2222222222222222,
              "#7201a8"
             ],
             [
              0.3333333333333333,
              "#9c179e"
             ],
             [
              0.4444444444444444,
              "#bd3786"
             ],
             [
              0.5555555555555556,
              "#d8576b"
             ],
             [
              0.6666666666666666,
              "#ed7953"
             ],
             [
              0.7777777777777778,
              "#fb9f3a"
             ],
             [
              0.8888888888888888,
              "#fdca26"
             ],
             [
              1,
              "#f0f921"
             ]
            ],
            "type": "histogram2d"
           }
          ],
          "histogram2dcontour": [
           {
            "colorbar": {
             "outlinewidth": 0,
             "ticks": ""
            },
            "colorscale": [
             [
              0,
              "#0d0887"
             ],
             [
              0.1111111111111111,
              "#46039f"
             ],
             [
              0.2222222222222222,
              "#7201a8"
             ],
             [
              0.3333333333333333,
              "#9c179e"
             ],
             [
              0.4444444444444444,
              "#bd3786"
             ],
             [
              0.5555555555555556,
              "#d8576b"
             ],
             [
              0.6666666666666666,
              "#ed7953"
             ],
             [
              0.7777777777777778,
              "#fb9f3a"
             ],
             [
              0.8888888888888888,
              "#fdca26"
             ],
             [
              1,
              "#f0f921"
             ]
            ],
            "type": "histogram2dcontour"
           }
          ],
          "mesh3d": [
           {
            "colorbar": {
             "outlinewidth": 0,
             "ticks": ""
            },
            "type": "mesh3d"
           }
          ],
          "parcoords": [
           {
            "line": {
             "colorbar": {
              "outlinewidth": 0,
              "ticks": ""
             }
            },
            "type": "parcoords"
           }
          ],
          "pie": [
           {
            "automargin": true,
            "type": "pie"
           }
          ],
          "scatter": [
           {
            "marker": {
             "colorbar": {
              "outlinewidth": 0,
              "ticks": ""
             }
            },
            "type": "scatter"
           }
          ],
          "scatter3d": [
           {
            "line": {
             "colorbar": {
              "outlinewidth": 0,
              "ticks": ""
             }
            },
            "marker": {
             "colorbar": {
              "outlinewidth": 0,
              "ticks": ""
             }
            },
            "type": "scatter3d"
           }
          ],
          "scattercarpet": [
           {
            "marker": {
             "colorbar": {
              "outlinewidth": 0,
              "ticks": ""
             }
            },
            "type": "scattercarpet"
           }
          ],
          "scattergeo": [
           {
            "marker": {
             "colorbar": {
              "outlinewidth": 0,
              "ticks": ""
             }
            },
            "type": "scattergeo"
           }
          ],
          "scattergl": [
           {
            "marker": {
             "colorbar": {
              "outlinewidth": 0,
              "ticks": ""
             }
            },
            "type": "scattergl"
           }
          ],
          "scattermapbox": [
           {
            "marker": {
             "colorbar": {
              "outlinewidth": 0,
              "ticks": ""
             }
            },
            "type": "scattermapbox"
           }
          ],
          "scatterpolar": [
           {
            "marker": {
             "colorbar": {
              "outlinewidth": 0,
              "ticks": ""
             }
            },
            "type": "scatterpolar"
           }
          ],
          "scatterpolargl": [
           {
            "marker": {
             "colorbar": {
              "outlinewidth": 0,
              "ticks": ""
             }
            },
            "type": "scatterpolargl"
           }
          ],
          "scatterternary": [
           {
            "marker": {
             "colorbar": {
              "outlinewidth": 0,
              "ticks": ""
             }
            },
            "type": "scatterternary"
           }
          ],
          "surface": [
           {
            "colorbar": {
             "outlinewidth": 0,
             "ticks": ""
            },
            "colorscale": [
             [
              0,
              "#0d0887"
             ],
             [
              0.1111111111111111,
              "#46039f"
             ],
             [
              0.2222222222222222,
              "#7201a8"
             ],
             [
              0.3333333333333333,
              "#9c179e"
             ],
             [
              0.4444444444444444,
              "#bd3786"
             ],
             [
              0.5555555555555556,
              "#d8576b"
             ],
             [
              0.6666666666666666,
              "#ed7953"
             ],
             [
              0.7777777777777778,
              "#fb9f3a"
             ],
             [
              0.8888888888888888,
              "#fdca26"
             ],
             [
              1,
              "#f0f921"
             ]
            ],
            "type": "surface"
           }
          ],
          "table": [
           {
            "cells": {
             "fill": {
              "color": "#EBF0F8"
             },
             "line": {
              "color": "white"
             }
            },
            "header": {
             "fill": {
              "color": "#C8D4E3"
             },
             "line": {
              "color": "white"
             }
            },
            "type": "table"
           }
          ]
         },
         "layout": {
          "annotationdefaults": {
           "arrowcolor": "#2a3f5f",
           "arrowhead": 0,
           "arrowwidth": 1
          },
          "coloraxis": {
           "colorbar": {
            "outlinewidth": 0,
            "ticks": ""
           }
          },
          "colorscale": {
           "diverging": [
            [
             0,
             "#8e0152"
            ],
            [
             0.1,
             "#c51b7d"
            ],
            [
             0.2,
             "#de77ae"
            ],
            [
             0.3,
             "#f1b6da"
            ],
            [
             0.4,
             "#fde0ef"
            ],
            [
             0.5,
             "#f7f7f7"
            ],
            [
             0.6,
             "#e6f5d0"
            ],
            [
             0.7,
             "#b8e186"
            ],
            [
             0.8,
             "#7fbc41"
            ],
            [
             0.9,
             "#4d9221"
            ],
            [
             1,
             "#276419"
            ]
           ],
           "sequential": [
            [
             0,
             "#0d0887"
            ],
            [
             0.1111111111111111,
             "#46039f"
            ],
            [
             0.2222222222222222,
             "#7201a8"
            ],
            [
             0.3333333333333333,
             "#9c179e"
            ],
            [
             0.4444444444444444,
             "#bd3786"
            ],
            [
             0.5555555555555556,
             "#d8576b"
            ],
            [
             0.6666666666666666,
             "#ed7953"
            ],
            [
             0.7777777777777778,
             "#fb9f3a"
            ],
            [
             0.8888888888888888,
             "#fdca26"
            ],
            [
             1,
             "#f0f921"
            ]
           ],
           "sequentialminus": [
            [
             0,
             "#0d0887"
            ],
            [
             0.1111111111111111,
             "#46039f"
            ],
            [
             0.2222222222222222,
             "#7201a8"
            ],
            [
             0.3333333333333333,
             "#9c179e"
            ],
            [
             0.4444444444444444,
             "#bd3786"
            ],
            [
             0.5555555555555556,
             "#d8576b"
            ],
            [
             0.6666666666666666,
             "#ed7953"
            ],
            [
             0.7777777777777778,
             "#fb9f3a"
            ],
            [
             0.8888888888888888,
             "#fdca26"
            ],
            [
             1,
             "#f0f921"
            ]
           ]
          },
          "colorway": [
           "#636efa",
           "#EF553B",
           "#00cc96",
           "#ab63fa",
           "#FFA15A",
           "#19d3f3",
           "#FF6692",
           "#B6E880",
           "#FF97FF",
           "#FECB52"
          ],
          "font": {
           "color": "#2a3f5f"
          },
          "geo": {
           "bgcolor": "white",
           "lakecolor": "white",
           "landcolor": "#E5ECF6",
           "showlakes": true,
           "showland": true,
           "subunitcolor": "white"
          },
          "hoverlabel": {
           "align": "left"
          },
          "hovermode": "closest",
          "mapbox": {
           "style": "light"
          },
          "paper_bgcolor": "white",
          "plot_bgcolor": "#E5ECF6",
          "polar": {
           "angularaxis": {
            "gridcolor": "white",
            "linecolor": "white",
            "ticks": ""
           },
           "bgcolor": "#E5ECF6",
           "radialaxis": {
            "gridcolor": "white",
            "linecolor": "white",
            "ticks": ""
           }
          },
          "scene": {
           "xaxis": {
            "backgroundcolor": "#E5ECF6",
            "gridcolor": "white",
            "gridwidth": 2,
            "linecolor": "white",
            "showbackground": true,
            "ticks": "",
            "zerolinecolor": "white"
           },
           "yaxis": {
            "backgroundcolor": "#E5ECF6",
            "gridcolor": "white",
            "gridwidth": 2,
            "linecolor": "white",
            "showbackground": true,
            "ticks": "",
            "zerolinecolor": "white"
           },
           "zaxis": {
            "backgroundcolor": "#E5ECF6",
            "gridcolor": "white",
            "gridwidth": 2,
            "linecolor": "white",
            "showbackground": true,
            "ticks": "",
            "zerolinecolor": "white"
           }
          },
          "shapedefaults": {
           "line": {
            "color": "#2a3f5f"
           }
          },
          "ternary": {
           "aaxis": {
            "gridcolor": "white",
            "linecolor": "white",
            "ticks": ""
           },
           "baxis": {
            "gridcolor": "white",
            "linecolor": "white",
            "ticks": ""
           },
           "bgcolor": "#E5ECF6",
           "caxis": {
            "gridcolor": "white",
            "linecolor": "white",
            "ticks": ""
           }
          },
          "title": {
           "x": 0.05
          },
          "xaxis": {
           "automargin": true,
           "gridcolor": "white",
           "linecolor": "white",
           "ticks": "",
           "title": {
            "standoff": 15
           },
           "zerolinecolor": "white",
           "zerolinewidth": 2
          },
          "yaxis": {
           "automargin": true,
           "gridcolor": "white",
           "linecolor": "white",
           "ticks": "",
           "title": {
            "standoff": 15
           },
           "zerolinecolor": "white",
           "zerolinewidth": 2
          }
         }
        },
        "title": {
         "text": "Temperaturas diarias"
        }
       }
      },
      "text/html": [
       "<div>\n",
       "        \n",
       "        \n",
       "            <div id=\"ab278ec0-5896-4608-bc4f-5c7ab8552dbc\" class=\"plotly-graph-div\" style=\"height:525px; width:100%;\"></div>\n",
       "            <script type=\"text/javascript\">\n",
       "                require([\"plotly\"], function(Plotly) {\n",
       "                    window.PLOTLYENV=window.PLOTLYENV || {};\n",
       "                    \n",
       "                if (document.getElementById(\"ab278ec0-5896-4608-bc4f-5c7ab8552dbc\")) {\n",
       "                    Plotly.newPlot(\n",
       "                        'ab278ec0-5896-4608-bc4f-5c7ab8552dbc',\n",
       "                        [{\"mode\": \"lines\", \"name\": \"LUNES\", \"type\": \"scatter\", \"x\": [\"0:00\", \"1:00\", \"2:00\", \"3:00\", \"4:00\", \"5:00\", \"6:00\", \"7:00\", \"8:00\", \"9:00\", \"10:00\", \"11:00\", \"12:00\", \"13:00\", \"14:00\", \"15:00\", \"16:00\", \"17:00\", \"18:00\", \"19:00\", \"20:00\", \"21:00\", \"22:00\", \"23:00\"], \"y\": [30.9, 28.7, 26.9, 25.2, 24.1, 24.3, 23.4, 25.7, 28.5, 30.7, 32.5, 34.1, 36.1, 37.6, 39.0, 40.2, 40.3, 40.2, 40.1, 39.4, 38.5, 37.0, 34.7, 32.6]}, {\"mode\": \"lines\", \"name\": \"MARTES\", \"type\": \"scatter\", \"x\": [\"0:00\", \"1:00\", \"2:00\", \"3:00\", \"4:00\", \"5:00\", \"6:00\", \"7:00\", \"8:00\", \"9:00\", \"10:00\", \"11:00\", \"12:00\", \"13:00\", \"14:00\", \"15:00\", \"16:00\", \"17:00\", \"18:00\", \"19:00\", \"20:00\", \"21:00\", \"22:00\", \"23:00\"], \"y\": [25.2, 24.1, 24.4, 24.9, 22.8, 19.8, 18.8, 21.2, 24.2, 27.1, 29.3, 30.6, 32.6, 34.0, 34.0, 34.9, 34.6, 33.8, 33.5, 32.8, 31.0, 29.0, 27.6, 26.3]}, {\"mode\": \"lines\", \"name\": \"MIERCOLES\", \"type\": \"scatter\", \"x\": [\"0:00\", \"1:00\", \"2:00\", \"3:00\", \"4:00\", \"5:00\", \"6:00\", \"7:00\", \"8:00\", \"9:00\", \"10:00\", \"11:00\", \"12:00\", \"13:00\", \"14:00\", \"15:00\", \"16:00\", \"17:00\", \"18:00\", \"19:00\", \"20:00\", \"21:00\", \"22:00\", \"23:00\"], \"y\": [23.8, 20.6, 19.1, 18.4, 18.9, 18.2, 17.9, 20.2, 23.8, 26.1, 27.9, 29.3, 30.9, 32.2, 33.1, 33.7, 34.5, 34.7, 34.8, 34.2, 32.8, 31.0, 28.7, 25.5]}, {\"mode\": \"lines\", \"name\": \"JUEVES\", \"type\": \"scatter\", \"x\": [\"0:00\", \"1:00\", \"2:00\", \"3:00\", \"4:00\", \"5:00\", \"6:00\", \"7:00\", \"8:00\", \"9:00\", \"10:00\", \"11:00\", \"12:00\", \"13:00\", \"14:00\", \"15:00\", \"16:00\", \"17:00\", \"18:00\", \"19:00\", \"20:00\", \"21:00\", \"22:00\", \"23:00\"], \"y\": [24.3, 23.1, 21.8, 19.8, 18.5, 19.2, 19.7, 20.7, 23.2, 26.1, 28.6, 30.8, 32.3, 33.8, 34.9, 35.8, 35.9, 36.3, 35.8, 35.4, 34.2, 32.7, 31.1, 28.6]}, {\"mode\": \"lines\", \"name\": \"VIERNES\", \"type\": \"scatter\", \"x\": [\"0:00\", \"1:00\", \"2:00\", \"3:00\", \"4:00\", \"5:00\", \"6:00\", \"7:00\", \"8:00\", \"9:00\", \"10:00\", \"11:00\", \"12:00\", \"13:00\", \"14:00\", \"15:00\", \"16:00\", \"17:00\", \"18:00\", \"19:00\", \"20:00\", \"21:00\", \"22:00\", \"23:00\"], \"y\": [26.4, 25.4, 24.2, 23.6, 22.5, 21.0, 21.3, 22.5, 24.7, 28.1, 30.6, 32.5, 33.9, 35.5, 36.6, 37.2, 37.8, 38.1, 38.2, 37.4, 36.0, 34.4, 32.6, 30.1]}, {\"mode\": \"lines\", \"name\": \"SABADO\", \"type\": \"scatter\", \"x\": [\"0:00\", \"1:00\", \"2:00\", \"3:00\", \"4:00\", \"5:00\", \"6:00\", \"7:00\", \"8:00\", \"9:00\", \"10:00\", \"11:00\", \"12:00\", \"13:00\", \"14:00\", \"15:00\", \"16:00\", \"17:00\", \"18:00\", \"19:00\", \"20:00\", \"21:00\", \"22:00\", \"23:00\"], \"y\": [28.3, 27.3, 26.3, 25.3, 24.7, 24.7, 23.9, 24.7, 27.7, 30.4, 32.6, 34.8, 36.4, 37.2, 38.4, 39.7, 40.0, 40.4, 40.1, 39.0, 37.3, 35.7, 33.9, 31.4]}, {\"mode\": \"lines\", \"name\": \"DOMINGO\", \"type\": \"scatter\", \"x\": [\"0:00\", \"1:00\", \"2:00\", \"3:00\", \"4:00\", \"5:00\", \"6:00\", \"7:00\", \"8:00\", \"9:00\", \"10:00\", \"11:00\", \"12:00\", \"13:00\", \"14:00\", \"15:00\", \"16:00\", \"17:00\", \"18:00\", \"19:00\", \"20:00\", \"21:00\", \"22:00\", \"23:00\"], \"y\": [29.7, 28.6, 26.9, 25.9, 25.2, 24.8, 23.9, 26.1, 27.9, 30.5, 33.7, 35.6, 36.9, 38.4, 39.2, 40.2, 40.6, 40.6, 40.3, 39.5, 37.9, 36.5, 35.0, 32.9]}],\n",
       "                        {\"template\": {\"data\": {\"bar\": [{\"error_x\": {\"color\": \"#2a3f5f\"}, \"error_y\": {\"color\": \"#2a3f5f\"}, \"marker\": {\"line\": {\"color\": \"#E5ECF6\", \"width\": 0.5}}, \"type\": \"bar\"}], \"barpolar\": [{\"marker\": {\"line\": {\"color\": \"#E5ECF6\", \"width\": 0.5}}, \"type\": \"barpolar\"}], \"carpet\": [{\"aaxis\": {\"endlinecolor\": \"#2a3f5f\", \"gridcolor\": \"white\", \"linecolor\": \"white\", \"minorgridcolor\": \"white\", \"startlinecolor\": \"#2a3f5f\"}, \"baxis\": {\"endlinecolor\": \"#2a3f5f\", \"gridcolor\": \"white\", \"linecolor\": \"white\", \"minorgridcolor\": \"white\", \"startlinecolor\": \"#2a3f5f\"}, \"type\": \"carpet\"}], \"choropleth\": [{\"colorbar\": {\"outlinewidth\": 0, \"ticks\": \"\"}, \"type\": \"choropleth\"}], \"contour\": [{\"colorbar\": {\"outlinewidth\": 0, \"ticks\": \"\"}, \"colorscale\": [[0.0, \"#0d0887\"], [0.1111111111111111, \"#46039f\"], [0.2222222222222222, \"#7201a8\"], [0.3333333333333333, \"#9c179e\"], [0.4444444444444444, \"#bd3786\"], [0.5555555555555556, \"#d8576b\"], [0.6666666666666666, \"#ed7953\"], [0.7777777777777778, \"#fb9f3a\"], [0.8888888888888888, \"#fdca26\"], [1.0, \"#f0f921\"]], \"type\": \"contour\"}], \"contourcarpet\": [{\"colorbar\": {\"outlinewidth\": 0, \"ticks\": \"\"}, \"type\": \"contourcarpet\"}], \"heatmap\": [{\"colorbar\": {\"outlinewidth\": 0, \"ticks\": \"\"}, \"colorscale\": [[0.0, \"#0d0887\"], [0.1111111111111111, \"#46039f\"], [0.2222222222222222, \"#7201a8\"], [0.3333333333333333, \"#9c179e\"], [0.4444444444444444, \"#bd3786\"], [0.5555555555555556, \"#d8576b\"], [0.6666666666666666, \"#ed7953\"], [0.7777777777777778, \"#fb9f3a\"], [0.8888888888888888, \"#fdca26\"], [1.0, \"#f0f921\"]], \"type\": \"heatmap\"}], \"heatmapgl\": [{\"colorbar\": {\"outlinewidth\": 0, \"ticks\": \"\"}, \"colorscale\": [[0.0, \"#0d0887\"], [0.1111111111111111, \"#46039f\"], [0.2222222222222222, \"#7201a8\"], [0.3333333333333333, \"#9c179e\"], [0.4444444444444444, \"#bd3786\"], [0.5555555555555556, \"#d8576b\"], [0.6666666666666666, \"#ed7953\"], [0.7777777777777778, \"#fb9f3a\"], [0.8888888888888888, \"#fdca26\"], [1.0, \"#f0f921\"]], \"type\": \"heatmapgl\"}], \"histogram\": [{\"marker\": {\"colorbar\": {\"outlinewidth\": 0, \"ticks\": \"\"}}, \"type\": \"histogram\"}], \"histogram2d\": [{\"colorbar\": {\"outlinewidth\": 0, \"ticks\": \"\"}, \"colorscale\": [[0.0, \"#0d0887\"], [0.1111111111111111, \"#46039f\"], [0.2222222222222222, \"#7201a8\"], [0.3333333333333333, \"#9c179e\"], [0.4444444444444444, \"#bd3786\"], [0.5555555555555556, \"#d8576b\"], [0.6666666666666666, \"#ed7953\"], [0.7777777777777778, \"#fb9f3a\"], [0.8888888888888888, \"#fdca26\"], [1.0, \"#f0f921\"]], \"type\": \"histogram2d\"}], \"histogram2dcontour\": [{\"colorbar\": {\"outlinewidth\": 0, \"ticks\": \"\"}, \"colorscale\": [[0.0, \"#0d0887\"], [0.1111111111111111, \"#46039f\"], [0.2222222222222222, \"#7201a8\"], [0.3333333333333333, \"#9c179e\"], [0.4444444444444444, \"#bd3786\"], [0.5555555555555556, \"#d8576b\"], [0.6666666666666666, \"#ed7953\"], [0.7777777777777778, \"#fb9f3a\"], [0.8888888888888888, \"#fdca26\"], [1.0, \"#f0f921\"]], \"type\": \"histogram2dcontour\"}], \"mesh3d\": [{\"colorbar\": {\"outlinewidth\": 0, \"ticks\": \"\"}, \"type\": \"mesh3d\"}], \"parcoords\": [{\"line\": {\"colorbar\": {\"outlinewidth\": 0, \"ticks\": \"\"}}, \"type\": \"parcoords\"}], \"pie\": [{\"automargin\": true, \"type\": \"pie\"}], \"scatter\": [{\"marker\": {\"colorbar\": {\"outlinewidth\": 0, \"ticks\": \"\"}}, \"type\": \"scatter\"}], \"scatter3d\": [{\"line\": {\"colorbar\": {\"outlinewidth\": 0, \"ticks\": \"\"}}, \"marker\": {\"colorbar\": {\"outlinewidth\": 0, \"ticks\": \"\"}}, \"type\": \"scatter3d\"}], \"scattercarpet\": [{\"marker\": {\"colorbar\": {\"outlinewidth\": 0, \"ticks\": \"\"}}, \"type\": \"scattercarpet\"}], \"scattergeo\": [{\"marker\": {\"colorbar\": {\"outlinewidth\": 0, \"ticks\": \"\"}}, \"type\": \"scattergeo\"}], \"scattergl\": [{\"marker\": {\"colorbar\": {\"outlinewidth\": 0, \"ticks\": \"\"}}, \"type\": \"scattergl\"}], \"scattermapbox\": [{\"marker\": {\"colorbar\": {\"outlinewidth\": 0, \"ticks\": \"\"}}, \"type\": \"scattermapbox\"}], \"scatterpolar\": [{\"marker\": {\"colorbar\": {\"outlinewidth\": 0, \"ticks\": \"\"}}, \"type\": \"scatterpolar\"}], \"scatterpolargl\": [{\"marker\": {\"colorbar\": {\"outlinewidth\": 0, \"ticks\": \"\"}}, \"type\": \"scatterpolargl\"}], \"scatterternary\": [{\"marker\": {\"colorbar\": {\"outlinewidth\": 0, \"ticks\": \"\"}}, \"type\": \"scatterternary\"}], \"surface\": [{\"colorbar\": {\"outlinewidth\": 0, \"ticks\": \"\"}, \"colorscale\": [[0.0, \"#0d0887\"], [0.1111111111111111, \"#46039f\"], [0.2222222222222222, \"#7201a8\"], [0.3333333333333333, \"#9c179e\"], [0.4444444444444444, \"#bd3786\"], [0.5555555555555556, \"#d8576b\"], [0.6666666666666666, \"#ed7953\"], [0.7777777777777778, \"#fb9f3a\"], [0.8888888888888888, \"#fdca26\"], [1.0, \"#f0f921\"]], \"type\": \"surface\"}], \"table\": [{\"cells\": {\"fill\": {\"color\": \"#EBF0F8\"}, \"line\": {\"color\": \"white\"}}, \"header\": {\"fill\": {\"color\": \"#C8D4E3\"}, \"line\": {\"color\": \"white\"}}, \"type\": \"table\"}]}, \"layout\": {\"annotationdefaults\": {\"arrowcolor\": \"#2a3f5f\", \"arrowhead\": 0, \"arrowwidth\": 1}, \"coloraxis\": {\"colorbar\": {\"outlinewidth\": 0, \"ticks\": \"\"}}, \"colorscale\": {\"diverging\": [[0, \"#8e0152\"], [0.1, \"#c51b7d\"], [0.2, \"#de77ae\"], [0.3, \"#f1b6da\"], [0.4, \"#fde0ef\"], [0.5, \"#f7f7f7\"], [0.6, \"#e6f5d0\"], [0.7, \"#b8e186\"], [0.8, \"#7fbc41\"], [0.9, \"#4d9221\"], [1, \"#276419\"]], \"sequential\": [[0.0, \"#0d0887\"], [0.1111111111111111, \"#46039f\"], [0.2222222222222222, \"#7201a8\"], [0.3333333333333333, \"#9c179e\"], [0.4444444444444444, \"#bd3786\"], [0.5555555555555556, \"#d8576b\"], [0.6666666666666666, \"#ed7953\"], [0.7777777777777778, \"#fb9f3a\"], [0.8888888888888888, \"#fdca26\"], [1.0, \"#f0f921\"]], \"sequentialminus\": [[0.0, \"#0d0887\"], [0.1111111111111111, \"#46039f\"], [0.2222222222222222, \"#7201a8\"], [0.3333333333333333, \"#9c179e\"], [0.4444444444444444, \"#bd3786\"], [0.5555555555555556, \"#d8576b\"], [0.6666666666666666, \"#ed7953\"], [0.7777777777777778, \"#fb9f3a\"], [0.8888888888888888, \"#fdca26\"], [1.0, \"#f0f921\"]]}, \"colorway\": [\"#636efa\", \"#EF553B\", \"#00cc96\", \"#ab63fa\", \"#FFA15A\", \"#19d3f3\", \"#FF6692\", \"#B6E880\", \"#FF97FF\", \"#FECB52\"], \"font\": {\"color\": \"#2a3f5f\"}, \"geo\": {\"bgcolor\": \"white\", \"lakecolor\": \"white\", \"landcolor\": \"#E5ECF6\", \"showlakes\": true, \"showland\": true, \"subunitcolor\": \"white\"}, \"hoverlabel\": {\"align\": \"left\"}, \"hovermode\": \"closest\", \"mapbox\": {\"style\": \"light\"}, \"paper_bgcolor\": \"white\", \"plot_bgcolor\": \"#E5ECF6\", \"polar\": {\"angularaxis\": {\"gridcolor\": \"white\", \"linecolor\": \"white\", \"ticks\": \"\"}, \"bgcolor\": \"#E5ECF6\", \"radialaxis\": {\"gridcolor\": \"white\", \"linecolor\": \"white\", \"ticks\": \"\"}}, \"scene\": {\"xaxis\": {\"backgroundcolor\": \"#E5ECF6\", \"gridcolor\": \"white\", \"gridwidth\": 2, \"linecolor\": \"white\", \"showbackground\": true, \"ticks\": \"\", \"zerolinecolor\": \"white\"}, \"yaxis\": {\"backgroundcolor\": \"#E5ECF6\", \"gridcolor\": \"white\", \"gridwidth\": 2, \"linecolor\": \"white\", \"showbackground\": true, \"ticks\": \"\", \"zerolinecolor\": \"white\"}, \"zaxis\": {\"backgroundcolor\": \"#E5ECF6\", \"gridcolor\": \"white\", \"gridwidth\": 2, \"linecolor\": \"white\", \"showbackground\": true, \"ticks\": \"\", \"zerolinecolor\": \"white\"}}, \"shapedefaults\": {\"line\": {\"color\": \"#2a3f5f\"}}, \"ternary\": {\"aaxis\": {\"gridcolor\": \"white\", \"linecolor\": \"white\", \"ticks\": \"\"}, \"baxis\": {\"gridcolor\": \"white\", \"linecolor\": \"white\", \"ticks\": \"\"}, \"bgcolor\": \"#E5ECF6\", \"caxis\": {\"gridcolor\": \"white\", \"linecolor\": \"white\", \"ticks\": \"\"}}, \"title\": {\"x\": 0.05}, \"xaxis\": {\"automargin\": true, \"gridcolor\": \"white\", \"linecolor\": \"white\", \"ticks\": \"\", \"title\": {\"standoff\": 15}, \"zerolinecolor\": \"white\", \"zerolinewidth\": 2}, \"yaxis\": {\"automargin\": true, \"gridcolor\": \"white\", \"linecolor\": \"white\", \"ticks\": \"\", \"title\": {\"standoff\": 15}, \"zerolinecolor\": \"white\", \"zerolinewidth\": 2}}}, \"title\": {\"text\": \"Temperaturas diarias\"}},\n",
       "                        {\"responsive\": true}\n",
       "                    ).then(function(){\n",
       "                            \n",
       "var gd = document.getElementById('ab278ec0-5896-4608-bc4f-5c7ab8552dbc');\n",
       "var x = new MutationObserver(function (mutations, observer) {{\n",
       "        var display = window.getComputedStyle(gd).display;\n",
       "        if (!display || display === 'none') {{\n",
       "            console.log([gd, 'removed!']);\n",
       "            Plotly.purge(gd);\n",
       "            observer.disconnect();\n",
       "        }}\n",
       "}});\n",
       "\n",
       "// Listen for the removal of the full notebook cells\n",
       "var notebookContainer = gd.closest('#notebook-container');\n",
       "if (notebookContainer) {{\n",
       "    x.observe(notebookContainer, {childList: true});\n",
       "}}\n",
       "\n",
       "// Listen for the clearing of the current output cell\n",
       "var outputEl = gd.closest('.output');\n",
       "if (outputEl) {{\n",
       "    x.observe(outputEl, {childList: true});\n",
       "}}\n",
       "\n",
       "                        })\n",
       "                };\n",
       "                });\n",
       "            </script>\n",
       "        </div>"
      ]
     },
     "metadata": {},
     "output_type": "display_data"
    }
   ],
   "source": [
    "capa = go.Layout(title='Temperaturas diarias')\n",
    "figura = go.Figure(data=valores, layout=capa)\n",
    "pyo.iplot(figura)"
   ]
  },
  {
   "cell_type": "markdown",
   "metadata": {},
   "source": [
    "<div class='alert alert-info' style='padding: 0 0 10px'>\n",
    "    <h2 style='text-align: center'>Bar Plot</h2>\n",
    "</div>"
   ]
  },
  {
   "cell_type": "code",
   "execution_count": 29,
   "metadata": {},
   "outputs": [
    {
     "data": {
      "text/html": [
       "<div>\n",
       "<style scoped>\n",
       "    .dataframe tbody tr th:only-of-type {\n",
       "        vertical-align: middle;\n",
       "    }\n",
       "\n",
       "    .dataframe tbody tr th {\n",
       "        vertical-align: top;\n",
       "    }\n",
       "\n",
       "    .dataframe thead th {\n",
       "        text-align: right;\n",
       "    }\n",
       "</style>\n",
       "<table border=\"1\" class=\"dataframe\">\n",
       "  <thead>\n",
       "    <tr style=\"text-align: right;\">\n",
       "      <th></th>\n",
       "      <th>Puesto</th>\n",
       "      <th>Pais</th>\n",
       "      <th>Oro</th>\n",
       "      <th>Plata</th>\n",
       "      <th>Bronce</th>\n",
       "      <th>Total</th>\n",
       "    </tr>\n",
       "  </thead>\n",
       "  <tbody>\n",
       "    <tr>\n",
       "      <th>0</th>\n",
       "      <td>1</td>\n",
       "      <td>Norway</td>\n",
       "      <td>14</td>\n",
       "      <td>14</td>\n",
       "      <td>11</td>\n",
       "      <td>39</td>\n",
       "    </tr>\n",
       "    <tr>\n",
       "      <th>1</th>\n",
       "      <td>2</td>\n",
       "      <td>Germany</td>\n",
       "      <td>14</td>\n",
       "      <td>10</td>\n",
       "      <td>7</td>\n",
       "      <td>31</td>\n",
       "    </tr>\n",
       "    <tr>\n",
       "      <th>2</th>\n",
       "      <td>3</td>\n",
       "      <td>Canada</td>\n",
       "      <td>11</td>\n",
       "      <td>8</td>\n",
       "      <td>10</td>\n",
       "      <td>29</td>\n",
       "    </tr>\n",
       "    <tr>\n",
       "      <th>3</th>\n",
       "      <td>4</td>\n",
       "      <td>United States</td>\n",
       "      <td>9</td>\n",
       "      <td>8</td>\n",
       "      <td>6</td>\n",
       "      <td>23</td>\n",
       "    </tr>\n",
       "    <tr>\n",
       "      <th>4</th>\n",
       "      <td>5</td>\n",
       "      <td>Netherlands</td>\n",
       "      <td>8</td>\n",
       "      <td>6</td>\n",
       "      <td>6</td>\n",
       "      <td>20</td>\n",
       "    </tr>\n",
       "  </tbody>\n",
       "</table>\n",
       "</div>"
      ],
      "text/plain": [
       "   Puesto           Pais  Oro  Plata  Bronce  Total\n",
       "0       1         Norway   14     14      11     39\n",
       "1       2        Germany   14     10       7     31\n",
       "2       3         Canada   11      8      10     29\n",
       "3       4  United States    9      8       6     23\n",
       "4       5    Netherlands    8      6       6     20"
      ]
     },
     "execution_count": 29,
     "metadata": {},
     "output_type": "execute_result"
    }
   ],
   "source": [
    "valores = pd.read_csv('medallas.csv')\n",
    "valores.head()"
   ]
  },
  {
   "cell_type": "code",
   "execution_count": 30,
   "metadata": {},
   "outputs": [
    {
     "data": {
      "application/vnd.plotly.v1+json": {
       "config": {
        "linkText": "Export to plot.ly",
        "plotlyServerURL": "https://plot.ly",
        "showLink": false
       },
       "data": [
        {
         "type": "bar",
         "x": [
          "Norway",
          "Germany",
          "Canada",
          "United States",
          "Netherlands",
          "Sweden",
          "Republic of Korea",
          "Switzerland",
          "France",
          "Austria",
          "Japan",
          "Italy",
          "OAR",
          "Czech Republic",
          "Belarus",
          "China",
          "Slovakia",
          "Finland",
          "Great Britain",
          "Poland",
          "Hungary",
          "Ukraine",
          "Australia",
          "Slovenia",
          "Belgium",
          "Spain",
          "New Zealand",
          "Kazakhstan",
          "Latvia",
          "Liechtenstein"
         ],
         "y": [
          39,
          31,
          29,
          23,
          20,
          14,
          17,
          15,
          15,
          14,
          13,
          10,
          17,
          7,
          3,
          9,
          3,
          6,
          5,
          2,
          1,
          1,
          3,
          2,
          1,
          2,
          2,
          1,
          1,
          1
         ]
        }
       ],
       "layout": {
        "template": {
         "data": {
          "bar": [
           {
            "error_x": {
             "color": "#2a3f5f"
            },
            "error_y": {
             "color": "#2a3f5f"
            },
            "marker": {
             "line": {
              "color": "#E5ECF6",
              "width": 0.5
             }
            },
            "type": "bar"
           }
          ],
          "barpolar": [
           {
            "marker": {
             "line": {
              "color": "#E5ECF6",
              "width": 0.5
             }
            },
            "type": "barpolar"
           }
          ],
          "carpet": [
           {
            "aaxis": {
             "endlinecolor": "#2a3f5f",
             "gridcolor": "white",
             "linecolor": "white",
             "minorgridcolor": "white",
             "startlinecolor": "#2a3f5f"
            },
            "baxis": {
             "endlinecolor": "#2a3f5f",
             "gridcolor": "white",
             "linecolor": "white",
             "minorgridcolor": "white",
             "startlinecolor": "#2a3f5f"
            },
            "type": "carpet"
           }
          ],
          "choropleth": [
           {
            "colorbar": {
             "outlinewidth": 0,
             "ticks": ""
            },
            "type": "choropleth"
           }
          ],
          "contour": [
           {
            "colorbar": {
             "outlinewidth": 0,
             "ticks": ""
            },
            "colorscale": [
             [
              0,
              "#0d0887"
             ],
             [
              0.1111111111111111,
              "#46039f"
             ],
             [
              0.2222222222222222,
              "#7201a8"
             ],
             [
              0.3333333333333333,
              "#9c179e"
             ],
             [
              0.4444444444444444,
              "#bd3786"
             ],
             [
              0.5555555555555556,
              "#d8576b"
             ],
             [
              0.6666666666666666,
              "#ed7953"
             ],
             [
              0.7777777777777778,
              "#fb9f3a"
             ],
             [
              0.8888888888888888,
              "#fdca26"
             ],
             [
              1,
              "#f0f921"
             ]
            ],
            "type": "contour"
           }
          ],
          "contourcarpet": [
           {
            "colorbar": {
             "outlinewidth": 0,
             "ticks": ""
            },
            "type": "contourcarpet"
           }
          ],
          "heatmap": [
           {
            "colorbar": {
             "outlinewidth": 0,
             "ticks": ""
            },
            "colorscale": [
             [
              0,
              "#0d0887"
             ],
             [
              0.1111111111111111,
              "#46039f"
             ],
             [
              0.2222222222222222,
              "#7201a8"
             ],
             [
              0.3333333333333333,
              "#9c179e"
             ],
             [
              0.4444444444444444,
              "#bd3786"
             ],
             [
              0.5555555555555556,
              "#d8576b"
             ],
             [
              0.6666666666666666,
              "#ed7953"
             ],
             [
              0.7777777777777778,
              "#fb9f3a"
             ],
             [
              0.8888888888888888,
              "#fdca26"
             ],
             [
              1,
              "#f0f921"
             ]
            ],
            "type": "heatmap"
           }
          ],
          "heatmapgl": [
           {
            "colorbar": {
             "outlinewidth": 0,
             "ticks": ""
            },
            "colorscale": [
             [
              0,
              "#0d0887"
             ],
             [
              0.1111111111111111,
              "#46039f"
             ],
             [
              0.2222222222222222,
              "#7201a8"
             ],
             [
              0.3333333333333333,
              "#9c179e"
             ],
             [
              0.4444444444444444,
              "#bd3786"
             ],
             [
              0.5555555555555556,
              "#d8576b"
             ],
             [
              0.6666666666666666,
              "#ed7953"
             ],
             [
              0.7777777777777778,
              "#fb9f3a"
             ],
             [
              0.8888888888888888,
              "#fdca26"
             ],
             [
              1,
              "#f0f921"
             ]
            ],
            "type": "heatmapgl"
           }
          ],
          "histogram": [
           {
            "marker": {
             "colorbar": {
              "outlinewidth": 0,
              "ticks": ""
             }
            },
            "type": "histogram"
           }
          ],
          "histogram2d": [
           {
            "colorbar": {
             "outlinewidth": 0,
             "ticks": ""
            },
            "colorscale": [
             [
              0,
              "#0d0887"
             ],
             [
              0.1111111111111111,
              "#46039f"
             ],
             [
              0.2222222222222222,
              "#7201a8"
             ],
             [
              0.3333333333333333,
              "#9c179e"
             ],
             [
              0.4444444444444444,
              "#bd3786"
             ],
             [
              0.5555555555555556,
              "#d8576b"
             ],
             [
              0.6666666666666666,
              "#ed7953"
             ],
             [
              0.7777777777777778,
              "#fb9f3a"
             ],
             [
              0.8888888888888888,
              "#fdca26"
             ],
             [
              1,
              "#f0f921"
             ]
            ],
            "type": "histogram2d"
           }
          ],
          "histogram2dcontour": [
           {
            "colorbar": {
             "outlinewidth": 0,
             "ticks": ""
            },
            "colorscale": [
             [
              0,
              "#0d0887"
             ],
             [
              0.1111111111111111,
              "#46039f"
             ],
             [
              0.2222222222222222,
              "#7201a8"
             ],
             [
              0.3333333333333333,
              "#9c179e"
             ],
             [
              0.4444444444444444,
              "#bd3786"
             ],
             [
              0.5555555555555556,
              "#d8576b"
             ],
             [
              0.6666666666666666,
              "#ed7953"
             ],
             [
              0.7777777777777778,
              "#fb9f3a"
             ],
             [
              0.8888888888888888,
              "#fdca26"
             ],
             [
              1,
              "#f0f921"
             ]
            ],
            "type": "histogram2dcontour"
           }
          ],
          "mesh3d": [
           {
            "colorbar": {
             "outlinewidth": 0,
             "ticks": ""
            },
            "type": "mesh3d"
           }
          ],
          "parcoords": [
           {
            "line": {
             "colorbar": {
              "outlinewidth": 0,
              "ticks": ""
             }
            },
            "type": "parcoords"
           }
          ],
          "pie": [
           {
            "automargin": true,
            "type": "pie"
           }
          ],
          "scatter": [
           {
            "marker": {
             "colorbar": {
              "outlinewidth": 0,
              "ticks": ""
             }
            },
            "type": "scatter"
           }
          ],
          "scatter3d": [
           {
            "line": {
             "colorbar": {
              "outlinewidth": 0,
              "ticks": ""
             }
            },
            "marker": {
             "colorbar": {
              "outlinewidth": 0,
              "ticks": ""
             }
            },
            "type": "scatter3d"
           }
          ],
          "scattercarpet": [
           {
            "marker": {
             "colorbar": {
              "outlinewidth": 0,
              "ticks": ""
             }
            },
            "type": "scattercarpet"
           }
          ],
          "scattergeo": [
           {
            "marker": {
             "colorbar": {
              "outlinewidth": 0,
              "ticks": ""
             }
            },
            "type": "scattergeo"
           }
          ],
          "scattergl": [
           {
            "marker": {
             "colorbar": {
              "outlinewidth": 0,
              "ticks": ""
             }
            },
            "type": "scattergl"
           }
          ],
          "scattermapbox": [
           {
            "marker": {
             "colorbar": {
              "outlinewidth": 0,
              "ticks": ""
             }
            },
            "type": "scattermapbox"
           }
          ],
          "scatterpolar": [
           {
            "marker": {
             "colorbar": {
              "outlinewidth": 0,
              "ticks": ""
             }
            },
            "type": "scatterpolar"
           }
          ],
          "scatterpolargl": [
           {
            "marker": {
             "colorbar": {
              "outlinewidth": 0,
              "ticks": ""
             }
            },
            "type": "scatterpolargl"
           }
          ],
          "scatterternary": [
           {
            "marker": {
             "colorbar": {
              "outlinewidth": 0,
              "ticks": ""
             }
            },
            "type": "scatterternary"
           }
          ],
          "surface": [
           {
            "colorbar": {
             "outlinewidth": 0,
             "ticks": ""
            },
            "colorscale": [
             [
              0,
              "#0d0887"
             ],
             [
              0.1111111111111111,
              "#46039f"
             ],
             [
              0.2222222222222222,
              "#7201a8"
             ],
             [
              0.3333333333333333,
              "#9c179e"
             ],
             [
              0.4444444444444444,
              "#bd3786"
             ],
             [
              0.5555555555555556,
              "#d8576b"
             ],
             [
              0.6666666666666666,
              "#ed7953"
             ],
             [
              0.7777777777777778,
              "#fb9f3a"
             ],
             [
              0.8888888888888888,
              "#fdca26"
             ],
             [
              1,
              "#f0f921"
             ]
            ],
            "type": "surface"
           }
          ],
          "table": [
           {
            "cells": {
             "fill": {
              "color": "#EBF0F8"
             },
             "line": {
              "color": "white"
             }
            },
            "header": {
             "fill": {
              "color": "#C8D4E3"
             },
             "line": {
              "color": "white"
             }
            },
            "type": "table"
           }
          ]
         },
         "layout": {
          "annotationdefaults": {
           "arrowcolor": "#2a3f5f",
           "arrowhead": 0,
           "arrowwidth": 1
          },
          "coloraxis": {
           "colorbar": {
            "outlinewidth": 0,
            "ticks": ""
           }
          },
          "colorscale": {
           "diverging": [
            [
             0,
             "#8e0152"
            ],
            [
             0.1,
             "#c51b7d"
            ],
            [
             0.2,
             "#de77ae"
            ],
            [
             0.3,
             "#f1b6da"
            ],
            [
             0.4,
             "#fde0ef"
            ],
            [
             0.5,
             "#f7f7f7"
            ],
            [
             0.6,
             "#e6f5d0"
            ],
            [
             0.7,
             "#b8e186"
            ],
            [
             0.8,
             "#7fbc41"
            ],
            [
             0.9,
             "#4d9221"
            ],
            [
             1,
             "#276419"
            ]
           ],
           "sequential": [
            [
             0,
             "#0d0887"
            ],
            [
             0.1111111111111111,
             "#46039f"
            ],
            [
             0.2222222222222222,
             "#7201a8"
            ],
            [
             0.3333333333333333,
             "#9c179e"
            ],
            [
             0.4444444444444444,
             "#bd3786"
            ],
            [
             0.5555555555555556,
             "#d8576b"
            ],
            [
             0.6666666666666666,
             "#ed7953"
            ],
            [
             0.7777777777777778,
             "#fb9f3a"
            ],
            [
             0.8888888888888888,
             "#fdca26"
            ],
            [
             1,
             "#f0f921"
            ]
           ],
           "sequentialminus": [
            [
             0,
             "#0d0887"
            ],
            [
             0.1111111111111111,
             "#46039f"
            ],
            [
             0.2222222222222222,
             "#7201a8"
            ],
            [
             0.3333333333333333,
             "#9c179e"
            ],
            [
             0.4444444444444444,
             "#bd3786"
            ],
            [
             0.5555555555555556,
             "#d8576b"
            ],
            [
             0.6666666666666666,
             "#ed7953"
            ],
            [
             0.7777777777777778,
             "#fb9f3a"
            ],
            [
             0.8888888888888888,
             "#fdca26"
            ],
            [
             1,
             "#f0f921"
            ]
           ]
          },
          "colorway": [
           "#636efa",
           "#EF553B",
           "#00cc96",
           "#ab63fa",
           "#FFA15A",
           "#19d3f3",
           "#FF6692",
           "#B6E880",
           "#FF97FF",
           "#FECB52"
          ],
          "font": {
           "color": "#2a3f5f"
          },
          "geo": {
           "bgcolor": "white",
           "lakecolor": "white",
           "landcolor": "#E5ECF6",
           "showlakes": true,
           "showland": true,
           "subunitcolor": "white"
          },
          "hoverlabel": {
           "align": "left"
          },
          "hovermode": "closest",
          "mapbox": {
           "style": "light"
          },
          "paper_bgcolor": "white",
          "plot_bgcolor": "#E5ECF6",
          "polar": {
           "angularaxis": {
            "gridcolor": "white",
            "linecolor": "white",
            "ticks": ""
           },
           "bgcolor": "#E5ECF6",
           "radialaxis": {
            "gridcolor": "white",
            "linecolor": "white",
            "ticks": ""
           }
          },
          "scene": {
           "xaxis": {
            "backgroundcolor": "#E5ECF6",
            "gridcolor": "white",
            "gridwidth": 2,
            "linecolor": "white",
            "showbackground": true,
            "ticks": "",
            "zerolinecolor": "white"
           },
           "yaxis": {
            "backgroundcolor": "#E5ECF6",
            "gridcolor": "white",
            "gridwidth": 2,
            "linecolor": "white",
            "showbackground": true,
            "ticks": "",
            "zerolinecolor": "white"
           },
           "zaxis": {
            "backgroundcolor": "#E5ECF6",
            "gridcolor": "white",
            "gridwidth": 2,
            "linecolor": "white",
            "showbackground": true,
            "ticks": "",
            "zerolinecolor": "white"
           }
          },
          "shapedefaults": {
           "line": {
            "color": "#2a3f5f"
           }
          },
          "ternary": {
           "aaxis": {
            "gridcolor": "white",
            "linecolor": "white",
            "ticks": ""
           },
           "baxis": {
            "gridcolor": "white",
            "linecolor": "white",
            "ticks": ""
           },
           "bgcolor": "#E5ECF6",
           "caxis": {
            "gridcolor": "white",
            "linecolor": "white",
            "ticks": ""
           }
          },
          "title": {
           "x": 0.05
          },
          "xaxis": {
           "automargin": true,
           "gridcolor": "white",
           "linecolor": "white",
           "ticks": "",
           "title": {
            "standoff": 15
           },
           "zerolinecolor": "white",
           "zerolinewidth": 2
          },
          "yaxis": {
           "automargin": true,
           "gridcolor": "white",
           "linecolor": "white",
           "ticks": "",
           "title": {
            "standoff": 15
           },
           "zerolinecolor": "white",
           "zerolinewidth": 2
          }
         }
        },
        "title": {
         "text": "Medallas"
        },
        "yaxis": {
         "title": {
          "text": "Total"
         }
        }
       }
      },
      "text/html": [
       "<div>\n",
       "        \n",
       "        \n",
       "            <div id=\"c5f3c4fe-a546-4ed5-b1d8-0d08dca7decb\" class=\"plotly-graph-div\" style=\"height:525px; width:100%;\"></div>\n",
       "            <script type=\"text/javascript\">\n",
       "                require([\"plotly\"], function(Plotly) {\n",
       "                    window.PLOTLYENV=window.PLOTLYENV || {};\n",
       "                    \n",
       "                if (document.getElementById(\"c5f3c4fe-a546-4ed5-b1d8-0d08dca7decb\")) {\n",
       "                    Plotly.newPlot(\n",
       "                        'c5f3c4fe-a546-4ed5-b1d8-0d08dca7decb',\n",
       "                        [{\"type\": \"bar\", \"x\": [\"Norway\", \"Germany\", \"Canada\", \"United States\", \"Netherlands\", \"Sweden\", \"Republic of Korea\", \"Switzerland\", \"France\", \"Austria\", \"Japan\", \"Italy\", \"OAR\", \"Czech Republic\", \"Belarus\", \"China\", \"Slovakia\", \"Finland\", \"Great Britain\", \"Poland\", \"Hungary\", \"Ukraine\", \"Australia\", \"Slovenia\", \"Belgium\", \"Spain\", \"New Zealand\", \"Kazakhstan\", \"Latvia\", \"Liechtenstein\"], \"y\": [39, 31, 29, 23, 20, 14, 17, 15, 15, 14, 13, 10, 17, 7, 3, 9, 3, 6, 5, 2, 1, 1, 3, 2, 1, 2, 2, 1, 1, 1]}],\n",
       "                        {\"template\": {\"data\": {\"bar\": [{\"error_x\": {\"color\": \"#2a3f5f\"}, \"error_y\": {\"color\": \"#2a3f5f\"}, \"marker\": {\"line\": {\"color\": \"#E5ECF6\", \"width\": 0.5}}, \"type\": \"bar\"}], \"barpolar\": [{\"marker\": {\"line\": {\"color\": \"#E5ECF6\", \"width\": 0.5}}, \"type\": \"barpolar\"}], \"carpet\": [{\"aaxis\": {\"endlinecolor\": \"#2a3f5f\", \"gridcolor\": \"white\", \"linecolor\": \"white\", \"minorgridcolor\": \"white\", \"startlinecolor\": \"#2a3f5f\"}, \"baxis\": {\"endlinecolor\": \"#2a3f5f\", \"gridcolor\": \"white\", \"linecolor\": \"white\", \"minorgridcolor\": \"white\", \"startlinecolor\": \"#2a3f5f\"}, \"type\": \"carpet\"}], \"choropleth\": [{\"colorbar\": {\"outlinewidth\": 0, \"ticks\": \"\"}, \"type\": \"choropleth\"}], \"contour\": [{\"colorbar\": {\"outlinewidth\": 0, \"ticks\": \"\"}, \"colorscale\": [[0.0, \"#0d0887\"], [0.1111111111111111, \"#46039f\"], [0.2222222222222222, \"#7201a8\"], [0.3333333333333333, \"#9c179e\"], [0.4444444444444444, \"#bd3786\"], [0.5555555555555556, \"#d8576b\"], [0.6666666666666666, \"#ed7953\"], [0.7777777777777778, \"#fb9f3a\"], [0.8888888888888888, \"#fdca26\"], [1.0, \"#f0f921\"]], \"type\": \"contour\"}], \"contourcarpet\": [{\"colorbar\": {\"outlinewidth\": 0, \"ticks\": \"\"}, \"type\": \"contourcarpet\"}], \"heatmap\": [{\"colorbar\": {\"outlinewidth\": 0, \"ticks\": \"\"}, \"colorscale\": [[0.0, \"#0d0887\"], [0.1111111111111111, \"#46039f\"], [0.2222222222222222, \"#7201a8\"], [0.3333333333333333, \"#9c179e\"], [0.4444444444444444, \"#bd3786\"], [0.5555555555555556, \"#d8576b\"], [0.6666666666666666, \"#ed7953\"], [0.7777777777777778, \"#fb9f3a\"], [0.8888888888888888, \"#fdca26\"], [1.0, \"#f0f921\"]], \"type\": \"heatmap\"}], \"heatmapgl\": [{\"colorbar\": {\"outlinewidth\": 0, \"ticks\": \"\"}, \"colorscale\": [[0.0, \"#0d0887\"], [0.1111111111111111, \"#46039f\"], [0.2222222222222222, \"#7201a8\"], [0.3333333333333333, \"#9c179e\"], [0.4444444444444444, \"#bd3786\"], [0.5555555555555556, \"#d8576b\"], [0.6666666666666666, \"#ed7953\"], [0.7777777777777778, \"#fb9f3a\"], [0.8888888888888888, \"#fdca26\"], [1.0, \"#f0f921\"]], \"type\": \"heatmapgl\"}], \"histogram\": [{\"marker\": {\"colorbar\": {\"outlinewidth\": 0, \"ticks\": \"\"}}, \"type\": \"histogram\"}], \"histogram2d\": [{\"colorbar\": {\"outlinewidth\": 0, \"ticks\": \"\"}, \"colorscale\": [[0.0, \"#0d0887\"], [0.1111111111111111, \"#46039f\"], [0.2222222222222222, \"#7201a8\"], [0.3333333333333333, \"#9c179e\"], [0.4444444444444444, \"#bd3786\"], [0.5555555555555556, \"#d8576b\"], [0.6666666666666666, \"#ed7953\"], [0.7777777777777778, \"#fb9f3a\"], [0.8888888888888888, \"#fdca26\"], [1.0, \"#f0f921\"]], \"type\": \"histogram2d\"}], \"histogram2dcontour\": [{\"colorbar\": {\"outlinewidth\": 0, \"ticks\": \"\"}, \"colorscale\": [[0.0, \"#0d0887\"], [0.1111111111111111, \"#46039f\"], [0.2222222222222222, \"#7201a8\"], [0.3333333333333333, \"#9c179e\"], [0.4444444444444444, \"#bd3786\"], [0.5555555555555556, \"#d8576b\"], [0.6666666666666666, \"#ed7953\"], [0.7777777777777778, \"#fb9f3a\"], [0.8888888888888888, \"#fdca26\"], [1.0, \"#f0f921\"]], \"type\": \"histogram2dcontour\"}], \"mesh3d\": [{\"colorbar\": {\"outlinewidth\": 0, \"ticks\": \"\"}, \"type\": \"mesh3d\"}], \"parcoords\": [{\"line\": {\"colorbar\": {\"outlinewidth\": 0, \"ticks\": \"\"}}, \"type\": \"parcoords\"}], \"pie\": [{\"automargin\": true, \"type\": \"pie\"}], \"scatter\": [{\"marker\": {\"colorbar\": {\"outlinewidth\": 0, \"ticks\": \"\"}}, \"type\": \"scatter\"}], \"scatter3d\": [{\"line\": {\"colorbar\": {\"outlinewidth\": 0, \"ticks\": \"\"}}, \"marker\": {\"colorbar\": {\"outlinewidth\": 0, \"ticks\": \"\"}}, \"type\": \"scatter3d\"}], \"scattercarpet\": [{\"marker\": {\"colorbar\": {\"outlinewidth\": 0, \"ticks\": \"\"}}, \"type\": \"scattercarpet\"}], \"scattergeo\": [{\"marker\": {\"colorbar\": {\"outlinewidth\": 0, \"ticks\": \"\"}}, \"type\": \"scattergeo\"}], \"scattergl\": [{\"marker\": {\"colorbar\": {\"outlinewidth\": 0, \"ticks\": \"\"}}, \"type\": \"scattergl\"}], \"scattermapbox\": [{\"marker\": {\"colorbar\": {\"outlinewidth\": 0, \"ticks\": \"\"}}, \"type\": \"scattermapbox\"}], \"scatterpolar\": [{\"marker\": {\"colorbar\": {\"outlinewidth\": 0, \"ticks\": \"\"}}, \"type\": \"scatterpolar\"}], \"scatterpolargl\": [{\"marker\": {\"colorbar\": {\"outlinewidth\": 0, \"ticks\": \"\"}}, \"type\": \"scatterpolargl\"}], \"scatterternary\": [{\"marker\": {\"colorbar\": {\"outlinewidth\": 0, \"ticks\": \"\"}}, \"type\": \"scatterternary\"}], \"surface\": [{\"colorbar\": {\"outlinewidth\": 0, \"ticks\": \"\"}, \"colorscale\": [[0.0, \"#0d0887\"], [0.1111111111111111, \"#46039f\"], [0.2222222222222222, \"#7201a8\"], [0.3333333333333333, \"#9c179e\"], [0.4444444444444444, \"#bd3786\"], [0.5555555555555556, \"#d8576b\"], [0.6666666666666666, \"#ed7953\"], [0.7777777777777778, \"#fb9f3a\"], [0.8888888888888888, \"#fdca26\"], [1.0, \"#f0f921\"]], \"type\": \"surface\"}], \"table\": [{\"cells\": {\"fill\": {\"color\": \"#EBF0F8\"}, \"line\": {\"color\": \"white\"}}, \"header\": {\"fill\": {\"color\": \"#C8D4E3\"}, \"line\": {\"color\": \"white\"}}, \"type\": \"table\"}]}, \"layout\": {\"annotationdefaults\": {\"arrowcolor\": \"#2a3f5f\", \"arrowhead\": 0, \"arrowwidth\": 1}, \"coloraxis\": {\"colorbar\": {\"outlinewidth\": 0, \"ticks\": \"\"}}, \"colorscale\": {\"diverging\": [[0, \"#8e0152\"], [0.1, \"#c51b7d\"], [0.2, \"#de77ae\"], [0.3, \"#f1b6da\"], [0.4, \"#fde0ef\"], [0.5, \"#f7f7f7\"], [0.6, \"#e6f5d0\"], [0.7, \"#b8e186\"], [0.8, \"#7fbc41\"], [0.9, \"#4d9221\"], [1, \"#276419\"]], \"sequential\": [[0.0, \"#0d0887\"], [0.1111111111111111, \"#46039f\"], [0.2222222222222222, \"#7201a8\"], [0.3333333333333333, \"#9c179e\"], [0.4444444444444444, \"#bd3786\"], [0.5555555555555556, \"#d8576b\"], [0.6666666666666666, \"#ed7953\"], [0.7777777777777778, \"#fb9f3a\"], [0.8888888888888888, \"#fdca26\"], [1.0, \"#f0f921\"]], \"sequentialminus\": [[0.0, \"#0d0887\"], [0.1111111111111111, \"#46039f\"], [0.2222222222222222, \"#7201a8\"], [0.3333333333333333, \"#9c179e\"], [0.4444444444444444, \"#bd3786\"], [0.5555555555555556, \"#d8576b\"], [0.6666666666666666, \"#ed7953\"], [0.7777777777777778, \"#fb9f3a\"], [0.8888888888888888, \"#fdca26\"], [1.0, \"#f0f921\"]]}, \"colorway\": [\"#636efa\", \"#EF553B\", \"#00cc96\", \"#ab63fa\", \"#FFA15A\", \"#19d3f3\", \"#FF6692\", \"#B6E880\", \"#FF97FF\", \"#FECB52\"], \"font\": {\"color\": \"#2a3f5f\"}, \"geo\": {\"bgcolor\": \"white\", \"lakecolor\": \"white\", \"landcolor\": \"#E5ECF6\", \"showlakes\": true, \"showland\": true, \"subunitcolor\": \"white\"}, \"hoverlabel\": {\"align\": \"left\"}, \"hovermode\": \"closest\", \"mapbox\": {\"style\": \"light\"}, \"paper_bgcolor\": \"white\", \"plot_bgcolor\": \"#E5ECF6\", \"polar\": {\"angularaxis\": {\"gridcolor\": \"white\", \"linecolor\": \"white\", \"ticks\": \"\"}, \"bgcolor\": \"#E5ECF6\", \"radialaxis\": {\"gridcolor\": \"white\", \"linecolor\": \"white\", \"ticks\": \"\"}}, \"scene\": {\"xaxis\": {\"backgroundcolor\": \"#E5ECF6\", \"gridcolor\": \"white\", \"gridwidth\": 2, \"linecolor\": \"white\", \"showbackground\": true, \"ticks\": \"\", \"zerolinecolor\": \"white\"}, \"yaxis\": {\"backgroundcolor\": \"#E5ECF6\", \"gridcolor\": \"white\", \"gridwidth\": 2, \"linecolor\": \"white\", \"showbackground\": true, \"ticks\": \"\", \"zerolinecolor\": \"white\"}, \"zaxis\": {\"backgroundcolor\": \"#E5ECF6\", \"gridcolor\": \"white\", \"gridwidth\": 2, \"linecolor\": \"white\", \"showbackground\": true, \"ticks\": \"\", \"zerolinecolor\": \"white\"}}, \"shapedefaults\": {\"line\": {\"color\": \"#2a3f5f\"}}, \"ternary\": {\"aaxis\": {\"gridcolor\": \"white\", \"linecolor\": \"white\", \"ticks\": \"\"}, \"baxis\": {\"gridcolor\": \"white\", \"linecolor\": \"white\", \"ticks\": \"\"}, \"bgcolor\": \"#E5ECF6\", \"caxis\": {\"gridcolor\": \"white\", \"linecolor\": \"white\", \"ticks\": \"\"}}, \"title\": {\"x\": 0.05}, \"xaxis\": {\"automargin\": true, \"gridcolor\": \"white\", \"linecolor\": \"white\", \"ticks\": \"\", \"title\": {\"standoff\": 15}, \"zerolinecolor\": \"white\", \"zerolinewidth\": 2}, \"yaxis\": {\"automargin\": true, \"gridcolor\": \"white\", \"linecolor\": \"white\", \"ticks\": \"\", \"title\": {\"standoff\": 15}, \"zerolinecolor\": \"white\", \"zerolinewidth\": 2}}}, \"title\": {\"text\": \"Medallas\"}, \"yaxis\": {\"title\": {\"text\": \"Total\"}}},\n",
       "                        {\"responsive\": true}\n",
       "                    ).then(function(){\n",
       "                            \n",
       "var gd = document.getElementById('c5f3c4fe-a546-4ed5-b1d8-0d08dca7decb');\n",
       "var x = new MutationObserver(function (mutations, observer) {{\n",
       "        var display = window.getComputedStyle(gd).display;\n",
       "        if (!display || display === 'none') {{\n",
       "            console.log([gd, 'removed!']);\n",
       "            Plotly.purge(gd);\n",
       "            observer.disconnect();\n",
       "        }}\n",
       "}});\n",
       "\n",
       "// Listen for the removal of the full notebook cells\n",
       "var notebookContainer = gd.closest('#notebook-container');\n",
       "if (notebookContainer) {{\n",
       "    x.observe(notebookContainer, {childList: true});\n",
       "}}\n",
       "\n",
       "// Listen for the clearing of the current output cell\n",
       "var outputEl = gd.closest('.output');\n",
       "if (outputEl) {{\n",
       "    x.observe(outputEl, {childList: true});\n",
       "}}\n",
       "\n",
       "                        })\n",
       "                };\n",
       "                });\n",
       "            </script>\n",
       "        </div>"
      ]
     },
     "metadata": {},
     "output_type": "display_data"
    }
   ],
   "source": [
    "datos = [go.Bar(x=valores['Pais'], y=valores['Total'])]\n",
    "capa = go.Layout(title='Medallas', yaxis=dict(title='Total'))\n",
    "figure = go.Figure(data=datos, layout=capa)\n",
    "pyo.iplot(figure)"
   ]
  },
  {
   "cell_type": "code",
   "execution_count": 34,
   "metadata": {},
   "outputs": [],
   "source": [
    "oro = go.Bar(x=valores['Pais'], y=valores['Oro'], marker=dict(color='yellow'), name='Oro')\n",
    "plata = go.Bar(x=valores['Pais'], y=valores['Plata'], marker=dict(color='gray'), name='Plata')\n",
    "bronce = go.Bar(x=valores['Pais'], y=valores['Bronce'], marker=dict(color='brown'), name='Bronce')"
   ]
  },
  {
   "cell_type": "code",
   "execution_count": 35,
   "metadata": {},
   "outputs": [
    {
     "data": {
      "application/vnd.plotly.v1+json": {
       "config": {
        "linkText": "Export to plot.ly",
        "plotlyServerURL": "https://plot.ly",
        "showLink": false
       },
       "data": [
        {
         "marker": {
          "color": "yellow"
         },
         "name": "Oro",
         "type": "bar",
         "x": [
          "Norway",
          "Germany",
          "Canada",
          "United States",
          "Netherlands",
          "Sweden",
          "Republic of Korea",
          "Switzerland",
          "France",
          "Austria",
          "Japan",
          "Italy",
          "OAR",
          "Czech Republic",
          "Belarus",
          "China",
          "Slovakia",
          "Finland",
          "Great Britain",
          "Poland",
          "Hungary",
          "Ukraine",
          "Australia",
          "Slovenia",
          "Belgium",
          "Spain",
          "New Zealand",
          "Kazakhstan",
          "Latvia",
          "Liechtenstein"
         ],
         "y": [
          14,
          14,
          11,
          9,
          8,
          7,
          5,
          5,
          5,
          5,
          4,
          3,
          2,
          2,
          2,
          1,
          1,
          1,
          1,
          1,
          1,
          1,
          0,
          0,
          0,
          0,
          0,
          0,
          0,
          0
         ]
        },
        {
         "marker": {
          "color": "gray"
         },
         "name": "Plata",
         "type": "bar",
         "x": [
          "Norway",
          "Germany",
          "Canada",
          "United States",
          "Netherlands",
          "Sweden",
          "Republic of Korea",
          "Switzerland",
          "France",
          "Austria",
          "Japan",
          "Italy",
          "OAR",
          "Czech Republic",
          "Belarus",
          "China",
          "Slovakia",
          "Finland",
          "Great Britain",
          "Poland",
          "Hungary",
          "Ukraine",
          "Australia",
          "Slovenia",
          "Belgium",
          "Spain",
          "New Zealand",
          "Kazakhstan",
          "Latvia",
          "Liechtenstein"
         ],
         "y": [
          14,
          10,
          8,
          8,
          6,
          6,
          8,
          6,
          4,
          3,
          5,
          2,
          6,
          2,
          1,
          6,
          2,
          1,
          0,
          0,
          0,
          0,
          2,
          1,
          1,
          0,
          0,
          0,
          0,
          0
         ]
        },
        {
         "marker": {
          "color": "brown"
         },
         "name": "Bronce",
         "type": "bar",
         "x": [
          "Norway",
          "Germany",
          "Canada",
          "United States",
          "Netherlands",
          "Sweden",
          "Republic of Korea",
          "Switzerland",
          "France",
          "Austria",
          "Japan",
          "Italy",
          "OAR",
          "Czech Republic",
          "Belarus",
          "China",
          "Slovakia",
          "Finland",
          "Great Britain",
          "Poland",
          "Hungary",
          "Ukraine",
          "Australia",
          "Slovenia",
          "Belgium",
          "Spain",
          "New Zealand",
          "Kazakhstan",
          "Latvia",
          "Liechtenstein"
         ],
         "y": [
          11,
          7,
          10,
          6,
          6,
          1,
          4,
          4,
          6,
          6,
          4,
          5,
          9,
          3,
          0,
          2,
          0,
          4,
          4,
          1,
          0,
          0,
          1,
          1,
          0,
          2,
          2,
          1,
          1,
          1
         ]
        }
       ],
       "layout": {
        "template": {
         "data": {
          "bar": [
           {
            "error_x": {
             "color": "#2a3f5f"
            },
            "error_y": {
             "color": "#2a3f5f"
            },
            "marker": {
             "line": {
              "color": "#E5ECF6",
              "width": 0.5
             }
            },
            "type": "bar"
           }
          ],
          "barpolar": [
           {
            "marker": {
             "line": {
              "color": "#E5ECF6",
              "width": 0.5
             }
            },
            "type": "barpolar"
           }
          ],
          "carpet": [
           {
            "aaxis": {
             "endlinecolor": "#2a3f5f",
             "gridcolor": "white",
             "linecolor": "white",
             "minorgridcolor": "white",
             "startlinecolor": "#2a3f5f"
            },
            "baxis": {
             "endlinecolor": "#2a3f5f",
             "gridcolor": "white",
             "linecolor": "white",
             "minorgridcolor": "white",
             "startlinecolor": "#2a3f5f"
            },
            "type": "carpet"
           }
          ],
          "choropleth": [
           {
            "colorbar": {
             "outlinewidth": 0,
             "ticks": ""
            },
            "type": "choropleth"
           }
          ],
          "contour": [
           {
            "colorbar": {
             "outlinewidth": 0,
             "ticks": ""
            },
            "colorscale": [
             [
              0,
              "#0d0887"
             ],
             [
              0.1111111111111111,
              "#46039f"
             ],
             [
              0.2222222222222222,
              "#7201a8"
             ],
             [
              0.3333333333333333,
              "#9c179e"
             ],
             [
              0.4444444444444444,
              "#bd3786"
             ],
             [
              0.5555555555555556,
              "#d8576b"
             ],
             [
              0.6666666666666666,
              "#ed7953"
             ],
             [
              0.7777777777777778,
              "#fb9f3a"
             ],
             [
              0.8888888888888888,
              "#fdca26"
             ],
             [
              1,
              "#f0f921"
             ]
            ],
            "type": "contour"
           }
          ],
          "contourcarpet": [
           {
            "colorbar": {
             "outlinewidth": 0,
             "ticks": ""
            },
            "type": "contourcarpet"
           }
          ],
          "heatmap": [
           {
            "colorbar": {
             "outlinewidth": 0,
             "ticks": ""
            },
            "colorscale": [
             [
              0,
              "#0d0887"
             ],
             [
              0.1111111111111111,
              "#46039f"
             ],
             [
              0.2222222222222222,
              "#7201a8"
             ],
             [
              0.3333333333333333,
              "#9c179e"
             ],
             [
              0.4444444444444444,
              "#bd3786"
             ],
             [
              0.5555555555555556,
              "#d8576b"
             ],
             [
              0.6666666666666666,
              "#ed7953"
             ],
             [
              0.7777777777777778,
              "#fb9f3a"
             ],
             [
              0.8888888888888888,
              "#fdca26"
             ],
             [
              1,
              "#f0f921"
             ]
            ],
            "type": "heatmap"
           }
          ],
          "heatmapgl": [
           {
            "colorbar": {
             "outlinewidth": 0,
             "ticks": ""
            },
            "colorscale": [
             [
              0,
              "#0d0887"
             ],
             [
              0.1111111111111111,
              "#46039f"
             ],
             [
              0.2222222222222222,
              "#7201a8"
             ],
             [
              0.3333333333333333,
              "#9c179e"
             ],
             [
              0.4444444444444444,
              "#bd3786"
             ],
             [
              0.5555555555555556,
              "#d8576b"
             ],
             [
              0.6666666666666666,
              "#ed7953"
             ],
             [
              0.7777777777777778,
              "#fb9f3a"
             ],
             [
              0.8888888888888888,
              "#fdca26"
             ],
             [
              1,
              "#f0f921"
             ]
            ],
            "type": "heatmapgl"
           }
          ],
          "histogram": [
           {
            "marker": {
             "colorbar": {
              "outlinewidth": 0,
              "ticks": ""
             }
            },
            "type": "histogram"
           }
          ],
          "histogram2d": [
           {
            "colorbar": {
             "outlinewidth": 0,
             "ticks": ""
            },
            "colorscale": [
             [
              0,
              "#0d0887"
             ],
             [
              0.1111111111111111,
              "#46039f"
             ],
             [
              0.2222222222222222,
              "#7201a8"
             ],
             [
              0.3333333333333333,
              "#9c179e"
             ],
             [
              0.4444444444444444,
              "#bd3786"
             ],
             [
              0.5555555555555556,
              "#d8576b"
             ],
             [
              0.6666666666666666,
              "#ed7953"
             ],
             [
              0.7777777777777778,
              "#fb9f3a"
             ],
             [
              0.8888888888888888,
              "#fdca26"
             ],
             [
              1,
              "#f0f921"
             ]
            ],
            "type": "histogram2d"
           }
          ],
          "histogram2dcontour": [
           {
            "colorbar": {
             "outlinewidth": 0,
             "ticks": ""
            },
            "colorscale": [
             [
              0,
              "#0d0887"
             ],
             [
              0.1111111111111111,
              "#46039f"
             ],
             [
              0.2222222222222222,
              "#7201a8"
             ],
             [
              0.3333333333333333,
              "#9c179e"
             ],
             [
              0.4444444444444444,
              "#bd3786"
             ],
             [
              0.5555555555555556,
              "#d8576b"
             ],
             [
              0.6666666666666666,
              "#ed7953"
             ],
             [
              0.7777777777777778,
              "#fb9f3a"
             ],
             [
              0.8888888888888888,
              "#fdca26"
             ],
             [
              1,
              "#f0f921"
             ]
            ],
            "type": "histogram2dcontour"
           }
          ],
          "mesh3d": [
           {
            "colorbar": {
             "outlinewidth": 0,
             "ticks": ""
            },
            "type": "mesh3d"
           }
          ],
          "parcoords": [
           {
            "line": {
             "colorbar": {
              "outlinewidth": 0,
              "ticks": ""
             }
            },
            "type": "parcoords"
           }
          ],
          "pie": [
           {
            "automargin": true,
            "type": "pie"
           }
          ],
          "scatter": [
           {
            "marker": {
             "colorbar": {
              "outlinewidth": 0,
              "ticks": ""
             }
            },
            "type": "scatter"
           }
          ],
          "scatter3d": [
           {
            "line": {
             "colorbar": {
              "outlinewidth": 0,
              "ticks": ""
             }
            },
            "marker": {
             "colorbar": {
              "outlinewidth": 0,
              "ticks": ""
             }
            },
            "type": "scatter3d"
           }
          ],
          "scattercarpet": [
           {
            "marker": {
             "colorbar": {
              "outlinewidth": 0,
              "ticks": ""
             }
            },
            "type": "scattercarpet"
           }
          ],
          "scattergeo": [
           {
            "marker": {
             "colorbar": {
              "outlinewidth": 0,
              "ticks": ""
             }
            },
            "type": "scattergeo"
           }
          ],
          "scattergl": [
           {
            "marker": {
             "colorbar": {
              "outlinewidth": 0,
              "ticks": ""
             }
            },
            "type": "scattergl"
           }
          ],
          "scattermapbox": [
           {
            "marker": {
             "colorbar": {
              "outlinewidth": 0,
              "ticks": ""
             }
            },
            "type": "scattermapbox"
           }
          ],
          "scatterpolar": [
           {
            "marker": {
             "colorbar": {
              "outlinewidth": 0,
              "ticks": ""
             }
            },
            "type": "scatterpolar"
           }
          ],
          "scatterpolargl": [
           {
            "marker": {
             "colorbar": {
              "outlinewidth": 0,
              "ticks": ""
             }
            },
            "type": "scatterpolargl"
           }
          ],
          "scatterternary": [
           {
            "marker": {
             "colorbar": {
              "outlinewidth": 0,
              "ticks": ""
             }
            },
            "type": "scatterternary"
           }
          ],
          "surface": [
           {
            "colorbar": {
             "outlinewidth": 0,
             "ticks": ""
            },
            "colorscale": [
             [
              0,
              "#0d0887"
             ],
             [
              0.1111111111111111,
              "#46039f"
             ],
             [
              0.2222222222222222,
              "#7201a8"
             ],
             [
              0.3333333333333333,
              "#9c179e"
             ],
             [
              0.4444444444444444,
              "#bd3786"
             ],
             [
              0.5555555555555556,
              "#d8576b"
             ],
             [
              0.6666666666666666,
              "#ed7953"
             ],
             [
              0.7777777777777778,
              "#fb9f3a"
             ],
             [
              0.8888888888888888,
              "#fdca26"
             ],
             [
              1,
              "#f0f921"
             ]
            ],
            "type": "surface"
           }
          ],
          "table": [
           {
            "cells": {
             "fill": {
              "color": "#EBF0F8"
             },
             "line": {
              "color": "white"
             }
            },
            "header": {
             "fill": {
              "color": "#C8D4E3"
             },
             "line": {
              "color": "white"
             }
            },
            "type": "table"
           }
          ]
         },
         "layout": {
          "annotationdefaults": {
           "arrowcolor": "#2a3f5f",
           "arrowhead": 0,
           "arrowwidth": 1
          },
          "coloraxis": {
           "colorbar": {
            "outlinewidth": 0,
            "ticks": ""
           }
          },
          "colorscale": {
           "diverging": [
            [
             0,
             "#8e0152"
            ],
            [
             0.1,
             "#c51b7d"
            ],
            [
             0.2,
             "#de77ae"
            ],
            [
             0.3,
             "#f1b6da"
            ],
            [
             0.4,
             "#fde0ef"
            ],
            [
             0.5,
             "#f7f7f7"
            ],
            [
             0.6,
             "#e6f5d0"
            ],
            [
             0.7,
             "#b8e186"
            ],
            [
             0.8,
             "#7fbc41"
            ],
            [
             0.9,
             "#4d9221"
            ],
            [
             1,
             "#276419"
            ]
           ],
           "sequential": [
            [
             0,
             "#0d0887"
            ],
            [
             0.1111111111111111,
             "#46039f"
            ],
            [
             0.2222222222222222,
             "#7201a8"
            ],
            [
             0.3333333333333333,
             "#9c179e"
            ],
            [
             0.4444444444444444,
             "#bd3786"
            ],
            [
             0.5555555555555556,
             "#d8576b"
            ],
            [
             0.6666666666666666,
             "#ed7953"
            ],
            [
             0.7777777777777778,
             "#fb9f3a"
            ],
            [
             0.8888888888888888,
             "#fdca26"
            ],
            [
             1,
             "#f0f921"
            ]
           ],
           "sequentialminus": [
            [
             0,
             "#0d0887"
            ],
            [
             0.1111111111111111,
             "#46039f"
            ],
            [
             0.2222222222222222,
             "#7201a8"
            ],
            [
             0.3333333333333333,
             "#9c179e"
            ],
            [
             0.4444444444444444,
             "#bd3786"
            ],
            [
             0.5555555555555556,
             "#d8576b"
            ],
            [
             0.6666666666666666,
             "#ed7953"
            ],
            [
             0.7777777777777778,
             "#fb9f3a"
            ],
            [
             0.8888888888888888,
             "#fdca26"
            ],
            [
             1,
             "#f0f921"
            ]
           ]
          },
          "colorway": [
           "#636efa",
           "#EF553B",
           "#00cc96",
           "#ab63fa",
           "#FFA15A",
           "#19d3f3",
           "#FF6692",
           "#B6E880",
           "#FF97FF",
           "#FECB52"
          ],
          "font": {
           "color": "#2a3f5f"
          },
          "geo": {
           "bgcolor": "white",
           "lakecolor": "white",
           "landcolor": "#E5ECF6",
           "showlakes": true,
           "showland": true,
           "subunitcolor": "white"
          },
          "hoverlabel": {
           "align": "left"
          },
          "hovermode": "closest",
          "mapbox": {
           "style": "light"
          },
          "paper_bgcolor": "white",
          "plot_bgcolor": "#E5ECF6",
          "polar": {
           "angularaxis": {
            "gridcolor": "white",
            "linecolor": "white",
            "ticks": ""
           },
           "bgcolor": "#E5ECF6",
           "radialaxis": {
            "gridcolor": "white",
            "linecolor": "white",
            "ticks": ""
           }
          },
          "scene": {
           "xaxis": {
            "backgroundcolor": "#E5ECF6",
            "gridcolor": "white",
            "gridwidth": 2,
            "linecolor": "white",
            "showbackground": true,
            "ticks": "",
            "zerolinecolor": "white"
           },
           "yaxis": {
            "backgroundcolor": "#E5ECF6",
            "gridcolor": "white",
            "gridwidth": 2,
            "linecolor": "white",
            "showbackground": true,
            "ticks": "",
            "zerolinecolor": "white"
           },
           "zaxis": {
            "backgroundcolor": "#E5ECF6",
            "gridcolor": "white",
            "gridwidth": 2,
            "linecolor": "white",
            "showbackground": true,
            "ticks": "",
            "zerolinecolor": "white"
           }
          },
          "shapedefaults": {
           "line": {
            "color": "#2a3f5f"
           }
          },
          "ternary": {
           "aaxis": {
            "gridcolor": "white",
            "linecolor": "white",
            "ticks": ""
           },
           "baxis": {
            "gridcolor": "white",
            "linecolor": "white",
            "ticks": ""
           },
           "bgcolor": "#E5ECF6",
           "caxis": {
            "gridcolor": "white",
            "linecolor": "white",
            "ticks": ""
           }
          },
          "title": {
           "x": 0.05
          },
          "xaxis": {
           "automargin": true,
           "gridcolor": "white",
           "linecolor": "white",
           "ticks": "",
           "title": {
            "standoff": 15
           },
           "zerolinecolor": "white",
           "zerolinewidth": 2
          },
          "yaxis": {
           "automargin": true,
           "gridcolor": "white",
           "linecolor": "white",
           "ticks": "",
           "title": {
            "standoff": 15
           },
           "zerolinecolor": "white",
           "zerolinewidth": 2
          }
         }
        },
        "title": {
         "text": "Medallas por tipo"
        },
        "yaxis": {
         "title": {
          "text": "Número de medallas"
         }
        }
       }
      },
      "text/html": [
       "<div>\n",
       "        \n",
       "        \n",
       "            <div id=\"cc075c2a-6c08-4c34-9c07-259a7b4759b5\" class=\"plotly-graph-div\" style=\"height:525px; width:100%;\"></div>\n",
       "            <script type=\"text/javascript\">\n",
       "                require([\"plotly\"], function(Plotly) {\n",
       "                    window.PLOTLYENV=window.PLOTLYENV || {};\n",
       "                    \n",
       "                if (document.getElementById(\"cc075c2a-6c08-4c34-9c07-259a7b4759b5\")) {\n",
       "                    Plotly.newPlot(\n",
       "                        'cc075c2a-6c08-4c34-9c07-259a7b4759b5',\n",
       "                        [{\"marker\": {\"color\": \"yellow\"}, \"name\": \"Oro\", \"type\": \"bar\", \"x\": [\"Norway\", \"Germany\", \"Canada\", \"United States\", \"Netherlands\", \"Sweden\", \"Republic of Korea\", \"Switzerland\", \"France\", \"Austria\", \"Japan\", \"Italy\", \"OAR\", \"Czech Republic\", \"Belarus\", \"China\", \"Slovakia\", \"Finland\", \"Great Britain\", \"Poland\", \"Hungary\", \"Ukraine\", \"Australia\", \"Slovenia\", \"Belgium\", \"Spain\", \"New Zealand\", \"Kazakhstan\", \"Latvia\", \"Liechtenstein\"], \"y\": [14, 14, 11, 9, 8, 7, 5, 5, 5, 5, 4, 3, 2, 2, 2, 1, 1, 1, 1, 1, 1, 1, 0, 0, 0, 0, 0, 0, 0, 0]}, {\"marker\": {\"color\": \"gray\"}, \"name\": \"Plata\", \"type\": \"bar\", \"x\": [\"Norway\", \"Germany\", \"Canada\", \"United States\", \"Netherlands\", \"Sweden\", \"Republic of Korea\", \"Switzerland\", \"France\", \"Austria\", \"Japan\", \"Italy\", \"OAR\", \"Czech Republic\", \"Belarus\", \"China\", \"Slovakia\", \"Finland\", \"Great Britain\", \"Poland\", \"Hungary\", \"Ukraine\", \"Australia\", \"Slovenia\", \"Belgium\", \"Spain\", \"New Zealand\", \"Kazakhstan\", \"Latvia\", \"Liechtenstein\"], \"y\": [14, 10, 8, 8, 6, 6, 8, 6, 4, 3, 5, 2, 6, 2, 1, 6, 2, 1, 0, 0, 0, 0, 2, 1, 1, 0, 0, 0, 0, 0]}, {\"marker\": {\"color\": \"brown\"}, \"name\": \"Bronce\", \"type\": \"bar\", \"x\": [\"Norway\", \"Germany\", \"Canada\", \"United States\", \"Netherlands\", \"Sweden\", \"Republic of Korea\", \"Switzerland\", \"France\", \"Austria\", \"Japan\", \"Italy\", \"OAR\", \"Czech Republic\", \"Belarus\", \"China\", \"Slovakia\", \"Finland\", \"Great Britain\", \"Poland\", \"Hungary\", \"Ukraine\", \"Australia\", \"Slovenia\", \"Belgium\", \"Spain\", \"New Zealand\", \"Kazakhstan\", \"Latvia\", \"Liechtenstein\"], \"y\": [11, 7, 10, 6, 6, 1, 4, 4, 6, 6, 4, 5, 9, 3, 0, 2, 0, 4, 4, 1, 0, 0, 1, 1, 0, 2, 2, 1, 1, 1]}],\n",
       "                        {\"template\": {\"data\": {\"bar\": [{\"error_x\": {\"color\": \"#2a3f5f\"}, \"error_y\": {\"color\": \"#2a3f5f\"}, \"marker\": {\"line\": {\"color\": \"#E5ECF6\", \"width\": 0.5}}, \"type\": \"bar\"}], \"barpolar\": [{\"marker\": {\"line\": {\"color\": \"#E5ECF6\", \"width\": 0.5}}, \"type\": \"barpolar\"}], \"carpet\": [{\"aaxis\": {\"endlinecolor\": \"#2a3f5f\", \"gridcolor\": \"white\", \"linecolor\": \"white\", \"minorgridcolor\": \"white\", \"startlinecolor\": \"#2a3f5f\"}, \"baxis\": {\"endlinecolor\": \"#2a3f5f\", \"gridcolor\": \"white\", \"linecolor\": \"white\", \"minorgridcolor\": \"white\", \"startlinecolor\": \"#2a3f5f\"}, \"type\": \"carpet\"}], \"choropleth\": [{\"colorbar\": {\"outlinewidth\": 0, \"ticks\": \"\"}, \"type\": \"choropleth\"}], \"contour\": [{\"colorbar\": {\"outlinewidth\": 0, \"ticks\": \"\"}, \"colorscale\": [[0.0, \"#0d0887\"], [0.1111111111111111, \"#46039f\"], [0.2222222222222222, \"#7201a8\"], [0.3333333333333333, \"#9c179e\"], [0.4444444444444444, \"#bd3786\"], [0.5555555555555556, \"#d8576b\"], [0.6666666666666666, \"#ed7953\"], [0.7777777777777778, \"#fb9f3a\"], [0.8888888888888888, \"#fdca26\"], [1.0, \"#f0f921\"]], \"type\": \"contour\"}], \"contourcarpet\": [{\"colorbar\": {\"outlinewidth\": 0, \"ticks\": \"\"}, \"type\": \"contourcarpet\"}], \"heatmap\": [{\"colorbar\": {\"outlinewidth\": 0, \"ticks\": \"\"}, \"colorscale\": [[0.0, \"#0d0887\"], [0.1111111111111111, \"#46039f\"], [0.2222222222222222, \"#7201a8\"], [0.3333333333333333, \"#9c179e\"], [0.4444444444444444, \"#bd3786\"], [0.5555555555555556, \"#d8576b\"], [0.6666666666666666, \"#ed7953\"], [0.7777777777777778, \"#fb9f3a\"], [0.8888888888888888, \"#fdca26\"], [1.0, \"#f0f921\"]], \"type\": \"heatmap\"}], \"heatmapgl\": [{\"colorbar\": {\"outlinewidth\": 0, \"ticks\": \"\"}, \"colorscale\": [[0.0, \"#0d0887\"], [0.1111111111111111, \"#46039f\"], [0.2222222222222222, \"#7201a8\"], [0.3333333333333333, \"#9c179e\"], [0.4444444444444444, \"#bd3786\"], [0.5555555555555556, \"#d8576b\"], [0.6666666666666666, \"#ed7953\"], [0.7777777777777778, \"#fb9f3a\"], [0.8888888888888888, \"#fdca26\"], [1.0, \"#f0f921\"]], \"type\": \"heatmapgl\"}], \"histogram\": [{\"marker\": {\"colorbar\": {\"outlinewidth\": 0, \"ticks\": \"\"}}, \"type\": \"histogram\"}], \"histogram2d\": [{\"colorbar\": {\"outlinewidth\": 0, \"ticks\": \"\"}, \"colorscale\": [[0.0, \"#0d0887\"], [0.1111111111111111, \"#46039f\"], [0.2222222222222222, \"#7201a8\"], [0.3333333333333333, \"#9c179e\"], [0.4444444444444444, \"#bd3786\"], [0.5555555555555556, \"#d8576b\"], [0.6666666666666666, \"#ed7953\"], [0.7777777777777778, \"#fb9f3a\"], [0.8888888888888888, \"#fdca26\"], [1.0, \"#f0f921\"]], \"type\": \"histogram2d\"}], \"histogram2dcontour\": [{\"colorbar\": {\"outlinewidth\": 0, \"ticks\": \"\"}, \"colorscale\": [[0.0, \"#0d0887\"], [0.1111111111111111, \"#46039f\"], [0.2222222222222222, \"#7201a8\"], [0.3333333333333333, \"#9c179e\"], [0.4444444444444444, \"#bd3786\"], [0.5555555555555556, \"#d8576b\"], [0.6666666666666666, \"#ed7953\"], [0.7777777777777778, \"#fb9f3a\"], [0.8888888888888888, \"#fdca26\"], [1.0, \"#f0f921\"]], \"type\": \"histogram2dcontour\"}], \"mesh3d\": [{\"colorbar\": {\"outlinewidth\": 0, \"ticks\": \"\"}, \"type\": \"mesh3d\"}], \"parcoords\": [{\"line\": {\"colorbar\": {\"outlinewidth\": 0, \"ticks\": \"\"}}, \"type\": \"parcoords\"}], \"pie\": [{\"automargin\": true, \"type\": \"pie\"}], \"scatter\": [{\"marker\": {\"colorbar\": {\"outlinewidth\": 0, \"ticks\": \"\"}}, \"type\": \"scatter\"}], \"scatter3d\": [{\"line\": {\"colorbar\": {\"outlinewidth\": 0, \"ticks\": \"\"}}, \"marker\": {\"colorbar\": {\"outlinewidth\": 0, \"ticks\": \"\"}}, \"type\": \"scatter3d\"}], \"scattercarpet\": [{\"marker\": {\"colorbar\": {\"outlinewidth\": 0, \"ticks\": \"\"}}, \"type\": \"scattercarpet\"}], \"scattergeo\": [{\"marker\": {\"colorbar\": {\"outlinewidth\": 0, \"ticks\": \"\"}}, \"type\": \"scattergeo\"}], \"scattergl\": [{\"marker\": {\"colorbar\": {\"outlinewidth\": 0, \"ticks\": \"\"}}, \"type\": \"scattergl\"}], \"scattermapbox\": [{\"marker\": {\"colorbar\": {\"outlinewidth\": 0, \"ticks\": \"\"}}, \"type\": \"scattermapbox\"}], \"scatterpolar\": [{\"marker\": {\"colorbar\": {\"outlinewidth\": 0, \"ticks\": \"\"}}, \"type\": \"scatterpolar\"}], \"scatterpolargl\": [{\"marker\": {\"colorbar\": {\"outlinewidth\": 0, \"ticks\": \"\"}}, \"type\": \"scatterpolargl\"}], \"scatterternary\": [{\"marker\": {\"colorbar\": {\"outlinewidth\": 0, \"ticks\": \"\"}}, \"type\": \"scatterternary\"}], \"surface\": [{\"colorbar\": {\"outlinewidth\": 0, \"ticks\": \"\"}, \"colorscale\": [[0.0, \"#0d0887\"], [0.1111111111111111, \"#46039f\"], [0.2222222222222222, \"#7201a8\"], [0.3333333333333333, \"#9c179e\"], [0.4444444444444444, \"#bd3786\"], [0.5555555555555556, \"#d8576b\"], [0.6666666666666666, \"#ed7953\"], [0.7777777777777778, \"#fb9f3a\"], [0.8888888888888888, \"#fdca26\"], [1.0, \"#f0f921\"]], \"type\": \"surface\"}], \"table\": [{\"cells\": {\"fill\": {\"color\": \"#EBF0F8\"}, \"line\": {\"color\": \"white\"}}, \"header\": {\"fill\": {\"color\": \"#C8D4E3\"}, \"line\": {\"color\": \"white\"}}, \"type\": \"table\"}]}, \"layout\": {\"annotationdefaults\": {\"arrowcolor\": \"#2a3f5f\", \"arrowhead\": 0, \"arrowwidth\": 1}, \"coloraxis\": {\"colorbar\": {\"outlinewidth\": 0, \"ticks\": \"\"}}, \"colorscale\": {\"diverging\": [[0, \"#8e0152\"], [0.1, \"#c51b7d\"], [0.2, \"#de77ae\"], [0.3, \"#f1b6da\"], [0.4, \"#fde0ef\"], [0.5, \"#f7f7f7\"], [0.6, \"#e6f5d0\"], [0.7, \"#b8e186\"], [0.8, \"#7fbc41\"], [0.9, \"#4d9221\"], [1, \"#276419\"]], \"sequential\": [[0.0, \"#0d0887\"], [0.1111111111111111, \"#46039f\"], [0.2222222222222222, \"#7201a8\"], [0.3333333333333333, \"#9c179e\"], [0.4444444444444444, \"#bd3786\"], [0.5555555555555556, \"#d8576b\"], [0.6666666666666666, \"#ed7953\"], [0.7777777777777778, \"#fb9f3a\"], [0.8888888888888888, \"#fdca26\"], [1.0, \"#f0f921\"]], \"sequentialminus\": [[0.0, \"#0d0887\"], [0.1111111111111111, \"#46039f\"], [0.2222222222222222, \"#7201a8\"], [0.3333333333333333, \"#9c179e\"], [0.4444444444444444, \"#bd3786\"], [0.5555555555555556, \"#d8576b\"], [0.6666666666666666, \"#ed7953\"], [0.7777777777777778, \"#fb9f3a\"], [0.8888888888888888, \"#fdca26\"], [1.0, \"#f0f921\"]]}, \"colorway\": [\"#636efa\", \"#EF553B\", \"#00cc96\", \"#ab63fa\", \"#FFA15A\", \"#19d3f3\", \"#FF6692\", \"#B6E880\", \"#FF97FF\", \"#FECB52\"], \"font\": {\"color\": \"#2a3f5f\"}, \"geo\": {\"bgcolor\": \"white\", \"lakecolor\": \"white\", \"landcolor\": \"#E5ECF6\", \"showlakes\": true, \"showland\": true, \"subunitcolor\": \"white\"}, \"hoverlabel\": {\"align\": \"left\"}, \"hovermode\": \"closest\", \"mapbox\": {\"style\": \"light\"}, \"paper_bgcolor\": \"white\", \"plot_bgcolor\": \"#E5ECF6\", \"polar\": {\"angularaxis\": {\"gridcolor\": \"white\", \"linecolor\": \"white\", \"ticks\": \"\"}, \"bgcolor\": \"#E5ECF6\", \"radialaxis\": {\"gridcolor\": \"white\", \"linecolor\": \"white\", \"ticks\": \"\"}}, \"scene\": {\"xaxis\": {\"backgroundcolor\": \"#E5ECF6\", \"gridcolor\": \"white\", \"gridwidth\": 2, \"linecolor\": \"white\", \"showbackground\": true, \"ticks\": \"\", \"zerolinecolor\": \"white\"}, \"yaxis\": {\"backgroundcolor\": \"#E5ECF6\", \"gridcolor\": \"white\", \"gridwidth\": 2, \"linecolor\": \"white\", \"showbackground\": true, \"ticks\": \"\", \"zerolinecolor\": \"white\"}, \"zaxis\": {\"backgroundcolor\": \"#E5ECF6\", \"gridcolor\": \"white\", \"gridwidth\": 2, \"linecolor\": \"white\", \"showbackground\": true, \"ticks\": \"\", \"zerolinecolor\": \"white\"}}, \"shapedefaults\": {\"line\": {\"color\": \"#2a3f5f\"}}, \"ternary\": {\"aaxis\": {\"gridcolor\": \"white\", \"linecolor\": \"white\", \"ticks\": \"\"}, \"baxis\": {\"gridcolor\": \"white\", \"linecolor\": \"white\", \"ticks\": \"\"}, \"bgcolor\": \"#E5ECF6\", \"caxis\": {\"gridcolor\": \"white\", \"linecolor\": \"white\", \"ticks\": \"\"}}, \"title\": {\"x\": 0.05}, \"xaxis\": {\"automargin\": true, \"gridcolor\": \"white\", \"linecolor\": \"white\", \"ticks\": \"\", \"title\": {\"standoff\": 15}, \"zerolinecolor\": \"white\", \"zerolinewidth\": 2}, \"yaxis\": {\"automargin\": true, \"gridcolor\": \"white\", \"linecolor\": \"white\", \"ticks\": \"\", \"title\": {\"standoff\": 15}, \"zerolinecolor\": \"white\", \"zerolinewidth\": 2}}}, \"title\": {\"text\": \"Medallas por tipo\"}, \"yaxis\": {\"title\": {\"text\": \"N\\u00famero de medallas\"}}},\n",
       "                        {\"responsive\": true}\n",
       "                    ).then(function(){\n",
       "                            \n",
       "var gd = document.getElementById('cc075c2a-6c08-4c34-9c07-259a7b4759b5');\n",
       "var x = new MutationObserver(function (mutations, observer) {{\n",
       "        var display = window.getComputedStyle(gd).display;\n",
       "        if (!display || display === 'none') {{\n",
       "            console.log([gd, 'removed!']);\n",
       "            Plotly.purge(gd);\n",
       "            observer.disconnect();\n",
       "        }}\n",
       "}});\n",
       "\n",
       "// Listen for the removal of the full notebook cells\n",
       "var notebookContainer = gd.closest('#notebook-container');\n",
       "if (notebookContainer) {{\n",
       "    x.observe(notebookContainer, {childList: true});\n",
       "}}\n",
       "\n",
       "// Listen for the clearing of the current output cell\n",
       "var outputEl = gd.closest('.output');\n",
       "if (outputEl) {{\n",
       "    x.observe(outputEl, {childList: true});\n",
       "}}\n",
       "\n",
       "                        })\n",
       "                };\n",
       "                });\n",
       "            </script>\n",
       "        </div>"
      ]
     },
     "metadata": {},
     "output_type": "display_data"
    }
   ],
   "source": [
    "datos = [oro, plata, bronce]\n",
    "capa = go.Layout(title='Medallas por tipo', yaxis=dict(title='Número de medallas'))\n",
    "figure = go.Figure(data=datos, layout=capa)\n",
    "pyo.iplot(figure)"
   ]
  },
  {
   "cell_type": "markdown",
   "metadata": {},
   "source": [
    "### Fusionar las tres barras en una."
   ]
  },
  {
   "cell_type": "code",
   "execution_count": 38,
   "metadata": {},
   "outputs": [
    {
     "data": {
      "application/vnd.plotly.v1+json": {
       "config": {
        "linkText": "Export to plot.ly",
        "plotlyServerURL": "https://plot.ly",
        "showLink": false
       },
       "data": [
        {
         "marker": {
          "color": "brown"
         },
         "name": "Bronce",
         "type": "bar",
         "x": [
          "Norway",
          "Germany",
          "Canada",
          "United States",
          "Netherlands",
          "Sweden",
          "Republic of Korea",
          "Switzerland",
          "France",
          "Austria",
          "Japan",
          "Italy",
          "OAR",
          "Czech Republic",
          "Belarus",
          "China",
          "Slovakia",
          "Finland",
          "Great Britain",
          "Poland",
          "Hungary",
          "Ukraine",
          "Australia",
          "Slovenia",
          "Belgium",
          "Spain",
          "New Zealand",
          "Kazakhstan",
          "Latvia",
          "Liechtenstein"
         ],
         "y": [
          11,
          7,
          10,
          6,
          6,
          1,
          4,
          4,
          6,
          6,
          4,
          5,
          9,
          3,
          0,
          2,
          0,
          4,
          4,
          1,
          0,
          0,
          1,
          1,
          0,
          2,
          2,
          1,
          1,
          1
         ]
        },
        {
         "marker": {
          "color": "gray"
         },
         "name": "Plata",
         "type": "bar",
         "x": [
          "Norway",
          "Germany",
          "Canada",
          "United States",
          "Netherlands",
          "Sweden",
          "Republic of Korea",
          "Switzerland",
          "France",
          "Austria",
          "Japan",
          "Italy",
          "OAR",
          "Czech Republic",
          "Belarus",
          "China",
          "Slovakia",
          "Finland",
          "Great Britain",
          "Poland",
          "Hungary",
          "Ukraine",
          "Australia",
          "Slovenia",
          "Belgium",
          "Spain",
          "New Zealand",
          "Kazakhstan",
          "Latvia",
          "Liechtenstein"
         ],
         "y": [
          14,
          10,
          8,
          8,
          6,
          6,
          8,
          6,
          4,
          3,
          5,
          2,
          6,
          2,
          1,
          6,
          2,
          1,
          0,
          0,
          0,
          0,
          2,
          1,
          1,
          0,
          0,
          0,
          0,
          0
         ]
        },
        {
         "marker": {
          "color": "yellow"
         },
         "name": "Oro",
         "type": "bar",
         "x": [
          "Norway",
          "Germany",
          "Canada",
          "United States",
          "Netherlands",
          "Sweden",
          "Republic of Korea",
          "Switzerland",
          "France",
          "Austria",
          "Japan",
          "Italy",
          "OAR",
          "Czech Republic",
          "Belarus",
          "China",
          "Slovakia",
          "Finland",
          "Great Britain",
          "Poland",
          "Hungary",
          "Ukraine",
          "Australia",
          "Slovenia",
          "Belgium",
          "Spain",
          "New Zealand",
          "Kazakhstan",
          "Latvia",
          "Liechtenstein"
         ],
         "y": [
          14,
          14,
          11,
          9,
          8,
          7,
          5,
          5,
          5,
          5,
          4,
          3,
          2,
          2,
          2,
          1,
          1,
          1,
          1,
          1,
          1,
          1,
          0,
          0,
          0,
          0,
          0,
          0,
          0,
          0
         ]
        }
       ],
       "layout": {
        "barmode": "stack",
        "template": {
         "data": {
          "bar": [
           {
            "error_x": {
             "color": "#2a3f5f"
            },
            "error_y": {
             "color": "#2a3f5f"
            },
            "marker": {
             "line": {
              "color": "#E5ECF6",
              "width": 0.5
             }
            },
            "type": "bar"
           }
          ],
          "barpolar": [
           {
            "marker": {
             "line": {
              "color": "#E5ECF6",
              "width": 0.5
             }
            },
            "type": "barpolar"
           }
          ],
          "carpet": [
           {
            "aaxis": {
             "endlinecolor": "#2a3f5f",
             "gridcolor": "white",
             "linecolor": "white",
             "minorgridcolor": "white",
             "startlinecolor": "#2a3f5f"
            },
            "baxis": {
             "endlinecolor": "#2a3f5f",
             "gridcolor": "white",
             "linecolor": "white",
             "minorgridcolor": "white",
             "startlinecolor": "#2a3f5f"
            },
            "type": "carpet"
           }
          ],
          "choropleth": [
           {
            "colorbar": {
             "outlinewidth": 0,
             "ticks": ""
            },
            "type": "choropleth"
           }
          ],
          "contour": [
           {
            "colorbar": {
             "outlinewidth": 0,
             "ticks": ""
            },
            "colorscale": [
             [
              0,
              "#0d0887"
             ],
             [
              0.1111111111111111,
              "#46039f"
             ],
             [
              0.2222222222222222,
              "#7201a8"
             ],
             [
              0.3333333333333333,
              "#9c179e"
             ],
             [
              0.4444444444444444,
              "#bd3786"
             ],
             [
              0.5555555555555556,
              "#d8576b"
             ],
             [
              0.6666666666666666,
              "#ed7953"
             ],
             [
              0.7777777777777778,
              "#fb9f3a"
             ],
             [
              0.8888888888888888,
              "#fdca26"
             ],
             [
              1,
              "#f0f921"
             ]
            ],
            "type": "contour"
           }
          ],
          "contourcarpet": [
           {
            "colorbar": {
             "outlinewidth": 0,
             "ticks": ""
            },
            "type": "contourcarpet"
           }
          ],
          "heatmap": [
           {
            "colorbar": {
             "outlinewidth": 0,
             "ticks": ""
            },
            "colorscale": [
             [
              0,
              "#0d0887"
             ],
             [
              0.1111111111111111,
              "#46039f"
             ],
             [
              0.2222222222222222,
              "#7201a8"
             ],
             [
              0.3333333333333333,
              "#9c179e"
             ],
             [
              0.4444444444444444,
              "#bd3786"
             ],
             [
              0.5555555555555556,
              "#d8576b"
             ],
             [
              0.6666666666666666,
              "#ed7953"
             ],
             [
              0.7777777777777778,
              "#fb9f3a"
             ],
             [
              0.8888888888888888,
              "#fdca26"
             ],
             [
              1,
              "#f0f921"
             ]
            ],
            "type": "heatmap"
           }
          ],
          "heatmapgl": [
           {
            "colorbar": {
             "outlinewidth": 0,
             "ticks": ""
            },
            "colorscale": [
             [
              0,
              "#0d0887"
             ],
             [
              0.1111111111111111,
              "#46039f"
             ],
             [
              0.2222222222222222,
              "#7201a8"
             ],
             [
              0.3333333333333333,
              "#9c179e"
             ],
             [
              0.4444444444444444,
              "#bd3786"
             ],
             [
              0.5555555555555556,
              "#d8576b"
             ],
             [
              0.6666666666666666,
              "#ed7953"
             ],
             [
              0.7777777777777778,
              "#fb9f3a"
             ],
             [
              0.8888888888888888,
              "#fdca26"
             ],
             [
              1,
              "#f0f921"
             ]
            ],
            "type": "heatmapgl"
           }
          ],
          "histogram": [
           {
            "marker": {
             "colorbar": {
              "outlinewidth": 0,
              "ticks": ""
             }
            },
            "type": "histogram"
           }
          ],
          "histogram2d": [
           {
            "colorbar": {
             "outlinewidth": 0,
             "ticks": ""
            },
            "colorscale": [
             [
              0,
              "#0d0887"
             ],
             [
              0.1111111111111111,
              "#46039f"
             ],
             [
              0.2222222222222222,
              "#7201a8"
             ],
             [
              0.3333333333333333,
              "#9c179e"
             ],
             [
              0.4444444444444444,
              "#bd3786"
             ],
             [
              0.5555555555555556,
              "#d8576b"
             ],
             [
              0.6666666666666666,
              "#ed7953"
             ],
             [
              0.7777777777777778,
              "#fb9f3a"
             ],
             [
              0.8888888888888888,
              "#fdca26"
             ],
             [
              1,
              "#f0f921"
             ]
            ],
            "type": "histogram2d"
           }
          ],
          "histogram2dcontour": [
           {
            "colorbar": {
             "outlinewidth": 0,
             "ticks": ""
            },
            "colorscale": [
             [
              0,
              "#0d0887"
             ],
             [
              0.1111111111111111,
              "#46039f"
             ],
             [
              0.2222222222222222,
              "#7201a8"
             ],
             [
              0.3333333333333333,
              "#9c179e"
             ],
             [
              0.4444444444444444,
              "#bd3786"
             ],
             [
              0.5555555555555556,
              "#d8576b"
             ],
             [
              0.6666666666666666,
              "#ed7953"
             ],
             [
              0.7777777777777778,
              "#fb9f3a"
             ],
             [
              0.8888888888888888,
              "#fdca26"
             ],
             [
              1,
              "#f0f921"
             ]
            ],
            "type": "histogram2dcontour"
           }
          ],
          "mesh3d": [
           {
            "colorbar": {
             "outlinewidth": 0,
             "ticks": ""
            },
            "type": "mesh3d"
           }
          ],
          "parcoords": [
           {
            "line": {
             "colorbar": {
              "outlinewidth": 0,
              "ticks": ""
             }
            },
            "type": "parcoords"
           }
          ],
          "pie": [
           {
            "automargin": true,
            "type": "pie"
           }
          ],
          "scatter": [
           {
            "marker": {
             "colorbar": {
              "outlinewidth": 0,
              "ticks": ""
             }
            },
            "type": "scatter"
           }
          ],
          "scatter3d": [
           {
            "line": {
             "colorbar": {
              "outlinewidth": 0,
              "ticks": ""
             }
            },
            "marker": {
             "colorbar": {
              "outlinewidth": 0,
              "ticks": ""
             }
            },
            "type": "scatter3d"
           }
          ],
          "scattercarpet": [
           {
            "marker": {
             "colorbar": {
              "outlinewidth": 0,
              "ticks": ""
             }
            },
            "type": "scattercarpet"
           }
          ],
          "scattergeo": [
           {
            "marker": {
             "colorbar": {
              "outlinewidth": 0,
              "ticks": ""
             }
            },
            "type": "scattergeo"
           }
          ],
          "scattergl": [
           {
            "marker": {
             "colorbar": {
              "outlinewidth": 0,
              "ticks": ""
             }
            },
            "type": "scattergl"
           }
          ],
          "scattermapbox": [
           {
            "marker": {
             "colorbar": {
              "outlinewidth": 0,
              "ticks": ""
             }
            },
            "type": "scattermapbox"
           }
          ],
          "scatterpolar": [
           {
            "marker": {
             "colorbar": {
              "outlinewidth": 0,
              "ticks": ""
             }
            },
            "type": "scatterpolar"
           }
          ],
          "scatterpolargl": [
           {
            "marker": {
             "colorbar": {
              "outlinewidth": 0,
              "ticks": ""
             }
            },
            "type": "scatterpolargl"
           }
          ],
          "scatterternary": [
           {
            "marker": {
             "colorbar": {
              "outlinewidth": 0,
              "ticks": ""
             }
            },
            "type": "scatterternary"
           }
          ],
          "surface": [
           {
            "colorbar": {
             "outlinewidth": 0,
             "ticks": ""
            },
            "colorscale": [
             [
              0,
              "#0d0887"
             ],
             [
              0.1111111111111111,
              "#46039f"
             ],
             [
              0.2222222222222222,
              "#7201a8"
             ],
             [
              0.3333333333333333,
              "#9c179e"
             ],
             [
              0.4444444444444444,
              "#bd3786"
             ],
             [
              0.5555555555555556,
              "#d8576b"
             ],
             [
              0.6666666666666666,
              "#ed7953"
             ],
             [
              0.7777777777777778,
              "#fb9f3a"
             ],
             [
              0.8888888888888888,
              "#fdca26"
             ],
             [
              1,
              "#f0f921"
             ]
            ],
            "type": "surface"
           }
          ],
          "table": [
           {
            "cells": {
             "fill": {
              "color": "#EBF0F8"
             },
             "line": {
              "color": "white"
             }
            },
            "header": {
             "fill": {
              "color": "#C8D4E3"
             },
             "line": {
              "color": "white"
             }
            },
            "type": "table"
           }
          ]
         },
         "layout": {
          "annotationdefaults": {
           "arrowcolor": "#2a3f5f",
           "arrowhead": 0,
           "arrowwidth": 1
          },
          "coloraxis": {
           "colorbar": {
            "outlinewidth": 0,
            "ticks": ""
           }
          },
          "colorscale": {
           "diverging": [
            [
             0,
             "#8e0152"
            ],
            [
             0.1,
             "#c51b7d"
            ],
            [
             0.2,
             "#de77ae"
            ],
            [
             0.3,
             "#f1b6da"
            ],
            [
             0.4,
             "#fde0ef"
            ],
            [
             0.5,
             "#f7f7f7"
            ],
            [
             0.6,
             "#e6f5d0"
            ],
            [
             0.7,
             "#b8e186"
            ],
            [
             0.8,
             "#7fbc41"
            ],
            [
             0.9,
             "#4d9221"
            ],
            [
             1,
             "#276419"
            ]
           ],
           "sequential": [
            [
             0,
             "#0d0887"
            ],
            [
             0.1111111111111111,
             "#46039f"
            ],
            [
             0.2222222222222222,
             "#7201a8"
            ],
            [
             0.3333333333333333,
             "#9c179e"
            ],
            [
             0.4444444444444444,
             "#bd3786"
            ],
            [
             0.5555555555555556,
             "#d8576b"
            ],
            [
             0.6666666666666666,
             "#ed7953"
            ],
            [
             0.7777777777777778,
             "#fb9f3a"
            ],
            [
             0.8888888888888888,
             "#fdca26"
            ],
            [
             1,
             "#f0f921"
            ]
           ],
           "sequentialminus": [
            [
             0,
             "#0d0887"
            ],
            [
             0.1111111111111111,
             "#46039f"
            ],
            [
             0.2222222222222222,
             "#7201a8"
            ],
            [
             0.3333333333333333,
             "#9c179e"
            ],
            [
             0.4444444444444444,
             "#bd3786"
            ],
            [
             0.5555555555555556,
             "#d8576b"
            ],
            [
             0.6666666666666666,
             "#ed7953"
            ],
            [
             0.7777777777777778,
             "#fb9f3a"
            ],
            [
             0.8888888888888888,
             "#fdca26"
            ],
            [
             1,
             "#f0f921"
            ]
           ]
          },
          "colorway": [
           "#636efa",
           "#EF553B",
           "#00cc96",
           "#ab63fa",
           "#FFA15A",
           "#19d3f3",
           "#FF6692",
           "#B6E880",
           "#FF97FF",
           "#FECB52"
          ],
          "font": {
           "color": "#2a3f5f"
          },
          "geo": {
           "bgcolor": "white",
           "lakecolor": "white",
           "landcolor": "#E5ECF6",
           "showlakes": true,
           "showland": true,
           "subunitcolor": "white"
          },
          "hoverlabel": {
           "align": "left"
          },
          "hovermode": "closest",
          "mapbox": {
           "style": "light"
          },
          "paper_bgcolor": "white",
          "plot_bgcolor": "#E5ECF6",
          "polar": {
           "angularaxis": {
            "gridcolor": "white",
            "linecolor": "white",
            "ticks": ""
           },
           "bgcolor": "#E5ECF6",
           "radialaxis": {
            "gridcolor": "white",
            "linecolor": "white",
            "ticks": ""
           }
          },
          "scene": {
           "xaxis": {
            "backgroundcolor": "#E5ECF6",
            "gridcolor": "white",
            "gridwidth": 2,
            "linecolor": "white",
            "showbackground": true,
            "ticks": "",
            "zerolinecolor": "white"
           },
           "yaxis": {
            "backgroundcolor": "#E5ECF6",
            "gridcolor": "white",
            "gridwidth": 2,
            "linecolor": "white",
            "showbackground": true,
            "ticks": "",
            "zerolinecolor": "white"
           },
           "zaxis": {
            "backgroundcolor": "#E5ECF6",
            "gridcolor": "white",
            "gridwidth": 2,
            "linecolor": "white",
            "showbackground": true,
            "ticks": "",
            "zerolinecolor": "white"
           }
          },
          "shapedefaults": {
           "line": {
            "color": "#2a3f5f"
           }
          },
          "ternary": {
           "aaxis": {
            "gridcolor": "white",
            "linecolor": "white",
            "ticks": ""
           },
           "baxis": {
            "gridcolor": "white",
            "linecolor": "white",
            "ticks": ""
           },
           "bgcolor": "#E5ECF6",
           "caxis": {
            "gridcolor": "white",
            "linecolor": "white",
            "ticks": ""
           }
          },
          "title": {
           "x": 0.05
          },
          "xaxis": {
           "automargin": true,
           "gridcolor": "white",
           "linecolor": "white",
           "ticks": "",
           "title": {
            "standoff": 15
           },
           "zerolinecolor": "white",
           "zerolinewidth": 2
          },
          "yaxis": {
           "automargin": true,
           "gridcolor": "white",
           "linecolor": "white",
           "ticks": "",
           "title": {
            "standoff": 15
           },
           "zerolinecolor": "white",
           "zerolinewidth": 2
          }
         }
        },
        "title": {
         "text": "Medallas por tipo"
        },
        "yaxis": {
         "title": {
          "text": "Número de medallas"
         }
        }
       }
      },
      "text/html": [
       "<div>\n",
       "        \n",
       "        \n",
       "            <div id=\"566d6ea2-95d9-4f21-b754-ed56480b25cc\" class=\"plotly-graph-div\" style=\"height:525px; width:100%;\"></div>\n",
       "            <script type=\"text/javascript\">\n",
       "                require([\"plotly\"], function(Plotly) {\n",
       "                    window.PLOTLYENV=window.PLOTLYENV || {};\n",
       "                    \n",
       "                if (document.getElementById(\"566d6ea2-95d9-4f21-b754-ed56480b25cc\")) {\n",
       "                    Plotly.newPlot(\n",
       "                        '566d6ea2-95d9-4f21-b754-ed56480b25cc',\n",
       "                        [{\"marker\": {\"color\": \"brown\"}, \"name\": \"Bronce\", \"type\": \"bar\", \"x\": [\"Norway\", \"Germany\", \"Canada\", \"United States\", \"Netherlands\", \"Sweden\", \"Republic of Korea\", \"Switzerland\", \"France\", \"Austria\", \"Japan\", \"Italy\", \"OAR\", \"Czech Republic\", \"Belarus\", \"China\", \"Slovakia\", \"Finland\", \"Great Britain\", \"Poland\", \"Hungary\", \"Ukraine\", \"Australia\", \"Slovenia\", \"Belgium\", \"Spain\", \"New Zealand\", \"Kazakhstan\", \"Latvia\", \"Liechtenstein\"], \"y\": [11, 7, 10, 6, 6, 1, 4, 4, 6, 6, 4, 5, 9, 3, 0, 2, 0, 4, 4, 1, 0, 0, 1, 1, 0, 2, 2, 1, 1, 1]}, {\"marker\": {\"color\": \"gray\"}, \"name\": \"Plata\", \"type\": \"bar\", \"x\": [\"Norway\", \"Germany\", \"Canada\", \"United States\", \"Netherlands\", \"Sweden\", \"Republic of Korea\", \"Switzerland\", \"France\", \"Austria\", \"Japan\", \"Italy\", \"OAR\", \"Czech Republic\", \"Belarus\", \"China\", \"Slovakia\", \"Finland\", \"Great Britain\", \"Poland\", \"Hungary\", \"Ukraine\", \"Australia\", \"Slovenia\", \"Belgium\", \"Spain\", \"New Zealand\", \"Kazakhstan\", \"Latvia\", \"Liechtenstein\"], \"y\": [14, 10, 8, 8, 6, 6, 8, 6, 4, 3, 5, 2, 6, 2, 1, 6, 2, 1, 0, 0, 0, 0, 2, 1, 1, 0, 0, 0, 0, 0]}, {\"marker\": {\"color\": \"yellow\"}, \"name\": \"Oro\", \"type\": \"bar\", \"x\": [\"Norway\", \"Germany\", \"Canada\", \"United States\", \"Netherlands\", \"Sweden\", \"Republic of Korea\", \"Switzerland\", \"France\", \"Austria\", \"Japan\", \"Italy\", \"OAR\", \"Czech Republic\", \"Belarus\", \"China\", \"Slovakia\", \"Finland\", \"Great Britain\", \"Poland\", \"Hungary\", \"Ukraine\", \"Australia\", \"Slovenia\", \"Belgium\", \"Spain\", \"New Zealand\", \"Kazakhstan\", \"Latvia\", \"Liechtenstein\"], \"y\": [14, 14, 11, 9, 8, 7, 5, 5, 5, 5, 4, 3, 2, 2, 2, 1, 1, 1, 1, 1, 1, 1, 0, 0, 0, 0, 0, 0, 0, 0]}],\n",
       "                        {\"barmode\": \"stack\", \"template\": {\"data\": {\"bar\": [{\"error_x\": {\"color\": \"#2a3f5f\"}, \"error_y\": {\"color\": \"#2a3f5f\"}, \"marker\": {\"line\": {\"color\": \"#E5ECF6\", \"width\": 0.5}}, \"type\": \"bar\"}], \"barpolar\": [{\"marker\": {\"line\": {\"color\": \"#E5ECF6\", \"width\": 0.5}}, \"type\": \"barpolar\"}], \"carpet\": [{\"aaxis\": {\"endlinecolor\": \"#2a3f5f\", \"gridcolor\": \"white\", \"linecolor\": \"white\", \"minorgridcolor\": \"white\", \"startlinecolor\": \"#2a3f5f\"}, \"baxis\": {\"endlinecolor\": \"#2a3f5f\", \"gridcolor\": \"white\", \"linecolor\": \"white\", \"minorgridcolor\": \"white\", \"startlinecolor\": \"#2a3f5f\"}, \"type\": \"carpet\"}], \"choropleth\": [{\"colorbar\": {\"outlinewidth\": 0, \"ticks\": \"\"}, \"type\": \"choropleth\"}], \"contour\": [{\"colorbar\": {\"outlinewidth\": 0, \"ticks\": \"\"}, \"colorscale\": [[0.0, \"#0d0887\"], [0.1111111111111111, \"#46039f\"], [0.2222222222222222, \"#7201a8\"], [0.3333333333333333, \"#9c179e\"], [0.4444444444444444, \"#bd3786\"], [0.5555555555555556, \"#d8576b\"], [0.6666666666666666, \"#ed7953\"], [0.7777777777777778, \"#fb9f3a\"], [0.8888888888888888, \"#fdca26\"], [1.0, \"#f0f921\"]], \"type\": \"contour\"}], \"contourcarpet\": [{\"colorbar\": {\"outlinewidth\": 0, \"ticks\": \"\"}, \"type\": \"contourcarpet\"}], \"heatmap\": [{\"colorbar\": {\"outlinewidth\": 0, \"ticks\": \"\"}, \"colorscale\": [[0.0, \"#0d0887\"], [0.1111111111111111, \"#46039f\"], [0.2222222222222222, \"#7201a8\"], [0.3333333333333333, \"#9c179e\"], [0.4444444444444444, \"#bd3786\"], [0.5555555555555556, \"#d8576b\"], [0.6666666666666666, \"#ed7953\"], [0.7777777777777778, \"#fb9f3a\"], [0.8888888888888888, \"#fdca26\"], [1.0, \"#f0f921\"]], \"type\": \"heatmap\"}], \"heatmapgl\": [{\"colorbar\": {\"outlinewidth\": 0, \"ticks\": \"\"}, \"colorscale\": [[0.0, \"#0d0887\"], [0.1111111111111111, \"#46039f\"], [0.2222222222222222, \"#7201a8\"], [0.3333333333333333, \"#9c179e\"], [0.4444444444444444, \"#bd3786\"], [0.5555555555555556, \"#d8576b\"], [0.6666666666666666, \"#ed7953\"], [0.7777777777777778, \"#fb9f3a\"], [0.8888888888888888, \"#fdca26\"], [1.0, \"#f0f921\"]], \"type\": \"heatmapgl\"}], \"histogram\": [{\"marker\": {\"colorbar\": {\"outlinewidth\": 0, \"ticks\": \"\"}}, \"type\": \"histogram\"}], \"histogram2d\": [{\"colorbar\": {\"outlinewidth\": 0, \"ticks\": \"\"}, \"colorscale\": [[0.0, \"#0d0887\"], [0.1111111111111111, \"#46039f\"], [0.2222222222222222, \"#7201a8\"], [0.3333333333333333, \"#9c179e\"], [0.4444444444444444, \"#bd3786\"], [0.5555555555555556, \"#d8576b\"], [0.6666666666666666, \"#ed7953\"], [0.7777777777777778, \"#fb9f3a\"], [0.8888888888888888, \"#fdca26\"], [1.0, \"#f0f921\"]], \"type\": \"histogram2d\"}], \"histogram2dcontour\": [{\"colorbar\": {\"outlinewidth\": 0, \"ticks\": \"\"}, \"colorscale\": [[0.0, \"#0d0887\"], [0.1111111111111111, \"#46039f\"], [0.2222222222222222, \"#7201a8\"], [0.3333333333333333, \"#9c179e\"], [0.4444444444444444, \"#bd3786\"], [0.5555555555555556, \"#d8576b\"], [0.6666666666666666, \"#ed7953\"], [0.7777777777777778, \"#fb9f3a\"], [0.8888888888888888, \"#fdca26\"], [1.0, \"#f0f921\"]], \"type\": \"histogram2dcontour\"}], \"mesh3d\": [{\"colorbar\": {\"outlinewidth\": 0, \"ticks\": \"\"}, \"type\": \"mesh3d\"}], \"parcoords\": [{\"line\": {\"colorbar\": {\"outlinewidth\": 0, \"ticks\": \"\"}}, \"type\": \"parcoords\"}], \"pie\": [{\"automargin\": true, \"type\": \"pie\"}], \"scatter\": [{\"marker\": {\"colorbar\": {\"outlinewidth\": 0, \"ticks\": \"\"}}, \"type\": \"scatter\"}], \"scatter3d\": [{\"line\": {\"colorbar\": {\"outlinewidth\": 0, \"ticks\": \"\"}}, \"marker\": {\"colorbar\": {\"outlinewidth\": 0, \"ticks\": \"\"}}, \"type\": \"scatter3d\"}], \"scattercarpet\": [{\"marker\": {\"colorbar\": {\"outlinewidth\": 0, \"ticks\": \"\"}}, \"type\": \"scattercarpet\"}], \"scattergeo\": [{\"marker\": {\"colorbar\": {\"outlinewidth\": 0, \"ticks\": \"\"}}, \"type\": \"scattergeo\"}], \"scattergl\": [{\"marker\": {\"colorbar\": {\"outlinewidth\": 0, \"ticks\": \"\"}}, \"type\": \"scattergl\"}], \"scattermapbox\": [{\"marker\": {\"colorbar\": {\"outlinewidth\": 0, \"ticks\": \"\"}}, \"type\": \"scattermapbox\"}], \"scatterpolar\": [{\"marker\": {\"colorbar\": {\"outlinewidth\": 0, \"ticks\": \"\"}}, \"type\": \"scatterpolar\"}], \"scatterpolargl\": [{\"marker\": {\"colorbar\": {\"outlinewidth\": 0, \"ticks\": \"\"}}, \"type\": \"scatterpolargl\"}], \"scatterternary\": [{\"marker\": {\"colorbar\": {\"outlinewidth\": 0, \"ticks\": \"\"}}, \"type\": \"scatterternary\"}], \"surface\": [{\"colorbar\": {\"outlinewidth\": 0, \"ticks\": \"\"}, \"colorscale\": [[0.0, \"#0d0887\"], [0.1111111111111111, \"#46039f\"], [0.2222222222222222, \"#7201a8\"], [0.3333333333333333, \"#9c179e\"], [0.4444444444444444, \"#bd3786\"], [0.5555555555555556, \"#d8576b\"], [0.6666666666666666, \"#ed7953\"], [0.7777777777777778, \"#fb9f3a\"], [0.8888888888888888, \"#fdca26\"], [1.0, \"#f0f921\"]], \"type\": \"surface\"}], \"table\": [{\"cells\": {\"fill\": {\"color\": \"#EBF0F8\"}, \"line\": {\"color\": \"white\"}}, \"header\": {\"fill\": {\"color\": \"#C8D4E3\"}, \"line\": {\"color\": \"white\"}}, \"type\": \"table\"}]}, \"layout\": {\"annotationdefaults\": {\"arrowcolor\": \"#2a3f5f\", \"arrowhead\": 0, \"arrowwidth\": 1}, \"coloraxis\": {\"colorbar\": {\"outlinewidth\": 0, \"ticks\": \"\"}}, \"colorscale\": {\"diverging\": [[0, \"#8e0152\"], [0.1, \"#c51b7d\"], [0.2, \"#de77ae\"], [0.3, \"#f1b6da\"], [0.4, \"#fde0ef\"], [0.5, \"#f7f7f7\"], [0.6, \"#e6f5d0\"], [0.7, \"#b8e186\"], [0.8, \"#7fbc41\"], [0.9, \"#4d9221\"], [1, \"#276419\"]], \"sequential\": [[0.0, \"#0d0887\"], [0.1111111111111111, \"#46039f\"], [0.2222222222222222, \"#7201a8\"], [0.3333333333333333, \"#9c179e\"], [0.4444444444444444, \"#bd3786\"], [0.5555555555555556, \"#d8576b\"], [0.6666666666666666, \"#ed7953\"], [0.7777777777777778, \"#fb9f3a\"], [0.8888888888888888, \"#fdca26\"], [1.0, \"#f0f921\"]], \"sequentialminus\": [[0.0, \"#0d0887\"], [0.1111111111111111, \"#46039f\"], [0.2222222222222222, \"#7201a8\"], [0.3333333333333333, \"#9c179e\"], [0.4444444444444444, \"#bd3786\"], [0.5555555555555556, \"#d8576b\"], [0.6666666666666666, \"#ed7953\"], [0.7777777777777778, \"#fb9f3a\"], [0.8888888888888888, \"#fdca26\"], [1.0, \"#f0f921\"]]}, \"colorway\": [\"#636efa\", \"#EF553B\", \"#00cc96\", \"#ab63fa\", \"#FFA15A\", \"#19d3f3\", \"#FF6692\", \"#B6E880\", \"#FF97FF\", \"#FECB52\"], \"font\": {\"color\": \"#2a3f5f\"}, \"geo\": {\"bgcolor\": \"white\", \"lakecolor\": \"white\", \"landcolor\": \"#E5ECF6\", \"showlakes\": true, \"showland\": true, \"subunitcolor\": \"white\"}, \"hoverlabel\": {\"align\": \"left\"}, \"hovermode\": \"closest\", \"mapbox\": {\"style\": \"light\"}, \"paper_bgcolor\": \"white\", \"plot_bgcolor\": \"#E5ECF6\", \"polar\": {\"angularaxis\": {\"gridcolor\": \"white\", \"linecolor\": \"white\", \"ticks\": \"\"}, \"bgcolor\": \"#E5ECF6\", \"radialaxis\": {\"gridcolor\": \"white\", \"linecolor\": \"white\", \"ticks\": \"\"}}, \"scene\": {\"xaxis\": {\"backgroundcolor\": \"#E5ECF6\", \"gridcolor\": \"white\", \"gridwidth\": 2, \"linecolor\": \"white\", \"showbackground\": true, \"ticks\": \"\", \"zerolinecolor\": \"white\"}, \"yaxis\": {\"backgroundcolor\": \"#E5ECF6\", \"gridcolor\": \"white\", \"gridwidth\": 2, \"linecolor\": \"white\", \"showbackground\": true, \"ticks\": \"\", \"zerolinecolor\": \"white\"}, \"zaxis\": {\"backgroundcolor\": \"#E5ECF6\", \"gridcolor\": \"white\", \"gridwidth\": 2, \"linecolor\": \"white\", \"showbackground\": true, \"ticks\": \"\", \"zerolinecolor\": \"white\"}}, \"shapedefaults\": {\"line\": {\"color\": \"#2a3f5f\"}}, \"ternary\": {\"aaxis\": {\"gridcolor\": \"white\", \"linecolor\": \"white\", \"ticks\": \"\"}, \"baxis\": {\"gridcolor\": \"white\", \"linecolor\": \"white\", \"ticks\": \"\"}, \"bgcolor\": \"#E5ECF6\", \"caxis\": {\"gridcolor\": \"white\", \"linecolor\": \"white\", \"ticks\": \"\"}}, \"title\": {\"x\": 0.05}, \"xaxis\": {\"automargin\": true, \"gridcolor\": \"white\", \"linecolor\": \"white\", \"ticks\": \"\", \"title\": {\"standoff\": 15}, \"zerolinecolor\": \"white\", \"zerolinewidth\": 2}, \"yaxis\": {\"automargin\": true, \"gridcolor\": \"white\", \"linecolor\": \"white\", \"ticks\": \"\", \"title\": {\"standoff\": 15}, \"zerolinecolor\": \"white\", \"zerolinewidth\": 2}}}, \"title\": {\"text\": \"Medallas por tipo\"}, \"yaxis\": {\"title\": {\"text\": \"N\\u00famero de medallas\"}}},\n",
       "                        {\"responsive\": true}\n",
       "                    ).then(function(){\n",
       "                            \n",
       "var gd = document.getElementById('566d6ea2-95d9-4f21-b754-ed56480b25cc');\n",
       "var x = new MutationObserver(function (mutations, observer) {{\n",
       "        var display = window.getComputedStyle(gd).display;\n",
       "        if (!display || display === 'none') {{\n",
       "            console.log([gd, 'removed!']);\n",
       "            Plotly.purge(gd);\n",
       "            observer.disconnect();\n",
       "        }}\n",
       "}});\n",
       "\n",
       "// Listen for the removal of the full notebook cells\n",
       "var notebookContainer = gd.closest('#notebook-container');\n",
       "if (notebookContainer) {{\n",
       "    x.observe(notebookContainer, {childList: true});\n",
       "}}\n",
       "\n",
       "// Listen for the clearing of the current output cell\n",
       "var outputEl = gd.closest('.output');\n",
       "if (outputEl) {{\n",
       "    x.observe(outputEl, {childList: true});\n",
       "}}\n",
       "\n",
       "                        })\n",
       "                };\n",
       "                });\n",
       "            </script>\n",
       "        </div>"
      ]
     },
     "metadata": {},
     "output_type": "display_data"
    }
   ],
   "source": [
    "datos = [bronce, plata, oro]\n",
    "capa = go.Layout(title='Medallas por tipo', yaxis=dict(title='Número de medallas'), barmode='stack')\n",
    "figure = go.Figure(data=datos, layout=capa)\n",
    "pyo.iplot(figure)"
   ]
  },
  {
   "cell_type": "markdown",
   "metadata": {},
   "source": [
    "<div class='alert alert-info' style='padding: 0 0 10px'>\n",
    "    <h2 style='text-align: center'>Bubble Plot</h2>\n",
    "</div>"
   ]
  },
  {
   "cell_type": "code",
   "execution_count": 39,
   "metadata": {},
   "outputs": [
    {
     "data": {
      "text/html": [
       "<div>\n",
       "<style scoped>\n",
       "    .dataframe tbody tr th:only-of-type {\n",
       "        vertical-align: middle;\n",
       "    }\n",
       "\n",
       "    .dataframe tbody tr th {\n",
       "        vertical-align: top;\n",
       "    }\n",
       "\n",
       "    .dataframe thead th {\n",
       "        text-align: right;\n",
       "    }\n",
       "</style>\n",
       "<table border=\"1\" class=\"dataframe\">\n",
       "  <thead>\n",
       "    <tr style=\"text-align: right;\">\n",
       "      <th></th>\n",
       "      <th>mpg</th>\n",
       "      <th>cylinders</th>\n",
       "      <th>displacement</th>\n",
       "      <th>horsepower</th>\n",
       "      <th>weight</th>\n",
       "      <th>acceleration</th>\n",
       "      <th>model_year</th>\n",
       "      <th>origin</th>\n",
       "      <th>name</th>\n",
       "    </tr>\n",
       "  </thead>\n",
       "  <tbody>\n",
       "    <tr>\n",
       "      <th>0</th>\n",
       "      <td>18.0</td>\n",
       "      <td>8</td>\n",
       "      <td>307.0</td>\n",
       "      <td>130</td>\n",
       "      <td>3504</td>\n",
       "      <td>12.0</td>\n",
       "      <td>70</td>\n",
       "      <td>1</td>\n",
       "      <td>chevrolet chevelle malibu</td>\n",
       "    </tr>\n",
       "    <tr>\n",
       "      <th>1</th>\n",
       "      <td>15.0</td>\n",
       "      <td>8</td>\n",
       "      <td>350.0</td>\n",
       "      <td>165</td>\n",
       "      <td>3693</td>\n",
       "      <td>11.5</td>\n",
       "      <td>70</td>\n",
       "      <td>1</td>\n",
       "      <td>buick skylark 320</td>\n",
       "    </tr>\n",
       "    <tr>\n",
       "      <th>2</th>\n",
       "      <td>18.0</td>\n",
       "      <td>8</td>\n",
       "      <td>318.0</td>\n",
       "      <td>150</td>\n",
       "      <td>3436</td>\n",
       "      <td>11.0</td>\n",
       "      <td>70</td>\n",
       "      <td>1</td>\n",
       "      <td>plymouth satellite</td>\n",
       "    </tr>\n",
       "    <tr>\n",
       "      <th>3</th>\n",
       "      <td>16.0</td>\n",
       "      <td>8</td>\n",
       "      <td>304.0</td>\n",
       "      <td>150</td>\n",
       "      <td>3433</td>\n",
       "      <td>12.0</td>\n",
       "      <td>70</td>\n",
       "      <td>1</td>\n",
       "      <td>amc rebel sst</td>\n",
       "    </tr>\n",
       "    <tr>\n",
       "      <th>4</th>\n",
       "      <td>17.0</td>\n",
       "      <td>8</td>\n",
       "      <td>302.0</td>\n",
       "      <td>140</td>\n",
       "      <td>3449</td>\n",
       "      <td>10.5</td>\n",
       "      <td>70</td>\n",
       "      <td>1</td>\n",
       "      <td>ford torino</td>\n",
       "    </tr>\n",
       "  </tbody>\n",
       "</table>\n",
       "</div>"
      ],
      "text/plain": [
       "    mpg  cylinders  displacement horsepower  weight  acceleration  model_year  \\\n",
       "0  18.0          8         307.0        130    3504          12.0          70   \n",
       "1  15.0          8         350.0        165    3693          11.5          70   \n",
       "2  18.0          8         318.0        150    3436          11.0          70   \n",
       "3  16.0          8         304.0        150    3433          12.0          70   \n",
       "4  17.0          8         302.0        140    3449          10.5          70   \n",
       "\n",
       "   origin                       name  \n",
       "0       1  chevrolet chevelle malibu  \n",
       "1       1          buick skylark 320  \n",
       "2       1         plymouth satellite  \n",
       "3       1              amc rebel sst  \n",
       "4       1                ford torino  "
      ]
     },
     "execution_count": 39,
     "metadata": {},
     "output_type": "execute_result"
    }
   ],
   "source": [
    "valores = pd.read_csv('coches.csv')\n",
    "valores.head()"
   ]
  },
  {
   "cell_type": "code",
   "execution_count": 44,
   "metadata": {},
   "outputs": [
    {
     "data": {
      "application/vnd.plotly.v1+json": {
       "config": {
        "linkText": "Export to plot.ly",
        "plotlyServerURL": "https://plot.ly",
        "showLink": false
       },
       "data": [
        {
         "mode": "markers",
         "text": [
          "chevrolet chevelle malibu",
          "buick skylark 320",
          "plymouth satellite",
          "amc rebel sst",
          "ford torino",
          "ford galaxie 500",
          "chevrolet impala",
          "plymouth fury iii",
          "pontiac catalina",
          "amc ambassador dpl",
          "dodge challenger se",
          "plymouth 'cuda 340",
          "chevrolet monte carlo",
          "buick estate wagon (sw)",
          "toyota corona mark ii",
          "plymouth duster",
          "amc hornet",
          "ford maverick",
          "datsun pl510",
          "volkswagen 1131 deluxe sedan",
          "peugeot 504",
          "audi 100 ls",
          "saab 99e",
          "bmw 2002",
          "amc gremlin",
          "ford f250",
          "chevy c20",
          "dodge d200",
          "hi 1200d",
          "datsun pl510",
          "chevrolet vega 2300",
          "toyota corona",
          "ford pinto",
          "amc gremlin",
          "plymouth satellite custom",
          "chevrolet chevelle malibu",
          "ford torino 500",
          "amc matador",
          "chevrolet impala",
          "pontiac catalina brougham",
          "ford galaxie 500",
          "plymouth fury iii",
          "dodge monaco (sw)",
          "ford country squire (sw)",
          "pontiac safari (sw)",
          "amc hornet sportabout (sw)",
          "chevrolet vega (sw)",
          "pontiac firebird",
          "ford mustang",
          "mercury capri 2000",
          "opel 1900",
          "peugeot 304",
          "fiat 124b",
          "toyota corolla 1200",
          "datsun 1200",
          "volkswagen model 111",
          "plymouth cricket",
          "toyota corona hardtop",
          "dodge colt hardtop",
          "volkswagen type 3",
          "chevrolet vega",
          "ford pinto runabout",
          "chevrolet impala",
          "pontiac catalina",
          "plymouth fury iii",
          "ford galaxie 500",
          "amc ambassador sst",
          "mercury marquis",
          "buick lesabre custom",
          "oldsmobile delta 88 royale",
          "chrysler newport royal",
          "mazda rx2 coupe",
          "amc matador (sw)",
          "chevrolet chevelle concours (sw)",
          "ford gran torino (sw)",
          "plymouth satellite custom (sw)",
          "volvo 145e (sw)",
          "volkswagen 411 (sw)",
          "peugeot 504 (sw)",
          "renault 12 (sw)",
          "ford pinto (sw)",
          "datsun 510 (sw)",
          "toyouta corona mark ii (sw)",
          "dodge colt (sw)",
          "toyota corolla 1600 (sw)",
          "buick century 350",
          "amc matador",
          "chevrolet malibu",
          "ford gran torino",
          "dodge coronet custom",
          "mercury marquis brougham",
          "chevrolet caprice classic",
          "ford ltd",
          "plymouth fury gran sedan",
          "chrysler new yorker brougham",
          "buick electra 225 custom",
          "amc ambassador brougham",
          "plymouth valiant",
          "chevrolet nova custom",
          "amc hornet",
          "ford maverick",
          "plymouth duster",
          "volkswagen super beetle",
          "chevrolet impala",
          "ford country",
          "plymouth custom suburb",
          "oldsmobile vista cruiser",
          "amc gremlin",
          "toyota carina",
          "chevrolet vega",
          "datsun 610",
          "maxda rx3",
          "ford pinto",
          "mercury capri v6",
          "fiat 124 sport coupe",
          "chevrolet monte carlo s",
          "pontiac grand prix",
          "fiat 128",
          "opel manta",
          "audi 100ls",
          "volvo 144ea",
          "dodge dart custom",
          "saab 99le",
          "toyota mark ii",
          "oldsmobile omega",
          "plymouth duster",
          "ford maverick",
          "amc hornet",
          "chevrolet nova",
          "datsun b210",
          "ford pinto",
          "toyota corolla 1200",
          "chevrolet vega",
          "chevrolet chevelle malibu classic",
          "amc matador",
          "plymouth satellite sebring",
          "ford gran torino",
          "buick century luxus (sw)",
          "dodge coronet custom (sw)",
          "ford gran torino (sw)",
          "amc matador (sw)",
          "audi fox",
          "volkswagen dasher",
          "opel manta",
          "toyota corona",
          "datsun 710",
          "dodge colt",
          "fiat 128",
          "fiat 124 tc",
          "honda civic",
          "subaru",
          "fiat x1.9",
          "plymouth valiant custom",
          "chevrolet nova",
          "mercury monarch",
          "ford maverick",
          "pontiac catalina",
          "chevrolet bel air",
          "plymouth grand fury",
          "ford ltd",
          "buick century",
          "chevroelt chevelle malibu",
          "amc matador",
          "plymouth fury",
          "buick skyhawk",
          "chevrolet monza 2+2",
          "ford mustang ii",
          "toyota corolla",
          "ford pinto",
          "amc gremlin",
          "pontiac astro",
          "toyota corona",
          "volkswagen dasher",
          "datsun 710",
          "ford pinto",
          "volkswagen rabbit",
          "amc pacer",
          "audi 100ls",
          "peugeot 504",
          "volvo 244dl",
          "saab 99le",
          "honda civic cvcc",
          "fiat 131",
          "opel 1900",
          "capri ii",
          "dodge colt",
          "renault 12tl",
          "chevrolet chevelle malibu classic",
          "dodge coronet brougham",
          "amc matador",
          "ford gran torino",
          "plymouth valiant",
          "chevrolet nova",
          "ford maverick",
          "amc hornet",
          "chevrolet chevette",
          "chevrolet woody",
          "vw rabbit",
          "honda civic",
          "dodge aspen se",
          "ford granada ghia",
          "pontiac ventura sj",
          "amc pacer d/l",
          "volkswagen rabbit",
          "datsun b-210",
          "toyota corolla",
          "ford pinto",
          "volvo 245",
          "plymouth volare premier v8",
          "peugeot 504",
          "toyota mark ii",
          "mercedes-benz 280s",
          "cadillac seville",
          "chevy c10",
          "ford f108",
          "dodge d100",
          "honda accord cvcc",
          "buick opel isuzu deluxe",
          "renault 5 gtl",
          "plymouth arrow gs",
          "datsun f-10 hatchback",
          "chevrolet caprice classic",
          "oldsmobile cutlass supreme",
          "dodge monaco brougham",
          "mercury cougar brougham",
          "chevrolet concours",
          "buick skylark",
          "plymouth volare custom",
          "ford granada",
          "pontiac grand prix lj",
          "chevrolet monte carlo landau",
          "chrysler cordoba",
          "ford thunderbird",
          "volkswagen rabbit custom",
          "pontiac sunbird coupe",
          "toyota corolla liftback",
          "ford mustang ii 2+2",
          "chevrolet chevette",
          "dodge colt m/m",
          "subaru dl",
          "volkswagen dasher",
          "datsun 810",
          "bmw 320i",
          "mazda rx-4",
          "volkswagen rabbit custom diesel",
          "ford fiesta",
          "mazda glc deluxe",
          "datsun b210 gx",
          "honda civic cvcc",
          "oldsmobile cutlass salon brougham",
          "dodge diplomat",
          "mercury monarch ghia",
          "pontiac phoenix lj",
          "chevrolet malibu",
          "ford fairmont (auto)",
          "ford fairmont (man)",
          "plymouth volare",
          "amc concord",
          "buick century special",
          "mercury zephyr",
          "dodge aspen",
          "amc concord d/l",
          "chevrolet monte carlo landau",
          "buick regal sport coupe (turbo)",
          "ford futura",
          "dodge magnum xe",
          "chevrolet chevette",
          "toyota corona",
          "datsun 510",
          "dodge omni",
          "toyota celica gt liftback",
          "plymouth sapporo",
          "oldsmobile starfire sx",
          "datsun 200-sx",
          "audi 5000",
          "volvo 264gl",
          "saab 99gle",
          "peugeot 604sl",
          "volkswagen scirocco",
          "honda accord lx",
          "pontiac lemans v6",
          "mercury zephyr 6",
          "ford fairmont 4",
          "amc concord dl 6",
          "dodge aspen 6",
          "chevrolet caprice classic",
          "ford ltd landau",
          "mercury grand marquis",
          "dodge st. regis",
          "buick estate wagon (sw)",
          "ford country squire (sw)",
          "chevrolet malibu classic (sw)",
          "chrysler lebaron town @ country (sw)",
          "vw rabbit custom",
          "maxda glc deluxe",
          "dodge colt hatchback custom",
          "amc spirit dl",
          "mercedes benz 300d",
          "cadillac eldorado",
          "peugeot 504",
          "oldsmobile cutlass salon brougham",
          "plymouth horizon",
          "plymouth horizon tc3",
          "datsun 210",
          "fiat strada custom",
          "buick skylark limited",
          "chevrolet citation",
          "oldsmobile omega brougham",
          "pontiac phoenix",
          "vw rabbit",
          "toyota corolla tercel",
          "chevrolet chevette",
          "datsun 310",
          "chevrolet citation",
          "ford fairmont",
          "amc concord",
          "dodge aspen",
          "audi 4000",
          "toyota corona liftback",
          "mazda 626",
          "datsun 510 hatchback",
          "toyota corolla",
          "mazda glc",
          "dodge colt",
          "datsun 210",
          "vw rabbit c (diesel)",
          "vw dasher (diesel)",
          "audi 5000s (diesel)",
          "mercedes-benz 240d",
          "honda civic 1500 gl",
          "renault lecar deluxe",
          "subaru dl",
          "vokswagen rabbit",
          "datsun 280-zx",
          "mazda rx-7 gs",
          "triumph tr7 coupe",
          "ford mustang cobra",
          "honda accord",
          "plymouth reliant",
          "buick skylark",
          "dodge aries wagon (sw)",
          "chevrolet citation",
          "plymouth reliant",
          "toyota starlet",
          "plymouth champ",
          "honda civic 1300",
          "subaru",
          "datsun 210 mpg",
          "toyota tercel",
          "mazda glc 4",
          "plymouth horizon 4",
          "ford escort 4w",
          "ford escort 2h",
          "volkswagen jetta",
          "renault 18i",
          "honda prelude",
          "toyota corolla",
          "datsun 200sx",
          "mazda 626",
          "peugeot 505s turbo diesel",
          "volvo diesel",
          "toyota cressida",
          "datsun 810 maxima",
          "buick century",
          "oldsmobile cutlass ls",
          "ford granada gl",
          "chrysler lebaron salon",
          "chevrolet cavalier",
          "chevrolet cavalier wagon",
          "chevrolet cavalier 2-door",
          "pontiac j2000 se hatchback",
          "dodge aries se",
          "pontiac phoenix",
          "ford fairmont futura",
          "amc concord dl",
          "volkswagen rabbit l",
          "mazda glc custom l",
          "mazda glc custom",
          "plymouth horizon miser",
          "mercury lynx l",
          "nissan stanza xe",
          "honda accord",
          "toyota corolla",
          "honda civic",
          "honda civic (auto)",
          "datsun 310 gx",
          "buick century limited",
          "oldsmobile cutlass ciera (diesel)",
          "chrysler lebaron medallion",
          "ford granada l",
          "toyota celica gt",
          "dodge charger 2.2",
          "chevrolet camaro",
          "ford mustang gl",
          "vw pickup",
          "dodge rampage",
          "ford ranger",
          "chevy s-10"
         ],
         "type": "scatter",
         "x": [
          "130",
          "165",
          "150",
          "150",
          "140",
          "198",
          "220",
          "215",
          "225",
          "190",
          "170",
          "160",
          "150",
          "225",
          "95",
          "95",
          "97",
          "85",
          "88",
          "46",
          "87",
          "90",
          "95",
          "113",
          "90",
          "215",
          "200",
          "210",
          "193",
          "88",
          "90",
          "95",
          "?",
          "100",
          "105",
          "100",
          "88",
          "100",
          "165",
          "175",
          "153",
          "150",
          "180",
          "170",
          "175",
          "110",
          "72",
          "100",
          "88",
          "86",
          "90",
          "70",
          "76",
          "65",
          "69",
          "60",
          "70",
          "95",
          "80",
          "54",
          "90",
          "86",
          "165",
          "175",
          "150",
          "153",
          "150",
          "208",
          "155",
          "160",
          "190",
          "97",
          "150",
          "130",
          "140",
          "150",
          "112",
          "76",
          "87",
          "69",
          "86",
          "92",
          "97",
          "80",
          "88",
          "175",
          "150",
          "145",
          "137",
          "150",
          "198",
          "150",
          "158",
          "150",
          "215",
          "225",
          "175",
          "105",
          "100",
          "100",
          "88",
          "95",
          "46",
          "150",
          "167",
          "170",
          "180",
          "100",
          "88",
          "72",
          "94",
          "90",
          "85",
          "107",
          "90",
          "145",
          "230",
          "49",
          "75",
          "91",
          "112",
          "150",
          "110",
          "122",
          "180",
          "95",
          "?",
          "100",
          "100",
          "67",
          "80",
          "65",
          "75",
          "100",
          "110",
          "105",
          "140",
          "150",
          "150",
          "140",
          "150",
          "83",
          "67",
          "78",
          "52",
          "61",
          "75",
          "75",
          "75",
          "97",
          "93",
          "67",
          "95",
          "105",
          "72",
          "72",
          "170",
          "145",
          "150",
          "148",
          "110",
          "105",
          "110",
          "95",
          "110",
          "110",
          "129",
          "75",
          "83",
          "100",
          "78",
          "96",
          "71",
          "97",
          "97",
          "70",
          "90",
          "95",
          "88",
          "98",
          "115",
          "53",
          "86",
          "81",
          "92",
          "79",
          "83",
          "140",
          "150",
          "120",
          "152",
          "100",
          "105",
          "81",
          "90",
          "52",
          "60",
          "70",
          "53",
          "100",
          "78",
          "110",
          "95",
          "71",
          "70",
          "75",
          "72",
          "102",
          "150",
          "88",
          "108",
          "120",
          "180",
          "145",
          "130",
          "150",
          "68",
          "80",
          "58",
          "96",
          "70",
          "145",
          "110",
          "145",
          "130",
          "110",
          "105",
          "100",
          "98",
          "180",
          "170",
          "190",
          "149",
          "78",
          "88",
          "75",
          "89",
          "63",
          "83",
          "67",
          "78",
          "97",
          "110",
          "110",
          "48",
          "66",
          "52",
          "70",
          "60",
          "110",
          "140",
          "139",
          "105",
          "95",
          "85",
          "88",
          "100",
          "90",
          "105",
          "85",
          "110",
          "120",
          "145",
          "165",
          "139",
          "140",
          "68",
          "95",
          "97",
          "75",
          "95",
          "105",
          "85",
          "97",
          "103",
          "125",
          "115",
          "133",
          "71",
          "68",
          "115",
          "85",
          "88",
          "90",
          "110",
          "130",
          "129",
          "138",
          "135",
          "155",
          "142",
          "125",
          "150",
          "71",
          "65",
          "80",
          "80",
          "77",
          "125",
          "71",
          "90",
          "70",
          "70",
          "65",
          "69",
          "90",
          "115",
          "115",
          "90",
          "76",
          "60",
          "70",
          "65",
          "90",
          "88",
          "90",
          "90",
          "78",
          "90",
          "75",
          "92",
          "75",
          "65",
          "105",
          "65",
          "48",
          "48",
          "67",
          "67",
          "67",
          "?",
          "67",
          "62",
          "132",
          "100",
          "88",
          "?",
          "72",
          "84",
          "84",
          "92",
          "110",
          "84",
          "58",
          "64",
          "60",
          "67",
          "65",
          "62",
          "68",
          "63",
          "65",
          "65",
          "74",
          "?",
          "75",
          "75",
          "100",
          "74",
          "80",
          "76",
          "116",
          "120",
          "110",
          "105",
          "88",
          "85",
          "88",
          "88",
          "88",
          "85",
          "84",
          "90",
          "92",
          "?",
          "74",
          "68",
          "68",
          "63",
          "70",
          "88",
          "75",
          "70",
          "67",
          "67",
          "67",
          "110",
          "85",
          "92",
          "112",
          "96",
          "84",
          "90",
          "86",
          "52",
          "84",
          "79",
          "82"
         ],
         "y": [
          18,
          15,
          18,
          16,
          17,
          15,
          14,
          14,
          14,
          15,
          15,
          14,
          15,
          14,
          24,
          22,
          18,
          21,
          27,
          26,
          25,
          24,
          25,
          26,
          21,
          10,
          10,
          11,
          9,
          27,
          28,
          25,
          25,
          19,
          16,
          17,
          19,
          18,
          14,
          14,
          14,
          14,
          12,
          13,
          13,
          18,
          22,
          19,
          18,
          23,
          28,
          30,
          30,
          31,
          35,
          27,
          26,
          24,
          25,
          23,
          20,
          21,
          13,
          14,
          15,
          14,
          17,
          11,
          13,
          12,
          13,
          19,
          15,
          13,
          13,
          14,
          18,
          22,
          21,
          26,
          22,
          28,
          23,
          28,
          27,
          13,
          14,
          13,
          14,
          15,
          12,
          13,
          13,
          14,
          13,
          12,
          13,
          18,
          16,
          18,
          18,
          23,
          26,
          11,
          12,
          13,
          12,
          18,
          20,
          21,
          22,
          18,
          19,
          21,
          26,
          15,
          16,
          29,
          24,
          20,
          19,
          15,
          24,
          20,
          11,
          20,
          21,
          19,
          15,
          31,
          26,
          32,
          25,
          16,
          16,
          18,
          16,
          13,
          14,
          14,
          14,
          29,
          26,
          26,
          31,
          32,
          28,
          24,
          26,
          24,
          26,
          31,
          19,
          18,
          15,
          15,
          16,
          15,
          16,
          14,
          17,
          16,
          15,
          18,
          21,
          20,
          13,
          29,
          23,
          20,
          23,
          24,
          25,
          24,
          18,
          29,
          19,
          23,
          23,
          22,
          25,
          33,
          28,
          25,
          25,
          26,
          27,
          17.5,
          16,
          15.5,
          14.5,
          22,
          22,
          24,
          22.5,
          29,
          24.5,
          29,
          33,
          20,
          18,
          18.5,
          17.5,
          29.5,
          32,
          28,
          26.5,
          20,
          13,
          19,
          19,
          16.5,
          16.5,
          13,
          13,
          13,
          31.5,
          30,
          36,
          25.5,
          33.5,
          17.5,
          17,
          15.5,
          15,
          17.5,
          20.5,
          19,
          18.5,
          16,
          15.5,
          15.5,
          16,
          29,
          24.5,
          26,
          25.5,
          30.5,
          33.5,
          30,
          30.5,
          22,
          21.5,
          21.5,
          43.1,
          36.1,
          32.8,
          39.4,
          36.1,
          19.9,
          19.4,
          20.2,
          19.2,
          20.5,
          20.2,
          25.1,
          20.5,
          19.4,
          20.6,
          20.8,
          18.6,
          18.1,
          19.2,
          17.7,
          18.1,
          17.5,
          30,
          27.5,
          27.2,
          30.9,
          21.1,
          23.2,
          23.8,
          23.9,
          20.3,
          17,
          21.6,
          16.2,
          31.5,
          29.5,
          21.5,
          19.8,
          22.3,
          20.2,
          20.6,
          17,
          17.6,
          16.5,
          18.2,
          16.9,
          15.5,
          19.2,
          18.5,
          31.9,
          34.1,
          35.7,
          27.4,
          25.4,
          23,
          27.2,
          23.9,
          34.2,
          34.5,
          31.8,
          37.3,
          28.4,
          28.8,
          26.8,
          33.5,
          41.5,
          38.1,
          32.1,
          37.2,
          28,
          26.4,
          24.3,
          19.1,
          34.3,
          29.8,
          31.3,
          37,
          32.2,
          46.6,
          27.9,
          40.8,
          44.3,
          43.4,
          36.4,
          30,
          44.6,
          40.9,
          33.8,
          29.8,
          32.7,
          23.7,
          35,
          23.6,
          32.4,
          27.2,
          26.6,
          25.8,
          23.5,
          30,
          39.1,
          39,
          35.1,
          32.3,
          37,
          37.7,
          34.1,
          34.7,
          34.4,
          29.9,
          33,
          34.5,
          33.7,
          32.4,
          32.9,
          31.6,
          28.1,
          30.7,
          25.4,
          24.2,
          22.4,
          26.6,
          20.2,
          17.6,
          28,
          27,
          34,
          31,
          29,
          27,
          24,
          23,
          36,
          37,
          31,
          38,
          36,
          36,
          36,
          34,
          38,
          32,
          38,
          25,
          38,
          26,
          22,
          32,
          36,
          27,
          27,
          44,
          32,
          28,
          31
         ]
        }
       ],
       "layout": {
        "template": {
         "data": {
          "bar": [
           {
            "error_x": {
             "color": "#2a3f5f"
            },
            "error_y": {
             "color": "#2a3f5f"
            },
            "marker": {
             "line": {
              "color": "#E5ECF6",
              "width": 0.5
             }
            },
            "type": "bar"
           }
          ],
          "barpolar": [
           {
            "marker": {
             "line": {
              "color": "#E5ECF6",
              "width": 0.5
             }
            },
            "type": "barpolar"
           }
          ],
          "carpet": [
           {
            "aaxis": {
             "endlinecolor": "#2a3f5f",
             "gridcolor": "white",
             "linecolor": "white",
             "minorgridcolor": "white",
             "startlinecolor": "#2a3f5f"
            },
            "baxis": {
             "endlinecolor": "#2a3f5f",
             "gridcolor": "white",
             "linecolor": "white",
             "minorgridcolor": "white",
             "startlinecolor": "#2a3f5f"
            },
            "type": "carpet"
           }
          ],
          "choropleth": [
           {
            "colorbar": {
             "outlinewidth": 0,
             "ticks": ""
            },
            "type": "choropleth"
           }
          ],
          "contour": [
           {
            "colorbar": {
             "outlinewidth": 0,
             "ticks": ""
            },
            "colorscale": [
             [
              0,
              "#0d0887"
             ],
             [
              0.1111111111111111,
              "#46039f"
             ],
             [
              0.2222222222222222,
              "#7201a8"
             ],
             [
              0.3333333333333333,
              "#9c179e"
             ],
             [
              0.4444444444444444,
              "#bd3786"
             ],
             [
              0.5555555555555556,
              "#d8576b"
             ],
             [
              0.6666666666666666,
              "#ed7953"
             ],
             [
              0.7777777777777778,
              "#fb9f3a"
             ],
             [
              0.8888888888888888,
              "#fdca26"
             ],
             [
              1,
              "#f0f921"
             ]
            ],
            "type": "contour"
           }
          ],
          "contourcarpet": [
           {
            "colorbar": {
             "outlinewidth": 0,
             "ticks": ""
            },
            "type": "contourcarpet"
           }
          ],
          "heatmap": [
           {
            "colorbar": {
             "outlinewidth": 0,
             "ticks": ""
            },
            "colorscale": [
             [
              0,
              "#0d0887"
             ],
             [
              0.1111111111111111,
              "#46039f"
             ],
             [
              0.2222222222222222,
              "#7201a8"
             ],
             [
              0.3333333333333333,
              "#9c179e"
             ],
             [
              0.4444444444444444,
              "#bd3786"
             ],
             [
              0.5555555555555556,
              "#d8576b"
             ],
             [
              0.6666666666666666,
              "#ed7953"
             ],
             [
              0.7777777777777778,
              "#fb9f3a"
             ],
             [
              0.8888888888888888,
              "#fdca26"
             ],
             [
              1,
              "#f0f921"
             ]
            ],
            "type": "heatmap"
           }
          ],
          "heatmapgl": [
           {
            "colorbar": {
             "outlinewidth": 0,
             "ticks": ""
            },
            "colorscale": [
             [
              0,
              "#0d0887"
             ],
             [
              0.1111111111111111,
              "#46039f"
             ],
             [
              0.2222222222222222,
              "#7201a8"
             ],
             [
              0.3333333333333333,
              "#9c179e"
             ],
             [
              0.4444444444444444,
              "#bd3786"
             ],
             [
              0.5555555555555556,
              "#d8576b"
             ],
             [
              0.6666666666666666,
              "#ed7953"
             ],
             [
              0.7777777777777778,
              "#fb9f3a"
             ],
             [
              0.8888888888888888,
              "#fdca26"
             ],
             [
              1,
              "#f0f921"
             ]
            ],
            "type": "heatmapgl"
           }
          ],
          "histogram": [
           {
            "marker": {
             "colorbar": {
              "outlinewidth": 0,
              "ticks": ""
             }
            },
            "type": "histogram"
           }
          ],
          "histogram2d": [
           {
            "colorbar": {
             "outlinewidth": 0,
             "ticks": ""
            },
            "colorscale": [
             [
              0,
              "#0d0887"
             ],
             [
              0.1111111111111111,
              "#46039f"
             ],
             [
              0.2222222222222222,
              "#7201a8"
             ],
             [
              0.3333333333333333,
              "#9c179e"
             ],
             [
              0.4444444444444444,
              "#bd3786"
             ],
             [
              0.5555555555555556,
              "#d8576b"
             ],
             [
              0.6666666666666666,
              "#ed7953"
             ],
             [
              0.7777777777777778,
              "#fb9f3a"
             ],
             [
              0.8888888888888888,
              "#fdca26"
             ],
             [
              1,
              "#f0f921"
             ]
            ],
            "type": "histogram2d"
           }
          ],
          "histogram2dcontour": [
           {
            "colorbar": {
             "outlinewidth": 0,
             "ticks": ""
            },
            "colorscale": [
             [
              0,
              "#0d0887"
             ],
             [
              0.1111111111111111,
              "#46039f"
             ],
             [
              0.2222222222222222,
              "#7201a8"
             ],
             [
              0.3333333333333333,
              "#9c179e"
             ],
             [
              0.4444444444444444,
              "#bd3786"
             ],
             [
              0.5555555555555556,
              "#d8576b"
             ],
             [
              0.6666666666666666,
              "#ed7953"
             ],
             [
              0.7777777777777778,
              "#fb9f3a"
             ],
             [
              0.8888888888888888,
              "#fdca26"
             ],
             [
              1,
              "#f0f921"
             ]
            ],
            "type": "histogram2dcontour"
           }
          ],
          "mesh3d": [
           {
            "colorbar": {
             "outlinewidth": 0,
             "ticks": ""
            },
            "type": "mesh3d"
           }
          ],
          "parcoords": [
           {
            "line": {
             "colorbar": {
              "outlinewidth": 0,
              "ticks": ""
             }
            },
            "type": "parcoords"
           }
          ],
          "pie": [
           {
            "automargin": true,
            "type": "pie"
           }
          ],
          "scatter": [
           {
            "marker": {
             "colorbar": {
              "outlinewidth": 0,
              "ticks": ""
             }
            },
            "type": "scatter"
           }
          ],
          "scatter3d": [
           {
            "line": {
             "colorbar": {
              "outlinewidth": 0,
              "ticks": ""
             }
            },
            "marker": {
             "colorbar": {
              "outlinewidth": 0,
              "ticks": ""
             }
            },
            "type": "scatter3d"
           }
          ],
          "scattercarpet": [
           {
            "marker": {
             "colorbar": {
              "outlinewidth": 0,
              "ticks": ""
             }
            },
            "type": "scattercarpet"
           }
          ],
          "scattergeo": [
           {
            "marker": {
             "colorbar": {
              "outlinewidth": 0,
              "ticks": ""
             }
            },
            "type": "scattergeo"
           }
          ],
          "scattergl": [
           {
            "marker": {
             "colorbar": {
              "outlinewidth": 0,
              "ticks": ""
             }
            },
            "type": "scattergl"
           }
          ],
          "scattermapbox": [
           {
            "marker": {
             "colorbar": {
              "outlinewidth": 0,
              "ticks": ""
             }
            },
            "type": "scattermapbox"
           }
          ],
          "scatterpolar": [
           {
            "marker": {
             "colorbar": {
              "outlinewidth": 0,
              "ticks": ""
             }
            },
            "type": "scatterpolar"
           }
          ],
          "scatterpolargl": [
           {
            "marker": {
             "colorbar": {
              "outlinewidth": 0,
              "ticks": ""
             }
            },
            "type": "scatterpolargl"
           }
          ],
          "scatterternary": [
           {
            "marker": {
             "colorbar": {
              "outlinewidth": 0,
              "ticks": ""
             }
            },
            "type": "scatterternary"
           }
          ],
          "surface": [
           {
            "colorbar": {
             "outlinewidth": 0,
             "ticks": ""
            },
            "colorscale": [
             [
              0,
              "#0d0887"
             ],
             [
              0.1111111111111111,
              "#46039f"
             ],
             [
              0.2222222222222222,
              "#7201a8"
             ],
             [
              0.3333333333333333,
              "#9c179e"
             ],
             [
              0.4444444444444444,
              "#bd3786"
             ],
             [
              0.5555555555555556,
              "#d8576b"
             ],
             [
              0.6666666666666666,
              "#ed7953"
             ],
             [
              0.7777777777777778,
              "#fb9f3a"
             ],
             [
              0.8888888888888888,
              "#fdca26"
             ],
             [
              1,
              "#f0f921"
             ]
            ],
            "type": "surface"
           }
          ],
          "table": [
           {
            "cells": {
             "fill": {
              "color": "#EBF0F8"
             },
             "line": {
              "color": "white"
             }
            },
            "header": {
             "fill": {
              "color": "#C8D4E3"
             },
             "line": {
              "color": "white"
             }
            },
            "type": "table"
           }
          ]
         },
         "layout": {
          "annotationdefaults": {
           "arrowcolor": "#2a3f5f",
           "arrowhead": 0,
           "arrowwidth": 1
          },
          "coloraxis": {
           "colorbar": {
            "outlinewidth": 0,
            "ticks": ""
           }
          },
          "colorscale": {
           "diverging": [
            [
             0,
             "#8e0152"
            ],
            [
             0.1,
             "#c51b7d"
            ],
            [
             0.2,
             "#de77ae"
            ],
            [
             0.3,
             "#f1b6da"
            ],
            [
             0.4,
             "#fde0ef"
            ],
            [
             0.5,
             "#f7f7f7"
            ],
            [
             0.6,
             "#e6f5d0"
            ],
            [
             0.7,
             "#b8e186"
            ],
            [
             0.8,
             "#7fbc41"
            ],
            [
             0.9,
             "#4d9221"
            ],
            [
             1,
             "#276419"
            ]
           ],
           "sequential": [
            [
             0,
             "#0d0887"
            ],
            [
             0.1111111111111111,
             "#46039f"
            ],
            [
             0.2222222222222222,
             "#7201a8"
            ],
            [
             0.3333333333333333,
             "#9c179e"
            ],
            [
             0.4444444444444444,
             "#bd3786"
            ],
            [
             0.5555555555555556,
             "#d8576b"
            ],
            [
             0.6666666666666666,
             "#ed7953"
            ],
            [
             0.7777777777777778,
             "#fb9f3a"
            ],
            [
             0.8888888888888888,
             "#fdca26"
            ],
            [
             1,
             "#f0f921"
            ]
           ],
           "sequentialminus": [
            [
             0,
             "#0d0887"
            ],
            [
             0.1111111111111111,
             "#46039f"
            ],
            [
             0.2222222222222222,
             "#7201a8"
            ],
            [
             0.3333333333333333,
             "#9c179e"
            ],
            [
             0.4444444444444444,
             "#bd3786"
            ],
            [
             0.5555555555555556,
             "#d8576b"
            ],
            [
             0.6666666666666666,
             "#ed7953"
            ],
            [
             0.7777777777777778,
             "#fb9f3a"
            ],
            [
             0.8888888888888888,
             "#fdca26"
            ],
            [
             1,
             "#f0f921"
            ]
           ]
          },
          "colorway": [
           "#636efa",
           "#EF553B",
           "#00cc96",
           "#ab63fa",
           "#FFA15A",
           "#19d3f3",
           "#FF6692",
           "#B6E880",
           "#FF97FF",
           "#FECB52"
          ],
          "font": {
           "color": "#2a3f5f"
          },
          "geo": {
           "bgcolor": "white",
           "lakecolor": "white",
           "landcolor": "#E5ECF6",
           "showlakes": true,
           "showland": true,
           "subunitcolor": "white"
          },
          "hoverlabel": {
           "align": "left"
          },
          "hovermode": "closest",
          "mapbox": {
           "style": "light"
          },
          "paper_bgcolor": "white",
          "plot_bgcolor": "#E5ECF6",
          "polar": {
           "angularaxis": {
            "gridcolor": "white",
            "linecolor": "white",
            "ticks": ""
           },
           "bgcolor": "#E5ECF6",
           "radialaxis": {
            "gridcolor": "white",
            "linecolor": "white",
            "ticks": ""
           }
          },
          "scene": {
           "xaxis": {
            "backgroundcolor": "#E5ECF6",
            "gridcolor": "white",
            "gridwidth": 2,
            "linecolor": "white",
            "showbackground": true,
            "ticks": "",
            "zerolinecolor": "white"
           },
           "yaxis": {
            "backgroundcolor": "#E5ECF6",
            "gridcolor": "white",
            "gridwidth": 2,
            "linecolor": "white",
            "showbackground": true,
            "ticks": "",
            "zerolinecolor": "white"
           },
           "zaxis": {
            "backgroundcolor": "#E5ECF6",
            "gridcolor": "white",
            "gridwidth": 2,
            "linecolor": "white",
            "showbackground": true,
            "ticks": "",
            "zerolinecolor": "white"
           }
          },
          "shapedefaults": {
           "line": {
            "color": "#2a3f5f"
           }
          },
          "ternary": {
           "aaxis": {
            "gridcolor": "white",
            "linecolor": "white",
            "ticks": ""
           },
           "baxis": {
            "gridcolor": "white",
            "linecolor": "white",
            "ticks": ""
           },
           "bgcolor": "#E5ECF6",
           "caxis": {
            "gridcolor": "white",
            "linecolor": "white",
            "ticks": ""
           }
          },
          "title": {
           "x": 0.05
          },
          "xaxis": {
           "automargin": true,
           "gridcolor": "white",
           "linecolor": "white",
           "ticks": "",
           "title": {
            "standoff": 15
           },
           "zerolinecolor": "white",
           "zerolinewidth": 2
          },
          "yaxis": {
           "automargin": true,
           "gridcolor": "white",
           "linecolor": "white",
           "ticks": "",
           "title": {
            "standoff": 15
           },
           "zerolinecolor": "white",
           "zerolinewidth": 2
          }
         }
        },
        "title": {
         "text": "Coches"
        },
        "xaxis": {
         "title": {
          "text": "Horsepower"
         }
        },
        "yaxis": {
         "title": {
          "text": "consumo (mpg)"
         }
        }
       }
      },
      "text/html": [
       "<div>\n",
       "        \n",
       "        \n",
       "            <div id=\"ccfe5344-8e8d-42ef-b62b-d7c351e520d7\" class=\"plotly-graph-div\" style=\"height:525px; width:100%;\"></div>\n",
       "            <script type=\"text/javascript\">\n",
       "                require([\"plotly\"], function(Plotly) {\n",
       "                    window.PLOTLYENV=window.PLOTLYENV || {};\n",
       "                    \n",
       "                if (document.getElementById(\"ccfe5344-8e8d-42ef-b62b-d7c351e520d7\")) {\n",
       "                    Plotly.newPlot(\n",
       "                        'ccfe5344-8e8d-42ef-b62b-d7c351e520d7',\n",
       "                        [{\"mode\": \"markers\", \"text\": [\"chevrolet chevelle malibu\", \"buick skylark 320\", \"plymouth satellite\", \"amc rebel sst\", \"ford torino\", \"ford galaxie 500\", \"chevrolet impala\", \"plymouth fury iii\", \"pontiac catalina\", \"amc ambassador dpl\", \"dodge challenger se\", \"plymouth 'cuda 340\", \"chevrolet monte carlo\", \"buick estate wagon (sw)\", \"toyota corona mark ii\", \"plymouth duster\", \"amc hornet\", \"ford maverick\", \"datsun pl510\", \"volkswagen 1131 deluxe sedan\", \"peugeot 504\", \"audi 100 ls\", \"saab 99e\", \"bmw 2002\", \"amc gremlin\", \"ford f250\", \"chevy c20\", \"dodge d200\", \"hi 1200d\", \"datsun pl510\", \"chevrolet vega 2300\", \"toyota corona\", \"ford pinto\", \"amc gremlin\", \"plymouth satellite custom\", \"chevrolet chevelle malibu\", \"ford torino 500\", \"amc matador\", \"chevrolet impala\", \"pontiac catalina brougham\", \"ford galaxie 500\", \"plymouth fury iii\", \"dodge monaco (sw)\", \"ford country squire (sw)\", \"pontiac safari (sw)\", \"amc hornet sportabout (sw)\", \"chevrolet vega (sw)\", \"pontiac firebird\", \"ford mustang\", \"mercury capri 2000\", \"opel 1900\", \"peugeot 304\", \"fiat 124b\", \"toyota corolla 1200\", \"datsun 1200\", \"volkswagen model 111\", \"plymouth cricket\", \"toyota corona hardtop\", \"dodge colt hardtop\", \"volkswagen type 3\", \"chevrolet vega\", \"ford pinto runabout\", \"chevrolet impala\", \"pontiac catalina\", \"plymouth fury iii\", \"ford galaxie 500\", \"amc ambassador sst\", \"mercury marquis\", \"buick lesabre custom\", \"oldsmobile delta 88 royale\", \"chrysler newport royal\", \"mazda rx2 coupe\", \"amc matador (sw)\", \"chevrolet chevelle concours (sw)\", \"ford gran torino (sw)\", \"plymouth satellite custom (sw)\", \"volvo 145e (sw)\", \"volkswagen 411 (sw)\", \"peugeot 504 (sw)\", \"renault 12 (sw)\", \"ford pinto (sw)\", \"datsun 510 (sw)\", \"toyouta corona mark ii (sw)\", \"dodge colt (sw)\", \"toyota corolla 1600 (sw)\", \"buick century 350\", \"amc matador\", \"chevrolet malibu\", \"ford gran torino\", \"dodge coronet custom\", \"mercury marquis brougham\", \"chevrolet caprice classic\", \"ford ltd\", \"plymouth fury gran sedan\", \"chrysler new yorker brougham\", \"buick electra 225 custom\", \"amc ambassador brougham\", \"plymouth valiant\", \"chevrolet nova custom\", \"amc hornet\", \"ford maverick\", \"plymouth duster\", \"volkswagen super beetle\", \"chevrolet impala\", \"ford country\", \"plymouth custom suburb\", \"oldsmobile vista cruiser\", \"amc gremlin\", \"toyota carina\", \"chevrolet vega\", \"datsun 610\", \"maxda rx3\", \"ford pinto\", \"mercury capri v6\", \"fiat 124 sport coupe\", \"chevrolet monte carlo s\", \"pontiac grand prix\", \"fiat 128\", \"opel manta\", \"audi 100ls\", \"volvo 144ea\", \"dodge dart custom\", \"saab 99le\", \"toyota mark ii\", \"oldsmobile omega\", \"plymouth duster\", \"ford maverick\", \"amc hornet\", \"chevrolet nova\", \"datsun b210\", \"ford pinto\", \"toyota corolla 1200\", \"chevrolet vega\", \"chevrolet chevelle malibu classic\", \"amc matador\", \"plymouth satellite sebring\", \"ford gran torino\", \"buick century luxus (sw)\", \"dodge coronet custom (sw)\", \"ford gran torino (sw)\", \"amc matador (sw)\", \"audi fox\", \"volkswagen dasher\", \"opel manta\", \"toyota corona\", \"datsun 710\", \"dodge colt\", \"fiat 128\", \"fiat 124 tc\", \"honda civic\", \"subaru\", \"fiat x1.9\", \"plymouth valiant custom\", \"chevrolet nova\", \"mercury monarch\", \"ford maverick\", \"pontiac catalina\", \"chevrolet bel air\", \"plymouth grand fury\", \"ford ltd\", \"buick century\", \"chevroelt chevelle malibu\", \"amc matador\", \"plymouth fury\", \"buick skyhawk\", \"chevrolet monza 2+2\", \"ford mustang ii\", \"toyota corolla\", \"ford pinto\", \"amc gremlin\", \"pontiac astro\", \"toyota corona\", \"volkswagen dasher\", \"datsun 710\", \"ford pinto\", \"volkswagen rabbit\", \"amc pacer\", \"audi 100ls\", \"peugeot 504\", \"volvo 244dl\", \"saab 99le\", \"honda civic cvcc\", \"fiat 131\", \"opel 1900\", \"capri ii\", \"dodge colt\", \"renault 12tl\", \"chevrolet chevelle malibu classic\", \"dodge coronet brougham\", \"amc matador\", \"ford gran torino\", \"plymouth valiant\", \"chevrolet nova\", \"ford maverick\", \"amc hornet\", \"chevrolet chevette\", \"chevrolet woody\", \"vw rabbit\", \"honda civic\", \"dodge aspen se\", \"ford granada ghia\", \"pontiac ventura sj\", \"amc pacer d/l\", \"volkswagen rabbit\", \"datsun b-210\", \"toyota corolla\", \"ford pinto\", \"volvo 245\", \"plymouth volare premier v8\", \"peugeot 504\", \"toyota mark ii\", \"mercedes-benz 280s\", \"cadillac seville\", \"chevy c10\", \"ford f108\", \"dodge d100\", \"honda accord cvcc\", \"buick opel isuzu deluxe\", \"renault 5 gtl\", \"plymouth arrow gs\", \"datsun f-10 hatchback\", \"chevrolet caprice classic\", \"oldsmobile cutlass supreme\", \"dodge monaco brougham\", \"mercury cougar brougham\", \"chevrolet concours\", \"buick skylark\", \"plymouth volare custom\", \"ford granada\", \"pontiac grand prix lj\", \"chevrolet monte carlo landau\", \"chrysler cordoba\", \"ford thunderbird\", \"volkswagen rabbit custom\", \"pontiac sunbird coupe\", \"toyota corolla liftback\", \"ford mustang ii 2+2\", \"chevrolet chevette\", \"dodge colt m/m\", \"subaru dl\", \"volkswagen dasher\", \"datsun 810\", \"bmw 320i\", \"mazda rx-4\", \"volkswagen rabbit custom diesel\", \"ford fiesta\", \"mazda glc deluxe\", \"datsun b210 gx\", \"honda civic cvcc\", \"oldsmobile cutlass salon brougham\", \"dodge diplomat\", \"mercury monarch ghia\", \"pontiac phoenix lj\", \"chevrolet malibu\", \"ford fairmont (auto)\", \"ford fairmont (man)\", \"plymouth volare\", \"amc concord\", \"buick century special\", \"mercury zephyr\", \"dodge aspen\", \"amc concord d/l\", \"chevrolet monte carlo landau\", \"buick regal sport coupe (turbo)\", \"ford futura\", \"dodge magnum xe\", \"chevrolet chevette\", \"toyota corona\", \"datsun 510\", \"dodge omni\", \"toyota celica gt liftback\", \"plymouth sapporo\", \"oldsmobile starfire sx\", \"datsun 200-sx\", \"audi 5000\", \"volvo 264gl\", \"saab 99gle\", \"peugeot 604sl\", \"volkswagen scirocco\", \"honda accord lx\", \"pontiac lemans v6\", \"mercury zephyr 6\", \"ford fairmont 4\", \"amc concord dl 6\", \"dodge aspen 6\", \"chevrolet caprice classic\", \"ford ltd landau\", \"mercury grand marquis\", \"dodge st. regis\", \"buick estate wagon (sw)\", \"ford country squire (sw)\", \"chevrolet malibu classic (sw)\", \"chrysler lebaron town @ country (sw)\", \"vw rabbit custom\", \"maxda glc deluxe\", \"dodge colt hatchback custom\", \"amc spirit dl\", \"mercedes benz 300d\", \"cadillac eldorado\", \"peugeot 504\", \"oldsmobile cutlass salon brougham\", \"plymouth horizon\", \"plymouth horizon tc3\", \"datsun 210\", \"fiat strada custom\", \"buick skylark limited\", \"chevrolet citation\", \"oldsmobile omega brougham\", \"pontiac phoenix\", \"vw rabbit\", \"toyota corolla tercel\", \"chevrolet chevette\", \"datsun 310\", \"chevrolet citation\", \"ford fairmont\", \"amc concord\", \"dodge aspen\", \"audi 4000\", \"toyota corona liftback\", \"mazda 626\", \"datsun 510 hatchback\", \"toyota corolla\", \"mazda glc\", \"dodge colt\", \"datsun 210\", \"vw rabbit c (diesel)\", \"vw dasher (diesel)\", \"audi 5000s (diesel)\", \"mercedes-benz 240d\", \"honda civic 1500 gl\", \"renault lecar deluxe\", \"subaru dl\", \"vokswagen rabbit\", \"datsun 280-zx\", \"mazda rx-7 gs\", \"triumph tr7 coupe\", \"ford mustang cobra\", \"honda accord\", \"plymouth reliant\", \"buick skylark\", \"dodge aries wagon (sw)\", \"chevrolet citation\", \"plymouth reliant\", \"toyota starlet\", \"plymouth champ\", \"honda civic 1300\", \"subaru\", \"datsun 210 mpg\", \"toyota tercel\", \"mazda glc 4\", \"plymouth horizon 4\", \"ford escort 4w\", \"ford escort 2h\", \"volkswagen jetta\", \"renault 18i\", \"honda prelude\", \"toyota corolla\", \"datsun 200sx\", \"mazda 626\", \"peugeot 505s turbo diesel\", \"volvo diesel\", \"toyota cressida\", \"datsun 810 maxima\", \"buick century\", \"oldsmobile cutlass ls\", \"ford granada gl\", \"chrysler lebaron salon\", \"chevrolet cavalier\", \"chevrolet cavalier wagon\", \"chevrolet cavalier 2-door\", \"pontiac j2000 se hatchback\", \"dodge aries se\", \"pontiac phoenix\", \"ford fairmont futura\", \"amc concord dl\", \"volkswagen rabbit l\", \"mazda glc custom l\", \"mazda glc custom\", \"plymouth horizon miser\", \"mercury lynx l\", \"nissan stanza xe\", \"honda accord\", \"toyota corolla\", \"honda civic\", \"honda civic (auto)\", \"datsun 310 gx\", \"buick century limited\", \"oldsmobile cutlass ciera (diesel)\", \"chrysler lebaron medallion\", \"ford granada l\", \"toyota celica gt\", \"dodge charger 2.2\", \"chevrolet camaro\", \"ford mustang gl\", \"vw pickup\", \"dodge rampage\", \"ford ranger\", \"chevy s-10\"], \"type\": \"scatter\", \"x\": [\"130\", \"165\", \"150\", \"150\", \"140\", \"198\", \"220\", \"215\", \"225\", \"190\", \"170\", \"160\", \"150\", \"225\", \"95\", \"95\", \"97\", \"85\", \"88\", \"46\", \"87\", \"90\", \"95\", \"113\", \"90\", \"215\", \"200\", \"210\", \"193\", \"88\", \"90\", \"95\", \"?\", \"100\", \"105\", \"100\", \"88\", \"100\", \"165\", \"175\", \"153\", \"150\", \"180\", \"170\", \"175\", \"110\", \"72\", \"100\", \"88\", \"86\", \"90\", \"70\", \"76\", \"65\", \"69\", \"60\", \"70\", \"95\", \"80\", \"54\", \"90\", \"86\", \"165\", \"175\", \"150\", \"153\", \"150\", \"208\", \"155\", \"160\", \"190\", \"97\", \"150\", \"130\", \"140\", \"150\", \"112\", \"76\", \"87\", \"69\", \"86\", \"92\", \"97\", \"80\", \"88\", \"175\", \"150\", \"145\", \"137\", \"150\", \"198\", \"150\", \"158\", \"150\", \"215\", \"225\", \"175\", \"105\", \"100\", \"100\", \"88\", \"95\", \"46\", \"150\", \"167\", \"170\", \"180\", \"100\", \"88\", \"72\", \"94\", \"90\", \"85\", \"107\", \"90\", \"145\", \"230\", \"49\", \"75\", \"91\", \"112\", \"150\", \"110\", \"122\", \"180\", \"95\", \"?\", \"100\", \"100\", \"67\", \"80\", \"65\", \"75\", \"100\", \"110\", \"105\", \"140\", \"150\", \"150\", \"140\", \"150\", \"83\", \"67\", \"78\", \"52\", \"61\", \"75\", \"75\", \"75\", \"97\", \"93\", \"67\", \"95\", \"105\", \"72\", \"72\", \"170\", \"145\", \"150\", \"148\", \"110\", \"105\", \"110\", \"95\", \"110\", \"110\", \"129\", \"75\", \"83\", \"100\", \"78\", \"96\", \"71\", \"97\", \"97\", \"70\", \"90\", \"95\", \"88\", \"98\", \"115\", \"53\", \"86\", \"81\", \"92\", \"79\", \"83\", \"140\", \"150\", \"120\", \"152\", \"100\", \"105\", \"81\", \"90\", \"52\", \"60\", \"70\", \"53\", \"100\", \"78\", \"110\", \"95\", \"71\", \"70\", \"75\", \"72\", \"102\", \"150\", \"88\", \"108\", \"120\", \"180\", \"145\", \"130\", \"150\", \"68\", \"80\", \"58\", \"96\", \"70\", \"145\", \"110\", \"145\", \"130\", \"110\", \"105\", \"100\", \"98\", \"180\", \"170\", \"190\", \"149\", \"78\", \"88\", \"75\", \"89\", \"63\", \"83\", \"67\", \"78\", \"97\", \"110\", \"110\", \"48\", \"66\", \"52\", \"70\", \"60\", \"110\", \"140\", \"139\", \"105\", \"95\", \"85\", \"88\", \"100\", \"90\", \"105\", \"85\", \"110\", \"120\", \"145\", \"165\", \"139\", \"140\", \"68\", \"95\", \"97\", \"75\", \"95\", \"105\", \"85\", \"97\", \"103\", \"125\", \"115\", \"133\", \"71\", \"68\", \"115\", \"85\", \"88\", \"90\", \"110\", \"130\", \"129\", \"138\", \"135\", \"155\", \"142\", \"125\", \"150\", \"71\", \"65\", \"80\", \"80\", \"77\", \"125\", \"71\", \"90\", \"70\", \"70\", \"65\", \"69\", \"90\", \"115\", \"115\", \"90\", \"76\", \"60\", \"70\", \"65\", \"90\", \"88\", \"90\", \"90\", \"78\", \"90\", \"75\", \"92\", \"75\", \"65\", \"105\", \"65\", \"48\", \"48\", \"67\", \"67\", \"67\", \"?\", \"67\", \"62\", \"132\", \"100\", \"88\", \"?\", \"72\", \"84\", \"84\", \"92\", \"110\", \"84\", \"58\", \"64\", \"60\", \"67\", \"65\", \"62\", \"68\", \"63\", \"65\", \"65\", \"74\", \"?\", \"75\", \"75\", \"100\", \"74\", \"80\", \"76\", \"116\", \"120\", \"110\", \"105\", \"88\", \"85\", \"88\", \"88\", \"88\", \"85\", \"84\", \"90\", \"92\", \"?\", \"74\", \"68\", \"68\", \"63\", \"70\", \"88\", \"75\", \"70\", \"67\", \"67\", \"67\", \"110\", \"85\", \"92\", \"112\", \"96\", \"84\", \"90\", \"86\", \"52\", \"84\", \"79\", \"82\"], \"y\": [18.0, 15.0, 18.0, 16.0, 17.0, 15.0, 14.0, 14.0, 14.0, 15.0, 15.0, 14.0, 15.0, 14.0, 24.0, 22.0, 18.0, 21.0, 27.0, 26.0, 25.0, 24.0, 25.0, 26.0, 21.0, 10.0, 10.0, 11.0, 9.0, 27.0, 28.0, 25.0, 25.0, 19.0, 16.0, 17.0, 19.0, 18.0, 14.0, 14.0, 14.0, 14.0, 12.0, 13.0, 13.0, 18.0, 22.0, 19.0, 18.0, 23.0, 28.0, 30.0, 30.0, 31.0, 35.0, 27.0, 26.0, 24.0, 25.0, 23.0, 20.0, 21.0, 13.0, 14.0, 15.0, 14.0, 17.0, 11.0, 13.0, 12.0, 13.0, 19.0, 15.0, 13.0, 13.0, 14.0, 18.0, 22.0, 21.0, 26.0, 22.0, 28.0, 23.0, 28.0, 27.0, 13.0, 14.0, 13.0, 14.0, 15.0, 12.0, 13.0, 13.0, 14.0, 13.0, 12.0, 13.0, 18.0, 16.0, 18.0, 18.0, 23.0, 26.0, 11.0, 12.0, 13.0, 12.0, 18.0, 20.0, 21.0, 22.0, 18.0, 19.0, 21.0, 26.0, 15.0, 16.0, 29.0, 24.0, 20.0, 19.0, 15.0, 24.0, 20.0, 11.0, 20.0, 21.0, 19.0, 15.0, 31.0, 26.0, 32.0, 25.0, 16.0, 16.0, 18.0, 16.0, 13.0, 14.0, 14.0, 14.0, 29.0, 26.0, 26.0, 31.0, 32.0, 28.0, 24.0, 26.0, 24.0, 26.0, 31.0, 19.0, 18.0, 15.0, 15.0, 16.0, 15.0, 16.0, 14.0, 17.0, 16.0, 15.0, 18.0, 21.0, 20.0, 13.0, 29.0, 23.0, 20.0, 23.0, 24.0, 25.0, 24.0, 18.0, 29.0, 19.0, 23.0, 23.0, 22.0, 25.0, 33.0, 28.0, 25.0, 25.0, 26.0, 27.0, 17.5, 16.0, 15.5, 14.5, 22.0, 22.0, 24.0, 22.5, 29.0, 24.5, 29.0, 33.0, 20.0, 18.0, 18.5, 17.5, 29.5, 32.0, 28.0, 26.5, 20.0, 13.0, 19.0, 19.0, 16.5, 16.5, 13.0, 13.0, 13.0, 31.5, 30.0, 36.0, 25.5, 33.5, 17.5, 17.0, 15.5, 15.0, 17.5, 20.5, 19.0, 18.5, 16.0, 15.5, 15.5, 16.0, 29.0, 24.5, 26.0, 25.5, 30.5, 33.5, 30.0, 30.5, 22.0, 21.5, 21.5, 43.1, 36.1, 32.8, 39.4, 36.1, 19.9, 19.4, 20.2, 19.2, 20.5, 20.2, 25.1, 20.5, 19.4, 20.6, 20.8, 18.6, 18.1, 19.2, 17.7, 18.1, 17.5, 30.0, 27.5, 27.2, 30.9, 21.1, 23.2, 23.8, 23.9, 20.3, 17.0, 21.6, 16.2, 31.5, 29.5, 21.5, 19.8, 22.3, 20.2, 20.6, 17.0, 17.6, 16.5, 18.2, 16.9, 15.5, 19.2, 18.5, 31.9, 34.1, 35.7, 27.4, 25.4, 23.0, 27.2, 23.9, 34.2, 34.5, 31.8, 37.3, 28.4, 28.8, 26.8, 33.5, 41.5, 38.1, 32.1, 37.2, 28.0, 26.4, 24.3, 19.1, 34.3, 29.8, 31.3, 37.0, 32.2, 46.6, 27.9, 40.8, 44.3, 43.4, 36.4, 30.0, 44.6, 40.9, 33.8, 29.8, 32.7, 23.7, 35.0, 23.6, 32.4, 27.2, 26.6, 25.8, 23.5, 30.0, 39.1, 39.0, 35.1, 32.3, 37.0, 37.7, 34.1, 34.7, 34.4, 29.9, 33.0, 34.5, 33.7, 32.4, 32.9, 31.6, 28.1, 30.7, 25.4, 24.2, 22.4, 26.6, 20.2, 17.6, 28.0, 27.0, 34.0, 31.0, 29.0, 27.0, 24.0, 23.0, 36.0, 37.0, 31.0, 38.0, 36.0, 36.0, 36.0, 34.0, 38.0, 32.0, 38.0, 25.0, 38.0, 26.0, 22.0, 32.0, 36.0, 27.0, 27.0, 44.0, 32.0, 28.0, 31.0]}],\n",
       "                        {\"template\": {\"data\": {\"bar\": [{\"error_x\": {\"color\": \"#2a3f5f\"}, \"error_y\": {\"color\": \"#2a3f5f\"}, \"marker\": {\"line\": {\"color\": \"#E5ECF6\", \"width\": 0.5}}, \"type\": \"bar\"}], \"barpolar\": [{\"marker\": {\"line\": {\"color\": \"#E5ECF6\", \"width\": 0.5}}, \"type\": \"barpolar\"}], \"carpet\": [{\"aaxis\": {\"endlinecolor\": \"#2a3f5f\", \"gridcolor\": \"white\", \"linecolor\": \"white\", \"minorgridcolor\": \"white\", \"startlinecolor\": \"#2a3f5f\"}, \"baxis\": {\"endlinecolor\": \"#2a3f5f\", \"gridcolor\": \"white\", \"linecolor\": \"white\", \"minorgridcolor\": \"white\", \"startlinecolor\": \"#2a3f5f\"}, \"type\": \"carpet\"}], \"choropleth\": [{\"colorbar\": {\"outlinewidth\": 0, \"ticks\": \"\"}, \"type\": \"choropleth\"}], \"contour\": [{\"colorbar\": {\"outlinewidth\": 0, \"ticks\": \"\"}, \"colorscale\": [[0.0, \"#0d0887\"], [0.1111111111111111, \"#46039f\"], [0.2222222222222222, \"#7201a8\"], [0.3333333333333333, \"#9c179e\"], [0.4444444444444444, \"#bd3786\"], [0.5555555555555556, \"#d8576b\"], [0.6666666666666666, \"#ed7953\"], [0.7777777777777778, \"#fb9f3a\"], [0.8888888888888888, \"#fdca26\"], [1.0, \"#f0f921\"]], \"type\": \"contour\"}], \"contourcarpet\": [{\"colorbar\": {\"outlinewidth\": 0, \"ticks\": \"\"}, \"type\": \"contourcarpet\"}], \"heatmap\": [{\"colorbar\": {\"outlinewidth\": 0, \"ticks\": \"\"}, \"colorscale\": [[0.0, \"#0d0887\"], [0.1111111111111111, \"#46039f\"], [0.2222222222222222, \"#7201a8\"], [0.3333333333333333, \"#9c179e\"], [0.4444444444444444, \"#bd3786\"], [0.5555555555555556, \"#d8576b\"], [0.6666666666666666, \"#ed7953\"], [0.7777777777777778, \"#fb9f3a\"], [0.8888888888888888, \"#fdca26\"], [1.0, \"#f0f921\"]], \"type\": \"heatmap\"}], \"heatmapgl\": [{\"colorbar\": {\"outlinewidth\": 0, \"ticks\": \"\"}, \"colorscale\": [[0.0, \"#0d0887\"], [0.1111111111111111, \"#46039f\"], [0.2222222222222222, \"#7201a8\"], [0.3333333333333333, \"#9c179e\"], [0.4444444444444444, \"#bd3786\"], [0.5555555555555556, \"#d8576b\"], [0.6666666666666666, \"#ed7953\"], [0.7777777777777778, \"#fb9f3a\"], [0.8888888888888888, \"#fdca26\"], [1.0, \"#f0f921\"]], \"type\": \"heatmapgl\"}], \"histogram\": [{\"marker\": {\"colorbar\": {\"outlinewidth\": 0, \"ticks\": \"\"}}, \"type\": \"histogram\"}], \"histogram2d\": [{\"colorbar\": {\"outlinewidth\": 0, \"ticks\": \"\"}, \"colorscale\": [[0.0, \"#0d0887\"], [0.1111111111111111, \"#46039f\"], [0.2222222222222222, \"#7201a8\"], [0.3333333333333333, \"#9c179e\"], [0.4444444444444444, \"#bd3786\"], [0.5555555555555556, \"#d8576b\"], [0.6666666666666666, \"#ed7953\"], [0.7777777777777778, \"#fb9f3a\"], [0.8888888888888888, \"#fdca26\"], [1.0, \"#f0f921\"]], \"type\": \"histogram2d\"}], \"histogram2dcontour\": [{\"colorbar\": {\"outlinewidth\": 0, \"ticks\": \"\"}, \"colorscale\": [[0.0, \"#0d0887\"], [0.1111111111111111, \"#46039f\"], [0.2222222222222222, \"#7201a8\"], [0.3333333333333333, \"#9c179e\"], [0.4444444444444444, \"#bd3786\"], [0.5555555555555556, \"#d8576b\"], [0.6666666666666666, \"#ed7953\"], [0.7777777777777778, \"#fb9f3a\"], [0.8888888888888888, \"#fdca26\"], [1.0, \"#f0f921\"]], \"type\": \"histogram2dcontour\"}], \"mesh3d\": [{\"colorbar\": {\"outlinewidth\": 0, \"ticks\": \"\"}, \"type\": \"mesh3d\"}], \"parcoords\": [{\"line\": {\"colorbar\": {\"outlinewidth\": 0, \"ticks\": \"\"}}, \"type\": \"parcoords\"}], \"pie\": [{\"automargin\": true, \"type\": \"pie\"}], \"scatter\": [{\"marker\": {\"colorbar\": {\"outlinewidth\": 0, \"ticks\": \"\"}}, \"type\": \"scatter\"}], \"scatter3d\": [{\"line\": {\"colorbar\": {\"outlinewidth\": 0, \"ticks\": \"\"}}, \"marker\": {\"colorbar\": {\"outlinewidth\": 0, \"ticks\": \"\"}}, \"type\": \"scatter3d\"}], \"scattercarpet\": [{\"marker\": {\"colorbar\": {\"outlinewidth\": 0, \"ticks\": \"\"}}, \"type\": \"scattercarpet\"}], \"scattergeo\": [{\"marker\": {\"colorbar\": {\"outlinewidth\": 0, \"ticks\": \"\"}}, \"type\": \"scattergeo\"}], \"scattergl\": [{\"marker\": {\"colorbar\": {\"outlinewidth\": 0, \"ticks\": \"\"}}, \"type\": \"scattergl\"}], \"scattermapbox\": [{\"marker\": {\"colorbar\": {\"outlinewidth\": 0, \"ticks\": \"\"}}, \"type\": \"scattermapbox\"}], \"scatterpolar\": [{\"marker\": {\"colorbar\": {\"outlinewidth\": 0, \"ticks\": \"\"}}, \"type\": \"scatterpolar\"}], \"scatterpolargl\": [{\"marker\": {\"colorbar\": {\"outlinewidth\": 0, \"ticks\": \"\"}}, \"type\": \"scatterpolargl\"}], \"scatterternary\": [{\"marker\": {\"colorbar\": {\"outlinewidth\": 0, \"ticks\": \"\"}}, \"type\": \"scatterternary\"}], \"surface\": [{\"colorbar\": {\"outlinewidth\": 0, \"ticks\": \"\"}, \"colorscale\": [[0.0, \"#0d0887\"], [0.1111111111111111, \"#46039f\"], [0.2222222222222222, \"#7201a8\"], [0.3333333333333333, \"#9c179e\"], [0.4444444444444444, \"#bd3786\"], [0.5555555555555556, \"#d8576b\"], [0.6666666666666666, \"#ed7953\"], [0.7777777777777778, \"#fb9f3a\"], [0.8888888888888888, \"#fdca26\"], [1.0, \"#f0f921\"]], \"type\": \"surface\"}], \"table\": [{\"cells\": {\"fill\": {\"color\": \"#EBF0F8\"}, \"line\": {\"color\": \"white\"}}, \"header\": {\"fill\": {\"color\": \"#C8D4E3\"}, \"line\": {\"color\": \"white\"}}, \"type\": \"table\"}]}, \"layout\": {\"annotationdefaults\": {\"arrowcolor\": \"#2a3f5f\", \"arrowhead\": 0, \"arrowwidth\": 1}, \"coloraxis\": {\"colorbar\": {\"outlinewidth\": 0, \"ticks\": \"\"}}, \"colorscale\": {\"diverging\": [[0, \"#8e0152\"], [0.1, \"#c51b7d\"], [0.2, \"#de77ae\"], [0.3, \"#f1b6da\"], [0.4, \"#fde0ef\"], [0.5, \"#f7f7f7\"], [0.6, \"#e6f5d0\"], [0.7, \"#b8e186\"], [0.8, \"#7fbc41\"], [0.9, \"#4d9221\"], [1, \"#276419\"]], \"sequential\": [[0.0, \"#0d0887\"], [0.1111111111111111, \"#46039f\"], [0.2222222222222222, \"#7201a8\"], [0.3333333333333333, \"#9c179e\"], [0.4444444444444444, \"#bd3786\"], [0.5555555555555556, \"#d8576b\"], [0.6666666666666666, \"#ed7953\"], [0.7777777777777778, \"#fb9f3a\"], [0.8888888888888888, \"#fdca26\"], [1.0, \"#f0f921\"]], \"sequentialminus\": [[0.0, \"#0d0887\"], [0.1111111111111111, \"#46039f\"], [0.2222222222222222, \"#7201a8\"], [0.3333333333333333, \"#9c179e\"], [0.4444444444444444, \"#bd3786\"], [0.5555555555555556, \"#d8576b\"], [0.6666666666666666, \"#ed7953\"], [0.7777777777777778, \"#fb9f3a\"], [0.8888888888888888, \"#fdca26\"], [1.0, \"#f0f921\"]]}, \"colorway\": [\"#636efa\", \"#EF553B\", \"#00cc96\", \"#ab63fa\", \"#FFA15A\", \"#19d3f3\", \"#FF6692\", \"#B6E880\", \"#FF97FF\", \"#FECB52\"], \"font\": {\"color\": \"#2a3f5f\"}, \"geo\": {\"bgcolor\": \"white\", \"lakecolor\": \"white\", \"landcolor\": \"#E5ECF6\", \"showlakes\": true, \"showland\": true, \"subunitcolor\": \"white\"}, \"hoverlabel\": {\"align\": \"left\"}, \"hovermode\": \"closest\", \"mapbox\": {\"style\": \"light\"}, \"paper_bgcolor\": \"white\", \"plot_bgcolor\": \"#E5ECF6\", \"polar\": {\"angularaxis\": {\"gridcolor\": \"white\", \"linecolor\": \"white\", \"ticks\": \"\"}, \"bgcolor\": \"#E5ECF6\", \"radialaxis\": {\"gridcolor\": \"white\", \"linecolor\": \"white\", \"ticks\": \"\"}}, \"scene\": {\"xaxis\": {\"backgroundcolor\": \"#E5ECF6\", \"gridcolor\": \"white\", \"gridwidth\": 2, \"linecolor\": \"white\", \"showbackground\": true, \"ticks\": \"\", \"zerolinecolor\": \"white\"}, \"yaxis\": {\"backgroundcolor\": \"#E5ECF6\", \"gridcolor\": \"white\", \"gridwidth\": 2, \"linecolor\": \"white\", \"showbackground\": true, \"ticks\": \"\", \"zerolinecolor\": \"white\"}, \"zaxis\": {\"backgroundcolor\": \"#E5ECF6\", \"gridcolor\": \"white\", \"gridwidth\": 2, \"linecolor\": \"white\", \"showbackground\": true, \"ticks\": \"\", \"zerolinecolor\": \"white\"}}, \"shapedefaults\": {\"line\": {\"color\": \"#2a3f5f\"}}, \"ternary\": {\"aaxis\": {\"gridcolor\": \"white\", \"linecolor\": \"white\", \"ticks\": \"\"}, \"baxis\": {\"gridcolor\": \"white\", \"linecolor\": \"white\", \"ticks\": \"\"}, \"bgcolor\": \"#E5ECF6\", \"caxis\": {\"gridcolor\": \"white\", \"linecolor\": \"white\", \"ticks\": \"\"}}, \"title\": {\"x\": 0.05}, \"xaxis\": {\"automargin\": true, \"gridcolor\": \"white\", \"linecolor\": \"white\", \"ticks\": \"\", \"title\": {\"standoff\": 15}, \"zerolinecolor\": \"white\", \"zerolinewidth\": 2}, \"yaxis\": {\"automargin\": true, \"gridcolor\": \"white\", \"linecolor\": \"white\", \"ticks\": \"\", \"title\": {\"standoff\": 15}, \"zerolinecolor\": \"white\", \"zerolinewidth\": 2}}}, \"title\": {\"text\": \"Coches\"}, \"xaxis\": {\"title\": {\"text\": \"Horsepower\"}}, \"yaxis\": {\"title\": {\"text\": \"consumo (mpg)\"}}},\n",
       "                        {\"responsive\": true}\n",
       "                    ).then(function(){\n",
       "                            \n",
       "var gd = document.getElementById('ccfe5344-8e8d-42ef-b62b-d7c351e520d7');\n",
       "var x = new MutationObserver(function (mutations, observer) {{\n",
       "        var display = window.getComputedStyle(gd).display;\n",
       "        if (!display || display === 'none') {{\n",
       "            console.log([gd, 'removed!']);\n",
       "            Plotly.purge(gd);\n",
       "            observer.disconnect();\n",
       "        }}\n",
       "}});\n",
       "\n",
       "// Listen for the removal of the full notebook cells\n",
       "var notebookContainer = gd.closest('#notebook-container');\n",
       "if (notebookContainer) {{\n",
       "    x.observe(notebookContainer, {childList: true});\n",
       "}}\n",
       "\n",
       "// Listen for the clearing of the current output cell\n",
       "var outputEl = gd.closest('.output');\n",
       "if (outputEl) {{\n",
       "    x.observe(outputEl, {childList: true});\n",
       "}}\n",
       "\n",
       "                        })\n",
       "                };\n",
       "                });\n",
       "            </script>\n",
       "        </div>"
      ]
     },
     "metadata": {},
     "output_type": "display_data"
    }
   ],
   "source": [
    "datos = go.Scatter(x=valores['horsepower'], y=valores['mpg'], text=valores['name'], mode='markers')\n",
    "capa = go.Layout(title='Coches', xaxis=dict(title='Horsepower'), yaxis=dict(title='consumo (mpg)'))\n",
    "figure = go.Figure(data=datos, layout=capa)\n",
    "pyo.iplot(figure)"
   ]
  },
  {
   "cell_type": "code",
   "execution_count": 50,
   "metadata": {},
   "outputs": [
    {
     "data": {
      "application/vnd.plotly.v1+json": {
       "config": {
        "linkText": "Export to plot.ly",
        "plotlyServerURL": "https://plot.ly",
        "showLink": false
       },
       "data": [
        {
         "marker": {
          "size": [
           8,
           8,
           8,
           8,
           8,
           8,
           8,
           8,
           8,
           8,
           8,
           8,
           8,
           8,
           4,
           6,
           6,
           6,
           4,
           4,
           4,
           4,
           4,
           4,
           6,
           8,
           8,
           8,
           8,
           4,
           4,
           4,
           4,
           6,
           6,
           6,
           6,
           6,
           8,
           8,
           8,
           8,
           8,
           8,
           8,
           6,
           4,
           6,
           6,
           4,
           4,
           4,
           4,
           4,
           4,
           4,
           4,
           4,
           4,
           4,
           4,
           4,
           8,
           8,
           8,
           8,
           8,
           8,
           8,
           8,
           8,
           3,
           8,
           8,
           8,
           8,
           4,
           4,
           4,
           4,
           4,
           4,
           4,
           4,
           4,
           8,
           8,
           8,
           8,
           8,
           8,
           8,
           8,
           8,
           8,
           8,
           8,
           6,
           6,
           6,
           6,
           6,
           4,
           8,
           8,
           8,
           8,
           6,
           4,
           4,
           4,
           3,
           4,
           6,
           4,
           8,
           8,
           4,
           4,
           4,
           4,
           8,
           4,
           6,
           8,
           6,
           6,
           6,
           6,
           4,
           4,
           4,
           4,
           6,
           6,
           6,
           8,
           8,
           8,
           8,
           8,
           4,
           4,
           4,
           4,
           4,
           4,
           4,
           4,
           4,
           4,
           4,
           6,
           6,
           6,
           6,
           8,
           8,
           8,
           8,
           6,
           6,
           6,
           6,
           6,
           8,
           8,
           4,
           4,
           6,
           4,
           4,
           4,
           4,
           6,
           4,
           6,
           4,
           4,
           4,
           4,
           4,
           4,
           4,
           4,
           4,
           4,
           8,
           8,
           8,
           8,
           6,
           6,
           6,
           6,
           4,
           4,
           4,
           4,
           6,
           6,
           6,
           6,
           4,
           4,
           4,
           4,
           4,
           8,
           4,
           6,
           6,
           8,
           8,
           8,
           8,
           4,
           4,
           4,
           4,
           4,
           8,
           8,
           8,
           8,
           6,
           6,
           6,
           6,
           8,
           8,
           8,
           8,
           4,
           4,
           4,
           4,
           4,
           4,
           4,
           4,
           6,
           4,
           3,
           4,
           4,
           4,
           4,
           4,
           8,
           8,
           8,
           6,
           6,
           6,
           4,
           6,
           6,
           6,
           6,
           6,
           6,
           8,
           6,
           8,
           8,
           4,
           4,
           4,
           4,
           4,
           4,
           4,
           4,
           5,
           6,
           4,
           6,
           4,
           4,
           6,
           6,
           4,
           6,
           6,
           8,
           8,
           8,
           8,
           8,
           8,
           8,
           8,
           4,
           4,
           4,
           4,
           5,
           8,
           4,
           8,
           4,
           4,
           4,
           4,
           4,
           6,
           6,
           4,
           4,
           4,
           4,
           4,
           4,
           4,
           4,
           6,
           4,
           4,
           4,
           4,
           4,
           4,
           4,
           4,
           4,
           4,
           5,
           4,
           4,
           4,
           4,
           4,
           6,
           3,
           4,
           4,
           4,
           4,
           4,
           4,
           6,
           4,
           4,
           4,
           4,
           4,
           4,
           4,
           4,
           4,
           4,
           4,
           4,
           4,
           4,
           4,
           4,
           4,
           4,
           6,
           6,
           6,
           6,
           8,
           6,
           6,
           4,
           4,
           4,
           4,
           4,
           4,
           4,
           4,
           4,
           4,
           4,
           4,
           4,
           4,
           4,
           4,
           4,
           4,
           4,
           6,
           6,
           4,
           6,
           4,
           4,
           4,
           4,
           4,
           4,
           4,
           4
          ]
         },
         "mode": "markers",
         "text": [
          "chevrolet chevelle malibu",
          "buick skylark 320",
          "plymouth satellite",
          "amc rebel sst",
          "ford torino",
          "ford galaxie 500",
          "chevrolet impala",
          "plymouth fury iii",
          "pontiac catalina",
          "amc ambassador dpl",
          "dodge challenger se",
          "plymouth 'cuda 340",
          "chevrolet monte carlo",
          "buick estate wagon (sw)",
          "toyota corona mark ii",
          "plymouth duster",
          "amc hornet",
          "ford maverick",
          "datsun pl510",
          "volkswagen 1131 deluxe sedan",
          "peugeot 504",
          "audi 100 ls",
          "saab 99e",
          "bmw 2002",
          "amc gremlin",
          "ford f250",
          "chevy c20",
          "dodge d200",
          "hi 1200d",
          "datsun pl510",
          "chevrolet vega 2300",
          "toyota corona",
          "ford pinto",
          "amc gremlin",
          "plymouth satellite custom",
          "chevrolet chevelle malibu",
          "ford torino 500",
          "amc matador",
          "chevrolet impala",
          "pontiac catalina brougham",
          "ford galaxie 500",
          "plymouth fury iii",
          "dodge monaco (sw)",
          "ford country squire (sw)",
          "pontiac safari (sw)",
          "amc hornet sportabout (sw)",
          "chevrolet vega (sw)",
          "pontiac firebird",
          "ford mustang",
          "mercury capri 2000",
          "opel 1900",
          "peugeot 304",
          "fiat 124b",
          "toyota corolla 1200",
          "datsun 1200",
          "volkswagen model 111",
          "plymouth cricket",
          "toyota corona hardtop",
          "dodge colt hardtop",
          "volkswagen type 3",
          "chevrolet vega",
          "ford pinto runabout",
          "chevrolet impala",
          "pontiac catalina",
          "plymouth fury iii",
          "ford galaxie 500",
          "amc ambassador sst",
          "mercury marquis",
          "buick lesabre custom",
          "oldsmobile delta 88 royale",
          "chrysler newport royal",
          "mazda rx2 coupe",
          "amc matador (sw)",
          "chevrolet chevelle concours (sw)",
          "ford gran torino (sw)",
          "plymouth satellite custom (sw)",
          "volvo 145e (sw)",
          "volkswagen 411 (sw)",
          "peugeot 504 (sw)",
          "renault 12 (sw)",
          "ford pinto (sw)",
          "datsun 510 (sw)",
          "toyouta corona mark ii (sw)",
          "dodge colt (sw)",
          "toyota corolla 1600 (sw)",
          "buick century 350",
          "amc matador",
          "chevrolet malibu",
          "ford gran torino",
          "dodge coronet custom",
          "mercury marquis brougham",
          "chevrolet caprice classic",
          "ford ltd",
          "plymouth fury gran sedan",
          "chrysler new yorker brougham",
          "buick electra 225 custom",
          "amc ambassador brougham",
          "plymouth valiant",
          "chevrolet nova custom",
          "amc hornet",
          "ford maverick",
          "plymouth duster",
          "volkswagen super beetle",
          "chevrolet impala",
          "ford country",
          "plymouth custom suburb",
          "oldsmobile vista cruiser",
          "amc gremlin",
          "toyota carina",
          "chevrolet vega",
          "datsun 610",
          "maxda rx3",
          "ford pinto",
          "mercury capri v6",
          "fiat 124 sport coupe",
          "chevrolet monte carlo s",
          "pontiac grand prix",
          "fiat 128",
          "opel manta",
          "audi 100ls",
          "volvo 144ea",
          "dodge dart custom",
          "saab 99le",
          "toyota mark ii",
          "oldsmobile omega",
          "plymouth duster",
          "ford maverick",
          "amc hornet",
          "chevrolet nova",
          "datsun b210",
          "ford pinto",
          "toyota corolla 1200",
          "chevrolet vega",
          "chevrolet chevelle malibu classic",
          "amc matador",
          "plymouth satellite sebring",
          "ford gran torino",
          "buick century luxus (sw)",
          "dodge coronet custom (sw)",
          "ford gran torino (sw)",
          "amc matador (sw)",
          "audi fox",
          "volkswagen dasher",
          "opel manta",
          "toyota corona",
          "datsun 710",
          "dodge colt",
          "fiat 128",
          "fiat 124 tc",
          "honda civic",
          "subaru",
          "fiat x1.9",
          "plymouth valiant custom",
          "chevrolet nova",
          "mercury monarch",
          "ford maverick",
          "pontiac catalina",
          "chevrolet bel air",
          "plymouth grand fury",
          "ford ltd",
          "buick century",
          "chevroelt chevelle malibu",
          "amc matador",
          "plymouth fury",
          "buick skyhawk",
          "chevrolet monza 2+2",
          "ford mustang ii",
          "toyota corolla",
          "ford pinto",
          "amc gremlin",
          "pontiac astro",
          "toyota corona",
          "volkswagen dasher",
          "datsun 710",
          "ford pinto",
          "volkswagen rabbit",
          "amc pacer",
          "audi 100ls",
          "peugeot 504",
          "volvo 244dl",
          "saab 99le",
          "honda civic cvcc",
          "fiat 131",
          "opel 1900",
          "capri ii",
          "dodge colt",
          "renault 12tl",
          "chevrolet chevelle malibu classic",
          "dodge coronet brougham",
          "amc matador",
          "ford gran torino",
          "plymouth valiant",
          "chevrolet nova",
          "ford maverick",
          "amc hornet",
          "chevrolet chevette",
          "chevrolet woody",
          "vw rabbit",
          "honda civic",
          "dodge aspen se",
          "ford granada ghia",
          "pontiac ventura sj",
          "amc pacer d/l",
          "volkswagen rabbit",
          "datsun b-210",
          "toyota corolla",
          "ford pinto",
          "volvo 245",
          "plymouth volare premier v8",
          "peugeot 504",
          "toyota mark ii",
          "mercedes-benz 280s",
          "cadillac seville",
          "chevy c10",
          "ford f108",
          "dodge d100",
          "honda accord cvcc",
          "buick opel isuzu deluxe",
          "renault 5 gtl",
          "plymouth arrow gs",
          "datsun f-10 hatchback",
          "chevrolet caprice classic",
          "oldsmobile cutlass supreme",
          "dodge monaco brougham",
          "mercury cougar brougham",
          "chevrolet concours",
          "buick skylark",
          "plymouth volare custom",
          "ford granada",
          "pontiac grand prix lj",
          "chevrolet monte carlo landau",
          "chrysler cordoba",
          "ford thunderbird",
          "volkswagen rabbit custom",
          "pontiac sunbird coupe",
          "toyota corolla liftback",
          "ford mustang ii 2+2",
          "chevrolet chevette",
          "dodge colt m/m",
          "subaru dl",
          "volkswagen dasher",
          "datsun 810",
          "bmw 320i",
          "mazda rx-4",
          "volkswagen rabbit custom diesel",
          "ford fiesta",
          "mazda glc deluxe",
          "datsun b210 gx",
          "honda civic cvcc",
          "oldsmobile cutlass salon brougham",
          "dodge diplomat",
          "mercury monarch ghia",
          "pontiac phoenix lj",
          "chevrolet malibu",
          "ford fairmont (auto)",
          "ford fairmont (man)",
          "plymouth volare",
          "amc concord",
          "buick century special",
          "mercury zephyr",
          "dodge aspen",
          "amc concord d/l",
          "chevrolet monte carlo landau",
          "buick regal sport coupe (turbo)",
          "ford futura",
          "dodge magnum xe",
          "chevrolet chevette",
          "toyota corona",
          "datsun 510",
          "dodge omni",
          "toyota celica gt liftback",
          "plymouth sapporo",
          "oldsmobile starfire sx",
          "datsun 200-sx",
          "audi 5000",
          "volvo 264gl",
          "saab 99gle",
          "peugeot 604sl",
          "volkswagen scirocco",
          "honda accord lx",
          "pontiac lemans v6",
          "mercury zephyr 6",
          "ford fairmont 4",
          "amc concord dl 6",
          "dodge aspen 6",
          "chevrolet caprice classic",
          "ford ltd landau",
          "mercury grand marquis",
          "dodge st. regis",
          "buick estate wagon (sw)",
          "ford country squire (sw)",
          "chevrolet malibu classic (sw)",
          "chrysler lebaron town @ country (sw)",
          "vw rabbit custom",
          "maxda glc deluxe",
          "dodge colt hatchback custom",
          "amc spirit dl",
          "mercedes benz 300d",
          "cadillac eldorado",
          "peugeot 504",
          "oldsmobile cutlass salon brougham",
          "plymouth horizon",
          "plymouth horizon tc3",
          "datsun 210",
          "fiat strada custom",
          "buick skylark limited",
          "chevrolet citation",
          "oldsmobile omega brougham",
          "pontiac phoenix",
          "vw rabbit",
          "toyota corolla tercel",
          "chevrolet chevette",
          "datsun 310",
          "chevrolet citation",
          "ford fairmont",
          "amc concord",
          "dodge aspen",
          "audi 4000",
          "toyota corona liftback",
          "mazda 626",
          "datsun 510 hatchback",
          "toyota corolla",
          "mazda glc",
          "dodge colt",
          "datsun 210",
          "vw rabbit c (diesel)",
          "vw dasher (diesel)",
          "audi 5000s (diesel)",
          "mercedes-benz 240d",
          "honda civic 1500 gl",
          "renault lecar deluxe",
          "subaru dl",
          "vokswagen rabbit",
          "datsun 280-zx",
          "mazda rx-7 gs",
          "triumph tr7 coupe",
          "ford mustang cobra",
          "honda accord",
          "plymouth reliant",
          "buick skylark",
          "dodge aries wagon (sw)",
          "chevrolet citation",
          "plymouth reliant",
          "toyota starlet",
          "plymouth champ",
          "honda civic 1300",
          "subaru",
          "datsun 210 mpg",
          "toyota tercel",
          "mazda glc 4",
          "plymouth horizon 4",
          "ford escort 4w",
          "ford escort 2h",
          "volkswagen jetta",
          "renault 18i",
          "honda prelude",
          "toyota corolla",
          "datsun 200sx",
          "mazda 626",
          "peugeot 505s turbo diesel",
          "volvo diesel",
          "toyota cressida",
          "datsun 810 maxima",
          "buick century",
          "oldsmobile cutlass ls",
          "ford granada gl",
          "chrysler lebaron salon",
          "chevrolet cavalier",
          "chevrolet cavalier wagon",
          "chevrolet cavalier 2-door",
          "pontiac j2000 se hatchback",
          "dodge aries se",
          "pontiac phoenix",
          "ford fairmont futura",
          "amc concord dl",
          "volkswagen rabbit l",
          "mazda glc custom l",
          "mazda glc custom",
          "plymouth horizon miser",
          "mercury lynx l",
          "nissan stanza xe",
          "honda accord",
          "toyota corolla",
          "honda civic",
          "honda civic (auto)",
          "datsun 310 gx",
          "buick century limited",
          "oldsmobile cutlass ciera (diesel)",
          "chrysler lebaron medallion",
          "ford granada l",
          "toyota celica gt",
          "dodge charger 2.2",
          "chevrolet camaro",
          "ford mustang gl",
          "vw pickup",
          "dodge rampage",
          "ford ranger",
          "chevy s-10"
         ],
         "type": "scatter",
         "x": [
          "130",
          "165",
          "150",
          "150",
          "140",
          "198",
          "220",
          "215",
          "225",
          "190",
          "170",
          "160",
          "150",
          "225",
          "95",
          "95",
          "97",
          "85",
          "88",
          "46",
          "87",
          "90",
          "95",
          "113",
          "90",
          "215",
          "200",
          "210",
          "193",
          "88",
          "90",
          "95",
          "?",
          "100",
          "105",
          "100",
          "88",
          "100",
          "165",
          "175",
          "153",
          "150",
          "180",
          "170",
          "175",
          "110",
          "72",
          "100",
          "88",
          "86",
          "90",
          "70",
          "76",
          "65",
          "69",
          "60",
          "70",
          "95",
          "80",
          "54",
          "90",
          "86",
          "165",
          "175",
          "150",
          "153",
          "150",
          "208",
          "155",
          "160",
          "190",
          "97",
          "150",
          "130",
          "140",
          "150",
          "112",
          "76",
          "87",
          "69",
          "86",
          "92",
          "97",
          "80",
          "88",
          "175",
          "150",
          "145",
          "137",
          "150",
          "198",
          "150",
          "158",
          "150",
          "215",
          "225",
          "175",
          "105",
          "100",
          "100",
          "88",
          "95",
          "46",
          "150",
          "167",
          "170",
          "180",
          "100",
          "88",
          "72",
          "94",
          "90",
          "85",
          "107",
          "90",
          "145",
          "230",
          "49",
          "75",
          "91",
          "112",
          "150",
          "110",
          "122",
          "180",
          "95",
          "?",
          "100",
          "100",
          "67",
          "80",
          "65",
          "75",
          "100",
          "110",
          "105",
          "140",
          "150",
          "150",
          "140",
          "150",
          "83",
          "67",
          "78",
          "52",
          "61",
          "75",
          "75",
          "75",
          "97",
          "93",
          "67",
          "95",
          "105",
          "72",
          "72",
          "170",
          "145",
          "150",
          "148",
          "110",
          "105",
          "110",
          "95",
          "110",
          "110",
          "129",
          "75",
          "83",
          "100",
          "78",
          "96",
          "71",
          "97",
          "97",
          "70",
          "90",
          "95",
          "88",
          "98",
          "115",
          "53",
          "86",
          "81",
          "92",
          "79",
          "83",
          "140",
          "150",
          "120",
          "152",
          "100",
          "105",
          "81",
          "90",
          "52",
          "60",
          "70",
          "53",
          "100",
          "78",
          "110",
          "95",
          "71",
          "70",
          "75",
          "72",
          "102",
          "150",
          "88",
          "108",
          "120",
          "180",
          "145",
          "130",
          "150",
          "68",
          "80",
          "58",
          "96",
          "70",
          "145",
          "110",
          "145",
          "130",
          "110",
          "105",
          "100",
          "98",
          "180",
          "170",
          "190",
          "149",
          "78",
          "88",
          "75",
          "89",
          "63",
          "83",
          "67",
          "78",
          "97",
          "110",
          "110",
          "48",
          "66",
          "52",
          "70",
          "60",
          "110",
          "140",
          "139",
          "105",
          "95",
          "85",
          "88",
          "100",
          "90",
          "105",
          "85",
          "110",
          "120",
          "145",
          "165",
          "139",
          "140",
          "68",
          "95",
          "97",
          "75",
          "95",
          "105",
          "85",
          "97",
          "103",
          "125",
          "115",
          "133",
          "71",
          "68",
          "115",
          "85",
          "88",
          "90",
          "110",
          "130",
          "129",
          "138",
          "135",
          "155",
          "142",
          "125",
          "150",
          "71",
          "65",
          "80",
          "80",
          "77",
          "125",
          "71",
          "90",
          "70",
          "70",
          "65",
          "69",
          "90",
          "115",
          "115",
          "90",
          "76",
          "60",
          "70",
          "65",
          "90",
          "88",
          "90",
          "90",
          "78",
          "90",
          "75",
          "92",
          "75",
          "65",
          "105",
          "65",
          "48",
          "48",
          "67",
          "67",
          "67",
          "?",
          "67",
          "62",
          "132",
          "100",
          "88",
          "?",
          "72",
          "84",
          "84",
          "92",
          "110",
          "84",
          "58",
          "64",
          "60",
          "67",
          "65",
          "62",
          "68",
          "63",
          "65",
          "65",
          "74",
          "?",
          "75",
          "75",
          "100",
          "74",
          "80",
          "76",
          "116",
          "120",
          "110",
          "105",
          "88",
          "85",
          "88",
          "88",
          "88",
          "85",
          "84",
          "90",
          "92",
          "?",
          "74",
          "68",
          "68",
          "63",
          "70",
          "88",
          "75",
          "70",
          "67",
          "67",
          "67",
          "110",
          "85",
          "92",
          "112",
          "96",
          "84",
          "90",
          "86",
          "52",
          "84",
          "79",
          "82"
         ],
         "y": [
          18,
          15,
          18,
          16,
          17,
          15,
          14,
          14,
          14,
          15,
          15,
          14,
          15,
          14,
          24,
          22,
          18,
          21,
          27,
          26,
          25,
          24,
          25,
          26,
          21,
          10,
          10,
          11,
          9,
          27,
          28,
          25,
          25,
          19,
          16,
          17,
          19,
          18,
          14,
          14,
          14,
          14,
          12,
          13,
          13,
          18,
          22,
          19,
          18,
          23,
          28,
          30,
          30,
          31,
          35,
          27,
          26,
          24,
          25,
          23,
          20,
          21,
          13,
          14,
          15,
          14,
          17,
          11,
          13,
          12,
          13,
          19,
          15,
          13,
          13,
          14,
          18,
          22,
          21,
          26,
          22,
          28,
          23,
          28,
          27,
          13,
          14,
          13,
          14,
          15,
          12,
          13,
          13,
          14,
          13,
          12,
          13,
          18,
          16,
          18,
          18,
          23,
          26,
          11,
          12,
          13,
          12,
          18,
          20,
          21,
          22,
          18,
          19,
          21,
          26,
          15,
          16,
          29,
          24,
          20,
          19,
          15,
          24,
          20,
          11,
          20,
          21,
          19,
          15,
          31,
          26,
          32,
          25,
          16,
          16,
          18,
          16,
          13,
          14,
          14,
          14,
          29,
          26,
          26,
          31,
          32,
          28,
          24,
          26,
          24,
          26,
          31,
          19,
          18,
          15,
          15,
          16,
          15,
          16,
          14,
          17,
          16,
          15,
          18,
          21,
          20,
          13,
          29,
          23,
          20,
          23,
          24,
          25,
          24,
          18,
          29,
          19,
          23,
          23,
          22,
          25,
          33,
          28,
          25,
          25,
          26,
          27,
          17.5,
          16,
          15.5,
          14.5,
          22,
          22,
          24,
          22.5,
          29,
          24.5,
          29,
          33,
          20,
          18,
          18.5,
          17.5,
          29.5,
          32,
          28,
          26.5,
          20,
          13,
          19,
          19,
          16.5,
          16.5,
          13,
          13,
          13,
          31.5,
          30,
          36,
          25.5,
          33.5,
          17.5,
          17,
          15.5,
          15,
          17.5,
          20.5,
          19,
          18.5,
          16,
          15.5,
          15.5,
          16,
          29,
          24.5,
          26,
          25.5,
          30.5,
          33.5,
          30,
          30.5,
          22,
          21.5,
          21.5,
          43.1,
          36.1,
          32.8,
          39.4,
          36.1,
          19.9,
          19.4,
          20.2,
          19.2,
          20.5,
          20.2,
          25.1,
          20.5,
          19.4,
          20.6,
          20.8,
          18.6,
          18.1,
          19.2,
          17.7,
          18.1,
          17.5,
          30,
          27.5,
          27.2,
          30.9,
          21.1,
          23.2,
          23.8,
          23.9,
          20.3,
          17,
          21.6,
          16.2,
          31.5,
          29.5,
          21.5,
          19.8,
          22.3,
          20.2,
          20.6,
          17,
          17.6,
          16.5,
          18.2,
          16.9,
          15.5,
          19.2,
          18.5,
          31.9,
          34.1,
          35.7,
          27.4,
          25.4,
          23,
          27.2,
          23.9,
          34.2,
          34.5,
          31.8,
          37.3,
          28.4,
          28.8,
          26.8,
          33.5,
          41.5,
          38.1,
          32.1,
          37.2,
          28,
          26.4,
          24.3,
          19.1,
          34.3,
          29.8,
          31.3,
          37,
          32.2,
          46.6,
          27.9,
          40.8,
          44.3,
          43.4,
          36.4,
          30,
          44.6,
          40.9,
          33.8,
          29.8,
          32.7,
          23.7,
          35,
          23.6,
          32.4,
          27.2,
          26.6,
          25.8,
          23.5,
          30,
          39.1,
          39,
          35.1,
          32.3,
          37,
          37.7,
          34.1,
          34.7,
          34.4,
          29.9,
          33,
          34.5,
          33.7,
          32.4,
          32.9,
          31.6,
          28.1,
          30.7,
          25.4,
          24.2,
          22.4,
          26.6,
          20.2,
          17.6,
          28,
          27,
          34,
          31,
          29,
          27,
          24,
          23,
          36,
          37,
          31,
          38,
          36,
          36,
          36,
          34,
          38,
          32,
          38,
          25,
          38,
          26,
          22,
          32,
          36,
          27,
          27,
          44,
          32,
          28,
          31
         ]
        }
       ],
       "layout": {
        "template": {
         "data": {
          "bar": [
           {
            "error_x": {
             "color": "#2a3f5f"
            },
            "error_y": {
             "color": "#2a3f5f"
            },
            "marker": {
             "line": {
              "color": "#E5ECF6",
              "width": 0.5
             }
            },
            "type": "bar"
           }
          ],
          "barpolar": [
           {
            "marker": {
             "line": {
              "color": "#E5ECF6",
              "width": 0.5
             }
            },
            "type": "barpolar"
           }
          ],
          "carpet": [
           {
            "aaxis": {
             "endlinecolor": "#2a3f5f",
             "gridcolor": "white",
             "linecolor": "white",
             "minorgridcolor": "white",
             "startlinecolor": "#2a3f5f"
            },
            "baxis": {
             "endlinecolor": "#2a3f5f",
             "gridcolor": "white",
             "linecolor": "white",
             "minorgridcolor": "white",
             "startlinecolor": "#2a3f5f"
            },
            "type": "carpet"
           }
          ],
          "choropleth": [
           {
            "colorbar": {
             "outlinewidth": 0,
             "ticks": ""
            },
            "type": "choropleth"
           }
          ],
          "contour": [
           {
            "colorbar": {
             "outlinewidth": 0,
             "ticks": ""
            },
            "colorscale": [
             [
              0,
              "#0d0887"
             ],
             [
              0.1111111111111111,
              "#46039f"
             ],
             [
              0.2222222222222222,
              "#7201a8"
             ],
             [
              0.3333333333333333,
              "#9c179e"
             ],
             [
              0.4444444444444444,
              "#bd3786"
             ],
             [
              0.5555555555555556,
              "#d8576b"
             ],
             [
              0.6666666666666666,
              "#ed7953"
             ],
             [
              0.7777777777777778,
              "#fb9f3a"
             ],
             [
              0.8888888888888888,
              "#fdca26"
             ],
             [
              1,
              "#f0f921"
             ]
            ],
            "type": "contour"
           }
          ],
          "contourcarpet": [
           {
            "colorbar": {
             "outlinewidth": 0,
             "ticks": ""
            },
            "type": "contourcarpet"
           }
          ],
          "heatmap": [
           {
            "colorbar": {
             "outlinewidth": 0,
             "ticks": ""
            },
            "colorscale": [
             [
              0,
              "#0d0887"
             ],
             [
              0.1111111111111111,
              "#46039f"
             ],
             [
              0.2222222222222222,
              "#7201a8"
             ],
             [
              0.3333333333333333,
              "#9c179e"
             ],
             [
              0.4444444444444444,
              "#bd3786"
             ],
             [
              0.5555555555555556,
              "#d8576b"
             ],
             [
              0.6666666666666666,
              "#ed7953"
             ],
             [
              0.7777777777777778,
              "#fb9f3a"
             ],
             [
              0.8888888888888888,
              "#fdca26"
             ],
             [
              1,
              "#f0f921"
             ]
            ],
            "type": "heatmap"
           }
          ],
          "heatmapgl": [
           {
            "colorbar": {
             "outlinewidth": 0,
             "ticks": ""
            },
            "colorscale": [
             [
              0,
              "#0d0887"
             ],
             [
              0.1111111111111111,
              "#46039f"
             ],
             [
              0.2222222222222222,
              "#7201a8"
             ],
             [
              0.3333333333333333,
              "#9c179e"
             ],
             [
              0.4444444444444444,
              "#bd3786"
             ],
             [
              0.5555555555555556,
              "#d8576b"
             ],
             [
              0.6666666666666666,
              "#ed7953"
             ],
             [
              0.7777777777777778,
              "#fb9f3a"
             ],
             [
              0.8888888888888888,
              "#fdca26"
             ],
             [
              1,
              "#f0f921"
             ]
            ],
            "type": "heatmapgl"
           }
          ],
          "histogram": [
           {
            "marker": {
             "colorbar": {
              "outlinewidth": 0,
              "ticks": ""
             }
            },
            "type": "histogram"
           }
          ],
          "histogram2d": [
           {
            "colorbar": {
             "outlinewidth": 0,
             "ticks": ""
            },
            "colorscale": [
             [
              0,
              "#0d0887"
             ],
             [
              0.1111111111111111,
              "#46039f"
             ],
             [
              0.2222222222222222,
              "#7201a8"
             ],
             [
              0.3333333333333333,
              "#9c179e"
             ],
             [
              0.4444444444444444,
              "#bd3786"
             ],
             [
              0.5555555555555556,
              "#d8576b"
             ],
             [
              0.6666666666666666,
              "#ed7953"
             ],
             [
              0.7777777777777778,
              "#fb9f3a"
             ],
             [
              0.8888888888888888,
              "#fdca26"
             ],
             [
              1,
              "#f0f921"
             ]
            ],
            "type": "histogram2d"
           }
          ],
          "histogram2dcontour": [
           {
            "colorbar": {
             "outlinewidth": 0,
             "ticks": ""
            },
            "colorscale": [
             [
              0,
              "#0d0887"
             ],
             [
              0.1111111111111111,
              "#46039f"
             ],
             [
              0.2222222222222222,
              "#7201a8"
             ],
             [
              0.3333333333333333,
              "#9c179e"
             ],
             [
              0.4444444444444444,
              "#bd3786"
             ],
             [
              0.5555555555555556,
              "#d8576b"
             ],
             [
              0.6666666666666666,
              "#ed7953"
             ],
             [
              0.7777777777777778,
              "#fb9f3a"
             ],
             [
              0.8888888888888888,
              "#fdca26"
             ],
             [
              1,
              "#f0f921"
             ]
            ],
            "type": "histogram2dcontour"
           }
          ],
          "mesh3d": [
           {
            "colorbar": {
             "outlinewidth": 0,
             "ticks": ""
            },
            "type": "mesh3d"
           }
          ],
          "parcoords": [
           {
            "line": {
             "colorbar": {
              "outlinewidth": 0,
              "ticks": ""
             }
            },
            "type": "parcoords"
           }
          ],
          "pie": [
           {
            "automargin": true,
            "type": "pie"
           }
          ],
          "scatter": [
           {
            "marker": {
             "colorbar": {
              "outlinewidth": 0,
              "ticks": ""
             }
            },
            "type": "scatter"
           }
          ],
          "scatter3d": [
           {
            "line": {
             "colorbar": {
              "outlinewidth": 0,
              "ticks": ""
             }
            },
            "marker": {
             "colorbar": {
              "outlinewidth": 0,
              "ticks": ""
             }
            },
            "type": "scatter3d"
           }
          ],
          "scattercarpet": [
           {
            "marker": {
             "colorbar": {
              "outlinewidth": 0,
              "ticks": ""
             }
            },
            "type": "scattercarpet"
           }
          ],
          "scattergeo": [
           {
            "marker": {
             "colorbar": {
              "outlinewidth": 0,
              "ticks": ""
             }
            },
            "type": "scattergeo"
           }
          ],
          "scattergl": [
           {
            "marker": {
             "colorbar": {
              "outlinewidth": 0,
              "ticks": ""
             }
            },
            "type": "scattergl"
           }
          ],
          "scattermapbox": [
           {
            "marker": {
             "colorbar": {
              "outlinewidth": 0,
              "ticks": ""
             }
            },
            "type": "scattermapbox"
           }
          ],
          "scatterpolar": [
           {
            "marker": {
             "colorbar": {
              "outlinewidth": 0,
              "ticks": ""
             }
            },
            "type": "scatterpolar"
           }
          ],
          "scatterpolargl": [
           {
            "marker": {
             "colorbar": {
              "outlinewidth": 0,
              "ticks": ""
             }
            },
            "type": "scatterpolargl"
           }
          ],
          "scatterternary": [
           {
            "marker": {
             "colorbar": {
              "outlinewidth": 0,
              "ticks": ""
             }
            },
            "type": "scatterternary"
           }
          ],
          "surface": [
           {
            "colorbar": {
             "outlinewidth": 0,
             "ticks": ""
            },
            "colorscale": [
             [
              0,
              "#0d0887"
             ],
             [
              0.1111111111111111,
              "#46039f"
             ],
             [
              0.2222222222222222,
              "#7201a8"
             ],
             [
              0.3333333333333333,
              "#9c179e"
             ],
             [
              0.4444444444444444,
              "#bd3786"
             ],
             [
              0.5555555555555556,
              "#d8576b"
             ],
             [
              0.6666666666666666,
              "#ed7953"
             ],
             [
              0.7777777777777778,
              "#fb9f3a"
             ],
             [
              0.8888888888888888,
              "#fdca26"
             ],
             [
              1,
              "#f0f921"
             ]
            ],
            "type": "surface"
           }
          ],
          "table": [
           {
            "cells": {
             "fill": {
              "color": "#EBF0F8"
             },
             "line": {
              "color": "white"
             }
            },
            "header": {
             "fill": {
              "color": "#C8D4E3"
             },
             "line": {
              "color": "white"
             }
            },
            "type": "table"
           }
          ]
         },
         "layout": {
          "annotationdefaults": {
           "arrowcolor": "#2a3f5f",
           "arrowhead": 0,
           "arrowwidth": 1
          },
          "coloraxis": {
           "colorbar": {
            "outlinewidth": 0,
            "ticks": ""
           }
          },
          "colorscale": {
           "diverging": [
            [
             0,
             "#8e0152"
            ],
            [
             0.1,
             "#c51b7d"
            ],
            [
             0.2,
             "#de77ae"
            ],
            [
             0.3,
             "#f1b6da"
            ],
            [
             0.4,
             "#fde0ef"
            ],
            [
             0.5,
             "#f7f7f7"
            ],
            [
             0.6,
             "#e6f5d0"
            ],
            [
             0.7,
             "#b8e186"
            ],
            [
             0.8,
             "#7fbc41"
            ],
            [
             0.9,
             "#4d9221"
            ],
            [
             1,
             "#276419"
            ]
           ],
           "sequential": [
            [
             0,
             "#0d0887"
            ],
            [
             0.1111111111111111,
             "#46039f"
            ],
            [
             0.2222222222222222,
             "#7201a8"
            ],
            [
             0.3333333333333333,
             "#9c179e"
            ],
            [
             0.4444444444444444,
             "#bd3786"
            ],
            [
             0.5555555555555556,
             "#d8576b"
            ],
            [
             0.6666666666666666,
             "#ed7953"
            ],
            [
             0.7777777777777778,
             "#fb9f3a"
            ],
            [
             0.8888888888888888,
             "#fdca26"
            ],
            [
             1,
             "#f0f921"
            ]
           ],
           "sequentialminus": [
            [
             0,
             "#0d0887"
            ],
            [
             0.1111111111111111,
             "#46039f"
            ],
            [
             0.2222222222222222,
             "#7201a8"
            ],
            [
             0.3333333333333333,
             "#9c179e"
            ],
            [
             0.4444444444444444,
             "#bd3786"
            ],
            [
             0.5555555555555556,
             "#d8576b"
            ],
            [
             0.6666666666666666,
             "#ed7953"
            ],
            [
             0.7777777777777778,
             "#fb9f3a"
            ],
            [
             0.8888888888888888,
             "#fdca26"
            ],
            [
             1,
             "#f0f921"
            ]
           ]
          },
          "colorway": [
           "#636efa",
           "#EF553B",
           "#00cc96",
           "#ab63fa",
           "#FFA15A",
           "#19d3f3",
           "#FF6692",
           "#B6E880",
           "#FF97FF",
           "#FECB52"
          ],
          "font": {
           "color": "#2a3f5f"
          },
          "geo": {
           "bgcolor": "white",
           "lakecolor": "white",
           "landcolor": "#E5ECF6",
           "showlakes": true,
           "showland": true,
           "subunitcolor": "white"
          },
          "hoverlabel": {
           "align": "left"
          },
          "hovermode": "closest",
          "mapbox": {
           "style": "light"
          },
          "paper_bgcolor": "white",
          "plot_bgcolor": "#E5ECF6",
          "polar": {
           "angularaxis": {
            "gridcolor": "white",
            "linecolor": "white",
            "ticks": ""
           },
           "bgcolor": "#E5ECF6",
           "radialaxis": {
            "gridcolor": "white",
            "linecolor": "white",
            "ticks": ""
           }
          },
          "scene": {
           "xaxis": {
            "backgroundcolor": "#E5ECF6",
            "gridcolor": "white",
            "gridwidth": 2,
            "linecolor": "white",
            "showbackground": true,
            "ticks": "",
            "zerolinecolor": "white"
           },
           "yaxis": {
            "backgroundcolor": "#E5ECF6",
            "gridcolor": "white",
            "gridwidth": 2,
            "linecolor": "white",
            "showbackground": true,
            "ticks": "",
            "zerolinecolor": "white"
           },
           "zaxis": {
            "backgroundcolor": "#E5ECF6",
            "gridcolor": "white",
            "gridwidth": 2,
            "linecolor": "white",
            "showbackground": true,
            "ticks": "",
            "zerolinecolor": "white"
           }
          },
          "shapedefaults": {
           "line": {
            "color": "#2a3f5f"
           }
          },
          "ternary": {
           "aaxis": {
            "gridcolor": "white",
            "linecolor": "white",
            "ticks": ""
           },
           "baxis": {
            "gridcolor": "white",
            "linecolor": "white",
            "ticks": ""
           },
           "bgcolor": "#E5ECF6",
           "caxis": {
            "gridcolor": "white",
            "linecolor": "white",
            "ticks": ""
           }
          },
          "title": {
           "x": 0.05
          },
          "xaxis": {
           "automargin": true,
           "gridcolor": "white",
           "linecolor": "white",
           "ticks": "",
           "title": {
            "standoff": 15
           },
           "zerolinecolor": "white",
           "zerolinewidth": 2
          },
          "yaxis": {
           "automargin": true,
           "gridcolor": "white",
           "linecolor": "white",
           "ticks": "",
           "title": {
            "standoff": 15
           },
           "zerolinecolor": "white",
           "zerolinewidth": 2
          }
         }
        },
        "title": {
         "text": "Coches"
        },
        "xaxis": {
         "title": {
          "text": "Horsepower"
         }
        },
        "yaxis": {
         "title": {
          "text": "consumo (mpg)"
         }
        }
       }
      },
      "text/html": [
       "<div>\n",
       "        \n",
       "        \n",
       "            <div id=\"ad75fc7d-c327-4d52-849d-099c1ddd0db5\" class=\"plotly-graph-div\" style=\"height:525px; width:100%;\"></div>\n",
       "            <script type=\"text/javascript\">\n",
       "                require([\"plotly\"], function(Plotly) {\n",
       "                    window.PLOTLYENV=window.PLOTLYENV || {};\n",
       "                    \n",
       "                if (document.getElementById(\"ad75fc7d-c327-4d52-849d-099c1ddd0db5\")) {\n",
       "                    Plotly.newPlot(\n",
       "                        'ad75fc7d-c327-4d52-849d-099c1ddd0db5',\n",
       "                        [{\"marker\": {\"size\": [8, 8, 8, 8, 8, 8, 8, 8, 8, 8, 8, 8, 8, 8, 4, 6, 6, 6, 4, 4, 4, 4, 4, 4, 6, 8, 8, 8, 8, 4, 4, 4, 4, 6, 6, 6, 6, 6, 8, 8, 8, 8, 8, 8, 8, 6, 4, 6, 6, 4, 4, 4, 4, 4, 4, 4, 4, 4, 4, 4, 4, 4, 8, 8, 8, 8, 8, 8, 8, 8, 8, 3, 8, 8, 8, 8, 4, 4, 4, 4, 4, 4, 4, 4, 4, 8, 8, 8, 8, 8, 8, 8, 8, 8, 8, 8, 8, 6, 6, 6, 6, 6, 4, 8, 8, 8, 8, 6, 4, 4, 4, 3, 4, 6, 4, 8, 8, 4, 4, 4, 4, 8, 4, 6, 8, 6, 6, 6, 6, 4, 4, 4, 4, 6, 6, 6, 8, 8, 8, 8, 8, 4, 4, 4, 4, 4, 4, 4, 4, 4, 4, 4, 6, 6, 6, 6, 8, 8, 8, 8, 6, 6, 6, 6, 6, 8, 8, 4, 4, 6, 4, 4, 4, 4, 6, 4, 6, 4, 4, 4, 4, 4, 4, 4, 4, 4, 4, 8, 8, 8, 8, 6, 6, 6, 6, 4, 4, 4, 4, 6, 6, 6, 6, 4, 4, 4, 4, 4, 8, 4, 6, 6, 8, 8, 8, 8, 4, 4, 4, 4, 4, 8, 8, 8, 8, 6, 6, 6, 6, 8, 8, 8, 8, 4, 4, 4, 4, 4, 4, 4, 4, 6, 4, 3, 4, 4, 4, 4, 4, 8, 8, 8, 6, 6, 6, 4, 6, 6, 6, 6, 6, 6, 8, 6, 8, 8, 4, 4, 4, 4, 4, 4, 4, 4, 5, 6, 4, 6, 4, 4, 6, 6, 4, 6, 6, 8, 8, 8, 8, 8, 8, 8, 8, 4, 4, 4, 4, 5, 8, 4, 8, 4, 4, 4, 4, 4, 6, 6, 4, 4, 4, 4, 4, 4, 4, 4, 6, 4, 4, 4, 4, 4, 4, 4, 4, 4, 4, 5, 4, 4, 4, 4, 4, 6, 3, 4, 4, 4, 4, 4, 4, 6, 4, 4, 4, 4, 4, 4, 4, 4, 4, 4, 4, 4, 4, 4, 4, 4, 4, 4, 6, 6, 6, 6, 8, 6, 6, 4, 4, 4, 4, 4, 4, 4, 4, 4, 4, 4, 4, 4, 4, 4, 4, 4, 4, 4, 6, 6, 4, 6, 4, 4, 4, 4, 4, 4, 4, 4]}, \"mode\": \"markers\", \"text\": [\"chevrolet chevelle malibu\", \"buick skylark 320\", \"plymouth satellite\", \"amc rebel sst\", \"ford torino\", \"ford galaxie 500\", \"chevrolet impala\", \"plymouth fury iii\", \"pontiac catalina\", \"amc ambassador dpl\", \"dodge challenger se\", \"plymouth 'cuda 340\", \"chevrolet monte carlo\", \"buick estate wagon (sw)\", \"toyota corona mark ii\", \"plymouth duster\", \"amc hornet\", \"ford maverick\", \"datsun pl510\", \"volkswagen 1131 deluxe sedan\", \"peugeot 504\", \"audi 100 ls\", \"saab 99e\", \"bmw 2002\", \"amc gremlin\", \"ford f250\", \"chevy c20\", \"dodge d200\", \"hi 1200d\", \"datsun pl510\", \"chevrolet vega 2300\", \"toyota corona\", \"ford pinto\", \"amc gremlin\", \"plymouth satellite custom\", \"chevrolet chevelle malibu\", \"ford torino 500\", \"amc matador\", \"chevrolet impala\", \"pontiac catalina brougham\", \"ford galaxie 500\", \"plymouth fury iii\", \"dodge monaco (sw)\", \"ford country squire (sw)\", \"pontiac safari (sw)\", \"amc hornet sportabout (sw)\", \"chevrolet vega (sw)\", \"pontiac firebird\", \"ford mustang\", \"mercury capri 2000\", \"opel 1900\", \"peugeot 304\", \"fiat 124b\", \"toyota corolla 1200\", \"datsun 1200\", \"volkswagen model 111\", \"plymouth cricket\", \"toyota corona hardtop\", \"dodge colt hardtop\", \"volkswagen type 3\", \"chevrolet vega\", \"ford pinto runabout\", \"chevrolet impala\", \"pontiac catalina\", \"plymouth fury iii\", \"ford galaxie 500\", \"amc ambassador sst\", \"mercury marquis\", \"buick lesabre custom\", \"oldsmobile delta 88 royale\", \"chrysler newport royal\", \"mazda rx2 coupe\", \"amc matador (sw)\", \"chevrolet chevelle concours (sw)\", \"ford gran torino (sw)\", \"plymouth satellite custom (sw)\", \"volvo 145e (sw)\", \"volkswagen 411 (sw)\", \"peugeot 504 (sw)\", \"renault 12 (sw)\", \"ford pinto (sw)\", \"datsun 510 (sw)\", \"toyouta corona mark ii (sw)\", \"dodge colt (sw)\", \"toyota corolla 1600 (sw)\", \"buick century 350\", \"amc matador\", \"chevrolet malibu\", \"ford gran torino\", \"dodge coronet custom\", \"mercury marquis brougham\", \"chevrolet caprice classic\", \"ford ltd\", \"plymouth fury gran sedan\", \"chrysler new yorker brougham\", \"buick electra 225 custom\", \"amc ambassador brougham\", \"plymouth valiant\", \"chevrolet nova custom\", \"amc hornet\", \"ford maverick\", \"plymouth duster\", \"volkswagen super beetle\", \"chevrolet impala\", \"ford country\", \"plymouth custom suburb\", \"oldsmobile vista cruiser\", \"amc gremlin\", \"toyota carina\", \"chevrolet vega\", \"datsun 610\", \"maxda rx3\", \"ford pinto\", \"mercury capri v6\", \"fiat 124 sport coupe\", \"chevrolet monte carlo s\", \"pontiac grand prix\", \"fiat 128\", \"opel manta\", \"audi 100ls\", \"volvo 144ea\", \"dodge dart custom\", \"saab 99le\", \"toyota mark ii\", \"oldsmobile omega\", \"plymouth duster\", \"ford maverick\", \"amc hornet\", \"chevrolet nova\", \"datsun b210\", \"ford pinto\", \"toyota corolla 1200\", \"chevrolet vega\", \"chevrolet chevelle malibu classic\", \"amc matador\", \"plymouth satellite sebring\", \"ford gran torino\", \"buick century luxus (sw)\", \"dodge coronet custom (sw)\", \"ford gran torino (sw)\", \"amc matador (sw)\", \"audi fox\", \"volkswagen dasher\", \"opel manta\", \"toyota corona\", \"datsun 710\", \"dodge colt\", \"fiat 128\", \"fiat 124 tc\", \"honda civic\", \"subaru\", \"fiat x1.9\", \"plymouth valiant custom\", \"chevrolet nova\", \"mercury monarch\", \"ford maverick\", \"pontiac catalina\", \"chevrolet bel air\", \"plymouth grand fury\", \"ford ltd\", \"buick century\", \"chevroelt chevelle malibu\", \"amc matador\", \"plymouth fury\", \"buick skyhawk\", \"chevrolet monza 2+2\", \"ford mustang ii\", \"toyota corolla\", \"ford pinto\", \"amc gremlin\", \"pontiac astro\", \"toyota corona\", \"volkswagen dasher\", \"datsun 710\", \"ford pinto\", \"volkswagen rabbit\", \"amc pacer\", \"audi 100ls\", \"peugeot 504\", \"volvo 244dl\", \"saab 99le\", \"honda civic cvcc\", \"fiat 131\", \"opel 1900\", \"capri ii\", \"dodge colt\", \"renault 12tl\", \"chevrolet chevelle malibu classic\", \"dodge coronet brougham\", \"amc matador\", \"ford gran torino\", \"plymouth valiant\", \"chevrolet nova\", \"ford maverick\", \"amc hornet\", \"chevrolet chevette\", \"chevrolet woody\", \"vw rabbit\", \"honda civic\", \"dodge aspen se\", \"ford granada ghia\", \"pontiac ventura sj\", \"amc pacer d/l\", \"volkswagen rabbit\", \"datsun b-210\", \"toyota corolla\", \"ford pinto\", \"volvo 245\", \"plymouth volare premier v8\", \"peugeot 504\", \"toyota mark ii\", \"mercedes-benz 280s\", \"cadillac seville\", \"chevy c10\", \"ford f108\", \"dodge d100\", \"honda accord cvcc\", \"buick opel isuzu deluxe\", \"renault 5 gtl\", \"plymouth arrow gs\", \"datsun f-10 hatchback\", \"chevrolet caprice classic\", \"oldsmobile cutlass supreme\", \"dodge monaco brougham\", \"mercury cougar brougham\", \"chevrolet concours\", \"buick skylark\", \"plymouth volare custom\", \"ford granada\", \"pontiac grand prix lj\", \"chevrolet monte carlo landau\", \"chrysler cordoba\", \"ford thunderbird\", \"volkswagen rabbit custom\", \"pontiac sunbird coupe\", \"toyota corolla liftback\", \"ford mustang ii 2+2\", \"chevrolet chevette\", \"dodge colt m/m\", \"subaru dl\", \"volkswagen dasher\", \"datsun 810\", \"bmw 320i\", \"mazda rx-4\", \"volkswagen rabbit custom diesel\", \"ford fiesta\", \"mazda glc deluxe\", \"datsun b210 gx\", \"honda civic cvcc\", \"oldsmobile cutlass salon brougham\", \"dodge diplomat\", \"mercury monarch ghia\", \"pontiac phoenix lj\", \"chevrolet malibu\", \"ford fairmont (auto)\", \"ford fairmont (man)\", \"plymouth volare\", \"amc concord\", \"buick century special\", \"mercury zephyr\", \"dodge aspen\", \"amc concord d/l\", \"chevrolet monte carlo landau\", \"buick regal sport coupe (turbo)\", \"ford futura\", \"dodge magnum xe\", \"chevrolet chevette\", \"toyota corona\", \"datsun 510\", \"dodge omni\", \"toyota celica gt liftback\", \"plymouth sapporo\", \"oldsmobile starfire sx\", \"datsun 200-sx\", \"audi 5000\", \"volvo 264gl\", \"saab 99gle\", \"peugeot 604sl\", \"volkswagen scirocco\", \"honda accord lx\", \"pontiac lemans v6\", \"mercury zephyr 6\", \"ford fairmont 4\", \"amc concord dl 6\", \"dodge aspen 6\", \"chevrolet caprice classic\", \"ford ltd landau\", \"mercury grand marquis\", \"dodge st. regis\", \"buick estate wagon (sw)\", \"ford country squire (sw)\", \"chevrolet malibu classic (sw)\", \"chrysler lebaron town @ country (sw)\", \"vw rabbit custom\", \"maxda glc deluxe\", \"dodge colt hatchback custom\", \"amc spirit dl\", \"mercedes benz 300d\", \"cadillac eldorado\", \"peugeot 504\", \"oldsmobile cutlass salon brougham\", \"plymouth horizon\", \"plymouth horizon tc3\", \"datsun 210\", \"fiat strada custom\", \"buick skylark limited\", \"chevrolet citation\", \"oldsmobile omega brougham\", \"pontiac phoenix\", \"vw rabbit\", \"toyota corolla tercel\", \"chevrolet chevette\", \"datsun 310\", \"chevrolet citation\", \"ford fairmont\", \"amc concord\", \"dodge aspen\", \"audi 4000\", \"toyota corona liftback\", \"mazda 626\", \"datsun 510 hatchback\", \"toyota corolla\", \"mazda glc\", \"dodge colt\", \"datsun 210\", \"vw rabbit c (diesel)\", \"vw dasher (diesel)\", \"audi 5000s (diesel)\", \"mercedes-benz 240d\", \"honda civic 1500 gl\", \"renault lecar deluxe\", \"subaru dl\", \"vokswagen rabbit\", \"datsun 280-zx\", \"mazda rx-7 gs\", \"triumph tr7 coupe\", \"ford mustang cobra\", \"honda accord\", \"plymouth reliant\", \"buick skylark\", \"dodge aries wagon (sw)\", \"chevrolet citation\", \"plymouth reliant\", \"toyota starlet\", \"plymouth champ\", \"honda civic 1300\", \"subaru\", \"datsun 210 mpg\", \"toyota tercel\", \"mazda glc 4\", \"plymouth horizon 4\", \"ford escort 4w\", \"ford escort 2h\", \"volkswagen jetta\", \"renault 18i\", \"honda prelude\", \"toyota corolla\", \"datsun 200sx\", \"mazda 626\", \"peugeot 505s turbo diesel\", \"volvo diesel\", \"toyota cressida\", \"datsun 810 maxima\", \"buick century\", \"oldsmobile cutlass ls\", \"ford granada gl\", \"chrysler lebaron salon\", \"chevrolet cavalier\", \"chevrolet cavalier wagon\", \"chevrolet cavalier 2-door\", \"pontiac j2000 se hatchback\", \"dodge aries se\", \"pontiac phoenix\", \"ford fairmont futura\", \"amc concord dl\", \"volkswagen rabbit l\", \"mazda glc custom l\", \"mazda glc custom\", \"plymouth horizon miser\", \"mercury lynx l\", \"nissan stanza xe\", \"honda accord\", \"toyota corolla\", \"honda civic\", \"honda civic (auto)\", \"datsun 310 gx\", \"buick century limited\", \"oldsmobile cutlass ciera (diesel)\", \"chrysler lebaron medallion\", \"ford granada l\", \"toyota celica gt\", \"dodge charger 2.2\", \"chevrolet camaro\", \"ford mustang gl\", \"vw pickup\", \"dodge rampage\", \"ford ranger\", \"chevy s-10\"], \"type\": \"scatter\", \"x\": [\"130\", \"165\", \"150\", \"150\", \"140\", \"198\", \"220\", \"215\", \"225\", \"190\", \"170\", \"160\", \"150\", \"225\", \"95\", \"95\", \"97\", \"85\", \"88\", \"46\", \"87\", \"90\", \"95\", \"113\", \"90\", \"215\", \"200\", \"210\", \"193\", \"88\", \"90\", \"95\", \"?\", \"100\", \"105\", \"100\", \"88\", \"100\", \"165\", \"175\", \"153\", \"150\", \"180\", \"170\", \"175\", \"110\", \"72\", \"100\", \"88\", \"86\", \"90\", \"70\", \"76\", \"65\", \"69\", \"60\", \"70\", \"95\", \"80\", \"54\", \"90\", \"86\", \"165\", \"175\", \"150\", \"153\", \"150\", \"208\", \"155\", \"160\", \"190\", \"97\", \"150\", \"130\", \"140\", \"150\", \"112\", \"76\", \"87\", \"69\", \"86\", \"92\", \"97\", \"80\", \"88\", \"175\", \"150\", \"145\", \"137\", \"150\", \"198\", \"150\", \"158\", \"150\", \"215\", \"225\", \"175\", \"105\", \"100\", \"100\", \"88\", \"95\", \"46\", \"150\", \"167\", \"170\", \"180\", \"100\", \"88\", \"72\", \"94\", \"90\", \"85\", \"107\", \"90\", \"145\", \"230\", \"49\", \"75\", \"91\", \"112\", \"150\", \"110\", \"122\", \"180\", \"95\", \"?\", \"100\", \"100\", \"67\", \"80\", \"65\", \"75\", \"100\", \"110\", \"105\", \"140\", \"150\", \"150\", \"140\", \"150\", \"83\", \"67\", \"78\", \"52\", \"61\", \"75\", \"75\", \"75\", \"97\", \"93\", \"67\", \"95\", \"105\", \"72\", \"72\", \"170\", \"145\", \"150\", \"148\", \"110\", \"105\", \"110\", \"95\", \"110\", \"110\", \"129\", \"75\", \"83\", \"100\", \"78\", \"96\", \"71\", \"97\", \"97\", \"70\", \"90\", \"95\", \"88\", \"98\", \"115\", \"53\", \"86\", \"81\", \"92\", \"79\", \"83\", \"140\", \"150\", \"120\", \"152\", \"100\", \"105\", \"81\", \"90\", \"52\", \"60\", \"70\", \"53\", \"100\", \"78\", \"110\", \"95\", \"71\", \"70\", \"75\", \"72\", \"102\", \"150\", \"88\", \"108\", \"120\", \"180\", \"145\", \"130\", \"150\", \"68\", \"80\", \"58\", \"96\", \"70\", \"145\", \"110\", \"145\", \"130\", \"110\", \"105\", \"100\", \"98\", \"180\", \"170\", \"190\", \"149\", \"78\", \"88\", \"75\", \"89\", \"63\", \"83\", \"67\", \"78\", \"97\", \"110\", \"110\", \"48\", \"66\", \"52\", \"70\", \"60\", \"110\", \"140\", \"139\", \"105\", \"95\", \"85\", \"88\", \"100\", \"90\", \"105\", \"85\", \"110\", \"120\", \"145\", \"165\", \"139\", \"140\", \"68\", \"95\", \"97\", \"75\", \"95\", \"105\", \"85\", \"97\", \"103\", \"125\", \"115\", \"133\", \"71\", \"68\", \"115\", \"85\", \"88\", \"90\", \"110\", \"130\", \"129\", \"138\", \"135\", \"155\", \"142\", \"125\", \"150\", \"71\", \"65\", \"80\", \"80\", \"77\", \"125\", \"71\", \"90\", \"70\", \"70\", \"65\", \"69\", \"90\", \"115\", \"115\", \"90\", \"76\", \"60\", \"70\", \"65\", \"90\", \"88\", \"90\", \"90\", \"78\", \"90\", \"75\", \"92\", \"75\", \"65\", \"105\", \"65\", \"48\", \"48\", \"67\", \"67\", \"67\", \"?\", \"67\", \"62\", \"132\", \"100\", \"88\", \"?\", \"72\", \"84\", \"84\", \"92\", \"110\", \"84\", \"58\", \"64\", \"60\", \"67\", \"65\", \"62\", \"68\", \"63\", \"65\", \"65\", \"74\", \"?\", \"75\", \"75\", \"100\", \"74\", \"80\", \"76\", \"116\", \"120\", \"110\", \"105\", \"88\", \"85\", \"88\", \"88\", \"88\", \"85\", \"84\", \"90\", \"92\", \"?\", \"74\", \"68\", \"68\", \"63\", \"70\", \"88\", \"75\", \"70\", \"67\", \"67\", \"67\", \"110\", \"85\", \"92\", \"112\", \"96\", \"84\", \"90\", \"86\", \"52\", \"84\", \"79\", \"82\"], \"y\": [18.0, 15.0, 18.0, 16.0, 17.0, 15.0, 14.0, 14.0, 14.0, 15.0, 15.0, 14.0, 15.0, 14.0, 24.0, 22.0, 18.0, 21.0, 27.0, 26.0, 25.0, 24.0, 25.0, 26.0, 21.0, 10.0, 10.0, 11.0, 9.0, 27.0, 28.0, 25.0, 25.0, 19.0, 16.0, 17.0, 19.0, 18.0, 14.0, 14.0, 14.0, 14.0, 12.0, 13.0, 13.0, 18.0, 22.0, 19.0, 18.0, 23.0, 28.0, 30.0, 30.0, 31.0, 35.0, 27.0, 26.0, 24.0, 25.0, 23.0, 20.0, 21.0, 13.0, 14.0, 15.0, 14.0, 17.0, 11.0, 13.0, 12.0, 13.0, 19.0, 15.0, 13.0, 13.0, 14.0, 18.0, 22.0, 21.0, 26.0, 22.0, 28.0, 23.0, 28.0, 27.0, 13.0, 14.0, 13.0, 14.0, 15.0, 12.0, 13.0, 13.0, 14.0, 13.0, 12.0, 13.0, 18.0, 16.0, 18.0, 18.0, 23.0, 26.0, 11.0, 12.0, 13.0, 12.0, 18.0, 20.0, 21.0, 22.0, 18.0, 19.0, 21.0, 26.0, 15.0, 16.0, 29.0, 24.0, 20.0, 19.0, 15.0, 24.0, 20.0, 11.0, 20.0, 21.0, 19.0, 15.0, 31.0, 26.0, 32.0, 25.0, 16.0, 16.0, 18.0, 16.0, 13.0, 14.0, 14.0, 14.0, 29.0, 26.0, 26.0, 31.0, 32.0, 28.0, 24.0, 26.0, 24.0, 26.0, 31.0, 19.0, 18.0, 15.0, 15.0, 16.0, 15.0, 16.0, 14.0, 17.0, 16.0, 15.0, 18.0, 21.0, 20.0, 13.0, 29.0, 23.0, 20.0, 23.0, 24.0, 25.0, 24.0, 18.0, 29.0, 19.0, 23.0, 23.0, 22.0, 25.0, 33.0, 28.0, 25.0, 25.0, 26.0, 27.0, 17.5, 16.0, 15.5, 14.5, 22.0, 22.0, 24.0, 22.5, 29.0, 24.5, 29.0, 33.0, 20.0, 18.0, 18.5, 17.5, 29.5, 32.0, 28.0, 26.5, 20.0, 13.0, 19.0, 19.0, 16.5, 16.5, 13.0, 13.0, 13.0, 31.5, 30.0, 36.0, 25.5, 33.5, 17.5, 17.0, 15.5, 15.0, 17.5, 20.5, 19.0, 18.5, 16.0, 15.5, 15.5, 16.0, 29.0, 24.5, 26.0, 25.5, 30.5, 33.5, 30.0, 30.5, 22.0, 21.5, 21.5, 43.1, 36.1, 32.8, 39.4, 36.1, 19.9, 19.4, 20.2, 19.2, 20.5, 20.2, 25.1, 20.5, 19.4, 20.6, 20.8, 18.6, 18.1, 19.2, 17.7, 18.1, 17.5, 30.0, 27.5, 27.2, 30.9, 21.1, 23.2, 23.8, 23.9, 20.3, 17.0, 21.6, 16.2, 31.5, 29.5, 21.5, 19.8, 22.3, 20.2, 20.6, 17.0, 17.6, 16.5, 18.2, 16.9, 15.5, 19.2, 18.5, 31.9, 34.1, 35.7, 27.4, 25.4, 23.0, 27.2, 23.9, 34.2, 34.5, 31.8, 37.3, 28.4, 28.8, 26.8, 33.5, 41.5, 38.1, 32.1, 37.2, 28.0, 26.4, 24.3, 19.1, 34.3, 29.8, 31.3, 37.0, 32.2, 46.6, 27.9, 40.8, 44.3, 43.4, 36.4, 30.0, 44.6, 40.9, 33.8, 29.8, 32.7, 23.7, 35.0, 23.6, 32.4, 27.2, 26.6, 25.8, 23.5, 30.0, 39.1, 39.0, 35.1, 32.3, 37.0, 37.7, 34.1, 34.7, 34.4, 29.9, 33.0, 34.5, 33.7, 32.4, 32.9, 31.6, 28.1, 30.7, 25.4, 24.2, 22.4, 26.6, 20.2, 17.6, 28.0, 27.0, 34.0, 31.0, 29.0, 27.0, 24.0, 23.0, 36.0, 37.0, 31.0, 38.0, 36.0, 36.0, 36.0, 34.0, 38.0, 32.0, 38.0, 25.0, 38.0, 26.0, 22.0, 32.0, 36.0, 27.0, 27.0, 44.0, 32.0, 28.0, 31.0]}],\n",
       "                        {\"template\": {\"data\": {\"bar\": [{\"error_x\": {\"color\": \"#2a3f5f\"}, \"error_y\": {\"color\": \"#2a3f5f\"}, \"marker\": {\"line\": {\"color\": \"#E5ECF6\", \"width\": 0.5}}, \"type\": \"bar\"}], \"barpolar\": [{\"marker\": {\"line\": {\"color\": \"#E5ECF6\", \"width\": 0.5}}, \"type\": \"barpolar\"}], \"carpet\": [{\"aaxis\": {\"endlinecolor\": \"#2a3f5f\", \"gridcolor\": \"white\", \"linecolor\": \"white\", \"minorgridcolor\": \"white\", \"startlinecolor\": \"#2a3f5f\"}, \"baxis\": {\"endlinecolor\": \"#2a3f5f\", \"gridcolor\": \"white\", \"linecolor\": \"white\", \"minorgridcolor\": \"white\", \"startlinecolor\": \"#2a3f5f\"}, \"type\": \"carpet\"}], \"choropleth\": [{\"colorbar\": {\"outlinewidth\": 0, \"ticks\": \"\"}, \"type\": \"choropleth\"}], \"contour\": [{\"colorbar\": {\"outlinewidth\": 0, \"ticks\": \"\"}, \"colorscale\": [[0.0, \"#0d0887\"], [0.1111111111111111, \"#46039f\"], [0.2222222222222222, \"#7201a8\"], [0.3333333333333333, \"#9c179e\"], [0.4444444444444444, \"#bd3786\"], [0.5555555555555556, \"#d8576b\"], [0.6666666666666666, \"#ed7953\"], [0.7777777777777778, \"#fb9f3a\"], [0.8888888888888888, \"#fdca26\"], [1.0, \"#f0f921\"]], \"type\": \"contour\"}], \"contourcarpet\": [{\"colorbar\": {\"outlinewidth\": 0, \"ticks\": \"\"}, \"type\": \"contourcarpet\"}], \"heatmap\": [{\"colorbar\": {\"outlinewidth\": 0, \"ticks\": \"\"}, \"colorscale\": [[0.0, \"#0d0887\"], [0.1111111111111111, \"#46039f\"], [0.2222222222222222, \"#7201a8\"], [0.3333333333333333, \"#9c179e\"], [0.4444444444444444, \"#bd3786\"], [0.5555555555555556, \"#d8576b\"], [0.6666666666666666, \"#ed7953\"], [0.7777777777777778, \"#fb9f3a\"], [0.8888888888888888, \"#fdca26\"], [1.0, \"#f0f921\"]], \"type\": \"heatmap\"}], \"heatmapgl\": [{\"colorbar\": {\"outlinewidth\": 0, \"ticks\": \"\"}, \"colorscale\": [[0.0, \"#0d0887\"], [0.1111111111111111, \"#46039f\"], [0.2222222222222222, \"#7201a8\"], [0.3333333333333333, \"#9c179e\"], [0.4444444444444444, \"#bd3786\"], [0.5555555555555556, \"#d8576b\"], [0.6666666666666666, \"#ed7953\"], [0.7777777777777778, \"#fb9f3a\"], [0.8888888888888888, \"#fdca26\"], [1.0, \"#f0f921\"]], \"type\": \"heatmapgl\"}], \"histogram\": [{\"marker\": {\"colorbar\": {\"outlinewidth\": 0, \"ticks\": \"\"}}, \"type\": \"histogram\"}], \"histogram2d\": [{\"colorbar\": {\"outlinewidth\": 0, \"ticks\": \"\"}, \"colorscale\": [[0.0, \"#0d0887\"], [0.1111111111111111, \"#46039f\"], [0.2222222222222222, \"#7201a8\"], [0.3333333333333333, \"#9c179e\"], [0.4444444444444444, \"#bd3786\"], [0.5555555555555556, \"#d8576b\"], [0.6666666666666666, \"#ed7953\"], [0.7777777777777778, \"#fb9f3a\"], [0.8888888888888888, \"#fdca26\"], [1.0, \"#f0f921\"]], \"type\": \"histogram2d\"}], \"histogram2dcontour\": [{\"colorbar\": {\"outlinewidth\": 0, \"ticks\": \"\"}, \"colorscale\": [[0.0, \"#0d0887\"], [0.1111111111111111, \"#46039f\"], [0.2222222222222222, \"#7201a8\"], [0.3333333333333333, \"#9c179e\"], [0.4444444444444444, \"#bd3786\"], [0.5555555555555556, \"#d8576b\"], [0.6666666666666666, \"#ed7953\"], [0.7777777777777778, \"#fb9f3a\"], [0.8888888888888888, \"#fdca26\"], [1.0, \"#f0f921\"]], \"type\": \"histogram2dcontour\"}], \"mesh3d\": [{\"colorbar\": {\"outlinewidth\": 0, \"ticks\": \"\"}, \"type\": \"mesh3d\"}], \"parcoords\": [{\"line\": {\"colorbar\": {\"outlinewidth\": 0, \"ticks\": \"\"}}, \"type\": \"parcoords\"}], \"pie\": [{\"automargin\": true, \"type\": \"pie\"}], \"scatter\": [{\"marker\": {\"colorbar\": {\"outlinewidth\": 0, \"ticks\": \"\"}}, \"type\": \"scatter\"}], \"scatter3d\": [{\"line\": {\"colorbar\": {\"outlinewidth\": 0, \"ticks\": \"\"}}, \"marker\": {\"colorbar\": {\"outlinewidth\": 0, \"ticks\": \"\"}}, \"type\": \"scatter3d\"}], \"scattercarpet\": [{\"marker\": {\"colorbar\": {\"outlinewidth\": 0, \"ticks\": \"\"}}, \"type\": \"scattercarpet\"}], \"scattergeo\": [{\"marker\": {\"colorbar\": {\"outlinewidth\": 0, \"ticks\": \"\"}}, \"type\": \"scattergeo\"}], \"scattergl\": [{\"marker\": {\"colorbar\": {\"outlinewidth\": 0, \"ticks\": \"\"}}, \"type\": \"scattergl\"}], \"scattermapbox\": [{\"marker\": {\"colorbar\": {\"outlinewidth\": 0, \"ticks\": \"\"}}, \"type\": \"scattermapbox\"}], \"scatterpolar\": [{\"marker\": {\"colorbar\": {\"outlinewidth\": 0, \"ticks\": \"\"}}, \"type\": \"scatterpolar\"}], \"scatterpolargl\": [{\"marker\": {\"colorbar\": {\"outlinewidth\": 0, \"ticks\": \"\"}}, \"type\": \"scatterpolargl\"}], \"scatterternary\": [{\"marker\": {\"colorbar\": {\"outlinewidth\": 0, \"ticks\": \"\"}}, \"type\": \"scatterternary\"}], \"surface\": [{\"colorbar\": {\"outlinewidth\": 0, \"ticks\": \"\"}, \"colorscale\": [[0.0, \"#0d0887\"], [0.1111111111111111, \"#46039f\"], [0.2222222222222222, \"#7201a8\"], [0.3333333333333333, \"#9c179e\"], [0.4444444444444444, \"#bd3786\"], [0.5555555555555556, \"#d8576b\"], [0.6666666666666666, \"#ed7953\"], [0.7777777777777778, \"#fb9f3a\"], [0.8888888888888888, \"#fdca26\"], [1.0, \"#f0f921\"]], \"type\": \"surface\"}], \"table\": [{\"cells\": {\"fill\": {\"color\": \"#EBF0F8\"}, \"line\": {\"color\": \"white\"}}, \"header\": {\"fill\": {\"color\": \"#C8D4E3\"}, \"line\": {\"color\": \"white\"}}, \"type\": \"table\"}]}, \"layout\": {\"annotationdefaults\": {\"arrowcolor\": \"#2a3f5f\", \"arrowhead\": 0, \"arrowwidth\": 1}, \"coloraxis\": {\"colorbar\": {\"outlinewidth\": 0, \"ticks\": \"\"}}, \"colorscale\": {\"diverging\": [[0, \"#8e0152\"], [0.1, \"#c51b7d\"], [0.2, \"#de77ae\"], [0.3, \"#f1b6da\"], [0.4, \"#fde0ef\"], [0.5, \"#f7f7f7\"], [0.6, \"#e6f5d0\"], [0.7, \"#b8e186\"], [0.8, \"#7fbc41\"], [0.9, \"#4d9221\"], [1, \"#276419\"]], \"sequential\": [[0.0, \"#0d0887\"], [0.1111111111111111, \"#46039f\"], [0.2222222222222222, \"#7201a8\"], [0.3333333333333333, \"#9c179e\"], [0.4444444444444444, \"#bd3786\"], [0.5555555555555556, \"#d8576b\"], [0.6666666666666666, \"#ed7953\"], [0.7777777777777778, \"#fb9f3a\"], [0.8888888888888888, \"#fdca26\"], [1.0, \"#f0f921\"]], \"sequentialminus\": [[0.0, \"#0d0887\"], [0.1111111111111111, \"#46039f\"], [0.2222222222222222, \"#7201a8\"], [0.3333333333333333, \"#9c179e\"], [0.4444444444444444, \"#bd3786\"], [0.5555555555555556, \"#d8576b\"], [0.6666666666666666, \"#ed7953\"], [0.7777777777777778, \"#fb9f3a\"], [0.8888888888888888, \"#fdca26\"], [1.0, \"#f0f921\"]]}, \"colorway\": [\"#636efa\", \"#EF553B\", \"#00cc96\", \"#ab63fa\", \"#FFA15A\", \"#19d3f3\", \"#FF6692\", \"#B6E880\", \"#FF97FF\", \"#FECB52\"], \"font\": {\"color\": \"#2a3f5f\"}, \"geo\": {\"bgcolor\": \"white\", \"lakecolor\": \"white\", \"landcolor\": \"#E5ECF6\", \"showlakes\": true, \"showland\": true, \"subunitcolor\": \"white\"}, \"hoverlabel\": {\"align\": \"left\"}, \"hovermode\": \"closest\", \"mapbox\": {\"style\": \"light\"}, \"paper_bgcolor\": \"white\", \"plot_bgcolor\": \"#E5ECF6\", \"polar\": {\"angularaxis\": {\"gridcolor\": \"white\", \"linecolor\": \"white\", \"ticks\": \"\"}, \"bgcolor\": \"#E5ECF6\", \"radialaxis\": {\"gridcolor\": \"white\", \"linecolor\": \"white\", \"ticks\": \"\"}}, \"scene\": {\"xaxis\": {\"backgroundcolor\": \"#E5ECF6\", \"gridcolor\": \"white\", \"gridwidth\": 2, \"linecolor\": \"white\", \"showbackground\": true, \"ticks\": \"\", \"zerolinecolor\": \"white\"}, \"yaxis\": {\"backgroundcolor\": \"#E5ECF6\", \"gridcolor\": \"white\", \"gridwidth\": 2, \"linecolor\": \"white\", \"showbackground\": true, \"ticks\": \"\", \"zerolinecolor\": \"white\"}, \"zaxis\": {\"backgroundcolor\": \"#E5ECF6\", \"gridcolor\": \"white\", \"gridwidth\": 2, \"linecolor\": \"white\", \"showbackground\": true, \"ticks\": \"\", \"zerolinecolor\": \"white\"}}, \"shapedefaults\": {\"line\": {\"color\": \"#2a3f5f\"}}, \"ternary\": {\"aaxis\": {\"gridcolor\": \"white\", \"linecolor\": \"white\", \"ticks\": \"\"}, \"baxis\": {\"gridcolor\": \"white\", \"linecolor\": \"white\", \"ticks\": \"\"}, \"bgcolor\": \"#E5ECF6\", \"caxis\": {\"gridcolor\": \"white\", \"linecolor\": \"white\", \"ticks\": \"\"}}, \"title\": {\"x\": 0.05}, \"xaxis\": {\"automargin\": true, \"gridcolor\": \"white\", \"linecolor\": \"white\", \"ticks\": \"\", \"title\": {\"standoff\": 15}, \"zerolinecolor\": \"white\", \"zerolinewidth\": 2}, \"yaxis\": {\"automargin\": true, \"gridcolor\": \"white\", \"linecolor\": \"white\", \"ticks\": \"\", \"title\": {\"standoff\": 15}, \"zerolinecolor\": \"white\", \"zerolinewidth\": 2}}}, \"title\": {\"text\": \"Coches\"}, \"xaxis\": {\"title\": {\"text\": \"Horsepower\"}}, \"yaxis\": {\"title\": {\"text\": \"consumo (mpg)\"}}},\n",
       "                        {\"responsive\": true}\n",
       "                    ).then(function(){\n",
       "                            \n",
       "var gd = document.getElementById('ad75fc7d-c327-4d52-849d-099c1ddd0db5');\n",
       "var x = new MutationObserver(function (mutations, observer) {{\n",
       "        var display = window.getComputedStyle(gd).display;\n",
       "        if (!display || display === 'none') {{\n",
       "            console.log([gd, 'removed!']);\n",
       "            Plotly.purge(gd);\n",
       "            observer.disconnect();\n",
       "        }}\n",
       "}});\n",
       "\n",
       "// Listen for the removal of the full notebook cells\n",
       "var notebookContainer = gd.closest('#notebook-container');\n",
       "if (notebookContainer) {{\n",
       "    x.observe(notebookContainer, {childList: true});\n",
       "}}\n",
       "\n",
       "// Listen for the clearing of the current output cell\n",
       "var outputEl = gd.closest('.output');\n",
       "if (outputEl) {{\n",
       "    x.observe(outputEl, {childList: true});\n",
       "}}\n",
       "\n",
       "                        })\n",
       "                };\n",
       "                });\n",
       "            </script>\n",
       "        </div>"
      ]
     },
     "metadata": {},
     "output_type": "display_data"
    }
   ],
   "source": [
    "datos = go.Scatter(x=valores['horsepower'], y=valores['mpg'], text=valores['name'],\n",
    "                   mode='markers', marker=dict(size=valores['cylinders']))\n",
    "capa = go.Layout(title='Coches', xaxis=dict(title='Horsepower'), yaxis=dict(title='consumo (mpg)'))\n",
    "figure = go.Figure(data=datos, layout=capa)\n",
    "pyo.iplot(figure)"
   ]
  },
  {
   "cell_type": "code",
   "execution_count": 54,
   "metadata": {},
   "outputs": [
    {
     "data": {
      "application/vnd.plotly.v1+json": {
       "config": {
        "linkText": "Export to plot.ly",
        "plotlyServerURL": "https://plot.ly",
        "showLink": false
       },
       "data": [
        {
         "marker": {
          "color": [
           8,
           8,
           8,
           8,
           8,
           8,
           8,
           8,
           8,
           8,
           8,
           8,
           8,
           8,
           4,
           6,
           6,
           6,
           4,
           4,
           4,
           4,
           4,
           4,
           6,
           8,
           8,
           8,
           8,
           4,
           4,
           4,
           4,
           6,
           6,
           6,
           6,
           6,
           8,
           8,
           8,
           8,
           8,
           8,
           8,
           6,
           4,
           6,
           6,
           4,
           4,
           4,
           4,
           4,
           4,
           4,
           4,
           4,
           4,
           4,
           4,
           4,
           8,
           8,
           8,
           8,
           8,
           8,
           8,
           8,
           8,
           3,
           8,
           8,
           8,
           8,
           4,
           4,
           4,
           4,
           4,
           4,
           4,
           4,
           4,
           8,
           8,
           8,
           8,
           8,
           8,
           8,
           8,
           8,
           8,
           8,
           8,
           6,
           6,
           6,
           6,
           6,
           4,
           8,
           8,
           8,
           8,
           6,
           4,
           4,
           4,
           3,
           4,
           6,
           4,
           8,
           8,
           4,
           4,
           4,
           4,
           8,
           4,
           6,
           8,
           6,
           6,
           6,
           6,
           4,
           4,
           4,
           4,
           6,
           6,
           6,
           8,
           8,
           8,
           8,
           8,
           4,
           4,
           4,
           4,
           4,
           4,
           4,
           4,
           4,
           4,
           4,
           6,
           6,
           6,
           6,
           8,
           8,
           8,
           8,
           6,
           6,
           6,
           6,
           6,
           8,
           8,
           4,
           4,
           6,
           4,
           4,
           4,
           4,
           6,
           4,
           6,
           4,
           4,
           4,
           4,
           4,
           4,
           4,
           4,
           4,
           4,
           8,
           8,
           8,
           8,
           6,
           6,
           6,
           6,
           4,
           4,
           4,
           4,
           6,
           6,
           6,
           6,
           4,
           4,
           4,
           4,
           4,
           8,
           4,
           6,
           6,
           8,
           8,
           8,
           8,
           4,
           4,
           4,
           4,
           4,
           8,
           8,
           8,
           8,
           6,
           6,
           6,
           6,
           8,
           8,
           8,
           8,
           4,
           4,
           4,
           4,
           4,
           4,
           4,
           4,
           6,
           4,
           3,
           4,
           4,
           4,
           4,
           4,
           8,
           8,
           8,
           6,
           6,
           6,
           4,
           6,
           6,
           6,
           6,
           6,
           6,
           8,
           6,
           8,
           8,
           4,
           4,
           4,
           4,
           4,
           4,
           4,
           4,
           5,
           6,
           4,
           6,
           4,
           4,
           6,
           6,
           4,
           6,
           6,
           8,
           8,
           8,
           8,
           8,
           8,
           8,
           8,
           4,
           4,
           4,
           4,
           5,
           8,
           4,
           8,
           4,
           4,
           4,
           4,
           4,
           6,
           6,
           4,
           4,
           4,
           4,
           4,
           4,
           4,
           4,
           6,
           4,
           4,
           4,
           4,
           4,
           4,
           4,
           4,
           4,
           4,
           5,
           4,
           4,
           4,
           4,
           4,
           6,
           3,
           4,
           4,
           4,
           4,
           4,
           4,
           6,
           4,
           4,
           4,
           4,
           4,
           4,
           4,
           4,
           4,
           4,
           4,
           4,
           4,
           4,
           4,
           4,
           4,
           4,
           6,
           6,
           6,
           6,
           8,
           6,
           6,
           4,
           4,
           4,
           4,
           4,
           4,
           4,
           4,
           4,
           4,
           4,
           4,
           4,
           4,
           4,
           4,
           4,
           4,
           4,
           6,
           6,
           4,
           6,
           4,
           4,
           4,
           4,
           4,
           4,
           4,
           4
          ],
          "showscale": true,
          "size": [
           8,
           8,
           8,
           8,
           8,
           8,
           8,
           8,
           8,
           8,
           8,
           8,
           8,
           8,
           4,
           6,
           6,
           6,
           4,
           4,
           4,
           4,
           4,
           4,
           6,
           8,
           8,
           8,
           8,
           4,
           4,
           4,
           4,
           6,
           6,
           6,
           6,
           6,
           8,
           8,
           8,
           8,
           8,
           8,
           8,
           6,
           4,
           6,
           6,
           4,
           4,
           4,
           4,
           4,
           4,
           4,
           4,
           4,
           4,
           4,
           4,
           4,
           8,
           8,
           8,
           8,
           8,
           8,
           8,
           8,
           8,
           3,
           8,
           8,
           8,
           8,
           4,
           4,
           4,
           4,
           4,
           4,
           4,
           4,
           4,
           8,
           8,
           8,
           8,
           8,
           8,
           8,
           8,
           8,
           8,
           8,
           8,
           6,
           6,
           6,
           6,
           6,
           4,
           8,
           8,
           8,
           8,
           6,
           4,
           4,
           4,
           3,
           4,
           6,
           4,
           8,
           8,
           4,
           4,
           4,
           4,
           8,
           4,
           6,
           8,
           6,
           6,
           6,
           6,
           4,
           4,
           4,
           4,
           6,
           6,
           6,
           8,
           8,
           8,
           8,
           8,
           4,
           4,
           4,
           4,
           4,
           4,
           4,
           4,
           4,
           4,
           4,
           6,
           6,
           6,
           6,
           8,
           8,
           8,
           8,
           6,
           6,
           6,
           6,
           6,
           8,
           8,
           4,
           4,
           6,
           4,
           4,
           4,
           4,
           6,
           4,
           6,
           4,
           4,
           4,
           4,
           4,
           4,
           4,
           4,
           4,
           4,
           8,
           8,
           8,
           8,
           6,
           6,
           6,
           6,
           4,
           4,
           4,
           4,
           6,
           6,
           6,
           6,
           4,
           4,
           4,
           4,
           4,
           8,
           4,
           6,
           6,
           8,
           8,
           8,
           8,
           4,
           4,
           4,
           4,
           4,
           8,
           8,
           8,
           8,
           6,
           6,
           6,
           6,
           8,
           8,
           8,
           8,
           4,
           4,
           4,
           4,
           4,
           4,
           4,
           4,
           6,
           4,
           3,
           4,
           4,
           4,
           4,
           4,
           8,
           8,
           8,
           6,
           6,
           6,
           4,
           6,
           6,
           6,
           6,
           6,
           6,
           8,
           6,
           8,
           8,
           4,
           4,
           4,
           4,
           4,
           4,
           4,
           4,
           5,
           6,
           4,
           6,
           4,
           4,
           6,
           6,
           4,
           6,
           6,
           8,
           8,
           8,
           8,
           8,
           8,
           8,
           8,
           4,
           4,
           4,
           4,
           5,
           8,
           4,
           8,
           4,
           4,
           4,
           4,
           4,
           6,
           6,
           4,
           4,
           4,
           4,
           4,
           4,
           4,
           4,
           6,
           4,
           4,
           4,
           4,
           4,
           4,
           4,
           4,
           4,
           4,
           5,
           4,
           4,
           4,
           4,
           4,
           6,
           3,
           4,
           4,
           4,
           4,
           4,
           4,
           6,
           4,
           4,
           4,
           4,
           4,
           4,
           4,
           4,
           4,
           4,
           4,
           4,
           4,
           4,
           4,
           4,
           4,
           4,
           6,
           6,
           6,
           6,
           8,
           6,
           6,
           4,
           4,
           4,
           4,
           4,
           4,
           4,
           4,
           4,
           4,
           4,
           4,
           4,
           4,
           4,
           4,
           4,
           4,
           4,
           6,
           6,
           4,
           6,
           4,
           4,
           4,
           4,
           4,
           4,
           4,
           4
          ]
         },
         "mode": "markers",
         "text": [
          "chevrolet chevelle malibu",
          "buick skylark 320",
          "plymouth satellite",
          "amc rebel sst",
          "ford torino",
          "ford galaxie 500",
          "chevrolet impala",
          "plymouth fury iii",
          "pontiac catalina",
          "amc ambassador dpl",
          "dodge challenger se",
          "plymouth 'cuda 340",
          "chevrolet monte carlo",
          "buick estate wagon (sw)",
          "toyota corona mark ii",
          "plymouth duster",
          "amc hornet",
          "ford maverick",
          "datsun pl510",
          "volkswagen 1131 deluxe sedan",
          "peugeot 504",
          "audi 100 ls",
          "saab 99e",
          "bmw 2002",
          "amc gremlin",
          "ford f250",
          "chevy c20",
          "dodge d200",
          "hi 1200d",
          "datsun pl510",
          "chevrolet vega 2300",
          "toyota corona",
          "ford pinto",
          "amc gremlin",
          "plymouth satellite custom",
          "chevrolet chevelle malibu",
          "ford torino 500",
          "amc matador",
          "chevrolet impala",
          "pontiac catalina brougham",
          "ford galaxie 500",
          "plymouth fury iii",
          "dodge monaco (sw)",
          "ford country squire (sw)",
          "pontiac safari (sw)",
          "amc hornet sportabout (sw)",
          "chevrolet vega (sw)",
          "pontiac firebird",
          "ford mustang",
          "mercury capri 2000",
          "opel 1900",
          "peugeot 304",
          "fiat 124b",
          "toyota corolla 1200",
          "datsun 1200",
          "volkswagen model 111",
          "plymouth cricket",
          "toyota corona hardtop",
          "dodge colt hardtop",
          "volkswagen type 3",
          "chevrolet vega",
          "ford pinto runabout",
          "chevrolet impala",
          "pontiac catalina",
          "plymouth fury iii",
          "ford galaxie 500",
          "amc ambassador sst",
          "mercury marquis",
          "buick lesabre custom",
          "oldsmobile delta 88 royale",
          "chrysler newport royal",
          "mazda rx2 coupe",
          "amc matador (sw)",
          "chevrolet chevelle concours (sw)",
          "ford gran torino (sw)",
          "plymouth satellite custom (sw)",
          "volvo 145e (sw)",
          "volkswagen 411 (sw)",
          "peugeot 504 (sw)",
          "renault 12 (sw)",
          "ford pinto (sw)",
          "datsun 510 (sw)",
          "toyouta corona mark ii (sw)",
          "dodge colt (sw)",
          "toyota corolla 1600 (sw)",
          "buick century 350",
          "amc matador",
          "chevrolet malibu",
          "ford gran torino",
          "dodge coronet custom",
          "mercury marquis brougham",
          "chevrolet caprice classic",
          "ford ltd",
          "plymouth fury gran sedan",
          "chrysler new yorker brougham",
          "buick electra 225 custom",
          "amc ambassador brougham",
          "plymouth valiant",
          "chevrolet nova custom",
          "amc hornet",
          "ford maverick",
          "plymouth duster",
          "volkswagen super beetle",
          "chevrolet impala",
          "ford country",
          "plymouth custom suburb",
          "oldsmobile vista cruiser",
          "amc gremlin",
          "toyota carina",
          "chevrolet vega",
          "datsun 610",
          "maxda rx3",
          "ford pinto",
          "mercury capri v6",
          "fiat 124 sport coupe",
          "chevrolet monte carlo s",
          "pontiac grand prix",
          "fiat 128",
          "opel manta",
          "audi 100ls",
          "volvo 144ea",
          "dodge dart custom",
          "saab 99le",
          "toyota mark ii",
          "oldsmobile omega",
          "plymouth duster",
          "ford maverick",
          "amc hornet",
          "chevrolet nova",
          "datsun b210",
          "ford pinto",
          "toyota corolla 1200",
          "chevrolet vega",
          "chevrolet chevelle malibu classic",
          "amc matador",
          "plymouth satellite sebring",
          "ford gran torino",
          "buick century luxus (sw)",
          "dodge coronet custom (sw)",
          "ford gran torino (sw)",
          "amc matador (sw)",
          "audi fox",
          "volkswagen dasher",
          "opel manta",
          "toyota corona",
          "datsun 710",
          "dodge colt",
          "fiat 128",
          "fiat 124 tc",
          "honda civic",
          "subaru",
          "fiat x1.9",
          "plymouth valiant custom",
          "chevrolet nova",
          "mercury monarch",
          "ford maverick",
          "pontiac catalina",
          "chevrolet bel air",
          "plymouth grand fury",
          "ford ltd",
          "buick century",
          "chevroelt chevelle malibu",
          "amc matador",
          "plymouth fury",
          "buick skyhawk",
          "chevrolet monza 2+2",
          "ford mustang ii",
          "toyota corolla",
          "ford pinto",
          "amc gremlin",
          "pontiac astro",
          "toyota corona",
          "volkswagen dasher",
          "datsun 710",
          "ford pinto",
          "volkswagen rabbit",
          "amc pacer",
          "audi 100ls",
          "peugeot 504",
          "volvo 244dl",
          "saab 99le",
          "honda civic cvcc",
          "fiat 131",
          "opel 1900",
          "capri ii",
          "dodge colt",
          "renault 12tl",
          "chevrolet chevelle malibu classic",
          "dodge coronet brougham",
          "amc matador",
          "ford gran torino",
          "plymouth valiant",
          "chevrolet nova",
          "ford maverick",
          "amc hornet",
          "chevrolet chevette",
          "chevrolet woody",
          "vw rabbit",
          "honda civic",
          "dodge aspen se",
          "ford granada ghia",
          "pontiac ventura sj",
          "amc pacer d/l",
          "volkswagen rabbit",
          "datsun b-210",
          "toyota corolla",
          "ford pinto",
          "volvo 245",
          "plymouth volare premier v8",
          "peugeot 504",
          "toyota mark ii",
          "mercedes-benz 280s",
          "cadillac seville",
          "chevy c10",
          "ford f108",
          "dodge d100",
          "honda accord cvcc",
          "buick opel isuzu deluxe",
          "renault 5 gtl",
          "plymouth arrow gs",
          "datsun f-10 hatchback",
          "chevrolet caprice classic",
          "oldsmobile cutlass supreme",
          "dodge monaco brougham",
          "mercury cougar brougham",
          "chevrolet concours",
          "buick skylark",
          "plymouth volare custom",
          "ford granada",
          "pontiac grand prix lj",
          "chevrolet monte carlo landau",
          "chrysler cordoba",
          "ford thunderbird",
          "volkswagen rabbit custom",
          "pontiac sunbird coupe",
          "toyota corolla liftback",
          "ford mustang ii 2+2",
          "chevrolet chevette",
          "dodge colt m/m",
          "subaru dl",
          "volkswagen dasher",
          "datsun 810",
          "bmw 320i",
          "mazda rx-4",
          "volkswagen rabbit custom diesel",
          "ford fiesta",
          "mazda glc deluxe",
          "datsun b210 gx",
          "honda civic cvcc",
          "oldsmobile cutlass salon brougham",
          "dodge diplomat",
          "mercury monarch ghia",
          "pontiac phoenix lj",
          "chevrolet malibu",
          "ford fairmont (auto)",
          "ford fairmont (man)",
          "plymouth volare",
          "amc concord",
          "buick century special",
          "mercury zephyr",
          "dodge aspen",
          "amc concord d/l",
          "chevrolet monte carlo landau",
          "buick regal sport coupe (turbo)",
          "ford futura",
          "dodge magnum xe",
          "chevrolet chevette",
          "toyota corona",
          "datsun 510",
          "dodge omni",
          "toyota celica gt liftback",
          "plymouth sapporo",
          "oldsmobile starfire sx",
          "datsun 200-sx",
          "audi 5000",
          "volvo 264gl",
          "saab 99gle",
          "peugeot 604sl",
          "volkswagen scirocco",
          "honda accord lx",
          "pontiac lemans v6",
          "mercury zephyr 6",
          "ford fairmont 4",
          "amc concord dl 6",
          "dodge aspen 6",
          "chevrolet caprice classic",
          "ford ltd landau",
          "mercury grand marquis",
          "dodge st. regis",
          "buick estate wagon (sw)",
          "ford country squire (sw)",
          "chevrolet malibu classic (sw)",
          "chrysler lebaron town @ country (sw)",
          "vw rabbit custom",
          "maxda glc deluxe",
          "dodge colt hatchback custom",
          "amc spirit dl",
          "mercedes benz 300d",
          "cadillac eldorado",
          "peugeot 504",
          "oldsmobile cutlass salon brougham",
          "plymouth horizon",
          "plymouth horizon tc3",
          "datsun 210",
          "fiat strada custom",
          "buick skylark limited",
          "chevrolet citation",
          "oldsmobile omega brougham",
          "pontiac phoenix",
          "vw rabbit",
          "toyota corolla tercel",
          "chevrolet chevette",
          "datsun 310",
          "chevrolet citation",
          "ford fairmont",
          "amc concord",
          "dodge aspen",
          "audi 4000",
          "toyota corona liftback",
          "mazda 626",
          "datsun 510 hatchback",
          "toyota corolla",
          "mazda glc",
          "dodge colt",
          "datsun 210",
          "vw rabbit c (diesel)",
          "vw dasher (diesel)",
          "audi 5000s (diesel)",
          "mercedes-benz 240d",
          "honda civic 1500 gl",
          "renault lecar deluxe",
          "subaru dl",
          "vokswagen rabbit",
          "datsun 280-zx",
          "mazda rx-7 gs",
          "triumph tr7 coupe",
          "ford mustang cobra",
          "honda accord",
          "plymouth reliant",
          "buick skylark",
          "dodge aries wagon (sw)",
          "chevrolet citation",
          "plymouth reliant",
          "toyota starlet",
          "plymouth champ",
          "honda civic 1300",
          "subaru",
          "datsun 210 mpg",
          "toyota tercel",
          "mazda glc 4",
          "plymouth horizon 4",
          "ford escort 4w",
          "ford escort 2h",
          "volkswagen jetta",
          "renault 18i",
          "honda prelude",
          "toyota corolla",
          "datsun 200sx",
          "mazda 626",
          "peugeot 505s turbo diesel",
          "volvo diesel",
          "toyota cressida",
          "datsun 810 maxima",
          "buick century",
          "oldsmobile cutlass ls",
          "ford granada gl",
          "chrysler lebaron salon",
          "chevrolet cavalier",
          "chevrolet cavalier wagon",
          "chevrolet cavalier 2-door",
          "pontiac j2000 se hatchback",
          "dodge aries se",
          "pontiac phoenix",
          "ford fairmont futura",
          "amc concord dl",
          "volkswagen rabbit l",
          "mazda glc custom l",
          "mazda glc custom",
          "plymouth horizon miser",
          "mercury lynx l",
          "nissan stanza xe",
          "honda accord",
          "toyota corolla",
          "honda civic",
          "honda civic (auto)",
          "datsun 310 gx",
          "buick century limited",
          "oldsmobile cutlass ciera (diesel)",
          "chrysler lebaron medallion",
          "ford granada l",
          "toyota celica gt",
          "dodge charger 2.2",
          "chevrolet camaro",
          "ford mustang gl",
          "vw pickup",
          "dodge rampage",
          "ford ranger",
          "chevy s-10"
         ],
         "type": "scatter",
         "x": [
          "130",
          "165",
          "150",
          "150",
          "140",
          "198",
          "220",
          "215",
          "225",
          "190",
          "170",
          "160",
          "150",
          "225",
          "95",
          "95",
          "97",
          "85",
          "88",
          "46",
          "87",
          "90",
          "95",
          "113",
          "90",
          "215",
          "200",
          "210",
          "193",
          "88",
          "90",
          "95",
          "?",
          "100",
          "105",
          "100",
          "88",
          "100",
          "165",
          "175",
          "153",
          "150",
          "180",
          "170",
          "175",
          "110",
          "72",
          "100",
          "88",
          "86",
          "90",
          "70",
          "76",
          "65",
          "69",
          "60",
          "70",
          "95",
          "80",
          "54",
          "90",
          "86",
          "165",
          "175",
          "150",
          "153",
          "150",
          "208",
          "155",
          "160",
          "190",
          "97",
          "150",
          "130",
          "140",
          "150",
          "112",
          "76",
          "87",
          "69",
          "86",
          "92",
          "97",
          "80",
          "88",
          "175",
          "150",
          "145",
          "137",
          "150",
          "198",
          "150",
          "158",
          "150",
          "215",
          "225",
          "175",
          "105",
          "100",
          "100",
          "88",
          "95",
          "46",
          "150",
          "167",
          "170",
          "180",
          "100",
          "88",
          "72",
          "94",
          "90",
          "85",
          "107",
          "90",
          "145",
          "230",
          "49",
          "75",
          "91",
          "112",
          "150",
          "110",
          "122",
          "180",
          "95",
          "?",
          "100",
          "100",
          "67",
          "80",
          "65",
          "75",
          "100",
          "110",
          "105",
          "140",
          "150",
          "150",
          "140",
          "150",
          "83",
          "67",
          "78",
          "52",
          "61",
          "75",
          "75",
          "75",
          "97",
          "93",
          "67",
          "95",
          "105",
          "72",
          "72",
          "170",
          "145",
          "150",
          "148",
          "110",
          "105",
          "110",
          "95",
          "110",
          "110",
          "129",
          "75",
          "83",
          "100",
          "78",
          "96",
          "71",
          "97",
          "97",
          "70",
          "90",
          "95",
          "88",
          "98",
          "115",
          "53",
          "86",
          "81",
          "92",
          "79",
          "83",
          "140",
          "150",
          "120",
          "152",
          "100",
          "105",
          "81",
          "90",
          "52",
          "60",
          "70",
          "53",
          "100",
          "78",
          "110",
          "95",
          "71",
          "70",
          "75",
          "72",
          "102",
          "150",
          "88",
          "108",
          "120",
          "180",
          "145",
          "130",
          "150",
          "68",
          "80",
          "58",
          "96",
          "70",
          "145",
          "110",
          "145",
          "130",
          "110",
          "105",
          "100",
          "98",
          "180",
          "170",
          "190",
          "149",
          "78",
          "88",
          "75",
          "89",
          "63",
          "83",
          "67",
          "78",
          "97",
          "110",
          "110",
          "48",
          "66",
          "52",
          "70",
          "60",
          "110",
          "140",
          "139",
          "105",
          "95",
          "85",
          "88",
          "100",
          "90",
          "105",
          "85",
          "110",
          "120",
          "145",
          "165",
          "139",
          "140",
          "68",
          "95",
          "97",
          "75",
          "95",
          "105",
          "85",
          "97",
          "103",
          "125",
          "115",
          "133",
          "71",
          "68",
          "115",
          "85",
          "88",
          "90",
          "110",
          "130",
          "129",
          "138",
          "135",
          "155",
          "142",
          "125",
          "150",
          "71",
          "65",
          "80",
          "80",
          "77",
          "125",
          "71",
          "90",
          "70",
          "70",
          "65",
          "69",
          "90",
          "115",
          "115",
          "90",
          "76",
          "60",
          "70",
          "65",
          "90",
          "88",
          "90",
          "90",
          "78",
          "90",
          "75",
          "92",
          "75",
          "65",
          "105",
          "65",
          "48",
          "48",
          "67",
          "67",
          "67",
          "?",
          "67",
          "62",
          "132",
          "100",
          "88",
          "?",
          "72",
          "84",
          "84",
          "92",
          "110",
          "84",
          "58",
          "64",
          "60",
          "67",
          "65",
          "62",
          "68",
          "63",
          "65",
          "65",
          "74",
          "?",
          "75",
          "75",
          "100",
          "74",
          "80",
          "76",
          "116",
          "120",
          "110",
          "105",
          "88",
          "85",
          "88",
          "88",
          "88",
          "85",
          "84",
          "90",
          "92",
          "?",
          "74",
          "68",
          "68",
          "63",
          "70",
          "88",
          "75",
          "70",
          "67",
          "67",
          "67",
          "110",
          "85",
          "92",
          "112",
          "96",
          "84",
          "90",
          "86",
          "52",
          "84",
          "79",
          "82"
         ],
         "y": [
          18,
          15,
          18,
          16,
          17,
          15,
          14,
          14,
          14,
          15,
          15,
          14,
          15,
          14,
          24,
          22,
          18,
          21,
          27,
          26,
          25,
          24,
          25,
          26,
          21,
          10,
          10,
          11,
          9,
          27,
          28,
          25,
          25,
          19,
          16,
          17,
          19,
          18,
          14,
          14,
          14,
          14,
          12,
          13,
          13,
          18,
          22,
          19,
          18,
          23,
          28,
          30,
          30,
          31,
          35,
          27,
          26,
          24,
          25,
          23,
          20,
          21,
          13,
          14,
          15,
          14,
          17,
          11,
          13,
          12,
          13,
          19,
          15,
          13,
          13,
          14,
          18,
          22,
          21,
          26,
          22,
          28,
          23,
          28,
          27,
          13,
          14,
          13,
          14,
          15,
          12,
          13,
          13,
          14,
          13,
          12,
          13,
          18,
          16,
          18,
          18,
          23,
          26,
          11,
          12,
          13,
          12,
          18,
          20,
          21,
          22,
          18,
          19,
          21,
          26,
          15,
          16,
          29,
          24,
          20,
          19,
          15,
          24,
          20,
          11,
          20,
          21,
          19,
          15,
          31,
          26,
          32,
          25,
          16,
          16,
          18,
          16,
          13,
          14,
          14,
          14,
          29,
          26,
          26,
          31,
          32,
          28,
          24,
          26,
          24,
          26,
          31,
          19,
          18,
          15,
          15,
          16,
          15,
          16,
          14,
          17,
          16,
          15,
          18,
          21,
          20,
          13,
          29,
          23,
          20,
          23,
          24,
          25,
          24,
          18,
          29,
          19,
          23,
          23,
          22,
          25,
          33,
          28,
          25,
          25,
          26,
          27,
          17.5,
          16,
          15.5,
          14.5,
          22,
          22,
          24,
          22.5,
          29,
          24.5,
          29,
          33,
          20,
          18,
          18.5,
          17.5,
          29.5,
          32,
          28,
          26.5,
          20,
          13,
          19,
          19,
          16.5,
          16.5,
          13,
          13,
          13,
          31.5,
          30,
          36,
          25.5,
          33.5,
          17.5,
          17,
          15.5,
          15,
          17.5,
          20.5,
          19,
          18.5,
          16,
          15.5,
          15.5,
          16,
          29,
          24.5,
          26,
          25.5,
          30.5,
          33.5,
          30,
          30.5,
          22,
          21.5,
          21.5,
          43.1,
          36.1,
          32.8,
          39.4,
          36.1,
          19.9,
          19.4,
          20.2,
          19.2,
          20.5,
          20.2,
          25.1,
          20.5,
          19.4,
          20.6,
          20.8,
          18.6,
          18.1,
          19.2,
          17.7,
          18.1,
          17.5,
          30,
          27.5,
          27.2,
          30.9,
          21.1,
          23.2,
          23.8,
          23.9,
          20.3,
          17,
          21.6,
          16.2,
          31.5,
          29.5,
          21.5,
          19.8,
          22.3,
          20.2,
          20.6,
          17,
          17.6,
          16.5,
          18.2,
          16.9,
          15.5,
          19.2,
          18.5,
          31.9,
          34.1,
          35.7,
          27.4,
          25.4,
          23,
          27.2,
          23.9,
          34.2,
          34.5,
          31.8,
          37.3,
          28.4,
          28.8,
          26.8,
          33.5,
          41.5,
          38.1,
          32.1,
          37.2,
          28,
          26.4,
          24.3,
          19.1,
          34.3,
          29.8,
          31.3,
          37,
          32.2,
          46.6,
          27.9,
          40.8,
          44.3,
          43.4,
          36.4,
          30,
          44.6,
          40.9,
          33.8,
          29.8,
          32.7,
          23.7,
          35,
          23.6,
          32.4,
          27.2,
          26.6,
          25.8,
          23.5,
          30,
          39.1,
          39,
          35.1,
          32.3,
          37,
          37.7,
          34.1,
          34.7,
          34.4,
          29.9,
          33,
          34.5,
          33.7,
          32.4,
          32.9,
          31.6,
          28.1,
          30.7,
          25.4,
          24.2,
          22.4,
          26.6,
          20.2,
          17.6,
          28,
          27,
          34,
          31,
          29,
          27,
          24,
          23,
          36,
          37,
          31,
          38,
          36,
          36,
          36,
          34,
          38,
          32,
          38,
          25,
          38,
          26,
          22,
          32,
          36,
          27,
          27,
          44,
          32,
          28,
          31
         ]
        }
       ],
       "layout": {
        "template": {
         "data": {
          "bar": [
           {
            "error_x": {
             "color": "#2a3f5f"
            },
            "error_y": {
             "color": "#2a3f5f"
            },
            "marker": {
             "line": {
              "color": "#E5ECF6",
              "width": 0.5
             }
            },
            "type": "bar"
           }
          ],
          "barpolar": [
           {
            "marker": {
             "line": {
              "color": "#E5ECF6",
              "width": 0.5
             }
            },
            "type": "barpolar"
           }
          ],
          "carpet": [
           {
            "aaxis": {
             "endlinecolor": "#2a3f5f",
             "gridcolor": "white",
             "linecolor": "white",
             "minorgridcolor": "white",
             "startlinecolor": "#2a3f5f"
            },
            "baxis": {
             "endlinecolor": "#2a3f5f",
             "gridcolor": "white",
             "linecolor": "white",
             "minorgridcolor": "white",
             "startlinecolor": "#2a3f5f"
            },
            "type": "carpet"
           }
          ],
          "choropleth": [
           {
            "colorbar": {
             "outlinewidth": 0,
             "ticks": ""
            },
            "type": "choropleth"
           }
          ],
          "contour": [
           {
            "colorbar": {
             "outlinewidth": 0,
             "ticks": ""
            },
            "colorscale": [
             [
              0,
              "#0d0887"
             ],
             [
              0.1111111111111111,
              "#46039f"
             ],
             [
              0.2222222222222222,
              "#7201a8"
             ],
             [
              0.3333333333333333,
              "#9c179e"
             ],
             [
              0.4444444444444444,
              "#bd3786"
             ],
             [
              0.5555555555555556,
              "#d8576b"
             ],
             [
              0.6666666666666666,
              "#ed7953"
             ],
             [
              0.7777777777777778,
              "#fb9f3a"
             ],
             [
              0.8888888888888888,
              "#fdca26"
             ],
             [
              1,
              "#f0f921"
             ]
            ],
            "type": "contour"
           }
          ],
          "contourcarpet": [
           {
            "colorbar": {
             "outlinewidth": 0,
             "ticks": ""
            },
            "type": "contourcarpet"
           }
          ],
          "heatmap": [
           {
            "colorbar": {
             "outlinewidth": 0,
             "ticks": ""
            },
            "colorscale": [
             [
              0,
              "#0d0887"
             ],
             [
              0.1111111111111111,
              "#46039f"
             ],
             [
              0.2222222222222222,
              "#7201a8"
             ],
             [
              0.3333333333333333,
              "#9c179e"
             ],
             [
              0.4444444444444444,
              "#bd3786"
             ],
             [
              0.5555555555555556,
              "#d8576b"
             ],
             [
              0.6666666666666666,
              "#ed7953"
             ],
             [
              0.7777777777777778,
              "#fb9f3a"
             ],
             [
              0.8888888888888888,
              "#fdca26"
             ],
             [
              1,
              "#f0f921"
             ]
            ],
            "type": "heatmap"
           }
          ],
          "heatmapgl": [
           {
            "colorbar": {
             "outlinewidth": 0,
             "ticks": ""
            },
            "colorscale": [
             [
              0,
              "#0d0887"
             ],
             [
              0.1111111111111111,
              "#46039f"
             ],
             [
              0.2222222222222222,
              "#7201a8"
             ],
             [
              0.3333333333333333,
              "#9c179e"
             ],
             [
              0.4444444444444444,
              "#bd3786"
             ],
             [
              0.5555555555555556,
              "#d8576b"
             ],
             [
              0.6666666666666666,
              "#ed7953"
             ],
             [
              0.7777777777777778,
              "#fb9f3a"
             ],
             [
              0.8888888888888888,
              "#fdca26"
             ],
             [
              1,
              "#f0f921"
             ]
            ],
            "type": "heatmapgl"
           }
          ],
          "histogram": [
           {
            "marker": {
             "colorbar": {
              "outlinewidth": 0,
              "ticks": ""
             }
            },
            "type": "histogram"
           }
          ],
          "histogram2d": [
           {
            "colorbar": {
             "outlinewidth": 0,
             "ticks": ""
            },
            "colorscale": [
             [
              0,
              "#0d0887"
             ],
             [
              0.1111111111111111,
              "#46039f"
             ],
             [
              0.2222222222222222,
              "#7201a8"
             ],
             [
              0.3333333333333333,
              "#9c179e"
             ],
             [
              0.4444444444444444,
              "#bd3786"
             ],
             [
              0.5555555555555556,
              "#d8576b"
             ],
             [
              0.6666666666666666,
              "#ed7953"
             ],
             [
              0.7777777777777778,
              "#fb9f3a"
             ],
             [
              0.8888888888888888,
              "#fdca26"
             ],
             [
              1,
              "#f0f921"
             ]
            ],
            "type": "histogram2d"
           }
          ],
          "histogram2dcontour": [
           {
            "colorbar": {
             "outlinewidth": 0,
             "ticks": ""
            },
            "colorscale": [
             [
              0,
              "#0d0887"
             ],
             [
              0.1111111111111111,
              "#46039f"
             ],
             [
              0.2222222222222222,
              "#7201a8"
             ],
             [
              0.3333333333333333,
              "#9c179e"
             ],
             [
              0.4444444444444444,
              "#bd3786"
             ],
             [
              0.5555555555555556,
              "#d8576b"
             ],
             [
              0.6666666666666666,
              "#ed7953"
             ],
             [
              0.7777777777777778,
              "#fb9f3a"
             ],
             [
              0.8888888888888888,
              "#fdca26"
             ],
             [
              1,
              "#f0f921"
             ]
            ],
            "type": "histogram2dcontour"
           }
          ],
          "mesh3d": [
           {
            "colorbar": {
             "outlinewidth": 0,
             "ticks": ""
            },
            "type": "mesh3d"
           }
          ],
          "parcoords": [
           {
            "line": {
             "colorbar": {
              "outlinewidth": 0,
              "ticks": ""
             }
            },
            "type": "parcoords"
           }
          ],
          "pie": [
           {
            "automargin": true,
            "type": "pie"
           }
          ],
          "scatter": [
           {
            "marker": {
             "colorbar": {
              "outlinewidth": 0,
              "ticks": ""
             }
            },
            "type": "scatter"
           }
          ],
          "scatter3d": [
           {
            "line": {
             "colorbar": {
              "outlinewidth": 0,
              "ticks": ""
             }
            },
            "marker": {
             "colorbar": {
              "outlinewidth": 0,
              "ticks": ""
             }
            },
            "type": "scatter3d"
           }
          ],
          "scattercarpet": [
           {
            "marker": {
             "colorbar": {
              "outlinewidth": 0,
              "ticks": ""
             }
            },
            "type": "scattercarpet"
           }
          ],
          "scattergeo": [
           {
            "marker": {
             "colorbar": {
              "outlinewidth": 0,
              "ticks": ""
             }
            },
            "type": "scattergeo"
           }
          ],
          "scattergl": [
           {
            "marker": {
             "colorbar": {
              "outlinewidth": 0,
              "ticks": ""
             }
            },
            "type": "scattergl"
           }
          ],
          "scattermapbox": [
           {
            "marker": {
             "colorbar": {
              "outlinewidth": 0,
              "ticks": ""
             }
            },
            "type": "scattermapbox"
           }
          ],
          "scatterpolar": [
           {
            "marker": {
             "colorbar": {
              "outlinewidth": 0,
              "ticks": ""
             }
            },
            "type": "scatterpolar"
           }
          ],
          "scatterpolargl": [
           {
            "marker": {
             "colorbar": {
              "outlinewidth": 0,
              "ticks": ""
             }
            },
            "type": "scatterpolargl"
           }
          ],
          "scatterternary": [
           {
            "marker": {
             "colorbar": {
              "outlinewidth": 0,
              "ticks": ""
             }
            },
            "type": "scatterternary"
           }
          ],
          "surface": [
           {
            "colorbar": {
             "outlinewidth": 0,
             "ticks": ""
            },
            "colorscale": [
             [
              0,
              "#0d0887"
             ],
             [
              0.1111111111111111,
              "#46039f"
             ],
             [
              0.2222222222222222,
              "#7201a8"
             ],
             [
              0.3333333333333333,
              "#9c179e"
             ],
             [
              0.4444444444444444,
              "#bd3786"
             ],
             [
              0.5555555555555556,
              "#d8576b"
             ],
             [
              0.6666666666666666,
              "#ed7953"
             ],
             [
              0.7777777777777778,
              "#fb9f3a"
             ],
             [
              0.8888888888888888,
              "#fdca26"
             ],
             [
              1,
              "#f0f921"
             ]
            ],
            "type": "surface"
           }
          ],
          "table": [
           {
            "cells": {
             "fill": {
              "color": "#EBF0F8"
             },
             "line": {
              "color": "white"
             }
            },
            "header": {
             "fill": {
              "color": "#C8D4E3"
             },
             "line": {
              "color": "white"
             }
            },
            "type": "table"
           }
          ]
         },
         "layout": {
          "annotationdefaults": {
           "arrowcolor": "#2a3f5f",
           "arrowhead": 0,
           "arrowwidth": 1
          },
          "coloraxis": {
           "colorbar": {
            "outlinewidth": 0,
            "ticks": ""
           }
          },
          "colorscale": {
           "diverging": [
            [
             0,
             "#8e0152"
            ],
            [
             0.1,
             "#c51b7d"
            ],
            [
             0.2,
             "#de77ae"
            ],
            [
             0.3,
             "#f1b6da"
            ],
            [
             0.4,
             "#fde0ef"
            ],
            [
             0.5,
             "#f7f7f7"
            ],
            [
             0.6,
             "#e6f5d0"
            ],
            [
             0.7,
             "#b8e186"
            ],
            [
             0.8,
             "#7fbc41"
            ],
            [
             0.9,
             "#4d9221"
            ],
            [
             1,
             "#276419"
            ]
           ],
           "sequential": [
            [
             0,
             "#0d0887"
            ],
            [
             0.1111111111111111,
             "#46039f"
            ],
            [
             0.2222222222222222,
             "#7201a8"
            ],
            [
             0.3333333333333333,
             "#9c179e"
            ],
            [
             0.4444444444444444,
             "#bd3786"
            ],
            [
             0.5555555555555556,
             "#d8576b"
            ],
            [
             0.6666666666666666,
             "#ed7953"
            ],
            [
             0.7777777777777778,
             "#fb9f3a"
            ],
            [
             0.8888888888888888,
             "#fdca26"
            ],
            [
             1,
             "#f0f921"
            ]
           ],
           "sequentialminus": [
            [
             0,
             "#0d0887"
            ],
            [
             0.1111111111111111,
             "#46039f"
            ],
            [
             0.2222222222222222,
             "#7201a8"
            ],
            [
             0.3333333333333333,
             "#9c179e"
            ],
            [
             0.4444444444444444,
             "#bd3786"
            ],
            [
             0.5555555555555556,
             "#d8576b"
            ],
            [
             0.6666666666666666,
             "#ed7953"
            ],
            [
             0.7777777777777778,
             "#fb9f3a"
            ],
            [
             0.8888888888888888,
             "#fdca26"
            ],
            [
             1,
             "#f0f921"
            ]
           ]
          },
          "colorway": [
           "#636efa",
           "#EF553B",
           "#00cc96",
           "#ab63fa",
           "#FFA15A",
           "#19d3f3",
           "#FF6692",
           "#B6E880",
           "#FF97FF",
           "#FECB52"
          ],
          "font": {
           "color": "#2a3f5f"
          },
          "geo": {
           "bgcolor": "white",
           "lakecolor": "white",
           "landcolor": "#E5ECF6",
           "showlakes": true,
           "showland": true,
           "subunitcolor": "white"
          },
          "hoverlabel": {
           "align": "left"
          },
          "hovermode": "closest",
          "mapbox": {
           "style": "light"
          },
          "paper_bgcolor": "white",
          "plot_bgcolor": "#E5ECF6",
          "polar": {
           "angularaxis": {
            "gridcolor": "white",
            "linecolor": "white",
            "ticks": ""
           },
           "bgcolor": "#E5ECF6",
           "radialaxis": {
            "gridcolor": "white",
            "linecolor": "white",
            "ticks": ""
           }
          },
          "scene": {
           "xaxis": {
            "backgroundcolor": "#E5ECF6",
            "gridcolor": "white",
            "gridwidth": 2,
            "linecolor": "white",
            "showbackground": true,
            "ticks": "",
            "zerolinecolor": "white"
           },
           "yaxis": {
            "backgroundcolor": "#E5ECF6",
            "gridcolor": "white",
            "gridwidth": 2,
            "linecolor": "white",
            "showbackground": true,
            "ticks": "",
            "zerolinecolor": "white"
           },
           "zaxis": {
            "backgroundcolor": "#E5ECF6",
            "gridcolor": "white",
            "gridwidth": 2,
            "linecolor": "white",
            "showbackground": true,
            "ticks": "",
            "zerolinecolor": "white"
           }
          },
          "shapedefaults": {
           "line": {
            "color": "#2a3f5f"
           }
          },
          "ternary": {
           "aaxis": {
            "gridcolor": "white",
            "linecolor": "white",
            "ticks": ""
           },
           "baxis": {
            "gridcolor": "white",
            "linecolor": "white",
            "ticks": ""
           },
           "bgcolor": "#E5ECF6",
           "caxis": {
            "gridcolor": "white",
            "linecolor": "white",
            "ticks": ""
           }
          },
          "title": {
           "x": 0.05
          },
          "xaxis": {
           "automargin": true,
           "gridcolor": "white",
           "linecolor": "white",
           "ticks": "",
           "title": {
            "standoff": 15
           },
           "zerolinecolor": "white",
           "zerolinewidth": 2
          },
          "yaxis": {
           "automargin": true,
           "gridcolor": "white",
           "linecolor": "white",
           "ticks": "",
           "title": {
            "standoff": 15
           },
           "zerolinecolor": "white",
           "zerolinewidth": 2
          }
         }
        },
        "title": {
         "text": "Coches"
        },
        "xaxis": {
         "title": {
          "text": "Horsepower"
         }
        },
        "yaxis": {
         "title": {
          "text": "consumo (mpg)"
         }
        }
       }
      },
      "text/html": [
       "<div>\n",
       "        \n",
       "        \n",
       "            <div id=\"d6ee5c39-8c69-408e-8198-6361f57c198d\" class=\"plotly-graph-div\" style=\"height:525px; width:100%;\"></div>\n",
       "            <script type=\"text/javascript\">\n",
       "                require([\"plotly\"], function(Plotly) {\n",
       "                    window.PLOTLYENV=window.PLOTLYENV || {};\n",
       "                    \n",
       "                if (document.getElementById(\"d6ee5c39-8c69-408e-8198-6361f57c198d\")) {\n",
       "                    Plotly.newPlot(\n",
       "                        'd6ee5c39-8c69-408e-8198-6361f57c198d',\n",
       "                        [{\"marker\": {\"color\": [8, 8, 8, 8, 8, 8, 8, 8, 8, 8, 8, 8, 8, 8, 4, 6, 6, 6, 4, 4, 4, 4, 4, 4, 6, 8, 8, 8, 8, 4, 4, 4, 4, 6, 6, 6, 6, 6, 8, 8, 8, 8, 8, 8, 8, 6, 4, 6, 6, 4, 4, 4, 4, 4, 4, 4, 4, 4, 4, 4, 4, 4, 8, 8, 8, 8, 8, 8, 8, 8, 8, 3, 8, 8, 8, 8, 4, 4, 4, 4, 4, 4, 4, 4, 4, 8, 8, 8, 8, 8, 8, 8, 8, 8, 8, 8, 8, 6, 6, 6, 6, 6, 4, 8, 8, 8, 8, 6, 4, 4, 4, 3, 4, 6, 4, 8, 8, 4, 4, 4, 4, 8, 4, 6, 8, 6, 6, 6, 6, 4, 4, 4, 4, 6, 6, 6, 8, 8, 8, 8, 8, 4, 4, 4, 4, 4, 4, 4, 4, 4, 4, 4, 6, 6, 6, 6, 8, 8, 8, 8, 6, 6, 6, 6, 6, 8, 8, 4, 4, 6, 4, 4, 4, 4, 6, 4, 6, 4, 4, 4, 4, 4, 4, 4, 4, 4, 4, 8, 8, 8, 8, 6, 6, 6, 6, 4, 4, 4, 4, 6, 6, 6, 6, 4, 4, 4, 4, 4, 8, 4, 6, 6, 8, 8, 8, 8, 4, 4, 4, 4, 4, 8, 8, 8, 8, 6, 6, 6, 6, 8, 8, 8, 8, 4, 4, 4, 4, 4, 4, 4, 4, 6, 4, 3, 4, 4, 4, 4, 4, 8, 8, 8, 6, 6, 6, 4, 6, 6, 6, 6, 6, 6, 8, 6, 8, 8, 4, 4, 4, 4, 4, 4, 4, 4, 5, 6, 4, 6, 4, 4, 6, 6, 4, 6, 6, 8, 8, 8, 8, 8, 8, 8, 8, 4, 4, 4, 4, 5, 8, 4, 8, 4, 4, 4, 4, 4, 6, 6, 4, 4, 4, 4, 4, 4, 4, 4, 6, 4, 4, 4, 4, 4, 4, 4, 4, 4, 4, 5, 4, 4, 4, 4, 4, 6, 3, 4, 4, 4, 4, 4, 4, 6, 4, 4, 4, 4, 4, 4, 4, 4, 4, 4, 4, 4, 4, 4, 4, 4, 4, 4, 6, 6, 6, 6, 8, 6, 6, 4, 4, 4, 4, 4, 4, 4, 4, 4, 4, 4, 4, 4, 4, 4, 4, 4, 4, 4, 6, 6, 4, 6, 4, 4, 4, 4, 4, 4, 4, 4], \"showscale\": true, \"size\": [8, 8, 8, 8, 8, 8, 8, 8, 8, 8, 8, 8, 8, 8, 4, 6, 6, 6, 4, 4, 4, 4, 4, 4, 6, 8, 8, 8, 8, 4, 4, 4, 4, 6, 6, 6, 6, 6, 8, 8, 8, 8, 8, 8, 8, 6, 4, 6, 6, 4, 4, 4, 4, 4, 4, 4, 4, 4, 4, 4, 4, 4, 8, 8, 8, 8, 8, 8, 8, 8, 8, 3, 8, 8, 8, 8, 4, 4, 4, 4, 4, 4, 4, 4, 4, 8, 8, 8, 8, 8, 8, 8, 8, 8, 8, 8, 8, 6, 6, 6, 6, 6, 4, 8, 8, 8, 8, 6, 4, 4, 4, 3, 4, 6, 4, 8, 8, 4, 4, 4, 4, 8, 4, 6, 8, 6, 6, 6, 6, 4, 4, 4, 4, 6, 6, 6, 8, 8, 8, 8, 8, 4, 4, 4, 4, 4, 4, 4, 4, 4, 4, 4, 6, 6, 6, 6, 8, 8, 8, 8, 6, 6, 6, 6, 6, 8, 8, 4, 4, 6, 4, 4, 4, 4, 6, 4, 6, 4, 4, 4, 4, 4, 4, 4, 4, 4, 4, 8, 8, 8, 8, 6, 6, 6, 6, 4, 4, 4, 4, 6, 6, 6, 6, 4, 4, 4, 4, 4, 8, 4, 6, 6, 8, 8, 8, 8, 4, 4, 4, 4, 4, 8, 8, 8, 8, 6, 6, 6, 6, 8, 8, 8, 8, 4, 4, 4, 4, 4, 4, 4, 4, 6, 4, 3, 4, 4, 4, 4, 4, 8, 8, 8, 6, 6, 6, 4, 6, 6, 6, 6, 6, 6, 8, 6, 8, 8, 4, 4, 4, 4, 4, 4, 4, 4, 5, 6, 4, 6, 4, 4, 6, 6, 4, 6, 6, 8, 8, 8, 8, 8, 8, 8, 8, 4, 4, 4, 4, 5, 8, 4, 8, 4, 4, 4, 4, 4, 6, 6, 4, 4, 4, 4, 4, 4, 4, 4, 6, 4, 4, 4, 4, 4, 4, 4, 4, 4, 4, 5, 4, 4, 4, 4, 4, 6, 3, 4, 4, 4, 4, 4, 4, 6, 4, 4, 4, 4, 4, 4, 4, 4, 4, 4, 4, 4, 4, 4, 4, 4, 4, 4, 6, 6, 6, 6, 8, 6, 6, 4, 4, 4, 4, 4, 4, 4, 4, 4, 4, 4, 4, 4, 4, 4, 4, 4, 4, 4, 6, 6, 4, 6, 4, 4, 4, 4, 4, 4, 4, 4]}, \"mode\": \"markers\", \"text\": [\"chevrolet chevelle malibu\", \"buick skylark 320\", \"plymouth satellite\", \"amc rebel sst\", \"ford torino\", \"ford galaxie 500\", \"chevrolet impala\", \"plymouth fury iii\", \"pontiac catalina\", \"amc ambassador dpl\", \"dodge challenger se\", \"plymouth 'cuda 340\", \"chevrolet monte carlo\", \"buick estate wagon (sw)\", \"toyota corona mark ii\", \"plymouth duster\", \"amc hornet\", \"ford maverick\", \"datsun pl510\", \"volkswagen 1131 deluxe sedan\", \"peugeot 504\", \"audi 100 ls\", \"saab 99e\", \"bmw 2002\", \"amc gremlin\", \"ford f250\", \"chevy c20\", \"dodge d200\", \"hi 1200d\", \"datsun pl510\", \"chevrolet vega 2300\", \"toyota corona\", \"ford pinto\", \"amc gremlin\", \"plymouth satellite custom\", \"chevrolet chevelle malibu\", \"ford torino 500\", \"amc matador\", \"chevrolet impala\", \"pontiac catalina brougham\", \"ford galaxie 500\", \"plymouth fury iii\", \"dodge monaco (sw)\", \"ford country squire (sw)\", \"pontiac safari (sw)\", \"amc hornet sportabout (sw)\", \"chevrolet vega (sw)\", \"pontiac firebird\", \"ford mustang\", \"mercury capri 2000\", \"opel 1900\", \"peugeot 304\", \"fiat 124b\", \"toyota corolla 1200\", \"datsun 1200\", \"volkswagen model 111\", \"plymouth cricket\", \"toyota corona hardtop\", \"dodge colt hardtop\", \"volkswagen type 3\", \"chevrolet vega\", \"ford pinto runabout\", \"chevrolet impala\", \"pontiac catalina\", \"plymouth fury iii\", \"ford galaxie 500\", \"amc ambassador sst\", \"mercury marquis\", \"buick lesabre custom\", \"oldsmobile delta 88 royale\", \"chrysler newport royal\", \"mazda rx2 coupe\", \"amc matador (sw)\", \"chevrolet chevelle concours (sw)\", \"ford gran torino (sw)\", \"plymouth satellite custom (sw)\", \"volvo 145e (sw)\", \"volkswagen 411 (sw)\", \"peugeot 504 (sw)\", \"renault 12 (sw)\", \"ford pinto (sw)\", \"datsun 510 (sw)\", \"toyouta corona mark ii (sw)\", \"dodge colt (sw)\", \"toyota corolla 1600 (sw)\", \"buick century 350\", \"amc matador\", \"chevrolet malibu\", \"ford gran torino\", \"dodge coronet custom\", \"mercury marquis brougham\", \"chevrolet caprice classic\", \"ford ltd\", \"plymouth fury gran sedan\", \"chrysler new yorker brougham\", \"buick electra 225 custom\", \"amc ambassador brougham\", \"plymouth valiant\", \"chevrolet nova custom\", \"amc hornet\", \"ford maverick\", \"plymouth duster\", \"volkswagen super beetle\", \"chevrolet impala\", \"ford country\", \"plymouth custom suburb\", \"oldsmobile vista cruiser\", \"amc gremlin\", \"toyota carina\", \"chevrolet vega\", \"datsun 610\", \"maxda rx3\", \"ford pinto\", \"mercury capri v6\", \"fiat 124 sport coupe\", \"chevrolet monte carlo s\", \"pontiac grand prix\", \"fiat 128\", \"opel manta\", \"audi 100ls\", \"volvo 144ea\", \"dodge dart custom\", \"saab 99le\", \"toyota mark ii\", \"oldsmobile omega\", \"plymouth duster\", \"ford maverick\", \"amc hornet\", \"chevrolet nova\", \"datsun b210\", \"ford pinto\", \"toyota corolla 1200\", \"chevrolet vega\", \"chevrolet chevelle malibu classic\", \"amc matador\", \"plymouth satellite sebring\", \"ford gran torino\", \"buick century luxus (sw)\", \"dodge coronet custom (sw)\", \"ford gran torino (sw)\", \"amc matador (sw)\", \"audi fox\", \"volkswagen dasher\", \"opel manta\", \"toyota corona\", \"datsun 710\", \"dodge colt\", \"fiat 128\", \"fiat 124 tc\", \"honda civic\", \"subaru\", \"fiat x1.9\", \"plymouth valiant custom\", \"chevrolet nova\", \"mercury monarch\", \"ford maverick\", \"pontiac catalina\", \"chevrolet bel air\", \"plymouth grand fury\", \"ford ltd\", \"buick century\", \"chevroelt chevelle malibu\", \"amc matador\", \"plymouth fury\", \"buick skyhawk\", \"chevrolet monza 2+2\", \"ford mustang ii\", \"toyota corolla\", \"ford pinto\", \"amc gremlin\", \"pontiac astro\", \"toyota corona\", \"volkswagen dasher\", \"datsun 710\", \"ford pinto\", \"volkswagen rabbit\", \"amc pacer\", \"audi 100ls\", \"peugeot 504\", \"volvo 244dl\", \"saab 99le\", \"honda civic cvcc\", \"fiat 131\", \"opel 1900\", \"capri ii\", \"dodge colt\", \"renault 12tl\", \"chevrolet chevelle malibu classic\", \"dodge coronet brougham\", \"amc matador\", \"ford gran torino\", \"plymouth valiant\", \"chevrolet nova\", \"ford maverick\", \"amc hornet\", \"chevrolet chevette\", \"chevrolet woody\", \"vw rabbit\", \"honda civic\", \"dodge aspen se\", \"ford granada ghia\", \"pontiac ventura sj\", \"amc pacer d/l\", \"volkswagen rabbit\", \"datsun b-210\", \"toyota corolla\", \"ford pinto\", \"volvo 245\", \"plymouth volare premier v8\", \"peugeot 504\", \"toyota mark ii\", \"mercedes-benz 280s\", \"cadillac seville\", \"chevy c10\", \"ford f108\", \"dodge d100\", \"honda accord cvcc\", \"buick opel isuzu deluxe\", \"renault 5 gtl\", \"plymouth arrow gs\", \"datsun f-10 hatchback\", \"chevrolet caprice classic\", \"oldsmobile cutlass supreme\", \"dodge monaco brougham\", \"mercury cougar brougham\", \"chevrolet concours\", \"buick skylark\", \"plymouth volare custom\", \"ford granada\", \"pontiac grand prix lj\", \"chevrolet monte carlo landau\", \"chrysler cordoba\", \"ford thunderbird\", \"volkswagen rabbit custom\", \"pontiac sunbird coupe\", \"toyota corolla liftback\", \"ford mustang ii 2+2\", \"chevrolet chevette\", \"dodge colt m/m\", \"subaru dl\", \"volkswagen dasher\", \"datsun 810\", \"bmw 320i\", \"mazda rx-4\", \"volkswagen rabbit custom diesel\", \"ford fiesta\", \"mazda glc deluxe\", \"datsun b210 gx\", \"honda civic cvcc\", \"oldsmobile cutlass salon brougham\", \"dodge diplomat\", \"mercury monarch ghia\", \"pontiac phoenix lj\", \"chevrolet malibu\", \"ford fairmont (auto)\", \"ford fairmont (man)\", \"plymouth volare\", \"amc concord\", \"buick century special\", \"mercury zephyr\", \"dodge aspen\", \"amc concord d/l\", \"chevrolet monte carlo landau\", \"buick regal sport coupe (turbo)\", \"ford futura\", \"dodge magnum xe\", \"chevrolet chevette\", \"toyota corona\", \"datsun 510\", \"dodge omni\", \"toyota celica gt liftback\", \"plymouth sapporo\", \"oldsmobile starfire sx\", \"datsun 200-sx\", \"audi 5000\", \"volvo 264gl\", \"saab 99gle\", \"peugeot 604sl\", \"volkswagen scirocco\", \"honda accord lx\", \"pontiac lemans v6\", \"mercury zephyr 6\", \"ford fairmont 4\", \"amc concord dl 6\", \"dodge aspen 6\", \"chevrolet caprice classic\", \"ford ltd landau\", \"mercury grand marquis\", \"dodge st. regis\", \"buick estate wagon (sw)\", \"ford country squire (sw)\", \"chevrolet malibu classic (sw)\", \"chrysler lebaron town @ country (sw)\", \"vw rabbit custom\", \"maxda glc deluxe\", \"dodge colt hatchback custom\", \"amc spirit dl\", \"mercedes benz 300d\", \"cadillac eldorado\", \"peugeot 504\", \"oldsmobile cutlass salon brougham\", \"plymouth horizon\", \"plymouth horizon tc3\", \"datsun 210\", \"fiat strada custom\", \"buick skylark limited\", \"chevrolet citation\", \"oldsmobile omega brougham\", \"pontiac phoenix\", \"vw rabbit\", \"toyota corolla tercel\", \"chevrolet chevette\", \"datsun 310\", \"chevrolet citation\", \"ford fairmont\", \"amc concord\", \"dodge aspen\", \"audi 4000\", \"toyota corona liftback\", \"mazda 626\", \"datsun 510 hatchback\", \"toyota corolla\", \"mazda glc\", \"dodge colt\", \"datsun 210\", \"vw rabbit c (diesel)\", \"vw dasher (diesel)\", \"audi 5000s (diesel)\", \"mercedes-benz 240d\", \"honda civic 1500 gl\", \"renault lecar deluxe\", \"subaru dl\", \"vokswagen rabbit\", \"datsun 280-zx\", \"mazda rx-7 gs\", \"triumph tr7 coupe\", \"ford mustang cobra\", \"honda accord\", \"plymouth reliant\", \"buick skylark\", \"dodge aries wagon (sw)\", \"chevrolet citation\", \"plymouth reliant\", \"toyota starlet\", \"plymouth champ\", \"honda civic 1300\", \"subaru\", \"datsun 210 mpg\", \"toyota tercel\", \"mazda glc 4\", \"plymouth horizon 4\", \"ford escort 4w\", \"ford escort 2h\", \"volkswagen jetta\", \"renault 18i\", \"honda prelude\", \"toyota corolla\", \"datsun 200sx\", \"mazda 626\", \"peugeot 505s turbo diesel\", \"volvo diesel\", \"toyota cressida\", \"datsun 810 maxima\", \"buick century\", \"oldsmobile cutlass ls\", \"ford granada gl\", \"chrysler lebaron salon\", \"chevrolet cavalier\", \"chevrolet cavalier wagon\", \"chevrolet cavalier 2-door\", \"pontiac j2000 se hatchback\", \"dodge aries se\", \"pontiac phoenix\", \"ford fairmont futura\", \"amc concord dl\", \"volkswagen rabbit l\", \"mazda glc custom l\", \"mazda glc custom\", \"plymouth horizon miser\", \"mercury lynx l\", \"nissan stanza xe\", \"honda accord\", \"toyota corolla\", \"honda civic\", \"honda civic (auto)\", \"datsun 310 gx\", \"buick century limited\", \"oldsmobile cutlass ciera (diesel)\", \"chrysler lebaron medallion\", \"ford granada l\", \"toyota celica gt\", \"dodge charger 2.2\", \"chevrolet camaro\", \"ford mustang gl\", \"vw pickup\", \"dodge rampage\", \"ford ranger\", \"chevy s-10\"], \"type\": \"scatter\", \"x\": [\"130\", \"165\", \"150\", \"150\", \"140\", \"198\", \"220\", \"215\", \"225\", \"190\", \"170\", \"160\", \"150\", \"225\", \"95\", \"95\", \"97\", \"85\", \"88\", \"46\", \"87\", \"90\", \"95\", \"113\", \"90\", \"215\", \"200\", \"210\", \"193\", \"88\", \"90\", \"95\", \"?\", \"100\", \"105\", \"100\", \"88\", \"100\", \"165\", \"175\", \"153\", \"150\", \"180\", \"170\", \"175\", \"110\", \"72\", \"100\", \"88\", \"86\", \"90\", \"70\", \"76\", \"65\", \"69\", \"60\", \"70\", \"95\", \"80\", \"54\", \"90\", \"86\", \"165\", \"175\", \"150\", \"153\", \"150\", \"208\", \"155\", \"160\", \"190\", \"97\", \"150\", \"130\", \"140\", \"150\", \"112\", \"76\", \"87\", \"69\", \"86\", \"92\", \"97\", \"80\", \"88\", \"175\", \"150\", \"145\", \"137\", \"150\", \"198\", \"150\", \"158\", \"150\", \"215\", \"225\", \"175\", \"105\", \"100\", \"100\", \"88\", \"95\", \"46\", \"150\", \"167\", \"170\", \"180\", \"100\", \"88\", \"72\", \"94\", \"90\", \"85\", \"107\", \"90\", \"145\", \"230\", \"49\", \"75\", \"91\", \"112\", \"150\", \"110\", \"122\", \"180\", \"95\", \"?\", \"100\", \"100\", \"67\", \"80\", \"65\", \"75\", \"100\", \"110\", \"105\", \"140\", \"150\", \"150\", \"140\", \"150\", \"83\", \"67\", \"78\", \"52\", \"61\", \"75\", \"75\", \"75\", \"97\", \"93\", \"67\", \"95\", \"105\", \"72\", \"72\", \"170\", \"145\", \"150\", \"148\", \"110\", \"105\", \"110\", \"95\", \"110\", \"110\", \"129\", \"75\", \"83\", \"100\", \"78\", \"96\", \"71\", \"97\", \"97\", \"70\", \"90\", \"95\", \"88\", \"98\", \"115\", \"53\", \"86\", \"81\", \"92\", \"79\", \"83\", \"140\", \"150\", \"120\", \"152\", \"100\", \"105\", \"81\", \"90\", \"52\", \"60\", \"70\", \"53\", \"100\", \"78\", \"110\", \"95\", \"71\", \"70\", \"75\", \"72\", \"102\", \"150\", \"88\", \"108\", \"120\", \"180\", \"145\", \"130\", \"150\", \"68\", \"80\", \"58\", \"96\", \"70\", \"145\", \"110\", \"145\", \"130\", \"110\", \"105\", \"100\", \"98\", \"180\", \"170\", \"190\", \"149\", \"78\", \"88\", \"75\", \"89\", \"63\", \"83\", \"67\", \"78\", \"97\", \"110\", \"110\", \"48\", \"66\", \"52\", \"70\", \"60\", \"110\", \"140\", \"139\", \"105\", \"95\", \"85\", \"88\", \"100\", \"90\", \"105\", \"85\", \"110\", \"120\", \"145\", \"165\", \"139\", \"140\", \"68\", \"95\", \"97\", \"75\", \"95\", \"105\", \"85\", \"97\", \"103\", \"125\", \"115\", \"133\", \"71\", \"68\", \"115\", \"85\", \"88\", \"90\", \"110\", \"130\", \"129\", \"138\", \"135\", \"155\", \"142\", \"125\", \"150\", \"71\", \"65\", \"80\", \"80\", \"77\", \"125\", \"71\", \"90\", \"70\", \"70\", \"65\", \"69\", \"90\", \"115\", \"115\", \"90\", \"76\", \"60\", \"70\", \"65\", \"90\", \"88\", \"90\", \"90\", \"78\", \"90\", \"75\", \"92\", \"75\", \"65\", \"105\", \"65\", \"48\", \"48\", \"67\", \"67\", \"67\", \"?\", \"67\", \"62\", \"132\", \"100\", \"88\", \"?\", \"72\", \"84\", \"84\", \"92\", \"110\", \"84\", \"58\", \"64\", \"60\", \"67\", \"65\", \"62\", \"68\", \"63\", \"65\", \"65\", \"74\", \"?\", \"75\", \"75\", \"100\", \"74\", \"80\", \"76\", \"116\", \"120\", \"110\", \"105\", \"88\", \"85\", \"88\", \"88\", \"88\", \"85\", \"84\", \"90\", \"92\", \"?\", \"74\", \"68\", \"68\", \"63\", \"70\", \"88\", \"75\", \"70\", \"67\", \"67\", \"67\", \"110\", \"85\", \"92\", \"112\", \"96\", \"84\", \"90\", \"86\", \"52\", \"84\", \"79\", \"82\"], \"y\": [18.0, 15.0, 18.0, 16.0, 17.0, 15.0, 14.0, 14.0, 14.0, 15.0, 15.0, 14.0, 15.0, 14.0, 24.0, 22.0, 18.0, 21.0, 27.0, 26.0, 25.0, 24.0, 25.0, 26.0, 21.0, 10.0, 10.0, 11.0, 9.0, 27.0, 28.0, 25.0, 25.0, 19.0, 16.0, 17.0, 19.0, 18.0, 14.0, 14.0, 14.0, 14.0, 12.0, 13.0, 13.0, 18.0, 22.0, 19.0, 18.0, 23.0, 28.0, 30.0, 30.0, 31.0, 35.0, 27.0, 26.0, 24.0, 25.0, 23.0, 20.0, 21.0, 13.0, 14.0, 15.0, 14.0, 17.0, 11.0, 13.0, 12.0, 13.0, 19.0, 15.0, 13.0, 13.0, 14.0, 18.0, 22.0, 21.0, 26.0, 22.0, 28.0, 23.0, 28.0, 27.0, 13.0, 14.0, 13.0, 14.0, 15.0, 12.0, 13.0, 13.0, 14.0, 13.0, 12.0, 13.0, 18.0, 16.0, 18.0, 18.0, 23.0, 26.0, 11.0, 12.0, 13.0, 12.0, 18.0, 20.0, 21.0, 22.0, 18.0, 19.0, 21.0, 26.0, 15.0, 16.0, 29.0, 24.0, 20.0, 19.0, 15.0, 24.0, 20.0, 11.0, 20.0, 21.0, 19.0, 15.0, 31.0, 26.0, 32.0, 25.0, 16.0, 16.0, 18.0, 16.0, 13.0, 14.0, 14.0, 14.0, 29.0, 26.0, 26.0, 31.0, 32.0, 28.0, 24.0, 26.0, 24.0, 26.0, 31.0, 19.0, 18.0, 15.0, 15.0, 16.0, 15.0, 16.0, 14.0, 17.0, 16.0, 15.0, 18.0, 21.0, 20.0, 13.0, 29.0, 23.0, 20.0, 23.0, 24.0, 25.0, 24.0, 18.0, 29.0, 19.0, 23.0, 23.0, 22.0, 25.0, 33.0, 28.0, 25.0, 25.0, 26.0, 27.0, 17.5, 16.0, 15.5, 14.5, 22.0, 22.0, 24.0, 22.5, 29.0, 24.5, 29.0, 33.0, 20.0, 18.0, 18.5, 17.5, 29.5, 32.0, 28.0, 26.5, 20.0, 13.0, 19.0, 19.0, 16.5, 16.5, 13.0, 13.0, 13.0, 31.5, 30.0, 36.0, 25.5, 33.5, 17.5, 17.0, 15.5, 15.0, 17.5, 20.5, 19.0, 18.5, 16.0, 15.5, 15.5, 16.0, 29.0, 24.5, 26.0, 25.5, 30.5, 33.5, 30.0, 30.5, 22.0, 21.5, 21.5, 43.1, 36.1, 32.8, 39.4, 36.1, 19.9, 19.4, 20.2, 19.2, 20.5, 20.2, 25.1, 20.5, 19.4, 20.6, 20.8, 18.6, 18.1, 19.2, 17.7, 18.1, 17.5, 30.0, 27.5, 27.2, 30.9, 21.1, 23.2, 23.8, 23.9, 20.3, 17.0, 21.6, 16.2, 31.5, 29.5, 21.5, 19.8, 22.3, 20.2, 20.6, 17.0, 17.6, 16.5, 18.2, 16.9, 15.5, 19.2, 18.5, 31.9, 34.1, 35.7, 27.4, 25.4, 23.0, 27.2, 23.9, 34.2, 34.5, 31.8, 37.3, 28.4, 28.8, 26.8, 33.5, 41.5, 38.1, 32.1, 37.2, 28.0, 26.4, 24.3, 19.1, 34.3, 29.8, 31.3, 37.0, 32.2, 46.6, 27.9, 40.8, 44.3, 43.4, 36.4, 30.0, 44.6, 40.9, 33.8, 29.8, 32.7, 23.7, 35.0, 23.6, 32.4, 27.2, 26.6, 25.8, 23.5, 30.0, 39.1, 39.0, 35.1, 32.3, 37.0, 37.7, 34.1, 34.7, 34.4, 29.9, 33.0, 34.5, 33.7, 32.4, 32.9, 31.6, 28.1, 30.7, 25.4, 24.2, 22.4, 26.6, 20.2, 17.6, 28.0, 27.0, 34.0, 31.0, 29.0, 27.0, 24.0, 23.0, 36.0, 37.0, 31.0, 38.0, 36.0, 36.0, 36.0, 34.0, 38.0, 32.0, 38.0, 25.0, 38.0, 26.0, 22.0, 32.0, 36.0, 27.0, 27.0, 44.0, 32.0, 28.0, 31.0]}],\n",
       "                        {\"template\": {\"data\": {\"bar\": [{\"error_x\": {\"color\": \"#2a3f5f\"}, \"error_y\": {\"color\": \"#2a3f5f\"}, \"marker\": {\"line\": {\"color\": \"#E5ECF6\", \"width\": 0.5}}, \"type\": \"bar\"}], \"barpolar\": [{\"marker\": {\"line\": {\"color\": \"#E5ECF6\", \"width\": 0.5}}, \"type\": \"barpolar\"}], \"carpet\": [{\"aaxis\": {\"endlinecolor\": \"#2a3f5f\", \"gridcolor\": \"white\", \"linecolor\": \"white\", \"minorgridcolor\": \"white\", \"startlinecolor\": \"#2a3f5f\"}, \"baxis\": {\"endlinecolor\": \"#2a3f5f\", \"gridcolor\": \"white\", \"linecolor\": \"white\", \"minorgridcolor\": \"white\", \"startlinecolor\": \"#2a3f5f\"}, \"type\": \"carpet\"}], \"choropleth\": [{\"colorbar\": {\"outlinewidth\": 0, \"ticks\": \"\"}, \"type\": \"choropleth\"}], \"contour\": [{\"colorbar\": {\"outlinewidth\": 0, \"ticks\": \"\"}, \"colorscale\": [[0.0, \"#0d0887\"], [0.1111111111111111, \"#46039f\"], [0.2222222222222222, \"#7201a8\"], [0.3333333333333333, \"#9c179e\"], [0.4444444444444444, \"#bd3786\"], [0.5555555555555556, \"#d8576b\"], [0.6666666666666666, \"#ed7953\"], [0.7777777777777778, \"#fb9f3a\"], [0.8888888888888888, \"#fdca26\"], [1.0, \"#f0f921\"]], \"type\": \"contour\"}], \"contourcarpet\": [{\"colorbar\": {\"outlinewidth\": 0, \"ticks\": \"\"}, \"type\": \"contourcarpet\"}], \"heatmap\": [{\"colorbar\": {\"outlinewidth\": 0, \"ticks\": \"\"}, \"colorscale\": [[0.0, \"#0d0887\"], [0.1111111111111111, \"#46039f\"], [0.2222222222222222, \"#7201a8\"], [0.3333333333333333, \"#9c179e\"], [0.4444444444444444, \"#bd3786\"], [0.5555555555555556, \"#d8576b\"], [0.6666666666666666, \"#ed7953\"], [0.7777777777777778, \"#fb9f3a\"], [0.8888888888888888, \"#fdca26\"], [1.0, \"#f0f921\"]], \"type\": \"heatmap\"}], \"heatmapgl\": [{\"colorbar\": {\"outlinewidth\": 0, \"ticks\": \"\"}, \"colorscale\": [[0.0, \"#0d0887\"], [0.1111111111111111, \"#46039f\"], [0.2222222222222222, \"#7201a8\"], [0.3333333333333333, \"#9c179e\"], [0.4444444444444444, \"#bd3786\"], [0.5555555555555556, \"#d8576b\"], [0.6666666666666666, \"#ed7953\"], [0.7777777777777778, \"#fb9f3a\"], [0.8888888888888888, \"#fdca26\"], [1.0, \"#f0f921\"]], \"type\": \"heatmapgl\"}], \"histogram\": [{\"marker\": {\"colorbar\": {\"outlinewidth\": 0, \"ticks\": \"\"}}, \"type\": \"histogram\"}], \"histogram2d\": [{\"colorbar\": {\"outlinewidth\": 0, \"ticks\": \"\"}, \"colorscale\": [[0.0, \"#0d0887\"], [0.1111111111111111, \"#46039f\"], [0.2222222222222222, \"#7201a8\"], [0.3333333333333333, \"#9c179e\"], [0.4444444444444444, \"#bd3786\"], [0.5555555555555556, \"#d8576b\"], [0.6666666666666666, \"#ed7953\"], [0.7777777777777778, \"#fb9f3a\"], [0.8888888888888888, \"#fdca26\"], [1.0, \"#f0f921\"]], \"type\": \"histogram2d\"}], \"histogram2dcontour\": [{\"colorbar\": {\"outlinewidth\": 0, \"ticks\": \"\"}, \"colorscale\": [[0.0, \"#0d0887\"], [0.1111111111111111, \"#46039f\"], [0.2222222222222222, \"#7201a8\"], [0.3333333333333333, \"#9c179e\"], [0.4444444444444444, \"#bd3786\"], [0.5555555555555556, \"#d8576b\"], [0.6666666666666666, \"#ed7953\"], [0.7777777777777778, \"#fb9f3a\"], [0.8888888888888888, \"#fdca26\"], [1.0, \"#f0f921\"]], \"type\": \"histogram2dcontour\"}], \"mesh3d\": [{\"colorbar\": {\"outlinewidth\": 0, \"ticks\": \"\"}, \"type\": \"mesh3d\"}], \"parcoords\": [{\"line\": {\"colorbar\": {\"outlinewidth\": 0, \"ticks\": \"\"}}, \"type\": \"parcoords\"}], \"pie\": [{\"automargin\": true, \"type\": \"pie\"}], \"scatter\": [{\"marker\": {\"colorbar\": {\"outlinewidth\": 0, \"ticks\": \"\"}}, \"type\": \"scatter\"}], \"scatter3d\": [{\"line\": {\"colorbar\": {\"outlinewidth\": 0, \"ticks\": \"\"}}, \"marker\": {\"colorbar\": {\"outlinewidth\": 0, \"ticks\": \"\"}}, \"type\": \"scatter3d\"}], \"scattercarpet\": [{\"marker\": {\"colorbar\": {\"outlinewidth\": 0, \"ticks\": \"\"}}, \"type\": \"scattercarpet\"}], \"scattergeo\": [{\"marker\": {\"colorbar\": {\"outlinewidth\": 0, \"ticks\": \"\"}}, \"type\": \"scattergeo\"}], \"scattergl\": [{\"marker\": {\"colorbar\": {\"outlinewidth\": 0, \"ticks\": \"\"}}, \"type\": \"scattergl\"}], \"scattermapbox\": [{\"marker\": {\"colorbar\": {\"outlinewidth\": 0, \"ticks\": \"\"}}, \"type\": \"scattermapbox\"}], \"scatterpolar\": [{\"marker\": {\"colorbar\": {\"outlinewidth\": 0, \"ticks\": \"\"}}, \"type\": \"scatterpolar\"}], \"scatterpolargl\": [{\"marker\": {\"colorbar\": {\"outlinewidth\": 0, \"ticks\": \"\"}}, \"type\": \"scatterpolargl\"}], \"scatterternary\": [{\"marker\": {\"colorbar\": {\"outlinewidth\": 0, \"ticks\": \"\"}}, \"type\": \"scatterternary\"}], \"surface\": [{\"colorbar\": {\"outlinewidth\": 0, \"ticks\": \"\"}, \"colorscale\": [[0.0, \"#0d0887\"], [0.1111111111111111, \"#46039f\"], [0.2222222222222222, \"#7201a8\"], [0.3333333333333333, \"#9c179e\"], [0.4444444444444444, \"#bd3786\"], [0.5555555555555556, \"#d8576b\"], [0.6666666666666666, \"#ed7953\"], [0.7777777777777778, \"#fb9f3a\"], [0.8888888888888888, \"#fdca26\"], [1.0, \"#f0f921\"]], \"type\": \"surface\"}], \"table\": [{\"cells\": {\"fill\": {\"color\": \"#EBF0F8\"}, \"line\": {\"color\": \"white\"}}, \"header\": {\"fill\": {\"color\": \"#C8D4E3\"}, \"line\": {\"color\": \"white\"}}, \"type\": \"table\"}]}, \"layout\": {\"annotationdefaults\": {\"arrowcolor\": \"#2a3f5f\", \"arrowhead\": 0, \"arrowwidth\": 1}, \"coloraxis\": {\"colorbar\": {\"outlinewidth\": 0, \"ticks\": \"\"}}, \"colorscale\": {\"diverging\": [[0, \"#8e0152\"], [0.1, \"#c51b7d\"], [0.2, \"#de77ae\"], [0.3, \"#f1b6da\"], [0.4, \"#fde0ef\"], [0.5, \"#f7f7f7\"], [0.6, \"#e6f5d0\"], [0.7, \"#b8e186\"], [0.8, \"#7fbc41\"], [0.9, \"#4d9221\"], [1, \"#276419\"]], \"sequential\": [[0.0, \"#0d0887\"], [0.1111111111111111, \"#46039f\"], [0.2222222222222222, \"#7201a8\"], [0.3333333333333333, \"#9c179e\"], [0.4444444444444444, \"#bd3786\"], [0.5555555555555556, \"#d8576b\"], [0.6666666666666666, \"#ed7953\"], [0.7777777777777778, \"#fb9f3a\"], [0.8888888888888888, \"#fdca26\"], [1.0, \"#f0f921\"]], \"sequentialminus\": [[0.0, \"#0d0887\"], [0.1111111111111111, \"#46039f\"], [0.2222222222222222, \"#7201a8\"], [0.3333333333333333, \"#9c179e\"], [0.4444444444444444, \"#bd3786\"], [0.5555555555555556, \"#d8576b\"], [0.6666666666666666, \"#ed7953\"], [0.7777777777777778, \"#fb9f3a\"], [0.8888888888888888, \"#fdca26\"], [1.0, \"#f0f921\"]]}, \"colorway\": [\"#636efa\", \"#EF553B\", \"#00cc96\", \"#ab63fa\", \"#FFA15A\", \"#19d3f3\", \"#FF6692\", \"#B6E880\", \"#FF97FF\", \"#FECB52\"], \"font\": {\"color\": \"#2a3f5f\"}, \"geo\": {\"bgcolor\": \"white\", \"lakecolor\": \"white\", \"landcolor\": \"#E5ECF6\", \"showlakes\": true, \"showland\": true, \"subunitcolor\": \"white\"}, \"hoverlabel\": {\"align\": \"left\"}, \"hovermode\": \"closest\", \"mapbox\": {\"style\": \"light\"}, \"paper_bgcolor\": \"white\", \"plot_bgcolor\": \"#E5ECF6\", \"polar\": {\"angularaxis\": {\"gridcolor\": \"white\", \"linecolor\": \"white\", \"ticks\": \"\"}, \"bgcolor\": \"#E5ECF6\", \"radialaxis\": {\"gridcolor\": \"white\", \"linecolor\": \"white\", \"ticks\": \"\"}}, \"scene\": {\"xaxis\": {\"backgroundcolor\": \"#E5ECF6\", \"gridcolor\": \"white\", \"gridwidth\": 2, \"linecolor\": \"white\", \"showbackground\": true, \"ticks\": \"\", \"zerolinecolor\": \"white\"}, \"yaxis\": {\"backgroundcolor\": \"#E5ECF6\", \"gridcolor\": \"white\", \"gridwidth\": 2, \"linecolor\": \"white\", \"showbackground\": true, \"ticks\": \"\", \"zerolinecolor\": \"white\"}, \"zaxis\": {\"backgroundcolor\": \"#E5ECF6\", \"gridcolor\": \"white\", \"gridwidth\": 2, \"linecolor\": \"white\", \"showbackground\": true, \"ticks\": \"\", \"zerolinecolor\": \"white\"}}, \"shapedefaults\": {\"line\": {\"color\": \"#2a3f5f\"}}, \"ternary\": {\"aaxis\": {\"gridcolor\": \"white\", \"linecolor\": \"white\", \"ticks\": \"\"}, \"baxis\": {\"gridcolor\": \"white\", \"linecolor\": \"white\", \"ticks\": \"\"}, \"bgcolor\": \"#E5ECF6\", \"caxis\": {\"gridcolor\": \"white\", \"linecolor\": \"white\", \"ticks\": \"\"}}, \"title\": {\"x\": 0.05}, \"xaxis\": {\"automargin\": true, \"gridcolor\": \"white\", \"linecolor\": \"white\", \"ticks\": \"\", \"title\": {\"standoff\": 15}, \"zerolinecolor\": \"white\", \"zerolinewidth\": 2}, \"yaxis\": {\"automargin\": true, \"gridcolor\": \"white\", \"linecolor\": \"white\", \"ticks\": \"\", \"title\": {\"standoff\": 15}, \"zerolinecolor\": \"white\", \"zerolinewidth\": 2}}}, \"title\": {\"text\": \"Coches\"}, \"xaxis\": {\"title\": {\"text\": \"Horsepower\"}}, \"yaxis\": {\"title\": {\"text\": \"consumo (mpg)\"}}},\n",
       "                        {\"responsive\": true}\n",
       "                    ).then(function(){\n",
       "                            \n",
       "var gd = document.getElementById('d6ee5c39-8c69-408e-8198-6361f57c198d');\n",
       "var x = new MutationObserver(function (mutations, observer) {{\n",
       "        var display = window.getComputedStyle(gd).display;\n",
       "        if (!display || display === 'none') {{\n",
       "            console.log([gd, 'removed!']);\n",
       "            Plotly.purge(gd);\n",
       "            observer.disconnect();\n",
       "        }}\n",
       "}});\n",
       "\n",
       "// Listen for the removal of the full notebook cells\n",
       "var notebookContainer = gd.closest('#notebook-container');\n",
       "if (notebookContainer) {{\n",
       "    x.observe(notebookContainer, {childList: true});\n",
       "}}\n",
       "\n",
       "// Listen for the clearing of the current output cell\n",
       "var outputEl = gd.closest('.output');\n",
       "if (outputEl) {{\n",
       "    x.observe(outputEl, {childList: true});\n",
       "}}\n",
       "\n",
       "                        })\n",
       "                };\n",
       "                });\n",
       "            </script>\n",
       "        </div>"
      ]
     },
     "metadata": {},
     "output_type": "display_data"
    }
   ],
   "source": [
    "datos = go.Scatter(x=valores['horsepower'], y=valores['mpg'], text=valores['name'],\n",
    "                   mode='markers', marker=dict(size=valores['cylinders'], color=valores['cylinders'], showscale=True))\n",
    "capa = go.Layout(title='Coches', xaxis=dict(title='Horsepower'), yaxis=dict(title='consumo (mpg)'))\n",
    "figure = go.Figure(data=datos, layout=capa)\n",
    "pyo.iplot(figure)"
   ]
  },
  {
   "cell_type": "markdown",
   "metadata": {},
   "source": [
    "<div class='alert alert-info' style='padding: 0 0 10px'>\n",
    "    <h2 style='text-align: center'>Box Plot</h2>\n",
    "</div>"
   ]
  },
  {
   "cell_type": "code",
   "execution_count": 61,
   "metadata": {},
   "outputs": [
    {
     "data": {
      "application/vnd.plotly.v1+json": {
       "config": {
        "linkText": "Export to plot.ly",
        "plotlyServerURL": "https://plot.ly",
        "showLink": false
       },
       "data": [
        {
         "name": "Valores 1",
         "type": "box",
         "y": [
          22,
          23,
          28,
          30,
          32,
          35,
          38,
          40,
          42,
          45
         ]
        },
        {
         "name": "Valores 2",
         "type": "box",
         "y": [
          8,
          20,
          25,
          30,
          35,
          40,
          41,
          43,
          44,
          50
         ]
        }
       ],
       "layout": {
        "template": {
         "data": {
          "bar": [
           {
            "error_x": {
             "color": "#2a3f5f"
            },
            "error_y": {
             "color": "#2a3f5f"
            },
            "marker": {
             "line": {
              "color": "#E5ECF6",
              "width": 0.5
             }
            },
            "type": "bar"
           }
          ],
          "barpolar": [
           {
            "marker": {
             "line": {
              "color": "#E5ECF6",
              "width": 0.5
             }
            },
            "type": "barpolar"
           }
          ],
          "carpet": [
           {
            "aaxis": {
             "endlinecolor": "#2a3f5f",
             "gridcolor": "white",
             "linecolor": "white",
             "minorgridcolor": "white",
             "startlinecolor": "#2a3f5f"
            },
            "baxis": {
             "endlinecolor": "#2a3f5f",
             "gridcolor": "white",
             "linecolor": "white",
             "minorgridcolor": "white",
             "startlinecolor": "#2a3f5f"
            },
            "type": "carpet"
           }
          ],
          "choropleth": [
           {
            "colorbar": {
             "outlinewidth": 0,
             "ticks": ""
            },
            "type": "choropleth"
           }
          ],
          "contour": [
           {
            "colorbar": {
             "outlinewidth": 0,
             "ticks": ""
            },
            "colorscale": [
             [
              0,
              "#0d0887"
             ],
             [
              0.1111111111111111,
              "#46039f"
             ],
             [
              0.2222222222222222,
              "#7201a8"
             ],
             [
              0.3333333333333333,
              "#9c179e"
             ],
             [
              0.4444444444444444,
              "#bd3786"
             ],
             [
              0.5555555555555556,
              "#d8576b"
             ],
             [
              0.6666666666666666,
              "#ed7953"
             ],
             [
              0.7777777777777778,
              "#fb9f3a"
             ],
             [
              0.8888888888888888,
              "#fdca26"
             ],
             [
              1,
              "#f0f921"
             ]
            ],
            "type": "contour"
           }
          ],
          "contourcarpet": [
           {
            "colorbar": {
             "outlinewidth": 0,
             "ticks": ""
            },
            "type": "contourcarpet"
           }
          ],
          "heatmap": [
           {
            "colorbar": {
             "outlinewidth": 0,
             "ticks": ""
            },
            "colorscale": [
             [
              0,
              "#0d0887"
             ],
             [
              0.1111111111111111,
              "#46039f"
             ],
             [
              0.2222222222222222,
              "#7201a8"
             ],
             [
              0.3333333333333333,
              "#9c179e"
             ],
             [
              0.4444444444444444,
              "#bd3786"
             ],
             [
              0.5555555555555556,
              "#d8576b"
             ],
             [
              0.6666666666666666,
              "#ed7953"
             ],
             [
              0.7777777777777778,
              "#fb9f3a"
             ],
             [
              0.8888888888888888,
              "#fdca26"
             ],
             [
              1,
              "#f0f921"
             ]
            ],
            "type": "heatmap"
           }
          ],
          "heatmapgl": [
           {
            "colorbar": {
             "outlinewidth": 0,
             "ticks": ""
            },
            "colorscale": [
             [
              0,
              "#0d0887"
             ],
             [
              0.1111111111111111,
              "#46039f"
             ],
             [
              0.2222222222222222,
              "#7201a8"
             ],
             [
              0.3333333333333333,
              "#9c179e"
             ],
             [
              0.4444444444444444,
              "#bd3786"
             ],
             [
              0.5555555555555556,
              "#d8576b"
             ],
             [
              0.6666666666666666,
              "#ed7953"
             ],
             [
              0.7777777777777778,
              "#fb9f3a"
             ],
             [
              0.8888888888888888,
              "#fdca26"
             ],
             [
              1,
              "#f0f921"
             ]
            ],
            "type": "heatmapgl"
           }
          ],
          "histogram": [
           {
            "marker": {
             "colorbar": {
              "outlinewidth": 0,
              "ticks": ""
             }
            },
            "type": "histogram"
           }
          ],
          "histogram2d": [
           {
            "colorbar": {
             "outlinewidth": 0,
             "ticks": ""
            },
            "colorscale": [
             [
              0,
              "#0d0887"
             ],
             [
              0.1111111111111111,
              "#46039f"
             ],
             [
              0.2222222222222222,
              "#7201a8"
             ],
             [
              0.3333333333333333,
              "#9c179e"
             ],
             [
              0.4444444444444444,
              "#bd3786"
             ],
             [
              0.5555555555555556,
              "#d8576b"
             ],
             [
              0.6666666666666666,
              "#ed7953"
             ],
             [
              0.7777777777777778,
              "#fb9f3a"
             ],
             [
              0.8888888888888888,
              "#fdca26"
             ],
             [
              1,
              "#f0f921"
             ]
            ],
            "type": "histogram2d"
           }
          ],
          "histogram2dcontour": [
           {
            "colorbar": {
             "outlinewidth": 0,
             "ticks": ""
            },
            "colorscale": [
             [
              0,
              "#0d0887"
             ],
             [
              0.1111111111111111,
              "#46039f"
             ],
             [
              0.2222222222222222,
              "#7201a8"
             ],
             [
              0.3333333333333333,
              "#9c179e"
             ],
             [
              0.4444444444444444,
              "#bd3786"
             ],
             [
              0.5555555555555556,
              "#d8576b"
             ],
             [
              0.6666666666666666,
              "#ed7953"
             ],
             [
              0.7777777777777778,
              "#fb9f3a"
             ],
             [
              0.8888888888888888,
              "#fdca26"
             ],
             [
              1,
              "#f0f921"
             ]
            ],
            "type": "histogram2dcontour"
           }
          ],
          "mesh3d": [
           {
            "colorbar": {
             "outlinewidth": 0,
             "ticks": ""
            },
            "type": "mesh3d"
           }
          ],
          "parcoords": [
           {
            "line": {
             "colorbar": {
              "outlinewidth": 0,
              "ticks": ""
             }
            },
            "type": "parcoords"
           }
          ],
          "pie": [
           {
            "automargin": true,
            "type": "pie"
           }
          ],
          "scatter": [
           {
            "marker": {
             "colorbar": {
              "outlinewidth": 0,
              "ticks": ""
             }
            },
            "type": "scatter"
           }
          ],
          "scatter3d": [
           {
            "line": {
             "colorbar": {
              "outlinewidth": 0,
              "ticks": ""
             }
            },
            "marker": {
             "colorbar": {
              "outlinewidth": 0,
              "ticks": ""
             }
            },
            "type": "scatter3d"
           }
          ],
          "scattercarpet": [
           {
            "marker": {
             "colorbar": {
              "outlinewidth": 0,
              "ticks": ""
             }
            },
            "type": "scattercarpet"
           }
          ],
          "scattergeo": [
           {
            "marker": {
             "colorbar": {
              "outlinewidth": 0,
              "ticks": ""
             }
            },
            "type": "scattergeo"
           }
          ],
          "scattergl": [
           {
            "marker": {
             "colorbar": {
              "outlinewidth": 0,
              "ticks": ""
             }
            },
            "type": "scattergl"
           }
          ],
          "scattermapbox": [
           {
            "marker": {
             "colorbar": {
              "outlinewidth": 0,
              "ticks": ""
             }
            },
            "type": "scattermapbox"
           }
          ],
          "scatterpolar": [
           {
            "marker": {
             "colorbar": {
              "outlinewidth": 0,
              "ticks": ""
             }
            },
            "type": "scatterpolar"
           }
          ],
          "scatterpolargl": [
           {
            "marker": {
             "colorbar": {
              "outlinewidth": 0,
              "ticks": ""
             }
            },
            "type": "scatterpolargl"
           }
          ],
          "scatterternary": [
           {
            "marker": {
             "colorbar": {
              "outlinewidth": 0,
              "ticks": ""
             }
            },
            "type": "scatterternary"
           }
          ],
          "surface": [
           {
            "colorbar": {
             "outlinewidth": 0,
             "ticks": ""
            },
            "colorscale": [
             [
              0,
              "#0d0887"
             ],
             [
              0.1111111111111111,
              "#46039f"
             ],
             [
              0.2222222222222222,
              "#7201a8"
             ],
             [
              0.3333333333333333,
              "#9c179e"
             ],
             [
              0.4444444444444444,
              "#bd3786"
             ],
             [
              0.5555555555555556,
              "#d8576b"
             ],
             [
              0.6666666666666666,
              "#ed7953"
             ],
             [
              0.7777777777777778,
              "#fb9f3a"
             ],
             [
              0.8888888888888888,
              "#fdca26"
             ],
             [
              1,
              "#f0f921"
             ]
            ],
            "type": "surface"
           }
          ],
          "table": [
           {
            "cells": {
             "fill": {
              "color": "#EBF0F8"
             },
             "line": {
              "color": "white"
             }
            },
            "header": {
             "fill": {
              "color": "#C8D4E3"
             },
             "line": {
              "color": "white"
             }
            },
            "type": "table"
           }
          ]
         },
         "layout": {
          "annotationdefaults": {
           "arrowcolor": "#2a3f5f",
           "arrowhead": 0,
           "arrowwidth": 1
          },
          "coloraxis": {
           "colorbar": {
            "outlinewidth": 0,
            "ticks": ""
           }
          },
          "colorscale": {
           "diverging": [
            [
             0,
             "#8e0152"
            ],
            [
             0.1,
             "#c51b7d"
            ],
            [
             0.2,
             "#de77ae"
            ],
            [
             0.3,
             "#f1b6da"
            ],
            [
             0.4,
             "#fde0ef"
            ],
            [
             0.5,
             "#f7f7f7"
            ],
            [
             0.6,
             "#e6f5d0"
            ],
            [
             0.7,
             "#b8e186"
            ],
            [
             0.8,
             "#7fbc41"
            ],
            [
             0.9,
             "#4d9221"
            ],
            [
             1,
             "#276419"
            ]
           ],
           "sequential": [
            [
             0,
             "#0d0887"
            ],
            [
             0.1111111111111111,
             "#46039f"
            ],
            [
             0.2222222222222222,
             "#7201a8"
            ],
            [
             0.3333333333333333,
             "#9c179e"
            ],
            [
             0.4444444444444444,
             "#bd3786"
            ],
            [
             0.5555555555555556,
             "#d8576b"
            ],
            [
             0.6666666666666666,
             "#ed7953"
            ],
            [
             0.7777777777777778,
             "#fb9f3a"
            ],
            [
             0.8888888888888888,
             "#fdca26"
            ],
            [
             1,
             "#f0f921"
            ]
           ],
           "sequentialminus": [
            [
             0,
             "#0d0887"
            ],
            [
             0.1111111111111111,
             "#46039f"
            ],
            [
             0.2222222222222222,
             "#7201a8"
            ],
            [
             0.3333333333333333,
             "#9c179e"
            ],
            [
             0.4444444444444444,
             "#bd3786"
            ],
            [
             0.5555555555555556,
             "#d8576b"
            ],
            [
             0.6666666666666666,
             "#ed7953"
            ],
            [
             0.7777777777777778,
             "#fb9f3a"
            ],
            [
             0.8888888888888888,
             "#fdca26"
            ],
            [
             1,
             "#f0f921"
            ]
           ]
          },
          "colorway": [
           "#636efa",
           "#EF553B",
           "#00cc96",
           "#ab63fa",
           "#FFA15A",
           "#19d3f3",
           "#FF6692",
           "#B6E880",
           "#FF97FF",
           "#FECB52"
          ],
          "font": {
           "color": "#2a3f5f"
          },
          "geo": {
           "bgcolor": "white",
           "lakecolor": "white",
           "landcolor": "#E5ECF6",
           "showlakes": true,
           "showland": true,
           "subunitcolor": "white"
          },
          "hoverlabel": {
           "align": "left"
          },
          "hovermode": "closest",
          "mapbox": {
           "style": "light"
          },
          "paper_bgcolor": "white",
          "plot_bgcolor": "#E5ECF6",
          "polar": {
           "angularaxis": {
            "gridcolor": "white",
            "linecolor": "white",
            "ticks": ""
           },
           "bgcolor": "#E5ECF6",
           "radialaxis": {
            "gridcolor": "white",
            "linecolor": "white",
            "ticks": ""
           }
          },
          "scene": {
           "xaxis": {
            "backgroundcolor": "#E5ECF6",
            "gridcolor": "white",
            "gridwidth": 2,
            "linecolor": "white",
            "showbackground": true,
            "ticks": "",
            "zerolinecolor": "white"
           },
           "yaxis": {
            "backgroundcolor": "#E5ECF6",
            "gridcolor": "white",
            "gridwidth": 2,
            "linecolor": "white",
            "showbackground": true,
            "ticks": "",
            "zerolinecolor": "white"
           },
           "zaxis": {
            "backgroundcolor": "#E5ECF6",
            "gridcolor": "white",
            "gridwidth": 2,
            "linecolor": "white",
            "showbackground": true,
            "ticks": "",
            "zerolinecolor": "white"
           }
          },
          "shapedefaults": {
           "line": {
            "color": "#2a3f5f"
           }
          },
          "ternary": {
           "aaxis": {
            "gridcolor": "white",
            "linecolor": "white",
            "ticks": ""
           },
           "baxis": {
            "gridcolor": "white",
            "linecolor": "white",
            "ticks": ""
           },
           "bgcolor": "#E5ECF6",
           "caxis": {
            "gridcolor": "white",
            "linecolor": "white",
            "ticks": ""
           }
          },
          "title": {
           "x": 0.05
          },
          "xaxis": {
           "automargin": true,
           "gridcolor": "white",
           "linecolor": "white",
           "ticks": "",
           "title": {
            "standoff": 15
           },
           "zerolinecolor": "white",
           "zerolinewidth": 2
          },
          "yaxis": {
           "automargin": true,
           "gridcolor": "white",
           "linecolor": "white",
           "ticks": "",
           "title": {
            "standoff": 15
           },
           "zerolinecolor": "white",
           "zerolinewidth": 2
          }
         }
        }
       }
      },
      "text/html": [
       "<div>\n",
       "        \n",
       "        \n",
       "            <div id=\"b03cad9a-4d77-49ec-bd4a-a9fdaa9e261e\" class=\"plotly-graph-div\" style=\"height:525px; width:100%;\"></div>\n",
       "            <script type=\"text/javascript\">\n",
       "                require([\"plotly\"], function(Plotly) {\n",
       "                    window.PLOTLYENV=window.PLOTLYENV || {};\n",
       "                    \n",
       "                if (document.getElementById(\"b03cad9a-4d77-49ec-bd4a-a9fdaa9e261e\")) {\n",
       "                    Plotly.newPlot(\n",
       "                        'b03cad9a-4d77-49ec-bd4a-a9fdaa9e261e',\n",
       "                        [{\"name\": \"Valores 1\", \"type\": \"box\", \"y\": [22, 23, 28, 30, 32, 35, 38, 40, 42, 45]}, {\"name\": \"Valores 2\", \"type\": \"box\", \"y\": [8, 20, 25, 30, 35, 40, 41, 43, 44, 50]}],\n",
       "                        {\"template\": {\"data\": {\"bar\": [{\"error_x\": {\"color\": \"#2a3f5f\"}, \"error_y\": {\"color\": \"#2a3f5f\"}, \"marker\": {\"line\": {\"color\": \"#E5ECF6\", \"width\": 0.5}}, \"type\": \"bar\"}], \"barpolar\": [{\"marker\": {\"line\": {\"color\": \"#E5ECF6\", \"width\": 0.5}}, \"type\": \"barpolar\"}], \"carpet\": [{\"aaxis\": {\"endlinecolor\": \"#2a3f5f\", \"gridcolor\": \"white\", \"linecolor\": \"white\", \"minorgridcolor\": \"white\", \"startlinecolor\": \"#2a3f5f\"}, \"baxis\": {\"endlinecolor\": \"#2a3f5f\", \"gridcolor\": \"white\", \"linecolor\": \"white\", \"minorgridcolor\": \"white\", \"startlinecolor\": \"#2a3f5f\"}, \"type\": \"carpet\"}], \"choropleth\": [{\"colorbar\": {\"outlinewidth\": 0, \"ticks\": \"\"}, \"type\": \"choropleth\"}], \"contour\": [{\"colorbar\": {\"outlinewidth\": 0, \"ticks\": \"\"}, \"colorscale\": [[0.0, \"#0d0887\"], [0.1111111111111111, \"#46039f\"], [0.2222222222222222, \"#7201a8\"], [0.3333333333333333, \"#9c179e\"], [0.4444444444444444, \"#bd3786\"], [0.5555555555555556, \"#d8576b\"], [0.6666666666666666, \"#ed7953\"], [0.7777777777777778, \"#fb9f3a\"], [0.8888888888888888, \"#fdca26\"], [1.0, \"#f0f921\"]], \"type\": \"contour\"}], \"contourcarpet\": [{\"colorbar\": {\"outlinewidth\": 0, \"ticks\": \"\"}, \"type\": \"contourcarpet\"}], \"heatmap\": [{\"colorbar\": {\"outlinewidth\": 0, \"ticks\": \"\"}, \"colorscale\": [[0.0, \"#0d0887\"], [0.1111111111111111, \"#46039f\"], [0.2222222222222222, \"#7201a8\"], [0.3333333333333333, \"#9c179e\"], [0.4444444444444444, \"#bd3786\"], [0.5555555555555556, \"#d8576b\"], [0.6666666666666666, \"#ed7953\"], [0.7777777777777778, \"#fb9f3a\"], [0.8888888888888888, \"#fdca26\"], [1.0, \"#f0f921\"]], \"type\": \"heatmap\"}], \"heatmapgl\": [{\"colorbar\": {\"outlinewidth\": 0, \"ticks\": \"\"}, \"colorscale\": [[0.0, \"#0d0887\"], [0.1111111111111111, \"#46039f\"], [0.2222222222222222, \"#7201a8\"], [0.3333333333333333, \"#9c179e\"], [0.4444444444444444, \"#bd3786\"], [0.5555555555555556, \"#d8576b\"], [0.6666666666666666, \"#ed7953\"], [0.7777777777777778, \"#fb9f3a\"], [0.8888888888888888, \"#fdca26\"], [1.0, \"#f0f921\"]], \"type\": \"heatmapgl\"}], \"histogram\": [{\"marker\": {\"colorbar\": {\"outlinewidth\": 0, \"ticks\": \"\"}}, \"type\": \"histogram\"}], \"histogram2d\": [{\"colorbar\": {\"outlinewidth\": 0, \"ticks\": \"\"}, \"colorscale\": [[0.0, \"#0d0887\"], [0.1111111111111111, \"#46039f\"], [0.2222222222222222, \"#7201a8\"], [0.3333333333333333, \"#9c179e\"], [0.4444444444444444, \"#bd3786\"], [0.5555555555555556, \"#d8576b\"], [0.6666666666666666, \"#ed7953\"], [0.7777777777777778, \"#fb9f3a\"], [0.8888888888888888, \"#fdca26\"], [1.0, \"#f0f921\"]], \"type\": \"histogram2d\"}], \"histogram2dcontour\": [{\"colorbar\": {\"outlinewidth\": 0, \"ticks\": \"\"}, \"colorscale\": [[0.0, \"#0d0887\"], [0.1111111111111111, \"#46039f\"], [0.2222222222222222, \"#7201a8\"], [0.3333333333333333, \"#9c179e\"], [0.4444444444444444, \"#bd3786\"], [0.5555555555555556, \"#d8576b\"], [0.6666666666666666, \"#ed7953\"], [0.7777777777777778, \"#fb9f3a\"], [0.8888888888888888, \"#fdca26\"], [1.0, \"#f0f921\"]], \"type\": \"histogram2dcontour\"}], \"mesh3d\": [{\"colorbar\": {\"outlinewidth\": 0, \"ticks\": \"\"}, \"type\": \"mesh3d\"}], \"parcoords\": [{\"line\": {\"colorbar\": {\"outlinewidth\": 0, \"ticks\": \"\"}}, \"type\": \"parcoords\"}], \"pie\": [{\"automargin\": true, \"type\": \"pie\"}], \"scatter\": [{\"marker\": {\"colorbar\": {\"outlinewidth\": 0, \"ticks\": \"\"}}, \"type\": \"scatter\"}], \"scatter3d\": [{\"line\": {\"colorbar\": {\"outlinewidth\": 0, \"ticks\": \"\"}}, \"marker\": {\"colorbar\": {\"outlinewidth\": 0, \"ticks\": \"\"}}, \"type\": \"scatter3d\"}], \"scattercarpet\": [{\"marker\": {\"colorbar\": {\"outlinewidth\": 0, \"ticks\": \"\"}}, \"type\": \"scattercarpet\"}], \"scattergeo\": [{\"marker\": {\"colorbar\": {\"outlinewidth\": 0, \"ticks\": \"\"}}, \"type\": \"scattergeo\"}], \"scattergl\": [{\"marker\": {\"colorbar\": {\"outlinewidth\": 0, \"ticks\": \"\"}}, \"type\": \"scattergl\"}], \"scattermapbox\": [{\"marker\": {\"colorbar\": {\"outlinewidth\": 0, \"ticks\": \"\"}}, \"type\": \"scattermapbox\"}], \"scatterpolar\": [{\"marker\": {\"colorbar\": {\"outlinewidth\": 0, \"ticks\": \"\"}}, \"type\": \"scatterpolar\"}], \"scatterpolargl\": [{\"marker\": {\"colorbar\": {\"outlinewidth\": 0, \"ticks\": \"\"}}, \"type\": \"scatterpolargl\"}], \"scatterternary\": [{\"marker\": {\"colorbar\": {\"outlinewidth\": 0, \"ticks\": \"\"}}, \"type\": \"scatterternary\"}], \"surface\": [{\"colorbar\": {\"outlinewidth\": 0, \"ticks\": \"\"}, \"colorscale\": [[0.0, \"#0d0887\"], [0.1111111111111111, \"#46039f\"], [0.2222222222222222, \"#7201a8\"], [0.3333333333333333, \"#9c179e\"], [0.4444444444444444, \"#bd3786\"], [0.5555555555555556, \"#d8576b\"], [0.6666666666666666, \"#ed7953\"], [0.7777777777777778, \"#fb9f3a\"], [0.8888888888888888, \"#fdca26\"], [1.0, \"#f0f921\"]], \"type\": \"surface\"}], \"table\": [{\"cells\": {\"fill\": {\"color\": \"#EBF0F8\"}, \"line\": {\"color\": \"white\"}}, \"header\": {\"fill\": {\"color\": \"#C8D4E3\"}, \"line\": {\"color\": \"white\"}}, \"type\": \"table\"}]}, \"layout\": {\"annotationdefaults\": {\"arrowcolor\": \"#2a3f5f\", \"arrowhead\": 0, \"arrowwidth\": 1}, \"coloraxis\": {\"colorbar\": {\"outlinewidth\": 0, \"ticks\": \"\"}}, \"colorscale\": {\"diverging\": [[0, \"#8e0152\"], [0.1, \"#c51b7d\"], [0.2, \"#de77ae\"], [0.3, \"#f1b6da\"], [0.4, \"#fde0ef\"], [0.5, \"#f7f7f7\"], [0.6, \"#e6f5d0\"], [0.7, \"#b8e186\"], [0.8, \"#7fbc41\"], [0.9, \"#4d9221\"], [1, \"#276419\"]], \"sequential\": [[0.0, \"#0d0887\"], [0.1111111111111111, \"#46039f\"], [0.2222222222222222, \"#7201a8\"], [0.3333333333333333, \"#9c179e\"], [0.4444444444444444, \"#bd3786\"], [0.5555555555555556, \"#d8576b\"], [0.6666666666666666, \"#ed7953\"], [0.7777777777777778, \"#fb9f3a\"], [0.8888888888888888, \"#fdca26\"], [1.0, \"#f0f921\"]], \"sequentialminus\": [[0.0, \"#0d0887\"], [0.1111111111111111, \"#46039f\"], [0.2222222222222222, \"#7201a8\"], [0.3333333333333333, \"#9c179e\"], [0.4444444444444444, \"#bd3786\"], [0.5555555555555556, \"#d8576b\"], [0.6666666666666666, \"#ed7953\"], [0.7777777777777778, \"#fb9f3a\"], [0.8888888888888888, \"#fdca26\"], [1.0, \"#f0f921\"]]}, \"colorway\": [\"#636efa\", \"#EF553B\", \"#00cc96\", \"#ab63fa\", \"#FFA15A\", \"#19d3f3\", \"#FF6692\", \"#B6E880\", \"#FF97FF\", \"#FECB52\"], \"font\": {\"color\": \"#2a3f5f\"}, \"geo\": {\"bgcolor\": \"white\", \"lakecolor\": \"white\", \"landcolor\": \"#E5ECF6\", \"showlakes\": true, \"showland\": true, \"subunitcolor\": \"white\"}, \"hoverlabel\": {\"align\": \"left\"}, \"hovermode\": \"closest\", \"mapbox\": {\"style\": \"light\"}, \"paper_bgcolor\": \"white\", \"plot_bgcolor\": \"#E5ECF6\", \"polar\": {\"angularaxis\": {\"gridcolor\": \"white\", \"linecolor\": \"white\", \"ticks\": \"\"}, \"bgcolor\": \"#E5ECF6\", \"radialaxis\": {\"gridcolor\": \"white\", \"linecolor\": \"white\", \"ticks\": \"\"}}, \"scene\": {\"xaxis\": {\"backgroundcolor\": \"#E5ECF6\", \"gridcolor\": \"white\", \"gridwidth\": 2, \"linecolor\": \"white\", \"showbackground\": true, \"ticks\": \"\", \"zerolinecolor\": \"white\"}, \"yaxis\": {\"backgroundcolor\": \"#E5ECF6\", \"gridcolor\": \"white\", \"gridwidth\": 2, \"linecolor\": \"white\", \"showbackground\": true, \"ticks\": \"\", \"zerolinecolor\": \"white\"}, \"zaxis\": {\"backgroundcolor\": \"#E5ECF6\", \"gridcolor\": \"white\", \"gridwidth\": 2, \"linecolor\": \"white\", \"showbackground\": true, \"ticks\": \"\", \"zerolinecolor\": \"white\"}}, \"shapedefaults\": {\"line\": {\"color\": \"#2a3f5f\"}}, \"ternary\": {\"aaxis\": {\"gridcolor\": \"white\", \"linecolor\": \"white\", \"ticks\": \"\"}, \"baxis\": {\"gridcolor\": \"white\", \"linecolor\": \"white\", \"ticks\": \"\"}, \"bgcolor\": \"#E5ECF6\", \"caxis\": {\"gridcolor\": \"white\", \"linecolor\": \"white\", \"ticks\": \"\"}}, \"title\": {\"x\": 0.05}, \"xaxis\": {\"automargin\": true, \"gridcolor\": \"white\", \"linecolor\": \"white\", \"ticks\": \"\", \"title\": {\"standoff\": 15}, \"zerolinecolor\": \"white\", \"zerolinewidth\": 2}, \"yaxis\": {\"automargin\": true, \"gridcolor\": \"white\", \"linecolor\": \"white\", \"ticks\": \"\", \"title\": {\"standoff\": 15}, \"zerolinecolor\": \"white\", \"zerolinewidth\": 2}}}},\n",
       "                        {\"responsive\": true}\n",
       "                    ).then(function(){\n",
       "                            \n",
       "var gd = document.getElementById('b03cad9a-4d77-49ec-bd4a-a9fdaa9e261e');\n",
       "var x = new MutationObserver(function (mutations, observer) {{\n",
       "        var display = window.getComputedStyle(gd).display;\n",
       "        if (!display || display === 'none') {{\n",
       "            console.log([gd, 'removed!']);\n",
       "            Plotly.purge(gd);\n",
       "            observer.disconnect();\n",
       "        }}\n",
       "}});\n",
       "\n",
       "// Listen for the removal of the full notebook cells\n",
       "var notebookContainer = gd.closest('#notebook-container');\n",
       "if (notebookContainer) {{\n",
       "    x.observe(notebookContainer, {childList: true});\n",
       "}}\n",
       "\n",
       "// Listen for the clearing of the current output cell\n",
       "var outputEl = gd.closest('.output');\n",
       "if (outputEl) {{\n",
       "    x.observe(outputEl, {childList: true});\n",
       "}}\n",
       "\n",
       "                        })\n",
       "                };\n",
       "                });\n",
       "            </script>\n",
       "        </div>"
      ]
     },
     "metadata": {},
     "output_type": "display_data"
    }
   ],
   "source": [
    "valores1 = [22, 23, 28, 30, 32, 35, 38, 40, 42, 45]\n",
    "valores2 = [8, 20, 25, 30, 35, 40, 41, 43, 44, 50]\n",
    "\n",
    "# datos = [go.Box(y=valores, boxpoints='all')]\n",
    "datos = [go.Box(y=valores1, name='Valores 1'), go.Box(y=valores2, name='Valores 2')]\n",
    "pyo.iplot(datos)"
   ]
  },
  {
   "cell_type": "markdown",
   "metadata": {},
   "source": [
    "<div class='alert alert-info' style='padding: 0 0 10px'>\n",
    "    <h2 style='text-align:center'>Histogram</h2>\n",
    "</div>"
   ]
  },
  {
   "cell_type": "code",
   "execution_count": 63,
   "metadata": {},
   "outputs": [
    {
     "data": {
      "text/html": [
       "<div>\n",
       "<style scoped>\n",
       "    .dataframe tbody tr th:only-of-type {\n",
       "        vertical-align: middle;\n",
       "    }\n",
       "\n",
       "    .dataframe tbody tr th {\n",
       "        vertical-align: top;\n",
       "    }\n",
       "\n",
       "    .dataframe thead th {\n",
       "        text-align: right;\n",
       "    }\n",
       "</style>\n",
       "<table border=\"1\" class=\"dataframe\">\n",
       "  <thead>\n",
       "    <tr style=\"text-align: right;\">\n",
       "      <th></th>\n",
       "      <th>mpg</th>\n",
       "      <th>cylinders</th>\n",
       "      <th>displacement</th>\n",
       "      <th>horsepower</th>\n",
       "      <th>weight</th>\n",
       "      <th>acceleration</th>\n",
       "      <th>model_year</th>\n",
       "      <th>origin</th>\n",
       "      <th>name</th>\n",
       "    </tr>\n",
       "  </thead>\n",
       "  <tbody>\n",
       "    <tr>\n",
       "      <th>0</th>\n",
       "      <td>18.0</td>\n",
       "      <td>8</td>\n",
       "      <td>307.0</td>\n",
       "      <td>130</td>\n",
       "      <td>3504</td>\n",
       "      <td>12.0</td>\n",
       "      <td>70</td>\n",
       "      <td>1</td>\n",
       "      <td>chevrolet chevelle malibu</td>\n",
       "    </tr>\n",
       "    <tr>\n",
       "      <th>1</th>\n",
       "      <td>15.0</td>\n",
       "      <td>8</td>\n",
       "      <td>350.0</td>\n",
       "      <td>165</td>\n",
       "      <td>3693</td>\n",
       "      <td>11.5</td>\n",
       "      <td>70</td>\n",
       "      <td>1</td>\n",
       "      <td>buick skylark 320</td>\n",
       "    </tr>\n",
       "    <tr>\n",
       "      <th>2</th>\n",
       "      <td>18.0</td>\n",
       "      <td>8</td>\n",
       "      <td>318.0</td>\n",
       "      <td>150</td>\n",
       "      <td>3436</td>\n",
       "      <td>11.0</td>\n",
       "      <td>70</td>\n",
       "      <td>1</td>\n",
       "      <td>plymouth satellite</td>\n",
       "    </tr>\n",
       "    <tr>\n",
       "      <th>3</th>\n",
       "      <td>16.0</td>\n",
       "      <td>8</td>\n",
       "      <td>304.0</td>\n",
       "      <td>150</td>\n",
       "      <td>3433</td>\n",
       "      <td>12.0</td>\n",
       "      <td>70</td>\n",
       "      <td>1</td>\n",
       "      <td>amc rebel sst</td>\n",
       "    </tr>\n",
       "    <tr>\n",
       "      <th>4</th>\n",
       "      <td>17.0</td>\n",
       "      <td>8</td>\n",
       "      <td>302.0</td>\n",
       "      <td>140</td>\n",
       "      <td>3449</td>\n",
       "      <td>10.5</td>\n",
       "      <td>70</td>\n",
       "      <td>1</td>\n",
       "      <td>ford torino</td>\n",
       "    </tr>\n",
       "  </tbody>\n",
       "</table>\n",
       "</div>"
      ],
      "text/plain": [
       "    mpg  cylinders  displacement horsepower  weight  acceleration  model_year  \\\n",
       "0  18.0          8         307.0        130    3504          12.0          70   \n",
       "1  15.0          8         350.0        165    3693          11.5          70   \n",
       "2  18.0          8         318.0        150    3436          11.0          70   \n",
       "3  16.0          8         304.0        150    3433          12.0          70   \n",
       "4  17.0          8         302.0        140    3449          10.5          70   \n",
       "\n",
       "   origin                       name  \n",
       "0       1  chevrolet chevelle malibu  \n",
       "1       1          buick skylark 320  \n",
       "2       1         plymouth satellite  \n",
       "3       1              amc rebel sst  \n",
       "4       1                ford torino  "
      ]
     },
     "execution_count": 63,
     "metadata": {},
     "output_type": "execute_result"
    }
   ],
   "source": [
    "valores = pd.read_csv('mpg.csv')\n",
    "valores.head()"
   ]
  },
  {
   "cell_type": "code",
   "execution_count": 64,
   "metadata": {},
   "outputs": [
    {
     "data": {
      "application/vnd.plotly.v1+json": {
       "config": {
        "linkText": "Export to plot.ly",
        "plotlyServerURL": "https://plot.ly",
        "showLink": false
       },
       "data": [
        {
         "type": "histogram",
         "x": [
          12,
          11.5,
          11,
          12,
          10.5,
          10,
          9,
          8.5,
          10,
          8.5,
          10,
          8,
          9.5,
          10,
          15,
          15.5,
          15.5,
          16,
          14.5,
          20.5,
          17.5,
          14.5,
          17.5,
          12.5,
          15,
          14,
          15,
          13.5,
          18.5,
          14.5,
          15.5,
          14,
          19,
          13,
          15.5,
          15.5,
          15.5,
          15.5,
          12,
          11.5,
          13.5,
          13,
          11.5,
          12,
          12,
          13.5,
          19,
          15,
          14.5,
          14,
          14,
          19.5,
          14.5,
          19,
          18,
          19,
          20.5,
          15.5,
          17,
          23.5,
          19.5,
          16.5,
          12,
          12,
          13.5,
          13,
          11.5,
          11,
          13.5,
          13.5,
          12.5,
          13.5,
          12.5,
          14,
          16,
          14,
          14.5,
          18,
          19.5,
          18,
          16,
          17,
          14.5,
          15,
          16.5,
          13,
          11.5,
          13,
          14.5,
          12.5,
          11.5,
          12,
          13,
          14.5,
          11,
          11,
          11,
          16.5,
          18,
          16,
          16.5,
          16,
          21,
          14,
          12.5,
          13,
          12.5,
          15,
          19,
          19.5,
          16.5,
          13.5,
          18.5,
          14,
          15.5,
          13,
          9.5,
          19.5,
          15.5,
          14,
          15.5,
          11,
          14,
          13.5,
          11,
          16.5,
          17,
          16,
          17,
          19,
          16.5,
          21,
          17,
          17,
          18,
          16.5,
          14,
          14.5,
          13.5,
          16,
          15.5,
          16.5,
          15.5,
          14.5,
          16.5,
          19,
          14.5,
          15.5,
          14,
          15,
          15.5,
          16,
          16,
          16,
          21,
          19.5,
          11.5,
          14,
          14.5,
          13.5,
          21,
          18.5,
          19,
          19,
          15,
          13.5,
          12,
          16,
          17,
          16,
          18.5,
          13.5,
          16.5,
          17,
          14.5,
          14,
          17,
          15,
          17,
          14.5,
          13.5,
          17.5,
          15.5,
          16.9,
          14.9,
          17.7,
          15.3,
          13,
          13,
          13.9,
          12.8,
          15.4,
          14.5,
          17.6,
          17.6,
          22.2,
          22.1,
          14.2,
          17.4,
          17.7,
          21,
          16.2,
          17.8,
          12.2,
          17,
          16.4,
          13.6,
          15.7,
          13.2,
          21.9,
          15.5,
          16.7,
          12.1,
          12,
          15,
          14,
          18.5,
          14.8,
          18.6,
          15.5,
          16.8,
          12.5,
          19,
          13.7,
          14.9,
          16.4,
          16.9,
          17.7,
          19,
          11.1,
          11.4,
          12.2,
          14.5,
          14.5,
          16,
          18.2,
          15.8,
          17,
          15.9,
          16.4,
          14.1,
          14.5,
          12.8,
          13.5,
          21.5,
          14.4,
          19.4,
          18.6,
          16.4,
          15.5,
          13.2,
          12.8,
          19.2,
          18.2,
          15.8,
          15.4,
          17.2,
          17.2,
          15.8,
          16.7,
          18.7,
          15.1,
          13.2,
          13.4,
          11.2,
          13.7,
          16.5,
          14.2,
          14.7,
          14.5,
          14.8,
          16.7,
          17.6,
          14.9,
          15.9,
          13.6,
          15.7,
          15.8,
          14.9,
          16.6,
          15.4,
          18.2,
          17.3,
          18.2,
          16.6,
          15.4,
          13.4,
          13.2,
          15.2,
          14.9,
          14.3,
          15,
          13,
          14,
          15.2,
          14.4,
          15,
          20.1,
          17.4,
          24.8,
          22.2,
          13.2,
          14.9,
          19.2,
          14.7,
          16,
          11.3,
          12.9,
          13.2,
          14.7,
          18.8,
          15.5,
          16.4,
          16.5,
          18.1,
          20.1,
          18.7,
          15.8,
          15.5,
          17.5,
          15,
          15.2,
          17.9,
          14.4,
          19.2,
          21.7,
          23.7,
          19.9,
          21.8,
          13.8,
          17.3,
          18,
          15.3,
          11.4,
          12.5,
          15.1,
          14.3,
          17,
          15.7,
          16.4,
          14.4,
          12.6,
          12.9,
          16.9,
          16.4,
          16.1,
          17.8,
          19.4,
          17.3,
          16,
          14.9,
          16.2,
          20.7,
          14.2,
          15.8,
          14.4,
          16.8,
          14.8,
          18.3,
          20.4,
          19.6,
          12.6,
          13.8,
          15.8,
          19,
          17.1,
          16.6,
          19.6,
          18.6,
          18,
          16.2,
          16,
          18,
          16.4,
          20.5,
          15.3,
          18.2,
          17.6,
          14.7,
          17.3,
          14.5,
          14.5,
          16.9,
          15,
          15.7,
          16.2,
          16.4,
          17,
          14.5,
          14.7,
          13.9,
          13,
          17.3,
          15.6,
          24.6,
          11.6,
          18.6,
          19.4
         ]
        }
       ],
       "layout": {
        "template": {
         "data": {
          "bar": [
           {
            "error_x": {
             "color": "#2a3f5f"
            },
            "error_y": {
             "color": "#2a3f5f"
            },
            "marker": {
             "line": {
              "color": "#E5ECF6",
              "width": 0.5
             }
            },
            "type": "bar"
           }
          ],
          "barpolar": [
           {
            "marker": {
             "line": {
              "color": "#E5ECF6",
              "width": 0.5
             }
            },
            "type": "barpolar"
           }
          ],
          "carpet": [
           {
            "aaxis": {
             "endlinecolor": "#2a3f5f",
             "gridcolor": "white",
             "linecolor": "white",
             "minorgridcolor": "white",
             "startlinecolor": "#2a3f5f"
            },
            "baxis": {
             "endlinecolor": "#2a3f5f",
             "gridcolor": "white",
             "linecolor": "white",
             "minorgridcolor": "white",
             "startlinecolor": "#2a3f5f"
            },
            "type": "carpet"
           }
          ],
          "choropleth": [
           {
            "colorbar": {
             "outlinewidth": 0,
             "ticks": ""
            },
            "type": "choropleth"
           }
          ],
          "contour": [
           {
            "colorbar": {
             "outlinewidth": 0,
             "ticks": ""
            },
            "colorscale": [
             [
              0,
              "#0d0887"
             ],
             [
              0.1111111111111111,
              "#46039f"
             ],
             [
              0.2222222222222222,
              "#7201a8"
             ],
             [
              0.3333333333333333,
              "#9c179e"
             ],
             [
              0.4444444444444444,
              "#bd3786"
             ],
             [
              0.5555555555555556,
              "#d8576b"
             ],
             [
              0.6666666666666666,
              "#ed7953"
             ],
             [
              0.7777777777777778,
              "#fb9f3a"
             ],
             [
              0.8888888888888888,
              "#fdca26"
             ],
             [
              1,
              "#f0f921"
             ]
            ],
            "type": "contour"
           }
          ],
          "contourcarpet": [
           {
            "colorbar": {
             "outlinewidth": 0,
             "ticks": ""
            },
            "type": "contourcarpet"
           }
          ],
          "heatmap": [
           {
            "colorbar": {
             "outlinewidth": 0,
             "ticks": ""
            },
            "colorscale": [
             [
              0,
              "#0d0887"
             ],
             [
              0.1111111111111111,
              "#46039f"
             ],
             [
              0.2222222222222222,
              "#7201a8"
             ],
             [
              0.3333333333333333,
              "#9c179e"
             ],
             [
              0.4444444444444444,
              "#bd3786"
             ],
             [
              0.5555555555555556,
              "#d8576b"
             ],
             [
              0.6666666666666666,
              "#ed7953"
             ],
             [
              0.7777777777777778,
              "#fb9f3a"
             ],
             [
              0.8888888888888888,
              "#fdca26"
             ],
             [
              1,
              "#f0f921"
             ]
            ],
            "type": "heatmap"
           }
          ],
          "heatmapgl": [
           {
            "colorbar": {
             "outlinewidth": 0,
             "ticks": ""
            },
            "colorscale": [
             [
              0,
              "#0d0887"
             ],
             [
              0.1111111111111111,
              "#46039f"
             ],
             [
              0.2222222222222222,
              "#7201a8"
             ],
             [
              0.3333333333333333,
              "#9c179e"
             ],
             [
              0.4444444444444444,
              "#bd3786"
             ],
             [
              0.5555555555555556,
              "#d8576b"
             ],
             [
              0.6666666666666666,
              "#ed7953"
             ],
             [
              0.7777777777777778,
              "#fb9f3a"
             ],
             [
              0.8888888888888888,
              "#fdca26"
             ],
             [
              1,
              "#f0f921"
             ]
            ],
            "type": "heatmapgl"
           }
          ],
          "histogram": [
           {
            "marker": {
             "colorbar": {
              "outlinewidth": 0,
              "ticks": ""
             }
            },
            "type": "histogram"
           }
          ],
          "histogram2d": [
           {
            "colorbar": {
             "outlinewidth": 0,
             "ticks": ""
            },
            "colorscale": [
             [
              0,
              "#0d0887"
             ],
             [
              0.1111111111111111,
              "#46039f"
             ],
             [
              0.2222222222222222,
              "#7201a8"
             ],
             [
              0.3333333333333333,
              "#9c179e"
             ],
             [
              0.4444444444444444,
              "#bd3786"
             ],
             [
              0.5555555555555556,
              "#d8576b"
             ],
             [
              0.6666666666666666,
              "#ed7953"
             ],
             [
              0.7777777777777778,
              "#fb9f3a"
             ],
             [
              0.8888888888888888,
              "#fdca26"
             ],
             [
              1,
              "#f0f921"
             ]
            ],
            "type": "histogram2d"
           }
          ],
          "histogram2dcontour": [
           {
            "colorbar": {
             "outlinewidth": 0,
             "ticks": ""
            },
            "colorscale": [
             [
              0,
              "#0d0887"
             ],
             [
              0.1111111111111111,
              "#46039f"
             ],
             [
              0.2222222222222222,
              "#7201a8"
             ],
             [
              0.3333333333333333,
              "#9c179e"
             ],
             [
              0.4444444444444444,
              "#bd3786"
             ],
             [
              0.5555555555555556,
              "#d8576b"
             ],
             [
              0.6666666666666666,
              "#ed7953"
             ],
             [
              0.7777777777777778,
              "#fb9f3a"
             ],
             [
              0.8888888888888888,
              "#fdca26"
             ],
             [
              1,
              "#f0f921"
             ]
            ],
            "type": "histogram2dcontour"
           }
          ],
          "mesh3d": [
           {
            "colorbar": {
             "outlinewidth": 0,
             "ticks": ""
            },
            "type": "mesh3d"
           }
          ],
          "parcoords": [
           {
            "line": {
             "colorbar": {
              "outlinewidth": 0,
              "ticks": ""
             }
            },
            "type": "parcoords"
           }
          ],
          "pie": [
           {
            "automargin": true,
            "type": "pie"
           }
          ],
          "scatter": [
           {
            "marker": {
             "colorbar": {
              "outlinewidth": 0,
              "ticks": ""
             }
            },
            "type": "scatter"
           }
          ],
          "scatter3d": [
           {
            "line": {
             "colorbar": {
              "outlinewidth": 0,
              "ticks": ""
             }
            },
            "marker": {
             "colorbar": {
              "outlinewidth": 0,
              "ticks": ""
             }
            },
            "type": "scatter3d"
           }
          ],
          "scattercarpet": [
           {
            "marker": {
             "colorbar": {
              "outlinewidth": 0,
              "ticks": ""
             }
            },
            "type": "scattercarpet"
           }
          ],
          "scattergeo": [
           {
            "marker": {
             "colorbar": {
              "outlinewidth": 0,
              "ticks": ""
             }
            },
            "type": "scattergeo"
           }
          ],
          "scattergl": [
           {
            "marker": {
             "colorbar": {
              "outlinewidth": 0,
              "ticks": ""
             }
            },
            "type": "scattergl"
           }
          ],
          "scattermapbox": [
           {
            "marker": {
             "colorbar": {
              "outlinewidth": 0,
              "ticks": ""
             }
            },
            "type": "scattermapbox"
           }
          ],
          "scatterpolar": [
           {
            "marker": {
             "colorbar": {
              "outlinewidth": 0,
              "ticks": ""
             }
            },
            "type": "scatterpolar"
           }
          ],
          "scatterpolargl": [
           {
            "marker": {
             "colorbar": {
              "outlinewidth": 0,
              "ticks": ""
             }
            },
            "type": "scatterpolargl"
           }
          ],
          "scatterternary": [
           {
            "marker": {
             "colorbar": {
              "outlinewidth": 0,
              "ticks": ""
             }
            },
            "type": "scatterternary"
           }
          ],
          "surface": [
           {
            "colorbar": {
             "outlinewidth": 0,
             "ticks": ""
            },
            "colorscale": [
             [
              0,
              "#0d0887"
             ],
             [
              0.1111111111111111,
              "#46039f"
             ],
             [
              0.2222222222222222,
              "#7201a8"
             ],
             [
              0.3333333333333333,
              "#9c179e"
             ],
             [
              0.4444444444444444,
              "#bd3786"
             ],
             [
              0.5555555555555556,
              "#d8576b"
             ],
             [
              0.6666666666666666,
              "#ed7953"
             ],
             [
              0.7777777777777778,
              "#fb9f3a"
             ],
             [
              0.8888888888888888,
              "#fdca26"
             ],
             [
              1,
              "#f0f921"
             ]
            ],
            "type": "surface"
           }
          ],
          "table": [
           {
            "cells": {
             "fill": {
              "color": "#EBF0F8"
             },
             "line": {
              "color": "white"
             }
            },
            "header": {
             "fill": {
              "color": "#C8D4E3"
             },
             "line": {
              "color": "white"
             }
            },
            "type": "table"
           }
          ]
         },
         "layout": {
          "annotationdefaults": {
           "arrowcolor": "#2a3f5f",
           "arrowhead": 0,
           "arrowwidth": 1
          },
          "coloraxis": {
           "colorbar": {
            "outlinewidth": 0,
            "ticks": ""
           }
          },
          "colorscale": {
           "diverging": [
            [
             0,
             "#8e0152"
            ],
            [
             0.1,
             "#c51b7d"
            ],
            [
             0.2,
             "#de77ae"
            ],
            [
             0.3,
             "#f1b6da"
            ],
            [
             0.4,
             "#fde0ef"
            ],
            [
             0.5,
             "#f7f7f7"
            ],
            [
             0.6,
             "#e6f5d0"
            ],
            [
             0.7,
             "#b8e186"
            ],
            [
             0.8,
             "#7fbc41"
            ],
            [
             0.9,
             "#4d9221"
            ],
            [
             1,
             "#276419"
            ]
           ],
           "sequential": [
            [
             0,
             "#0d0887"
            ],
            [
             0.1111111111111111,
             "#46039f"
            ],
            [
             0.2222222222222222,
             "#7201a8"
            ],
            [
             0.3333333333333333,
             "#9c179e"
            ],
            [
             0.4444444444444444,
             "#bd3786"
            ],
            [
             0.5555555555555556,
             "#d8576b"
            ],
            [
             0.6666666666666666,
             "#ed7953"
            ],
            [
             0.7777777777777778,
             "#fb9f3a"
            ],
            [
             0.8888888888888888,
             "#fdca26"
            ],
            [
             1,
             "#f0f921"
            ]
           ],
           "sequentialminus": [
            [
             0,
             "#0d0887"
            ],
            [
             0.1111111111111111,
             "#46039f"
            ],
            [
             0.2222222222222222,
             "#7201a8"
            ],
            [
             0.3333333333333333,
             "#9c179e"
            ],
            [
             0.4444444444444444,
             "#bd3786"
            ],
            [
             0.5555555555555556,
             "#d8576b"
            ],
            [
             0.6666666666666666,
             "#ed7953"
            ],
            [
             0.7777777777777778,
             "#fb9f3a"
            ],
            [
             0.8888888888888888,
             "#fdca26"
            ],
            [
             1,
             "#f0f921"
            ]
           ]
          },
          "colorway": [
           "#636efa",
           "#EF553B",
           "#00cc96",
           "#ab63fa",
           "#FFA15A",
           "#19d3f3",
           "#FF6692",
           "#B6E880",
           "#FF97FF",
           "#FECB52"
          ],
          "font": {
           "color": "#2a3f5f"
          },
          "geo": {
           "bgcolor": "white",
           "lakecolor": "white",
           "landcolor": "#E5ECF6",
           "showlakes": true,
           "showland": true,
           "subunitcolor": "white"
          },
          "hoverlabel": {
           "align": "left"
          },
          "hovermode": "closest",
          "mapbox": {
           "style": "light"
          },
          "paper_bgcolor": "white",
          "plot_bgcolor": "#E5ECF6",
          "polar": {
           "angularaxis": {
            "gridcolor": "white",
            "linecolor": "white",
            "ticks": ""
           },
           "bgcolor": "#E5ECF6",
           "radialaxis": {
            "gridcolor": "white",
            "linecolor": "white",
            "ticks": ""
           }
          },
          "scene": {
           "xaxis": {
            "backgroundcolor": "#E5ECF6",
            "gridcolor": "white",
            "gridwidth": 2,
            "linecolor": "white",
            "showbackground": true,
            "ticks": "",
            "zerolinecolor": "white"
           },
           "yaxis": {
            "backgroundcolor": "#E5ECF6",
            "gridcolor": "white",
            "gridwidth": 2,
            "linecolor": "white",
            "showbackground": true,
            "ticks": "",
            "zerolinecolor": "white"
           },
           "zaxis": {
            "backgroundcolor": "#E5ECF6",
            "gridcolor": "white",
            "gridwidth": 2,
            "linecolor": "white",
            "showbackground": true,
            "ticks": "",
            "zerolinecolor": "white"
           }
          },
          "shapedefaults": {
           "line": {
            "color": "#2a3f5f"
           }
          },
          "ternary": {
           "aaxis": {
            "gridcolor": "white",
            "linecolor": "white",
            "ticks": ""
           },
           "baxis": {
            "gridcolor": "white",
            "linecolor": "white",
            "ticks": ""
           },
           "bgcolor": "#E5ECF6",
           "caxis": {
            "gridcolor": "white",
            "linecolor": "white",
            "ticks": ""
           }
          },
          "title": {
           "x": 0.05
          },
          "xaxis": {
           "automargin": true,
           "gridcolor": "white",
           "linecolor": "white",
           "ticks": "",
           "title": {
            "standoff": 15
           },
           "zerolinecolor": "white",
           "zerolinewidth": 2
          },
          "yaxis": {
           "automargin": true,
           "gridcolor": "white",
           "linecolor": "white",
           "ticks": "",
           "title": {
            "standoff": 15
           },
           "zerolinecolor": "white",
           "zerolinewidth": 2
          }
         }
        },
        "title": {
         "text": "Histograma Aceleración"
        }
       }
      },
      "text/html": [
       "<div>\n",
       "        \n",
       "        \n",
       "            <div id=\"396ca3fb-3ae9-44a2-9830-1064f61b6801\" class=\"plotly-graph-div\" style=\"height:525px; width:100%;\"></div>\n",
       "            <script type=\"text/javascript\">\n",
       "                require([\"plotly\"], function(Plotly) {\n",
       "                    window.PLOTLYENV=window.PLOTLYENV || {};\n",
       "                    \n",
       "                if (document.getElementById(\"396ca3fb-3ae9-44a2-9830-1064f61b6801\")) {\n",
       "                    Plotly.newPlot(\n",
       "                        '396ca3fb-3ae9-44a2-9830-1064f61b6801',\n",
       "                        [{\"type\": \"histogram\", \"x\": [12.0, 11.5, 11.0, 12.0, 10.5, 10.0, 9.0, 8.5, 10.0, 8.5, 10.0, 8.0, 9.5, 10.0, 15.0, 15.5, 15.5, 16.0, 14.5, 20.5, 17.5, 14.5, 17.5, 12.5, 15.0, 14.0, 15.0, 13.5, 18.5, 14.5, 15.5, 14.0, 19.0, 13.0, 15.5, 15.5, 15.5, 15.5, 12.0, 11.5, 13.5, 13.0, 11.5, 12.0, 12.0, 13.5, 19.0, 15.0, 14.5, 14.0, 14.0, 19.5, 14.5, 19.0, 18.0, 19.0, 20.5, 15.5, 17.0, 23.5, 19.5, 16.5, 12.0, 12.0, 13.5, 13.0, 11.5, 11.0, 13.5, 13.5, 12.5, 13.5, 12.5, 14.0, 16.0, 14.0, 14.5, 18.0, 19.5, 18.0, 16.0, 17.0, 14.5, 15.0, 16.5, 13.0, 11.5, 13.0, 14.5, 12.5, 11.5, 12.0, 13.0, 14.5, 11.0, 11.0, 11.0, 16.5, 18.0, 16.0, 16.5, 16.0, 21.0, 14.0, 12.5, 13.0, 12.5, 15.0, 19.0, 19.5, 16.5, 13.5, 18.5, 14.0, 15.5, 13.0, 9.5, 19.5, 15.5, 14.0, 15.5, 11.0, 14.0, 13.5, 11.0, 16.5, 17.0, 16.0, 17.0, 19.0, 16.5, 21.0, 17.0, 17.0, 18.0, 16.5, 14.0, 14.5, 13.5, 16.0, 15.5, 16.5, 15.5, 14.5, 16.5, 19.0, 14.5, 15.5, 14.0, 15.0, 15.5, 16.0, 16.0, 16.0, 21.0, 19.5, 11.5, 14.0, 14.5, 13.5, 21.0, 18.5, 19.0, 19.0, 15.0, 13.5, 12.0, 16.0, 17.0, 16.0, 18.5, 13.5, 16.5, 17.0, 14.5, 14.0, 17.0, 15.0, 17.0, 14.5, 13.5, 17.5, 15.5, 16.9, 14.9, 17.7, 15.3, 13.0, 13.0, 13.9, 12.8, 15.4, 14.5, 17.6, 17.6, 22.2, 22.1, 14.2, 17.4, 17.7, 21.0, 16.2, 17.8, 12.2, 17.0, 16.4, 13.6, 15.7, 13.2, 21.9, 15.5, 16.7, 12.1, 12.0, 15.0, 14.0, 18.5, 14.8, 18.6, 15.5, 16.8, 12.5, 19.0, 13.7, 14.9, 16.4, 16.9, 17.7, 19.0, 11.1, 11.4, 12.2, 14.5, 14.5, 16.0, 18.2, 15.8, 17.0, 15.9, 16.4, 14.1, 14.5, 12.8, 13.5, 21.5, 14.4, 19.4, 18.6, 16.4, 15.5, 13.2, 12.8, 19.2, 18.2, 15.8, 15.4, 17.2, 17.2, 15.8, 16.7, 18.7, 15.1, 13.2, 13.4, 11.2, 13.7, 16.5, 14.2, 14.7, 14.5, 14.8, 16.7, 17.6, 14.9, 15.9, 13.6, 15.7, 15.8, 14.9, 16.6, 15.4, 18.2, 17.3, 18.2, 16.6, 15.4, 13.4, 13.2, 15.2, 14.9, 14.3, 15.0, 13.0, 14.0, 15.2, 14.4, 15.0, 20.1, 17.4, 24.8, 22.2, 13.2, 14.9, 19.2, 14.7, 16.0, 11.3, 12.9, 13.2, 14.7, 18.8, 15.5, 16.4, 16.5, 18.1, 20.1, 18.7, 15.8, 15.5, 17.5, 15.0, 15.2, 17.9, 14.4, 19.2, 21.7, 23.7, 19.9, 21.8, 13.8, 17.3, 18.0, 15.3, 11.4, 12.5, 15.1, 14.3, 17.0, 15.7, 16.4, 14.4, 12.6, 12.9, 16.9, 16.4, 16.1, 17.8, 19.4, 17.3, 16.0, 14.9, 16.2, 20.7, 14.2, 15.8, 14.4, 16.8, 14.8, 18.3, 20.4, 19.6, 12.6, 13.8, 15.8, 19.0, 17.1, 16.6, 19.6, 18.6, 18.0, 16.2, 16.0, 18.0, 16.4, 20.5, 15.3, 18.2, 17.6, 14.7, 17.3, 14.5, 14.5, 16.9, 15.0, 15.7, 16.2, 16.4, 17.0, 14.5, 14.7, 13.9, 13.0, 17.3, 15.6, 24.6, 11.6, 18.6, 19.4]}],\n",
       "                        {\"template\": {\"data\": {\"bar\": [{\"error_x\": {\"color\": \"#2a3f5f\"}, \"error_y\": {\"color\": \"#2a3f5f\"}, \"marker\": {\"line\": {\"color\": \"#E5ECF6\", \"width\": 0.5}}, \"type\": \"bar\"}], \"barpolar\": [{\"marker\": {\"line\": {\"color\": \"#E5ECF6\", \"width\": 0.5}}, \"type\": \"barpolar\"}], \"carpet\": [{\"aaxis\": {\"endlinecolor\": \"#2a3f5f\", \"gridcolor\": \"white\", \"linecolor\": \"white\", \"minorgridcolor\": \"white\", \"startlinecolor\": \"#2a3f5f\"}, \"baxis\": {\"endlinecolor\": \"#2a3f5f\", \"gridcolor\": \"white\", \"linecolor\": \"white\", \"minorgridcolor\": \"white\", \"startlinecolor\": \"#2a3f5f\"}, \"type\": \"carpet\"}], \"choropleth\": [{\"colorbar\": {\"outlinewidth\": 0, \"ticks\": \"\"}, \"type\": \"choropleth\"}], \"contour\": [{\"colorbar\": {\"outlinewidth\": 0, \"ticks\": \"\"}, \"colorscale\": [[0.0, \"#0d0887\"], [0.1111111111111111, \"#46039f\"], [0.2222222222222222, \"#7201a8\"], [0.3333333333333333, \"#9c179e\"], [0.4444444444444444, \"#bd3786\"], [0.5555555555555556, \"#d8576b\"], [0.6666666666666666, \"#ed7953\"], [0.7777777777777778, \"#fb9f3a\"], [0.8888888888888888, \"#fdca26\"], [1.0, \"#f0f921\"]], \"type\": \"contour\"}], \"contourcarpet\": [{\"colorbar\": {\"outlinewidth\": 0, \"ticks\": \"\"}, \"type\": \"contourcarpet\"}], \"heatmap\": [{\"colorbar\": {\"outlinewidth\": 0, \"ticks\": \"\"}, \"colorscale\": [[0.0, \"#0d0887\"], [0.1111111111111111, \"#46039f\"], [0.2222222222222222, \"#7201a8\"], [0.3333333333333333, \"#9c179e\"], [0.4444444444444444, \"#bd3786\"], [0.5555555555555556, \"#d8576b\"], [0.6666666666666666, \"#ed7953\"], [0.7777777777777778, \"#fb9f3a\"], [0.8888888888888888, \"#fdca26\"], [1.0, \"#f0f921\"]], \"type\": \"heatmap\"}], \"heatmapgl\": [{\"colorbar\": {\"outlinewidth\": 0, \"ticks\": \"\"}, \"colorscale\": [[0.0, \"#0d0887\"], [0.1111111111111111, \"#46039f\"], [0.2222222222222222, \"#7201a8\"], [0.3333333333333333, \"#9c179e\"], [0.4444444444444444, \"#bd3786\"], [0.5555555555555556, \"#d8576b\"], [0.6666666666666666, \"#ed7953\"], [0.7777777777777778, \"#fb9f3a\"], [0.8888888888888888, \"#fdca26\"], [1.0, \"#f0f921\"]], \"type\": \"heatmapgl\"}], \"histogram\": [{\"marker\": {\"colorbar\": {\"outlinewidth\": 0, \"ticks\": \"\"}}, \"type\": \"histogram\"}], \"histogram2d\": [{\"colorbar\": {\"outlinewidth\": 0, \"ticks\": \"\"}, \"colorscale\": [[0.0, \"#0d0887\"], [0.1111111111111111, \"#46039f\"], [0.2222222222222222, \"#7201a8\"], [0.3333333333333333, \"#9c179e\"], [0.4444444444444444, \"#bd3786\"], [0.5555555555555556, \"#d8576b\"], [0.6666666666666666, \"#ed7953\"], [0.7777777777777778, \"#fb9f3a\"], [0.8888888888888888, \"#fdca26\"], [1.0, \"#f0f921\"]], \"type\": \"histogram2d\"}], \"histogram2dcontour\": [{\"colorbar\": {\"outlinewidth\": 0, \"ticks\": \"\"}, \"colorscale\": [[0.0, \"#0d0887\"], [0.1111111111111111, \"#46039f\"], [0.2222222222222222, \"#7201a8\"], [0.3333333333333333, \"#9c179e\"], [0.4444444444444444, \"#bd3786\"], [0.5555555555555556, \"#d8576b\"], [0.6666666666666666, \"#ed7953\"], [0.7777777777777778, \"#fb9f3a\"], [0.8888888888888888, \"#fdca26\"], [1.0, \"#f0f921\"]], \"type\": \"histogram2dcontour\"}], \"mesh3d\": [{\"colorbar\": {\"outlinewidth\": 0, \"ticks\": \"\"}, \"type\": \"mesh3d\"}], \"parcoords\": [{\"line\": {\"colorbar\": {\"outlinewidth\": 0, \"ticks\": \"\"}}, \"type\": \"parcoords\"}], \"pie\": [{\"automargin\": true, \"type\": \"pie\"}], \"scatter\": [{\"marker\": {\"colorbar\": {\"outlinewidth\": 0, \"ticks\": \"\"}}, \"type\": \"scatter\"}], \"scatter3d\": [{\"line\": {\"colorbar\": {\"outlinewidth\": 0, \"ticks\": \"\"}}, \"marker\": {\"colorbar\": {\"outlinewidth\": 0, \"ticks\": \"\"}}, \"type\": \"scatter3d\"}], \"scattercarpet\": [{\"marker\": {\"colorbar\": {\"outlinewidth\": 0, \"ticks\": \"\"}}, \"type\": \"scattercarpet\"}], \"scattergeo\": [{\"marker\": {\"colorbar\": {\"outlinewidth\": 0, \"ticks\": \"\"}}, \"type\": \"scattergeo\"}], \"scattergl\": [{\"marker\": {\"colorbar\": {\"outlinewidth\": 0, \"ticks\": \"\"}}, \"type\": \"scattergl\"}], \"scattermapbox\": [{\"marker\": {\"colorbar\": {\"outlinewidth\": 0, \"ticks\": \"\"}}, \"type\": \"scattermapbox\"}], \"scatterpolar\": [{\"marker\": {\"colorbar\": {\"outlinewidth\": 0, \"ticks\": \"\"}}, \"type\": \"scatterpolar\"}], \"scatterpolargl\": [{\"marker\": {\"colorbar\": {\"outlinewidth\": 0, \"ticks\": \"\"}}, \"type\": \"scatterpolargl\"}], \"scatterternary\": [{\"marker\": {\"colorbar\": {\"outlinewidth\": 0, \"ticks\": \"\"}}, \"type\": \"scatterternary\"}], \"surface\": [{\"colorbar\": {\"outlinewidth\": 0, \"ticks\": \"\"}, \"colorscale\": [[0.0, \"#0d0887\"], [0.1111111111111111, \"#46039f\"], [0.2222222222222222, \"#7201a8\"], [0.3333333333333333, \"#9c179e\"], [0.4444444444444444, \"#bd3786\"], [0.5555555555555556, \"#d8576b\"], [0.6666666666666666, \"#ed7953\"], [0.7777777777777778, \"#fb9f3a\"], [0.8888888888888888, \"#fdca26\"], [1.0, \"#f0f921\"]], \"type\": \"surface\"}], \"table\": [{\"cells\": {\"fill\": {\"color\": \"#EBF0F8\"}, \"line\": {\"color\": \"white\"}}, \"header\": {\"fill\": {\"color\": \"#C8D4E3\"}, \"line\": {\"color\": \"white\"}}, \"type\": \"table\"}]}, \"layout\": {\"annotationdefaults\": {\"arrowcolor\": \"#2a3f5f\", \"arrowhead\": 0, \"arrowwidth\": 1}, \"coloraxis\": {\"colorbar\": {\"outlinewidth\": 0, \"ticks\": \"\"}}, \"colorscale\": {\"diverging\": [[0, \"#8e0152\"], [0.1, \"#c51b7d\"], [0.2, \"#de77ae\"], [0.3, \"#f1b6da\"], [0.4, \"#fde0ef\"], [0.5, \"#f7f7f7\"], [0.6, \"#e6f5d0\"], [0.7, \"#b8e186\"], [0.8, \"#7fbc41\"], [0.9, \"#4d9221\"], [1, \"#276419\"]], \"sequential\": [[0.0, \"#0d0887\"], [0.1111111111111111, \"#46039f\"], [0.2222222222222222, \"#7201a8\"], [0.3333333333333333, \"#9c179e\"], [0.4444444444444444, \"#bd3786\"], [0.5555555555555556, \"#d8576b\"], [0.6666666666666666, \"#ed7953\"], [0.7777777777777778, \"#fb9f3a\"], [0.8888888888888888, \"#fdca26\"], [1.0, \"#f0f921\"]], \"sequentialminus\": [[0.0, \"#0d0887\"], [0.1111111111111111, \"#46039f\"], [0.2222222222222222, \"#7201a8\"], [0.3333333333333333, \"#9c179e\"], [0.4444444444444444, \"#bd3786\"], [0.5555555555555556, \"#d8576b\"], [0.6666666666666666, \"#ed7953\"], [0.7777777777777778, \"#fb9f3a\"], [0.8888888888888888, \"#fdca26\"], [1.0, \"#f0f921\"]]}, \"colorway\": [\"#636efa\", \"#EF553B\", \"#00cc96\", \"#ab63fa\", \"#FFA15A\", \"#19d3f3\", \"#FF6692\", \"#B6E880\", \"#FF97FF\", \"#FECB52\"], \"font\": {\"color\": \"#2a3f5f\"}, \"geo\": {\"bgcolor\": \"white\", \"lakecolor\": \"white\", \"landcolor\": \"#E5ECF6\", \"showlakes\": true, \"showland\": true, \"subunitcolor\": \"white\"}, \"hoverlabel\": {\"align\": \"left\"}, \"hovermode\": \"closest\", \"mapbox\": {\"style\": \"light\"}, \"paper_bgcolor\": \"white\", \"plot_bgcolor\": \"#E5ECF6\", \"polar\": {\"angularaxis\": {\"gridcolor\": \"white\", \"linecolor\": \"white\", \"ticks\": \"\"}, \"bgcolor\": \"#E5ECF6\", \"radialaxis\": {\"gridcolor\": \"white\", \"linecolor\": \"white\", \"ticks\": \"\"}}, \"scene\": {\"xaxis\": {\"backgroundcolor\": \"#E5ECF6\", \"gridcolor\": \"white\", \"gridwidth\": 2, \"linecolor\": \"white\", \"showbackground\": true, \"ticks\": \"\", \"zerolinecolor\": \"white\"}, \"yaxis\": {\"backgroundcolor\": \"#E5ECF6\", \"gridcolor\": \"white\", \"gridwidth\": 2, \"linecolor\": \"white\", \"showbackground\": true, \"ticks\": \"\", \"zerolinecolor\": \"white\"}, \"zaxis\": {\"backgroundcolor\": \"#E5ECF6\", \"gridcolor\": \"white\", \"gridwidth\": 2, \"linecolor\": \"white\", \"showbackground\": true, \"ticks\": \"\", \"zerolinecolor\": \"white\"}}, \"shapedefaults\": {\"line\": {\"color\": \"#2a3f5f\"}}, \"ternary\": {\"aaxis\": {\"gridcolor\": \"white\", \"linecolor\": \"white\", \"ticks\": \"\"}, \"baxis\": {\"gridcolor\": \"white\", \"linecolor\": \"white\", \"ticks\": \"\"}, \"bgcolor\": \"#E5ECF6\", \"caxis\": {\"gridcolor\": \"white\", \"linecolor\": \"white\", \"ticks\": \"\"}}, \"title\": {\"x\": 0.05}, \"xaxis\": {\"automargin\": true, \"gridcolor\": \"white\", \"linecolor\": \"white\", \"ticks\": \"\", \"title\": {\"standoff\": 15}, \"zerolinecolor\": \"white\", \"zerolinewidth\": 2}, \"yaxis\": {\"automargin\": true, \"gridcolor\": \"white\", \"linecolor\": \"white\", \"ticks\": \"\", \"title\": {\"standoff\": 15}, \"zerolinecolor\": \"white\", \"zerolinewidth\": 2}}}, \"title\": {\"text\": \"Histograma Aceleraci\\u00f3n\"}},\n",
       "                        {\"responsive\": true}\n",
       "                    ).then(function(){\n",
       "                            \n",
       "var gd = document.getElementById('396ca3fb-3ae9-44a2-9830-1064f61b6801');\n",
       "var x = new MutationObserver(function (mutations, observer) {{\n",
       "        var display = window.getComputedStyle(gd).display;\n",
       "        if (!display || display === 'none') {{\n",
       "            console.log([gd, 'removed!']);\n",
       "            Plotly.purge(gd);\n",
       "            observer.disconnect();\n",
       "        }}\n",
       "}});\n",
       "\n",
       "// Listen for the removal of the full notebook cells\n",
       "var notebookContainer = gd.closest('#notebook-container');\n",
       "if (notebookContainer) {{\n",
       "    x.observe(notebookContainer, {childList: true});\n",
       "}}\n",
       "\n",
       "// Listen for the clearing of the current output cell\n",
       "var outputEl = gd.closest('.output');\n",
       "if (outputEl) {{\n",
       "    x.observe(outputEl, {childList: true});\n",
       "}}\n",
       "\n",
       "                        })\n",
       "                };\n",
       "                });\n",
       "            </script>\n",
       "        </div>"
      ]
     },
     "metadata": {},
     "output_type": "display_data"
    }
   ],
   "source": [
    "datos =[go.Histogram(x=valores['acceleration'])]\n",
    "capa = go.Layout(title='Histograma Aceleración')\n",
    "figura = go.Figure(data=datos, layout=capa)\n",
    "pyo.iplot(figura)"
   ]
  },
  {
   "cell_type": "markdown",
   "metadata": {},
   "source": [
    "## Cortamos las colas"
   ]
  },
  {
   "cell_type": "code",
   "execution_count": 66,
   "metadata": {},
   "outputs": [
    {
     "data": {
      "application/vnd.plotly.v1+json": {
       "config": {
        "linkText": "Export to plot.ly",
        "plotlyServerURL": "https://plot.ly",
        "showLink": false
       },
       "data": [
        {
         "type": "histogram",
         "x": [
          12,
          11.5,
          11,
          12,
          10.5,
          10,
          9,
          8.5,
          10,
          8.5,
          10,
          8,
          9.5,
          10,
          15,
          15.5,
          15.5,
          16,
          14.5,
          20.5,
          17.5,
          14.5,
          17.5,
          12.5,
          15,
          14,
          15,
          13.5,
          18.5,
          14.5,
          15.5,
          14,
          19,
          13,
          15.5,
          15.5,
          15.5,
          15.5,
          12,
          11.5,
          13.5,
          13,
          11.5,
          12,
          12,
          13.5,
          19,
          15,
          14.5,
          14,
          14,
          19.5,
          14.5,
          19,
          18,
          19,
          20.5,
          15.5,
          17,
          23.5,
          19.5,
          16.5,
          12,
          12,
          13.5,
          13,
          11.5,
          11,
          13.5,
          13.5,
          12.5,
          13.5,
          12.5,
          14,
          16,
          14,
          14.5,
          18,
          19.5,
          18,
          16,
          17,
          14.5,
          15,
          16.5,
          13,
          11.5,
          13,
          14.5,
          12.5,
          11.5,
          12,
          13,
          14.5,
          11,
          11,
          11,
          16.5,
          18,
          16,
          16.5,
          16,
          21,
          14,
          12.5,
          13,
          12.5,
          15,
          19,
          19.5,
          16.5,
          13.5,
          18.5,
          14,
          15.5,
          13,
          9.5,
          19.5,
          15.5,
          14,
          15.5,
          11,
          14,
          13.5,
          11,
          16.5,
          17,
          16,
          17,
          19,
          16.5,
          21,
          17,
          17,
          18,
          16.5,
          14,
          14.5,
          13.5,
          16,
          15.5,
          16.5,
          15.5,
          14.5,
          16.5,
          19,
          14.5,
          15.5,
          14,
          15,
          15.5,
          16,
          16,
          16,
          21,
          19.5,
          11.5,
          14,
          14.5,
          13.5,
          21,
          18.5,
          19,
          19,
          15,
          13.5,
          12,
          16,
          17,
          16,
          18.5,
          13.5,
          16.5,
          17,
          14.5,
          14,
          17,
          15,
          17,
          14.5,
          13.5,
          17.5,
          15.5,
          16.9,
          14.9,
          17.7,
          15.3,
          13,
          13,
          13.9,
          12.8,
          15.4,
          14.5,
          17.6,
          17.6,
          22.2,
          22.1,
          14.2,
          17.4,
          17.7,
          21,
          16.2,
          17.8,
          12.2,
          17,
          16.4,
          13.6,
          15.7,
          13.2,
          21.9,
          15.5,
          16.7,
          12.1,
          12,
          15,
          14,
          18.5,
          14.8,
          18.6,
          15.5,
          16.8,
          12.5,
          19,
          13.7,
          14.9,
          16.4,
          16.9,
          17.7,
          19,
          11.1,
          11.4,
          12.2,
          14.5,
          14.5,
          16,
          18.2,
          15.8,
          17,
          15.9,
          16.4,
          14.1,
          14.5,
          12.8,
          13.5,
          21.5,
          14.4,
          19.4,
          18.6,
          16.4,
          15.5,
          13.2,
          12.8,
          19.2,
          18.2,
          15.8,
          15.4,
          17.2,
          17.2,
          15.8,
          16.7,
          18.7,
          15.1,
          13.2,
          13.4,
          11.2,
          13.7,
          16.5,
          14.2,
          14.7,
          14.5,
          14.8,
          16.7,
          17.6,
          14.9,
          15.9,
          13.6,
          15.7,
          15.8,
          14.9,
          16.6,
          15.4,
          18.2,
          17.3,
          18.2,
          16.6,
          15.4,
          13.4,
          13.2,
          15.2,
          14.9,
          14.3,
          15,
          13,
          14,
          15.2,
          14.4,
          15,
          20.1,
          17.4,
          24.8,
          22.2,
          13.2,
          14.9,
          19.2,
          14.7,
          16,
          11.3,
          12.9,
          13.2,
          14.7,
          18.8,
          15.5,
          16.4,
          16.5,
          18.1,
          20.1,
          18.7,
          15.8,
          15.5,
          17.5,
          15,
          15.2,
          17.9,
          14.4,
          19.2,
          21.7,
          23.7,
          19.9,
          21.8,
          13.8,
          17.3,
          18,
          15.3,
          11.4,
          12.5,
          15.1,
          14.3,
          17,
          15.7,
          16.4,
          14.4,
          12.6,
          12.9,
          16.9,
          16.4,
          16.1,
          17.8,
          19.4,
          17.3,
          16,
          14.9,
          16.2,
          20.7,
          14.2,
          15.8,
          14.4,
          16.8,
          14.8,
          18.3,
          20.4,
          19.6,
          12.6,
          13.8,
          15.8,
          19,
          17.1,
          16.6,
          19.6,
          18.6,
          18,
          16.2,
          16,
          18,
          16.4,
          20.5,
          15.3,
          18.2,
          17.6,
          14.7,
          17.3,
          14.5,
          14.5,
          16.9,
          15,
          15.7,
          16.2,
          16.4,
          17,
          14.5,
          14.7,
          13.9,
          13,
          17.3,
          15.6,
          24.6,
          11.6,
          18.6,
          19.4
         ],
         "xbins": {
          "end": 22,
          "size": 1,
          "start": 10
         }
        }
       ],
       "layout": {
        "template": {
         "data": {
          "bar": [
           {
            "error_x": {
             "color": "#2a3f5f"
            },
            "error_y": {
             "color": "#2a3f5f"
            },
            "marker": {
             "line": {
              "color": "#E5ECF6",
              "width": 0.5
             }
            },
            "type": "bar"
           }
          ],
          "barpolar": [
           {
            "marker": {
             "line": {
              "color": "#E5ECF6",
              "width": 0.5
             }
            },
            "type": "barpolar"
           }
          ],
          "carpet": [
           {
            "aaxis": {
             "endlinecolor": "#2a3f5f",
             "gridcolor": "white",
             "linecolor": "white",
             "minorgridcolor": "white",
             "startlinecolor": "#2a3f5f"
            },
            "baxis": {
             "endlinecolor": "#2a3f5f",
             "gridcolor": "white",
             "linecolor": "white",
             "minorgridcolor": "white",
             "startlinecolor": "#2a3f5f"
            },
            "type": "carpet"
           }
          ],
          "choropleth": [
           {
            "colorbar": {
             "outlinewidth": 0,
             "ticks": ""
            },
            "type": "choropleth"
           }
          ],
          "contour": [
           {
            "colorbar": {
             "outlinewidth": 0,
             "ticks": ""
            },
            "colorscale": [
             [
              0,
              "#0d0887"
             ],
             [
              0.1111111111111111,
              "#46039f"
             ],
             [
              0.2222222222222222,
              "#7201a8"
             ],
             [
              0.3333333333333333,
              "#9c179e"
             ],
             [
              0.4444444444444444,
              "#bd3786"
             ],
             [
              0.5555555555555556,
              "#d8576b"
             ],
             [
              0.6666666666666666,
              "#ed7953"
             ],
             [
              0.7777777777777778,
              "#fb9f3a"
             ],
             [
              0.8888888888888888,
              "#fdca26"
             ],
             [
              1,
              "#f0f921"
             ]
            ],
            "type": "contour"
           }
          ],
          "contourcarpet": [
           {
            "colorbar": {
             "outlinewidth": 0,
             "ticks": ""
            },
            "type": "contourcarpet"
           }
          ],
          "heatmap": [
           {
            "colorbar": {
             "outlinewidth": 0,
             "ticks": ""
            },
            "colorscale": [
             [
              0,
              "#0d0887"
             ],
             [
              0.1111111111111111,
              "#46039f"
             ],
             [
              0.2222222222222222,
              "#7201a8"
             ],
             [
              0.3333333333333333,
              "#9c179e"
             ],
             [
              0.4444444444444444,
              "#bd3786"
             ],
             [
              0.5555555555555556,
              "#d8576b"
             ],
             [
              0.6666666666666666,
              "#ed7953"
             ],
             [
              0.7777777777777778,
              "#fb9f3a"
             ],
             [
              0.8888888888888888,
              "#fdca26"
             ],
             [
              1,
              "#f0f921"
             ]
            ],
            "type": "heatmap"
           }
          ],
          "heatmapgl": [
           {
            "colorbar": {
             "outlinewidth": 0,
             "ticks": ""
            },
            "colorscale": [
             [
              0,
              "#0d0887"
             ],
             [
              0.1111111111111111,
              "#46039f"
             ],
             [
              0.2222222222222222,
              "#7201a8"
             ],
             [
              0.3333333333333333,
              "#9c179e"
             ],
             [
              0.4444444444444444,
              "#bd3786"
             ],
             [
              0.5555555555555556,
              "#d8576b"
             ],
             [
              0.6666666666666666,
              "#ed7953"
             ],
             [
              0.7777777777777778,
              "#fb9f3a"
             ],
             [
              0.8888888888888888,
              "#fdca26"
             ],
             [
              1,
              "#f0f921"
             ]
            ],
            "type": "heatmapgl"
           }
          ],
          "histogram": [
           {
            "marker": {
             "colorbar": {
              "outlinewidth": 0,
              "ticks": ""
             }
            },
            "type": "histogram"
           }
          ],
          "histogram2d": [
           {
            "colorbar": {
             "outlinewidth": 0,
             "ticks": ""
            },
            "colorscale": [
             [
              0,
              "#0d0887"
             ],
             [
              0.1111111111111111,
              "#46039f"
             ],
             [
              0.2222222222222222,
              "#7201a8"
             ],
             [
              0.3333333333333333,
              "#9c179e"
             ],
             [
              0.4444444444444444,
              "#bd3786"
             ],
             [
              0.5555555555555556,
              "#d8576b"
             ],
             [
              0.6666666666666666,
              "#ed7953"
             ],
             [
              0.7777777777777778,
              "#fb9f3a"
             ],
             [
              0.8888888888888888,
              "#fdca26"
             ],
             [
              1,
              "#f0f921"
             ]
            ],
            "type": "histogram2d"
           }
          ],
          "histogram2dcontour": [
           {
            "colorbar": {
             "outlinewidth": 0,
             "ticks": ""
            },
            "colorscale": [
             [
              0,
              "#0d0887"
             ],
             [
              0.1111111111111111,
              "#46039f"
             ],
             [
              0.2222222222222222,
              "#7201a8"
             ],
             [
              0.3333333333333333,
              "#9c179e"
             ],
             [
              0.4444444444444444,
              "#bd3786"
             ],
             [
              0.5555555555555556,
              "#d8576b"
             ],
             [
              0.6666666666666666,
              "#ed7953"
             ],
             [
              0.7777777777777778,
              "#fb9f3a"
             ],
             [
              0.8888888888888888,
              "#fdca26"
             ],
             [
              1,
              "#f0f921"
             ]
            ],
            "type": "histogram2dcontour"
           }
          ],
          "mesh3d": [
           {
            "colorbar": {
             "outlinewidth": 0,
             "ticks": ""
            },
            "type": "mesh3d"
           }
          ],
          "parcoords": [
           {
            "line": {
             "colorbar": {
              "outlinewidth": 0,
              "ticks": ""
             }
            },
            "type": "parcoords"
           }
          ],
          "pie": [
           {
            "automargin": true,
            "type": "pie"
           }
          ],
          "scatter": [
           {
            "marker": {
             "colorbar": {
              "outlinewidth": 0,
              "ticks": ""
             }
            },
            "type": "scatter"
           }
          ],
          "scatter3d": [
           {
            "line": {
             "colorbar": {
              "outlinewidth": 0,
              "ticks": ""
             }
            },
            "marker": {
             "colorbar": {
              "outlinewidth": 0,
              "ticks": ""
             }
            },
            "type": "scatter3d"
           }
          ],
          "scattercarpet": [
           {
            "marker": {
             "colorbar": {
              "outlinewidth": 0,
              "ticks": ""
             }
            },
            "type": "scattercarpet"
           }
          ],
          "scattergeo": [
           {
            "marker": {
             "colorbar": {
              "outlinewidth": 0,
              "ticks": ""
             }
            },
            "type": "scattergeo"
           }
          ],
          "scattergl": [
           {
            "marker": {
             "colorbar": {
              "outlinewidth": 0,
              "ticks": ""
             }
            },
            "type": "scattergl"
           }
          ],
          "scattermapbox": [
           {
            "marker": {
             "colorbar": {
              "outlinewidth": 0,
              "ticks": ""
             }
            },
            "type": "scattermapbox"
           }
          ],
          "scatterpolar": [
           {
            "marker": {
             "colorbar": {
              "outlinewidth": 0,
              "ticks": ""
             }
            },
            "type": "scatterpolar"
           }
          ],
          "scatterpolargl": [
           {
            "marker": {
             "colorbar": {
              "outlinewidth": 0,
              "ticks": ""
             }
            },
            "type": "scatterpolargl"
           }
          ],
          "scatterternary": [
           {
            "marker": {
             "colorbar": {
              "outlinewidth": 0,
              "ticks": ""
             }
            },
            "type": "scatterternary"
           }
          ],
          "surface": [
           {
            "colorbar": {
             "outlinewidth": 0,
             "ticks": ""
            },
            "colorscale": [
             [
              0,
              "#0d0887"
             ],
             [
              0.1111111111111111,
              "#46039f"
             ],
             [
              0.2222222222222222,
              "#7201a8"
             ],
             [
              0.3333333333333333,
              "#9c179e"
             ],
             [
              0.4444444444444444,
              "#bd3786"
             ],
             [
              0.5555555555555556,
              "#d8576b"
             ],
             [
              0.6666666666666666,
              "#ed7953"
             ],
             [
              0.7777777777777778,
              "#fb9f3a"
             ],
             [
              0.8888888888888888,
              "#fdca26"
             ],
             [
              1,
              "#f0f921"
             ]
            ],
            "type": "surface"
           }
          ],
          "table": [
           {
            "cells": {
             "fill": {
              "color": "#EBF0F8"
             },
             "line": {
              "color": "white"
             }
            },
            "header": {
             "fill": {
              "color": "#C8D4E3"
             },
             "line": {
              "color": "white"
             }
            },
            "type": "table"
           }
          ]
         },
         "layout": {
          "annotationdefaults": {
           "arrowcolor": "#2a3f5f",
           "arrowhead": 0,
           "arrowwidth": 1
          },
          "coloraxis": {
           "colorbar": {
            "outlinewidth": 0,
            "ticks": ""
           }
          },
          "colorscale": {
           "diverging": [
            [
             0,
             "#8e0152"
            ],
            [
             0.1,
             "#c51b7d"
            ],
            [
             0.2,
             "#de77ae"
            ],
            [
             0.3,
             "#f1b6da"
            ],
            [
             0.4,
             "#fde0ef"
            ],
            [
             0.5,
             "#f7f7f7"
            ],
            [
             0.6,
             "#e6f5d0"
            ],
            [
             0.7,
             "#b8e186"
            ],
            [
             0.8,
             "#7fbc41"
            ],
            [
             0.9,
             "#4d9221"
            ],
            [
             1,
             "#276419"
            ]
           ],
           "sequential": [
            [
             0,
             "#0d0887"
            ],
            [
             0.1111111111111111,
             "#46039f"
            ],
            [
             0.2222222222222222,
             "#7201a8"
            ],
            [
             0.3333333333333333,
             "#9c179e"
            ],
            [
             0.4444444444444444,
             "#bd3786"
            ],
            [
             0.5555555555555556,
             "#d8576b"
            ],
            [
             0.6666666666666666,
             "#ed7953"
            ],
            [
             0.7777777777777778,
             "#fb9f3a"
            ],
            [
             0.8888888888888888,
             "#fdca26"
            ],
            [
             1,
             "#f0f921"
            ]
           ],
           "sequentialminus": [
            [
             0,
             "#0d0887"
            ],
            [
             0.1111111111111111,
             "#46039f"
            ],
            [
             0.2222222222222222,
             "#7201a8"
            ],
            [
             0.3333333333333333,
             "#9c179e"
            ],
            [
             0.4444444444444444,
             "#bd3786"
            ],
            [
             0.5555555555555556,
             "#d8576b"
            ],
            [
             0.6666666666666666,
             "#ed7953"
            ],
            [
             0.7777777777777778,
             "#fb9f3a"
            ],
            [
             0.8888888888888888,
             "#fdca26"
            ],
            [
             1,
             "#f0f921"
            ]
           ]
          },
          "colorway": [
           "#636efa",
           "#EF553B",
           "#00cc96",
           "#ab63fa",
           "#FFA15A",
           "#19d3f3",
           "#FF6692",
           "#B6E880",
           "#FF97FF",
           "#FECB52"
          ],
          "font": {
           "color": "#2a3f5f"
          },
          "geo": {
           "bgcolor": "white",
           "lakecolor": "white",
           "landcolor": "#E5ECF6",
           "showlakes": true,
           "showland": true,
           "subunitcolor": "white"
          },
          "hoverlabel": {
           "align": "left"
          },
          "hovermode": "closest",
          "mapbox": {
           "style": "light"
          },
          "paper_bgcolor": "white",
          "plot_bgcolor": "#E5ECF6",
          "polar": {
           "angularaxis": {
            "gridcolor": "white",
            "linecolor": "white",
            "ticks": ""
           },
           "bgcolor": "#E5ECF6",
           "radialaxis": {
            "gridcolor": "white",
            "linecolor": "white",
            "ticks": ""
           }
          },
          "scene": {
           "xaxis": {
            "backgroundcolor": "#E5ECF6",
            "gridcolor": "white",
            "gridwidth": 2,
            "linecolor": "white",
            "showbackground": true,
            "ticks": "",
            "zerolinecolor": "white"
           },
           "yaxis": {
            "backgroundcolor": "#E5ECF6",
            "gridcolor": "white",
            "gridwidth": 2,
            "linecolor": "white",
            "showbackground": true,
            "ticks": "",
            "zerolinecolor": "white"
           },
           "zaxis": {
            "backgroundcolor": "#E5ECF6",
            "gridcolor": "white",
            "gridwidth": 2,
            "linecolor": "white",
            "showbackground": true,
            "ticks": "",
            "zerolinecolor": "white"
           }
          },
          "shapedefaults": {
           "line": {
            "color": "#2a3f5f"
           }
          },
          "ternary": {
           "aaxis": {
            "gridcolor": "white",
            "linecolor": "white",
            "ticks": ""
           },
           "baxis": {
            "gridcolor": "white",
            "linecolor": "white",
            "ticks": ""
           },
           "bgcolor": "#E5ECF6",
           "caxis": {
            "gridcolor": "white",
            "linecolor": "white",
            "ticks": ""
           }
          },
          "title": {
           "x": 0.05
          },
          "xaxis": {
           "automargin": true,
           "gridcolor": "white",
           "linecolor": "white",
           "ticks": "",
           "title": {
            "standoff": 15
           },
           "zerolinecolor": "white",
           "zerolinewidth": 2
          },
          "yaxis": {
           "automargin": true,
           "gridcolor": "white",
           "linecolor": "white",
           "ticks": "",
           "title": {
            "standoff": 15
           },
           "zerolinecolor": "white",
           "zerolinewidth": 2
          }
         }
        },
        "title": {
         "text": "Histograma Aceleración"
        }
       }
      },
      "text/html": [
       "<div>\n",
       "        \n",
       "        \n",
       "            <div id=\"6dec70cf-8608-439e-82a4-01b33eda8568\" class=\"plotly-graph-div\" style=\"height:525px; width:100%;\"></div>\n",
       "            <script type=\"text/javascript\">\n",
       "                require([\"plotly\"], function(Plotly) {\n",
       "                    window.PLOTLYENV=window.PLOTLYENV || {};\n",
       "                    \n",
       "                if (document.getElementById(\"6dec70cf-8608-439e-82a4-01b33eda8568\")) {\n",
       "                    Plotly.newPlot(\n",
       "                        '6dec70cf-8608-439e-82a4-01b33eda8568',\n",
       "                        [{\"type\": \"histogram\", \"x\": [12.0, 11.5, 11.0, 12.0, 10.5, 10.0, 9.0, 8.5, 10.0, 8.5, 10.0, 8.0, 9.5, 10.0, 15.0, 15.5, 15.5, 16.0, 14.5, 20.5, 17.5, 14.5, 17.5, 12.5, 15.0, 14.0, 15.0, 13.5, 18.5, 14.5, 15.5, 14.0, 19.0, 13.0, 15.5, 15.5, 15.5, 15.5, 12.0, 11.5, 13.5, 13.0, 11.5, 12.0, 12.0, 13.5, 19.0, 15.0, 14.5, 14.0, 14.0, 19.5, 14.5, 19.0, 18.0, 19.0, 20.5, 15.5, 17.0, 23.5, 19.5, 16.5, 12.0, 12.0, 13.5, 13.0, 11.5, 11.0, 13.5, 13.5, 12.5, 13.5, 12.5, 14.0, 16.0, 14.0, 14.5, 18.0, 19.5, 18.0, 16.0, 17.0, 14.5, 15.0, 16.5, 13.0, 11.5, 13.0, 14.5, 12.5, 11.5, 12.0, 13.0, 14.5, 11.0, 11.0, 11.0, 16.5, 18.0, 16.0, 16.5, 16.0, 21.0, 14.0, 12.5, 13.0, 12.5, 15.0, 19.0, 19.5, 16.5, 13.5, 18.5, 14.0, 15.5, 13.0, 9.5, 19.5, 15.5, 14.0, 15.5, 11.0, 14.0, 13.5, 11.0, 16.5, 17.0, 16.0, 17.0, 19.0, 16.5, 21.0, 17.0, 17.0, 18.0, 16.5, 14.0, 14.5, 13.5, 16.0, 15.5, 16.5, 15.5, 14.5, 16.5, 19.0, 14.5, 15.5, 14.0, 15.0, 15.5, 16.0, 16.0, 16.0, 21.0, 19.5, 11.5, 14.0, 14.5, 13.5, 21.0, 18.5, 19.0, 19.0, 15.0, 13.5, 12.0, 16.0, 17.0, 16.0, 18.5, 13.5, 16.5, 17.0, 14.5, 14.0, 17.0, 15.0, 17.0, 14.5, 13.5, 17.5, 15.5, 16.9, 14.9, 17.7, 15.3, 13.0, 13.0, 13.9, 12.8, 15.4, 14.5, 17.6, 17.6, 22.2, 22.1, 14.2, 17.4, 17.7, 21.0, 16.2, 17.8, 12.2, 17.0, 16.4, 13.6, 15.7, 13.2, 21.9, 15.5, 16.7, 12.1, 12.0, 15.0, 14.0, 18.5, 14.8, 18.6, 15.5, 16.8, 12.5, 19.0, 13.7, 14.9, 16.4, 16.9, 17.7, 19.0, 11.1, 11.4, 12.2, 14.5, 14.5, 16.0, 18.2, 15.8, 17.0, 15.9, 16.4, 14.1, 14.5, 12.8, 13.5, 21.5, 14.4, 19.4, 18.6, 16.4, 15.5, 13.2, 12.8, 19.2, 18.2, 15.8, 15.4, 17.2, 17.2, 15.8, 16.7, 18.7, 15.1, 13.2, 13.4, 11.2, 13.7, 16.5, 14.2, 14.7, 14.5, 14.8, 16.7, 17.6, 14.9, 15.9, 13.6, 15.7, 15.8, 14.9, 16.6, 15.4, 18.2, 17.3, 18.2, 16.6, 15.4, 13.4, 13.2, 15.2, 14.9, 14.3, 15.0, 13.0, 14.0, 15.2, 14.4, 15.0, 20.1, 17.4, 24.8, 22.2, 13.2, 14.9, 19.2, 14.7, 16.0, 11.3, 12.9, 13.2, 14.7, 18.8, 15.5, 16.4, 16.5, 18.1, 20.1, 18.7, 15.8, 15.5, 17.5, 15.0, 15.2, 17.9, 14.4, 19.2, 21.7, 23.7, 19.9, 21.8, 13.8, 17.3, 18.0, 15.3, 11.4, 12.5, 15.1, 14.3, 17.0, 15.7, 16.4, 14.4, 12.6, 12.9, 16.9, 16.4, 16.1, 17.8, 19.4, 17.3, 16.0, 14.9, 16.2, 20.7, 14.2, 15.8, 14.4, 16.8, 14.8, 18.3, 20.4, 19.6, 12.6, 13.8, 15.8, 19.0, 17.1, 16.6, 19.6, 18.6, 18.0, 16.2, 16.0, 18.0, 16.4, 20.5, 15.3, 18.2, 17.6, 14.7, 17.3, 14.5, 14.5, 16.9, 15.0, 15.7, 16.2, 16.4, 17.0, 14.5, 14.7, 13.9, 13.0, 17.3, 15.6, 24.6, 11.6, 18.6, 19.4], \"xbins\": {\"end\": 22, \"size\": 1, \"start\": 10}}],\n",
       "                        {\"template\": {\"data\": {\"bar\": [{\"error_x\": {\"color\": \"#2a3f5f\"}, \"error_y\": {\"color\": \"#2a3f5f\"}, \"marker\": {\"line\": {\"color\": \"#E5ECF6\", \"width\": 0.5}}, \"type\": \"bar\"}], \"barpolar\": [{\"marker\": {\"line\": {\"color\": \"#E5ECF6\", \"width\": 0.5}}, \"type\": \"barpolar\"}], \"carpet\": [{\"aaxis\": {\"endlinecolor\": \"#2a3f5f\", \"gridcolor\": \"white\", \"linecolor\": \"white\", \"minorgridcolor\": \"white\", \"startlinecolor\": \"#2a3f5f\"}, \"baxis\": {\"endlinecolor\": \"#2a3f5f\", \"gridcolor\": \"white\", \"linecolor\": \"white\", \"minorgridcolor\": \"white\", \"startlinecolor\": \"#2a3f5f\"}, \"type\": \"carpet\"}], \"choropleth\": [{\"colorbar\": {\"outlinewidth\": 0, \"ticks\": \"\"}, \"type\": \"choropleth\"}], \"contour\": [{\"colorbar\": {\"outlinewidth\": 0, \"ticks\": \"\"}, \"colorscale\": [[0.0, \"#0d0887\"], [0.1111111111111111, \"#46039f\"], [0.2222222222222222, \"#7201a8\"], [0.3333333333333333, \"#9c179e\"], [0.4444444444444444, \"#bd3786\"], [0.5555555555555556, \"#d8576b\"], [0.6666666666666666, \"#ed7953\"], [0.7777777777777778, \"#fb9f3a\"], [0.8888888888888888, \"#fdca26\"], [1.0, \"#f0f921\"]], \"type\": \"contour\"}], \"contourcarpet\": [{\"colorbar\": {\"outlinewidth\": 0, \"ticks\": \"\"}, \"type\": \"contourcarpet\"}], \"heatmap\": [{\"colorbar\": {\"outlinewidth\": 0, \"ticks\": \"\"}, \"colorscale\": [[0.0, \"#0d0887\"], [0.1111111111111111, \"#46039f\"], [0.2222222222222222, \"#7201a8\"], [0.3333333333333333, \"#9c179e\"], [0.4444444444444444, \"#bd3786\"], [0.5555555555555556, \"#d8576b\"], [0.6666666666666666, \"#ed7953\"], [0.7777777777777778, \"#fb9f3a\"], [0.8888888888888888, \"#fdca26\"], [1.0, \"#f0f921\"]], \"type\": \"heatmap\"}], \"heatmapgl\": [{\"colorbar\": {\"outlinewidth\": 0, \"ticks\": \"\"}, \"colorscale\": [[0.0, \"#0d0887\"], [0.1111111111111111, \"#46039f\"], [0.2222222222222222, \"#7201a8\"], [0.3333333333333333, \"#9c179e\"], [0.4444444444444444, \"#bd3786\"], [0.5555555555555556, \"#d8576b\"], [0.6666666666666666, \"#ed7953\"], [0.7777777777777778, \"#fb9f3a\"], [0.8888888888888888, \"#fdca26\"], [1.0, \"#f0f921\"]], \"type\": \"heatmapgl\"}], \"histogram\": [{\"marker\": {\"colorbar\": {\"outlinewidth\": 0, \"ticks\": \"\"}}, \"type\": \"histogram\"}], \"histogram2d\": [{\"colorbar\": {\"outlinewidth\": 0, \"ticks\": \"\"}, \"colorscale\": [[0.0, \"#0d0887\"], [0.1111111111111111, \"#46039f\"], [0.2222222222222222, \"#7201a8\"], [0.3333333333333333, \"#9c179e\"], [0.4444444444444444, \"#bd3786\"], [0.5555555555555556, \"#d8576b\"], [0.6666666666666666, \"#ed7953\"], [0.7777777777777778, \"#fb9f3a\"], [0.8888888888888888, \"#fdca26\"], [1.0, \"#f0f921\"]], \"type\": \"histogram2d\"}], \"histogram2dcontour\": [{\"colorbar\": {\"outlinewidth\": 0, \"ticks\": \"\"}, \"colorscale\": [[0.0, \"#0d0887\"], [0.1111111111111111, \"#46039f\"], [0.2222222222222222, \"#7201a8\"], [0.3333333333333333, \"#9c179e\"], [0.4444444444444444, \"#bd3786\"], [0.5555555555555556, \"#d8576b\"], [0.6666666666666666, \"#ed7953\"], [0.7777777777777778, \"#fb9f3a\"], [0.8888888888888888, \"#fdca26\"], [1.0, \"#f0f921\"]], \"type\": \"histogram2dcontour\"}], \"mesh3d\": [{\"colorbar\": {\"outlinewidth\": 0, \"ticks\": \"\"}, \"type\": \"mesh3d\"}], \"parcoords\": [{\"line\": {\"colorbar\": {\"outlinewidth\": 0, \"ticks\": \"\"}}, \"type\": \"parcoords\"}], \"pie\": [{\"automargin\": true, \"type\": \"pie\"}], \"scatter\": [{\"marker\": {\"colorbar\": {\"outlinewidth\": 0, \"ticks\": \"\"}}, \"type\": \"scatter\"}], \"scatter3d\": [{\"line\": {\"colorbar\": {\"outlinewidth\": 0, \"ticks\": \"\"}}, \"marker\": {\"colorbar\": {\"outlinewidth\": 0, \"ticks\": \"\"}}, \"type\": \"scatter3d\"}], \"scattercarpet\": [{\"marker\": {\"colorbar\": {\"outlinewidth\": 0, \"ticks\": \"\"}}, \"type\": \"scattercarpet\"}], \"scattergeo\": [{\"marker\": {\"colorbar\": {\"outlinewidth\": 0, \"ticks\": \"\"}}, \"type\": \"scattergeo\"}], \"scattergl\": [{\"marker\": {\"colorbar\": {\"outlinewidth\": 0, \"ticks\": \"\"}}, \"type\": \"scattergl\"}], \"scattermapbox\": [{\"marker\": {\"colorbar\": {\"outlinewidth\": 0, \"ticks\": \"\"}}, \"type\": \"scattermapbox\"}], \"scatterpolar\": [{\"marker\": {\"colorbar\": {\"outlinewidth\": 0, \"ticks\": \"\"}}, \"type\": \"scatterpolar\"}], \"scatterpolargl\": [{\"marker\": {\"colorbar\": {\"outlinewidth\": 0, \"ticks\": \"\"}}, \"type\": \"scatterpolargl\"}], \"scatterternary\": [{\"marker\": {\"colorbar\": {\"outlinewidth\": 0, \"ticks\": \"\"}}, \"type\": \"scatterternary\"}], \"surface\": [{\"colorbar\": {\"outlinewidth\": 0, \"ticks\": \"\"}, \"colorscale\": [[0.0, \"#0d0887\"], [0.1111111111111111, \"#46039f\"], [0.2222222222222222, \"#7201a8\"], [0.3333333333333333, \"#9c179e\"], [0.4444444444444444, \"#bd3786\"], [0.5555555555555556, \"#d8576b\"], [0.6666666666666666, \"#ed7953\"], [0.7777777777777778, \"#fb9f3a\"], [0.8888888888888888, \"#fdca26\"], [1.0, \"#f0f921\"]], \"type\": \"surface\"}], \"table\": [{\"cells\": {\"fill\": {\"color\": \"#EBF0F8\"}, \"line\": {\"color\": \"white\"}}, \"header\": {\"fill\": {\"color\": \"#C8D4E3\"}, \"line\": {\"color\": \"white\"}}, \"type\": \"table\"}]}, \"layout\": {\"annotationdefaults\": {\"arrowcolor\": \"#2a3f5f\", \"arrowhead\": 0, \"arrowwidth\": 1}, \"coloraxis\": {\"colorbar\": {\"outlinewidth\": 0, \"ticks\": \"\"}}, \"colorscale\": {\"diverging\": [[0, \"#8e0152\"], [0.1, \"#c51b7d\"], [0.2, \"#de77ae\"], [0.3, \"#f1b6da\"], [0.4, \"#fde0ef\"], [0.5, \"#f7f7f7\"], [0.6, \"#e6f5d0\"], [0.7, \"#b8e186\"], [0.8, \"#7fbc41\"], [0.9, \"#4d9221\"], [1, \"#276419\"]], \"sequential\": [[0.0, \"#0d0887\"], [0.1111111111111111, \"#46039f\"], [0.2222222222222222, \"#7201a8\"], [0.3333333333333333, \"#9c179e\"], [0.4444444444444444, \"#bd3786\"], [0.5555555555555556, \"#d8576b\"], [0.6666666666666666, \"#ed7953\"], [0.7777777777777778, \"#fb9f3a\"], [0.8888888888888888, \"#fdca26\"], [1.0, \"#f0f921\"]], \"sequentialminus\": [[0.0, \"#0d0887\"], [0.1111111111111111, \"#46039f\"], [0.2222222222222222, \"#7201a8\"], [0.3333333333333333, \"#9c179e\"], [0.4444444444444444, \"#bd3786\"], [0.5555555555555556, \"#d8576b\"], [0.6666666666666666, \"#ed7953\"], [0.7777777777777778, \"#fb9f3a\"], [0.8888888888888888, \"#fdca26\"], [1.0, \"#f0f921\"]]}, \"colorway\": [\"#636efa\", \"#EF553B\", \"#00cc96\", \"#ab63fa\", \"#FFA15A\", \"#19d3f3\", \"#FF6692\", \"#B6E880\", \"#FF97FF\", \"#FECB52\"], \"font\": {\"color\": \"#2a3f5f\"}, \"geo\": {\"bgcolor\": \"white\", \"lakecolor\": \"white\", \"landcolor\": \"#E5ECF6\", \"showlakes\": true, \"showland\": true, \"subunitcolor\": \"white\"}, \"hoverlabel\": {\"align\": \"left\"}, \"hovermode\": \"closest\", \"mapbox\": {\"style\": \"light\"}, \"paper_bgcolor\": \"white\", \"plot_bgcolor\": \"#E5ECF6\", \"polar\": {\"angularaxis\": {\"gridcolor\": \"white\", \"linecolor\": \"white\", \"ticks\": \"\"}, \"bgcolor\": \"#E5ECF6\", \"radialaxis\": {\"gridcolor\": \"white\", \"linecolor\": \"white\", \"ticks\": \"\"}}, \"scene\": {\"xaxis\": {\"backgroundcolor\": \"#E5ECF6\", \"gridcolor\": \"white\", \"gridwidth\": 2, \"linecolor\": \"white\", \"showbackground\": true, \"ticks\": \"\", \"zerolinecolor\": \"white\"}, \"yaxis\": {\"backgroundcolor\": \"#E5ECF6\", \"gridcolor\": \"white\", \"gridwidth\": 2, \"linecolor\": \"white\", \"showbackground\": true, \"ticks\": \"\", \"zerolinecolor\": \"white\"}, \"zaxis\": {\"backgroundcolor\": \"#E5ECF6\", \"gridcolor\": \"white\", \"gridwidth\": 2, \"linecolor\": \"white\", \"showbackground\": true, \"ticks\": \"\", \"zerolinecolor\": \"white\"}}, \"shapedefaults\": {\"line\": {\"color\": \"#2a3f5f\"}}, \"ternary\": {\"aaxis\": {\"gridcolor\": \"white\", \"linecolor\": \"white\", \"ticks\": \"\"}, \"baxis\": {\"gridcolor\": \"white\", \"linecolor\": \"white\", \"ticks\": \"\"}, \"bgcolor\": \"#E5ECF6\", \"caxis\": {\"gridcolor\": \"white\", \"linecolor\": \"white\", \"ticks\": \"\"}}, \"title\": {\"x\": 0.05}, \"xaxis\": {\"automargin\": true, \"gridcolor\": \"white\", \"linecolor\": \"white\", \"ticks\": \"\", \"title\": {\"standoff\": 15}, \"zerolinecolor\": \"white\", \"zerolinewidth\": 2}, \"yaxis\": {\"automargin\": true, \"gridcolor\": \"white\", \"linecolor\": \"white\", \"ticks\": \"\", \"title\": {\"standoff\": 15}, \"zerolinecolor\": \"white\", \"zerolinewidth\": 2}}}, \"title\": {\"text\": \"Histograma Aceleraci\\u00f3n\"}},\n",
       "                        {\"responsive\": true}\n",
       "                    ).then(function(){\n",
       "                            \n",
       "var gd = document.getElementById('6dec70cf-8608-439e-82a4-01b33eda8568');\n",
       "var x = new MutationObserver(function (mutations, observer) {{\n",
       "        var display = window.getComputedStyle(gd).display;\n",
       "        if (!display || display === 'none') {{\n",
       "            console.log([gd, 'removed!']);\n",
       "            Plotly.purge(gd);\n",
       "            observer.disconnect();\n",
       "        }}\n",
       "}});\n",
       "\n",
       "// Listen for the removal of the full notebook cells\n",
       "var notebookContainer = gd.closest('#notebook-container');\n",
       "if (notebookContainer) {{\n",
       "    x.observe(notebookContainer, {childList: true});\n",
       "}}\n",
       "\n",
       "// Listen for the clearing of the current output cell\n",
       "var outputEl = gd.closest('.output');\n",
       "if (outputEl) {{\n",
       "    x.observe(outputEl, {childList: true});\n",
       "}}\n",
       "\n",
       "                        })\n",
       "                };\n",
       "                });\n",
       "            </script>\n",
       "        </div>"
      ]
     },
     "metadata": {},
     "output_type": "display_data"
    }
   ],
   "source": [
    "datos =[go.Histogram(x=valores['acceleration'], xbins=dict(start=10, end=22, size=1))]\n",
    "figura = go.Figure(data=datos, layout=capa)\n",
    "pyo.iplot(figura)"
   ]
  },
  {
   "cell_type": "markdown",
   "metadata": {},
   "source": [
    "<div class='alert alert-info' style='padding: 0 0 10px'>\n",
    "    <h2 style='text-align:center'>Distribution Plots</h2>\n",
    "</div>"
   ]
  },
  {
   "cell_type": "code",
   "execution_count": 73,
   "metadata": {},
   "outputs": [],
   "source": [
    "valores = [np.random.randn(1000)]\n",
    "tag = ['Grafica de distribución']\n",
    "capa = go.Layout(title='Histograma Aceleración')"
   ]
  },
  {
   "cell_type": "code",
   "execution_count": 78,
   "metadata": {},
   "outputs": [
    {
     "data": {
      "application/vnd.plotly.v1+json": {
       "config": {
        "linkText": "Export to plot.ly",
        "plotlyServerURL": "https://plot.ly",
        "showLink": false
       },
       "data": [
        {
         "autobinx": false,
         "histnorm": "probability density",
         "legendgroup": "Grafica de distribución",
         "marker": {
          "color": "rgb(31, 119, 180)"
         },
         "name": "Grafica de distribución",
         "opacity": 0.7,
         "type": "histogram",
         "x": [
          1.0120159562081275,
          -0.11794371911875322,
          -0.15799089132625807,
          0.6185607651239511,
          1.7613695472052444,
          0.2794989862481751,
          0.7101391979800243,
          -1.143585654633243,
          0.004095655221802772,
          -0.07166325814202996,
          -1.4568124056133311,
          1.0478806047091815,
          -0.2354866200047655,
          -0.6248215409123633,
          -0.5284269036676169,
          0.18881415307328692,
          -1.7479783902620394,
          0.05423650529216657,
          -0.1424293421801908,
          0.24800167681346869,
          -0.35584922370674466,
          0.5227163693874507,
          -1.1523988167215053,
          -0.8797567061341485,
          -1.1085795042612856,
          -1.301390086093984,
          0.5462465545429774,
          -0.37363284977503103,
          -0.9036355447937187,
          -0.5895110877858477,
          0.5523124035589996,
          0.5877787081807178,
          0.882412553407201,
          -1.096821943897443,
          -1.5214829245198627,
          0.8320267666642418,
          1.3925506202481026,
          -0.2269539519601426,
          -1.1838316168629417,
          -0.23204458992399773,
          -0.2908221765123927,
          -0.44682844294105095,
          0.013295969133200101,
          -1.622023129093439,
          0.16848717519880754,
          0.9279948785141636,
          0.9938719599535817,
          -0.772977215488478,
          -0.28127784695712527,
          -1.6424876588717816,
          -0.12652334391666534,
          -0.03527231263679663,
          0.7526935570344095,
          -1.4982544127092632,
          -0.2026549261232619,
          -0.25368903431886086,
          0.23206542499054755,
          -0.6685909063953238,
          -0.6596960510226653,
          -0.6882556579572172,
          1.3505008803851555,
          1.2594991479992825,
          -0.21947121289528587,
          -1.3262809028166638,
          -0.7881507074890627,
          -1.20833285597071,
          -2.433566253008811,
          0.7331057928273085,
          0.7068238889234576,
          -0.8618504680182072,
          -2.3151779084293715,
          -0.5828406794310226,
          -0.2612409012618235,
          1.1964306426774922,
          -1.1840734968086881,
          -0.37534228328461083,
          -2.1417912336221825,
          -1.7513968184282998,
          0.14980227653054007,
          1.568223750660859,
          -0.7893297393596441,
          1.2560990114097843,
          0.5301655926198482,
          0.3317179808449956,
          1.1328991932940167,
          -0.7299327380104815,
          -0.7245480815478507,
          0.3708125881691263,
          0.04739960903067245,
          1.117977179582803,
          -1.661407403843041,
          0.8783252812318036,
          0.1515333688193546,
          1.0805342555422444,
          -1.3976398670365429,
          -0.8906476812795588,
          -2.476082699765291,
          -0.9128474611003814,
          -0.30611800000152184,
          -0.07956383420844605,
          0.16529503364313158,
          -0.39879378634560936,
          1.0364175868980674,
          -0.7549569432052312,
          -0.05371168651549924,
          -1.3094460479333234,
          0.5874338227743479,
          2.4557807594937393,
          -0.7551739262022392,
          0.17686679523846344,
          0.48764233626321113,
          -0.2385145084674184,
          -0.061124232273970736,
          -1.8744053968777619,
          1.2353450200398535,
          -0.07199120151027243,
          0.18617408079451944,
          0.17440490867492453,
          -0.2974087291755161,
          0.3067459280379593,
          0.340800464660985,
          -0.43092890536422596,
          -0.10214552638065337,
          0.39467980572114175,
          -0.20467381356237,
          0.8771064831581842,
          0.09775241444880067,
          -0.23508399300187646,
          -0.6595802587795687,
          1.3305811748184784,
          1.187627301559431,
          -0.26752677775116024,
          0.8334128726384903,
          0.4140243921226008,
          0.09774773568776886,
          -1.023824224201344,
          -0.8326499373491654,
          1.226316115473316,
          1.0887093985656224,
          -0.10493659144105738,
          -0.08107662130807572,
          1.0996595150272035,
          -0.020713415117513182,
          -0.24067011595312757,
          0.5332045105159988,
          0.3726624969116445,
          1.3854146088117283,
          1.4098297489266765,
          1.8633140417006662,
          1.1945706915213903,
          -1.073854718683601,
          -1.664280698200075,
          -0.32948744928578966,
          0.1630889069417424,
          0.5980381333604661,
          0.3900022614071915,
          1.2014786216863063,
          0.1552502264823736,
          -0.4322634543849467,
          0.8564391855242938,
          0.8145114791707335,
          1.639466600962114,
          -0.9981781100324902,
          -0.9554805983835549,
          0.1788639535061891,
          1.74309847947539,
          0.19315235872987652,
          0.1626784064013696,
          0.006621732473359724,
          -0.4890740422926179,
          -0.04285714758225098,
          -1.0775163782069657,
          0.858620248030722,
          -0.3004043984757672,
          -0.32277052189926264,
          -0.7841670438349999,
          -1.3420968535233915,
          -0.293291430096212,
          -1.3565969708948273,
          -0.3237848197610252,
          -0.3630120071758396,
          0.24196570795536454,
          0.6257528590952347,
          1.6045690844648055,
          -0.29481018676032444,
          -0.5386111774135091,
          0.7388882165598567,
          0.6292173947785297,
          0.02893704795433494,
          -0.2719864386607667,
          -0.08913672178987013,
          -0.48025763732325005,
          1.0365829111912164,
          -0.9184726158470284,
          -0.14473193564359937,
          -1.4707421107861622,
          1.7293805544437792,
          -0.7412918097595506,
          -0.8369791472662509,
          -2.125788208413472,
          0.9121500288927293,
          -0.4917888592740892,
          -1.0439614248916478,
          -0.7431396984336726,
          -0.4964961905056116,
          0.5477807826034946,
          0.13693836028965917,
          -0.8486112527779721,
          0.1677361873678007,
          0.17619618916997545,
          -1.3267799432776377,
          -0.22803917638234475,
          0.1870914099573666,
          -0.6969066254425511,
          1.0998724480644155,
          1.6617276062028594,
          0.03617543783005486,
          1.1358678961922766,
          0.5932760639113834,
          0.6657005487465432,
          1.3395171115545614,
          0.5091865198865247,
          -2.2365791042377237,
          1.9886814542678664,
          -0.5244742671325441,
          0.6612889001087671,
          0.0032415315663924874,
          0.6762312785185889,
          0.8742698758371018,
          0.03221919389801573,
          1.708871817159416,
          0.9415719454798883,
          -0.23809608461262208,
          1.4864425152487297,
          1.105042573666549,
          -1.4382877181471347,
          0.3163840736537758,
          -0.9665492093425809,
          0.26004638599407376,
          -2.381239256570817,
          -1.227518457154587,
          0.8865156681911838,
          0.8059772615621925,
          0.1870043157821806,
          1.5617701411993274,
          -0.2795246114870551,
          -1.4588932205535372,
          1.7483001107841132,
          0.1492208061619588,
          -0.15499748022838003,
          -0.1969525485154328,
          -1.1490944969717989,
          0.6610190946667495,
          1.1369607097254029,
          -0.08153525295991461,
          0.7494822844413311,
          -1.3750315470974108,
          0.7672369669654233,
          1.467743454633007,
          -0.3929027662836692,
          -0.13697684009286065,
          -0.7257661777801883,
          1.6327902242164645,
          -1.3265158022431434,
          -0.38799086602976374,
          -0.9397768407115871,
          -2.2887955014292767,
          -0.012450916098197363,
          -0.40074378962767965,
          -0.4058122008604807,
          1.2731045104826564,
          -1.8529728503623606,
          -1.3748098169135712,
          -0.6524744672842437,
          0.7614517765791233,
          -0.5212920752348553,
          0.7007443509809254,
          0.4389216588023518,
          0.21434696618301977,
          -0.5433579933372816,
          0.3172940443438857,
          -0.7313909962731417,
          0.7074282958770881,
          -1.2008546746038844,
          0.37478530164303536,
          0.6587583428494561,
          0.4326197505185297,
          -0.5919872007340846,
          -0.11082977427189081,
          0.1224672512026828,
          -1.0687928952511245,
          0.5119909839907971,
          -0.5957786020624792,
          0.8337362615164677,
          0.23889816351031282,
          -1.2227836090084065,
          -0.6438200644286333,
          2.22917553700878,
          -0.3759152201044524,
          1.1655419785778875,
          0.1388931354768138,
          -2.312620587203347,
          0.003931673137984787,
          0.3280514501851214,
          -1.274402172226026,
          0.496644219196394,
          -0.42432074622064814,
          -0.21986676275362782,
          -0.09589490085399835,
          0.8915816761269946,
          -1.7147667840842689,
          0.4847330394219256,
          2.4982111138316303,
          -0.6137186477646563,
          -1.73526011545938,
          0.3958565248707491,
          0.4825593313650997,
          2.4286625614179127,
          -0.22847129058619883,
          0.7379945546819486,
          1.4169301514299504,
          0.655923013331126,
          -0.8097502223045021,
          -0.6176500540491219,
          -0.09691949907905881,
          0.6308209978270624,
          0.8744385310668121,
          0.20952926920459355,
          -0.38161124675161123,
          -1.6371207561457164,
          0.26888551627743235,
          -0.4671196563458131,
          -0.4210769417304585,
          -0.005493165970494106,
          -0.2525536109741783,
          0.44337048325352746,
          -1.047806097318111,
          1.1010573153252288,
          0.45971769457535067,
          -1.0146033648552495,
          0.3376649485445848,
          -0.7850652109998408,
          1.904201854918396,
          1.4669664432887832,
          -1.2273775410734014,
          0.5993893703788021,
          -0.3855602650801696,
          0.3038601873411668,
          0.7967142773453741,
          -0.4688859265086952,
          0.722259047194428,
          0.7455051016813016,
          0.07405052137538934,
          -0.6704488900106637,
          -0.7045356249625454,
          -0.8660157631938696,
          1.1513183090799597,
          -1.4063318656651338,
          0.2406857533179167,
          0.6840065491677314,
          -0.6994468715950343,
          0.00030529949612355015,
          0.6270770362331293,
          -1.154048299281776,
          0.537817201635871,
          -0.47004327011536085,
          -0.7121489066969701,
          0.2222311801695871,
          0.4173548479906453,
          -0.07215051453715911,
          1.1097095129379402,
          0.6564394213364835,
          1.2751651179154115,
          0.7117088568461575,
          -1.8475538141905727,
          0.49788257158261123,
          -0.4541461100258152,
          -1.3075720618753852,
          -0.43329442469883345,
          -0.2253580678562658,
          -0.9220513684768641,
          2.057058553239875,
          -0.8512200800856682,
          -1.8003918821871552,
          0.28579251861855814,
          0.6102010406456296,
          0.15927953389856414,
          0.01491255371833891,
          -0.7095268449138338,
          0.27489184746052675,
          -0.5105554698854274,
          -0.20222316555315298,
          -0.7545194823004334,
          0.4501944738968694,
          -0.2080693754833176,
          1.2024142807901548,
          -0.48095275390066905,
          -0.9942146220831196,
          -0.4008335387233326,
          1.637926259600444,
          0.47397959483176816,
          0.09239989863266934,
          -0.7692404875701608,
          -1.0672022737127838,
          -0.032858979957173615,
          -1.215040256518421,
          0.21691315732276464,
          0.9045220033198182,
          -1.4912751823557773,
          -2.2390628984869636,
          0.140659399367941,
          -1.0238963550088676,
          -1.6128157649110904,
          -0.4306438022069496,
          -0.11487615520026463,
          -0.29078141921609213,
          -1.277798299313343,
          0.5511937398738697,
          0.8370609154518472,
          1.4757084800594464,
          0.08205164007319368,
          0.1303800679522114,
          0.3095434817665662,
          -0.562216425700459,
          1.5833600058671358,
          0.9658919853991742,
          -0.0645260856951647,
          1.3379303944608876,
          0.6887651509885396,
          -1.8511618905874585,
          0.6375974081547001,
          -0.053404051598950265,
          0.014924455095257859,
          1.7665497378233952,
          -0.05708916717607912,
          -1.0825471970020673,
          -0.0011191133974854952,
          1.8257589436235633,
          0.880613408378885,
          0.772600584783218,
          -0.5844961550108779,
          -0.5925869065811682,
          -0.3649119068196906,
          0.485243114602169,
          -0.9595324109469201,
          0.42087475220070947,
          -0.20040106027345528,
          -0.9551161476615123,
          0.3612856147159105,
          1.8321307768338329,
          2.273264350489737,
          -1.6773361626634107,
          0.7415944662154292,
          -0.014666922292556917,
          -0.4391459291627979,
          -0.30983889158616496,
          0.7916677823968051,
          -1.900993370410203,
          0.9292899154750422,
          -0.3281213119158794,
          1.9860701268188017,
          -0.7297941745135328,
          -0.2964356632738533,
          -0.7745989475029205,
          0.046029230670983405,
          1.2396064841700511,
          2.281843561422198,
          1.2980344863058073,
          -0.5474503479036493,
          -0.6637216819450771,
          1.0295536302514878,
          -0.5989023934033683,
          -0.7838768640931171,
          -0.3404087312624391,
          2.5034652943636577,
          -1.0091410501908837,
          0.07131613280266866,
          -1.4424125419160272,
          0.3874378025886279,
          0.8005971472277106,
          0.71029852180999,
          0.15513134702349665,
          -0.40991043229064444,
          0.07101871641261862,
          0.6332085306279952,
          -0.11010694601210934,
          -0.2437714352243654,
          1.0508048797304672,
          -0.8810365212334753,
          0.4067071823386185,
          0.9957635318133609,
          1.0362980924243121,
          -1.073992302391445,
          1.2943890576910448,
          0.4649793511358157,
          -0.41377469455348065,
          -0.27938799916628,
          0.9255146412455812,
          -1.0066506881222244,
          -1.516591541052323,
          1.8302083258432726,
          1.9084423639163308,
          -0.29043616134347316,
          0.2115905923087229,
          1.6626332357602276,
          -0.3747921315642718,
          -1.7553191839865576,
          1.352272096380163,
          2.052725225229852,
          -0.12786649597375574,
          -0.6320415501260968,
          -0.20169228768941222,
          -0.6899671428435791,
          0.6094924111524599,
          0.8065751045841631,
          0.1986566435954318,
          0.2986172639041098,
          -2.0440528907690965,
          1.441558239545265,
          1.1229194990615905,
          -0.23424651625519236,
          -0.15033613697788542,
          0.004235084428984264,
          -0.19453096785125393,
          0.06177730544608271,
          -0.3545238375109055,
          1.9033265003969404,
          -0.7373521634167873,
          -1.236817583706944,
          -0.8292216555225062,
          0.24365148865233416,
          0.05800107979611919,
          -0.4250614487816237,
          -0.5633280048924233,
          0.19249315027945907,
          -0.48263738741786594,
          -1.088194852296297,
          0.4761725556881807,
          1.8267993286562298,
          -0.7509927044218733,
          1.1039329541611014,
          -1.4836672106737994,
          0.876739825368286,
          0.8983642857049381,
          -0.029342632582452677,
          -1.199175431670114,
          -0.0690065065051699,
          0.09497928022894103,
          -0.7199913417673401,
          -1.2007356930966782,
          0.10610292895971425,
          0.19136145178508784,
          -0.967303625024834,
          0.11996196636379258,
          -0.4933517094654659,
          -1.0836539129073934,
          -0.014470220153039325,
          -0.8310051484655334,
          -0.4368891812807511,
          -0.6409812260629302,
          2.537900514135413,
          0.7465164812266538,
          -0.2872528752477945,
          -2.1837524792681298,
          -1.3510539106549793,
          -1.3117431125953092,
          1.434401586674922,
          -0.7170616453744575,
          0.6787449500940668,
          -2.150547971557352,
          0.5657130677076794,
          -2.223244351774686,
          0.6803746334672487,
          -0.5628924812478988,
          1.3600882365466624,
          0.149486129584826,
          -0.9885046489258218,
          -2.600965945915184,
          0.6664240483771136,
          -0.7946572444729312,
          -1.2582329728742572,
          -1.1638092442647372,
          0.5565496822255652,
          -0.19927150584470799,
          0.8402258862380363,
          0.2963497295358229,
          1.3692918023835183,
          -1.9175082186859955,
          -0.371038707587748,
          -0.8390774021198252,
          0.48907448139679005,
          -0.21728565844660325,
          1.2412333180899513,
          -0.8530513857535711,
          -1.5367335997010574,
          -0.5336230476131885,
          0.06583213005418255,
          0.12184553002622417,
          1.0980874361363724,
          0.006853944620277835,
          0.6559922127197743,
          -0.9251572647995682,
          -0.9602669952479844,
          -0.15528421889127647,
          -1.172127267712287,
          -0.46033496971573795,
          0.4521666976122262,
          -1.3561258092902968,
          0.13447946461340524,
          0.5464035090609778,
          -0.49397440307653384,
          -1.3318191858499504,
          0.811918698067632,
          -1.272956781779167,
          1.5008588694846807,
          -0.36214914326285413,
          -1.8468727790273145,
          1.098058174086984,
          1.4043806032762391,
          0.8006058455189407,
          -0.6344594639154622,
          1.4853258763886232,
          -0.4819293315714808,
          -0.011837251020052125,
          -0.24966644480248446,
          0.2553559921195229,
          -0.4925751811135797,
          -0.8346230733123388,
          -0.6437866389911525,
          -0.9746487046000917,
          -0.5857122968959374,
          0.19168254277162203,
          0.009214504786724465,
          -0.8440620507027939,
          -0.6640449171479357,
          -0.20434421333019342,
          0.101058210357398,
          0.1801387357096915,
          -0.19310528878201594,
          1.102313864054792,
          0.02002871750357949,
          1.0607104352775525,
          -0.8347723085115636,
          -0.05252318570075587,
          0.7554932534601585,
          -0.8657002281423734,
          -0.10871422442405497,
          -0.29698426522540117,
          -0.21926996660436252,
          -0.7563043055593258,
          -0.2901270947792161,
          -0.9792038056402189,
          0.17804823098063727,
          0.20287285959152626,
          -0.044294270162278396,
          2.2042245684542467,
          -0.13319643758197522,
          0.8645737713712528,
          2.512034190459762,
          1.2242353941193984,
          -1.0007219592155145,
          -0.19264841183293416,
          0.9516775121761519,
          -0.33721670006038224,
          2.365957702474326,
          0.7154333277348284,
          -0.3617420183942029,
          0.3379074897929529,
          0.05138661236680849,
          -0.875714209713853,
          -0.36867010871575145,
          1.2071366865342614,
          -2.0898002540519807,
          1.4585048215899845,
          0.8965122845202439,
          0.7974935461054419,
          -0.2894938076603727,
          -0.7238908030018169,
          0.5798485790769735,
          -1.5805494516373726,
          -2.4608848832390153,
          -0.6542033737774243,
          0.31230680877425354,
          -0.6777769356616375,
          0.11141312428596752,
          1.3942060022350389,
          -0.22857384018324373,
          -2.049378659421091,
          1.0181862932164547,
          1.6000218719087163,
          -1.155210490331295,
          -0.6444927605046608,
          0.04816785345336065,
          -0.43406335038875177,
          -2.1388813472319312,
          0.2899702790951913,
          -1.2578917658250728,
          1.0419635373497862,
          -0.31659993563842287,
          1.6159859660184006,
          2.5838311154428433,
          -0.26458586502604714,
          0.2684617781884633,
          0.8738998789662634,
          -0.21156124305632582,
          1.3505900953734713,
          0.22891378433963236,
          0.7994847455750725,
          -1.5892680729004935,
          -0.5410142392646291,
          -0.9193482416798158,
          -0.11801699755566887,
          -1.8939272287595075,
          0.17173948647216264,
          -0.12841969252623217,
          -0.7231425147642705,
          1.1352358612483133,
          -0.24360553910643787,
          0.34217130344124597,
          -0.5738892948698721,
          -0.782273852070751,
          0.2255359950583072,
          0.17248915817675278,
          -0.77179223221006,
          1.2982409443362803,
          -0.02037905765770034,
          -0.05650186287863469,
          0.36433248494247256,
          -0.5599254722222866,
          -0.5173631376180249,
          -0.22122451052969422,
          0.46389827696560765,
          0.8788097477011072,
          -0.3429020236394612,
          0.3808275823313163,
          -0.25070411654558616,
          0.6141888300223461,
          -0.23428797986042552,
          0.07023057659589672,
          -0.516526522399563,
          0.021869318471965632,
          -0.8408221425794177,
          -0.016881388256872888,
          -0.8713038301032566,
          -0.27886326703753056,
          0.5536166509987134,
          0.5559173187806243,
          -1.2450979556662278,
          -0.7969724501320745,
          0.006863214008956008,
          -0.7395886707601899,
          0.5443416112669992,
          0.6716740115805425,
          -0.4072302932870183,
          -0.8881308487492863,
          -0.15281983095262844,
          0.32743082431517573,
          0.6461415070859994,
          1.3610361930303574,
          1.3697441705741094,
          0.7512169586004543,
          -0.2824614973739026,
          -0.07977661461943325,
          -0.28646266120436925,
          -1.8692748675190476,
          -2.213356776151716,
          0.15441374859745666,
          -1.5478918860005344,
          -1.1338644310084087,
          -0.18961048127706834,
          -0.2712235454492581,
          1.3770347510506729,
          -0.10769856275841726,
          0.25007942095142915,
          -0.24581587693088305,
          1.0449555649210132,
          -2.316610738638818,
          -1.1321076119372633,
          2.0798403062126822,
          -0.949482826775923,
          0.851147375610907,
          -1.1846700302065423,
          -0.3503218521965807,
          -0.6016878573216379,
          -0.7762444425403628,
          -0.17664041749493842,
          -0.7167788740618392,
          1.4957770911585555,
          0.32006109224343693,
          -0.4160181796098017,
          -1.0289878901901972,
          -0.028840017999183218,
          0.0906617680841434,
          -1.1626316176411984,
          1.1140749906334813,
          0.23008354895331506,
          1.4662781922418708,
          0.9594324202472861,
          0.9077424895580266,
          0.5469232101014058,
          -0.37001826436001684,
          0.0375296497806842,
          0.38365110502294736,
          0.4373591463255431,
          -0.4136271311424808,
          -0.25054229996615857,
          1.5150880221915881,
          -0.6999684484871376,
          -0.6884455441194943,
          -0.6306073233401768,
          1.229878846102295,
          -0.42415943156112845,
          -1.6257447758883978,
          1.2263914277700032,
          1.4774994046260237,
          -0.8100790575186627,
          -0.8597415001548215,
          -0.1801344743767673,
          0.5283749452210513,
          -1.4483925852346666,
          1.3157233747655845,
          -0.9303056141481809,
          -0.6966114459833475,
          0.005122112889394833,
          -0.8299210476964497,
          1.4984816418337383,
          0.6907345309357262,
          1.6200746965457395,
          2.30850904738162,
          -0.07803498367278285,
          1.9330738335702176,
          0.23773630644482593,
          0.26514156062533334,
          0.5528702896283667,
          1.6154441947826446,
          -0.8538034461113577,
          0.16254671568464973,
          -0.6777132836723643,
          -0.9132681004650263,
          0.7414740827061804,
          0.015105109889826045,
          1.3683256754297344,
          0.10593276304167344,
          0.05101011793404205,
          -0.43097490497474844,
          0.4728761219518831,
          0.05073295170547925,
          0.9086794698226724,
          2.7895932344850287,
          -0.344495575721824,
          0.8005930019004851,
          -0.30028642516358567,
          -0.412989466196912,
          0.5194635152948652,
          0.29819570359181413,
          -1.1490968335005125,
          -1.0123796632575641,
          1.046973068764236,
          -0.7692134524874261,
          -0.4826407726263512,
          0.39328163875052824,
          1.093608273787903,
          -0.8709734537371698,
          -2.007148054935125,
          -0.14236652223250465,
          0.38638797201764086,
          1.5468508783462598,
          -1.8368245883462717,
          0.14732912759594133,
          -1.011074295535587,
          0.11377102450903878,
          1.0015979376250357,
          0.47406091175555076,
          -2.140725133828077,
          -0.21151881414506643,
          -1.1908281015848525,
          0.3719541283610065,
          0.4497238553882119,
          -0.2209507806373364,
          0.09887182197490914,
          1.7871555613404058,
          -0.25529334610166543,
          0.12187019051189626,
          0.5681426528804324,
          0.24883821173750767,
          -1.0455182246149395,
          -0.2746617052931427,
          1.3238874452616143,
          -1.0106997494630197,
          1.3220250038259886,
          0.5911170347249227,
          1.101041349382142,
          0.5536214517752772,
          0.4479031433463813,
          -0.3097925014681577,
          -0.7692413180955545,
          0.34792387566695754,
          -0.7154147686780502,
          1.5125567383202598,
          0.12336002628717485,
          0.5095143269547379,
          0.4633183682761498,
          -1.1495221857581874,
          -0.36745313501676646,
          0.9513456030879418,
          -0.6178572322534133,
          -1.6049822272696301,
          -0.4278429354425824,
          -0.08931640521387223,
          0.008569144225874717,
          -0.29493718133233476,
          0.5203385715922005,
          -0.30954543739150425,
          -0.20965824803212324,
          -0.14466997932501666,
          -0.05804669043408993,
          -0.6833546661470079,
          0.25978867496584224,
          1.6545315738606436,
          -0.7968512000317757,
          0.2556094037782018,
          0.4775262845503442,
          0.1647116746702423,
          0.9333674618831691,
          0.1638287776038401,
          -0.10391038522493669,
          2.364593075581347,
          2.0147888326477914,
          -0.6572575673145599,
          1.7712454196684788,
          0.8852581420384603,
          -0.3231054730716363,
          -0.5082033827495662,
          0.47596010791326476,
          -0.9036066335966751,
          0.5884847504289565,
          0.11695831607496918,
          1.0029682870533527,
          -1.0711311410943178,
          -1.3444288069802668,
          -1.7609487179815393,
          1.3871470782773303,
          0.8055341842868562,
          -0.09141244912054455,
          -1.123922959164191,
          0.6753020993436802,
          1.0761274598949109,
          0.739809972526775,
          -0.34403868524710385,
          -0.628089122350875,
          -0.41549413016684433,
          0.044290491133571565,
          -1.0951054366695763,
          -0.27932163822212375,
          2.377721993591256,
          1.6512675860445674,
          -1.7245279546978163,
          -0.3010141505799558,
          0.3428409859505947,
          -0.6164385502694826,
          0.5635716873657638,
          0.5508649603250901,
          0.2231042325934655,
          -1.2849875428345285,
          0.30311166718459154,
          -0.31561220323618916,
          -0.15974516516159054,
          0.059100871772688725,
          1.9934408433546118,
          -0.6395224840241864,
          0.25720653302282886,
          -1.494038838809577,
          1.1232660877645433,
          0.031176899715469414,
          -0.49942576695622876,
          0.5329077327758083,
          0.2910311112096464,
          1.051004481386662,
          -1.7343592253085638,
          -0.30967709295005486,
          0.07049522336016907,
          -0.7429883492675321,
          1.3233681353854825,
          1.8166066153828022,
          -0.8558281082459502,
          -0.9160142411811008,
          -0.6257089578181435,
          1.1193391429329826,
          0.4814050418233044,
          0.02731894997172047,
          1.8272580802715628,
          -0.8417673244403503,
          0.05895281819051989,
          -0.25964436521801526,
          -0.9524606821892209,
          -0.15369704400704964,
          1.8585436473683785,
          0.1994773025424341,
          -1.8039859951584665,
          -0.04745590577136003
         ],
         "xaxis": "x",
         "xbins": {
          "end": 2.7895932344850287,
          "size": 1,
          "start": -2.600965945915184
         },
         "yaxis": "y"
        },
        {
         "legendgroup": "Grafica de distribución",
         "marker": {
          "color": "rgb(31, 119, 180)"
         },
         "mode": "lines",
         "name": "Grafica de distribución",
         "showlegend": false,
         "type": "scatter",
         "x": [
          -2.600965945915184,
          -2.5901848275543835,
          -2.579403709193583,
          -2.5686225908327827,
          -2.5578414724719822,
          -2.547060354111182,
          -2.5362792357503814,
          -2.525498117389581,
          -2.5147169990287805,
          -2.50393588066798,
          -2.4931547623071797,
          -2.4823736439463793,
          -2.471592525585579,
          -2.4608114072247784,
          -2.450030288863978,
          -2.4392491705031776,
          -2.428468052142377,
          -2.4176869337815767,
          -2.4069058154207763,
          -2.396124697059976,
          -2.3853435786991755,
          -2.374562460338375,
          -2.3637813419775746,
          -2.353000223616774,
          -2.3422191052559738,
          -2.3314379868951733,
          -2.320656868534373,
          -2.3098757501735725,
          -2.299094631812772,
          -2.2883135134519716,
          -2.2775323950911712,
          -2.266751276730371,
          -2.2559701583695704,
          -2.24518904000877,
          -2.2344079216479695,
          -2.223626803287169,
          -2.2128456849263687,
          -2.2020645665655683,
          -2.191283448204768,
          -2.1805023298439674,
          -2.169721211483167,
          -2.1589400931223666,
          -2.148158974761566,
          -2.1373778564007657,
          -2.1265967380399653,
          -2.115815619679165,
          -2.1050345013183644,
          -2.094253382957564,
          -2.0834722645967636,
          -2.072691146235963,
          -2.0619100278751628,
          -2.0511289095143623,
          -2.040347791153562,
          -2.0295666727927615,
          -2.018785554431961,
          -2.0080044360711606,
          -1.9972233177103602,
          -1.9864421993495598,
          -1.9756610809887594,
          -1.964879962627959,
          -1.9540988442671585,
          -1.943317725906358,
          -1.9325366075455577,
          -1.9217554891847572,
          -1.9109743708239568,
          -1.9001932524631564,
          -1.889412134102356,
          -1.8786310157415553,
          -1.8678498973807551,
          -1.8570687790199547,
          -1.8462876606591543,
          -1.8355065422983539,
          -1.8247254239375534,
          -1.8139443055767528,
          -1.8031631872159526,
          -1.7923820688551522,
          -1.7816009504943517,
          -1.7708198321335513,
          -1.760038713772751,
          -1.7492575954119503,
          -1.7384764770511498,
          -1.7276953586903496,
          -1.7169142403295492,
          -1.7061331219687488,
          -1.6953520036079484,
          -1.6845708852471477,
          -1.6737897668863473,
          -1.663008648525547,
          -1.6522275301647467,
          -1.6414464118039462,
          -1.6306652934431458,
          -1.6198841750823452,
          -1.6091030567215447,
          -1.5983219383607443,
          -1.587540819999944,
          -1.5767597016391435,
          -1.565978583278343,
          -1.5551974649175426,
          -1.5444163465567424,
          -1.5336352281959418,
          -1.5228541098351414,
          -1.512072991474341,
          -1.5012918731135405,
          -1.4905107547527403,
          -1.4797296363919397,
          -1.4689485180311392,
          -1.4581673996703388,
          -1.4473862813095384,
          -1.436605162948738,
          -1.4258240445879375,
          -1.4150429262271373,
          -1.4042618078663367,
          -1.3934806895055363,
          -1.3826995711447359,
          -1.3719184527839354,
          -1.361137334423135,
          -1.3503562160623346,
          -1.3395750977015342,
          -1.3287939793407337,
          -1.3180128609799333,
          -1.3072317426191329,
          -1.2964506242583325,
          -1.2856695058975323,
          -1.2748883875367316,
          -1.2641072691759312,
          -1.2533261508151308,
          -1.2425450324543303,
          -1.23176391409353,
          -1.2209827957327295,
          -1.210201677371929,
          -1.1994205590111287,
          -1.1886394406503282,
          -1.1778583222895278,
          -1.1670772039287274,
          -1.1562960855679267,
          -1.1455149672071265,
          -1.134733848846326,
          -1.1239527304855257,
          -1.1131716121247253,
          -1.1023904937639248,
          -1.0916093754031244,
          -1.0808282570423238,
          -1.0700471386815236,
          -1.0592660203207231,
          -1.0484849019599227,
          -1.0377037835991223,
          -1.0269226652383217,
          -1.0161415468775215,
          -1.005360428516721,
          -0.9945793101559206,
          -0.9837981917951202,
          -0.9730170734343198,
          -0.9622359550735193,
          -0.9514548367127187,
          -0.9406737183519185,
          -0.9298925999911181,
          -0.9191114816303176,
          -0.9083303632695172,
          -0.8975492449087166,
          -0.8867681265479164,
          -0.8759870081871157,
          -0.8652058898263155,
          -0.8544247714655151,
          -0.8436436531047145,
          -0.8328625347439143,
          -0.8220814163831136,
          -0.8113002980223134,
          -0.800519179661513,
          -0.7897380613007126,
          -0.7789569429399121,
          -0.7681758245791115,
          -0.7573947062183113,
          -0.7466135878575106,
          -0.7358324694967104,
          -0.72505135113591,
          -0.7142702327751094,
          -0.7034891144143092,
          -0.6927079960535085,
          -0.6819268776927083,
          -0.6711457593319077,
          -0.6603646409711075,
          -0.649583522610307,
          -0.6388024042495064,
          -0.6280212858887062,
          -0.6172401675279056,
          -0.6064590491671054,
          -0.5956779308063047,
          -0.5848968124455043,
          -0.5741156940847039,
          -0.5633345757239034,
          -0.552553457363103,
          -0.541772339002303,
          -0.5309912206415022,
          -0.5202101022807017,
          -0.5094289839199013,
          -0.4986478655591009,
          -0.4878667471983009,
          -0.47708562883750005,
          -0.46630451047669963,
          -0.4555233921158992,
          -0.4447422737550988,
          -0.4339611553942988,
          -0.42318003703349794,
          -0.4123989186726975,
          -0.4016178003118971,
          -0.39083668195109666,
          -0.3800555635902967,
          -0.3692744452294958,
          -0.3584933268686954,
          -0.34771220850789497,
          -0.33693109014709455,
          -0.3261499717862941,
          -0.3153688534254937,
          -0.3045877350646933,
          -0.29380661670389285,
          -0.2830254983430929,
          -0.272244379982292,
          -0.2614632616214916,
          -0.25068214326069116,
          -0.23990102489989074,
          -0.22911990653909076,
          -0.2183387881782899,
          -0.20755766981748947,
          -0.19677655145668904,
          -0.18599543309588862,
          -0.17521431473508864,
          -0.16443319637428777,
          -0.15365207801348735,
          -0.14287095965268692,
          -0.1320898412918865,
          -0.12130872293108608,
          -0.11052760457028565,
          -0.09974648620948523,
          -0.0889653678486848,
          -0.07818424948788438,
          -0.06740313112708396,
          -0.056622012766283536,
          -0.04584089440548311,
          -0.03505977604468269,
          -0.024278657683882265,
          -0.013497539323081842,
          -0.0027164209622814184,
          0.008064697398519005,
          0.01884581575931943,
          0.029626934120119408,
          0.040408052480920276,
          0.0511891708417207,
          0.06197028920252112,
          0.07275140756332155,
          0.08353252592412197,
          0.0943136442849224,
          0.10509476264572282,
          0.11587588100652324,
          0.12665699936732366,
          0.1374381177281241,
          0.1482192360889245,
          0.15900035444972493,
          0.16978147281052536,
          0.18056259117132578,
          0.1913437095321262,
          0.20212482789292663,
          0.21290594625372705,
          0.22368706461452748,
          0.23446818297532834,
          0.24524930133612832,
          0.25603041969692875,
          0.26681153805772917,
          0.2775926564185296,
          0.28837377477933046,
          0.29915489314013044,
          0.30993601150093086,
          0.3207171298617313,
          0.3314982482225317,
          0.34227936658333213,
          0.35306048494413256,
          0.363841603304933,
          0.3746227216657334,
          0.38540384002653383,
          0.39618495838733425,
          0.4069660767481347,
          0.4177471951089351,
          0.4285283134697355,
          0.4393094318305364,
          0.45009055019133637,
          0.4608716685521368,
          0.4716527869129372,
          0.48243390527373764,
          0.4932150236345385,
          0.5039961419953385,
          0.5147772603561389,
          0.5255583787169393,
          0.5363394970777398,
          0.5471206154385406,
          0.5579017337993406,
          0.568682852160141,
          0.5794639705209415,
          0.5902450888817419,
          0.6010262072425427,
          0.6118073256033427,
          0.6225884439641431,
          0.6333695623249436,
          0.6441506806857444,
          0.6549317990465444,
          0.6657129174073448,
          0.6764940357681453,
          0.6872751541289457,
          0.6980562724897466,
          0.7088373908505465,
          0.719618509211347,
          0.7303996275721474,
          0.7411807459329478,
          0.7519618642937487,
          0.7627429826545487,
          0.7735241010153491,
          0.7843052193761495,
          0.7950863377369499,
          0.8058674560977508,
          0.8166485744585508,
          0.8274296928193512,
          0.8382108111801516,
          0.8489919295409525,
          0.8597730479017529,
          0.8705541662625529,
          0.8813352846233533,
          0.8921164029841537,
          0.9028975213449546,
          0.913678639705755,
          0.924459758066555,
          0.9352408764273554,
          0.9460219947881559,
          0.9568031131489567,
          0.9675842315097567,
          0.9783653498705571,
          0.9891464682313575,
          0.999927586592158,
          1.0107087049529588,
          1.0214898233137588,
          1.0322709416745592,
          1.0430520600353597,
          1.0538331783961605,
          1.064614296756961,
          1.075395415117761,
          1.0861765334785614,
          1.0969576518393618,
          1.1077387702001626,
          1.118519888560963,
          1.129301006921763,
          1.1400821252825635,
          1.150863243643364,
          1.1616443620041648,
          1.1724254803649652,
          1.1832065987257652,
          1.1939877170865656,
          1.204768835447366,
          1.2155499538081669,
          1.2263310721689673,
          1.2371121905297673,
          1.2478933088905677,
          1.2586744272513686,
          1.269455545612169,
          1.280236663972969,
          1.2910177823337694,
          1.3017989006945698,
          1.3125800190553707,
          1.3233611374161711,
          1.334142255776971,
          1.3449233741377715,
          1.355704492498572,
          1.3664856108593728,
          1.3772667292201732,
          1.3880478475809732,
          1.3988289659417736,
          1.4096100843025745,
          1.4203912026633745,
          1.4311723210241754,
          1.4419534393849753,
          1.4527345577457762,
          1.4635156761065762,
          1.474296794467377,
          1.485077912828177,
          1.495859031188978,
          1.5066401495497779,
          1.5174212679105779,
          1.5282023862713787,
          1.5389835046321796,
          1.5497646229929805,
          1.5605457413537804,
          1.5713268597145804,
          1.5821079780753813,
          1.5928890964361813,
          1.6036702147969821,
          1.614451333157782,
          1.625232451518582,
          1.636013569879383,
          1.6467946882401838,
          1.6575758066009847,
          1.6683569249617847,
          1.6791380433225847,
          1.6899191616833855,
          1.7007002800441855,
          1.7114813984049864,
          1.7222625167657863,
          1.7330436351265863,
          1.743824753487388,
          1.754605871848188,
          1.765386990208989,
          1.776168108569789,
          1.7869492269305889,
          1.7977303452913898,
          1.8085114636521897,
          1.8192925820129906,
          1.8300737003737906,
          1.8408548187345906,
          1.8516359370953923,
          1.8624170554561923,
          1.8731981738169932,
          1.8839792921777931,
          1.8947604105385931,
          1.905541528899394,
          1.916322647260194,
          1.9271037656209948,
          1.9378848839817948,
          1.9486660023425957,
          1.9594471207033965,
          1.9702282390641965,
          1.9810093574249974,
          1.9917904757857974,
          2.0025715941465974,
          2.0133527125073982,
          2.024133830868198,
          2.034914949228998,
          2.045696067589799,
          2.0564771859506,
          2.067258304311401,
          2.0780394226722008,
          2.0888205410330007,
          2.0996016593938016,
          2.1103827777546016,
          2.1211638961154025,
          2.1319450144762024,
          2.1427261328370024,
          2.153507251197804,
          2.164288369558604,
          2.175069487919405,
          2.185850606280205,
          2.196631724641005,
          2.207412843001806,
          2.218193961362606,
          2.2289750797234067,
          2.2397561980842067,
          2.2505373164450067,
          2.2613184348058084,
          2.2720995531666084,
          2.2828806715274093,
          2.2936617898882092,
          2.304442908249009,
          2.31522402660981,
          2.32600514497061,
          2.336786263331411,
          2.347567381692211,
          2.3583485000530118,
          2.3691296184138126,
          2.3799107367746126,
          2.3906918551354135,
          2.4014729734962135,
          2.4122540918570134,
          2.4230352102178143,
          2.4338163285786143,
          2.444597446939415,
          2.455378565300215,
          2.466159683661016,
          2.476940802021817,
          2.487721920382617,
          2.4985030387434177,
          2.5092841571042177,
          2.5200652754650177,
          2.5308463938258186,
          2.5416275121866185,
          2.5524086305474194,
          2.5631897489082203,
          2.5739708672690202,
          2.584751985629821,
          2.595533103990621,
          2.606314222351422,
          2.617095340712222,
          2.627876459073022,
          2.638657577433823,
          2.6494386957946228,
          2.6602198141554227,
          2.6710009325162245,
          2.6817820508770245,
          2.6925631692378253,
          2.7033442875986253,
          2.7141254059594253,
          2.724906524320226,
          2.735687642681026,
          2.746468761041827,
          2.757249879402627,
          2.768030997763428,
          2.7788121161242287
         ],
         "xaxis": "x",
         "y": [
          0.014487269394534041,
          0.015180946036392166,
          0.015889732332980636,
          0.016612852031878563,
          0.01734947094912428,
          0.018098700580538307,
          0.01885960230276755,
          0.019631192158244895,
          0.02041244621141821,
          0.021202306456360225,
          0.02199968724829764,
          0.022803482223785036,
          0.02361257166629957,
          0.024425830266062435,
          0.025242135215031603,
          0.026060374570396293,
          0.02687945581268538,
          0.027698314517932213,
          0.028515923057375124,
          0.029331299233072015,
          0.03014351475372371,
          0.030951703452077695,
          0.031755069143659796,
          0.03255289302637376,
          0.03334454052181865,
          0.03412946746208193,
          0.03490722553032192,
          0.03567746686968172,
          0.03643994778296915,
          0.037194531455050174,
          0.03794118964096182,
          0.03868000327523972,
          0.039411161971728136,
          0.04013496239801549,
          0.040851805524399196,
          0.041562192763689845,
          0.04226672103494582,
          0.042966076801095925,
          0.043661029147055865,
          0.04435242198105944,
          0.04504116545718969,
          0.04572822673119628,
          0.04641462017431968,
          0.04710139718072718,
          0.04778963571303845,
          0.04848042973705352,
          0.049174878701001526,
          0.049874077216256016,
          0.05057910509541421,
          0.0512910178998613,
          0.052010838142443123,
          0.052739547281710084,
          0.05347807863248554,
          0.054227311303423634,
          0.05498806525596963,
          0.05576109756099347,
          0.05654709990963754,
          0.057346697413954394,
          0.05816044871108317,
          0.058988847362423484,
          0.059832324516927306,
          0.06069125278565899,
          0.06156595125358831,
          0.06245669153458229,
          0.063363704757133,
          0.0642871893518527,
          0.0652273194975028,
          0.06618425407057447,
          0.0671581459344302,
          0.0681491513979235,
          0.06915743967034957,
          0.07018320213960674,
          0.07122666130355632,
          0.07228807919070242,
          0.07336776511534773,
          0.07446608262414467,
          0.07558345550522332,
          0.07672037274757215,
          0.07787739235675195,
          0.07905514395300083,
          0.08025433009895719,
          0.08147572632619884,
          0.08272017985216377,
          0.08398860700137327,
          0.08528198936681725,
          0.08660136876849031,
          0.08794784108601077,
          0.08932254906066724,
          0.0907266741787934,
          0.0921614277627985,
          0.09362804140822943,
          0.09512775691472009,
          0.09666181586544181,
          0.09823144901361276,
          0.09983786563569459,
          0.10148224300911954,
          0.10316571616778804,
          0.10488936808127136,
          0.10665422039378397,
          0.10846122484676039,
          0.11031125549450684,
          0.11220510180617606,
          0.11414346272953549,
          0.11612694177299769,
          0.1181560431425088,
          0.12023116894951619,
          0.12235261748574523,
          0.12452058254028199,
          0.1267351537148797,
          0.12899631767484626,
          0.13130396025569527,
          0.13365786933029247,
          0.1360577383278138,
          0.13850317028474265,
          0.14099368229959902,
          0.14352871025733402,
          0.14610761368647582,
          0.14872968061229444,
          0.15139413227250118,
          0.1541001275683139,
          0.1568467671330306,
          0.15963309691243469,
          0.16245811116622608,
          0.16532075481698094,
          0.16821992509259914,
          0.17115447242945225,
          0.17412320062608305,
          0.17712486626091542,
          0.18015817741151063,
          0.1832217917369644,
          0.18631431400854961,
          0.1894342931961441,
          0.19258021923880456,
          0.19575051964653922,
          0.19894355609639203,
          0.2021576211989116,
          0.2053909356205204,
          0.20864164575284094,
          0.21190782212139317,
          0.21518745872299014,
          0.21847847347350255,
          0.22177870993535564,
          0.22508594047720654,
          0.22839787099684986,
          0.23171214731274709,
          0.2350263632999923,
          0.2383380708134504,
          0.2416447914047402,
          0.2449440298013009,
          0.2482332890756488,
          0.2515100873918688,
          0.2547719761751806,
          0.25801655950993463,
          0.2612415145324911,
          0.2644446125489979,
          0.26762374057498106,
          0.27077692296472633,
          0.27390234277446407,
          0.27699836248508425,
          0.2800635436981488,
          0.2830966654138726,
          0.28609674050191797,
          0.28906302998560063,
          0.29199505477754806,
          0.2948926045300137,
          0.29775574329573196,
          0.30058481173509516,
          0.30338042565205486,
          0.306143470693843,
          0.30887509310760264,
          0.3115766865093729,
          0.314249874686547,
          0.3168964905227704,
          0.31951855120301637,
          0.322118229924999,
          0.32469782440980394,
          0.32725972256831626,
          0.32980636573937805,
          0.33234020996934416,
          0.3348636858496387,
          0.33737915746794916,
          0.3398888810588826,
          0.3423949639604269,
          0.34489932449280103,
          0.34740365337577767,
          0.349909377289109,
          0.3524176251582495,
          0.3549291977143565,
          0.3574445408339923,
          0.3599637231106794,
          0.36248641804833637,
          0.3650118911966825,
          0.36753899247217015,
          0.3700661538262451,
          0.37259139233726557,
          0.3751123187147971,
          0.37762615111692754,
          0.38012973409437933,
          0.38261956239122585,
          0.3850918092525841,
          0.38754235881630644,
          0.389966842099891,
          0.39236067603686914,
          0.3947191049699382,
          0.3970372439720318,
          0.39931012334205196,
          0.40153273360961766,
          0.4037000703831286,
          0.40580717838767555,
          0.4078491940635652,
          0.40982138613193,
          0.41171919358029596,
          0.413538260577083,
          0.41527446788861744,
          0.4169239604439764,
          0.41848317077034153,
          0.41994883810288386,
          0.42131802305683697,
          0.42258811783359196,
          0.42375685201563124,
          0.42482229408519756,
          0.4257828488771573,
          0.4266372512460263,
          0.42738455628923916,
          0.4280241265222304,
          0.42855561644478957,
          0.42897895497165406,
          0.4292943262228752,
          0.4295021491808518,
          0.4296030567209908,
          0.4295978745119749,
          0.42948760025998867,
          0.4292733837396837,
          0.42895650801402213,
          0.42853837219649665,
          0.42802047605383353,
          0.42740440668650376,
          0.42669182745967543,
          0.4258844692901747,
          0.42498412432715443,
          0.423992641997063,
          0.42291192731868754,
          0.42174394133296533,
          0.420490703436264,
          0.4191542953561196,
          0.4177368664660712,
          0.41624064010206513,
          0.4146679205176305,
          0.4130211000990781,
          0.4113026664555894,
          0.4095152090022663,
          0.40766142466679045,
          0.4057441223718847,
          0.40376622597567063,
          0.401730775389481,
          0.3996409256367613,
          0.3974999436662984,
          0.39531120278694637,
          0.39307817464800754,
          0.3908044187481426,
          0.38849356951478686,
          0.3861493210542026,
          0.38377540972821916,
          0.3813755947661721,
          0.378953637168436,
          0.3765132772002436,
          0.37405821081034113,
          0.37159206533772665,
          0.3691183748907359,
          0.3666405557957052,
          0.36416188251718656,
          0.3616854644482214,
          0.3592142239576707,
          0.35675087606242095,
          0.3542979100659349,
          0.3518575734717507,
          0.3494318584419318,
          0.347022491027015,
          0.3446309233466527,
          0.34225832884992535,
          0.339905600732255,
          0.33757335353306184,
          0.33526192788579895,
          0.3329713983408162,
          0.33070158413257417,
          0.3284520627169612,
          0.32622218586261825,
          0.324011098042969,
          0.321817756843622,
          0.3196409550734197,
          0.3174793442469758,
          0.3153314590922393,
          0.3131957427285298,
          0.31107057215853273,
          0.308954283721741,
          0.30684519816651395,
          0.30474164501289336,
          0.30264198589811653,
          0.3005446366208681,
          0.2984480876281087,
          0.29635092271920244,
          0.2942518357753564,
          0.2921496453574374,
          0.29004330705136466,
          0.28793192347684604,
          0.28581475191160416,
          0.28369120951884164,
          0.2815608761999751,
          0.2794234951271346,
          0.27727897104015903,
          0.275127366420422,
          0.27296889567852967,
          0.27080391751446503,
          0.2686329256269702,
          0.2664565379637365,
          0.2642754847152636,
          0.2620905952630876,
          0.2599027842975064,
          0.25771303732109,
          0.2555223957523132,
          0.253331941838783,
          0.2511427835820098,
          0.24895603986574252,
          0.24677282596784791,
          0.24459423962187005,
          0.24242134777906343,
          0.24025517420518502,
          0.23809668802895692,
          0.235946793341205,
          0.23380631992551365,
          0.23167601518312217,
          0.22955653729697095,
          0.2274484496625332,
          0.22535221659655733,
          0.22326820031927355,
          0.22119665919115106,
          0.2191377471720479,
          0.21709151445866529,
          0.21505790924566492,
          0.21303678054665837,
          0.21102788200353415,
          0.20903087660622083,
          0.20704534223994428,
          0.20507077797325324,
          0.203106610997463,
          0.20115220412661206,
          0.19920686376641397,
          0.19726984826091915,
          0.19534037652653952,
          0.19341763688464342,
          0.19150079600597383,
          0.18958900788259803,
          0.18768142274587396,
          0.1857771958519517,
          0.1838754960595706,
          0.1819755141283327,
          0.18007647066921417,
          0.17817762368282428,
          0.1762782756248505,
          0.17437777994226925,
          0.17247554702829454,
          0.17057104954872565,
          0.168663827097387,
          0.16675349014377416,
          0.1648397232418731,
          0.16292228747543072,
          0.16100102212174625,
          0.15907584552332457,
          0.15714675516446366,
          0.15521382695801,
          0.15327721375603637,
          0.15133714310700488,
          0.1493939142909627,
          0.14744789467335626,
          0.1454995154270037,
          0.14354926668047588,
          0.1415976921594227,
          0.13964538339509774,
          0.13769297358126,
          0.13574113116664022,
          0.13379055327503078,
          0.131841959048695,
          0.1298960830129995,
          0.12795366856089282,
          0.1260154616549565,
          0.12408220484220968,
          0.12215463167262545,
          0.12023346160642469,
          0.11831939548770946,
          0.1164131116529582,
          0.11451526273245267,
          0.11262647319100931,
          0.11074733764159968,
          0.10887841995181842,
          0.10702025314889627,
          0.10517334011432963,
          0.10333815504448164,
          0.10151514563895868,
          0.09970473596448147,
          0.09790732992860603,
          0.09612331528527879,
          0.09435306808308837,
          0.09259695745740402,
          0.09085535065960591,
          0.08912861821045193,
          0.0874171390604447,
          0.08572130563797103,
          0.08404152866601161,
          0.0823782416304319,
          0.08073190478720471,
          0.07910300860235048,
          0.07749207652681075,
          0.07589966701874701,
          0.07432637473773931,
          0.0727728308488229,
          0.07123970238903356,
          0.06972769066489569,
          0.06823752866578163,
          0.06676997749506003,
          0.06532582183810823,
          0.06390586450331942,
          0.06251092008889804,
          0.06114180784420903,
          0.05979934380948341,
          0.05848433233150035,
          0.057197557065257504,
          0.05593977158238217,
          0.05471168971594381,
          0.0535139757782691,
          0.05234723479319372,
          0.051212002886844354,
          0.050108737981477615,
          0.049037810935093136,
          0.047999497265516666,
          0.046993969591474914,
          0.046021290914945834,
          0.045081408858899774,
          0.044174150962596775,
          0.04329922112306231,
          0.042456197256434965,
          0.04164453023678694,
          0.040863544153016164,
          0.040112437906747914,
          0.039390288156130396,
          0.038696053592244144,
          0.038028580516821994,
          0.03738660967238361,
          0.03676878425896757,
          0.036173659055652146,
          0.03559971055022424,
          0.03504534796688937,
          0.03450892507001667,
          0.03398875261173509,
          0.033483111282884656,
          0.03299026502049168,
          0.032508474520645946,
          0.03203601080347326,
          0.03157116867682046,
          0.03111227994729172,
          0.03065772623134661,
          0.030205951225207688,
          0.029755472300229728,
          0.029304891300010103,
          0.028852904426719575,
          0.028398311116719258,
          0.027940021819303624,
          0.027477064607158416,
          0.027008590562616328,
          0.026533877899796828,
          0.026052334798992688,
          0.025563500945967755,
          0.02506704778492854,
          0.024562777509586596,
          0.024050620831727827,
          0.023530633580836922,
          0.023002992201401694,
          0.022467988226378424,
          0.021926021815782477,
          0.021377594458361193,
          0.020823300941712117,
          0.020263820701957404,
          0.019699908668138907,
          0.019132385718843428,
          0.018562128869218052,
          0.017990061305540435,
          0.017417142381927313,
          0.016844357689699514,
          0.016272709304477967,
          0.015703206309401474,
          0.0151368556850826,
          0.014574653648212242,
          0.014017577511259866,
          0.013466578125680143,
          0.012922572960594923,
          0.012386439858270913,
          0.0118590114970206,
          0.011341070581595024,
          0.010833345770871526,
          0.010336508342809783,
          0.009851169587397157
         ],
         "yaxis": "y"
        },
        {
         "legendgroup": "Grafica de distribución",
         "marker": {
          "color": "rgb(31, 119, 180)",
          "symbol": "line-ns-open"
         },
         "mode": "markers",
         "name": "Grafica de distribución",
         "showlegend": false,
         "type": "scatter",
         "x": [
          1.0120159562081275,
          -0.11794371911875322,
          -0.15799089132625807,
          0.6185607651239511,
          1.7613695472052444,
          0.2794989862481751,
          0.7101391979800243,
          -1.143585654633243,
          0.004095655221802772,
          -0.07166325814202996,
          -1.4568124056133311,
          1.0478806047091815,
          -0.2354866200047655,
          -0.6248215409123633,
          -0.5284269036676169,
          0.18881415307328692,
          -1.7479783902620394,
          0.05423650529216657,
          -0.1424293421801908,
          0.24800167681346869,
          -0.35584922370674466,
          0.5227163693874507,
          -1.1523988167215053,
          -0.8797567061341485,
          -1.1085795042612856,
          -1.301390086093984,
          0.5462465545429774,
          -0.37363284977503103,
          -0.9036355447937187,
          -0.5895110877858477,
          0.5523124035589996,
          0.5877787081807178,
          0.882412553407201,
          -1.096821943897443,
          -1.5214829245198627,
          0.8320267666642418,
          1.3925506202481026,
          -0.2269539519601426,
          -1.1838316168629417,
          -0.23204458992399773,
          -0.2908221765123927,
          -0.44682844294105095,
          0.013295969133200101,
          -1.622023129093439,
          0.16848717519880754,
          0.9279948785141636,
          0.9938719599535817,
          -0.772977215488478,
          -0.28127784695712527,
          -1.6424876588717816,
          -0.12652334391666534,
          -0.03527231263679663,
          0.7526935570344095,
          -1.4982544127092632,
          -0.2026549261232619,
          -0.25368903431886086,
          0.23206542499054755,
          -0.6685909063953238,
          -0.6596960510226653,
          -0.6882556579572172,
          1.3505008803851555,
          1.2594991479992825,
          -0.21947121289528587,
          -1.3262809028166638,
          -0.7881507074890627,
          -1.20833285597071,
          -2.433566253008811,
          0.7331057928273085,
          0.7068238889234576,
          -0.8618504680182072,
          -2.3151779084293715,
          -0.5828406794310226,
          -0.2612409012618235,
          1.1964306426774922,
          -1.1840734968086881,
          -0.37534228328461083,
          -2.1417912336221825,
          -1.7513968184282998,
          0.14980227653054007,
          1.568223750660859,
          -0.7893297393596441,
          1.2560990114097843,
          0.5301655926198482,
          0.3317179808449956,
          1.1328991932940167,
          -0.7299327380104815,
          -0.7245480815478507,
          0.3708125881691263,
          0.04739960903067245,
          1.117977179582803,
          -1.661407403843041,
          0.8783252812318036,
          0.1515333688193546,
          1.0805342555422444,
          -1.3976398670365429,
          -0.8906476812795588,
          -2.476082699765291,
          -0.9128474611003814,
          -0.30611800000152184,
          -0.07956383420844605,
          0.16529503364313158,
          -0.39879378634560936,
          1.0364175868980674,
          -0.7549569432052312,
          -0.05371168651549924,
          -1.3094460479333234,
          0.5874338227743479,
          2.4557807594937393,
          -0.7551739262022392,
          0.17686679523846344,
          0.48764233626321113,
          -0.2385145084674184,
          -0.061124232273970736,
          -1.8744053968777619,
          1.2353450200398535,
          -0.07199120151027243,
          0.18617408079451944,
          0.17440490867492453,
          -0.2974087291755161,
          0.3067459280379593,
          0.340800464660985,
          -0.43092890536422596,
          -0.10214552638065337,
          0.39467980572114175,
          -0.20467381356237,
          0.8771064831581842,
          0.09775241444880067,
          -0.23508399300187646,
          -0.6595802587795687,
          1.3305811748184784,
          1.187627301559431,
          -0.26752677775116024,
          0.8334128726384903,
          0.4140243921226008,
          0.09774773568776886,
          -1.023824224201344,
          -0.8326499373491654,
          1.226316115473316,
          1.0887093985656224,
          -0.10493659144105738,
          -0.08107662130807572,
          1.0996595150272035,
          -0.020713415117513182,
          -0.24067011595312757,
          0.5332045105159988,
          0.3726624969116445,
          1.3854146088117283,
          1.4098297489266765,
          1.8633140417006662,
          1.1945706915213903,
          -1.073854718683601,
          -1.664280698200075,
          -0.32948744928578966,
          0.1630889069417424,
          0.5980381333604661,
          0.3900022614071915,
          1.2014786216863063,
          0.1552502264823736,
          -0.4322634543849467,
          0.8564391855242938,
          0.8145114791707335,
          1.639466600962114,
          -0.9981781100324902,
          -0.9554805983835549,
          0.1788639535061891,
          1.74309847947539,
          0.19315235872987652,
          0.1626784064013696,
          0.006621732473359724,
          -0.4890740422926179,
          -0.04285714758225098,
          -1.0775163782069657,
          0.858620248030722,
          -0.3004043984757672,
          -0.32277052189926264,
          -0.7841670438349999,
          -1.3420968535233915,
          -0.293291430096212,
          -1.3565969708948273,
          -0.3237848197610252,
          -0.3630120071758396,
          0.24196570795536454,
          0.6257528590952347,
          1.6045690844648055,
          -0.29481018676032444,
          -0.5386111774135091,
          0.7388882165598567,
          0.6292173947785297,
          0.02893704795433494,
          -0.2719864386607667,
          -0.08913672178987013,
          -0.48025763732325005,
          1.0365829111912164,
          -0.9184726158470284,
          -0.14473193564359937,
          -1.4707421107861622,
          1.7293805544437792,
          -0.7412918097595506,
          -0.8369791472662509,
          -2.125788208413472,
          0.9121500288927293,
          -0.4917888592740892,
          -1.0439614248916478,
          -0.7431396984336726,
          -0.4964961905056116,
          0.5477807826034946,
          0.13693836028965917,
          -0.8486112527779721,
          0.1677361873678007,
          0.17619618916997545,
          -1.3267799432776377,
          -0.22803917638234475,
          0.1870914099573666,
          -0.6969066254425511,
          1.0998724480644155,
          1.6617276062028594,
          0.03617543783005486,
          1.1358678961922766,
          0.5932760639113834,
          0.6657005487465432,
          1.3395171115545614,
          0.5091865198865247,
          -2.2365791042377237,
          1.9886814542678664,
          -0.5244742671325441,
          0.6612889001087671,
          0.0032415315663924874,
          0.6762312785185889,
          0.8742698758371018,
          0.03221919389801573,
          1.708871817159416,
          0.9415719454798883,
          -0.23809608461262208,
          1.4864425152487297,
          1.105042573666549,
          -1.4382877181471347,
          0.3163840736537758,
          -0.9665492093425809,
          0.26004638599407376,
          -2.381239256570817,
          -1.227518457154587,
          0.8865156681911838,
          0.8059772615621925,
          0.1870043157821806,
          1.5617701411993274,
          -0.2795246114870551,
          -1.4588932205535372,
          1.7483001107841132,
          0.1492208061619588,
          -0.15499748022838003,
          -0.1969525485154328,
          -1.1490944969717989,
          0.6610190946667495,
          1.1369607097254029,
          -0.08153525295991461,
          0.7494822844413311,
          -1.3750315470974108,
          0.7672369669654233,
          1.467743454633007,
          -0.3929027662836692,
          -0.13697684009286065,
          -0.7257661777801883,
          1.6327902242164645,
          -1.3265158022431434,
          -0.38799086602976374,
          -0.9397768407115871,
          -2.2887955014292767,
          -0.012450916098197363,
          -0.40074378962767965,
          -0.4058122008604807,
          1.2731045104826564,
          -1.8529728503623606,
          -1.3748098169135712,
          -0.6524744672842437,
          0.7614517765791233,
          -0.5212920752348553,
          0.7007443509809254,
          0.4389216588023518,
          0.21434696618301977,
          -0.5433579933372816,
          0.3172940443438857,
          -0.7313909962731417,
          0.7074282958770881,
          -1.2008546746038844,
          0.37478530164303536,
          0.6587583428494561,
          0.4326197505185297,
          -0.5919872007340846,
          -0.11082977427189081,
          0.1224672512026828,
          -1.0687928952511245,
          0.5119909839907971,
          -0.5957786020624792,
          0.8337362615164677,
          0.23889816351031282,
          -1.2227836090084065,
          -0.6438200644286333,
          2.22917553700878,
          -0.3759152201044524,
          1.1655419785778875,
          0.1388931354768138,
          -2.312620587203347,
          0.003931673137984787,
          0.3280514501851214,
          -1.274402172226026,
          0.496644219196394,
          -0.42432074622064814,
          -0.21986676275362782,
          -0.09589490085399835,
          0.8915816761269946,
          -1.7147667840842689,
          0.4847330394219256,
          2.4982111138316303,
          -0.6137186477646563,
          -1.73526011545938,
          0.3958565248707491,
          0.4825593313650997,
          2.4286625614179127,
          -0.22847129058619883,
          0.7379945546819486,
          1.4169301514299504,
          0.655923013331126,
          -0.8097502223045021,
          -0.6176500540491219,
          -0.09691949907905881,
          0.6308209978270624,
          0.8744385310668121,
          0.20952926920459355,
          -0.38161124675161123,
          -1.6371207561457164,
          0.26888551627743235,
          -0.4671196563458131,
          -0.4210769417304585,
          -0.005493165970494106,
          -0.2525536109741783,
          0.44337048325352746,
          -1.047806097318111,
          1.1010573153252288,
          0.45971769457535067,
          -1.0146033648552495,
          0.3376649485445848,
          -0.7850652109998408,
          1.904201854918396,
          1.4669664432887832,
          -1.2273775410734014,
          0.5993893703788021,
          -0.3855602650801696,
          0.3038601873411668,
          0.7967142773453741,
          -0.4688859265086952,
          0.722259047194428,
          0.7455051016813016,
          0.07405052137538934,
          -0.6704488900106637,
          -0.7045356249625454,
          -0.8660157631938696,
          1.1513183090799597,
          -1.4063318656651338,
          0.2406857533179167,
          0.6840065491677314,
          -0.6994468715950343,
          0.00030529949612355015,
          0.6270770362331293,
          -1.154048299281776,
          0.537817201635871,
          -0.47004327011536085,
          -0.7121489066969701,
          0.2222311801695871,
          0.4173548479906453,
          -0.07215051453715911,
          1.1097095129379402,
          0.6564394213364835,
          1.2751651179154115,
          0.7117088568461575,
          -1.8475538141905727,
          0.49788257158261123,
          -0.4541461100258152,
          -1.3075720618753852,
          -0.43329442469883345,
          -0.2253580678562658,
          -0.9220513684768641,
          2.057058553239875,
          -0.8512200800856682,
          -1.8003918821871552,
          0.28579251861855814,
          0.6102010406456296,
          0.15927953389856414,
          0.01491255371833891,
          -0.7095268449138338,
          0.27489184746052675,
          -0.5105554698854274,
          -0.20222316555315298,
          -0.7545194823004334,
          0.4501944738968694,
          -0.2080693754833176,
          1.2024142807901548,
          -0.48095275390066905,
          -0.9942146220831196,
          -0.4008335387233326,
          1.637926259600444,
          0.47397959483176816,
          0.09239989863266934,
          -0.7692404875701608,
          -1.0672022737127838,
          -0.032858979957173615,
          -1.215040256518421,
          0.21691315732276464,
          0.9045220033198182,
          -1.4912751823557773,
          -2.2390628984869636,
          0.140659399367941,
          -1.0238963550088676,
          -1.6128157649110904,
          -0.4306438022069496,
          -0.11487615520026463,
          -0.29078141921609213,
          -1.277798299313343,
          0.5511937398738697,
          0.8370609154518472,
          1.4757084800594464,
          0.08205164007319368,
          0.1303800679522114,
          0.3095434817665662,
          -0.562216425700459,
          1.5833600058671358,
          0.9658919853991742,
          -0.0645260856951647,
          1.3379303944608876,
          0.6887651509885396,
          -1.8511618905874585,
          0.6375974081547001,
          -0.053404051598950265,
          0.014924455095257859,
          1.7665497378233952,
          -0.05708916717607912,
          -1.0825471970020673,
          -0.0011191133974854952,
          1.8257589436235633,
          0.880613408378885,
          0.772600584783218,
          -0.5844961550108779,
          -0.5925869065811682,
          -0.3649119068196906,
          0.485243114602169,
          -0.9595324109469201,
          0.42087475220070947,
          -0.20040106027345528,
          -0.9551161476615123,
          0.3612856147159105,
          1.8321307768338329,
          2.273264350489737,
          -1.6773361626634107,
          0.7415944662154292,
          -0.014666922292556917,
          -0.4391459291627979,
          -0.30983889158616496,
          0.7916677823968051,
          -1.900993370410203,
          0.9292899154750422,
          -0.3281213119158794,
          1.9860701268188017,
          -0.7297941745135328,
          -0.2964356632738533,
          -0.7745989475029205,
          0.046029230670983405,
          1.2396064841700511,
          2.281843561422198,
          1.2980344863058073,
          -0.5474503479036493,
          -0.6637216819450771,
          1.0295536302514878,
          -0.5989023934033683,
          -0.7838768640931171,
          -0.3404087312624391,
          2.5034652943636577,
          -1.0091410501908837,
          0.07131613280266866,
          -1.4424125419160272,
          0.3874378025886279,
          0.8005971472277106,
          0.71029852180999,
          0.15513134702349665,
          -0.40991043229064444,
          0.07101871641261862,
          0.6332085306279952,
          -0.11010694601210934,
          -0.2437714352243654,
          1.0508048797304672,
          -0.8810365212334753,
          0.4067071823386185,
          0.9957635318133609,
          1.0362980924243121,
          -1.073992302391445,
          1.2943890576910448,
          0.4649793511358157,
          -0.41377469455348065,
          -0.27938799916628,
          0.9255146412455812,
          -1.0066506881222244,
          -1.516591541052323,
          1.8302083258432726,
          1.9084423639163308,
          -0.29043616134347316,
          0.2115905923087229,
          1.6626332357602276,
          -0.3747921315642718,
          -1.7553191839865576,
          1.352272096380163,
          2.052725225229852,
          -0.12786649597375574,
          -0.6320415501260968,
          -0.20169228768941222,
          -0.6899671428435791,
          0.6094924111524599,
          0.8065751045841631,
          0.1986566435954318,
          0.2986172639041098,
          -2.0440528907690965,
          1.441558239545265,
          1.1229194990615905,
          -0.23424651625519236,
          -0.15033613697788542,
          0.004235084428984264,
          -0.19453096785125393,
          0.06177730544608271,
          -0.3545238375109055,
          1.9033265003969404,
          -0.7373521634167873,
          -1.236817583706944,
          -0.8292216555225062,
          0.24365148865233416,
          0.05800107979611919,
          -0.4250614487816237,
          -0.5633280048924233,
          0.19249315027945907,
          -0.48263738741786594,
          -1.088194852296297,
          0.4761725556881807,
          1.8267993286562298,
          -0.7509927044218733,
          1.1039329541611014,
          -1.4836672106737994,
          0.876739825368286,
          0.8983642857049381,
          -0.029342632582452677,
          -1.199175431670114,
          -0.0690065065051699,
          0.09497928022894103,
          -0.7199913417673401,
          -1.2007356930966782,
          0.10610292895971425,
          0.19136145178508784,
          -0.967303625024834,
          0.11996196636379258,
          -0.4933517094654659,
          -1.0836539129073934,
          -0.014470220153039325,
          -0.8310051484655334,
          -0.4368891812807511,
          -0.6409812260629302,
          2.537900514135413,
          0.7465164812266538,
          -0.2872528752477945,
          -2.1837524792681298,
          -1.3510539106549793,
          -1.3117431125953092,
          1.434401586674922,
          -0.7170616453744575,
          0.6787449500940668,
          -2.150547971557352,
          0.5657130677076794,
          -2.223244351774686,
          0.6803746334672487,
          -0.5628924812478988,
          1.3600882365466624,
          0.149486129584826,
          -0.9885046489258218,
          -2.600965945915184,
          0.6664240483771136,
          -0.7946572444729312,
          -1.2582329728742572,
          -1.1638092442647372,
          0.5565496822255652,
          -0.19927150584470799,
          0.8402258862380363,
          0.2963497295358229,
          1.3692918023835183,
          -1.9175082186859955,
          -0.371038707587748,
          -0.8390774021198252,
          0.48907448139679005,
          -0.21728565844660325,
          1.2412333180899513,
          -0.8530513857535711,
          -1.5367335997010574,
          -0.5336230476131885,
          0.06583213005418255,
          0.12184553002622417,
          1.0980874361363724,
          0.006853944620277835,
          0.6559922127197743,
          -0.9251572647995682,
          -0.9602669952479844,
          -0.15528421889127647,
          -1.172127267712287,
          -0.46033496971573795,
          0.4521666976122262,
          -1.3561258092902968,
          0.13447946461340524,
          0.5464035090609778,
          -0.49397440307653384,
          -1.3318191858499504,
          0.811918698067632,
          -1.272956781779167,
          1.5008588694846807,
          -0.36214914326285413,
          -1.8468727790273145,
          1.098058174086984,
          1.4043806032762391,
          0.8006058455189407,
          -0.6344594639154622,
          1.4853258763886232,
          -0.4819293315714808,
          -0.011837251020052125,
          -0.24966644480248446,
          0.2553559921195229,
          -0.4925751811135797,
          -0.8346230733123388,
          -0.6437866389911525,
          -0.9746487046000917,
          -0.5857122968959374,
          0.19168254277162203,
          0.009214504786724465,
          -0.8440620507027939,
          -0.6640449171479357,
          -0.20434421333019342,
          0.101058210357398,
          0.1801387357096915,
          -0.19310528878201594,
          1.102313864054792,
          0.02002871750357949,
          1.0607104352775525,
          -0.8347723085115636,
          -0.05252318570075587,
          0.7554932534601585,
          -0.8657002281423734,
          -0.10871422442405497,
          -0.29698426522540117,
          -0.21926996660436252,
          -0.7563043055593258,
          -0.2901270947792161,
          -0.9792038056402189,
          0.17804823098063727,
          0.20287285959152626,
          -0.044294270162278396,
          2.2042245684542467,
          -0.13319643758197522,
          0.8645737713712528,
          2.512034190459762,
          1.2242353941193984,
          -1.0007219592155145,
          -0.19264841183293416,
          0.9516775121761519,
          -0.33721670006038224,
          2.365957702474326,
          0.7154333277348284,
          -0.3617420183942029,
          0.3379074897929529,
          0.05138661236680849,
          -0.875714209713853,
          -0.36867010871575145,
          1.2071366865342614,
          -2.0898002540519807,
          1.4585048215899845,
          0.8965122845202439,
          0.7974935461054419,
          -0.2894938076603727,
          -0.7238908030018169,
          0.5798485790769735,
          -1.5805494516373726,
          -2.4608848832390153,
          -0.6542033737774243,
          0.31230680877425354,
          -0.6777769356616375,
          0.11141312428596752,
          1.3942060022350389,
          -0.22857384018324373,
          -2.049378659421091,
          1.0181862932164547,
          1.6000218719087163,
          -1.155210490331295,
          -0.6444927605046608,
          0.04816785345336065,
          -0.43406335038875177,
          -2.1388813472319312,
          0.2899702790951913,
          -1.2578917658250728,
          1.0419635373497862,
          -0.31659993563842287,
          1.6159859660184006,
          2.5838311154428433,
          -0.26458586502604714,
          0.2684617781884633,
          0.8738998789662634,
          -0.21156124305632582,
          1.3505900953734713,
          0.22891378433963236,
          0.7994847455750725,
          -1.5892680729004935,
          -0.5410142392646291,
          -0.9193482416798158,
          -0.11801699755566887,
          -1.8939272287595075,
          0.17173948647216264,
          -0.12841969252623217,
          -0.7231425147642705,
          1.1352358612483133,
          -0.24360553910643787,
          0.34217130344124597,
          -0.5738892948698721,
          -0.782273852070751,
          0.2255359950583072,
          0.17248915817675278,
          -0.77179223221006,
          1.2982409443362803,
          -0.02037905765770034,
          -0.05650186287863469,
          0.36433248494247256,
          -0.5599254722222866,
          -0.5173631376180249,
          -0.22122451052969422,
          0.46389827696560765,
          0.8788097477011072,
          -0.3429020236394612,
          0.3808275823313163,
          -0.25070411654558616,
          0.6141888300223461,
          -0.23428797986042552,
          0.07023057659589672,
          -0.516526522399563,
          0.021869318471965632,
          -0.8408221425794177,
          -0.016881388256872888,
          -0.8713038301032566,
          -0.27886326703753056,
          0.5536166509987134,
          0.5559173187806243,
          -1.2450979556662278,
          -0.7969724501320745,
          0.006863214008956008,
          -0.7395886707601899,
          0.5443416112669992,
          0.6716740115805425,
          -0.4072302932870183,
          -0.8881308487492863,
          -0.15281983095262844,
          0.32743082431517573,
          0.6461415070859994,
          1.3610361930303574,
          1.3697441705741094,
          0.7512169586004543,
          -0.2824614973739026,
          -0.07977661461943325,
          -0.28646266120436925,
          -1.8692748675190476,
          -2.213356776151716,
          0.15441374859745666,
          -1.5478918860005344,
          -1.1338644310084087,
          -0.18961048127706834,
          -0.2712235454492581,
          1.3770347510506729,
          -0.10769856275841726,
          0.25007942095142915,
          -0.24581587693088305,
          1.0449555649210132,
          -2.316610738638818,
          -1.1321076119372633,
          2.0798403062126822,
          -0.949482826775923,
          0.851147375610907,
          -1.1846700302065423,
          -0.3503218521965807,
          -0.6016878573216379,
          -0.7762444425403628,
          -0.17664041749493842,
          -0.7167788740618392,
          1.4957770911585555,
          0.32006109224343693,
          -0.4160181796098017,
          -1.0289878901901972,
          -0.028840017999183218,
          0.0906617680841434,
          -1.1626316176411984,
          1.1140749906334813,
          0.23008354895331506,
          1.4662781922418708,
          0.9594324202472861,
          0.9077424895580266,
          0.5469232101014058,
          -0.37001826436001684,
          0.0375296497806842,
          0.38365110502294736,
          0.4373591463255431,
          -0.4136271311424808,
          -0.25054229996615857,
          1.5150880221915881,
          -0.6999684484871376,
          -0.6884455441194943,
          -0.6306073233401768,
          1.229878846102295,
          -0.42415943156112845,
          -1.6257447758883978,
          1.2263914277700032,
          1.4774994046260237,
          -0.8100790575186627,
          -0.8597415001548215,
          -0.1801344743767673,
          0.5283749452210513,
          -1.4483925852346666,
          1.3157233747655845,
          -0.9303056141481809,
          -0.6966114459833475,
          0.005122112889394833,
          -0.8299210476964497,
          1.4984816418337383,
          0.6907345309357262,
          1.6200746965457395,
          2.30850904738162,
          -0.07803498367278285,
          1.9330738335702176,
          0.23773630644482593,
          0.26514156062533334,
          0.5528702896283667,
          1.6154441947826446,
          -0.8538034461113577,
          0.16254671568464973,
          -0.6777132836723643,
          -0.9132681004650263,
          0.7414740827061804,
          0.015105109889826045,
          1.3683256754297344,
          0.10593276304167344,
          0.05101011793404205,
          -0.43097490497474844,
          0.4728761219518831,
          0.05073295170547925,
          0.9086794698226724,
          2.7895932344850287,
          -0.344495575721824,
          0.8005930019004851,
          -0.30028642516358567,
          -0.412989466196912,
          0.5194635152948652,
          0.29819570359181413,
          -1.1490968335005125,
          -1.0123796632575641,
          1.046973068764236,
          -0.7692134524874261,
          -0.4826407726263512,
          0.39328163875052824,
          1.093608273787903,
          -0.8709734537371698,
          -2.007148054935125,
          -0.14236652223250465,
          0.38638797201764086,
          1.5468508783462598,
          -1.8368245883462717,
          0.14732912759594133,
          -1.011074295535587,
          0.11377102450903878,
          1.0015979376250357,
          0.47406091175555076,
          -2.140725133828077,
          -0.21151881414506643,
          -1.1908281015848525,
          0.3719541283610065,
          0.4497238553882119,
          -0.2209507806373364,
          0.09887182197490914,
          1.7871555613404058,
          -0.25529334610166543,
          0.12187019051189626,
          0.5681426528804324,
          0.24883821173750767,
          -1.0455182246149395,
          -0.2746617052931427,
          1.3238874452616143,
          -1.0106997494630197,
          1.3220250038259886,
          0.5911170347249227,
          1.101041349382142,
          0.5536214517752772,
          0.4479031433463813,
          -0.3097925014681577,
          -0.7692413180955545,
          0.34792387566695754,
          -0.7154147686780502,
          1.5125567383202598,
          0.12336002628717485,
          0.5095143269547379,
          0.4633183682761498,
          -1.1495221857581874,
          -0.36745313501676646,
          0.9513456030879418,
          -0.6178572322534133,
          -1.6049822272696301,
          -0.4278429354425824,
          -0.08931640521387223,
          0.008569144225874717,
          -0.29493718133233476,
          0.5203385715922005,
          -0.30954543739150425,
          -0.20965824803212324,
          -0.14466997932501666,
          -0.05804669043408993,
          -0.6833546661470079,
          0.25978867496584224,
          1.6545315738606436,
          -0.7968512000317757,
          0.2556094037782018,
          0.4775262845503442,
          0.1647116746702423,
          0.9333674618831691,
          0.1638287776038401,
          -0.10391038522493669,
          2.364593075581347,
          2.0147888326477914,
          -0.6572575673145599,
          1.7712454196684788,
          0.8852581420384603,
          -0.3231054730716363,
          -0.5082033827495662,
          0.47596010791326476,
          -0.9036066335966751,
          0.5884847504289565,
          0.11695831607496918,
          1.0029682870533527,
          -1.0711311410943178,
          -1.3444288069802668,
          -1.7609487179815393,
          1.3871470782773303,
          0.8055341842868562,
          -0.09141244912054455,
          -1.123922959164191,
          0.6753020993436802,
          1.0761274598949109,
          0.739809972526775,
          -0.34403868524710385,
          -0.628089122350875,
          -0.41549413016684433,
          0.044290491133571565,
          -1.0951054366695763,
          -0.27932163822212375,
          2.377721993591256,
          1.6512675860445674,
          -1.7245279546978163,
          -0.3010141505799558,
          0.3428409859505947,
          -0.6164385502694826,
          0.5635716873657638,
          0.5508649603250901,
          0.2231042325934655,
          -1.2849875428345285,
          0.30311166718459154,
          -0.31561220323618916,
          -0.15974516516159054,
          0.059100871772688725,
          1.9934408433546118,
          -0.6395224840241864,
          0.25720653302282886,
          -1.494038838809577,
          1.1232660877645433,
          0.031176899715469414,
          -0.49942576695622876,
          0.5329077327758083,
          0.2910311112096464,
          1.051004481386662,
          -1.7343592253085638,
          -0.30967709295005486,
          0.07049522336016907,
          -0.7429883492675321,
          1.3233681353854825,
          1.8166066153828022,
          -0.8558281082459502,
          -0.9160142411811008,
          -0.6257089578181435,
          1.1193391429329826,
          0.4814050418233044,
          0.02731894997172047,
          1.8272580802715628,
          -0.8417673244403503,
          0.05895281819051989,
          -0.25964436521801526,
          -0.9524606821892209,
          -0.15369704400704964,
          1.8585436473683785,
          0.1994773025424341,
          -1.8039859951584665,
          -0.04745590577136003
         ],
         "xaxis": "x",
         "y": [
          "Grafica de distribución",
          "Grafica de distribución",
          "Grafica de distribución",
          "Grafica de distribución",
          "Grafica de distribución",
          "Grafica de distribución",
          "Grafica de distribución",
          "Grafica de distribución",
          "Grafica de distribución",
          "Grafica de distribución",
          "Grafica de distribución",
          "Grafica de distribución",
          "Grafica de distribución",
          "Grafica de distribución",
          "Grafica de distribución",
          "Grafica de distribución",
          "Grafica de distribución",
          "Grafica de distribución",
          "Grafica de distribución",
          "Grafica de distribución",
          "Grafica de distribución",
          "Grafica de distribución",
          "Grafica de distribución",
          "Grafica de distribución",
          "Grafica de distribución",
          "Grafica de distribución",
          "Grafica de distribución",
          "Grafica de distribución",
          "Grafica de distribución",
          "Grafica de distribución",
          "Grafica de distribución",
          "Grafica de distribución",
          "Grafica de distribución",
          "Grafica de distribución",
          "Grafica de distribución",
          "Grafica de distribución",
          "Grafica de distribución",
          "Grafica de distribución",
          "Grafica de distribución",
          "Grafica de distribución",
          "Grafica de distribución",
          "Grafica de distribución",
          "Grafica de distribución",
          "Grafica de distribución",
          "Grafica de distribución",
          "Grafica de distribución",
          "Grafica de distribución",
          "Grafica de distribución",
          "Grafica de distribución",
          "Grafica de distribución",
          "Grafica de distribución",
          "Grafica de distribución",
          "Grafica de distribución",
          "Grafica de distribución",
          "Grafica de distribución",
          "Grafica de distribución",
          "Grafica de distribución",
          "Grafica de distribución",
          "Grafica de distribución",
          "Grafica de distribución",
          "Grafica de distribución",
          "Grafica de distribución",
          "Grafica de distribución",
          "Grafica de distribución",
          "Grafica de distribución",
          "Grafica de distribución",
          "Grafica de distribución",
          "Grafica de distribución",
          "Grafica de distribución",
          "Grafica de distribución",
          "Grafica de distribución",
          "Grafica de distribución",
          "Grafica de distribución",
          "Grafica de distribución",
          "Grafica de distribución",
          "Grafica de distribución",
          "Grafica de distribución",
          "Grafica de distribución",
          "Grafica de distribución",
          "Grafica de distribución",
          "Grafica de distribución",
          "Grafica de distribución",
          "Grafica de distribución",
          "Grafica de distribución",
          "Grafica de distribución",
          "Grafica de distribución",
          "Grafica de distribución",
          "Grafica de distribución",
          "Grafica de distribución",
          "Grafica de distribución",
          "Grafica de distribución",
          "Grafica de distribución",
          "Grafica de distribución",
          "Grafica de distribución",
          "Grafica de distribución",
          "Grafica de distribución",
          "Grafica de distribución",
          "Grafica de distribución",
          "Grafica de distribución",
          "Grafica de distribución",
          "Grafica de distribución",
          "Grafica de distribución",
          "Grafica de distribución",
          "Grafica de distribución",
          "Grafica de distribución",
          "Grafica de distribución",
          "Grafica de distribución",
          "Grafica de distribución",
          "Grafica de distribución",
          "Grafica de distribución",
          "Grafica de distribución",
          "Grafica de distribución",
          "Grafica de distribución",
          "Grafica de distribución",
          "Grafica de distribución",
          "Grafica de distribución",
          "Grafica de distribución",
          "Grafica de distribución",
          "Grafica de distribución",
          "Grafica de distribución",
          "Grafica de distribución",
          "Grafica de distribución",
          "Grafica de distribución",
          "Grafica de distribución",
          "Grafica de distribución",
          "Grafica de distribución",
          "Grafica de distribución",
          "Grafica de distribución",
          "Grafica de distribución",
          "Grafica de distribución",
          "Grafica de distribución",
          "Grafica de distribución",
          "Grafica de distribución",
          "Grafica de distribución",
          "Grafica de distribución",
          "Grafica de distribución",
          "Grafica de distribución",
          "Grafica de distribución",
          "Grafica de distribución",
          "Grafica de distribución",
          "Grafica de distribución",
          "Grafica de distribución",
          "Grafica de distribución",
          "Grafica de distribución",
          "Grafica de distribución",
          "Grafica de distribución",
          "Grafica de distribución",
          "Grafica de distribución",
          "Grafica de distribución",
          "Grafica de distribución",
          "Grafica de distribución",
          "Grafica de distribución",
          "Grafica de distribución",
          "Grafica de distribución",
          "Grafica de distribución",
          "Grafica de distribución",
          "Grafica de distribución",
          "Grafica de distribución",
          "Grafica de distribución",
          "Grafica de distribución",
          "Grafica de distribución",
          "Grafica de distribución",
          "Grafica de distribución",
          "Grafica de distribución",
          "Grafica de distribución",
          "Grafica de distribución",
          "Grafica de distribución",
          "Grafica de distribución",
          "Grafica de distribución",
          "Grafica de distribución",
          "Grafica de distribución",
          "Grafica de distribución",
          "Grafica de distribución",
          "Grafica de distribución",
          "Grafica de distribución",
          "Grafica de distribución",
          "Grafica de distribución",
          "Grafica de distribución",
          "Grafica de distribución",
          "Grafica de distribución",
          "Grafica de distribución",
          "Grafica de distribución",
          "Grafica de distribución",
          "Grafica de distribución",
          "Grafica de distribución",
          "Grafica de distribución",
          "Grafica de distribución",
          "Grafica de distribución",
          "Grafica de distribución",
          "Grafica de distribución",
          "Grafica de distribución",
          "Grafica de distribución",
          "Grafica de distribución",
          "Grafica de distribución",
          "Grafica de distribución",
          "Grafica de distribución",
          "Grafica de distribución",
          "Grafica de distribución",
          "Grafica de distribución",
          "Grafica de distribución",
          "Grafica de distribución",
          "Grafica de distribución",
          "Grafica de distribución",
          "Grafica de distribución",
          "Grafica de distribución",
          "Grafica de distribución",
          "Grafica de distribución",
          "Grafica de distribución",
          "Grafica de distribución",
          "Grafica de distribución",
          "Grafica de distribución",
          "Grafica de distribución",
          "Grafica de distribución",
          "Grafica de distribución",
          "Grafica de distribución",
          "Grafica de distribución",
          "Grafica de distribución",
          "Grafica de distribución",
          "Grafica de distribución",
          "Grafica de distribución",
          "Grafica de distribución",
          "Grafica de distribución",
          "Grafica de distribución",
          "Grafica de distribución",
          "Grafica de distribución",
          "Grafica de distribución",
          "Grafica de distribución",
          "Grafica de distribución",
          "Grafica de distribución",
          "Grafica de distribución",
          "Grafica de distribución",
          "Grafica de distribución",
          "Grafica de distribución",
          "Grafica de distribución",
          "Grafica de distribución",
          "Grafica de distribución",
          "Grafica de distribución",
          "Grafica de distribución",
          "Grafica de distribución",
          "Grafica de distribución",
          "Grafica de distribución",
          "Grafica de distribución",
          "Grafica de distribución",
          "Grafica de distribución",
          "Grafica de distribución",
          "Grafica de distribución",
          "Grafica de distribución",
          "Grafica de distribución",
          "Grafica de distribución",
          "Grafica de distribución",
          "Grafica de distribución",
          "Grafica de distribución",
          "Grafica de distribución",
          "Grafica de distribución",
          "Grafica de distribución",
          "Grafica de distribución",
          "Grafica de distribución",
          "Grafica de distribución",
          "Grafica de distribución",
          "Grafica de distribución",
          "Grafica de distribución",
          "Grafica de distribución",
          "Grafica de distribución",
          "Grafica de distribución",
          "Grafica de distribución",
          "Grafica de distribución",
          "Grafica de distribución",
          "Grafica de distribución",
          "Grafica de distribución",
          "Grafica de distribución",
          "Grafica de distribución",
          "Grafica de distribución",
          "Grafica de distribución",
          "Grafica de distribución",
          "Grafica de distribución",
          "Grafica de distribución",
          "Grafica de distribución",
          "Grafica de distribución",
          "Grafica de distribución",
          "Grafica de distribución",
          "Grafica de distribución",
          "Grafica de distribución",
          "Grafica de distribución",
          "Grafica de distribución",
          "Grafica de distribución",
          "Grafica de distribución",
          "Grafica de distribución",
          "Grafica de distribución",
          "Grafica de distribución",
          "Grafica de distribución",
          "Grafica de distribución",
          "Grafica de distribución",
          "Grafica de distribución",
          "Grafica de distribución",
          "Grafica de distribución",
          "Grafica de distribución",
          "Grafica de distribución",
          "Grafica de distribución",
          "Grafica de distribución",
          "Grafica de distribución",
          "Grafica de distribución",
          "Grafica de distribución",
          "Grafica de distribución",
          "Grafica de distribución",
          "Grafica de distribución",
          "Grafica de distribución",
          "Grafica de distribución",
          "Grafica de distribución",
          "Grafica de distribución",
          "Grafica de distribución",
          "Grafica de distribución",
          "Grafica de distribución",
          "Grafica de distribución",
          "Grafica de distribución",
          "Grafica de distribución",
          "Grafica de distribución",
          "Grafica de distribución",
          "Grafica de distribución",
          "Grafica de distribución",
          "Grafica de distribución",
          "Grafica de distribución",
          "Grafica de distribución",
          "Grafica de distribución",
          "Grafica de distribución",
          "Grafica de distribución",
          "Grafica de distribución",
          "Grafica de distribución",
          "Grafica de distribución",
          "Grafica de distribución",
          "Grafica de distribución",
          "Grafica de distribución",
          "Grafica de distribución",
          "Grafica de distribución",
          "Grafica de distribución",
          "Grafica de distribución",
          "Grafica de distribución",
          "Grafica de distribución",
          "Grafica de distribución",
          "Grafica de distribución",
          "Grafica de distribución",
          "Grafica de distribución",
          "Grafica de distribución",
          "Grafica de distribución",
          "Grafica de distribución",
          "Grafica de distribución",
          "Grafica de distribución",
          "Grafica de distribución",
          "Grafica de distribución",
          "Grafica de distribución",
          "Grafica de distribución",
          "Grafica de distribución",
          "Grafica de distribución",
          "Grafica de distribución",
          "Grafica de distribución",
          "Grafica de distribución",
          "Grafica de distribución",
          "Grafica de distribución",
          "Grafica de distribución",
          "Grafica de distribución",
          "Grafica de distribución",
          "Grafica de distribución",
          "Grafica de distribución",
          "Grafica de distribución",
          "Grafica de distribución",
          "Grafica de distribución",
          "Grafica de distribución",
          "Grafica de distribución",
          "Grafica de distribución",
          "Grafica de distribución",
          "Grafica de distribución",
          "Grafica de distribución",
          "Grafica de distribución",
          "Grafica de distribución",
          "Grafica de distribución",
          "Grafica de distribución",
          "Grafica de distribución",
          "Grafica de distribución",
          "Grafica de distribución",
          "Grafica de distribución",
          "Grafica de distribución",
          "Grafica de distribución",
          "Grafica de distribución",
          "Grafica de distribución",
          "Grafica de distribución",
          "Grafica de distribución",
          "Grafica de distribución",
          "Grafica de distribución",
          "Grafica de distribución",
          "Grafica de distribución",
          "Grafica de distribución",
          "Grafica de distribución",
          "Grafica de distribución",
          "Grafica de distribución",
          "Grafica de distribución",
          "Grafica de distribución",
          "Grafica de distribución",
          "Grafica de distribución",
          "Grafica de distribución",
          "Grafica de distribución",
          "Grafica de distribución",
          "Grafica de distribución",
          "Grafica de distribución",
          "Grafica de distribución",
          "Grafica de distribución",
          "Grafica de distribución",
          "Grafica de distribución",
          "Grafica de distribución",
          "Grafica de distribución",
          "Grafica de distribución",
          "Grafica de distribución",
          "Grafica de distribución",
          "Grafica de distribución",
          "Grafica de distribución",
          "Grafica de distribución",
          "Grafica de distribución",
          "Grafica de distribución",
          "Grafica de distribución",
          "Grafica de distribución",
          "Grafica de distribución",
          "Grafica de distribución",
          "Grafica de distribución",
          "Grafica de distribución",
          "Grafica de distribución",
          "Grafica de distribución",
          "Grafica de distribución",
          "Grafica de distribución",
          "Grafica de distribución",
          "Grafica de distribución",
          "Grafica de distribución",
          "Grafica de distribución",
          "Grafica de distribución",
          "Grafica de distribución",
          "Grafica de distribución",
          "Grafica de distribución",
          "Grafica de distribución",
          "Grafica de distribución",
          "Grafica de distribución",
          "Grafica de distribución",
          "Grafica de distribución",
          "Grafica de distribución",
          "Grafica de distribución",
          "Grafica de distribución",
          "Grafica de distribución",
          "Grafica de distribución",
          "Grafica de distribución",
          "Grafica de distribución",
          "Grafica de distribución",
          "Grafica de distribución",
          "Grafica de distribución",
          "Grafica de distribución",
          "Grafica de distribución",
          "Grafica de distribución",
          "Grafica de distribución",
          "Grafica de distribución",
          "Grafica de distribución",
          "Grafica de distribución",
          "Grafica de distribución",
          "Grafica de distribución",
          "Grafica de distribución",
          "Grafica de distribución",
          "Grafica de distribución",
          "Grafica de distribución",
          "Grafica de distribución",
          "Grafica de distribución",
          "Grafica de distribución",
          "Grafica de distribución",
          "Grafica de distribución",
          "Grafica de distribución",
          "Grafica de distribución",
          "Grafica de distribución",
          "Grafica de distribución",
          "Grafica de distribución",
          "Grafica de distribución",
          "Grafica de distribución",
          "Grafica de distribución",
          "Grafica de distribución",
          "Grafica de distribución",
          "Grafica de distribución",
          "Grafica de distribución",
          "Grafica de distribución",
          "Grafica de distribución",
          "Grafica de distribución",
          "Grafica de distribución",
          "Grafica de distribución",
          "Grafica de distribución",
          "Grafica de distribución",
          "Grafica de distribución",
          "Grafica de distribución",
          "Grafica de distribución",
          "Grafica de distribución",
          "Grafica de distribución",
          "Grafica de distribución",
          "Grafica de distribución",
          "Grafica de distribución",
          "Grafica de distribución",
          "Grafica de distribución",
          "Grafica de distribución",
          "Grafica de distribución",
          "Grafica de distribución",
          "Grafica de distribución",
          "Grafica de distribución",
          "Grafica de distribución",
          "Grafica de distribución",
          "Grafica de distribución",
          "Grafica de distribución",
          "Grafica de distribución",
          "Grafica de distribución",
          "Grafica de distribución",
          "Grafica de distribución",
          "Grafica de distribución",
          "Grafica de distribución",
          "Grafica de distribución",
          "Grafica de distribución",
          "Grafica de distribución",
          "Grafica de distribución",
          "Grafica de distribución",
          "Grafica de distribución",
          "Grafica de distribución",
          "Grafica de distribución",
          "Grafica de distribución",
          "Grafica de distribución",
          "Grafica de distribución",
          "Grafica de distribución",
          "Grafica de distribución",
          "Grafica de distribución",
          "Grafica de distribución",
          "Grafica de distribución",
          "Grafica de distribución",
          "Grafica de distribución",
          "Grafica de distribución",
          "Grafica de distribución",
          "Grafica de distribución",
          "Grafica de distribución",
          "Grafica de distribución",
          "Grafica de distribución",
          "Grafica de distribución",
          "Grafica de distribución",
          "Grafica de distribución",
          "Grafica de distribución",
          "Grafica de distribución",
          "Grafica de distribución",
          "Grafica de distribución",
          "Grafica de distribución",
          "Grafica de distribución",
          "Grafica de distribución",
          "Grafica de distribución",
          "Grafica de distribución",
          "Grafica de distribución",
          "Grafica de distribución",
          "Grafica de distribución",
          "Grafica de distribución",
          "Grafica de distribución",
          "Grafica de distribución",
          "Grafica de distribución",
          "Grafica de distribución",
          "Grafica de distribución",
          "Grafica de distribución",
          "Grafica de distribución",
          "Grafica de distribución",
          "Grafica de distribución",
          "Grafica de distribución",
          "Grafica de distribución",
          "Grafica de distribución",
          "Grafica de distribución",
          "Grafica de distribución",
          "Grafica de distribución",
          "Grafica de distribución",
          "Grafica de distribución",
          "Grafica de distribución",
          "Grafica de distribución",
          "Grafica de distribución",
          "Grafica de distribución",
          "Grafica de distribución",
          "Grafica de distribución",
          "Grafica de distribución",
          "Grafica de distribución",
          "Grafica de distribución",
          "Grafica de distribución",
          "Grafica de distribución",
          "Grafica de distribución",
          "Grafica de distribución",
          "Grafica de distribución",
          "Grafica de distribución",
          "Grafica de distribución",
          "Grafica de distribución",
          "Grafica de distribución",
          "Grafica de distribución",
          "Grafica de distribución",
          "Grafica de distribución",
          "Grafica de distribución",
          "Grafica de distribución",
          "Grafica de distribución",
          "Grafica de distribución",
          "Grafica de distribución",
          "Grafica de distribución",
          "Grafica de distribución",
          "Grafica de distribución",
          "Grafica de distribución",
          "Grafica de distribución",
          "Grafica de distribución",
          "Grafica de distribución",
          "Grafica de distribución",
          "Grafica de distribución",
          "Grafica de distribución",
          "Grafica de distribución",
          "Grafica de distribución",
          "Grafica de distribución",
          "Grafica de distribución",
          "Grafica de distribución",
          "Grafica de distribución",
          "Grafica de distribución",
          "Grafica de distribución",
          "Grafica de distribución",
          "Grafica de distribución",
          "Grafica de distribución",
          "Grafica de distribución",
          "Grafica de distribución",
          "Grafica de distribución",
          "Grafica de distribución",
          "Grafica de distribución",
          "Grafica de distribución",
          "Grafica de distribución",
          "Grafica de distribución",
          "Grafica de distribución",
          "Grafica de distribución",
          "Grafica de distribución",
          "Grafica de distribución",
          "Grafica de distribución",
          "Grafica de distribución",
          "Grafica de distribución",
          "Grafica de distribución",
          "Grafica de distribución",
          "Grafica de distribución",
          "Grafica de distribución",
          "Grafica de distribución",
          "Grafica de distribución",
          "Grafica de distribución",
          "Grafica de distribución",
          "Grafica de distribución",
          "Grafica de distribución",
          "Grafica de distribución",
          "Grafica de distribución",
          "Grafica de distribución",
          "Grafica de distribución",
          "Grafica de distribución",
          "Grafica de distribución",
          "Grafica de distribución",
          "Grafica de distribución",
          "Grafica de distribución",
          "Grafica de distribución",
          "Grafica de distribución",
          "Grafica de distribución",
          "Grafica de distribución",
          "Grafica de distribución",
          "Grafica de distribución",
          "Grafica de distribución",
          "Grafica de distribución",
          "Grafica de distribución",
          "Grafica de distribución",
          "Grafica de distribución",
          "Grafica de distribución",
          "Grafica de distribución",
          "Grafica de distribución",
          "Grafica de distribución",
          "Grafica de distribución",
          "Grafica de distribución",
          "Grafica de distribución",
          "Grafica de distribución",
          "Grafica de distribución",
          "Grafica de distribución",
          "Grafica de distribución",
          "Grafica de distribución",
          "Grafica de distribución",
          "Grafica de distribución",
          "Grafica de distribución",
          "Grafica de distribución",
          "Grafica de distribución",
          "Grafica de distribución",
          "Grafica de distribución",
          "Grafica de distribución",
          "Grafica de distribución",
          "Grafica de distribución",
          "Grafica de distribución",
          "Grafica de distribución",
          "Grafica de distribución",
          "Grafica de distribución",
          "Grafica de distribución",
          "Grafica de distribución",
          "Grafica de distribución",
          "Grafica de distribución",
          "Grafica de distribución",
          "Grafica de distribución",
          "Grafica de distribución",
          "Grafica de distribución",
          "Grafica de distribución",
          "Grafica de distribución",
          "Grafica de distribución",
          "Grafica de distribución",
          "Grafica de distribución",
          "Grafica de distribución",
          "Grafica de distribución",
          "Grafica de distribución",
          "Grafica de distribución",
          "Grafica de distribución",
          "Grafica de distribución",
          "Grafica de distribución",
          "Grafica de distribución",
          "Grafica de distribución",
          "Grafica de distribución",
          "Grafica de distribución",
          "Grafica de distribución",
          "Grafica de distribución",
          "Grafica de distribución",
          "Grafica de distribución",
          "Grafica de distribución",
          "Grafica de distribución",
          "Grafica de distribución",
          "Grafica de distribución",
          "Grafica de distribución",
          "Grafica de distribución",
          "Grafica de distribución",
          "Grafica de distribución",
          "Grafica de distribución",
          "Grafica de distribución",
          "Grafica de distribución",
          "Grafica de distribución",
          "Grafica de distribución",
          "Grafica de distribución",
          "Grafica de distribución",
          "Grafica de distribución",
          "Grafica de distribución",
          "Grafica de distribución",
          "Grafica de distribución",
          "Grafica de distribución",
          "Grafica de distribución",
          "Grafica de distribución",
          "Grafica de distribución",
          "Grafica de distribución",
          "Grafica de distribución",
          "Grafica de distribución",
          "Grafica de distribución",
          "Grafica de distribución",
          "Grafica de distribución",
          "Grafica de distribución",
          "Grafica de distribución",
          "Grafica de distribución",
          "Grafica de distribución",
          "Grafica de distribución",
          "Grafica de distribución",
          "Grafica de distribución",
          "Grafica de distribución",
          "Grafica de distribución",
          "Grafica de distribución",
          "Grafica de distribución",
          "Grafica de distribución",
          "Grafica de distribución",
          "Grafica de distribución",
          "Grafica de distribución",
          "Grafica de distribución",
          "Grafica de distribución",
          "Grafica de distribución",
          "Grafica de distribución",
          "Grafica de distribución",
          "Grafica de distribución",
          "Grafica de distribución",
          "Grafica de distribución",
          "Grafica de distribución",
          "Grafica de distribución",
          "Grafica de distribución",
          "Grafica de distribución",
          "Grafica de distribución",
          "Grafica de distribución",
          "Grafica de distribución",
          "Grafica de distribución",
          "Grafica de distribución",
          "Grafica de distribución",
          "Grafica de distribución",
          "Grafica de distribución",
          "Grafica de distribución",
          "Grafica de distribución",
          "Grafica de distribución",
          "Grafica de distribución",
          "Grafica de distribución",
          "Grafica de distribución",
          "Grafica de distribución",
          "Grafica de distribución",
          "Grafica de distribución",
          "Grafica de distribución",
          "Grafica de distribución",
          "Grafica de distribución",
          "Grafica de distribución",
          "Grafica de distribución",
          "Grafica de distribución",
          "Grafica de distribución",
          "Grafica de distribución",
          "Grafica de distribución",
          "Grafica de distribución",
          "Grafica de distribución",
          "Grafica de distribución",
          "Grafica de distribución",
          "Grafica de distribución",
          "Grafica de distribución",
          "Grafica de distribución",
          "Grafica de distribución",
          "Grafica de distribución",
          "Grafica de distribución",
          "Grafica de distribución",
          "Grafica de distribución",
          "Grafica de distribución",
          "Grafica de distribución",
          "Grafica de distribución",
          "Grafica de distribución",
          "Grafica de distribución",
          "Grafica de distribución",
          "Grafica de distribución",
          "Grafica de distribución",
          "Grafica de distribución",
          "Grafica de distribución",
          "Grafica de distribución",
          "Grafica de distribución",
          "Grafica de distribución",
          "Grafica de distribución",
          "Grafica de distribución",
          "Grafica de distribución",
          "Grafica de distribución",
          "Grafica de distribución",
          "Grafica de distribución",
          "Grafica de distribución",
          "Grafica de distribución",
          "Grafica de distribución",
          "Grafica de distribución",
          "Grafica de distribución",
          "Grafica de distribución",
          "Grafica de distribución",
          "Grafica de distribución",
          "Grafica de distribución",
          "Grafica de distribución",
          "Grafica de distribución",
          "Grafica de distribución",
          "Grafica de distribución",
          "Grafica de distribución",
          "Grafica de distribución",
          "Grafica de distribución",
          "Grafica de distribución",
          "Grafica de distribución",
          "Grafica de distribución",
          "Grafica de distribución",
          "Grafica de distribución",
          "Grafica de distribución",
          "Grafica de distribución",
          "Grafica de distribución",
          "Grafica de distribución",
          "Grafica de distribución",
          "Grafica de distribución",
          "Grafica de distribución",
          "Grafica de distribución",
          "Grafica de distribución",
          "Grafica de distribución",
          "Grafica de distribución",
          "Grafica de distribución",
          "Grafica de distribución",
          "Grafica de distribución",
          "Grafica de distribución",
          "Grafica de distribución",
          "Grafica de distribución",
          "Grafica de distribución",
          "Grafica de distribución",
          "Grafica de distribución",
          "Grafica de distribución",
          "Grafica de distribución",
          "Grafica de distribución",
          "Grafica de distribución",
          "Grafica de distribución",
          "Grafica de distribución",
          "Grafica de distribución",
          "Grafica de distribución",
          "Grafica de distribución",
          "Grafica de distribución",
          "Grafica de distribución",
          "Grafica de distribución",
          "Grafica de distribución",
          "Grafica de distribución",
          "Grafica de distribución",
          "Grafica de distribución",
          "Grafica de distribución",
          "Grafica de distribución",
          "Grafica de distribución",
          "Grafica de distribución",
          "Grafica de distribución",
          "Grafica de distribución",
          "Grafica de distribución",
          "Grafica de distribución",
          "Grafica de distribución",
          "Grafica de distribución",
          "Grafica de distribución",
          "Grafica de distribución",
          "Grafica de distribución",
          "Grafica de distribución",
          "Grafica de distribución",
          "Grafica de distribución",
          "Grafica de distribución",
          "Grafica de distribución",
          "Grafica de distribución",
          "Grafica de distribución",
          "Grafica de distribución",
          "Grafica de distribución",
          "Grafica de distribución",
          "Grafica de distribución",
          "Grafica de distribución",
          "Grafica de distribución",
          "Grafica de distribución",
          "Grafica de distribución",
          "Grafica de distribución",
          "Grafica de distribución",
          "Grafica de distribución",
          "Grafica de distribución",
          "Grafica de distribución",
          "Grafica de distribución",
          "Grafica de distribución",
          "Grafica de distribución",
          "Grafica de distribución",
          "Grafica de distribución",
          "Grafica de distribución",
          "Grafica de distribución",
          "Grafica de distribución",
          "Grafica de distribución",
          "Grafica de distribución",
          "Grafica de distribución",
          "Grafica de distribución",
          "Grafica de distribución",
          "Grafica de distribución",
          "Grafica de distribución",
          "Grafica de distribución",
          "Grafica de distribución",
          "Grafica de distribución",
          "Grafica de distribución",
          "Grafica de distribución",
          "Grafica de distribución",
          "Grafica de distribución",
          "Grafica de distribución",
          "Grafica de distribución",
          "Grafica de distribución",
          "Grafica de distribución",
          "Grafica de distribución",
          "Grafica de distribución",
          "Grafica de distribución",
          "Grafica de distribución",
          "Grafica de distribución",
          "Grafica de distribución",
          "Grafica de distribución",
          "Grafica de distribución",
          "Grafica de distribución",
          "Grafica de distribución",
          "Grafica de distribución",
          "Grafica de distribución",
          "Grafica de distribución",
          "Grafica de distribución",
          "Grafica de distribución",
          "Grafica de distribución",
          "Grafica de distribución",
          "Grafica de distribución",
          "Grafica de distribución",
          "Grafica de distribución",
          "Grafica de distribución",
          "Grafica de distribución",
          "Grafica de distribución",
          "Grafica de distribución",
          "Grafica de distribución",
          "Grafica de distribución",
          "Grafica de distribución",
          "Grafica de distribución",
          "Grafica de distribución",
          "Grafica de distribución",
          "Grafica de distribución",
          "Grafica de distribución",
          "Grafica de distribución",
          "Grafica de distribución",
          "Grafica de distribución",
          "Grafica de distribución",
          "Grafica de distribución",
          "Grafica de distribución",
          "Grafica de distribución",
          "Grafica de distribución",
          "Grafica de distribución",
          "Grafica de distribución",
          "Grafica de distribución",
          "Grafica de distribución",
          "Grafica de distribución",
          "Grafica de distribución",
          "Grafica de distribución",
          "Grafica de distribución",
          "Grafica de distribución",
          "Grafica de distribución",
          "Grafica de distribución",
          "Grafica de distribución",
          "Grafica de distribución",
          "Grafica de distribución",
          "Grafica de distribución",
          "Grafica de distribución",
          "Grafica de distribución"
         ],
         "yaxis": "y2"
        }
       ],
       "layout": {
        "barmode": "overlay",
        "hovermode": "closest",
        "legend": {
         "traceorder": "reversed"
        },
        "template": {
         "data": {
          "bar": [
           {
            "error_x": {
             "color": "#2a3f5f"
            },
            "error_y": {
             "color": "#2a3f5f"
            },
            "marker": {
             "line": {
              "color": "#E5ECF6",
              "width": 0.5
             }
            },
            "type": "bar"
           }
          ],
          "barpolar": [
           {
            "marker": {
             "line": {
              "color": "#E5ECF6",
              "width": 0.5
             }
            },
            "type": "barpolar"
           }
          ],
          "carpet": [
           {
            "aaxis": {
             "endlinecolor": "#2a3f5f",
             "gridcolor": "white",
             "linecolor": "white",
             "minorgridcolor": "white",
             "startlinecolor": "#2a3f5f"
            },
            "baxis": {
             "endlinecolor": "#2a3f5f",
             "gridcolor": "white",
             "linecolor": "white",
             "minorgridcolor": "white",
             "startlinecolor": "#2a3f5f"
            },
            "type": "carpet"
           }
          ],
          "choropleth": [
           {
            "colorbar": {
             "outlinewidth": 0,
             "ticks": ""
            },
            "type": "choropleth"
           }
          ],
          "contour": [
           {
            "colorbar": {
             "outlinewidth": 0,
             "ticks": ""
            },
            "colorscale": [
             [
              0,
              "#0d0887"
             ],
             [
              0.1111111111111111,
              "#46039f"
             ],
             [
              0.2222222222222222,
              "#7201a8"
             ],
             [
              0.3333333333333333,
              "#9c179e"
             ],
             [
              0.4444444444444444,
              "#bd3786"
             ],
             [
              0.5555555555555556,
              "#d8576b"
             ],
             [
              0.6666666666666666,
              "#ed7953"
             ],
             [
              0.7777777777777778,
              "#fb9f3a"
             ],
             [
              0.8888888888888888,
              "#fdca26"
             ],
             [
              1,
              "#f0f921"
             ]
            ],
            "type": "contour"
           }
          ],
          "contourcarpet": [
           {
            "colorbar": {
             "outlinewidth": 0,
             "ticks": ""
            },
            "type": "contourcarpet"
           }
          ],
          "heatmap": [
           {
            "colorbar": {
             "outlinewidth": 0,
             "ticks": ""
            },
            "colorscale": [
             [
              0,
              "#0d0887"
             ],
             [
              0.1111111111111111,
              "#46039f"
             ],
             [
              0.2222222222222222,
              "#7201a8"
             ],
             [
              0.3333333333333333,
              "#9c179e"
             ],
             [
              0.4444444444444444,
              "#bd3786"
             ],
             [
              0.5555555555555556,
              "#d8576b"
             ],
             [
              0.6666666666666666,
              "#ed7953"
             ],
             [
              0.7777777777777778,
              "#fb9f3a"
             ],
             [
              0.8888888888888888,
              "#fdca26"
             ],
             [
              1,
              "#f0f921"
             ]
            ],
            "type": "heatmap"
           }
          ],
          "heatmapgl": [
           {
            "colorbar": {
             "outlinewidth": 0,
             "ticks": ""
            },
            "colorscale": [
             [
              0,
              "#0d0887"
             ],
             [
              0.1111111111111111,
              "#46039f"
             ],
             [
              0.2222222222222222,
              "#7201a8"
             ],
             [
              0.3333333333333333,
              "#9c179e"
             ],
             [
              0.4444444444444444,
              "#bd3786"
             ],
             [
              0.5555555555555556,
              "#d8576b"
             ],
             [
              0.6666666666666666,
              "#ed7953"
             ],
             [
              0.7777777777777778,
              "#fb9f3a"
             ],
             [
              0.8888888888888888,
              "#fdca26"
             ],
             [
              1,
              "#f0f921"
             ]
            ],
            "type": "heatmapgl"
           }
          ],
          "histogram": [
           {
            "marker": {
             "colorbar": {
              "outlinewidth": 0,
              "ticks": ""
             }
            },
            "type": "histogram"
           }
          ],
          "histogram2d": [
           {
            "colorbar": {
             "outlinewidth": 0,
             "ticks": ""
            },
            "colorscale": [
             [
              0,
              "#0d0887"
             ],
             [
              0.1111111111111111,
              "#46039f"
             ],
             [
              0.2222222222222222,
              "#7201a8"
             ],
             [
              0.3333333333333333,
              "#9c179e"
             ],
             [
              0.4444444444444444,
              "#bd3786"
             ],
             [
              0.5555555555555556,
              "#d8576b"
             ],
             [
              0.6666666666666666,
              "#ed7953"
             ],
             [
              0.7777777777777778,
              "#fb9f3a"
             ],
             [
              0.8888888888888888,
              "#fdca26"
             ],
             [
              1,
              "#f0f921"
             ]
            ],
            "type": "histogram2d"
           }
          ],
          "histogram2dcontour": [
           {
            "colorbar": {
             "outlinewidth": 0,
             "ticks": ""
            },
            "colorscale": [
             [
              0,
              "#0d0887"
             ],
             [
              0.1111111111111111,
              "#46039f"
             ],
             [
              0.2222222222222222,
              "#7201a8"
             ],
             [
              0.3333333333333333,
              "#9c179e"
             ],
             [
              0.4444444444444444,
              "#bd3786"
             ],
             [
              0.5555555555555556,
              "#d8576b"
             ],
             [
              0.6666666666666666,
              "#ed7953"
             ],
             [
              0.7777777777777778,
              "#fb9f3a"
             ],
             [
              0.8888888888888888,
              "#fdca26"
             ],
             [
              1,
              "#f0f921"
             ]
            ],
            "type": "histogram2dcontour"
           }
          ],
          "mesh3d": [
           {
            "colorbar": {
             "outlinewidth": 0,
             "ticks": ""
            },
            "type": "mesh3d"
           }
          ],
          "parcoords": [
           {
            "line": {
             "colorbar": {
              "outlinewidth": 0,
              "ticks": ""
             }
            },
            "type": "parcoords"
           }
          ],
          "pie": [
           {
            "automargin": true,
            "type": "pie"
           }
          ],
          "scatter": [
           {
            "marker": {
             "colorbar": {
              "outlinewidth": 0,
              "ticks": ""
             }
            },
            "type": "scatter"
           }
          ],
          "scatter3d": [
           {
            "line": {
             "colorbar": {
              "outlinewidth": 0,
              "ticks": ""
             }
            },
            "marker": {
             "colorbar": {
              "outlinewidth": 0,
              "ticks": ""
             }
            },
            "type": "scatter3d"
           }
          ],
          "scattercarpet": [
           {
            "marker": {
             "colorbar": {
              "outlinewidth": 0,
              "ticks": ""
             }
            },
            "type": "scattercarpet"
           }
          ],
          "scattergeo": [
           {
            "marker": {
             "colorbar": {
              "outlinewidth": 0,
              "ticks": ""
             }
            },
            "type": "scattergeo"
           }
          ],
          "scattergl": [
           {
            "marker": {
             "colorbar": {
              "outlinewidth": 0,
              "ticks": ""
             }
            },
            "type": "scattergl"
           }
          ],
          "scattermapbox": [
           {
            "marker": {
             "colorbar": {
              "outlinewidth": 0,
              "ticks": ""
             }
            },
            "type": "scattermapbox"
           }
          ],
          "scatterpolar": [
           {
            "marker": {
             "colorbar": {
              "outlinewidth": 0,
              "ticks": ""
             }
            },
            "type": "scatterpolar"
           }
          ],
          "scatterpolargl": [
           {
            "marker": {
             "colorbar": {
              "outlinewidth": 0,
              "ticks": ""
             }
            },
            "type": "scatterpolargl"
           }
          ],
          "scatterternary": [
           {
            "marker": {
             "colorbar": {
              "outlinewidth": 0,
              "ticks": ""
             }
            },
            "type": "scatterternary"
           }
          ],
          "surface": [
           {
            "colorbar": {
             "outlinewidth": 0,
             "ticks": ""
            },
            "colorscale": [
             [
              0,
              "#0d0887"
             ],
             [
              0.1111111111111111,
              "#46039f"
             ],
             [
              0.2222222222222222,
              "#7201a8"
             ],
             [
              0.3333333333333333,
              "#9c179e"
             ],
             [
              0.4444444444444444,
              "#bd3786"
             ],
             [
              0.5555555555555556,
              "#d8576b"
             ],
             [
              0.6666666666666666,
              "#ed7953"
             ],
             [
              0.7777777777777778,
              "#fb9f3a"
             ],
             [
              0.8888888888888888,
              "#fdca26"
             ],
             [
              1,
              "#f0f921"
             ]
            ],
            "type": "surface"
           }
          ],
          "table": [
           {
            "cells": {
             "fill": {
              "color": "#EBF0F8"
             },
             "line": {
              "color": "white"
             }
            },
            "header": {
             "fill": {
              "color": "#C8D4E3"
             },
             "line": {
              "color": "white"
             }
            },
            "type": "table"
           }
          ]
         },
         "layout": {
          "annotationdefaults": {
           "arrowcolor": "#2a3f5f",
           "arrowhead": 0,
           "arrowwidth": 1
          },
          "coloraxis": {
           "colorbar": {
            "outlinewidth": 0,
            "ticks": ""
           }
          },
          "colorscale": {
           "diverging": [
            [
             0,
             "#8e0152"
            ],
            [
             0.1,
             "#c51b7d"
            ],
            [
             0.2,
             "#de77ae"
            ],
            [
             0.3,
             "#f1b6da"
            ],
            [
             0.4,
             "#fde0ef"
            ],
            [
             0.5,
             "#f7f7f7"
            ],
            [
             0.6,
             "#e6f5d0"
            ],
            [
             0.7,
             "#b8e186"
            ],
            [
             0.8,
             "#7fbc41"
            ],
            [
             0.9,
             "#4d9221"
            ],
            [
             1,
             "#276419"
            ]
           ],
           "sequential": [
            [
             0,
             "#0d0887"
            ],
            [
             0.1111111111111111,
             "#46039f"
            ],
            [
             0.2222222222222222,
             "#7201a8"
            ],
            [
             0.3333333333333333,
             "#9c179e"
            ],
            [
             0.4444444444444444,
             "#bd3786"
            ],
            [
             0.5555555555555556,
             "#d8576b"
            ],
            [
             0.6666666666666666,
             "#ed7953"
            ],
            [
             0.7777777777777778,
             "#fb9f3a"
            ],
            [
             0.8888888888888888,
             "#fdca26"
            ],
            [
             1,
             "#f0f921"
            ]
           ],
           "sequentialminus": [
            [
             0,
             "#0d0887"
            ],
            [
             0.1111111111111111,
             "#46039f"
            ],
            [
             0.2222222222222222,
             "#7201a8"
            ],
            [
             0.3333333333333333,
             "#9c179e"
            ],
            [
             0.4444444444444444,
             "#bd3786"
            ],
            [
             0.5555555555555556,
             "#d8576b"
            ],
            [
             0.6666666666666666,
             "#ed7953"
            ],
            [
             0.7777777777777778,
             "#fb9f3a"
            ],
            [
             0.8888888888888888,
             "#fdca26"
            ],
            [
             1,
             "#f0f921"
            ]
           ]
          },
          "colorway": [
           "#636efa",
           "#EF553B",
           "#00cc96",
           "#ab63fa",
           "#FFA15A",
           "#19d3f3",
           "#FF6692",
           "#B6E880",
           "#FF97FF",
           "#FECB52"
          ],
          "font": {
           "color": "#2a3f5f"
          },
          "geo": {
           "bgcolor": "white",
           "lakecolor": "white",
           "landcolor": "#E5ECF6",
           "showlakes": true,
           "showland": true,
           "subunitcolor": "white"
          },
          "hoverlabel": {
           "align": "left"
          },
          "hovermode": "closest",
          "mapbox": {
           "style": "light"
          },
          "paper_bgcolor": "white",
          "plot_bgcolor": "#E5ECF6",
          "polar": {
           "angularaxis": {
            "gridcolor": "white",
            "linecolor": "white",
            "ticks": ""
           },
           "bgcolor": "#E5ECF6",
           "radialaxis": {
            "gridcolor": "white",
            "linecolor": "white",
            "ticks": ""
           }
          },
          "scene": {
           "xaxis": {
            "backgroundcolor": "#E5ECF6",
            "gridcolor": "white",
            "gridwidth": 2,
            "linecolor": "white",
            "showbackground": true,
            "ticks": "",
            "zerolinecolor": "white"
           },
           "yaxis": {
            "backgroundcolor": "#E5ECF6",
            "gridcolor": "white",
            "gridwidth": 2,
            "linecolor": "white",
            "showbackground": true,
            "ticks": "",
            "zerolinecolor": "white"
           },
           "zaxis": {
            "backgroundcolor": "#E5ECF6",
            "gridcolor": "white",
            "gridwidth": 2,
            "linecolor": "white",
            "showbackground": true,
            "ticks": "",
            "zerolinecolor": "white"
           }
          },
          "shapedefaults": {
           "line": {
            "color": "#2a3f5f"
           }
          },
          "ternary": {
           "aaxis": {
            "gridcolor": "white",
            "linecolor": "white",
            "ticks": ""
           },
           "baxis": {
            "gridcolor": "white",
            "linecolor": "white",
            "ticks": ""
           },
           "bgcolor": "#E5ECF6",
           "caxis": {
            "gridcolor": "white",
            "linecolor": "white",
            "ticks": ""
           }
          },
          "title": {
           "x": 0.05
          },
          "xaxis": {
           "automargin": true,
           "gridcolor": "white",
           "linecolor": "white",
           "ticks": "",
           "title": {
            "standoff": 15
           },
           "zerolinecolor": "white",
           "zerolinewidth": 2
          },
          "yaxis": {
           "automargin": true,
           "gridcolor": "white",
           "linecolor": "white",
           "ticks": "",
           "title": {
            "standoff": 15
           },
           "zerolinecolor": "white",
           "zerolinewidth": 2
          }
         }
        },
        "xaxis": {
         "anchor": "y2",
         "domain": [
          0,
          1
         ],
         "zeroline": false
        },
        "yaxis": {
         "anchor": "free",
         "domain": [
          0.35,
          1
         ],
         "position": 0
        },
        "yaxis2": {
         "anchor": "x",
         "domain": [
          0,
          0.25
         ],
         "dtick": 1,
         "showticklabels": false
        }
       }
      },
      "text/html": [
       "<div>\n",
       "        \n",
       "        \n",
       "            <div id=\"7e9d6b74-adb2-43ed-b801-12c91e42c7bf\" class=\"plotly-graph-div\" style=\"height:525px; width:100%;\"></div>\n",
       "            <script type=\"text/javascript\">\n",
       "                require([\"plotly\"], function(Plotly) {\n",
       "                    window.PLOTLYENV=window.PLOTLYENV || {};\n",
       "                    \n",
       "                if (document.getElementById(\"7e9d6b74-adb2-43ed-b801-12c91e42c7bf\")) {\n",
       "                    Plotly.newPlot(\n",
       "                        '7e9d6b74-adb2-43ed-b801-12c91e42c7bf',\n",
       "                        [{\"autobinx\": false, \"histnorm\": \"probability density\", \"legendgroup\": \"Grafica de distribuci\\u00f3n\", \"marker\": {\"color\": \"rgb(31, 119, 180)\"}, \"name\": \"Grafica de distribuci\\u00f3n\", \"opacity\": 0.7, \"type\": \"histogram\", \"x\": [1.0120159562081275, -0.11794371911875322, -0.15799089132625807, 0.6185607651239511, 1.7613695472052444, 0.2794989862481751, 0.7101391979800243, -1.143585654633243, 0.004095655221802772, -0.07166325814202996, -1.4568124056133311, 1.0478806047091815, -0.2354866200047655, -0.6248215409123633, -0.5284269036676169, 0.18881415307328692, -1.7479783902620394, 0.05423650529216657, -0.1424293421801908, 0.24800167681346869, -0.35584922370674466, 0.5227163693874507, -1.1523988167215053, -0.8797567061341485, -1.1085795042612856, -1.301390086093984, 0.5462465545429774, -0.37363284977503103, -0.9036355447937187, -0.5895110877858477, 0.5523124035589996, 0.5877787081807178, 0.882412553407201, -1.096821943897443, -1.5214829245198627, 0.8320267666642418, 1.3925506202481026, -0.2269539519601426, -1.1838316168629417, -0.23204458992399773, -0.2908221765123927, -0.44682844294105095, 0.013295969133200101, -1.622023129093439, 0.16848717519880754, 0.9279948785141636, 0.9938719599535817, -0.772977215488478, -0.28127784695712527, -1.6424876588717816, -0.12652334391666534, -0.03527231263679663, 0.7526935570344095, -1.4982544127092632, -0.2026549261232619, -0.25368903431886086, 0.23206542499054755, -0.6685909063953238, -0.6596960510226653, -0.6882556579572172, 1.3505008803851555, 1.2594991479992825, -0.21947121289528587, -1.3262809028166638, -0.7881507074890627, -1.20833285597071, -2.433566253008811, 0.7331057928273085, 0.7068238889234576, -0.8618504680182072, -2.3151779084293715, -0.5828406794310226, -0.2612409012618235, 1.1964306426774922, -1.1840734968086881, -0.37534228328461083, -2.1417912336221825, -1.7513968184282998, 0.14980227653054007, 1.568223750660859, -0.7893297393596441, 1.2560990114097843, 0.5301655926198482, 0.3317179808449956, 1.1328991932940167, -0.7299327380104815, -0.7245480815478507, 0.3708125881691263, 0.04739960903067245, 1.117977179582803, -1.661407403843041, 0.8783252812318036, 0.1515333688193546, 1.0805342555422444, -1.3976398670365429, -0.8906476812795588, -2.476082699765291, -0.9128474611003814, -0.30611800000152184, -0.07956383420844605, 0.16529503364313158, -0.39879378634560936, 1.0364175868980674, -0.7549569432052312, -0.05371168651549924, -1.3094460479333234, 0.5874338227743479, 2.4557807594937393, -0.7551739262022392, 0.17686679523846344, 0.48764233626321113, -0.2385145084674184, -0.061124232273970736, -1.8744053968777619, 1.2353450200398535, -0.07199120151027243, 0.18617408079451944, 0.17440490867492453, -0.2974087291755161, 0.3067459280379593, 0.340800464660985, -0.43092890536422596, -0.10214552638065337, 0.39467980572114175, -0.20467381356237, 0.8771064831581842, 0.09775241444880067, -0.23508399300187646, -0.6595802587795687, 1.3305811748184784, 1.187627301559431, -0.26752677775116024, 0.8334128726384903, 0.4140243921226008, 0.09774773568776886, -1.023824224201344, -0.8326499373491654, 1.226316115473316, 1.0887093985656224, -0.10493659144105738, -0.08107662130807572, 1.0996595150272035, -0.020713415117513182, -0.24067011595312757, 0.5332045105159988, 0.3726624969116445, 1.3854146088117283, 1.4098297489266765, 1.8633140417006662, 1.1945706915213903, -1.073854718683601, -1.664280698200075, -0.32948744928578966, 0.1630889069417424, 0.5980381333604661, 0.3900022614071915, 1.2014786216863063, 0.1552502264823736, -0.4322634543849467, 0.8564391855242938, 0.8145114791707335, 1.639466600962114, -0.9981781100324902, -0.9554805983835549, 0.1788639535061891, 1.74309847947539, 0.19315235872987652, 0.1626784064013696, 0.006621732473359724, -0.4890740422926179, -0.04285714758225098, -1.0775163782069657, 0.858620248030722, -0.3004043984757672, -0.32277052189926264, -0.7841670438349999, -1.3420968535233915, -0.293291430096212, -1.3565969708948273, -0.3237848197610252, -0.3630120071758396, 0.24196570795536454, 0.6257528590952347, 1.6045690844648055, -0.29481018676032444, -0.5386111774135091, 0.7388882165598567, 0.6292173947785297, 0.02893704795433494, -0.2719864386607667, -0.08913672178987013, -0.48025763732325005, 1.0365829111912164, -0.9184726158470284, -0.14473193564359937, -1.4707421107861622, 1.7293805544437792, -0.7412918097595506, -0.8369791472662509, -2.125788208413472, 0.9121500288927293, -0.4917888592740892, -1.0439614248916478, -0.7431396984336726, -0.4964961905056116, 0.5477807826034946, 0.13693836028965917, -0.8486112527779721, 0.1677361873678007, 0.17619618916997545, -1.3267799432776377, -0.22803917638234475, 0.1870914099573666, -0.6969066254425511, 1.0998724480644155, 1.6617276062028594, 0.03617543783005486, 1.1358678961922766, 0.5932760639113834, 0.6657005487465432, 1.3395171115545614, 0.5091865198865247, -2.2365791042377237, 1.9886814542678664, -0.5244742671325441, 0.6612889001087671, 0.0032415315663924874, 0.6762312785185889, 0.8742698758371018, 0.03221919389801573, 1.708871817159416, 0.9415719454798883, -0.23809608461262208, 1.4864425152487297, 1.105042573666549, -1.4382877181471347, 0.3163840736537758, -0.9665492093425809, 0.26004638599407376, -2.381239256570817, -1.227518457154587, 0.8865156681911838, 0.8059772615621925, 0.1870043157821806, 1.5617701411993274, -0.2795246114870551, -1.4588932205535372, 1.7483001107841132, 0.1492208061619588, -0.15499748022838003, -0.1969525485154328, -1.1490944969717989, 0.6610190946667495, 1.1369607097254029, -0.08153525295991461, 0.7494822844413311, -1.3750315470974108, 0.7672369669654233, 1.467743454633007, -0.3929027662836692, -0.13697684009286065, -0.7257661777801883, 1.6327902242164645, -1.3265158022431434, -0.38799086602976374, -0.9397768407115871, -2.2887955014292767, -0.012450916098197363, -0.40074378962767965, -0.4058122008604807, 1.2731045104826564, -1.8529728503623606, -1.3748098169135712, -0.6524744672842437, 0.7614517765791233, -0.5212920752348553, 0.7007443509809254, 0.4389216588023518, 0.21434696618301977, -0.5433579933372816, 0.3172940443438857, -0.7313909962731417, 0.7074282958770881, -1.2008546746038844, 0.37478530164303536, 0.6587583428494561, 0.4326197505185297, -0.5919872007340846, -0.11082977427189081, 0.1224672512026828, -1.0687928952511245, 0.5119909839907971, -0.5957786020624792, 0.8337362615164677, 0.23889816351031282, -1.2227836090084065, -0.6438200644286333, 2.22917553700878, -0.3759152201044524, 1.1655419785778875, 0.1388931354768138, -2.312620587203347, 0.003931673137984787, 0.3280514501851214, -1.274402172226026, 0.496644219196394, -0.42432074622064814, -0.21986676275362782, -0.09589490085399835, 0.8915816761269946, -1.7147667840842689, 0.4847330394219256, 2.4982111138316303, -0.6137186477646563, -1.73526011545938, 0.3958565248707491, 0.4825593313650997, 2.4286625614179127, -0.22847129058619883, 0.7379945546819486, 1.4169301514299504, 0.655923013331126, -0.8097502223045021, -0.6176500540491219, -0.09691949907905881, 0.6308209978270624, 0.8744385310668121, 0.20952926920459355, -0.38161124675161123, -1.6371207561457164, 0.26888551627743235, -0.4671196563458131, -0.4210769417304585, -0.005493165970494106, -0.2525536109741783, 0.44337048325352746, -1.047806097318111, 1.1010573153252288, 0.45971769457535067, -1.0146033648552495, 0.3376649485445848, -0.7850652109998408, 1.904201854918396, 1.4669664432887832, -1.2273775410734014, 0.5993893703788021, -0.3855602650801696, 0.3038601873411668, 0.7967142773453741, -0.4688859265086952, 0.722259047194428, 0.7455051016813016, 0.07405052137538934, -0.6704488900106637, -0.7045356249625454, -0.8660157631938696, 1.1513183090799597, -1.4063318656651338, 0.2406857533179167, 0.6840065491677314, -0.6994468715950343, 0.00030529949612355015, 0.6270770362331293, -1.154048299281776, 0.537817201635871, -0.47004327011536085, -0.7121489066969701, 0.2222311801695871, 0.4173548479906453, -0.07215051453715911, 1.1097095129379402, 0.6564394213364835, 1.2751651179154115, 0.7117088568461575, -1.8475538141905727, 0.49788257158261123, -0.4541461100258152, -1.3075720618753852, -0.43329442469883345, -0.2253580678562658, -0.9220513684768641, 2.057058553239875, -0.8512200800856682, -1.8003918821871552, 0.28579251861855814, 0.6102010406456296, 0.15927953389856414, 0.01491255371833891, -0.7095268449138338, 0.27489184746052675, -0.5105554698854274, -0.20222316555315298, -0.7545194823004334, 0.4501944738968694, -0.2080693754833176, 1.2024142807901548, -0.48095275390066905, -0.9942146220831196, -0.4008335387233326, 1.637926259600444, 0.47397959483176816, 0.09239989863266934, -0.7692404875701608, -1.0672022737127838, -0.032858979957173615, -1.215040256518421, 0.21691315732276464, 0.9045220033198182, -1.4912751823557773, -2.2390628984869636, 0.140659399367941, -1.0238963550088676, -1.6128157649110904, -0.4306438022069496, -0.11487615520026463, -0.29078141921609213, -1.277798299313343, 0.5511937398738697, 0.8370609154518472, 1.4757084800594464, 0.08205164007319368, 0.1303800679522114, 0.3095434817665662, -0.562216425700459, 1.5833600058671358, 0.9658919853991742, -0.0645260856951647, 1.3379303944608876, 0.6887651509885396, -1.8511618905874585, 0.6375974081547001, -0.053404051598950265, 0.014924455095257859, 1.7665497378233952, -0.05708916717607912, -1.0825471970020673, -0.0011191133974854952, 1.8257589436235633, 0.880613408378885, 0.772600584783218, -0.5844961550108779, -0.5925869065811682, -0.3649119068196906, 0.485243114602169, -0.9595324109469201, 0.42087475220070947, -0.20040106027345528, -0.9551161476615123, 0.3612856147159105, 1.8321307768338329, 2.273264350489737, -1.6773361626634107, 0.7415944662154292, -0.014666922292556917, -0.4391459291627979, -0.30983889158616496, 0.7916677823968051, -1.900993370410203, 0.9292899154750422, -0.3281213119158794, 1.9860701268188017, -0.7297941745135328, -0.2964356632738533, -0.7745989475029205, 0.046029230670983405, 1.2396064841700511, 2.281843561422198, 1.2980344863058073, -0.5474503479036493, -0.6637216819450771, 1.0295536302514878, -0.5989023934033683, -0.7838768640931171, -0.3404087312624391, 2.5034652943636577, -1.0091410501908837, 0.07131613280266866, -1.4424125419160272, 0.3874378025886279, 0.8005971472277106, 0.71029852180999, 0.15513134702349665, -0.40991043229064444, 0.07101871641261862, 0.6332085306279952, -0.11010694601210934, -0.2437714352243654, 1.0508048797304672, -0.8810365212334753, 0.4067071823386185, 0.9957635318133609, 1.0362980924243121, -1.073992302391445, 1.2943890576910448, 0.4649793511358157, -0.41377469455348065, -0.27938799916628, 0.9255146412455812, -1.0066506881222244, -1.516591541052323, 1.8302083258432726, 1.9084423639163308, -0.29043616134347316, 0.2115905923087229, 1.6626332357602276, -0.3747921315642718, -1.7553191839865576, 1.352272096380163, 2.052725225229852, -0.12786649597375574, -0.6320415501260968, -0.20169228768941222, -0.6899671428435791, 0.6094924111524599, 0.8065751045841631, 0.1986566435954318, 0.2986172639041098, -2.0440528907690965, 1.441558239545265, 1.1229194990615905, -0.23424651625519236, -0.15033613697788542, 0.004235084428984264, -0.19453096785125393, 0.06177730544608271, -0.3545238375109055, 1.9033265003969404, -0.7373521634167873, -1.236817583706944, -0.8292216555225062, 0.24365148865233416, 0.05800107979611919, -0.4250614487816237, -0.5633280048924233, 0.19249315027945907, -0.48263738741786594, -1.088194852296297, 0.4761725556881807, 1.8267993286562298, -0.7509927044218733, 1.1039329541611014, -1.4836672106737994, 0.876739825368286, 0.8983642857049381, -0.029342632582452677, -1.199175431670114, -0.0690065065051699, 0.09497928022894103, -0.7199913417673401, -1.2007356930966782, 0.10610292895971425, 0.19136145178508784, -0.967303625024834, 0.11996196636379258, -0.4933517094654659, -1.0836539129073934, -0.014470220153039325, -0.8310051484655334, -0.4368891812807511, -0.6409812260629302, 2.537900514135413, 0.7465164812266538, -0.2872528752477945, -2.1837524792681298, -1.3510539106549793, -1.3117431125953092, 1.434401586674922, -0.7170616453744575, 0.6787449500940668, -2.150547971557352, 0.5657130677076794, -2.223244351774686, 0.6803746334672487, -0.5628924812478988, 1.3600882365466624, 0.149486129584826, -0.9885046489258218, -2.600965945915184, 0.6664240483771136, -0.7946572444729312, -1.2582329728742572, -1.1638092442647372, 0.5565496822255652, -0.19927150584470799, 0.8402258862380363, 0.2963497295358229, 1.3692918023835183, -1.9175082186859955, -0.371038707587748, -0.8390774021198252, 0.48907448139679005, -0.21728565844660325, 1.2412333180899513, -0.8530513857535711, -1.5367335997010574, -0.5336230476131885, 0.06583213005418255, 0.12184553002622417, 1.0980874361363724, 0.006853944620277835, 0.6559922127197743, -0.9251572647995682, -0.9602669952479844, -0.15528421889127647, -1.172127267712287, -0.46033496971573795, 0.4521666976122262, -1.3561258092902968, 0.13447946461340524, 0.5464035090609778, -0.49397440307653384, -1.3318191858499504, 0.811918698067632, -1.272956781779167, 1.5008588694846807, -0.36214914326285413, -1.8468727790273145, 1.098058174086984, 1.4043806032762391, 0.8006058455189407, -0.6344594639154622, 1.4853258763886232, -0.4819293315714808, -0.011837251020052125, -0.24966644480248446, 0.2553559921195229, -0.4925751811135797, -0.8346230733123388, -0.6437866389911525, -0.9746487046000917, -0.5857122968959374, 0.19168254277162203, 0.009214504786724465, -0.8440620507027939, -0.6640449171479357, -0.20434421333019342, 0.101058210357398, 0.1801387357096915, -0.19310528878201594, 1.102313864054792, 0.02002871750357949, 1.0607104352775525, -0.8347723085115636, -0.05252318570075587, 0.7554932534601585, -0.8657002281423734, -0.10871422442405497, -0.29698426522540117, -0.21926996660436252, -0.7563043055593258, -0.2901270947792161, -0.9792038056402189, 0.17804823098063727, 0.20287285959152626, -0.044294270162278396, 2.2042245684542467, -0.13319643758197522, 0.8645737713712528, 2.512034190459762, 1.2242353941193984, -1.0007219592155145, -0.19264841183293416, 0.9516775121761519, -0.33721670006038224, 2.365957702474326, 0.7154333277348284, -0.3617420183942029, 0.3379074897929529, 0.05138661236680849, -0.875714209713853, -0.36867010871575145, 1.2071366865342614, -2.0898002540519807, 1.4585048215899845, 0.8965122845202439, 0.7974935461054419, -0.2894938076603727, -0.7238908030018169, 0.5798485790769735, -1.5805494516373726, -2.4608848832390153, -0.6542033737774243, 0.31230680877425354, -0.6777769356616375, 0.11141312428596752, 1.3942060022350389, -0.22857384018324373, -2.049378659421091, 1.0181862932164547, 1.6000218719087163, -1.155210490331295, -0.6444927605046608, 0.04816785345336065, -0.43406335038875177, -2.1388813472319312, 0.2899702790951913, -1.2578917658250728, 1.0419635373497862, -0.31659993563842287, 1.6159859660184006, 2.5838311154428433, -0.26458586502604714, 0.2684617781884633, 0.8738998789662634, -0.21156124305632582, 1.3505900953734713, 0.22891378433963236, 0.7994847455750725, -1.5892680729004935, -0.5410142392646291, -0.9193482416798158, -0.11801699755566887, -1.8939272287595075, 0.17173948647216264, -0.12841969252623217, -0.7231425147642705, 1.1352358612483133, -0.24360553910643787, 0.34217130344124597, -0.5738892948698721, -0.782273852070751, 0.2255359950583072, 0.17248915817675278, -0.77179223221006, 1.2982409443362803, -0.02037905765770034, -0.05650186287863469, 0.36433248494247256, -0.5599254722222866, -0.5173631376180249, -0.22122451052969422, 0.46389827696560765, 0.8788097477011072, -0.3429020236394612, 0.3808275823313163, -0.25070411654558616, 0.6141888300223461, -0.23428797986042552, 0.07023057659589672, -0.516526522399563, 0.021869318471965632, -0.8408221425794177, -0.016881388256872888, -0.8713038301032566, -0.27886326703753056, 0.5536166509987134, 0.5559173187806243, -1.2450979556662278, -0.7969724501320745, 0.006863214008956008, -0.7395886707601899, 0.5443416112669992, 0.6716740115805425, -0.4072302932870183, -0.8881308487492863, -0.15281983095262844, 0.32743082431517573, 0.6461415070859994, 1.3610361930303574, 1.3697441705741094, 0.7512169586004543, -0.2824614973739026, -0.07977661461943325, -0.28646266120436925, -1.8692748675190476, -2.213356776151716, 0.15441374859745666, -1.5478918860005344, -1.1338644310084087, -0.18961048127706834, -0.2712235454492581, 1.3770347510506729, -0.10769856275841726, 0.25007942095142915, -0.24581587693088305, 1.0449555649210132, -2.316610738638818, -1.1321076119372633, 2.0798403062126822, -0.949482826775923, 0.851147375610907, -1.1846700302065423, -0.3503218521965807, -0.6016878573216379, -0.7762444425403628, -0.17664041749493842, -0.7167788740618392, 1.4957770911585555, 0.32006109224343693, -0.4160181796098017, -1.0289878901901972, -0.028840017999183218, 0.0906617680841434, -1.1626316176411984, 1.1140749906334813, 0.23008354895331506, 1.4662781922418708, 0.9594324202472861, 0.9077424895580266, 0.5469232101014058, -0.37001826436001684, 0.0375296497806842, 0.38365110502294736, 0.4373591463255431, -0.4136271311424808, -0.25054229996615857, 1.5150880221915881, -0.6999684484871376, -0.6884455441194943, -0.6306073233401768, 1.229878846102295, -0.42415943156112845, -1.6257447758883978, 1.2263914277700032, 1.4774994046260237, -0.8100790575186627, -0.8597415001548215, -0.1801344743767673, 0.5283749452210513, -1.4483925852346666, 1.3157233747655845, -0.9303056141481809, -0.6966114459833475, 0.005122112889394833, -0.8299210476964497, 1.4984816418337383, 0.6907345309357262, 1.6200746965457395, 2.30850904738162, -0.07803498367278285, 1.9330738335702176, 0.23773630644482593, 0.26514156062533334, 0.5528702896283667, 1.6154441947826446, -0.8538034461113577, 0.16254671568464973, -0.6777132836723643, -0.9132681004650263, 0.7414740827061804, 0.015105109889826045, 1.3683256754297344, 0.10593276304167344, 0.05101011793404205, -0.43097490497474844, 0.4728761219518831, 0.05073295170547925, 0.9086794698226724, 2.7895932344850287, -0.344495575721824, 0.8005930019004851, -0.30028642516358567, -0.412989466196912, 0.5194635152948652, 0.29819570359181413, -1.1490968335005125, -1.0123796632575641, 1.046973068764236, -0.7692134524874261, -0.4826407726263512, 0.39328163875052824, 1.093608273787903, -0.8709734537371698, -2.007148054935125, -0.14236652223250465, 0.38638797201764086, 1.5468508783462598, -1.8368245883462717, 0.14732912759594133, -1.011074295535587, 0.11377102450903878, 1.0015979376250357, 0.47406091175555076, -2.140725133828077, -0.21151881414506643, -1.1908281015848525, 0.3719541283610065, 0.4497238553882119, -0.2209507806373364, 0.09887182197490914, 1.7871555613404058, -0.25529334610166543, 0.12187019051189626, 0.5681426528804324, 0.24883821173750767, -1.0455182246149395, -0.2746617052931427, 1.3238874452616143, -1.0106997494630197, 1.3220250038259886, 0.5911170347249227, 1.101041349382142, 0.5536214517752772, 0.4479031433463813, -0.3097925014681577, -0.7692413180955545, 0.34792387566695754, -0.7154147686780502, 1.5125567383202598, 0.12336002628717485, 0.5095143269547379, 0.4633183682761498, -1.1495221857581874, -0.36745313501676646, 0.9513456030879418, -0.6178572322534133, -1.6049822272696301, -0.4278429354425824, -0.08931640521387223, 0.008569144225874717, -0.29493718133233476, 0.5203385715922005, -0.30954543739150425, -0.20965824803212324, -0.14466997932501666, -0.05804669043408993, -0.6833546661470079, 0.25978867496584224, 1.6545315738606436, -0.7968512000317757, 0.2556094037782018, 0.4775262845503442, 0.1647116746702423, 0.9333674618831691, 0.1638287776038401, -0.10391038522493669, 2.364593075581347, 2.0147888326477914, -0.6572575673145599, 1.7712454196684788, 0.8852581420384603, -0.3231054730716363, -0.5082033827495662, 0.47596010791326476, -0.9036066335966751, 0.5884847504289565, 0.11695831607496918, 1.0029682870533527, -1.0711311410943178, -1.3444288069802668, -1.7609487179815393, 1.3871470782773303, 0.8055341842868562, -0.09141244912054455, -1.123922959164191, 0.6753020993436802, 1.0761274598949109, 0.739809972526775, -0.34403868524710385, -0.628089122350875, -0.41549413016684433, 0.044290491133571565, -1.0951054366695763, -0.27932163822212375, 2.377721993591256, 1.6512675860445674, -1.7245279546978163, -0.3010141505799558, 0.3428409859505947, -0.6164385502694826, 0.5635716873657638, 0.5508649603250901, 0.2231042325934655, -1.2849875428345285, 0.30311166718459154, -0.31561220323618916, -0.15974516516159054, 0.059100871772688725, 1.9934408433546118, -0.6395224840241864, 0.25720653302282886, -1.494038838809577, 1.1232660877645433, 0.031176899715469414, -0.49942576695622876, 0.5329077327758083, 0.2910311112096464, 1.051004481386662, -1.7343592253085638, -0.30967709295005486, 0.07049522336016907, -0.7429883492675321, 1.3233681353854825, 1.8166066153828022, -0.8558281082459502, -0.9160142411811008, -0.6257089578181435, 1.1193391429329826, 0.4814050418233044, 0.02731894997172047, 1.8272580802715628, -0.8417673244403503, 0.05895281819051989, -0.25964436521801526, -0.9524606821892209, -0.15369704400704964, 1.8585436473683785, 0.1994773025424341, -1.8039859951584665, -0.04745590577136003], \"xaxis\": \"x\", \"xbins\": {\"end\": 2.7895932344850287, \"size\": 1.0, \"start\": -2.600965945915184}, \"yaxis\": \"y\"}, {\"legendgroup\": \"Grafica de distribuci\\u00f3n\", \"marker\": {\"color\": \"rgb(31, 119, 180)\"}, \"mode\": \"lines\", \"name\": \"Grafica de distribuci\\u00f3n\", \"showlegend\": false, \"type\": \"scatter\", \"x\": [-2.600965945915184, -2.5901848275543835, -2.579403709193583, -2.5686225908327827, -2.5578414724719822, -2.547060354111182, -2.5362792357503814, -2.525498117389581, -2.5147169990287805, -2.50393588066798, -2.4931547623071797, -2.4823736439463793, -2.471592525585579, -2.4608114072247784, -2.450030288863978, -2.4392491705031776, -2.428468052142377, -2.4176869337815767, -2.4069058154207763, -2.396124697059976, -2.3853435786991755, -2.374562460338375, -2.3637813419775746, -2.353000223616774, -2.3422191052559738, -2.3314379868951733, -2.320656868534373, -2.3098757501735725, -2.299094631812772, -2.2883135134519716, -2.2775323950911712, -2.266751276730371, -2.2559701583695704, -2.24518904000877, -2.2344079216479695, -2.223626803287169, -2.2128456849263687, -2.2020645665655683, -2.191283448204768, -2.1805023298439674, -2.169721211483167, -2.1589400931223666, -2.148158974761566, -2.1373778564007657, -2.1265967380399653, -2.115815619679165, -2.1050345013183644, -2.094253382957564, -2.0834722645967636, -2.072691146235963, -2.0619100278751628, -2.0511289095143623, -2.040347791153562, -2.0295666727927615, -2.018785554431961, -2.0080044360711606, -1.9972233177103602, -1.9864421993495598, -1.9756610809887594, -1.964879962627959, -1.9540988442671585, -1.943317725906358, -1.9325366075455577, -1.9217554891847572, -1.9109743708239568, -1.9001932524631564, -1.889412134102356, -1.8786310157415553, -1.8678498973807551, -1.8570687790199547, -1.8462876606591543, -1.8355065422983539, -1.8247254239375534, -1.8139443055767528, -1.8031631872159526, -1.7923820688551522, -1.7816009504943517, -1.7708198321335513, -1.760038713772751, -1.7492575954119503, -1.7384764770511498, -1.7276953586903496, -1.7169142403295492, -1.7061331219687488, -1.6953520036079484, -1.6845708852471477, -1.6737897668863473, -1.663008648525547, -1.6522275301647467, -1.6414464118039462, -1.6306652934431458, -1.6198841750823452, -1.6091030567215447, -1.5983219383607443, -1.587540819999944, -1.5767597016391435, -1.565978583278343, -1.5551974649175426, -1.5444163465567424, -1.5336352281959418, -1.5228541098351414, -1.512072991474341, -1.5012918731135405, -1.4905107547527403, -1.4797296363919397, -1.4689485180311392, -1.4581673996703388, -1.4473862813095384, -1.436605162948738, -1.4258240445879375, -1.4150429262271373, -1.4042618078663367, -1.3934806895055363, -1.3826995711447359, -1.3719184527839354, -1.361137334423135, -1.3503562160623346, -1.3395750977015342, -1.3287939793407337, -1.3180128609799333, -1.3072317426191329, -1.2964506242583325, -1.2856695058975323, -1.2748883875367316, -1.2641072691759312, -1.2533261508151308, -1.2425450324543303, -1.23176391409353, -1.2209827957327295, -1.210201677371929, -1.1994205590111287, -1.1886394406503282, -1.1778583222895278, -1.1670772039287274, -1.1562960855679267, -1.1455149672071265, -1.134733848846326, -1.1239527304855257, -1.1131716121247253, -1.1023904937639248, -1.0916093754031244, -1.0808282570423238, -1.0700471386815236, -1.0592660203207231, -1.0484849019599227, -1.0377037835991223, -1.0269226652383217, -1.0161415468775215, -1.005360428516721, -0.9945793101559206, -0.9837981917951202, -0.9730170734343198, -0.9622359550735193, -0.9514548367127187, -0.9406737183519185, -0.9298925999911181, -0.9191114816303176, -0.9083303632695172, -0.8975492449087166, -0.8867681265479164, -0.8759870081871157, -0.8652058898263155, -0.8544247714655151, -0.8436436531047145, -0.8328625347439143, -0.8220814163831136, -0.8113002980223134, -0.800519179661513, -0.7897380613007126, -0.7789569429399121, -0.7681758245791115, -0.7573947062183113, -0.7466135878575106, -0.7358324694967104, -0.72505135113591, -0.7142702327751094, -0.7034891144143092, -0.6927079960535085, -0.6819268776927083, -0.6711457593319077, -0.6603646409711075, -0.649583522610307, -0.6388024042495064, -0.6280212858887062, -0.6172401675279056, -0.6064590491671054, -0.5956779308063047, -0.5848968124455043, -0.5741156940847039, -0.5633345757239034, -0.552553457363103, -0.541772339002303, -0.5309912206415022, -0.5202101022807017, -0.5094289839199013, -0.4986478655591009, -0.4878667471983009, -0.47708562883750005, -0.46630451047669963, -0.4555233921158992, -0.4447422737550988, -0.4339611553942988, -0.42318003703349794, -0.4123989186726975, -0.4016178003118971, -0.39083668195109666, -0.3800555635902967, -0.3692744452294958, -0.3584933268686954, -0.34771220850789497, -0.33693109014709455, -0.3261499717862941, -0.3153688534254937, -0.3045877350646933, -0.29380661670389285, -0.2830254983430929, -0.272244379982292, -0.2614632616214916, -0.25068214326069116, -0.23990102489989074, -0.22911990653909076, -0.2183387881782899, -0.20755766981748947, -0.19677655145668904, -0.18599543309588862, -0.17521431473508864, -0.16443319637428777, -0.15365207801348735, -0.14287095965268692, -0.1320898412918865, -0.12130872293108608, -0.11052760457028565, -0.09974648620948523, -0.0889653678486848, -0.07818424948788438, -0.06740313112708396, -0.056622012766283536, -0.04584089440548311, -0.03505977604468269, -0.024278657683882265, -0.013497539323081842, -0.0027164209622814184, 0.008064697398519005, 0.01884581575931943, 0.029626934120119408, 0.040408052480920276, 0.0511891708417207, 0.06197028920252112, 0.07275140756332155, 0.08353252592412197, 0.0943136442849224, 0.10509476264572282, 0.11587588100652324, 0.12665699936732366, 0.1374381177281241, 0.1482192360889245, 0.15900035444972493, 0.16978147281052536, 0.18056259117132578, 0.1913437095321262, 0.20212482789292663, 0.21290594625372705, 0.22368706461452748, 0.23446818297532834, 0.24524930133612832, 0.25603041969692875, 0.26681153805772917, 0.2775926564185296, 0.28837377477933046, 0.29915489314013044, 0.30993601150093086, 0.3207171298617313, 0.3314982482225317, 0.34227936658333213, 0.35306048494413256, 0.363841603304933, 0.3746227216657334, 0.38540384002653383, 0.39618495838733425, 0.4069660767481347, 0.4177471951089351, 0.4285283134697355, 0.4393094318305364, 0.45009055019133637, 0.4608716685521368, 0.4716527869129372, 0.48243390527373764, 0.4932150236345385, 0.5039961419953385, 0.5147772603561389, 0.5255583787169393, 0.5363394970777398, 0.5471206154385406, 0.5579017337993406, 0.568682852160141, 0.5794639705209415, 0.5902450888817419, 0.6010262072425427, 0.6118073256033427, 0.6225884439641431, 0.6333695623249436, 0.6441506806857444, 0.6549317990465444, 0.6657129174073448, 0.6764940357681453, 0.6872751541289457, 0.6980562724897466, 0.7088373908505465, 0.719618509211347, 0.7303996275721474, 0.7411807459329478, 0.7519618642937487, 0.7627429826545487, 0.7735241010153491, 0.7843052193761495, 0.7950863377369499, 0.8058674560977508, 0.8166485744585508, 0.8274296928193512, 0.8382108111801516, 0.8489919295409525, 0.8597730479017529, 0.8705541662625529, 0.8813352846233533, 0.8921164029841537, 0.9028975213449546, 0.913678639705755, 0.924459758066555, 0.9352408764273554, 0.9460219947881559, 0.9568031131489567, 0.9675842315097567, 0.9783653498705571, 0.9891464682313575, 0.999927586592158, 1.0107087049529588, 1.0214898233137588, 1.0322709416745592, 1.0430520600353597, 1.0538331783961605, 1.064614296756961, 1.075395415117761, 1.0861765334785614, 1.0969576518393618, 1.1077387702001626, 1.118519888560963, 1.129301006921763, 1.1400821252825635, 1.150863243643364, 1.1616443620041648, 1.1724254803649652, 1.1832065987257652, 1.1939877170865656, 1.204768835447366, 1.2155499538081669, 1.2263310721689673, 1.2371121905297673, 1.2478933088905677, 1.2586744272513686, 1.269455545612169, 1.280236663972969, 1.2910177823337694, 1.3017989006945698, 1.3125800190553707, 1.3233611374161711, 1.334142255776971, 1.3449233741377715, 1.355704492498572, 1.3664856108593728, 1.3772667292201732, 1.3880478475809732, 1.3988289659417736, 1.4096100843025745, 1.4203912026633745, 1.4311723210241754, 1.4419534393849753, 1.4527345577457762, 1.4635156761065762, 1.474296794467377, 1.485077912828177, 1.495859031188978, 1.5066401495497779, 1.5174212679105779, 1.5282023862713787, 1.5389835046321796, 1.5497646229929805, 1.5605457413537804, 1.5713268597145804, 1.5821079780753813, 1.5928890964361813, 1.6036702147969821, 1.614451333157782, 1.625232451518582, 1.636013569879383, 1.6467946882401838, 1.6575758066009847, 1.6683569249617847, 1.6791380433225847, 1.6899191616833855, 1.7007002800441855, 1.7114813984049864, 1.7222625167657863, 1.7330436351265863, 1.743824753487388, 1.754605871848188, 1.765386990208989, 1.776168108569789, 1.7869492269305889, 1.7977303452913898, 1.8085114636521897, 1.8192925820129906, 1.8300737003737906, 1.8408548187345906, 1.8516359370953923, 1.8624170554561923, 1.8731981738169932, 1.8839792921777931, 1.8947604105385931, 1.905541528899394, 1.916322647260194, 1.9271037656209948, 1.9378848839817948, 1.9486660023425957, 1.9594471207033965, 1.9702282390641965, 1.9810093574249974, 1.9917904757857974, 2.0025715941465974, 2.0133527125073982, 2.024133830868198, 2.034914949228998, 2.045696067589799, 2.0564771859506, 2.067258304311401, 2.0780394226722008, 2.0888205410330007, 2.0996016593938016, 2.1103827777546016, 2.1211638961154025, 2.1319450144762024, 2.1427261328370024, 2.153507251197804, 2.164288369558604, 2.175069487919405, 2.185850606280205, 2.196631724641005, 2.207412843001806, 2.218193961362606, 2.2289750797234067, 2.2397561980842067, 2.2505373164450067, 2.2613184348058084, 2.2720995531666084, 2.2828806715274093, 2.2936617898882092, 2.304442908249009, 2.31522402660981, 2.32600514497061, 2.336786263331411, 2.347567381692211, 2.3583485000530118, 2.3691296184138126, 2.3799107367746126, 2.3906918551354135, 2.4014729734962135, 2.4122540918570134, 2.4230352102178143, 2.4338163285786143, 2.444597446939415, 2.455378565300215, 2.466159683661016, 2.476940802021817, 2.487721920382617, 2.4985030387434177, 2.5092841571042177, 2.5200652754650177, 2.5308463938258186, 2.5416275121866185, 2.5524086305474194, 2.5631897489082203, 2.5739708672690202, 2.584751985629821, 2.595533103990621, 2.606314222351422, 2.617095340712222, 2.627876459073022, 2.638657577433823, 2.6494386957946228, 2.6602198141554227, 2.6710009325162245, 2.6817820508770245, 2.6925631692378253, 2.7033442875986253, 2.7141254059594253, 2.724906524320226, 2.735687642681026, 2.746468761041827, 2.757249879402627, 2.768030997763428, 2.7788121161242287], \"xaxis\": \"x\", \"y\": [0.014487269394534041, 0.015180946036392166, 0.015889732332980636, 0.016612852031878563, 0.01734947094912428, 0.018098700580538307, 0.01885960230276755, 0.019631192158244895, 0.02041244621141821, 0.021202306456360225, 0.02199968724829764, 0.022803482223785036, 0.02361257166629957, 0.024425830266062435, 0.025242135215031603, 0.026060374570396293, 0.02687945581268538, 0.027698314517932213, 0.028515923057375124, 0.029331299233072015, 0.03014351475372371, 0.030951703452077695, 0.031755069143659796, 0.03255289302637376, 0.03334454052181865, 0.03412946746208193, 0.03490722553032192, 0.03567746686968172, 0.03643994778296915, 0.037194531455050174, 0.03794118964096182, 0.03868000327523972, 0.039411161971728136, 0.04013496239801549, 0.040851805524399196, 0.041562192763689845, 0.04226672103494582, 0.042966076801095925, 0.043661029147055865, 0.04435242198105944, 0.04504116545718969, 0.04572822673119628, 0.04641462017431968, 0.04710139718072718, 0.04778963571303845, 0.04848042973705352, 0.049174878701001526, 0.049874077216256016, 0.05057910509541421, 0.0512910178998613, 0.052010838142443123, 0.052739547281710084, 0.05347807863248554, 0.054227311303423634, 0.05498806525596963, 0.05576109756099347, 0.05654709990963754, 0.057346697413954394, 0.05816044871108317, 0.058988847362423484, 0.059832324516927306, 0.06069125278565899, 0.06156595125358831, 0.06245669153458229, 0.063363704757133, 0.0642871893518527, 0.0652273194975028, 0.06618425407057447, 0.0671581459344302, 0.0681491513979235, 0.06915743967034957, 0.07018320213960674, 0.07122666130355632, 0.07228807919070242, 0.07336776511534773, 0.07446608262414467, 0.07558345550522332, 0.07672037274757215, 0.07787739235675195, 0.07905514395300083, 0.08025433009895719, 0.08147572632619884, 0.08272017985216377, 0.08398860700137327, 0.08528198936681725, 0.08660136876849031, 0.08794784108601077, 0.08932254906066724, 0.0907266741787934, 0.0921614277627985, 0.09362804140822943, 0.09512775691472009, 0.09666181586544181, 0.09823144901361276, 0.09983786563569459, 0.10148224300911954, 0.10316571616778804, 0.10488936808127136, 0.10665422039378397, 0.10846122484676039, 0.11031125549450684, 0.11220510180617606, 0.11414346272953549, 0.11612694177299769, 0.1181560431425088, 0.12023116894951619, 0.12235261748574523, 0.12452058254028199, 0.1267351537148797, 0.12899631767484626, 0.13130396025569527, 0.13365786933029247, 0.1360577383278138, 0.13850317028474265, 0.14099368229959902, 0.14352871025733402, 0.14610761368647582, 0.14872968061229444, 0.15139413227250118, 0.1541001275683139, 0.1568467671330306, 0.15963309691243469, 0.16245811116622608, 0.16532075481698094, 0.16821992509259914, 0.17115447242945225, 0.17412320062608305, 0.17712486626091542, 0.18015817741151063, 0.1832217917369644, 0.18631431400854961, 0.1894342931961441, 0.19258021923880456, 0.19575051964653922, 0.19894355609639203, 0.2021576211989116, 0.2053909356205204, 0.20864164575284094, 0.21190782212139317, 0.21518745872299014, 0.21847847347350255, 0.22177870993535564, 0.22508594047720654, 0.22839787099684986, 0.23171214731274709, 0.2350263632999923, 0.2383380708134504, 0.2416447914047402, 0.2449440298013009, 0.2482332890756488, 0.2515100873918688, 0.2547719761751806, 0.25801655950993463, 0.2612415145324911, 0.2644446125489979, 0.26762374057498106, 0.27077692296472633, 0.27390234277446407, 0.27699836248508425, 0.2800635436981488, 0.2830966654138726, 0.28609674050191797, 0.28906302998560063, 0.29199505477754806, 0.2948926045300137, 0.29775574329573196, 0.30058481173509516, 0.30338042565205486, 0.306143470693843, 0.30887509310760264, 0.3115766865093729, 0.314249874686547, 0.3168964905227704, 0.31951855120301637, 0.322118229924999, 0.32469782440980394, 0.32725972256831626, 0.32980636573937805, 0.33234020996934416, 0.3348636858496387, 0.33737915746794916, 0.3398888810588826, 0.3423949639604269, 0.34489932449280103, 0.34740365337577767, 0.349909377289109, 0.3524176251582495, 0.3549291977143565, 0.3574445408339923, 0.3599637231106794, 0.36248641804833637, 0.3650118911966825, 0.36753899247217015, 0.3700661538262451, 0.37259139233726557, 0.3751123187147971, 0.37762615111692754, 0.38012973409437933, 0.38261956239122585, 0.3850918092525841, 0.38754235881630644, 0.389966842099891, 0.39236067603686914, 0.3947191049699382, 0.3970372439720318, 0.39931012334205196, 0.40153273360961766, 0.4037000703831286, 0.40580717838767555, 0.4078491940635652, 0.40982138613193, 0.41171919358029596, 0.413538260577083, 0.41527446788861744, 0.4169239604439764, 0.41848317077034153, 0.41994883810288386, 0.42131802305683697, 0.42258811783359196, 0.42375685201563124, 0.42482229408519756, 0.4257828488771573, 0.4266372512460263, 0.42738455628923916, 0.4280241265222304, 0.42855561644478957, 0.42897895497165406, 0.4292943262228752, 0.4295021491808518, 0.4296030567209908, 0.4295978745119749, 0.42948760025998867, 0.4292733837396837, 0.42895650801402213, 0.42853837219649665, 0.42802047605383353, 0.42740440668650376, 0.42669182745967543, 0.4258844692901747, 0.42498412432715443, 0.423992641997063, 0.42291192731868754, 0.42174394133296533, 0.420490703436264, 0.4191542953561196, 0.4177368664660712, 0.41624064010206513, 0.4146679205176305, 0.4130211000990781, 0.4113026664555894, 0.4095152090022663, 0.40766142466679045, 0.4057441223718847, 0.40376622597567063, 0.401730775389481, 0.3996409256367613, 0.3974999436662984, 0.39531120278694637, 0.39307817464800754, 0.3908044187481426, 0.38849356951478686, 0.3861493210542026, 0.38377540972821916, 0.3813755947661721, 0.378953637168436, 0.3765132772002436, 0.37405821081034113, 0.37159206533772665, 0.3691183748907359, 0.3666405557957052, 0.36416188251718656, 0.3616854644482214, 0.3592142239576707, 0.35675087606242095, 0.3542979100659349, 0.3518575734717507, 0.3494318584419318, 0.347022491027015, 0.3446309233466527, 0.34225832884992535, 0.339905600732255, 0.33757335353306184, 0.33526192788579895, 0.3329713983408162, 0.33070158413257417, 0.3284520627169612, 0.32622218586261825, 0.324011098042969, 0.321817756843622, 0.3196409550734197, 0.3174793442469758, 0.3153314590922393, 0.3131957427285298, 0.31107057215853273, 0.308954283721741, 0.30684519816651395, 0.30474164501289336, 0.30264198589811653, 0.3005446366208681, 0.2984480876281087, 0.29635092271920244, 0.2942518357753564, 0.2921496453574374, 0.29004330705136466, 0.28793192347684604, 0.28581475191160416, 0.28369120951884164, 0.2815608761999751, 0.2794234951271346, 0.27727897104015903, 0.275127366420422, 0.27296889567852967, 0.27080391751446503, 0.2686329256269702, 0.2664565379637365, 0.2642754847152636, 0.2620905952630876, 0.2599027842975064, 0.25771303732109, 0.2555223957523132, 0.253331941838783, 0.2511427835820098, 0.24895603986574252, 0.24677282596784791, 0.24459423962187005, 0.24242134777906343, 0.24025517420518502, 0.23809668802895692, 0.235946793341205, 0.23380631992551365, 0.23167601518312217, 0.22955653729697095, 0.2274484496625332, 0.22535221659655733, 0.22326820031927355, 0.22119665919115106, 0.2191377471720479, 0.21709151445866529, 0.21505790924566492, 0.21303678054665837, 0.21102788200353415, 0.20903087660622083, 0.20704534223994428, 0.20507077797325324, 0.203106610997463, 0.20115220412661206, 0.19920686376641397, 0.19726984826091915, 0.19534037652653952, 0.19341763688464342, 0.19150079600597383, 0.18958900788259803, 0.18768142274587396, 0.1857771958519517, 0.1838754960595706, 0.1819755141283327, 0.18007647066921417, 0.17817762368282428, 0.1762782756248505, 0.17437777994226925, 0.17247554702829454, 0.17057104954872565, 0.168663827097387, 0.16675349014377416, 0.1648397232418731, 0.16292228747543072, 0.16100102212174625, 0.15907584552332457, 0.15714675516446366, 0.15521382695801, 0.15327721375603637, 0.15133714310700488, 0.1493939142909627, 0.14744789467335626, 0.1454995154270037, 0.14354926668047588, 0.1415976921594227, 0.13964538339509774, 0.13769297358126, 0.13574113116664022, 0.13379055327503078, 0.131841959048695, 0.1298960830129995, 0.12795366856089282, 0.1260154616549565, 0.12408220484220968, 0.12215463167262545, 0.12023346160642469, 0.11831939548770946, 0.1164131116529582, 0.11451526273245267, 0.11262647319100931, 0.11074733764159968, 0.10887841995181842, 0.10702025314889627, 0.10517334011432963, 0.10333815504448164, 0.10151514563895868, 0.09970473596448147, 0.09790732992860603, 0.09612331528527879, 0.09435306808308837, 0.09259695745740402, 0.09085535065960591, 0.08912861821045193, 0.0874171390604447, 0.08572130563797103, 0.08404152866601161, 0.0823782416304319, 0.08073190478720471, 0.07910300860235048, 0.07749207652681075, 0.07589966701874701, 0.07432637473773931, 0.0727728308488229, 0.07123970238903356, 0.06972769066489569, 0.06823752866578163, 0.06676997749506003, 0.06532582183810823, 0.06390586450331942, 0.06251092008889804, 0.06114180784420903, 0.05979934380948341, 0.05848433233150035, 0.057197557065257504, 0.05593977158238217, 0.05471168971594381, 0.0535139757782691, 0.05234723479319372, 0.051212002886844354, 0.050108737981477615, 0.049037810935093136, 0.047999497265516666, 0.046993969591474914, 0.046021290914945834, 0.045081408858899774, 0.044174150962596775, 0.04329922112306231, 0.042456197256434965, 0.04164453023678694, 0.040863544153016164, 0.040112437906747914, 0.039390288156130396, 0.038696053592244144, 0.038028580516821994, 0.03738660967238361, 0.03676878425896757, 0.036173659055652146, 0.03559971055022424, 0.03504534796688937, 0.03450892507001667, 0.03398875261173509, 0.033483111282884656, 0.03299026502049168, 0.032508474520645946, 0.03203601080347326, 0.03157116867682046, 0.03111227994729172, 0.03065772623134661, 0.030205951225207688, 0.029755472300229728, 0.029304891300010103, 0.028852904426719575, 0.028398311116719258, 0.027940021819303624, 0.027477064607158416, 0.027008590562616328, 0.026533877899796828, 0.026052334798992688, 0.025563500945967755, 0.02506704778492854, 0.024562777509586596, 0.024050620831727827, 0.023530633580836922, 0.023002992201401694, 0.022467988226378424, 0.021926021815782477, 0.021377594458361193, 0.020823300941712117, 0.020263820701957404, 0.019699908668138907, 0.019132385718843428, 0.018562128869218052, 0.017990061305540435, 0.017417142381927313, 0.016844357689699514, 0.016272709304477967, 0.015703206309401474, 0.0151368556850826, 0.014574653648212242, 0.014017577511259866, 0.013466578125680143, 0.012922572960594923, 0.012386439858270913, 0.0118590114970206, 0.011341070581595024, 0.010833345770871526, 0.010336508342809783, 0.009851169587397157], \"yaxis\": \"y\"}, {\"legendgroup\": \"Grafica de distribuci\\u00f3n\", \"marker\": {\"color\": \"rgb(31, 119, 180)\", \"symbol\": \"line-ns-open\"}, \"mode\": \"markers\", \"name\": \"Grafica de distribuci\\u00f3n\", \"showlegend\": false, \"type\": \"scatter\", \"x\": [1.0120159562081275, -0.11794371911875322, -0.15799089132625807, 0.6185607651239511, 1.7613695472052444, 0.2794989862481751, 0.7101391979800243, -1.143585654633243, 0.004095655221802772, -0.07166325814202996, -1.4568124056133311, 1.0478806047091815, -0.2354866200047655, -0.6248215409123633, -0.5284269036676169, 0.18881415307328692, -1.7479783902620394, 0.05423650529216657, -0.1424293421801908, 0.24800167681346869, -0.35584922370674466, 0.5227163693874507, -1.1523988167215053, -0.8797567061341485, -1.1085795042612856, -1.301390086093984, 0.5462465545429774, -0.37363284977503103, -0.9036355447937187, -0.5895110877858477, 0.5523124035589996, 0.5877787081807178, 0.882412553407201, -1.096821943897443, -1.5214829245198627, 0.8320267666642418, 1.3925506202481026, -0.2269539519601426, -1.1838316168629417, -0.23204458992399773, -0.2908221765123927, -0.44682844294105095, 0.013295969133200101, -1.622023129093439, 0.16848717519880754, 0.9279948785141636, 0.9938719599535817, -0.772977215488478, -0.28127784695712527, -1.6424876588717816, -0.12652334391666534, -0.03527231263679663, 0.7526935570344095, -1.4982544127092632, -0.2026549261232619, -0.25368903431886086, 0.23206542499054755, -0.6685909063953238, -0.6596960510226653, -0.6882556579572172, 1.3505008803851555, 1.2594991479992825, -0.21947121289528587, -1.3262809028166638, -0.7881507074890627, -1.20833285597071, -2.433566253008811, 0.7331057928273085, 0.7068238889234576, -0.8618504680182072, -2.3151779084293715, -0.5828406794310226, -0.2612409012618235, 1.1964306426774922, -1.1840734968086881, -0.37534228328461083, -2.1417912336221825, -1.7513968184282998, 0.14980227653054007, 1.568223750660859, -0.7893297393596441, 1.2560990114097843, 0.5301655926198482, 0.3317179808449956, 1.1328991932940167, -0.7299327380104815, -0.7245480815478507, 0.3708125881691263, 0.04739960903067245, 1.117977179582803, -1.661407403843041, 0.8783252812318036, 0.1515333688193546, 1.0805342555422444, -1.3976398670365429, -0.8906476812795588, -2.476082699765291, -0.9128474611003814, -0.30611800000152184, -0.07956383420844605, 0.16529503364313158, -0.39879378634560936, 1.0364175868980674, -0.7549569432052312, -0.05371168651549924, -1.3094460479333234, 0.5874338227743479, 2.4557807594937393, -0.7551739262022392, 0.17686679523846344, 0.48764233626321113, -0.2385145084674184, -0.061124232273970736, -1.8744053968777619, 1.2353450200398535, -0.07199120151027243, 0.18617408079451944, 0.17440490867492453, -0.2974087291755161, 0.3067459280379593, 0.340800464660985, -0.43092890536422596, -0.10214552638065337, 0.39467980572114175, -0.20467381356237, 0.8771064831581842, 0.09775241444880067, -0.23508399300187646, -0.6595802587795687, 1.3305811748184784, 1.187627301559431, -0.26752677775116024, 0.8334128726384903, 0.4140243921226008, 0.09774773568776886, -1.023824224201344, -0.8326499373491654, 1.226316115473316, 1.0887093985656224, -0.10493659144105738, -0.08107662130807572, 1.0996595150272035, -0.020713415117513182, -0.24067011595312757, 0.5332045105159988, 0.3726624969116445, 1.3854146088117283, 1.4098297489266765, 1.8633140417006662, 1.1945706915213903, -1.073854718683601, -1.664280698200075, -0.32948744928578966, 0.1630889069417424, 0.5980381333604661, 0.3900022614071915, 1.2014786216863063, 0.1552502264823736, -0.4322634543849467, 0.8564391855242938, 0.8145114791707335, 1.639466600962114, -0.9981781100324902, -0.9554805983835549, 0.1788639535061891, 1.74309847947539, 0.19315235872987652, 0.1626784064013696, 0.006621732473359724, -0.4890740422926179, -0.04285714758225098, -1.0775163782069657, 0.858620248030722, -0.3004043984757672, -0.32277052189926264, -0.7841670438349999, -1.3420968535233915, -0.293291430096212, -1.3565969708948273, -0.3237848197610252, -0.3630120071758396, 0.24196570795536454, 0.6257528590952347, 1.6045690844648055, -0.29481018676032444, -0.5386111774135091, 0.7388882165598567, 0.6292173947785297, 0.02893704795433494, -0.2719864386607667, -0.08913672178987013, -0.48025763732325005, 1.0365829111912164, -0.9184726158470284, -0.14473193564359937, -1.4707421107861622, 1.7293805544437792, -0.7412918097595506, -0.8369791472662509, -2.125788208413472, 0.9121500288927293, -0.4917888592740892, -1.0439614248916478, -0.7431396984336726, -0.4964961905056116, 0.5477807826034946, 0.13693836028965917, -0.8486112527779721, 0.1677361873678007, 0.17619618916997545, -1.3267799432776377, -0.22803917638234475, 0.1870914099573666, -0.6969066254425511, 1.0998724480644155, 1.6617276062028594, 0.03617543783005486, 1.1358678961922766, 0.5932760639113834, 0.6657005487465432, 1.3395171115545614, 0.5091865198865247, -2.2365791042377237, 1.9886814542678664, -0.5244742671325441, 0.6612889001087671, 0.0032415315663924874, 0.6762312785185889, 0.8742698758371018, 0.03221919389801573, 1.708871817159416, 0.9415719454798883, -0.23809608461262208, 1.4864425152487297, 1.105042573666549, -1.4382877181471347, 0.3163840736537758, -0.9665492093425809, 0.26004638599407376, -2.381239256570817, -1.227518457154587, 0.8865156681911838, 0.8059772615621925, 0.1870043157821806, 1.5617701411993274, -0.2795246114870551, -1.4588932205535372, 1.7483001107841132, 0.1492208061619588, -0.15499748022838003, -0.1969525485154328, -1.1490944969717989, 0.6610190946667495, 1.1369607097254029, -0.08153525295991461, 0.7494822844413311, -1.3750315470974108, 0.7672369669654233, 1.467743454633007, -0.3929027662836692, -0.13697684009286065, -0.7257661777801883, 1.6327902242164645, -1.3265158022431434, -0.38799086602976374, -0.9397768407115871, -2.2887955014292767, -0.012450916098197363, -0.40074378962767965, -0.4058122008604807, 1.2731045104826564, -1.8529728503623606, -1.3748098169135712, -0.6524744672842437, 0.7614517765791233, -0.5212920752348553, 0.7007443509809254, 0.4389216588023518, 0.21434696618301977, -0.5433579933372816, 0.3172940443438857, -0.7313909962731417, 0.7074282958770881, -1.2008546746038844, 0.37478530164303536, 0.6587583428494561, 0.4326197505185297, -0.5919872007340846, -0.11082977427189081, 0.1224672512026828, -1.0687928952511245, 0.5119909839907971, -0.5957786020624792, 0.8337362615164677, 0.23889816351031282, -1.2227836090084065, -0.6438200644286333, 2.22917553700878, -0.3759152201044524, 1.1655419785778875, 0.1388931354768138, -2.312620587203347, 0.003931673137984787, 0.3280514501851214, -1.274402172226026, 0.496644219196394, -0.42432074622064814, -0.21986676275362782, -0.09589490085399835, 0.8915816761269946, -1.7147667840842689, 0.4847330394219256, 2.4982111138316303, -0.6137186477646563, -1.73526011545938, 0.3958565248707491, 0.4825593313650997, 2.4286625614179127, -0.22847129058619883, 0.7379945546819486, 1.4169301514299504, 0.655923013331126, -0.8097502223045021, -0.6176500540491219, -0.09691949907905881, 0.6308209978270624, 0.8744385310668121, 0.20952926920459355, -0.38161124675161123, -1.6371207561457164, 0.26888551627743235, -0.4671196563458131, -0.4210769417304585, -0.005493165970494106, -0.2525536109741783, 0.44337048325352746, -1.047806097318111, 1.1010573153252288, 0.45971769457535067, -1.0146033648552495, 0.3376649485445848, -0.7850652109998408, 1.904201854918396, 1.4669664432887832, -1.2273775410734014, 0.5993893703788021, -0.3855602650801696, 0.3038601873411668, 0.7967142773453741, -0.4688859265086952, 0.722259047194428, 0.7455051016813016, 0.07405052137538934, -0.6704488900106637, -0.7045356249625454, -0.8660157631938696, 1.1513183090799597, -1.4063318656651338, 0.2406857533179167, 0.6840065491677314, -0.6994468715950343, 0.00030529949612355015, 0.6270770362331293, -1.154048299281776, 0.537817201635871, -0.47004327011536085, -0.7121489066969701, 0.2222311801695871, 0.4173548479906453, -0.07215051453715911, 1.1097095129379402, 0.6564394213364835, 1.2751651179154115, 0.7117088568461575, -1.8475538141905727, 0.49788257158261123, -0.4541461100258152, -1.3075720618753852, -0.43329442469883345, -0.2253580678562658, -0.9220513684768641, 2.057058553239875, -0.8512200800856682, -1.8003918821871552, 0.28579251861855814, 0.6102010406456296, 0.15927953389856414, 0.01491255371833891, -0.7095268449138338, 0.27489184746052675, -0.5105554698854274, -0.20222316555315298, -0.7545194823004334, 0.4501944738968694, -0.2080693754833176, 1.2024142807901548, -0.48095275390066905, -0.9942146220831196, -0.4008335387233326, 1.637926259600444, 0.47397959483176816, 0.09239989863266934, -0.7692404875701608, -1.0672022737127838, -0.032858979957173615, -1.215040256518421, 0.21691315732276464, 0.9045220033198182, -1.4912751823557773, -2.2390628984869636, 0.140659399367941, -1.0238963550088676, -1.6128157649110904, -0.4306438022069496, -0.11487615520026463, -0.29078141921609213, -1.277798299313343, 0.5511937398738697, 0.8370609154518472, 1.4757084800594464, 0.08205164007319368, 0.1303800679522114, 0.3095434817665662, -0.562216425700459, 1.5833600058671358, 0.9658919853991742, -0.0645260856951647, 1.3379303944608876, 0.6887651509885396, -1.8511618905874585, 0.6375974081547001, -0.053404051598950265, 0.014924455095257859, 1.7665497378233952, -0.05708916717607912, -1.0825471970020673, -0.0011191133974854952, 1.8257589436235633, 0.880613408378885, 0.772600584783218, -0.5844961550108779, -0.5925869065811682, -0.3649119068196906, 0.485243114602169, -0.9595324109469201, 0.42087475220070947, -0.20040106027345528, -0.9551161476615123, 0.3612856147159105, 1.8321307768338329, 2.273264350489737, -1.6773361626634107, 0.7415944662154292, -0.014666922292556917, -0.4391459291627979, -0.30983889158616496, 0.7916677823968051, -1.900993370410203, 0.9292899154750422, -0.3281213119158794, 1.9860701268188017, -0.7297941745135328, -0.2964356632738533, -0.7745989475029205, 0.046029230670983405, 1.2396064841700511, 2.281843561422198, 1.2980344863058073, -0.5474503479036493, -0.6637216819450771, 1.0295536302514878, -0.5989023934033683, -0.7838768640931171, -0.3404087312624391, 2.5034652943636577, -1.0091410501908837, 0.07131613280266866, -1.4424125419160272, 0.3874378025886279, 0.8005971472277106, 0.71029852180999, 0.15513134702349665, -0.40991043229064444, 0.07101871641261862, 0.6332085306279952, -0.11010694601210934, -0.2437714352243654, 1.0508048797304672, -0.8810365212334753, 0.4067071823386185, 0.9957635318133609, 1.0362980924243121, -1.073992302391445, 1.2943890576910448, 0.4649793511358157, -0.41377469455348065, -0.27938799916628, 0.9255146412455812, -1.0066506881222244, -1.516591541052323, 1.8302083258432726, 1.9084423639163308, -0.29043616134347316, 0.2115905923087229, 1.6626332357602276, -0.3747921315642718, -1.7553191839865576, 1.352272096380163, 2.052725225229852, -0.12786649597375574, -0.6320415501260968, -0.20169228768941222, -0.6899671428435791, 0.6094924111524599, 0.8065751045841631, 0.1986566435954318, 0.2986172639041098, -2.0440528907690965, 1.441558239545265, 1.1229194990615905, -0.23424651625519236, -0.15033613697788542, 0.004235084428984264, -0.19453096785125393, 0.06177730544608271, -0.3545238375109055, 1.9033265003969404, -0.7373521634167873, -1.236817583706944, -0.8292216555225062, 0.24365148865233416, 0.05800107979611919, -0.4250614487816237, -0.5633280048924233, 0.19249315027945907, -0.48263738741786594, -1.088194852296297, 0.4761725556881807, 1.8267993286562298, -0.7509927044218733, 1.1039329541611014, -1.4836672106737994, 0.876739825368286, 0.8983642857049381, -0.029342632582452677, -1.199175431670114, -0.0690065065051699, 0.09497928022894103, -0.7199913417673401, -1.2007356930966782, 0.10610292895971425, 0.19136145178508784, -0.967303625024834, 0.11996196636379258, -0.4933517094654659, -1.0836539129073934, -0.014470220153039325, -0.8310051484655334, -0.4368891812807511, -0.6409812260629302, 2.537900514135413, 0.7465164812266538, -0.2872528752477945, -2.1837524792681298, -1.3510539106549793, -1.3117431125953092, 1.434401586674922, -0.7170616453744575, 0.6787449500940668, -2.150547971557352, 0.5657130677076794, -2.223244351774686, 0.6803746334672487, -0.5628924812478988, 1.3600882365466624, 0.149486129584826, -0.9885046489258218, -2.600965945915184, 0.6664240483771136, -0.7946572444729312, -1.2582329728742572, -1.1638092442647372, 0.5565496822255652, -0.19927150584470799, 0.8402258862380363, 0.2963497295358229, 1.3692918023835183, -1.9175082186859955, -0.371038707587748, -0.8390774021198252, 0.48907448139679005, -0.21728565844660325, 1.2412333180899513, -0.8530513857535711, -1.5367335997010574, -0.5336230476131885, 0.06583213005418255, 0.12184553002622417, 1.0980874361363724, 0.006853944620277835, 0.6559922127197743, -0.9251572647995682, -0.9602669952479844, -0.15528421889127647, -1.172127267712287, -0.46033496971573795, 0.4521666976122262, -1.3561258092902968, 0.13447946461340524, 0.5464035090609778, -0.49397440307653384, -1.3318191858499504, 0.811918698067632, -1.272956781779167, 1.5008588694846807, -0.36214914326285413, -1.8468727790273145, 1.098058174086984, 1.4043806032762391, 0.8006058455189407, -0.6344594639154622, 1.4853258763886232, -0.4819293315714808, -0.011837251020052125, -0.24966644480248446, 0.2553559921195229, -0.4925751811135797, -0.8346230733123388, -0.6437866389911525, -0.9746487046000917, -0.5857122968959374, 0.19168254277162203, 0.009214504786724465, -0.8440620507027939, -0.6640449171479357, -0.20434421333019342, 0.101058210357398, 0.1801387357096915, -0.19310528878201594, 1.102313864054792, 0.02002871750357949, 1.0607104352775525, -0.8347723085115636, -0.05252318570075587, 0.7554932534601585, -0.8657002281423734, -0.10871422442405497, -0.29698426522540117, -0.21926996660436252, -0.7563043055593258, -0.2901270947792161, -0.9792038056402189, 0.17804823098063727, 0.20287285959152626, -0.044294270162278396, 2.2042245684542467, -0.13319643758197522, 0.8645737713712528, 2.512034190459762, 1.2242353941193984, -1.0007219592155145, -0.19264841183293416, 0.9516775121761519, -0.33721670006038224, 2.365957702474326, 0.7154333277348284, -0.3617420183942029, 0.3379074897929529, 0.05138661236680849, -0.875714209713853, -0.36867010871575145, 1.2071366865342614, -2.0898002540519807, 1.4585048215899845, 0.8965122845202439, 0.7974935461054419, -0.2894938076603727, -0.7238908030018169, 0.5798485790769735, -1.5805494516373726, -2.4608848832390153, -0.6542033737774243, 0.31230680877425354, -0.6777769356616375, 0.11141312428596752, 1.3942060022350389, -0.22857384018324373, -2.049378659421091, 1.0181862932164547, 1.6000218719087163, -1.155210490331295, -0.6444927605046608, 0.04816785345336065, -0.43406335038875177, -2.1388813472319312, 0.2899702790951913, -1.2578917658250728, 1.0419635373497862, -0.31659993563842287, 1.6159859660184006, 2.5838311154428433, -0.26458586502604714, 0.2684617781884633, 0.8738998789662634, -0.21156124305632582, 1.3505900953734713, 0.22891378433963236, 0.7994847455750725, -1.5892680729004935, -0.5410142392646291, -0.9193482416798158, -0.11801699755566887, -1.8939272287595075, 0.17173948647216264, -0.12841969252623217, -0.7231425147642705, 1.1352358612483133, -0.24360553910643787, 0.34217130344124597, -0.5738892948698721, -0.782273852070751, 0.2255359950583072, 0.17248915817675278, -0.77179223221006, 1.2982409443362803, -0.02037905765770034, -0.05650186287863469, 0.36433248494247256, -0.5599254722222866, -0.5173631376180249, -0.22122451052969422, 0.46389827696560765, 0.8788097477011072, -0.3429020236394612, 0.3808275823313163, -0.25070411654558616, 0.6141888300223461, -0.23428797986042552, 0.07023057659589672, -0.516526522399563, 0.021869318471965632, -0.8408221425794177, -0.016881388256872888, -0.8713038301032566, -0.27886326703753056, 0.5536166509987134, 0.5559173187806243, -1.2450979556662278, -0.7969724501320745, 0.006863214008956008, -0.7395886707601899, 0.5443416112669992, 0.6716740115805425, -0.4072302932870183, -0.8881308487492863, -0.15281983095262844, 0.32743082431517573, 0.6461415070859994, 1.3610361930303574, 1.3697441705741094, 0.7512169586004543, -0.2824614973739026, -0.07977661461943325, -0.28646266120436925, -1.8692748675190476, -2.213356776151716, 0.15441374859745666, -1.5478918860005344, -1.1338644310084087, -0.18961048127706834, -0.2712235454492581, 1.3770347510506729, -0.10769856275841726, 0.25007942095142915, -0.24581587693088305, 1.0449555649210132, -2.316610738638818, -1.1321076119372633, 2.0798403062126822, -0.949482826775923, 0.851147375610907, -1.1846700302065423, -0.3503218521965807, -0.6016878573216379, -0.7762444425403628, -0.17664041749493842, -0.7167788740618392, 1.4957770911585555, 0.32006109224343693, -0.4160181796098017, -1.0289878901901972, -0.028840017999183218, 0.0906617680841434, -1.1626316176411984, 1.1140749906334813, 0.23008354895331506, 1.4662781922418708, 0.9594324202472861, 0.9077424895580266, 0.5469232101014058, -0.37001826436001684, 0.0375296497806842, 0.38365110502294736, 0.4373591463255431, -0.4136271311424808, -0.25054229996615857, 1.5150880221915881, -0.6999684484871376, -0.6884455441194943, -0.6306073233401768, 1.229878846102295, -0.42415943156112845, -1.6257447758883978, 1.2263914277700032, 1.4774994046260237, -0.8100790575186627, -0.8597415001548215, -0.1801344743767673, 0.5283749452210513, -1.4483925852346666, 1.3157233747655845, -0.9303056141481809, -0.6966114459833475, 0.005122112889394833, -0.8299210476964497, 1.4984816418337383, 0.6907345309357262, 1.6200746965457395, 2.30850904738162, -0.07803498367278285, 1.9330738335702176, 0.23773630644482593, 0.26514156062533334, 0.5528702896283667, 1.6154441947826446, -0.8538034461113577, 0.16254671568464973, -0.6777132836723643, -0.9132681004650263, 0.7414740827061804, 0.015105109889826045, 1.3683256754297344, 0.10593276304167344, 0.05101011793404205, -0.43097490497474844, 0.4728761219518831, 0.05073295170547925, 0.9086794698226724, 2.7895932344850287, -0.344495575721824, 0.8005930019004851, -0.30028642516358567, -0.412989466196912, 0.5194635152948652, 0.29819570359181413, -1.1490968335005125, -1.0123796632575641, 1.046973068764236, -0.7692134524874261, -0.4826407726263512, 0.39328163875052824, 1.093608273787903, -0.8709734537371698, -2.007148054935125, -0.14236652223250465, 0.38638797201764086, 1.5468508783462598, -1.8368245883462717, 0.14732912759594133, -1.011074295535587, 0.11377102450903878, 1.0015979376250357, 0.47406091175555076, -2.140725133828077, -0.21151881414506643, -1.1908281015848525, 0.3719541283610065, 0.4497238553882119, -0.2209507806373364, 0.09887182197490914, 1.7871555613404058, -0.25529334610166543, 0.12187019051189626, 0.5681426528804324, 0.24883821173750767, -1.0455182246149395, -0.2746617052931427, 1.3238874452616143, -1.0106997494630197, 1.3220250038259886, 0.5911170347249227, 1.101041349382142, 0.5536214517752772, 0.4479031433463813, -0.3097925014681577, -0.7692413180955545, 0.34792387566695754, -0.7154147686780502, 1.5125567383202598, 0.12336002628717485, 0.5095143269547379, 0.4633183682761498, -1.1495221857581874, -0.36745313501676646, 0.9513456030879418, -0.6178572322534133, -1.6049822272696301, -0.4278429354425824, -0.08931640521387223, 0.008569144225874717, -0.29493718133233476, 0.5203385715922005, -0.30954543739150425, -0.20965824803212324, -0.14466997932501666, -0.05804669043408993, -0.6833546661470079, 0.25978867496584224, 1.6545315738606436, -0.7968512000317757, 0.2556094037782018, 0.4775262845503442, 0.1647116746702423, 0.9333674618831691, 0.1638287776038401, -0.10391038522493669, 2.364593075581347, 2.0147888326477914, -0.6572575673145599, 1.7712454196684788, 0.8852581420384603, -0.3231054730716363, -0.5082033827495662, 0.47596010791326476, -0.9036066335966751, 0.5884847504289565, 0.11695831607496918, 1.0029682870533527, -1.0711311410943178, -1.3444288069802668, -1.7609487179815393, 1.3871470782773303, 0.8055341842868562, -0.09141244912054455, -1.123922959164191, 0.6753020993436802, 1.0761274598949109, 0.739809972526775, -0.34403868524710385, -0.628089122350875, -0.41549413016684433, 0.044290491133571565, -1.0951054366695763, -0.27932163822212375, 2.377721993591256, 1.6512675860445674, -1.7245279546978163, -0.3010141505799558, 0.3428409859505947, -0.6164385502694826, 0.5635716873657638, 0.5508649603250901, 0.2231042325934655, -1.2849875428345285, 0.30311166718459154, -0.31561220323618916, -0.15974516516159054, 0.059100871772688725, 1.9934408433546118, -0.6395224840241864, 0.25720653302282886, -1.494038838809577, 1.1232660877645433, 0.031176899715469414, -0.49942576695622876, 0.5329077327758083, 0.2910311112096464, 1.051004481386662, -1.7343592253085638, -0.30967709295005486, 0.07049522336016907, -0.7429883492675321, 1.3233681353854825, 1.8166066153828022, -0.8558281082459502, -0.9160142411811008, -0.6257089578181435, 1.1193391429329826, 0.4814050418233044, 0.02731894997172047, 1.8272580802715628, -0.8417673244403503, 0.05895281819051989, -0.25964436521801526, -0.9524606821892209, -0.15369704400704964, 1.8585436473683785, 0.1994773025424341, -1.8039859951584665, -0.04745590577136003], \"xaxis\": \"x\", \"y\": [\"Grafica de distribuci\\u00f3n\", \"Grafica de distribuci\\u00f3n\", \"Grafica de distribuci\\u00f3n\", \"Grafica de distribuci\\u00f3n\", \"Grafica de distribuci\\u00f3n\", \"Grafica de distribuci\\u00f3n\", \"Grafica de distribuci\\u00f3n\", \"Grafica de distribuci\\u00f3n\", \"Grafica de distribuci\\u00f3n\", \"Grafica de distribuci\\u00f3n\", \"Grafica de distribuci\\u00f3n\", \"Grafica de distribuci\\u00f3n\", \"Grafica de distribuci\\u00f3n\", \"Grafica de distribuci\\u00f3n\", \"Grafica de distribuci\\u00f3n\", \"Grafica de distribuci\\u00f3n\", \"Grafica de distribuci\\u00f3n\", \"Grafica de distribuci\\u00f3n\", \"Grafica de distribuci\\u00f3n\", \"Grafica de distribuci\\u00f3n\", \"Grafica de distribuci\\u00f3n\", \"Grafica de distribuci\\u00f3n\", \"Grafica de distribuci\\u00f3n\", \"Grafica de distribuci\\u00f3n\", \"Grafica de distribuci\\u00f3n\", \"Grafica de distribuci\\u00f3n\", \"Grafica de distribuci\\u00f3n\", \"Grafica de distribuci\\u00f3n\", \"Grafica de distribuci\\u00f3n\", \"Grafica de distribuci\\u00f3n\", \"Grafica de distribuci\\u00f3n\", \"Grafica de distribuci\\u00f3n\", \"Grafica de distribuci\\u00f3n\", \"Grafica de distribuci\\u00f3n\", \"Grafica de distribuci\\u00f3n\", \"Grafica de distribuci\\u00f3n\", \"Grafica de distribuci\\u00f3n\", \"Grafica de distribuci\\u00f3n\", \"Grafica de distribuci\\u00f3n\", \"Grafica de distribuci\\u00f3n\", \"Grafica de distribuci\\u00f3n\", \"Grafica de distribuci\\u00f3n\", \"Grafica de distribuci\\u00f3n\", \"Grafica de distribuci\\u00f3n\", \"Grafica de distribuci\\u00f3n\", \"Grafica de distribuci\\u00f3n\", \"Grafica de distribuci\\u00f3n\", \"Grafica de distribuci\\u00f3n\", \"Grafica de distribuci\\u00f3n\", \"Grafica de distribuci\\u00f3n\", \"Grafica de distribuci\\u00f3n\", \"Grafica de distribuci\\u00f3n\", \"Grafica de distribuci\\u00f3n\", \"Grafica de distribuci\\u00f3n\", \"Grafica de distribuci\\u00f3n\", \"Grafica de distribuci\\u00f3n\", \"Grafica de distribuci\\u00f3n\", \"Grafica de distribuci\\u00f3n\", \"Grafica de distribuci\\u00f3n\", \"Grafica de distribuci\\u00f3n\", \"Grafica de distribuci\\u00f3n\", \"Grafica de distribuci\\u00f3n\", \"Grafica de distribuci\\u00f3n\", \"Grafica de distribuci\\u00f3n\", \"Grafica de distribuci\\u00f3n\", \"Grafica de distribuci\\u00f3n\", \"Grafica de distribuci\\u00f3n\", \"Grafica de distribuci\\u00f3n\", \"Grafica de distribuci\\u00f3n\", \"Grafica de distribuci\\u00f3n\", \"Grafica de distribuci\\u00f3n\", \"Grafica de distribuci\\u00f3n\", \"Grafica de distribuci\\u00f3n\", \"Grafica de distribuci\\u00f3n\", \"Grafica de distribuci\\u00f3n\", \"Grafica de distribuci\\u00f3n\", \"Grafica de distribuci\\u00f3n\", \"Grafica de distribuci\\u00f3n\", \"Grafica de distribuci\\u00f3n\", \"Grafica de distribuci\\u00f3n\", \"Grafica de distribuci\\u00f3n\", \"Grafica de distribuci\\u00f3n\", \"Grafica de distribuci\\u00f3n\", \"Grafica de distribuci\\u00f3n\", \"Grafica de distribuci\\u00f3n\", \"Grafica de distribuci\\u00f3n\", \"Grafica de distribuci\\u00f3n\", \"Grafica de distribuci\\u00f3n\", \"Grafica de distribuci\\u00f3n\", \"Grafica de distribuci\\u00f3n\", \"Grafica de distribuci\\u00f3n\", \"Grafica de distribuci\\u00f3n\", \"Grafica de distribuci\\u00f3n\", \"Grafica de distribuci\\u00f3n\", \"Grafica de distribuci\\u00f3n\", \"Grafica de distribuci\\u00f3n\", \"Grafica de distribuci\\u00f3n\", \"Grafica de distribuci\\u00f3n\", \"Grafica de distribuci\\u00f3n\", \"Grafica de distribuci\\u00f3n\", \"Grafica de distribuci\\u00f3n\", \"Grafica de distribuci\\u00f3n\", \"Grafica de distribuci\\u00f3n\", \"Grafica de distribuci\\u00f3n\", \"Grafica de distribuci\\u00f3n\", \"Grafica de distribuci\\u00f3n\", \"Grafica de distribuci\\u00f3n\", \"Grafica de distribuci\\u00f3n\", \"Grafica de distribuci\\u00f3n\", \"Grafica de distribuci\\u00f3n\", \"Grafica de distribuci\\u00f3n\", \"Grafica de distribuci\\u00f3n\", \"Grafica de distribuci\\u00f3n\", \"Grafica de distribuci\\u00f3n\", \"Grafica de distribuci\\u00f3n\", \"Grafica de distribuci\\u00f3n\", \"Grafica de distribuci\\u00f3n\", \"Grafica de distribuci\\u00f3n\", \"Grafica de distribuci\\u00f3n\", \"Grafica de distribuci\\u00f3n\", \"Grafica de distribuci\\u00f3n\", \"Grafica de distribuci\\u00f3n\", \"Grafica de distribuci\\u00f3n\", \"Grafica de distribuci\\u00f3n\", \"Grafica de distribuci\\u00f3n\", \"Grafica de distribuci\\u00f3n\", \"Grafica de distribuci\\u00f3n\", \"Grafica de distribuci\\u00f3n\", \"Grafica de distribuci\\u00f3n\", \"Grafica de distribuci\\u00f3n\", \"Grafica de distribuci\\u00f3n\", \"Grafica de distribuci\\u00f3n\", \"Grafica de distribuci\\u00f3n\", \"Grafica de distribuci\\u00f3n\", \"Grafica de distribuci\\u00f3n\", \"Grafica de distribuci\\u00f3n\", \"Grafica de distribuci\\u00f3n\", \"Grafica de distribuci\\u00f3n\", \"Grafica de distribuci\\u00f3n\", \"Grafica de distribuci\\u00f3n\", \"Grafica de distribuci\\u00f3n\", \"Grafica de distribuci\\u00f3n\", \"Grafica de distribuci\\u00f3n\", \"Grafica de distribuci\\u00f3n\", \"Grafica de distribuci\\u00f3n\", \"Grafica de distribuci\\u00f3n\", \"Grafica de distribuci\\u00f3n\", \"Grafica de distribuci\\u00f3n\", \"Grafica de distribuci\\u00f3n\", \"Grafica de distribuci\\u00f3n\", \"Grafica de distribuci\\u00f3n\", \"Grafica de distribuci\\u00f3n\", \"Grafica de distribuci\\u00f3n\", \"Grafica de distribuci\\u00f3n\", \"Grafica de distribuci\\u00f3n\", \"Grafica de distribuci\\u00f3n\", \"Grafica de distribuci\\u00f3n\", \"Grafica de distribuci\\u00f3n\", \"Grafica de distribuci\\u00f3n\", \"Grafica de distribuci\\u00f3n\", \"Grafica de distribuci\\u00f3n\", \"Grafica de distribuci\\u00f3n\", \"Grafica de distribuci\\u00f3n\", \"Grafica de distribuci\\u00f3n\", \"Grafica de distribuci\\u00f3n\", \"Grafica de distribuci\\u00f3n\", \"Grafica de distribuci\\u00f3n\", \"Grafica de distribuci\\u00f3n\", \"Grafica de distribuci\\u00f3n\", \"Grafica de distribuci\\u00f3n\", \"Grafica de distribuci\\u00f3n\", \"Grafica de distribuci\\u00f3n\", \"Grafica de distribuci\\u00f3n\", \"Grafica de distribuci\\u00f3n\", \"Grafica de distribuci\\u00f3n\", \"Grafica de distribuci\\u00f3n\", \"Grafica de distribuci\\u00f3n\", \"Grafica de distribuci\\u00f3n\", \"Grafica de distribuci\\u00f3n\", \"Grafica de distribuci\\u00f3n\", \"Grafica de distribuci\\u00f3n\", \"Grafica de distribuci\\u00f3n\", \"Grafica de distribuci\\u00f3n\", \"Grafica de distribuci\\u00f3n\", \"Grafica de distribuci\\u00f3n\", \"Grafica de distribuci\\u00f3n\", \"Grafica de distribuci\\u00f3n\", \"Grafica de distribuci\\u00f3n\", \"Grafica de distribuci\\u00f3n\", \"Grafica de distribuci\\u00f3n\", \"Grafica de distribuci\\u00f3n\", \"Grafica de distribuci\\u00f3n\", \"Grafica de distribuci\\u00f3n\", \"Grafica de distribuci\\u00f3n\", \"Grafica de distribuci\\u00f3n\", \"Grafica de distribuci\\u00f3n\", \"Grafica de distribuci\\u00f3n\", \"Grafica de distribuci\\u00f3n\", \"Grafica de distribuci\\u00f3n\", \"Grafica de distribuci\\u00f3n\", \"Grafica de distribuci\\u00f3n\", \"Grafica de distribuci\\u00f3n\", \"Grafica de distribuci\\u00f3n\", \"Grafica de distribuci\\u00f3n\", \"Grafica de distribuci\\u00f3n\", \"Grafica de distribuci\\u00f3n\", \"Grafica de distribuci\\u00f3n\", \"Grafica de distribuci\\u00f3n\", \"Grafica de distribuci\\u00f3n\", \"Grafica de distribuci\\u00f3n\", \"Grafica de distribuci\\u00f3n\", \"Grafica de distribuci\\u00f3n\", \"Grafica de distribuci\\u00f3n\", \"Grafica de distribuci\\u00f3n\", \"Grafica de distribuci\\u00f3n\", \"Grafica de distribuci\\u00f3n\", \"Grafica de distribuci\\u00f3n\", \"Grafica de distribuci\\u00f3n\", \"Grafica de distribuci\\u00f3n\", \"Grafica de distribuci\\u00f3n\", \"Grafica de distribuci\\u00f3n\", \"Grafica de distribuci\\u00f3n\", \"Grafica de distribuci\\u00f3n\", \"Grafica de distribuci\\u00f3n\", \"Grafica de distribuci\\u00f3n\", \"Grafica de distribuci\\u00f3n\", \"Grafica de distribuci\\u00f3n\", \"Grafica de distribuci\\u00f3n\", \"Grafica de distribuci\\u00f3n\", \"Grafica de distribuci\\u00f3n\", \"Grafica de distribuci\\u00f3n\", \"Grafica de distribuci\\u00f3n\", \"Grafica de distribuci\\u00f3n\", \"Grafica de distribuci\\u00f3n\", \"Grafica de distribuci\\u00f3n\", \"Grafica de distribuci\\u00f3n\", \"Grafica de distribuci\\u00f3n\", \"Grafica de distribuci\\u00f3n\", \"Grafica de distribuci\\u00f3n\", \"Grafica de distribuci\\u00f3n\", \"Grafica de distribuci\\u00f3n\", \"Grafica de distribuci\\u00f3n\", \"Grafica de distribuci\\u00f3n\", \"Grafica de distribuci\\u00f3n\", \"Grafica de distribuci\\u00f3n\", \"Grafica de distribuci\\u00f3n\", \"Grafica de distribuci\\u00f3n\", \"Grafica de distribuci\\u00f3n\", \"Grafica de distribuci\\u00f3n\", \"Grafica de distribuci\\u00f3n\", \"Grafica de distribuci\\u00f3n\", \"Grafica de distribuci\\u00f3n\", \"Grafica de distribuci\\u00f3n\", \"Grafica de distribuci\\u00f3n\", \"Grafica de distribuci\\u00f3n\", \"Grafica de distribuci\\u00f3n\", \"Grafica de distribuci\\u00f3n\", \"Grafica de distribuci\\u00f3n\", \"Grafica de distribuci\\u00f3n\", \"Grafica de distribuci\\u00f3n\", \"Grafica de distribuci\\u00f3n\", \"Grafica de distribuci\\u00f3n\", \"Grafica de distribuci\\u00f3n\", \"Grafica de distribuci\\u00f3n\", \"Grafica de distribuci\\u00f3n\", \"Grafica de distribuci\\u00f3n\", \"Grafica de distribuci\\u00f3n\", \"Grafica de distribuci\\u00f3n\", \"Grafica de distribuci\\u00f3n\", \"Grafica de distribuci\\u00f3n\", \"Grafica de distribuci\\u00f3n\", \"Grafica de distribuci\\u00f3n\", \"Grafica de distribuci\\u00f3n\", \"Grafica de distribuci\\u00f3n\", \"Grafica de distribuci\\u00f3n\", \"Grafica de distribuci\\u00f3n\", \"Grafica de distribuci\\u00f3n\", \"Grafica de distribuci\\u00f3n\", \"Grafica de distribuci\\u00f3n\", \"Grafica de distribuci\\u00f3n\", \"Grafica de distribuci\\u00f3n\", \"Grafica de distribuci\\u00f3n\", \"Grafica de distribuci\\u00f3n\", \"Grafica de distribuci\\u00f3n\", \"Grafica de distribuci\\u00f3n\", \"Grafica de distribuci\\u00f3n\", \"Grafica de distribuci\\u00f3n\", \"Grafica de distribuci\\u00f3n\", \"Grafica de distribuci\\u00f3n\", \"Grafica de distribuci\\u00f3n\", \"Grafica de distribuci\\u00f3n\", \"Grafica de distribuci\\u00f3n\", \"Grafica de distribuci\\u00f3n\", \"Grafica de distribuci\\u00f3n\", \"Grafica de distribuci\\u00f3n\", \"Grafica de distribuci\\u00f3n\", \"Grafica de distribuci\\u00f3n\", \"Grafica de distribuci\\u00f3n\", \"Grafica de distribuci\\u00f3n\", \"Grafica de distribuci\\u00f3n\", \"Grafica de distribuci\\u00f3n\", \"Grafica de distribuci\\u00f3n\", \"Grafica de distribuci\\u00f3n\", \"Grafica de distribuci\\u00f3n\", \"Grafica de distribuci\\u00f3n\", \"Grafica de distribuci\\u00f3n\", \"Grafica de distribuci\\u00f3n\", \"Grafica de distribuci\\u00f3n\", \"Grafica de distribuci\\u00f3n\", \"Grafica de distribuci\\u00f3n\", \"Grafica de distribuci\\u00f3n\", \"Grafica de distribuci\\u00f3n\", \"Grafica de distribuci\\u00f3n\", \"Grafica de distribuci\\u00f3n\", \"Grafica de distribuci\\u00f3n\", \"Grafica de distribuci\\u00f3n\", \"Grafica de distribuci\\u00f3n\", \"Grafica de distribuci\\u00f3n\", \"Grafica de distribuci\\u00f3n\", \"Grafica de distribuci\\u00f3n\", \"Grafica de distribuci\\u00f3n\", \"Grafica de distribuci\\u00f3n\", \"Grafica de distribuci\\u00f3n\", \"Grafica de distribuci\\u00f3n\", \"Grafica de distribuci\\u00f3n\", \"Grafica de distribuci\\u00f3n\", \"Grafica de distribuci\\u00f3n\", \"Grafica de distribuci\\u00f3n\", \"Grafica de distribuci\\u00f3n\", \"Grafica de distribuci\\u00f3n\", \"Grafica de distribuci\\u00f3n\", \"Grafica de distribuci\\u00f3n\", \"Grafica de distribuci\\u00f3n\", \"Grafica de distribuci\\u00f3n\", \"Grafica de distribuci\\u00f3n\", \"Grafica de distribuci\\u00f3n\", \"Grafica de distribuci\\u00f3n\", \"Grafica de distribuci\\u00f3n\", \"Grafica de distribuci\\u00f3n\", \"Grafica de distribuci\\u00f3n\", \"Grafica de distribuci\\u00f3n\", \"Grafica de distribuci\\u00f3n\", \"Grafica de distribuci\\u00f3n\", \"Grafica de distribuci\\u00f3n\", \"Grafica de distribuci\\u00f3n\", \"Grafica de distribuci\\u00f3n\", \"Grafica de distribuci\\u00f3n\", \"Grafica de distribuci\\u00f3n\", \"Grafica de distribuci\\u00f3n\", \"Grafica de distribuci\\u00f3n\", \"Grafica de distribuci\\u00f3n\", \"Grafica de distribuci\\u00f3n\", \"Grafica de distribuci\\u00f3n\", \"Grafica de distribuci\\u00f3n\", \"Grafica de distribuci\\u00f3n\", \"Grafica de distribuci\\u00f3n\", \"Grafica de distribuci\\u00f3n\", \"Grafica de distribuci\\u00f3n\", \"Grafica de distribuci\\u00f3n\", \"Grafica de distribuci\\u00f3n\", \"Grafica de distribuci\\u00f3n\", \"Grafica de distribuci\\u00f3n\", \"Grafica de distribuci\\u00f3n\", \"Grafica de distribuci\\u00f3n\", \"Grafica de distribuci\\u00f3n\", \"Grafica de distribuci\\u00f3n\", \"Grafica de distribuci\\u00f3n\", \"Grafica de distribuci\\u00f3n\", \"Grafica de distribuci\\u00f3n\", \"Grafica de distribuci\\u00f3n\", \"Grafica de distribuci\\u00f3n\", \"Grafica de distribuci\\u00f3n\", \"Grafica de distribuci\\u00f3n\", \"Grafica de distribuci\\u00f3n\", \"Grafica de distribuci\\u00f3n\", \"Grafica de distribuci\\u00f3n\", \"Grafica de distribuci\\u00f3n\", \"Grafica de distribuci\\u00f3n\", \"Grafica de distribuci\\u00f3n\", \"Grafica de distribuci\\u00f3n\", \"Grafica de distribuci\\u00f3n\", \"Grafica de distribuci\\u00f3n\", \"Grafica de distribuci\\u00f3n\", \"Grafica de distribuci\\u00f3n\", \"Grafica de distribuci\\u00f3n\", \"Grafica de distribuci\\u00f3n\", \"Grafica de distribuci\\u00f3n\", \"Grafica de distribuci\\u00f3n\", \"Grafica de distribuci\\u00f3n\", \"Grafica de distribuci\\u00f3n\", \"Grafica de distribuci\\u00f3n\", \"Grafica de distribuci\\u00f3n\", \"Grafica de distribuci\\u00f3n\", \"Grafica de distribuci\\u00f3n\", \"Grafica de distribuci\\u00f3n\", \"Grafica de distribuci\\u00f3n\", \"Grafica de distribuci\\u00f3n\", \"Grafica de distribuci\\u00f3n\", \"Grafica de distribuci\\u00f3n\", \"Grafica de distribuci\\u00f3n\", \"Grafica de distribuci\\u00f3n\", \"Grafica de distribuci\\u00f3n\", \"Grafica de distribuci\\u00f3n\", \"Grafica de distribuci\\u00f3n\", \"Grafica de distribuci\\u00f3n\", \"Grafica de distribuci\\u00f3n\", \"Grafica de distribuci\\u00f3n\", \"Grafica de distribuci\\u00f3n\", \"Grafica de distribuci\\u00f3n\", \"Grafica de distribuci\\u00f3n\", \"Grafica de distribuci\\u00f3n\", \"Grafica de distribuci\\u00f3n\", \"Grafica de distribuci\\u00f3n\", \"Grafica de distribuci\\u00f3n\", \"Grafica de distribuci\\u00f3n\", \"Grafica de distribuci\\u00f3n\", \"Grafica de distribuci\\u00f3n\", \"Grafica de distribuci\\u00f3n\", \"Grafica de distribuci\\u00f3n\", \"Grafica de distribuci\\u00f3n\", \"Grafica de distribuci\\u00f3n\", \"Grafica de distribuci\\u00f3n\", \"Grafica de distribuci\\u00f3n\", \"Grafica de distribuci\\u00f3n\", \"Grafica de distribuci\\u00f3n\", \"Grafica de distribuci\\u00f3n\", \"Grafica de distribuci\\u00f3n\", \"Grafica de distribuci\\u00f3n\", \"Grafica de distribuci\\u00f3n\", \"Grafica de distribuci\\u00f3n\", \"Grafica de distribuci\\u00f3n\", \"Grafica de distribuci\\u00f3n\", \"Grafica de distribuci\\u00f3n\", \"Grafica de distribuci\\u00f3n\", \"Grafica de distribuci\\u00f3n\", \"Grafica de distribuci\\u00f3n\", \"Grafica de distribuci\\u00f3n\", \"Grafica de distribuci\\u00f3n\", \"Grafica de distribuci\\u00f3n\", \"Grafica de distribuci\\u00f3n\", \"Grafica de distribuci\\u00f3n\", \"Grafica de distribuci\\u00f3n\", \"Grafica de distribuci\\u00f3n\", \"Grafica de distribuci\\u00f3n\", \"Grafica de distribuci\\u00f3n\", \"Grafica de distribuci\\u00f3n\", \"Grafica de distribuci\\u00f3n\", \"Grafica de distribuci\\u00f3n\", \"Grafica de distribuci\\u00f3n\", \"Grafica de distribuci\\u00f3n\", \"Grafica de distribuci\\u00f3n\", \"Grafica de distribuci\\u00f3n\", \"Grafica de distribuci\\u00f3n\", \"Grafica de distribuci\\u00f3n\", \"Grafica de distribuci\\u00f3n\", \"Grafica de distribuci\\u00f3n\", \"Grafica de distribuci\\u00f3n\", \"Grafica de distribuci\\u00f3n\", \"Grafica de distribuci\\u00f3n\", \"Grafica de distribuci\\u00f3n\", \"Grafica de distribuci\\u00f3n\", \"Grafica de distribuci\\u00f3n\", \"Grafica de distribuci\\u00f3n\", \"Grafica de distribuci\\u00f3n\", \"Grafica de distribuci\\u00f3n\", \"Grafica de distribuci\\u00f3n\", \"Grafica de distribuci\\u00f3n\", \"Grafica de distribuci\\u00f3n\", \"Grafica de distribuci\\u00f3n\", \"Grafica de distribuci\\u00f3n\", \"Grafica de distribuci\\u00f3n\", \"Grafica de distribuci\\u00f3n\", \"Grafica de distribuci\\u00f3n\", \"Grafica de distribuci\\u00f3n\", \"Grafica de distribuci\\u00f3n\", \"Grafica de distribuci\\u00f3n\", \"Grafica de distribuci\\u00f3n\", \"Grafica de distribuci\\u00f3n\", \"Grafica de distribuci\\u00f3n\", \"Grafica de distribuci\\u00f3n\", \"Grafica de distribuci\\u00f3n\", \"Grafica de distribuci\\u00f3n\", \"Grafica de distribuci\\u00f3n\", \"Grafica de distribuci\\u00f3n\", \"Grafica de distribuci\\u00f3n\", \"Grafica de distribuci\\u00f3n\", \"Grafica de distribuci\\u00f3n\", \"Grafica de distribuci\\u00f3n\", \"Grafica de distribuci\\u00f3n\", \"Grafica de distribuci\\u00f3n\", \"Grafica de distribuci\\u00f3n\", \"Grafica de distribuci\\u00f3n\", \"Grafica de distribuci\\u00f3n\", \"Grafica de distribuci\\u00f3n\", \"Grafica de distribuci\\u00f3n\", \"Grafica de distribuci\\u00f3n\", \"Grafica de distribuci\\u00f3n\", \"Grafica de distribuci\\u00f3n\", \"Grafica de distribuci\\u00f3n\", \"Grafica de distribuci\\u00f3n\", \"Grafica de distribuci\\u00f3n\", \"Grafica de distribuci\\u00f3n\", \"Grafica de distribuci\\u00f3n\", \"Grafica de distribuci\\u00f3n\", \"Grafica de distribuci\\u00f3n\", \"Grafica de distribuci\\u00f3n\", \"Grafica de distribuci\\u00f3n\", \"Grafica de distribuci\\u00f3n\", \"Grafica de distribuci\\u00f3n\", \"Grafica de distribuci\\u00f3n\", \"Grafica de distribuci\\u00f3n\", \"Grafica de distribuci\\u00f3n\", \"Grafica de distribuci\\u00f3n\", \"Grafica de distribuci\\u00f3n\", \"Grafica de distribuci\\u00f3n\", \"Grafica de distribuci\\u00f3n\", \"Grafica de distribuci\\u00f3n\", \"Grafica de distribuci\\u00f3n\", \"Grafica de distribuci\\u00f3n\", \"Grafica de distribuci\\u00f3n\", \"Grafica de distribuci\\u00f3n\", \"Grafica de distribuci\\u00f3n\", \"Grafica de distribuci\\u00f3n\", \"Grafica de distribuci\\u00f3n\", \"Grafica de distribuci\\u00f3n\", \"Grafica de distribuci\\u00f3n\", \"Grafica de distribuci\\u00f3n\", \"Grafica de distribuci\\u00f3n\", \"Grafica de distribuci\\u00f3n\", \"Grafica de distribuci\\u00f3n\", \"Grafica de distribuci\\u00f3n\", \"Grafica de distribuci\\u00f3n\", \"Grafica de distribuci\\u00f3n\", \"Grafica de distribuci\\u00f3n\", \"Grafica de distribuci\\u00f3n\", \"Grafica de distribuci\\u00f3n\", \"Grafica de distribuci\\u00f3n\", \"Grafica de distribuci\\u00f3n\", \"Grafica de distribuci\\u00f3n\", \"Grafica de distribuci\\u00f3n\", \"Grafica de distribuci\\u00f3n\", \"Grafica de distribuci\\u00f3n\", \"Grafica de distribuci\\u00f3n\", \"Grafica de distribuci\\u00f3n\", \"Grafica de distribuci\\u00f3n\", \"Grafica de distribuci\\u00f3n\", \"Grafica de distribuci\\u00f3n\", \"Grafica de distribuci\\u00f3n\", \"Grafica de distribuci\\u00f3n\", \"Grafica de distribuci\\u00f3n\", \"Grafica de distribuci\\u00f3n\", \"Grafica de distribuci\\u00f3n\", \"Grafica de distribuci\\u00f3n\", \"Grafica de distribuci\\u00f3n\", \"Grafica de distribuci\\u00f3n\", \"Grafica de distribuci\\u00f3n\", \"Grafica de distribuci\\u00f3n\", \"Grafica de distribuci\\u00f3n\", \"Grafica de distribuci\\u00f3n\", \"Grafica de distribuci\\u00f3n\", \"Grafica de distribuci\\u00f3n\", \"Grafica de distribuci\\u00f3n\", \"Grafica de distribuci\\u00f3n\", \"Grafica de distribuci\\u00f3n\", \"Grafica de distribuci\\u00f3n\", \"Grafica de distribuci\\u00f3n\", \"Grafica de distribuci\\u00f3n\", \"Grafica de distribuci\\u00f3n\", \"Grafica de distribuci\\u00f3n\", \"Grafica de distribuci\\u00f3n\", \"Grafica de distribuci\\u00f3n\", \"Grafica de distribuci\\u00f3n\", \"Grafica de distribuci\\u00f3n\", \"Grafica de distribuci\\u00f3n\", \"Grafica de distribuci\\u00f3n\", \"Grafica de distribuci\\u00f3n\", \"Grafica de distribuci\\u00f3n\", \"Grafica de distribuci\\u00f3n\", \"Grafica de distribuci\\u00f3n\", \"Grafica de distribuci\\u00f3n\", \"Grafica de distribuci\\u00f3n\", \"Grafica de distribuci\\u00f3n\", \"Grafica de distribuci\\u00f3n\", \"Grafica de distribuci\\u00f3n\", \"Grafica de distribuci\\u00f3n\", \"Grafica de distribuci\\u00f3n\", \"Grafica de distribuci\\u00f3n\", \"Grafica de distribuci\\u00f3n\", \"Grafica de distribuci\\u00f3n\", \"Grafica de distribuci\\u00f3n\", \"Grafica de distribuci\\u00f3n\", \"Grafica de distribuci\\u00f3n\", \"Grafica de distribuci\\u00f3n\", \"Grafica de distribuci\\u00f3n\", \"Grafica de distribuci\\u00f3n\", \"Grafica de distribuci\\u00f3n\", \"Grafica de distribuci\\u00f3n\", \"Grafica de distribuci\\u00f3n\", \"Grafica de distribuci\\u00f3n\", \"Grafica de distribuci\\u00f3n\", \"Grafica de distribuci\\u00f3n\", \"Grafica de distribuci\\u00f3n\", \"Grafica de distribuci\\u00f3n\", \"Grafica de distribuci\\u00f3n\", \"Grafica de distribuci\\u00f3n\", \"Grafica de distribuci\\u00f3n\", \"Grafica de distribuci\\u00f3n\", \"Grafica de distribuci\\u00f3n\", \"Grafica de distribuci\\u00f3n\", \"Grafica de distribuci\\u00f3n\", \"Grafica de distribuci\\u00f3n\", \"Grafica de distribuci\\u00f3n\", \"Grafica de distribuci\\u00f3n\", \"Grafica de distribuci\\u00f3n\", \"Grafica de distribuci\\u00f3n\", \"Grafica de distribuci\\u00f3n\", \"Grafica de distribuci\\u00f3n\", \"Grafica de distribuci\\u00f3n\", \"Grafica de distribuci\\u00f3n\", \"Grafica de distribuci\\u00f3n\", \"Grafica de distribuci\\u00f3n\", \"Grafica de distribuci\\u00f3n\", \"Grafica de distribuci\\u00f3n\", \"Grafica de distribuci\\u00f3n\", \"Grafica de distribuci\\u00f3n\", \"Grafica de distribuci\\u00f3n\", \"Grafica de distribuci\\u00f3n\", \"Grafica de distribuci\\u00f3n\", \"Grafica de distribuci\\u00f3n\", \"Grafica de distribuci\\u00f3n\", \"Grafica de distribuci\\u00f3n\", \"Grafica de distribuci\\u00f3n\", \"Grafica de distribuci\\u00f3n\", \"Grafica de distribuci\\u00f3n\", \"Grafica de distribuci\\u00f3n\", \"Grafica de distribuci\\u00f3n\", \"Grafica de distribuci\\u00f3n\", \"Grafica de distribuci\\u00f3n\", \"Grafica de distribuci\\u00f3n\", \"Grafica de distribuci\\u00f3n\", \"Grafica de distribuci\\u00f3n\", \"Grafica de distribuci\\u00f3n\", \"Grafica de distribuci\\u00f3n\", \"Grafica de distribuci\\u00f3n\", \"Grafica de distribuci\\u00f3n\", \"Grafica de distribuci\\u00f3n\", \"Grafica de distribuci\\u00f3n\", \"Grafica de distribuci\\u00f3n\", \"Grafica de distribuci\\u00f3n\", \"Grafica de distribuci\\u00f3n\", \"Grafica de distribuci\\u00f3n\", \"Grafica de distribuci\\u00f3n\", \"Grafica de distribuci\\u00f3n\", \"Grafica de distribuci\\u00f3n\", \"Grafica de distribuci\\u00f3n\", \"Grafica de distribuci\\u00f3n\", \"Grafica de distribuci\\u00f3n\", \"Grafica de distribuci\\u00f3n\", \"Grafica de distribuci\\u00f3n\", \"Grafica de distribuci\\u00f3n\", \"Grafica de distribuci\\u00f3n\", \"Grafica de distribuci\\u00f3n\", \"Grafica de distribuci\\u00f3n\", \"Grafica de distribuci\\u00f3n\", \"Grafica de distribuci\\u00f3n\", \"Grafica de distribuci\\u00f3n\", \"Grafica de distribuci\\u00f3n\", \"Grafica de distribuci\\u00f3n\", \"Grafica de distribuci\\u00f3n\", \"Grafica de distribuci\\u00f3n\", \"Grafica de distribuci\\u00f3n\", \"Grafica de distribuci\\u00f3n\", \"Grafica de distribuci\\u00f3n\", \"Grafica de distribuci\\u00f3n\", \"Grafica de distribuci\\u00f3n\", \"Grafica de distribuci\\u00f3n\", \"Grafica de distribuci\\u00f3n\", \"Grafica de distribuci\\u00f3n\", \"Grafica de distribuci\\u00f3n\", \"Grafica de distribuci\\u00f3n\", \"Grafica de distribuci\\u00f3n\", \"Grafica de distribuci\\u00f3n\", \"Grafica de distribuci\\u00f3n\", \"Grafica de distribuci\\u00f3n\", \"Grafica de distribuci\\u00f3n\", \"Grafica de distribuci\\u00f3n\", \"Grafica de distribuci\\u00f3n\", \"Grafica de distribuci\\u00f3n\", \"Grafica de distribuci\\u00f3n\", \"Grafica de distribuci\\u00f3n\", \"Grafica de distribuci\\u00f3n\", \"Grafica de distribuci\\u00f3n\", \"Grafica de distribuci\\u00f3n\", \"Grafica de distribuci\\u00f3n\", \"Grafica de distribuci\\u00f3n\", \"Grafica de distribuci\\u00f3n\", \"Grafica de distribuci\\u00f3n\", \"Grafica de distribuci\\u00f3n\", \"Grafica de distribuci\\u00f3n\", \"Grafica de distribuci\\u00f3n\", \"Grafica de distribuci\\u00f3n\", \"Grafica de distribuci\\u00f3n\", \"Grafica de distribuci\\u00f3n\", \"Grafica de distribuci\\u00f3n\", \"Grafica de distribuci\\u00f3n\", \"Grafica de distribuci\\u00f3n\", \"Grafica de distribuci\\u00f3n\", \"Grafica de distribuci\\u00f3n\", \"Grafica de distribuci\\u00f3n\", \"Grafica de distribuci\\u00f3n\", \"Grafica de distribuci\\u00f3n\", \"Grafica de distribuci\\u00f3n\", \"Grafica de distribuci\\u00f3n\", \"Grafica de distribuci\\u00f3n\", \"Grafica de distribuci\\u00f3n\", \"Grafica de distribuci\\u00f3n\", \"Grafica de distribuci\\u00f3n\", \"Grafica de distribuci\\u00f3n\", \"Grafica de distribuci\\u00f3n\", \"Grafica de distribuci\\u00f3n\", \"Grafica de distribuci\\u00f3n\", \"Grafica de distribuci\\u00f3n\", \"Grafica de distribuci\\u00f3n\", \"Grafica de distribuci\\u00f3n\", \"Grafica de distribuci\\u00f3n\", \"Grafica de distribuci\\u00f3n\", \"Grafica de distribuci\\u00f3n\", \"Grafica de distribuci\\u00f3n\", \"Grafica de distribuci\\u00f3n\", \"Grafica de distribuci\\u00f3n\", \"Grafica de distribuci\\u00f3n\", \"Grafica de distribuci\\u00f3n\", \"Grafica de distribuci\\u00f3n\", \"Grafica de distribuci\\u00f3n\", \"Grafica de distribuci\\u00f3n\", \"Grafica de distribuci\\u00f3n\", \"Grafica de distribuci\\u00f3n\", \"Grafica de distribuci\\u00f3n\", \"Grafica de distribuci\\u00f3n\", \"Grafica de distribuci\\u00f3n\", \"Grafica de distribuci\\u00f3n\", \"Grafica de distribuci\\u00f3n\", \"Grafica de distribuci\\u00f3n\", \"Grafica de distribuci\\u00f3n\", \"Grafica de distribuci\\u00f3n\", \"Grafica de distribuci\\u00f3n\", \"Grafica de distribuci\\u00f3n\", \"Grafica de distribuci\\u00f3n\", \"Grafica de distribuci\\u00f3n\", \"Grafica de distribuci\\u00f3n\", \"Grafica de distribuci\\u00f3n\", \"Grafica de distribuci\\u00f3n\", \"Grafica de distribuci\\u00f3n\", \"Grafica de distribuci\\u00f3n\", \"Grafica de distribuci\\u00f3n\", \"Grafica de distribuci\\u00f3n\", \"Grafica de distribuci\\u00f3n\", \"Grafica de distribuci\\u00f3n\", \"Grafica de distribuci\\u00f3n\", \"Grafica de distribuci\\u00f3n\", \"Grafica de distribuci\\u00f3n\", \"Grafica de distribuci\\u00f3n\", \"Grafica de distribuci\\u00f3n\", \"Grafica de distribuci\\u00f3n\", \"Grafica de distribuci\\u00f3n\", \"Grafica de distribuci\\u00f3n\", \"Grafica de distribuci\\u00f3n\", \"Grafica de distribuci\\u00f3n\", \"Grafica de distribuci\\u00f3n\", \"Grafica de distribuci\\u00f3n\", \"Grafica de distribuci\\u00f3n\", \"Grafica de distribuci\\u00f3n\", \"Grafica de distribuci\\u00f3n\", \"Grafica de distribuci\\u00f3n\", \"Grafica de distribuci\\u00f3n\", \"Grafica de distribuci\\u00f3n\", \"Grafica de distribuci\\u00f3n\", \"Grafica de distribuci\\u00f3n\", \"Grafica de distribuci\\u00f3n\", \"Grafica de distribuci\\u00f3n\", \"Grafica de distribuci\\u00f3n\", \"Grafica de distribuci\\u00f3n\", \"Grafica de distribuci\\u00f3n\", \"Grafica de distribuci\\u00f3n\", \"Grafica de distribuci\\u00f3n\", \"Grafica de distribuci\\u00f3n\", \"Grafica de distribuci\\u00f3n\", \"Grafica de distribuci\\u00f3n\", \"Grafica de distribuci\\u00f3n\", \"Grafica de distribuci\\u00f3n\", \"Grafica de distribuci\\u00f3n\", \"Grafica de distribuci\\u00f3n\", \"Grafica de distribuci\\u00f3n\", \"Grafica de distribuci\\u00f3n\", \"Grafica de distribuci\\u00f3n\", \"Grafica de distribuci\\u00f3n\", \"Grafica de distribuci\\u00f3n\", \"Grafica de distribuci\\u00f3n\", \"Grafica de distribuci\\u00f3n\", \"Grafica de distribuci\\u00f3n\", \"Grafica de distribuci\\u00f3n\", \"Grafica de distribuci\\u00f3n\", \"Grafica de distribuci\\u00f3n\", \"Grafica de distribuci\\u00f3n\", \"Grafica de distribuci\\u00f3n\", \"Grafica de distribuci\\u00f3n\", \"Grafica de distribuci\\u00f3n\", \"Grafica de distribuci\\u00f3n\", \"Grafica de distribuci\\u00f3n\", \"Grafica de distribuci\\u00f3n\", \"Grafica de distribuci\\u00f3n\", \"Grafica de distribuci\\u00f3n\", \"Grafica de distribuci\\u00f3n\", \"Grafica de distribuci\\u00f3n\", \"Grafica de distribuci\\u00f3n\", \"Grafica de distribuci\\u00f3n\", \"Grafica de distribuci\\u00f3n\", \"Grafica de distribuci\\u00f3n\", \"Grafica de distribuci\\u00f3n\", \"Grafica de distribuci\\u00f3n\", \"Grafica de distribuci\\u00f3n\", \"Grafica de distribuci\\u00f3n\", \"Grafica de distribuci\\u00f3n\", \"Grafica de distribuci\\u00f3n\", \"Grafica de distribuci\\u00f3n\", \"Grafica de distribuci\\u00f3n\", \"Grafica de distribuci\\u00f3n\", \"Grafica de distribuci\\u00f3n\", \"Grafica de distribuci\\u00f3n\", \"Grafica de distribuci\\u00f3n\", \"Grafica de distribuci\\u00f3n\", \"Grafica de distribuci\\u00f3n\", \"Grafica de distribuci\\u00f3n\", \"Grafica de distribuci\\u00f3n\", \"Grafica de distribuci\\u00f3n\", \"Grafica de distribuci\\u00f3n\", \"Grafica de distribuci\\u00f3n\", \"Grafica de distribuci\\u00f3n\", \"Grafica de distribuci\\u00f3n\", \"Grafica de distribuci\\u00f3n\", \"Grafica de distribuci\\u00f3n\", \"Grafica de distribuci\\u00f3n\", \"Grafica de distribuci\\u00f3n\", \"Grafica de distribuci\\u00f3n\", \"Grafica de distribuci\\u00f3n\", \"Grafica de distribuci\\u00f3n\", \"Grafica de distribuci\\u00f3n\", \"Grafica de distribuci\\u00f3n\", \"Grafica de distribuci\\u00f3n\", \"Grafica de distribuci\\u00f3n\", \"Grafica de distribuci\\u00f3n\", \"Grafica de distribuci\\u00f3n\", \"Grafica de distribuci\\u00f3n\", \"Grafica de distribuci\\u00f3n\", \"Grafica de distribuci\\u00f3n\", \"Grafica de distribuci\\u00f3n\", \"Grafica de distribuci\\u00f3n\", \"Grafica de distribuci\\u00f3n\", \"Grafica de distribuci\\u00f3n\", \"Grafica de distribuci\\u00f3n\", \"Grafica de distribuci\\u00f3n\", \"Grafica de distribuci\\u00f3n\", \"Grafica de distribuci\\u00f3n\", \"Grafica de distribuci\\u00f3n\", \"Grafica de distribuci\\u00f3n\", \"Grafica de distribuci\\u00f3n\", \"Grafica de distribuci\\u00f3n\", \"Grafica de distribuci\\u00f3n\", \"Grafica de distribuci\\u00f3n\", \"Grafica de distribuci\\u00f3n\", \"Grafica de distribuci\\u00f3n\", \"Grafica de distribuci\\u00f3n\", \"Grafica de distribuci\\u00f3n\", \"Grafica de distribuci\\u00f3n\", \"Grafica de distribuci\\u00f3n\", \"Grafica de distribuci\\u00f3n\", \"Grafica de distribuci\\u00f3n\", \"Grafica de distribuci\\u00f3n\", \"Grafica de distribuci\\u00f3n\", \"Grafica de distribuci\\u00f3n\", \"Grafica de distribuci\\u00f3n\", \"Grafica de distribuci\\u00f3n\", \"Grafica de distribuci\\u00f3n\", \"Grafica de distribuci\\u00f3n\", \"Grafica de distribuci\\u00f3n\", \"Grafica de distribuci\\u00f3n\", \"Grafica de distribuci\\u00f3n\", \"Grafica de distribuci\\u00f3n\", \"Grafica de distribuci\\u00f3n\", \"Grafica de distribuci\\u00f3n\", \"Grafica de distribuci\\u00f3n\", \"Grafica de distribuci\\u00f3n\", \"Grafica de distribuci\\u00f3n\", \"Grafica de distribuci\\u00f3n\", \"Grafica de distribuci\\u00f3n\", \"Grafica de distribuci\\u00f3n\", \"Grafica de distribuci\\u00f3n\", \"Grafica de distribuci\\u00f3n\", \"Grafica de distribuci\\u00f3n\", \"Grafica de distribuci\\u00f3n\", \"Grafica de distribuci\\u00f3n\", \"Grafica de distribuci\\u00f3n\", \"Grafica de distribuci\\u00f3n\", \"Grafica de distribuci\\u00f3n\", \"Grafica de distribuci\\u00f3n\", \"Grafica de distribuci\\u00f3n\", \"Grafica de distribuci\\u00f3n\", \"Grafica de distribuci\\u00f3n\", \"Grafica de distribuci\\u00f3n\", \"Grafica de distribuci\\u00f3n\", \"Grafica de distribuci\\u00f3n\", \"Grafica de distribuci\\u00f3n\", \"Grafica de distribuci\\u00f3n\", \"Grafica de distribuci\\u00f3n\", \"Grafica de distribuci\\u00f3n\", \"Grafica de distribuci\\u00f3n\", \"Grafica de distribuci\\u00f3n\", \"Grafica de distribuci\\u00f3n\", \"Grafica de distribuci\\u00f3n\", \"Grafica de distribuci\\u00f3n\", \"Grafica de distribuci\\u00f3n\", \"Grafica de distribuci\\u00f3n\", \"Grafica de distribuci\\u00f3n\", \"Grafica de distribuci\\u00f3n\", \"Grafica de distribuci\\u00f3n\", \"Grafica de distribuci\\u00f3n\", \"Grafica de distribuci\\u00f3n\", \"Grafica de distribuci\\u00f3n\", \"Grafica de distribuci\\u00f3n\", \"Grafica de distribuci\\u00f3n\", \"Grafica de distribuci\\u00f3n\", \"Grafica de distribuci\\u00f3n\", \"Grafica de distribuci\\u00f3n\", \"Grafica de distribuci\\u00f3n\", \"Grafica de distribuci\\u00f3n\", \"Grafica de distribuci\\u00f3n\", \"Grafica de distribuci\\u00f3n\", \"Grafica de distribuci\\u00f3n\", \"Grafica de distribuci\\u00f3n\", \"Grafica de distribuci\\u00f3n\", \"Grafica de distribuci\\u00f3n\", \"Grafica de distribuci\\u00f3n\", \"Grafica de distribuci\\u00f3n\", \"Grafica de distribuci\\u00f3n\", \"Grafica de distribuci\\u00f3n\", \"Grafica de distribuci\\u00f3n\", \"Grafica de distribuci\\u00f3n\", \"Grafica de distribuci\\u00f3n\", \"Grafica de distribuci\\u00f3n\", \"Grafica de distribuci\\u00f3n\", \"Grafica de distribuci\\u00f3n\", \"Grafica de distribuci\\u00f3n\", \"Grafica de distribuci\\u00f3n\", \"Grafica de distribuci\\u00f3n\", \"Grafica de distribuci\\u00f3n\", \"Grafica de distribuci\\u00f3n\", \"Grafica de distribuci\\u00f3n\", \"Grafica de distribuci\\u00f3n\", \"Grafica de distribuci\\u00f3n\", \"Grafica de distribuci\\u00f3n\", \"Grafica de distribuci\\u00f3n\", \"Grafica de distribuci\\u00f3n\", \"Grafica de distribuci\\u00f3n\", \"Grafica de distribuci\\u00f3n\", \"Grafica de distribuci\\u00f3n\", \"Grafica de distribuci\\u00f3n\", \"Grafica de distribuci\\u00f3n\", \"Grafica de distribuci\\u00f3n\", \"Grafica de distribuci\\u00f3n\", \"Grafica de distribuci\\u00f3n\", \"Grafica de distribuci\\u00f3n\", \"Grafica de distribuci\\u00f3n\", \"Grafica de distribuci\\u00f3n\", \"Grafica de distribuci\\u00f3n\", \"Grafica de distribuci\\u00f3n\", \"Grafica de distribuci\\u00f3n\", \"Grafica de distribuci\\u00f3n\", \"Grafica de distribuci\\u00f3n\", \"Grafica de distribuci\\u00f3n\", \"Grafica de distribuci\\u00f3n\", \"Grafica de distribuci\\u00f3n\", \"Grafica de distribuci\\u00f3n\", \"Grafica de distribuci\\u00f3n\", \"Grafica de distribuci\\u00f3n\", \"Grafica de distribuci\\u00f3n\", \"Grafica de distribuci\\u00f3n\", \"Grafica de distribuci\\u00f3n\", \"Grafica de distribuci\\u00f3n\", \"Grafica de distribuci\\u00f3n\", \"Grafica de distribuci\\u00f3n\", \"Grafica de distribuci\\u00f3n\", \"Grafica de distribuci\\u00f3n\", \"Grafica de distribuci\\u00f3n\", \"Grafica de distribuci\\u00f3n\", \"Grafica de distribuci\\u00f3n\", \"Grafica de distribuci\\u00f3n\", \"Grafica de distribuci\\u00f3n\", \"Grafica de distribuci\\u00f3n\", \"Grafica de distribuci\\u00f3n\", \"Grafica de distribuci\\u00f3n\"], \"yaxis\": \"y2\"}],\n",
       "                        {\"barmode\": \"overlay\", \"hovermode\": \"closest\", \"legend\": {\"traceorder\": \"reversed\"}, \"template\": {\"data\": {\"bar\": [{\"error_x\": {\"color\": \"#2a3f5f\"}, \"error_y\": {\"color\": \"#2a3f5f\"}, \"marker\": {\"line\": {\"color\": \"#E5ECF6\", \"width\": 0.5}}, \"type\": \"bar\"}], \"barpolar\": [{\"marker\": {\"line\": {\"color\": \"#E5ECF6\", \"width\": 0.5}}, \"type\": \"barpolar\"}], \"carpet\": [{\"aaxis\": {\"endlinecolor\": \"#2a3f5f\", \"gridcolor\": \"white\", \"linecolor\": \"white\", \"minorgridcolor\": \"white\", \"startlinecolor\": \"#2a3f5f\"}, \"baxis\": {\"endlinecolor\": \"#2a3f5f\", \"gridcolor\": \"white\", \"linecolor\": \"white\", \"minorgridcolor\": \"white\", \"startlinecolor\": \"#2a3f5f\"}, \"type\": \"carpet\"}], \"choropleth\": [{\"colorbar\": {\"outlinewidth\": 0, \"ticks\": \"\"}, \"type\": \"choropleth\"}], \"contour\": [{\"colorbar\": {\"outlinewidth\": 0, \"ticks\": \"\"}, \"colorscale\": [[0.0, \"#0d0887\"], [0.1111111111111111, \"#46039f\"], [0.2222222222222222, \"#7201a8\"], [0.3333333333333333, \"#9c179e\"], [0.4444444444444444, \"#bd3786\"], [0.5555555555555556, \"#d8576b\"], [0.6666666666666666, \"#ed7953\"], [0.7777777777777778, \"#fb9f3a\"], [0.8888888888888888, \"#fdca26\"], [1.0, \"#f0f921\"]], \"type\": \"contour\"}], \"contourcarpet\": [{\"colorbar\": {\"outlinewidth\": 0, \"ticks\": \"\"}, \"type\": \"contourcarpet\"}], \"heatmap\": [{\"colorbar\": {\"outlinewidth\": 0, \"ticks\": \"\"}, \"colorscale\": [[0.0, \"#0d0887\"], [0.1111111111111111, \"#46039f\"], [0.2222222222222222, \"#7201a8\"], [0.3333333333333333, \"#9c179e\"], [0.4444444444444444, \"#bd3786\"], [0.5555555555555556, \"#d8576b\"], [0.6666666666666666, \"#ed7953\"], [0.7777777777777778, \"#fb9f3a\"], [0.8888888888888888, \"#fdca26\"], [1.0, \"#f0f921\"]], \"type\": \"heatmap\"}], \"heatmapgl\": [{\"colorbar\": {\"outlinewidth\": 0, \"ticks\": \"\"}, \"colorscale\": [[0.0, \"#0d0887\"], [0.1111111111111111, \"#46039f\"], [0.2222222222222222, \"#7201a8\"], [0.3333333333333333, \"#9c179e\"], [0.4444444444444444, \"#bd3786\"], [0.5555555555555556, \"#d8576b\"], [0.6666666666666666, \"#ed7953\"], [0.7777777777777778, \"#fb9f3a\"], [0.8888888888888888, \"#fdca26\"], [1.0, \"#f0f921\"]], \"type\": \"heatmapgl\"}], \"histogram\": [{\"marker\": {\"colorbar\": {\"outlinewidth\": 0, \"ticks\": \"\"}}, \"type\": \"histogram\"}], \"histogram2d\": [{\"colorbar\": {\"outlinewidth\": 0, \"ticks\": \"\"}, \"colorscale\": [[0.0, \"#0d0887\"], [0.1111111111111111, \"#46039f\"], [0.2222222222222222, \"#7201a8\"], [0.3333333333333333, \"#9c179e\"], [0.4444444444444444, \"#bd3786\"], [0.5555555555555556, \"#d8576b\"], [0.6666666666666666, \"#ed7953\"], [0.7777777777777778, \"#fb9f3a\"], [0.8888888888888888, \"#fdca26\"], [1.0, \"#f0f921\"]], \"type\": \"histogram2d\"}], \"histogram2dcontour\": [{\"colorbar\": {\"outlinewidth\": 0, \"ticks\": \"\"}, \"colorscale\": [[0.0, \"#0d0887\"], [0.1111111111111111, \"#46039f\"], [0.2222222222222222, \"#7201a8\"], [0.3333333333333333, \"#9c179e\"], [0.4444444444444444, \"#bd3786\"], [0.5555555555555556, \"#d8576b\"], [0.6666666666666666, \"#ed7953\"], [0.7777777777777778, \"#fb9f3a\"], [0.8888888888888888, \"#fdca26\"], [1.0, \"#f0f921\"]], \"type\": \"histogram2dcontour\"}], \"mesh3d\": [{\"colorbar\": {\"outlinewidth\": 0, \"ticks\": \"\"}, \"type\": \"mesh3d\"}], \"parcoords\": [{\"line\": {\"colorbar\": {\"outlinewidth\": 0, \"ticks\": \"\"}}, \"type\": \"parcoords\"}], \"pie\": [{\"automargin\": true, \"type\": \"pie\"}], \"scatter\": [{\"marker\": {\"colorbar\": {\"outlinewidth\": 0, \"ticks\": \"\"}}, \"type\": \"scatter\"}], \"scatter3d\": [{\"line\": {\"colorbar\": {\"outlinewidth\": 0, \"ticks\": \"\"}}, \"marker\": {\"colorbar\": {\"outlinewidth\": 0, \"ticks\": \"\"}}, \"type\": \"scatter3d\"}], \"scattercarpet\": [{\"marker\": {\"colorbar\": {\"outlinewidth\": 0, \"ticks\": \"\"}}, \"type\": \"scattercarpet\"}], \"scattergeo\": [{\"marker\": {\"colorbar\": {\"outlinewidth\": 0, \"ticks\": \"\"}}, \"type\": \"scattergeo\"}], \"scattergl\": [{\"marker\": {\"colorbar\": {\"outlinewidth\": 0, \"ticks\": \"\"}}, \"type\": \"scattergl\"}], \"scattermapbox\": [{\"marker\": {\"colorbar\": {\"outlinewidth\": 0, \"ticks\": \"\"}}, \"type\": \"scattermapbox\"}], \"scatterpolar\": [{\"marker\": {\"colorbar\": {\"outlinewidth\": 0, \"ticks\": \"\"}}, \"type\": \"scatterpolar\"}], \"scatterpolargl\": [{\"marker\": {\"colorbar\": {\"outlinewidth\": 0, \"ticks\": \"\"}}, \"type\": \"scatterpolargl\"}], \"scatterternary\": [{\"marker\": {\"colorbar\": {\"outlinewidth\": 0, \"ticks\": \"\"}}, \"type\": \"scatterternary\"}], \"surface\": [{\"colorbar\": {\"outlinewidth\": 0, \"ticks\": \"\"}, \"colorscale\": [[0.0, \"#0d0887\"], [0.1111111111111111, \"#46039f\"], [0.2222222222222222, \"#7201a8\"], [0.3333333333333333, \"#9c179e\"], [0.4444444444444444, \"#bd3786\"], [0.5555555555555556, \"#d8576b\"], [0.6666666666666666, \"#ed7953\"], [0.7777777777777778, \"#fb9f3a\"], [0.8888888888888888, \"#fdca26\"], [1.0, \"#f0f921\"]], \"type\": \"surface\"}], \"table\": [{\"cells\": {\"fill\": {\"color\": \"#EBF0F8\"}, \"line\": {\"color\": \"white\"}}, \"header\": {\"fill\": {\"color\": \"#C8D4E3\"}, \"line\": {\"color\": \"white\"}}, \"type\": \"table\"}]}, \"layout\": {\"annotationdefaults\": {\"arrowcolor\": \"#2a3f5f\", \"arrowhead\": 0, \"arrowwidth\": 1}, \"coloraxis\": {\"colorbar\": {\"outlinewidth\": 0, \"ticks\": \"\"}}, \"colorscale\": {\"diverging\": [[0, \"#8e0152\"], [0.1, \"#c51b7d\"], [0.2, \"#de77ae\"], [0.3, \"#f1b6da\"], [0.4, \"#fde0ef\"], [0.5, \"#f7f7f7\"], [0.6, \"#e6f5d0\"], [0.7, \"#b8e186\"], [0.8, \"#7fbc41\"], [0.9, \"#4d9221\"], [1, \"#276419\"]], \"sequential\": [[0.0, \"#0d0887\"], [0.1111111111111111, \"#46039f\"], [0.2222222222222222, \"#7201a8\"], [0.3333333333333333, \"#9c179e\"], [0.4444444444444444, \"#bd3786\"], [0.5555555555555556, \"#d8576b\"], [0.6666666666666666, \"#ed7953\"], [0.7777777777777778, \"#fb9f3a\"], [0.8888888888888888, \"#fdca26\"], [1.0, \"#f0f921\"]], \"sequentialminus\": [[0.0, \"#0d0887\"], [0.1111111111111111, \"#46039f\"], [0.2222222222222222, \"#7201a8\"], [0.3333333333333333, \"#9c179e\"], [0.4444444444444444, \"#bd3786\"], [0.5555555555555556, \"#d8576b\"], [0.6666666666666666, \"#ed7953\"], [0.7777777777777778, \"#fb9f3a\"], [0.8888888888888888, \"#fdca26\"], [1.0, \"#f0f921\"]]}, \"colorway\": [\"#636efa\", \"#EF553B\", \"#00cc96\", \"#ab63fa\", \"#FFA15A\", \"#19d3f3\", \"#FF6692\", \"#B6E880\", \"#FF97FF\", \"#FECB52\"], \"font\": {\"color\": \"#2a3f5f\"}, \"geo\": {\"bgcolor\": \"white\", \"lakecolor\": \"white\", \"landcolor\": \"#E5ECF6\", \"showlakes\": true, \"showland\": true, \"subunitcolor\": \"white\"}, \"hoverlabel\": {\"align\": \"left\"}, \"hovermode\": \"closest\", \"mapbox\": {\"style\": \"light\"}, \"paper_bgcolor\": \"white\", \"plot_bgcolor\": \"#E5ECF6\", \"polar\": {\"angularaxis\": {\"gridcolor\": \"white\", \"linecolor\": \"white\", \"ticks\": \"\"}, \"bgcolor\": \"#E5ECF6\", \"radialaxis\": {\"gridcolor\": \"white\", \"linecolor\": \"white\", \"ticks\": \"\"}}, \"scene\": {\"xaxis\": {\"backgroundcolor\": \"#E5ECF6\", \"gridcolor\": \"white\", \"gridwidth\": 2, \"linecolor\": \"white\", \"showbackground\": true, \"ticks\": \"\", \"zerolinecolor\": \"white\"}, \"yaxis\": {\"backgroundcolor\": \"#E5ECF6\", \"gridcolor\": \"white\", \"gridwidth\": 2, \"linecolor\": \"white\", \"showbackground\": true, \"ticks\": \"\", \"zerolinecolor\": \"white\"}, \"zaxis\": {\"backgroundcolor\": \"#E5ECF6\", \"gridcolor\": \"white\", \"gridwidth\": 2, \"linecolor\": \"white\", \"showbackground\": true, \"ticks\": \"\", \"zerolinecolor\": \"white\"}}, \"shapedefaults\": {\"line\": {\"color\": \"#2a3f5f\"}}, \"ternary\": {\"aaxis\": {\"gridcolor\": \"white\", \"linecolor\": \"white\", \"ticks\": \"\"}, \"baxis\": {\"gridcolor\": \"white\", \"linecolor\": \"white\", \"ticks\": \"\"}, \"bgcolor\": \"#E5ECF6\", \"caxis\": {\"gridcolor\": \"white\", \"linecolor\": \"white\", \"ticks\": \"\"}}, \"title\": {\"x\": 0.05}, \"xaxis\": {\"automargin\": true, \"gridcolor\": \"white\", \"linecolor\": \"white\", \"ticks\": \"\", \"title\": {\"standoff\": 15}, \"zerolinecolor\": \"white\", \"zerolinewidth\": 2}, \"yaxis\": {\"automargin\": true, \"gridcolor\": \"white\", \"linecolor\": \"white\", \"ticks\": \"\", \"title\": {\"standoff\": 15}, \"zerolinecolor\": \"white\", \"zerolinewidth\": 2}}}, \"xaxis\": {\"anchor\": \"y2\", \"domain\": [0.0, 1.0], \"zeroline\": false}, \"yaxis\": {\"anchor\": \"free\", \"domain\": [0.35, 1], \"position\": 0.0}, \"yaxis2\": {\"anchor\": \"x\", \"domain\": [0, 0.25], \"dtick\": 1, \"showticklabels\": false}},\n",
       "                        {\"responsive\": true}\n",
       "                    ).then(function(){\n",
       "                            \n",
       "var gd = document.getElementById('7e9d6b74-adb2-43ed-b801-12c91e42c7bf');\n",
       "var x = new MutationObserver(function (mutations, observer) {{\n",
       "        var display = window.getComputedStyle(gd).display;\n",
       "        if (!display || display === 'none') {{\n",
       "            console.log([gd, 'removed!']);\n",
       "            Plotly.purge(gd);\n",
       "            observer.disconnect();\n",
       "        }}\n",
       "}});\n",
       "\n",
       "// Listen for the removal of the full notebook cells\n",
       "var notebookContainer = gd.closest('#notebook-container');\n",
       "if (notebookContainer) {{\n",
       "    x.observe(notebookContainer, {childList: true});\n",
       "}}\n",
       "\n",
       "// Listen for the clearing of the current output cell\n",
       "var outputEl = gd.closest('.output');\n",
       "if (outputEl) {{\n",
       "    x.observe(outputEl, {childList: true});\n",
       "}}\n",
       "\n",
       "                        })\n",
       "                };\n",
       "                });\n",
       "            </script>\n",
       "        </div>"
      ]
     },
     "metadata": {},
     "output_type": "display_data"
    }
   ],
   "source": [
    "figura = ff.create_distplot(valores, tag)\n",
    "pyo.iplot(figura)"
   ]
  },
  {
   "cell_type": "code",
   "execution_count": null,
   "metadata": {},
   "outputs": [],
   "source": []
  }
 ],
 "metadata": {
  "kernelspec": {
   "display_name": "Python 3",
   "language": "python",
   "name": "python3"
  },
  "language_info": {
   "codemirror_mode": {
    "name": "ipython",
    "version": 3
   },
   "file_extension": ".py",
   "mimetype": "text/x-python",
   "name": "python",
   "nbconvert_exporter": "python",
   "pygments_lexer": "ipython3",
   "version": "3.7.3"
  }
 },
 "nbformat": 4,
 "nbformat_minor": 2
}
