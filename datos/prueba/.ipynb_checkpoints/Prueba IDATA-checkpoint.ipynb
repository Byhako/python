{
 "cells": [
  {
   "cell_type": "markdown",
   "metadata": {},
   "source": [
    "<div class='alert alert-success'>\n",
    "<h3>Prueba **IDATA**.</h3>\n",
    "<h4>Ruben Eduardo Acosta</h4>\n",
    "</div>"
   ]
  },
  {
   "cell_type": "markdown",
   "metadata": {},
   "source": [
    "### Primero cargamos los datos."
   ]
  },
  {
   "cell_type": "code",
   "execution_count": 1,
   "metadata": {},
   "outputs": [],
   "source": [
    "import pandas as pd\n",
    "import numpy as np\n",
    "import matplotlib.pyplot as plt\n",
    "import seaborn as sb\n",
    "import warnings\n",
    "warnings.simplefilter('ignore')"
   ]
  },
  {
   "cell_type": "code",
   "execution_count": 2,
   "metadata": {},
   "outputs": [
    {
     "data": {
      "text/html": [
       "<div>\n",
       "<style scoped>\n",
       "    .dataframe tbody tr th:only-of-type {\n",
       "        vertical-align: middle;\n",
       "    }\n",
       "\n",
       "    .dataframe tbody tr th {\n",
       "        vertical-align: top;\n",
       "    }\n",
       "\n",
       "    .dataframe thead th {\n",
       "        text-align: right;\n",
       "    }\n",
       "</style>\n",
       "<table border=\"1\" class=\"dataframe\">\n",
       "  <thead>\n",
       "    <tr style=\"text-align: right;\">\n",
       "      <th></th>\n",
       "      <th>cedula</th>\n",
       "      <th>oficina</th>\n",
       "      <th>categori</th>\n",
       "      <th>tiempode</th>\n",
       "      <th>monto</th>\n",
       "      <th>saldo</th>\n",
       "      <th>plazo</th>\n",
       "      <th>tasa</th>\n",
       "      <th>cuota</th>\n",
       "      <th>garantia</th>\n",
       "      <th>...</th>\n",
       "      <th>estadoci</th>\n",
       "      <th>sexo</th>\n",
       "      <th>personas</th>\n",
       "      <th>tipovivi</th>\n",
       "      <th>tipocont</th>\n",
       "      <th>aportes</th>\n",
       "      <th>numerocr</th>\n",
       "      <th>antigcoo</th>\n",
       "      <th>default</th>\n",
       "      <th>Cat</th>\n",
       "    </tr>\n",
       "  </thead>\n",
       "  <tbody>\n",
       "    <tr>\n",
       "      <th>0</th>\n",
       "      <td>6754</td>\n",
       "      <td>Itagui</td>\n",
       "      <td>E</td>\n",
       "      <td>63</td>\n",
       "      <td>500000.0</td>\n",
       "      <td>411775.0</td>\n",
       "      <td>18</td>\n",
       "      <td>3.1667</td>\n",
       "      <td>36868</td>\n",
       "      <td>P</td>\n",
       "      <td>...</td>\n",
       "      <td>Unión Libre</td>\n",
       "      <td>Masculino</td>\n",
       "      <td>0</td>\n",
       "      <td>NaN</td>\n",
       "      <td>NaN</td>\n",
       "      <td>69000.0</td>\n",
       "      <td>1</td>\n",
       "      <td>6</td>\n",
       "      <td>Malo</td>\n",
       "      <td>E</td>\n",
       "    </tr>\n",
       "    <tr>\n",
       "      <th>1</th>\n",
       "      <td>17922</td>\n",
       "      <td>Laureles</td>\n",
       "      <td>E</td>\n",
       "      <td>65</td>\n",
       "      <td>2000000.0</td>\n",
       "      <td>1563604.0</td>\n",
       "      <td>24</td>\n",
       "      <td>3.2083</td>\n",
       "      <td>120761</td>\n",
       "      <td>P</td>\n",
       "      <td>...</td>\n",
       "      <td>Soltero</td>\n",
       "      <td>Masculino</td>\n",
       "      <td>0</td>\n",
       "      <td>NaN</td>\n",
       "      <td>NaN</td>\n",
       "      <td>0.0</td>\n",
       "      <td>1</td>\n",
       "      <td>6</td>\n",
       "      <td>Malo</td>\n",
       "      <td>E</td>\n",
       "    </tr>\n",
       "    <tr>\n",
       "      <th>2</th>\n",
       "      <td>167</td>\n",
       "      <td>Belen</td>\n",
       "      <td>E</td>\n",
       "      <td>60</td>\n",
       "      <td>800000.0</td>\n",
       "      <td>658843.0</td>\n",
       "      <td>18</td>\n",
       "      <td>3.1667</td>\n",
       "      <td>58990</td>\n",
       "      <td>P</td>\n",
       "      <td>...</td>\n",
       "      <td>Soltero</td>\n",
       "      <td>Femenino</td>\n",
       "      <td>0</td>\n",
       "      <td>NaN</td>\n",
       "      <td>NaN</td>\n",
       "      <td>82000.0</td>\n",
       "      <td>1</td>\n",
       "      <td>5</td>\n",
       "      <td>Malo</td>\n",
       "      <td>E</td>\n",
       "    </tr>\n",
       "    <tr>\n",
       "      <th>3</th>\n",
       "      <td>23093</td>\n",
       "      <td>Itagui</td>\n",
       "      <td>E</td>\n",
       "      <td>57</td>\n",
       "      <td>800000.0</td>\n",
       "      <td>744568.0</td>\n",
       "      <td>21</td>\n",
       "      <td>3.2083</td>\n",
       "      <td>52945</td>\n",
       "      <td>P</td>\n",
       "      <td>...</td>\n",
       "      <td>Casado</td>\n",
       "      <td>Masculino</td>\n",
       "      <td>0</td>\n",
       "      <td>Familiar</td>\n",
       "      <td>Término Indefinido</td>\n",
       "      <td>82000.0</td>\n",
       "      <td>1</td>\n",
       "      <td>5</td>\n",
       "      <td>Malo</td>\n",
       "      <td>E</td>\n",
       "    </tr>\n",
       "    <tr>\n",
       "      <th>4</th>\n",
       "      <td>16530</td>\n",
       "      <td>Belen</td>\n",
       "      <td>E</td>\n",
       "      <td>58</td>\n",
       "      <td>14153655.0</td>\n",
       "      <td>13567368.0</td>\n",
       "      <td>48</td>\n",
       "      <td>2.8750</td>\n",
       "      <td>547318</td>\n",
       "      <td>R</td>\n",
       "      <td>...</td>\n",
       "      <td>Casado</td>\n",
       "      <td>Masculino</td>\n",
       "      <td>2</td>\n",
       "      <td>Propia</td>\n",
       "      <td>NaN</td>\n",
       "      <td>300000.0</td>\n",
       "      <td>1</td>\n",
       "      <td>7</td>\n",
       "      <td>Malo</td>\n",
       "      <td>E</td>\n",
       "    </tr>\n",
       "  </tbody>\n",
       "</table>\n",
       "<p>5 rows × 30 columns</p>\n",
       "</div>"
      ],
      "text/plain": [
       "   cedula   oficina categori  tiempode       monto       saldo  plazo    tasa  \\\n",
       "0    6754    Itagui        E        63    500000.0    411775.0     18  3.1667   \n",
       "1   17922  Laureles        E        65   2000000.0   1563604.0     24  3.2083   \n",
       "2     167     Belen        E        60    800000.0    658843.0     18  3.1667   \n",
       "3   23093    Itagui        E        57    800000.0    744568.0     21  3.2083   \n",
       "4   16530     Belen        E        58  14153655.0  13567368.0     48  2.8750   \n",
       "\n",
       "    cuota garantia ...      estadoci       sexo  personas  tipovivi  \\\n",
       "0   36868        P ...   Unión Libre  Masculino         0       NaN   \n",
       "1  120761        P ...       Soltero  Masculino         0       NaN   \n",
       "2   58990        P ...       Soltero   Femenino         0       NaN   \n",
       "3   52945        P ...        Casado  Masculino         0  Familiar   \n",
       "4  547318        R ...        Casado  Masculino         2    Propia   \n",
       "\n",
       "             tipocont   aportes  numerocr  antigcoo  default  Cat  \n",
       "0                 NaN   69000.0         1         6     Malo    E  \n",
       "1                 NaN       0.0         1         6     Malo    E  \n",
       "2                 NaN   82000.0         1         5     Malo    E  \n",
       "3  Término Indefinido   82000.0         1         5     Malo    E  \n",
       "4                 NaN  300000.0         1         7     Malo    E  \n",
       "\n",
       "[5 rows x 30 columns]"
      ]
     },
     "execution_count": 2,
     "metadata": {},
     "output_type": "execute_result"
    }
   ],
   "source": [
    "cartera =  pd.read_excel('./datos.xlsx')\n",
    "cartera.head()"
   ]
  },
  {
   "cell_type": "markdown",
   "metadata": {},
   "source": [
    "<div class='alert alert-info'>\n",
    "<h3>Inspección de datos.</h3>\n",
    "</div>"
   ]
  },
  {
   "cell_type": "markdown",
   "metadata": {},
   "source": [
    "### Veamos cuales entradas tiene la tabla y de que tipo es cada dato"
   ]
  },
  {
   "cell_type": "code",
   "execution_count": 3,
   "metadata": {},
   "outputs": [
    {
     "name": "stdout",
     "output_type": "stream",
     "text": [
      "<class 'pandas.core.frame.DataFrame'>\n",
      "RangeIndex: 24786 entries, 0 to 24785\n",
      "Data columns (total 30 columns):\n",
      "cedula      24786 non-null int64\n",
      "oficina     24786 non-null object\n",
      "categori    24786 non-null object\n",
      "tiempode    24786 non-null int64\n",
      "monto       24786 non-null float64\n",
      "saldo       24786 non-null float64\n",
      "plazo       24786 non-null int64\n",
      "tasa        24786 non-null float64\n",
      "cuota       24786 non-null int64\n",
      "garantia    24786 non-null object\n",
      "diasmora    24786 non-null int64\n",
      "formapag    24786 non-null int64\n",
      "reestruc    24786 non-null int64\n",
      "edad        24786 non-null int64\n",
      "ocupació    24786 non-null object\n",
      "niveledu    24786 non-null object\n",
      "ingtot      24786 non-null float64\n",
      "egrtot      24786 non-null float64\n",
      "estrato     24786 non-null int64\n",
      "antigemp    24786 non-null int64\n",
      "estadoci    24786 non-null object\n",
      "sexo        24786 non-null object\n",
      "personas    24786 non-null int64\n",
      "tipovivi    20414 non-null object\n",
      "tipocont    19595 non-null object\n",
      "aportes     24786 non-null float64\n",
      "numerocr    24786 non-null int64\n",
      "antigcoo    24786 non-null int64\n",
      "default     24786 non-null object\n",
      "Cat         24786 non-null object\n",
      "dtypes: float64(6), int64(13), object(11)\n",
      "memory usage: 5.7+ MB\n"
     ]
    }
   ],
   "source": [
    "cartera.info()"
   ]
  },
  {
   "cell_type": "code",
   "execution_count": 4,
   "metadata": {},
   "outputs": [
    {
     "data": {
      "text/plain": [
       "Bueno    24334\n",
       "Malo       452\n",
       "Name: default, dtype: int64"
      ]
     },
     "execution_count": 4,
     "metadata": {},
     "output_type": "execute_result"
    }
   ],
   "source": [
    "# veamos cuantos usuarios son buenos y cuantos malos\n",
    "cartera['default'].value_counts()"
   ]
  },
  {
   "cell_type": "markdown",
   "metadata": {},
   "source": [
    "Tenemos que la mayoria de usuarios son buenos."
   ]
  },
  {
   "cell_type": "markdown",
   "metadata": {},
   "source": [
    "### Saquemos las columnas numéricas."
   ]
  },
  {
   "cell_type": "code",
   "execution_count": 5,
   "metadata": {},
   "outputs": [
    {
     "data": {
      "text/html": [
       "<div>\n",
       "<style scoped>\n",
       "    .dataframe tbody tr th:only-of-type {\n",
       "        vertical-align: middle;\n",
       "    }\n",
       "\n",
       "    .dataframe tbody tr th {\n",
       "        vertical-align: top;\n",
       "    }\n",
       "\n",
       "    .dataframe thead th {\n",
       "        text-align: right;\n",
       "    }\n",
       "</style>\n",
       "<table border=\"1\" class=\"dataframe\">\n",
       "  <thead>\n",
       "    <tr style=\"text-align: right;\">\n",
       "      <th></th>\n",
       "      <th>cedula</th>\n",
       "      <th>tiempode</th>\n",
       "      <th>monto</th>\n",
       "      <th>saldo</th>\n",
       "      <th>plazo</th>\n",
       "      <th>tasa</th>\n",
       "      <th>cuota</th>\n",
       "      <th>diasmora</th>\n",
       "      <th>formapag</th>\n",
       "      <th>reestruc</th>\n",
       "      <th>edad</th>\n",
       "      <th>ingtot</th>\n",
       "      <th>egrtot</th>\n",
       "      <th>estrato</th>\n",
       "      <th>antigemp</th>\n",
       "      <th>personas</th>\n",
       "      <th>aportes</th>\n",
       "      <th>numerocr</th>\n",
       "      <th>antigcoo</th>\n",
       "    </tr>\n",
       "  </thead>\n",
       "  <tbody>\n",
       "    <tr>\n",
       "      <th>0</th>\n",
       "      <td>6754</td>\n",
       "      <td>63</td>\n",
       "      <td>500000.0</td>\n",
       "      <td>411775.0</td>\n",
       "      <td>18</td>\n",
       "      <td>3.1667</td>\n",
       "      <td>36868</td>\n",
       "      <td>1784</td>\n",
       "      <td>1</td>\n",
       "      <td>2</td>\n",
       "      <td>30</td>\n",
       "      <td>372315.0</td>\n",
       "      <td>0.0</td>\n",
       "      <td>3</td>\n",
       "      <td>6</td>\n",
       "      <td>0</td>\n",
       "      <td>69000.0</td>\n",
       "      <td>1</td>\n",
       "      <td>6</td>\n",
       "    </tr>\n",
       "    <tr>\n",
       "      <th>1</th>\n",
       "      <td>17922</td>\n",
       "      <td>65</td>\n",
       "      <td>2000000.0</td>\n",
       "      <td>1563604.0</td>\n",
       "      <td>24</td>\n",
       "      <td>3.2083</td>\n",
       "      <td>120761</td>\n",
       "      <td>1758</td>\n",
       "      <td>1</td>\n",
       "      <td>2</td>\n",
       "      <td>38</td>\n",
       "      <td>900000.0</td>\n",
       "      <td>0.0</td>\n",
       "      <td>2</td>\n",
       "      <td>8</td>\n",
       "      <td>0</td>\n",
       "      <td>0.0</td>\n",
       "      <td>1</td>\n",
       "      <td>6</td>\n",
       "    </tr>\n",
       "    <tr>\n",
       "      <th>2</th>\n",
       "      <td>167</td>\n",
       "      <td>60</td>\n",
       "      <td>800000.0</td>\n",
       "      <td>658843.0</td>\n",
       "      <td>18</td>\n",
       "      <td>3.1667</td>\n",
       "      <td>58990</td>\n",
       "      <td>1677</td>\n",
       "      <td>1</td>\n",
       "      <td>2</td>\n",
       "      <td>57</td>\n",
       "      <td>800000.0</td>\n",
       "      <td>0.0</td>\n",
       "      <td>4</td>\n",
       "      <td>14</td>\n",
       "      <td>0</td>\n",
       "      <td>82000.0</td>\n",
       "      <td>1</td>\n",
       "      <td>5</td>\n",
       "    </tr>\n",
       "    <tr>\n",
       "      <th>3</th>\n",
       "      <td>23093</td>\n",
       "      <td>57</td>\n",
       "      <td>800000.0</td>\n",
       "      <td>744568.0</td>\n",
       "      <td>21</td>\n",
       "      <td>3.2083</td>\n",
       "      <td>52945</td>\n",
       "      <td>1670</td>\n",
       "      <td>1</td>\n",
       "      <td>2</td>\n",
       "      <td>28</td>\n",
       "      <td>325000.0</td>\n",
       "      <td>80000.0</td>\n",
       "      <td>3</td>\n",
       "      <td>8</td>\n",
       "      <td>0</td>\n",
       "      <td>82000.0</td>\n",
       "      <td>1</td>\n",
       "      <td>5</td>\n",
       "    </tr>\n",
       "    <tr>\n",
       "      <th>4</th>\n",
       "      <td>16530</td>\n",
       "      <td>58</td>\n",
       "      <td>14153655.0</td>\n",
       "      <td>13567368.0</td>\n",
       "      <td>48</td>\n",
       "      <td>2.8750</td>\n",
       "      <td>547318</td>\n",
       "      <td>1621</td>\n",
       "      <td>1</td>\n",
       "      <td>2</td>\n",
       "      <td>46</td>\n",
       "      <td>2500000.0</td>\n",
       "      <td>1500000.0</td>\n",
       "      <td>5</td>\n",
       "      <td>0</td>\n",
       "      <td>2</td>\n",
       "      <td>300000.0</td>\n",
       "      <td>1</td>\n",
       "      <td>7</td>\n",
       "    </tr>\n",
       "  </tbody>\n",
       "</table>\n",
       "</div>"
      ],
      "text/plain": [
       "   cedula  tiempode       monto       saldo  plazo    tasa   cuota  diasmora  \\\n",
       "0    6754        63    500000.0    411775.0     18  3.1667   36868      1784   \n",
       "1   17922        65   2000000.0   1563604.0     24  3.2083  120761      1758   \n",
       "2     167        60    800000.0    658843.0     18  3.1667   58990      1677   \n",
       "3   23093        57    800000.0    744568.0     21  3.2083   52945      1670   \n",
       "4   16530        58  14153655.0  13567368.0     48  2.8750  547318      1621   \n",
       "\n",
       "   formapag  reestruc  edad     ingtot     egrtot  estrato  antigemp  \\\n",
       "0         1         2    30   372315.0        0.0        3         6   \n",
       "1         1         2    38   900000.0        0.0        2         8   \n",
       "2         1         2    57   800000.0        0.0        4        14   \n",
       "3         1         2    28   325000.0    80000.0        3         8   \n",
       "4         1         2    46  2500000.0  1500000.0        5         0   \n",
       "\n",
       "   personas   aportes  numerocr  antigcoo  \n",
       "0         0   69000.0         1         6  \n",
       "1         0       0.0         1         6  \n",
       "2         0   82000.0         1         5  \n",
       "3         0   82000.0         1         5  \n",
       "4         2  300000.0         1         7  "
      ]
     },
     "execution_count": 5,
     "metadata": {},
     "output_type": "execute_result"
    }
   ],
   "source": [
    "num = (cartera.dtypes == float) | (cartera.dtypes == int)\n",
    "num = [x for x in num.index if num[x] == True]\n",
    "\n",
    "cartera_num = cartera[num]\n",
    "cartera_num.head()"
   ]
  },
  {
   "cell_type": "markdown",
   "metadata": {},
   "source": [
    "### Ahora veamos las columnas no numéricas."
   ]
  },
  {
   "cell_type": "code",
   "execution_count": 6,
   "metadata": {},
   "outputs": [
    {
     "data": {
      "text/html": [
       "<div>\n",
       "<style scoped>\n",
       "    .dataframe tbody tr th:only-of-type {\n",
       "        vertical-align: middle;\n",
       "    }\n",
       "\n",
       "    .dataframe tbody tr th {\n",
       "        vertical-align: top;\n",
       "    }\n",
       "\n",
       "    .dataframe thead th {\n",
       "        text-align: right;\n",
       "    }\n",
       "</style>\n",
       "<table border=\"1\" class=\"dataframe\">\n",
       "  <thead>\n",
       "    <tr style=\"text-align: right;\">\n",
       "      <th></th>\n",
       "      <th>oficina</th>\n",
       "      <th>categori</th>\n",
       "      <th>garantia</th>\n",
       "      <th>ocupació</th>\n",
       "      <th>niveledu</th>\n",
       "      <th>estadoci</th>\n",
       "      <th>sexo</th>\n",
       "      <th>tipovivi</th>\n",
       "      <th>tipocont</th>\n",
       "      <th>default</th>\n",
       "      <th>Cat</th>\n",
       "    </tr>\n",
       "  </thead>\n",
       "  <tbody>\n",
       "    <tr>\n",
       "      <th>0</th>\n",
       "      <td>Itagui</td>\n",
       "      <td>E</td>\n",
       "      <td>P</td>\n",
       "      <td>Empleado</td>\n",
       "      <td>Bachillerato</td>\n",
       "      <td>Unión Libre</td>\n",
       "      <td>Masculino</td>\n",
       "      <td>NaN</td>\n",
       "      <td>NaN</td>\n",
       "      <td>Malo</td>\n",
       "      <td>E</td>\n",
       "    </tr>\n",
       "    <tr>\n",
       "      <th>1</th>\n",
       "      <td>Laureles</td>\n",
       "      <td>E</td>\n",
       "      <td>P</td>\n",
       "      <td>Empleado</td>\n",
       "      <td>Bachillerato</td>\n",
       "      <td>Soltero</td>\n",
       "      <td>Masculino</td>\n",
       "      <td>NaN</td>\n",
       "      <td>NaN</td>\n",
       "      <td>Malo</td>\n",
       "      <td>E</td>\n",
       "    </tr>\n",
       "    <tr>\n",
       "      <th>2</th>\n",
       "      <td>Belen</td>\n",
       "      <td>E</td>\n",
       "      <td>P</td>\n",
       "      <td>Empleado</td>\n",
       "      <td>Técnico</td>\n",
       "      <td>Soltero</td>\n",
       "      <td>Femenino</td>\n",
       "      <td>NaN</td>\n",
       "      <td>NaN</td>\n",
       "      <td>Malo</td>\n",
       "      <td>E</td>\n",
       "    </tr>\n",
       "    <tr>\n",
       "      <th>3</th>\n",
       "      <td>Itagui</td>\n",
       "      <td>E</td>\n",
       "      <td>P</td>\n",
       "      <td>Empleado</td>\n",
       "      <td>Bachillerato</td>\n",
       "      <td>Casado</td>\n",
       "      <td>Masculino</td>\n",
       "      <td>Familiar</td>\n",
       "      <td>Término Indefinido</td>\n",
       "      <td>Malo</td>\n",
       "      <td>E</td>\n",
       "    </tr>\n",
       "    <tr>\n",
       "      <th>4</th>\n",
       "      <td>Belen</td>\n",
       "      <td>E</td>\n",
       "      <td>R</td>\n",
       "      <td>Independiente</td>\n",
       "      <td>Universitario</td>\n",
       "      <td>Casado</td>\n",
       "      <td>Masculino</td>\n",
       "      <td>Propia</td>\n",
       "      <td>NaN</td>\n",
       "      <td>Malo</td>\n",
       "      <td>E</td>\n",
       "    </tr>\n",
       "  </tbody>\n",
       "</table>\n",
       "</div>"
      ],
      "text/plain": [
       "    oficina categori garantia       ocupació       niveledu     estadoci  \\\n",
       "0    Itagui        E        P       Empleado   Bachillerato  Unión Libre   \n",
       "1  Laureles        E        P       Empleado   Bachillerato      Soltero   \n",
       "2     Belen        E        P       Empleado        Técnico      Soltero   \n",
       "3    Itagui        E        P       Empleado   Bachillerato       Casado   \n",
       "4     Belen        E        R  Independiente  Universitario       Casado   \n",
       "\n",
       "        sexo  tipovivi            tipocont default Cat  \n",
       "0  Masculino       NaN                 NaN    Malo   E  \n",
       "1  Masculino       NaN                 NaN    Malo   E  \n",
       "2   Femenino       NaN                 NaN    Malo   E  \n",
       "3  Masculino  Familiar  Término Indefinido    Malo   E  \n",
       "4  Masculino    Propia                 NaN    Malo   E  "
      ]
     },
     "execution_count": 6,
     "metadata": {},
     "output_type": "execute_result"
    }
   ],
   "source": [
    "obj = cartera.dtypes == object\n",
    "obj = [x for x in obj.index if obj[x] == True]\n",
    "\n",
    "cartera_obj = cartera[obj]\n",
    "cartera_obj.head()"
   ]
  },
  {
   "cell_type": "markdown",
   "metadata": {},
   "source": [
    "<div class='alert alert-warning'>\n",
    "Veamos algunas características de nuestros datos, comenzando con los datos no numéricos.\n",
    "<div>"
   ]
  },
  {
   "cell_type": "code",
   "execution_count": 74,
   "metadata": {},
   "outputs": [
    {
     "data": {
      "text/plain": [
       "<matplotlib.axes._subplots.AxesSubplot at 0x7f3f0e20c400>"
      ]
     },
     "execution_count": 74,
     "metadata": {},
     "output_type": "execute_result"
    },
    {
     "data": {
      "image/png": "[encoded data removed]",
      "text/plain": [
       "<matplotlib.figure.Figure at 0x7f3f0e20c080>"
      ]
     },
     "metadata": {},
     "output_type": "display_data"
    }
   ],
   "source": [
    "plt.figure(figsize=(8, 6), dpi=80)\n",
    "cartera_obj['sexo'].hist()"
   ]
  },
  {
   "cell_type": "markdown",
   "metadata": {},
   "source": [
    "Vemos que en promedio hay igual cantidad de hombres y de mujeres."
   ]
  },
  {
   "cell_type": "code",
   "execution_count": 8,
   "metadata": {},
   "outputs": [
    {
     "data": {
      "image/png": "[encoded data removed]",
      "text/plain": [
       "<matplotlib.figure.Figure at 0x7f3f1de3f240>"
      ]
     },
     "metadata": {},
     "output_type": "display_data"
    }
   ],
   "source": [
    "plt.figure(figsize=(8, 6), dpi=80)\n",
    "cartera_obj['ocupació'].hist()\n",
    "plt.xticks(rotation=10);"
   ]
  },
  {
   "cell_type": "markdown",
   "metadata": {},
   "source": [
    "Tenemos que la mayoria de los usuarios son empleados."
   ]
  },
  {
   "cell_type": "code",
   "execution_count": 9,
   "metadata": {},
   "outputs": [
    {
     "data": {
      "image/png": "[encoded data removed]",
      "text/plain": [
       "<matplotlib.figure.Figure at 0x7f3f1ddde940>"
      ]
     },
     "metadata": {},
     "output_type": "display_data"
    }
   ],
   "source": [
    "plt.figure(figsize=(8, 6), dpi=80)\n",
    "cartera_obj['niveledu'].hist()\n",
    "plt.xticks(rotation=10);"
   ]
  },
  {
   "cell_type": "code",
   "execution_count": 73,
   "metadata": {},
   "outputs": [
    {
     "data": {
      "text/plain": [
       "<matplotlib.axes._subplots.AxesSubplot at 0x7f3f0e23d320>"
      ]
     },
     "execution_count": 73,
     "metadata": {},
     "output_type": "execute_result"
    },
    {
     "data": {
      "image/png": "[encoded data removed]",
      "text/plain": [
       "<matplotlib.figure.Figure at 0x7f3f0e23d390>"
      ]
     },
     "metadata": {},
     "output_type": "display_data"
    }
   ],
   "source": [
    "plt.figure(figsize=(8, 6), dpi=80)\n",
    "cartera_obj['tipocont'].hist()"
   ]
  },
  {
   "cell_type": "code",
   "execution_count": 72,
   "metadata": {},
   "outputs": [
    {
     "data": {
      "text/plain": [
       "<matplotlib.axes._subplots.AxesSubplot at 0x7f3f0e2ec390>"
      ]
     },
     "execution_count": 72,
     "metadata": {},
     "output_type": "execute_result"
    },
    {
     "data": {
      "image/png": "[encoded data removed]",
      "text/plain": [
       "<matplotlib.figure.Figure at 0x7f3f0e2ec518>"
      ]
     },
     "metadata": {},
     "output_type": "display_data"
    }
   ],
   "source": [
    "plt.figure(figsize=(8, 6), dpi=80)\n",
    "cartera_obj['default'].hist()"
   ]
  },
  {
   "cell_type": "markdown",
   "metadata": {},
   "source": [
    "#### Vemos que en su mayoria los usuarios son buenos. ahora estudiamos como son en función de algunas features."
   ]
  },
  {
   "cell_type": "markdown",
   "metadata": {},
   "source": [
    "### 1. En función del sexo."
   ]
  },
  {
   "cell_type": "code",
   "execution_count": 71,
   "metadata": {},
   "outputs": [
    {
     "data": {
      "image/png": "[encoded data removed]",
      "text/plain": [
       "<matplotlib.figure.Figure at 0x7f3f0e2e57f0>"
      ]
     },
     "metadata": {},
     "output_type": "display_data"
    }
   ],
   "source": [
    "maskMalos = cartera['default'] == 'Malo'\n",
    "malos = cartera['sexo'][maskBuenos]\n",
    "\n",
    "plt.figure(figsize=(8, 6), dpi=80)\n",
    "plt.hist(malos.tolist())\n",
    "plt.title('Malos');"
   ]
  },
  {
   "cell_type": "markdown",
   "metadata": {},
   "source": [
    "Vemos que practicamente es la misma cantidad de hombres y de mujeres los que son malos, así que el sexo no es un feature que nos ayude a predecir si es bueno o malo."
   ]
  },
  {
   "cell_type": "markdown",
   "metadata": {},
   "source": [
    "### 2. En función de la ocupación"
   ]
  },
  {
   "cell_type": "code",
   "execution_count": 31,
   "metadata": {},
   "outputs": [
    {
     "data": {
      "image/png": "[encoded data removed]",
      "text/plain": [
       "<matplotlib.figure.Figure at 0x7f3f1e598ac8>"
      ]
     },
     "metadata": {},
     "output_type": "display_data"
    }
   ],
   "source": [
    "maskMalos = cartera['default'] == 'Malo'\n",
    "malos = cartera['ocupació'][maskBuenos]\n",
    "\n",
    "plt.figure(figsize=(8, 6), dpi=80)\n",
    "plt.hist(malos.tolist())\n",
    "plt.title('Malos')\n",
    "plt.xticks(rotation=10);"
   ]
  },
  {
   "cell_type": "markdown",
   "metadata": {},
   "source": [
    "Aquí si podemos ver una marcada diferencia con los empleados, pero como la mayoria de datos de entrada es de empleados, no podemos concluir que si alguien es empleado sera malo."
   ]
  },
  {
   "cell_type": "markdown",
   "metadata": {},
   "source": [
    "### 3. En función del nivel educativo."
   ]
  },
  {
   "cell_type": "code",
   "execution_count": 32,
   "metadata": {},
   "outputs": [
    {
     "data": {
      "image/png": "[encoded data removed]",
      "text/plain": [
       "<matplotlib.figure.Figure at 0x7f3f1eea44a8>"
      ]
     },
     "metadata": {},
     "output_type": "display_data"
    }
   ],
   "source": [
    "maskMalos = cartera['default'] == 'Malo'\n",
    "malos = cartera['niveledu'][maskBuenos]\n",
    "\n",
    "plt.figure(figsize=(8, 6), dpi=80)\n",
    "plt.hist(malos.tolist())\n",
    "plt.title('Malos')\n",
    "plt.xticks(rotation=10);"
   ]
  },
  {
   "cell_type": "markdown",
   "metadata": {},
   "source": [
    "Al igual que en el caso anterior, vemos que la mayoria de malo son de bachillerato, pero como la mayoria de entradas tienen esta tendencia, tampoco se puede concluir que si alguien es de bachillerato sera malo."
   ]
  },
  {
   "cell_type": "markdown",
   "metadata": {},
   "source": [
    "<div class='alert alert-warning'>\n",
    "<h3> Miremos los datos numéricos</h3>\n",
    "</div>"
   ]
  },
  {
   "cell_type": "code",
   "execution_count": 34,
   "metadata": {},
   "outputs": [
    {
     "data": {
      "text/html": [
       "<div>\n",
       "<style scoped>\n",
       "    .dataframe tbody tr th:only-of-type {\n",
       "        vertical-align: middle;\n",
       "    }\n",
       "\n",
       "    .dataframe tbody tr th {\n",
       "        vertical-align: top;\n",
       "    }\n",
       "\n",
       "    .dataframe thead th {\n",
       "        text-align: right;\n",
       "    }\n",
       "</style>\n",
       "<table border=\"1\" class=\"dataframe\">\n",
       "  <thead>\n",
       "    <tr style=\"text-align: right;\">\n",
       "      <th></th>\n",
       "      <th>cedula</th>\n",
       "      <th>tiempode</th>\n",
       "      <th>monto</th>\n",
       "      <th>saldo</th>\n",
       "      <th>plazo</th>\n",
       "      <th>tasa</th>\n",
       "      <th>cuota</th>\n",
       "      <th>diasmora</th>\n",
       "      <th>formapag</th>\n",
       "      <th>reestruc</th>\n",
       "      <th>edad</th>\n",
       "      <th>ingtot</th>\n",
       "      <th>egrtot</th>\n",
       "      <th>estrato</th>\n",
       "      <th>antigemp</th>\n",
       "      <th>personas</th>\n",
       "      <th>aportes</th>\n",
       "      <th>numerocr</th>\n",
       "      <th>antigcoo</th>\n",
       "    </tr>\n",
       "  </thead>\n",
       "  <tbody>\n",
       "    <tr>\n",
       "      <th>count</th>\n",
       "      <td>24786.000000</td>\n",
       "      <td>24786.000000</td>\n",
       "      <td>2.478600e+04</td>\n",
       "      <td>2.478600e+04</td>\n",
       "      <td>24786.000000</td>\n",
       "      <td>24786.000000</td>\n",
       "      <td>2.478600e+04</td>\n",
       "      <td>24786.000000</td>\n",
       "      <td>24786.000000</td>\n",
       "      <td>24786.000000</td>\n",
       "      <td>24786.000000</td>\n",
       "      <td>2.478600e+04</td>\n",
       "      <td>2.478600e+04</td>\n",
       "      <td>24786.000000</td>\n",
       "      <td>24786.000000</td>\n",
       "      <td>24786.000000</td>\n",
       "      <td>2.478600e+04</td>\n",
       "      <td>24786.000000</td>\n",
       "      <td>24786.000000</td>\n",
       "    </tr>\n",
       "    <tr>\n",
       "      <th>mean</th>\n",
       "      <td>12393.500000</td>\n",
       "      <td>9.540991</td>\n",
       "      <td>3.213142e+06</td>\n",
       "      <td>2.380017e+06</td>\n",
       "      <td>28.003591</td>\n",
       "      <td>2.171466</td>\n",
       "      <td>1.452418e+05</td>\n",
       "      <td>13.893367</td>\n",
       "      <td>1.082264</td>\n",
       "      <td>1.998991</td>\n",
       "      <td>41.081941</td>\n",
       "      <td>1.068715e+06</td>\n",
       "      <td>3.603203e+05</td>\n",
       "      <td>2.816711</td>\n",
       "      <td>7.761398</td>\n",
       "      <td>1.231179</td>\n",
       "      <td>8.450637e+04</td>\n",
       "      <td>2.163116</td>\n",
       "      <td>3.228758</td>\n",
       "    </tr>\n",
       "    <tr>\n",
       "      <th>std</th>\n",
       "      <td>7155.246222</td>\n",
       "      <td>8.104833</td>\n",
       "      <td>3.052971e+06</td>\n",
       "      <td>2.641900e+06</td>\n",
       "      <td>11.567857</td>\n",
       "      <td>0.065144</td>\n",
       "      <td>9.423052e+04</td>\n",
       "      <td>71.817455</td>\n",
       "      <td>0.274772</td>\n",
       "      <td>0.031744</td>\n",
       "      <td>11.147799</td>\n",
       "      <td>7.854969e+05</td>\n",
       "      <td>4.074228e+05</td>\n",
       "      <td>0.798180</td>\n",
       "      <td>8.080238</td>\n",
       "      <td>1.237067</td>\n",
       "      <td>9.694064e+04</td>\n",
       "      <td>1.232528</td>\n",
       "      <td>2.692101</td>\n",
       "    </tr>\n",
       "    <tr>\n",
       "      <th>min</th>\n",
       "      <td>1.000000</td>\n",
       "      <td>-11.000000</td>\n",
       "      <td>1.010830e+05</td>\n",
       "      <td>1.900000e+01</td>\n",
       "      <td>2.000000</td>\n",
       "      <td>0.162500</td>\n",
       "      <td>2.224700e+04</td>\n",
       "      <td>0.000000</td>\n",
       "      <td>1.000000</td>\n",
       "      <td>1.000000</td>\n",
       "      <td>19.000000</td>\n",
       "      <td>0.000000e+00</td>\n",
       "      <td>0.000000e+00</td>\n",
       "      <td>0.000000</td>\n",
       "      <td>-1.000000</td>\n",
       "      <td>0.000000</td>\n",
       "      <td>0.000000e+00</td>\n",
       "      <td>1.000000</td>\n",
       "      <td>0.000000</td>\n",
       "    </tr>\n",
       "    <tr>\n",
       "      <th>25%</th>\n",
       "      <td>6197.250000</td>\n",
       "      <td>3.000000</td>\n",
       "      <td>1.500000e+06</td>\n",
       "      <td>8.768670e+05</td>\n",
       "      <td>18.000000</td>\n",
       "      <td>2.174200</td>\n",
       "      <td>9.518100e+04</td>\n",
       "      <td>0.000000</td>\n",
       "      <td>1.000000</td>\n",
       "      <td>2.000000</td>\n",
       "      <td>32.000000</td>\n",
       "      <td>6.000000e+05</td>\n",
       "      <td>1.200000e+05</td>\n",
       "      <td>2.000000</td>\n",
       "      <td>1.000000</td>\n",
       "      <td>0.000000</td>\n",
       "      <td>1.550000e+04</td>\n",
       "      <td>1.000000</td>\n",
       "      <td>1.000000</td>\n",
       "    </tr>\n",
       "    <tr>\n",
       "      <th>50%</th>\n",
       "      <td>12393.500000</td>\n",
       "      <td>8.000000</td>\n",
       "      <td>2.500000e+06</td>\n",
       "      <td>1.669316e+06</td>\n",
       "      <td>24.000000</td>\n",
       "      <td>2.174200</td>\n",
       "      <td>1.210540e+05</td>\n",
       "      <td>0.000000</td>\n",
       "      <td>1.000000</td>\n",
       "      <td>2.000000</td>\n",
       "      <td>40.000000</td>\n",
       "      <td>8.639820e+05</td>\n",
       "      <td>3.000000e+05</td>\n",
       "      <td>3.000000</td>\n",
       "      <td>6.000000</td>\n",
       "      <td>1.000000</td>\n",
       "      <td>3.100000e+04</td>\n",
       "      <td>2.000000</td>\n",
       "      <td>2.000000</td>\n",
       "    </tr>\n",
       "    <tr>\n",
       "      <th>75%</th>\n",
       "      <td>18589.750000</td>\n",
       "      <td>14.000000</td>\n",
       "      <td>4.000000e+06</td>\n",
       "      <td>2.960205e+06</td>\n",
       "      <td>36.000000</td>\n",
       "      <td>2.174200</td>\n",
       "      <td>1.640762e+05</td>\n",
       "      <td>10.000000</td>\n",
       "      <td>1.000000</td>\n",
       "      <td>2.000000</td>\n",
       "      <td>49.000000</td>\n",
       "      <td>1.285000e+06</td>\n",
       "      <td>5.000000e+05</td>\n",
       "      <td>3.000000</td>\n",
       "      <td>11.000000</td>\n",
       "      <td>2.000000</td>\n",
       "      <td>1.550000e+05</td>\n",
       "      <td>3.000000</td>\n",
       "      <td>5.000000</td>\n",
       "    </tr>\n",
       "    <tr>\n",
       "      <th>max</th>\n",
       "      <td>24786.000000</td>\n",
       "      <td>68.000000</td>\n",
       "      <td>6.180000e+07</td>\n",
       "      <td>5.931241e+07</td>\n",
       "      <td>180.000000</td>\n",
       "      <td>3.300000</td>\n",
       "      <td>2.080188e+06</td>\n",
       "      <td>1784.000000</td>\n",
       "      <td>2.000000</td>\n",
       "      <td>2.000000</td>\n",
       "      <td>83.000000</td>\n",
       "      <td>1.510000e+07</td>\n",
       "      <td>1.180000e+07</td>\n",
       "      <td>6.000000</td>\n",
       "      <td>46.000000</td>\n",
       "      <td>25.000000</td>\n",
       "      <td>1.463000e+06</td>\n",
       "      <td>15.000000</td>\n",
       "      <td>49.000000</td>\n",
       "    </tr>\n",
       "  </tbody>\n",
       "</table>\n",
       "</div>"
      ],
      "text/plain": [
       "             cedula      tiempode         monto         saldo         plazo  \\\n",
       "count  24786.000000  24786.000000  2.478600e+04  2.478600e+04  24786.000000   \n",
       "mean   12393.500000      9.540991  3.213142e+06  2.380017e+06     28.003591   \n",
       "std     7155.246222      8.104833  3.052971e+06  2.641900e+06     11.567857   \n",
       "min        1.000000    -11.000000  1.010830e+05  1.900000e+01      2.000000   \n",
       "25%     6197.250000      3.000000  1.500000e+06  8.768670e+05     18.000000   \n",
       "50%    12393.500000      8.000000  2.500000e+06  1.669316e+06     24.000000   \n",
       "75%    18589.750000     14.000000  4.000000e+06  2.960205e+06     36.000000   \n",
       "max    24786.000000     68.000000  6.180000e+07  5.931241e+07    180.000000   \n",
       "\n",
       "               tasa         cuota      diasmora      formapag      reestruc  \\\n",
       "count  24786.000000  2.478600e+04  24786.000000  24786.000000  24786.000000   \n",
       "mean       2.171466  1.452418e+05     13.893367      1.082264      1.998991   \n",
       "std        0.065144  9.423052e+04     71.817455      0.274772      0.031744   \n",
       "min        0.162500  2.224700e+04      0.000000      1.000000      1.000000   \n",
       "25%        2.174200  9.518100e+04      0.000000      1.000000      2.000000   \n",
       "50%        2.174200  1.210540e+05      0.000000      1.000000      2.000000   \n",
       "75%        2.174200  1.640762e+05     10.000000      1.000000      2.000000   \n",
       "max        3.300000  2.080188e+06   1784.000000      2.000000      2.000000   \n",
       "\n",
       "               edad        ingtot        egrtot       estrato      antigemp  \\\n",
       "count  24786.000000  2.478600e+04  2.478600e+04  24786.000000  24786.000000   \n",
       "mean      41.081941  1.068715e+06  3.603203e+05      2.816711      7.761398   \n",
       "std       11.147799  7.854969e+05  4.074228e+05      0.798180      8.080238   \n",
       "min       19.000000  0.000000e+00  0.000000e+00      0.000000     -1.000000   \n",
       "25%       32.000000  6.000000e+05  1.200000e+05      2.000000      1.000000   \n",
       "50%       40.000000  8.639820e+05  3.000000e+05      3.000000      6.000000   \n",
       "75%       49.000000  1.285000e+06  5.000000e+05      3.000000     11.000000   \n",
       "max       83.000000  1.510000e+07  1.180000e+07      6.000000     46.000000   \n",
       "\n",
       "           personas       aportes      numerocr      antigcoo  \n",
       "count  24786.000000  2.478600e+04  24786.000000  24786.000000  \n",
       "mean       1.231179  8.450637e+04      2.163116      3.228758  \n",
       "std        1.237067  9.694064e+04      1.232528      2.692101  \n",
       "min        0.000000  0.000000e+00      1.000000      0.000000  \n",
       "25%        0.000000  1.550000e+04      1.000000      1.000000  \n",
       "50%        1.000000  3.100000e+04      2.000000      2.000000  \n",
       "75%        2.000000  1.550000e+05      3.000000      5.000000  \n",
       "max       25.000000  1.463000e+06     15.000000     49.000000  "
      ]
     },
     "execution_count": 34,
     "metadata": {},
     "output_type": "execute_result"
    }
   ],
   "source": [
    "cartera_num.describe()"
   ]
  },
  {
   "cell_type": "markdown",
   "metadata": {},
   "source": [
    "### Veamos la matriz de correlación para los datos numéricos."
   ]
  },
  {
   "cell_type": "code",
   "execution_count": 75,
   "metadata": {},
   "outputs": [
    {
     "data": {
      "text/plain": [
       "<matplotlib.axes._subplots.AxesSubplot at 0x7f3f0e1ccb38>"
      ]
     },
     "execution_count": 75,
     "metadata": {},
     "output_type": "execute_result"
    },
    {
     "data": {
      "image/png": "[encoded data removed]",
      "text/plain": [
       "<matplotlib.figure.Figure at 0x7f3f0e196400>"
      ]
     },
     "metadata": {},
     "output_type": "display_data"
    }
   ],
   "source": [
    "plt.figure(figsize=(8, 6), dpi=80)\n",
    "sb.heatmap(cartera_num.corr(), cmap=\"Greens\")"
   ]
  },
  {
   "cell_type": "markdown",
   "metadata": {},
   "source": [
    "Vemos que en su mayoria los datos son independientes. Para ver la correlación de estos datos con nuestra variable objetivo **default**, transformemos esta en una variable numérica, y volvamos a ver la matriz de correlación."
   ]
  },
  {
   "cell_type": "code",
   "execution_count": 76,
   "metadata": {},
   "outputs": [
    {
     "data": {
      "text/plain": [
       "<matplotlib.axes._subplots.AxesSubplot at 0x7f3f0e1346d8>"
      ]
     },
     "execution_count": 76,
     "metadata": {},
     "output_type": "execute_result"
    },
    {
     "data": {
      "image/png": "[encoded data removed]",
      "text/plain": [
       "<matplotlib.figure.Figure at 0x7f3f0e0c0438>"
      ]
     },
     "metadata": {},
     "output_type": "display_data"
    }
   ],
   "source": [
    "Y = cartera['default']\n",
    "\n",
    "array = []\n",
    "for i in Y:\n",
    "    if (i == 'Malo'):\n",
    "        array.append(0)\n",
    "    else:\n",
    "        array.append(1)\n",
    "\n",
    "Y = pd.DataFrame(data=array,\n",
    "                index=cartera.index,\n",
    "                columns=['default'])\n",
    "\n",
    "numerica2 = pd.concat([cartera_num, Y], axis=1)\n",
    "plt.figure(figsize=(8, 6), dpi=80)\n",
    "sb.heatmap(numerica2.corr(), cmap=\"Greens\")"
   ]
  },
  {
   "cell_type": "markdown",
   "metadata": {},
   "source": [
    "Concentrandonos en la última fila vemos que la variable objetivo esta bastante correlacionada con todos los datos, excepto con 'diasmora', 'tasa', 'tiempode', así que podemos sacar estas features de nuestros datos."
   ]
  },
  {
   "cell_type": "code",
   "execution_count": 39,
   "metadata": {},
   "outputs": [],
   "source": [
    "numerica2 = numerica2.drop('diasmora', axis=1)\n",
    "numerica2 = numerica2.drop('tasa', axis=1)\n",
    "numerica2 = numerica2.drop('tiempode', axis=1)"
   ]
  },
  {
   "cell_type": "markdown",
   "metadata": {},
   "source": [
    "<div class='alert alert-info'>\n",
    "<h3>Generemos un modelo predictivo a partir de las variables numéricas usando sklearn.</h3>\n",
    "</div>"
   ]
  },
  {
   "cell_type": "code",
   "execution_count": 40,
   "metadata": {},
   "outputs": [],
   "source": [
    "from sklearn.model_selection import train_test_split"
   ]
  },
  {
   "cell_type": "markdown",
   "metadata": {},
   "source": [
    "Separamos nuestros datos en dos conjuntos, el de entrenamiendo y el de test"
   ]
  },
  {
   "cell_type": "code",
   "execution_count": 43,
   "metadata": {},
   "outputs": [
    {
     "name": "stdout",
     "output_type": "stream",
     "text": [
      "len X:  24786\n",
      "len xtrain:  18589\n",
      "len xtest:  6197\n"
     ]
    }
   ],
   "source": [
    "xtrain, xtest, ytrain, ytest = train_test_split(cartera_num, Y)\n",
    "print('len X: ', len(cartera_num))\n",
    "print('len xtrain: ', len(xtrain))\n",
    "print('len xtest: ', len(xtest))"
   ]
  },
  {
   "cell_type": "markdown",
   "metadata": {},
   "source": [
    "Usemos un modelo lineal, como por ejemplo el Lasso"
   ]
  },
  {
   "cell_type": "code",
   "execution_count": 44,
   "metadata": {},
   "outputs": [
    {
     "data": {
      "text/plain": [
       "Lasso(alpha=1.0, copy_X=True, fit_intercept=True, max_iter=1000,\n",
       "   normalize=False, positive=False, precompute=False, random_state=None,\n",
       "   selection='cyclic', tol=0.0001, warm_start=False)"
      ]
     },
     "execution_count": 44,
     "metadata": {},
     "output_type": "execute_result"
    }
   ],
   "source": [
    "from sklearn.linear_model import Lasso\n",
    "\n",
    "model = Lasso()\n",
    "# entrenamos el modelo\n",
    "model.fit(xtrain, ytrain)"
   ]
  },
  {
   "cell_type": "code",
   "execution_count": 66,
   "metadata": {},
   "outputs": [
    {
     "data": {
      "text/plain": [
       "([<matplotlib.axis.XTick at 0x7f3f1da264e0>,\n",
       "  <matplotlib.axis.XTick at 0x7f3f1da261d0>],\n",
       " <a list of 2 Text xticklabel objects>)"
      ]
     },
     "execution_count": 66,
     "metadata": {},
     "output_type": "execute_result"
    },
    {
     "data": {
      "image/png": "[encoded data removed]",
      "text/plain": [
       "<matplotlib.figure.Figure at 0x7f3f0e45ab38>"
      ]
     },
     "metadata": {},
     "output_type": "display_data"
    }
   ],
   "source": [
    "# Obtengamos nuestras predicciones.\n",
    "predicted = model.predict(xtest)\n",
    "\n",
    "plt.hist([predicted, ytest['default'].values.tolist()], normed=1)\n",
    "plt.axis([-0.1, 1.1, 0, 5.5])\n",
    "plt.xticks([0,1],['Malos', 'Buenos'])\n"
   ]
  },
  {
   "cell_type": "markdown",
   "metadata": {},
   "source": [
    "Vemos que las predicciones del modelo (azul) estan muy de acuerdo con los datos de test (naranja)"
   ]
  },
  {
   "cell_type": "markdown",
   "metadata": {},
   "source": [
    "Ahora podemos usar la función **predicted** para predecir si un cliente será bueno o malo a partir de nuevos datos de entrada."
   ]
  },
  {
   "cell_type": "code",
   "execution_count": null,
   "metadata": {},
   "outputs": [],
   "source": []
  }
 ],
 "metadata": {
  "kernelspec": {
   "display_name": "Python 3",
   "language": "python",
   "name": "python3"
  },
  "language_info": {
   "codemirror_mode": {
    "name": "ipython",
    "version": 3
   },
   "file_extension": ".py",
   "mimetype": "text/x-python",
   "name": "python",
   "nbconvert_exporter": "python",
   "pygments_lexer": "ipython3",
   "version": "3.6.4"
  }
 },
 "nbformat": 4,
 "nbformat_minor": 2
}
