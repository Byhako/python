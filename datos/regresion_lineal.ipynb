{
 "cells": [
  {
   "cell_type": "code",
   "execution_count": 1,
   "metadata": {},
   "outputs": [
    {
     "data": {
      "image/png": "[encoded data removed]",
      "text/plain": [
       "<matplotlib.figure.Figure at 0x7f797434fac8>"
      ]
     },
     "metadata": {},
     "output_type": "display_data"
    }
   ],
   "source": [
    "%matplotlib inline\n",
    "import numpy as np\n",
    "from pylab import *\n",
    " \n",
    "# Generamos datos \"aleatorios\"\n",
    "altura = np.random.normal(170, 20, 1000)\n",
    "peso = altura / 2.5 + np.random.normal(0, 1, 1000)\n",
    " \n",
    "# Con esta función tan sencilla calculamos la regresión lineal\n",
    "from scipy import stats\n",
    "slope, intercept, r_value, p_value, std_err = stats.linregress(altura, peso)\n",
    " \n",
    "# Ahora lo representamos pintando también la regresión lineal\n",
    "# como una linea roja sobre las observaciones (en azul)\n",
    "import matplotlib.pyplot as plt\n",
    " \n",
    "def predict(x):\n",
    "    return slope * x + intercept\n",
    " \n",
    "fitLine = predict(altura)\n",
    " \n",
    "plt.scatter(altura, peso)\n",
    "plt.plot(altura, fitLine, c='r')\n",
    "plt.show()"
   ]
  },
  {
   "cell_type": "code",
   "execution_count": 2,
   "metadata": {},
   "outputs": [
    {
     "name": "stdout",
     "output_type": "stream",
     "text": [
      "Error cuadrado: 0.9861474729466362\n"
     ]
    }
   ],
   "source": [
    "print('Error cuadrado: {}'.format(r_value**2))"
   ]
  },
  {
   "cell_type": "code",
   "execution_count": null,
   "metadata": {},
   "outputs": [],
   "source": []
  }
 ],
 "metadata": {
  "kernelspec": {
   "display_name": "Python 3",
   "language": "python",
   "name": "python3"
  },
  "language_info": {
   "codemirror_mode": {
    "name": "ipython",
    "version": 3
   },
   "file_extension": ".py",
   "mimetype": "text/x-python",
   "name": "python",
   "nbconvert_exporter": "python",
   "pygments_lexer": "ipython3",
   "version": "3.6.4"
  }
 },
 "nbformat": 4,
 "nbformat_minor": 2
}
