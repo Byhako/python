{
 "cells": [
  {
   "cell_type": "code",
   "execution_count": 1,
   "metadata": {},
   "outputs": [],
   "source": [
    "from mnist import MNIST\n",
    "\n",
    "mndata = MNIST('MNIST_data')"
   ]
  },
  {
   "cell_type": "code",
   "execution_count": 2,
   "metadata": {},
   "outputs": [],
   "source": [
    "# Datos de entrenamiento\n",
    "\n",
    "datos, labels = mndata.load_training()"
   ]
  },
  {
   "cell_type": "code",
   "execution_count": 3,
   "metadata": {},
   "outputs": [
    {
     "data": {
      "image/png": "[encoded data removed]",
      "text/plain": [
       "<Figure size 432x288 with 25 Axes>"
      ]
     },
     "metadata": {},
     "output_type": "display_data"
    }
   ],
   "source": [
    "# visualizacion\n",
    "%matplotlib inline\n",
    "import matplotlib.pyplot as plt\n",
    "import numpy as np\n",
    "\n",
    "plt.gray()\n",
    "\n",
    "for i in range(25):\n",
    "    plt.subplot(5, 5, i+1)\n",
    "    \n",
    "    d_image = np.array(datos[i], dtype='float')\n",
    "    \n",
    "    pixels = d_image.reshape((28, 28))\n",
    "    \n",
    "    plt.imshow(pixels, cmap='gray')\n",
    "    plt.axis('off')\n",
    "    \n",
    "plt.show()"
   ]
  },
  {
   "cell_type": "code",
   "execution_count": 4,
   "metadata": {},
   "outputs": [],
   "source": [
    "# dividimos los datos en entrenamiento y validación\n",
    "from sklearn.model_selection import train_test_split\n",
    "\n",
    "train_data, test_data, train_labels, test_labels = train_test_split(datos, labels, test_size=0.3, random_state=42)"
   ]
  },
  {
   "cell_type": "markdown",
   "metadata": {},
   "source": [
    "<div class='alert alert-info'>\n",
    "<h3>Modelos y entrenamientos.</h3>\n",
    "<ul>\n",
    "    <li>Decision tree.</li>\n",
    "    <li>Random forets.</li>\n",
    "</ul>\n",
    "</div>"
   ]
  },
  {
   "cell_type": "code",
   "execution_count": 5,
   "metadata": {},
   "outputs": [
    {
     "data": {
      "text/plain": [
       "DecisionTreeClassifier(class_weight=None, criterion='gini', max_depth=None,\n",
       "            max_features=None, max_leaf_nodes=None,\n",
       "            min_impurity_decrease=0.0, min_impurity_split=None,\n",
       "            min_samples_leaf=1, min_samples_split=2,\n",
       "            min_weight_fraction_leaf=0.0, presort=False, random_state=None,\n",
       "            splitter='best')"
      ]
     },
     "execution_count": 5,
     "metadata": {},
     "output_type": "execute_result"
    }
   ],
   "source": [
    "from sklearn.tree import DecisionTreeClassifier\n",
    "\n",
    "clf_dt = DecisionTreeClassifier()\n",
    "\n",
    "# Entrenamos el clasificador\n",
    "clf_dt.fit(train_data, train_labels)"
   ]
  },
  {
   "cell_type": "markdown",
   "metadata": {},
   "source": [
    "<div class='alert alert-warning'>\n",
    "<b>Evaluación</b> Con matriz de confusión\n",
    "</div>"
   ]
  },
  {
   "cell_type": "code",
   "execution_count": 6,
   "metadata": {},
   "outputs": [],
   "source": [
    "from sklearn.metrics import confusion_matrix"
   ]
  },
  {
   "cell_type": "code",
   "execution_count": 7,
   "metadata": {},
   "outputs": [],
   "source": [
    "# Definimos función para evaluar el clasificado.\n",
    "\n",
    "def evaluate_classifier(clf, test_data, test_labels):\n",
    "    pred = clf.predict(test_data)\n",
    "    \n",
    "    MC = confusion_matrix(test_labels, pred)\n",
    "    return MC"
   ]
  },
  {
   "cell_type": "code",
   "execution_count": 8,
   "metadata": {},
   "outputs": [
    {
     "name": "stdout",
     "output_type": "stream",
     "text": [
      "[[1634    1   23   19   16   32   30    8   31   11]\n",
      " [   2 1906   23   17    4    2    8    8   14   10]\n",
      " [  22   33 1452   48   19   25   54   48   45   13]\n",
      " [  18   14   54 1503   13   84   11   36   72   41]\n",
      " [   6    7   12   15 1506   22   15   34   23   86]\n",
      " [  34   11   21   84   12 1328   35   13   72   43]\n",
      " [  22    9   26    8   30   40 1603    2   37   10]\n",
      " [   8    7   39   19   25   18    3 1758   21   39]\n",
      " [  18   25   59   58   40   58   34   23 1348   67]\n",
      " [  11    9   16   35   87   49   10   60   50 1436]]\n"
     ]
    }
   ],
   "source": [
    "# Evaluamos el clasificador\n",
    "\n",
    "MC = evaluate_classifier(clf_dt, test_data, test_labels)\n",
    "print(MC)"
   ]
  },
  {
   "cell_type": "code",
   "execution_count": 11,
   "metadata": {},
   "outputs": [
    {
     "data": {
      "text/plain": [
       "85.96666666666667"
      ]
     },
     "execution_count": 11,
     "metadata": {},
     "output_type": "execute_result"
    }
   ],
   "source": [
    "# Calculamos el score\n",
    "score = MC.diagonal().sum()*100/MC.sum()\n",
    "score"
   ]
  },
  {
   "cell_type": "markdown",
   "metadata": {},
   "source": [
    "<div class='alert alert-warning'>\n",
    "<h5>Ahora usemos Random Forets para ver si mejora</h5>\n",
    "</div>"
   ]
  },
  {
   "cell_type": "code",
   "execution_count": 15,
   "metadata": {},
   "outputs": [],
   "source": [
    "from sklearn.ensemble import RandomForestClassifier"
   ]
  },
  {
   "cell_type": "code",
   "execution_count": 16,
   "metadata": {},
   "outputs": [],
   "source": [
    "\"\"\"\n",
    "n_estimators      -> Número de arboles en la red.\n",
    "min_samples_split -> Número mínimo de filas.\n",
    "min_samples_leaft -> Número mínimo de samples al final del árbol.\n",
    "\"\"\"\n",
    "\n",
    "clf_rf = RandomForestClassifier(n_estimators=150, min_samples_split=2 )"
   ]
  },
  {
   "cell_type": "code",
   "execution_count": 17,
   "metadata": {},
   "outputs": [
    {
     "data": {
      "text/plain": [
       "RandomForestClassifier(bootstrap=True, class_weight=None, criterion='gini',\n",
       "            max_depth=None, max_features='auto', max_leaf_nodes=None,\n",
       "            min_impurity_decrease=0.0, min_impurity_split=None,\n",
       "            min_samples_leaf=1, min_samples_split=2,\n",
       "            min_weight_fraction_leaf=0.0, n_estimators=150, n_jobs=1,\n",
       "            oob_score=False, random_state=None, verbose=0,\n",
       "            warm_start=False)"
      ]
     },
     "execution_count": 17,
     "metadata": {},
     "output_type": "execute_result"
    }
   ],
   "source": [
    "# Entremanos\n",
    "clf_rf.fit(train_data, train_labels)"
   ]
  },
  {
   "cell_type": "code",
   "execution_count": 18,
   "metadata": {},
   "outputs": [
    {
     "data": {
      "text/plain": [
       "array([[1779,    0,    2,    1,    3,    4,    6,    0,    8,    2],\n",
       "       [   0, 1962,   15,    6,    3,    0,    2,    4,    1,    1],\n",
       "       [   6,    5, 1708,    6,    7,    0,    4,   14,    6,    3],\n",
       "       [   3,    1,   32, 1744,    1,   24,    1,   17,   14,    9],\n",
       "       [   3,    2,    1,    1, 1683,    0,    6,    3,    2,   25],\n",
       "       [  10,    3,    2,   16,    3, 1585,   14,    1,   13,    6],\n",
       "       [   3,    1,    0,    0,    4,    9, 1764,    0,    6,    0],\n",
       "       [   2,   11,   25,    0,    9,    0,    0, 1871,    4,   15],\n",
       "       [   1,    6,    9,   11,   13,   13,    7,    1, 1656,   13],\n",
       "       [   9,    3,    5,   14,   23,    6,    2,   15,    6, 1680]])"
      ]
     },
     "execution_count": 18,
     "metadata": {},
     "output_type": "execute_result"
    }
   ],
   "source": [
    "# Evaluemos el clasificador\n",
    "MC = evaluate_classifier(clf_rf, test_data, test_labels)\n",
    "MC"
   ]
  },
  {
   "cell_type": "code",
   "execution_count": 20,
   "metadata": {},
   "outputs": [
    {
     "data": {
      "text/plain": [
       "96.84444444444445"
      ]
     },
     "execution_count": 20,
     "metadata": {},
     "output_type": "execute_result"
    }
   ],
   "source": [
    "# score\n",
    "\n",
    "score = MC.diagonal().sum()*100/MC.sum()\n",
    "score"
   ]
  },
  {
   "cell_type": "markdown",
   "metadata": {},
   "source": [
    "<div class='alert alert-warning'>\n",
    "Mejoro mucho el score usando 150 arboles.\n",
    "</div>"
   ]
  },
  {
   "cell_type": "markdown",
   "metadata": {},
   "source": [
    "<div class='alert alert-info'>\n",
    "<h3>Pruebas</h3>\n",
    "Ahora usaremos el clasificador de random forets para ver como se ocmporta con nuevos datos.\n",
    "</div>"
   ]
  },
  {
   "cell_type": "code",
   "execution_count": 21,
   "metadata": {},
   "outputs": [],
   "source": [
    "# cargamos datos de test\n",
    "\n",
    "test_data, test_labels = mndata.load_testing()"
   ]
  },
  {
   "cell_type": "code",
   "execution_count": 22,
   "metadata": {},
   "outputs": [],
   "source": [
    "# Aplicamos el clasificado a todo  el dataset y obtenemos el accuracy\n",
    "\n",
    "predicted = clf_rf.predict(test_data)"
   ]
  },
  {
   "cell_type": "code",
   "execution_count": 25,
   "metadata": {},
   "outputs": [
    {
     "data": {
      "text/plain": [
       "array([[ 970,    0,    0,    0,    0,    3,    2,    1,    4,    0],\n",
       "       [   0, 1122,    3,    3,    0,    2,    2,    0,    2,    1],\n",
       "       [   6,    0,  997,    5,    2,    1,    5,    9,    7,    0],\n",
       "       [   0,    0,   13,  967,    0,    9,    0,    9,    9,    3],\n",
       "       [   1,    0,    2,    0,  955,    0,    4,    0,    3,   17],\n",
       "       [   5,    0,    0,   13,    1,  856,    7,    2,    5,    3],\n",
       "       [   7,    3,    0,    0,    3,    3,  941,    0,    1,    0],\n",
       "       [   1,    4,   24,    3,    1,    0,    0,  981,    2,   12],\n",
       "       [   3,    0,    5,   10,    4,    6,    4,    4,  927,   11],\n",
       "       [   7,    5,    2,    9,   13,    2,    1,    5,    7,  958]])"
      ]
     },
     "execution_count": 25,
     "metadata": {},
     "output_type": "execute_result"
    }
   ],
   "source": [
    "MC = evaluate_classifier(clf_rf, test_data, np.array(test_labels))\n",
    "MC"
   ]
  },
  {
   "cell_type": "code",
   "execution_count": 26,
   "metadata": {},
   "outputs": [
    {
     "data": {
      "text/plain": [
       "96.74"
      ]
     },
     "execution_count": 26,
     "metadata": {},
     "output_type": "execute_result"
    }
   ],
   "source": [
    "score = MC.diagonal().sum()*100/MC.sum()\n",
    "score"
   ]
  },
  {
   "cell_type": "markdown",
   "metadata": {},
   "source": [
    "### Una prueba más"
   ]
  },
  {
   "cell_type": "code",
   "execution_count": 28,
   "metadata": {},
   "outputs": [
    {
     "data": {
      "image/png": "[encoded data removed]",
      "text/plain": [
       "<Figure size 432x288 with 1 Axes>"
      ]
     },
     "metadata": {},
     "output_type": "display_data"
    }
   ],
   "source": [
    "d = np.array(test_data[7], dtype='float')\n",
    "pixels = d.reshape((28, 28))\n",
    "plt.imshow(pixels, cmap='gray')\n",
    "plt.show()"
   ]
  },
  {
   "cell_type": "code",
   "execution_count": 30,
   "metadata": {},
   "outputs": [
    {
     "name": "stdout",
     "output_type": "stream",
     "text": [
      "[9]\n"
     ]
    }
   ],
   "source": [
    "print(clf_rf.predict([test_data[7]]))"
   ]
  },
  {
   "cell_type": "code",
   "execution_count": null,
   "metadata": {},
   "outputs": [],
   "source": []
  }
 ],
 "metadata": {
  "kernelspec": {
   "display_name": "Python 3",
   "language": "python",
   "name": "python3"
  },
  "language_info": {
   "codemirror_mode": {
    "name": "ipython",
    "version": 3
   },
   "file_extension": ".py",
   "mimetype": "text/x-python",
   "name": "python",
   "nbconvert_exporter": "python",
   "pygments_lexer": "ipython3",
   "version": "3.6.8"
  }
 },
 "nbformat": 4,
 "nbformat_minor": 2
}
