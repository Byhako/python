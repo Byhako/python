{
 "cells": [
  {
   "cell_type": "markdown",
   "metadata": {},
   "source": [
    "## Series."
   ]
  },
  {
   "cell_type": "code",
   "execution_count": 3,
   "metadata": {},
   "outputs": [
    {
     "name": "stdout",
     "output_type": "stream",
     "text": [
      "0    1\n",
      "1    2\n",
      "2    3\n",
      "dtype: int64\n",
      "dos    2\n",
      "uno    1\n",
      "dtype: int64\n"
     ]
    }
   ],
   "source": [
    "import pandas as pd\n",
    "serie1 = pd.Series([1,2,3])\n",
    "serie2 = pd.Series({'uno': 1, 'dos': 2})\n",
    "print(serie1)\n",
    "print(serie2)"
   ]
  },
  {
   "cell_type": "markdown",
   "metadata": {},
   "source": [
    "## DataFrames"
   ]
  },
  {
   "cell_type": "code",
   "execution_count": 4,
   "metadata": {},
   "outputs": [
    {
     "data": {
      "text/html": [
       "<div>\n",
       "<style scoped>\n",
       "    .dataframe tbody tr th:only-of-type {\n",
       "        vertical-align: middle;\n",
       "    }\n",
       "\n",
       "    .dataframe tbody tr th {\n",
       "        vertical-align: top;\n",
       "    }\n",
       "\n",
       "    .dataframe thead th {\n",
       "        text-align: right;\n",
       "    }\n",
       "</style>\n",
       "<table border=\"1\" class=\"dataframe\">\n",
       "  <thead>\n",
       "    <tr style=\"text-align: right;\">\n",
       "      <th></th>\n",
       "      <th>ana</th>\n",
       "      <th>nata</th>\n",
       "    </tr>\n",
       "  </thead>\n",
       "  <tbody>\n",
       "    <tr>\n",
       "      <th>0</th>\n",
       "      <td>12</td>\n",
       "      <td>15</td>\n",
       "    </tr>\n",
       "    <tr>\n",
       "      <th>1</th>\n",
       "      <td>13</td>\n",
       "      <td>16</td>\n",
       "    </tr>\n",
       "  </tbody>\n",
       "</table>\n",
       "</div>"
      ],
      "text/plain": [
       "   ana  nata\n",
       "0   12    15\n",
       "1   13    16"
      ]
     },
     "execution_count": 4,
     "metadata": {},
     "output_type": "execute_result"
    }
   ],
   "source": [
    "frame = pd.DataFrame({'ana': [12, 13], 'nata': [15,16]})\n",
    "frame"
   ]
  },
  {
   "cell_type": "code",
   "execution_count": 5,
   "metadata": {},
   "outputs": [
    {
     "data": {
      "text/html": [
       "<div>\n",
       "<style scoped>\n",
       "    .dataframe tbody tr th:only-of-type {\n",
       "        vertical-align: middle;\n",
       "    }\n",
       "\n",
       "    .dataframe tbody tr th {\n",
       "        vertical-align: top;\n",
       "    }\n",
       "\n",
       "    .dataframe thead th {\n",
       "        text-align: right;\n",
       "    }\n",
       "</style>\n",
       "<table border=\"1\" class=\"dataframe\">\n",
       "  <thead>\n",
       "    <tr style=\"text-align: right;\">\n",
       "      <th></th>\n",
       "      <th>ayer</th>\n",
       "      <th>hoy</th>\n",
       "      <th>mañana</th>\n",
       "    </tr>\n",
       "  </thead>\n",
       "  <tbody>\n",
       "    <tr>\n",
       "      <th>0</th>\n",
       "      <td>1</td>\n",
       "      <td>2</td>\n",
       "      <td>3</td>\n",
       "    </tr>\n",
       "    <tr>\n",
       "      <th>1</th>\n",
       "      <td>4</td>\n",
       "      <td>5</td>\n",
       "      <td>6</td>\n",
       "    </tr>\n",
       "    <tr>\n",
       "      <th>2</th>\n",
       "      <td>7</td>\n",
       "      <td>8</td>\n",
       "      <td>9</td>\n",
       "    </tr>\n",
       "  </tbody>\n",
       "</table>\n",
       "</div>"
      ],
      "text/plain": [
       "   ayer  hoy  mañana\n",
       "0     1    2       3\n",
       "1     4    5       6\n",
       "2     7    8       9"
      ]
     },
     "execution_count": 5,
     "metadata": {},
     "output_type": "execute_result"
    }
   ],
   "source": [
    "frame2 = pd.DataFrame([[1,2,3],[4,5,6],[7,8,9]], columns=['ayer', 'hoy', 'mañana'])\n",
    "frame2"
   ]
  },
  {
   "cell_type": "markdown",
   "metadata": {},
   "source": [
    "<div class='alert-info alert'>\n",
    "<h3>indices y selección</h3>\n",
    "</div>"
   ]
  },
  {
   "cell_type": "code",
   "execution_count": 10,
   "metadata": {},
   "outputs": [
    {
     "data": {
      "text/html": [
       "<div>\n",
       "<style scoped>\n",
       "    .dataframe tbody tr th:only-of-type {\n",
       "        vertical-align: middle;\n",
       "    }\n",
       "\n",
       "    .dataframe tbody tr th {\n",
       "        vertical-align: top;\n",
       "    }\n",
       "\n",
       "    .dataframe thead th {\n",
       "        text-align: right;\n",
       "    }\n",
       "</style>\n",
       "<table border=\"1\" class=\"dataframe\">\n",
       "  <thead>\n",
       "    <tr style=\"text-align: right;\">\n",
       "      <th></th>\n",
       "      <th>body</th>\n",
       "      <th>title</th>\n",
       "    </tr>\n",
       "  </thead>\n",
       "  <tbody>\n",
       "    <tr>\n",
       "      <th>0</th>\n",
       "      <td>The organization Es Racismo (It’s Racism) has ...</td>\n",
       "      <td>Woman’s racist rant to Madrid store clerk goes...</td>\n",
       "    </tr>\n",
       "    <tr>\n",
       "      <th>1</th>\n",
       "      <td>Eddie Murphy ha reunido a toda su familia por ...</td>\n",
       "      <td>Eddie Murphy posa por primera vez con sus diez...</td>\n",
       "    </tr>\n",
       "    <tr>\n",
       "      <th>2</th>\n",
       "      <td>Pocas cosas satisfacen tanto a un viajero cost...</td>\n",
       "      <td>Placeres del mar en Bakio</td>\n",
       "    </tr>\n",
       "    <tr>\n",
       "      <th>3</th>\n",
       "      <td>Rusia ha sellado con China lo que muchos anali...</td>\n",
       "      <td>Rusia vira hacia China por las sanciones occid...</td>\n",
       "    </tr>\n",
       "    <tr>\n",
       "      <th>4</th>\n",
       "      <td>La salud global ha sido el tema estrella este ...</td>\n",
       "      <td>El misterioso coma de los niños en Suecia y ot...</td>\n",
       "    </tr>\n",
       "    <tr>\n",
       "      <th>...</th>\n",
       "      <td>...</td>\n",
       "      <td>...</td>\n",
       "    </tr>\n",
       "    <tr>\n",
       "      <th>66</th>\n",
       "      <td>A lo largo de toda la costa occidental de la i...</td>\n",
       "      <td>Vivir a los pies de un volcán letal</td>\n",
       "    </tr>\n",
       "    <tr>\n",
       "      <th>67</th>\n",
       "      <td>The tobacco smoke that was eradicated from man...</td>\n",
       "      <td>Legal loophole sees smoking return to Spanish ...</td>\n",
       "    </tr>\n",
       "    <tr>\n",
       "      <th>68</th>\n",
       "      <td>Los folletos para turistas dirán que Buenos Ai...</td>\n",
       "      <td>Un mar infinito de pañuelos verdes</td>\n",
       "    </tr>\n",
       "    <tr>\n",
       "      <th>69</th>\n",
       "      <td>En un año en el que por todo el mundo el #meto...</td>\n",
       "      <td>Diez famosos que han demostrado cómo debe ser ...</td>\n",
       "    </tr>\n",
       "    <tr>\n",
       "      <th>70</th>\n",
       "      <td>El de España no es un caso raro en Europa occi...</td>\n",
       "      <td>España es el tercer país con un mayor abandono...</td>\n",
       "    </tr>\n",
       "  </tbody>\n",
       "</table>\n",
       "<p>71 rows × 2 columns</p>\n",
       "</div>"
      ],
      "text/plain": [
       "                                                 body  \\\n",
       "0   The organization Es Racismo (It’s Racism) has ...   \n",
       "1   Eddie Murphy ha reunido a toda su familia por ...   \n",
       "2   Pocas cosas satisfacen tanto a un viajero cost...   \n",
       "3   Rusia ha sellado con China lo que muchos anali...   \n",
       "4   La salud global ha sido el tema estrella este ...   \n",
       "..                                                ...   \n",
       "66  A lo largo de toda la costa occidental de la i...   \n",
       "67  The tobacco smoke that was eradicated from man...   \n",
       "68  Los folletos para turistas dirán que Buenos Ai...   \n",
       "69  En un año en el que por todo el mundo el #meto...   \n",
       "70  El de España no es un caso raro en Europa occi...   \n",
       "\n",
       "                                                title  \n",
       "0   Woman’s racist rant to Madrid store clerk goes...  \n",
       "1   Eddie Murphy posa por primera vez con sus diez...  \n",
       "2                           Placeres del mar en Bakio  \n",
       "3   Rusia vira hacia China por las sanciones occid...  \n",
       "4   El misterioso coma de los niños en Suecia y ot...  \n",
       "..                                                ...  \n",
       "66                Vivir a los pies de un volcán letal  \n",
       "67  Legal loophole sees smoking return to Spanish ...  \n",
       "68                 Un mar infinito de pañuelos verdes  \n",
       "69  Diez famosos que han demostrado cómo debe ser ...  \n",
       "70  España es el tercer país con un mayor abandono...  \n",
       "\n",
       "[71 rows x 2 columns]"
      ]
     },
     "execution_count": 10,
     "metadata": {},
     "output_type": "execute_result"
    }
   ],
   "source": [
    "pd.options.display.max_rows = 10\n",
    "el_pais = pd.read_csv('../scraping/elpais_18_12_27_articles.csv')\n",
    "el_pais"
   ]
  },
  {
   "cell_type": "code",
   "execution_count": 11,
   "metadata": {},
   "outputs": [
    {
     "data": {
      "text/plain": [
       "0     Woman’s racist rant to Madrid store clerk goes...\n",
       "1     Eddie Murphy posa por primera vez con sus diez...\n",
       "2                             Placeres del mar en Bakio\n",
       "3     Rusia vira hacia China por las sanciones occid...\n",
       "4     El misterioso coma de los niños en Suecia y ot...\n",
       "                            ...                        \n",
       "66                  Vivir a los pies de un volcán letal\n",
       "67    Legal loophole sees smoking return to Spanish ...\n",
       "68                   Un mar infinito de pañuelos verdes\n",
       "69    Diez famosos que han demostrado cómo debe ser ...\n",
       "70    España es el tercer país con un mayor abandono...\n",
       "Name: title, Length: 71, dtype: object"
      ]
     },
     "execution_count": 11,
     "metadata": {},
     "output_type": "execute_result"
    }
   ],
   "source": [
    "# dictionary like\n",
    "\n",
    "el_pais['title']"
   ]
  },
  {
   "cell_type": "code",
   "execution_count": 12,
   "metadata": {},
   "outputs": [
    {
     "data": {
      "text/html": [
       "<div>\n",
       "<style scoped>\n",
       "    .dataframe tbody tr th:only-of-type {\n",
       "        vertical-align: middle;\n",
       "    }\n",
       "\n",
       "    .dataframe tbody tr th {\n",
       "        vertical-align: top;\n",
       "    }\n",
       "\n",
       "    .dataframe thead th {\n",
       "        text-align: right;\n",
       "    }\n",
       "</style>\n",
       "<table border=\"1\" class=\"dataframe\">\n",
       "  <thead>\n",
       "    <tr style=\"text-align: right;\">\n",
       "      <th></th>\n",
       "      <th>body</th>\n",
       "      <th>title</th>\n",
       "    </tr>\n",
       "  </thead>\n",
       "  <tbody>\n",
       "    <tr>\n",
       "      <th>10</th>\n",
       "      <td>Alemania estudia reclutar a ciudadanos de otro...</td>\n",
       "      <td>Alemania estudia abrir su Ejército a ciudadano...</td>\n",
       "    </tr>\n",
       "    <tr>\n",
       "      <th>11</th>\n",
       "      <td>Tres derrotas en las cuatro últimas jornadas d...</td>\n",
       "      <td>Guardiola busca soluciones</td>\n",
       "    </tr>\n",
       "    <tr>\n",
       "      <th>12</th>\n",
       "      <td>El niño aún no había sido identificado oficial...</td>\n",
       "      <td>La policía de fronteras de EE UU ordena exámen...</td>\n",
       "    </tr>\n",
       "    <tr>\n",
       "      <th>13</th>\n",
       "      <td>El rey Salmán de Arabia Saudí ha anunciado est...</td>\n",
       "      <td>Arabia Saudí remodela su Gobierno y releva al ...</td>\n",
       "    </tr>\n",
       "    <tr>\n",
       "      <th>14</th>\n",
       "      <td>Carlos Boyero, crítico de cine de EL PAÍS, rea...</td>\n",
       "      <td>Las mejores películas de 2018, según Carlos Bo...</td>\n",
       "    </tr>\n",
       "  </tbody>\n",
       "</table>\n",
       "</div>"
      ],
      "text/plain": [
       "                                                 body  \\\n",
       "10  Alemania estudia reclutar a ciudadanos de otro...   \n",
       "11  Tres derrotas en las cuatro últimas jornadas d...   \n",
       "12  El niño aún no había sido identificado oficial...   \n",
       "13  El rey Salmán de Arabia Saudí ha anunciado est...   \n",
       "14  Carlos Boyero, crítico de cine de EL PAÍS, rea...   \n",
       "\n",
       "                                                title  \n",
       "10  Alemania estudia abrir su Ejército a ciudadano...  \n",
       "11                         Guardiola busca soluciones  \n",
       "12  La policía de fronteras de EE UU ordena exámen...  \n",
       "13  Arabia Saudí remodela su Gobierno y releva al ...  \n",
       "14  Las mejores películas de 2018, según Carlos Bo...  "
      ]
     },
     "execution_count": 12,
     "metadata": {},
     "output_type": "execute_result"
    }
   ],
   "source": [
    "# Numpy like\n",
    "el_pais.iloc[10:15]"
   ]
  },
  {
   "cell_type": "code",
   "execution_count": 13,
   "metadata": {},
   "outputs": [
    {
     "data": {
      "text/plain": [
       "'Argentina aplica un impuesto de hasta 15% a las rentas financieras'"
      ]
     },
     "execution_count": 13,
     "metadata": {},
     "output_type": "execute_result"
    }
   ],
   "source": [
    "el_pais.iloc[24]['title']"
   ]
  },
  {
   "cell_type": "code",
   "execution_count": 15,
   "metadata": {},
   "outputs": [
    {
     "data": {
      "text/plain": [
       "0    Woman’s racist rant to Madrid store clerk goes...\n",
       "1    Eddie Murphy posa por primera vez con sus diez...\n",
       "2                            Placeres del mar en Bakio\n",
       "3    Rusia vira hacia China por las sanciones occid...\n",
       "4    El misterioso coma de los niños en Suecia y ot...\n",
       "Name: title, dtype: object"
      ]
     },
     "execution_count": 15,
     "metadata": {},
     "output_type": "execute_result"
    }
   ],
   "source": [
    "el_pais.iloc[:5, 1]"
   ]
  },
  {
   "cell_type": "code",
   "execution_count": 16,
   "metadata": {},
   "outputs": [
    {
     "data": {
      "text/plain": [
       "0     The organization Es Racismo (It’s Racism) has ...\n",
       "1     Eddie Murphy ha reunido a toda su familia por ...\n",
       "2     Pocas cosas satisfacen tanto a un viajero cost...\n",
       "3     Rusia ha sellado con China lo que muchos anali...\n",
       "4     La salud global ha sido el tema estrella este ...\n",
       "                            ...                        \n",
       "66    A lo largo de toda la costa occidental de la i...\n",
       "67    The tobacco smoke that was eradicated from man...\n",
       "68    Los folletos para turistas dirán que Buenos Ai...\n",
       "69    En un año en el que por todo el mundo el #meto...\n",
       "70    El de España no es un caso raro en Europa occi...\n",
       "Name: body, Length: 71, dtype: object"
      ]
     },
     "execution_count": 16,
     "metadata": {},
     "output_type": "execute_result"
    }
   ],
   "source": [
    "# Labels like\n",
    "el_pais.loc[:, 'body']"
   ]
  },
  {
   "cell_type": "markdown",
   "metadata": {},
   "source": [
    "<div class='alert-info alert'>\n",
    "<h3>Data wrangling</h3>\n",
    "</div>"
   ]
  },
  {
   "cell_type": "markdown",
   "metadata": {},
   "source": [
    "<div class='alert alert-info'>\n",
    "Simplemente es limpiar, transformar y enriquecer el dataset para objetivos posteriores.\n",
    "\n",
    "Pandas es una de las herramientas más poderosas para realizar este *domado* de datos. Recordemos que Pandas trae muchas de sus abstracciones del lenguaje R, pero nos otorga lo mejor de ambos mundos, por eso es tan popular.\n",
    "<br/>\n",
    "Nos permite:\n",
    "\n",
    "\n",
    "<ul>\n",
    "<li>generar transformaciones con gran facilidad.</li>\n",
    "<li>trabajar rápidamente con datasets grandes.</li>\n",
    "<li>detectar y reemplazar faltantes.</li>\n",
    "<li>agrupar y resumir nuestros datos.</li>\n",
    "<li>visualizar nuestros resultados.</li>\n",
    "</ul>\n",
    "</div>"
   ]
  },
  {
   "cell_type": "code",
   "execution_count": null,
   "metadata": {},
   "outputs": [],
   "source": []
  }
 ],
 "metadata": {
  "kernelspec": {
   "display_name": "Python 3",
   "language": "python",
   "name": "python3"
  },
  "language_info": {
   "codemirror_mode": {
    "name": "ipython",
    "version": 3
   },
   "file_extension": ".py",
   "mimetype": "text/x-python",
   "name": "python",
   "nbconvert_exporter": "python",
   "pygments_lexer": "ipython3",
   "version": "3.6.4"
  }
 },
 "nbformat": 4,
 "nbformat_minor": 2
}
