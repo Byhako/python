{
 "cells": [
  {
   "cell_type": "code",
   "execution_count": 1,
   "metadata": {},
   "outputs": [],
   "source": [
    "import pandas as pd\n",
    "import numpy as np\n",
    "import matplotlib.pyplot as plt"
   ]
  },
  {
   "cell_type": "code",
   "execution_count": 2,
   "metadata": {},
   "outputs": [
    {
     "data": {
      "text/plain": [
       "Index(['TARJETA', 'HORA', 'ESTACION'], dtype='object')"
      ]
     },
     "execution_count": 2,
     "metadata": {},
     "output_type": "execute_result"
    }
   ],
   "source": [
    "civica = pd.read_excel('./datos.xlsx')\n",
    "civica.columns"
   ]
  },
  {
   "cell_type": "code",
   "execution_count": 3,
   "metadata": {},
   "outputs": [
    {
     "data": {
      "text/html": [
       "<div>\n",
       "<style scoped>\n",
       "    .dataframe tbody tr th:only-of-type {\n",
       "        vertical-align: middle;\n",
       "    }\n",
       "\n",
       "    .dataframe tbody tr th {\n",
       "        vertical-align: top;\n",
       "    }\n",
       "\n",
       "    .dataframe thead th {\n",
       "        text-align: right;\n",
       "    }\n",
       "</style>\n",
       "<table border=\"1\" class=\"dataframe\">\n",
       "  <thead>\n",
       "    <tr style=\"text-align: right;\">\n",
       "      <th></th>\n",
       "      <th>TARJETA</th>\n",
       "      <th>HORA</th>\n",
       "      <th>ESTACION</th>\n",
       "    </tr>\n",
       "  </thead>\n",
       "  <tbody>\n",
       "    <tr>\n",
       "      <th>0</th>\n",
       "      <td>1819201</td>\n",
       "      <td>20:32:53</td>\n",
       "      <td>INDUSTRIALES MP</td>\n",
       "    </tr>\n",
       "    <tr>\n",
       "      <th>1</th>\n",
       "      <td>1815736</td>\n",
       "      <td>20:33:27</td>\n",
       "      <td>INDUSTRIALES MP</td>\n",
       "    </tr>\n",
       "    <tr>\n",
       "      <th>2</th>\n",
       "      <td>1811678</td>\n",
       "      <td>20:29:02</td>\n",
       "      <td>PARQUE BERRIO</td>\n",
       "    </tr>\n",
       "    <tr>\n",
       "      <th>3</th>\n",
       "      <td>1809680</td>\n",
       "      <td>20:29:13</td>\n",
       "      <td>INDUSTRIALES</td>\n",
       "    </tr>\n",
       "    <tr>\n",
       "      <th>4</th>\n",
       "      <td>1805109</td>\n",
       "      <td>20:33:26</td>\n",
       "      <td>LÍNEA 2 BUSES</td>\n",
       "    </tr>\n",
       "  </tbody>\n",
       "</table>\n",
       "</div>"
      ],
      "text/plain": [
       "   TARJETA      HORA         ESTACION\n",
       "0  1819201  20:32:53  INDUSTRIALES MP\n",
       "1  1815736  20:33:27  INDUSTRIALES MP\n",
       "2  1811678  20:29:02    PARQUE BERRIO\n",
       "3  1809680  20:29:13     INDUSTRIALES\n",
       "4  1805109  20:33:26    LÍNEA 2 BUSES"
      ]
     },
     "execution_count": 3,
     "metadata": {},
     "output_type": "execute_result"
    }
   ],
   "source": [
    "civica.head()"
   ]
  },
  {
   "cell_type": "markdown",
   "metadata": {},
   "source": [
    "<div class='alert alert-warning'>\n",
    "Primero ordenamos por número de tarjeta y hora de manera ascendente.\n",
    "</div>"
   ]
  },
  {
   "cell_type": "code",
   "execution_count": 4,
   "metadata": {},
   "outputs": [
    {
     "data": {
      "text/html": [
       "<div>\n",
       "<style scoped>\n",
       "    .dataframe tbody tr th:only-of-type {\n",
       "        vertical-align: middle;\n",
       "    }\n",
       "\n",
       "    .dataframe tbody tr th {\n",
       "        vertical-align: top;\n",
       "    }\n",
       "\n",
       "    .dataframe thead th {\n",
       "        text-align: right;\n",
       "    }\n",
       "</style>\n",
       "<table border=\"1\" class=\"dataframe\">\n",
       "  <thead>\n",
       "    <tr style=\"text-align: right;\">\n",
       "      <th></th>\n",
       "      <th>TARJETA</th>\n",
       "      <th>HORA</th>\n",
       "      <th>ESTACION</th>\n",
       "    </tr>\n",
       "  </thead>\n",
       "  <tbody>\n",
       "    <tr>\n",
       "      <th>254788</th>\n",
       "      <td>197</td>\n",
       "      <td>13:33:43</td>\n",
       "      <td>CARIBE</td>\n",
       "    </tr>\n",
       "    <tr>\n",
       "      <th>310672</th>\n",
       "      <td>401</td>\n",
       "      <td>07:42:24</td>\n",
       "      <td>NIQUIA</td>\n",
       "    </tr>\n",
       "    <tr>\n",
       "      <th>167890</th>\n",
       "      <td>420</td>\n",
       "      <td>17:06:49</td>\n",
       "      <td>NUTIBARA</td>\n",
       "    </tr>\n",
       "    <tr>\n",
       "      <th>110499</th>\n",
       "      <td>420</td>\n",
       "      <td>17:51:39</td>\n",
       "      <td>ALIMENTADOR CUENCA 6</td>\n",
       "    </tr>\n",
       "    <tr>\n",
       "      <th>346125</th>\n",
       "      <td>696</td>\n",
       "      <td>06:22:11</td>\n",
       "      <td>AYURA</td>\n",
       "    </tr>\n",
       "  </tbody>\n",
       "</table>\n",
       "</div>"
      ],
      "text/plain": [
       "        TARJETA      HORA              ESTACION\n",
       "254788      197  13:33:43                CARIBE\n",
       "310672      401  07:42:24                NIQUIA\n",
       "167890      420  17:06:49              NUTIBARA\n",
       "110499      420  17:51:39  ALIMENTADOR CUENCA 6\n",
       "346125      696  06:22:11                 AYURA"
      ]
     },
     "execution_count": 4,
     "metadata": {},
     "output_type": "execute_result"
    }
   ],
   "source": [
    "civica2 = civica.sort_values(by=['TARJETA', 'HORA'])\n",
    "civica2.head()"
   ]
  },
  {
   "cell_type": "markdown",
   "metadata": {},
   "source": [
    "<div class='alert alert-warning'>\n",
    "Crear variable llamada **SECUENCIA** la cual identifica el número de transacción realizada, teniendo en cuenta la hora de uso.\n",
    "</div>"
   ]
  },
  {
   "cell_type": "code",
   "execution_count": 5,
   "metadata": {},
   "outputs": [
    {
     "data": {
      "text/plain": [
       "(562031, 3)"
      ]
     },
     "execution_count": 5,
     "metadata": {},
     "output_type": "execute_result"
    }
   ],
   "source": [
    "civica2.shape"
   ]
  },
  {
   "cell_type": "code",
   "execution_count": 6,
   "metadata": {},
   "outputs": [],
   "source": [
    "# primero organizo por hora.\n",
    "orden_hora = civica.sort_values(by=['HORA'])"
   ]
  },
  {
   "cell_type": "code",
   "execution_count": 7,
   "metadata": {},
   "outputs": [],
   "source": [
    "# creo array de números consecutivos y lo agrego al dataFrame\n",
    "secuencia = np.arange(1, 562032)\n",
    "orden_hora['SECUENCIA'] = secuencia"
   ]
  },
  {
   "cell_type": "code",
   "execution_count": 8,
   "metadata": {},
   "outputs": [
    {
     "data": {
      "text/html": [
       "<div>\n",
       "<style scoped>\n",
       "    .dataframe tbody tr th:only-of-type {\n",
       "        vertical-align: middle;\n",
       "    }\n",
       "\n",
       "    .dataframe tbody tr th {\n",
       "        vertical-align: top;\n",
       "    }\n",
       "\n",
       "    .dataframe thead th {\n",
       "        text-align: right;\n",
       "    }\n",
       "</style>\n",
       "<table border=\"1\" class=\"dataframe\">\n",
       "  <thead>\n",
       "    <tr style=\"text-align: right;\">\n",
       "      <th></th>\n",
       "      <th>TARJETA</th>\n",
       "      <th>HORA</th>\n",
       "      <th>ESTACION</th>\n",
       "      <th>SECUENCIA</th>\n",
       "    </tr>\n",
       "  </thead>\n",
       "  <tbody>\n",
       "    <tr>\n",
       "      <th>254788</th>\n",
       "      <td>197</td>\n",
       "      <td>13:33:43</td>\n",
       "      <td>CARIBE</td>\n",
       "      <td>280020</td>\n",
       "    </tr>\n",
       "    <tr>\n",
       "      <th>310672</th>\n",
       "      <td>401</td>\n",
       "      <td>07:42:24</td>\n",
       "      <td>NIQUIA</td>\n",
       "      <td>145168</td>\n",
       "    </tr>\n",
       "    <tr>\n",
       "      <th>167890</th>\n",
       "      <td>420</td>\n",
       "      <td>17:06:49</td>\n",
       "      <td>NUTIBARA</td>\n",
       "      <td>381520</td>\n",
       "    </tr>\n",
       "    <tr>\n",
       "      <th>110499</th>\n",
       "      <td>420</td>\n",
       "      <td>17:51:39</td>\n",
       "      <td>ALIMENTADOR CUENCA 6</td>\n",
       "      <td>425506</td>\n",
       "    </tr>\n",
       "    <tr>\n",
       "      <th>346125</th>\n",
       "      <td>696</td>\n",
       "      <td>06:22:11</td>\n",
       "      <td>AYURA</td>\n",
       "      <td>76624</td>\n",
       "    </tr>\n",
       "  </tbody>\n",
       "</table>\n",
       "</div>"
      ],
      "text/plain": [
       "        TARJETA      HORA              ESTACION  SECUENCIA\n",
       "254788      197  13:33:43                CARIBE     280020\n",
       "310672      401  07:42:24                NIQUIA     145168\n",
       "167890      420  17:06:49              NUTIBARA     381520\n",
       "110499      420  17:51:39  ALIMENTADOR CUENCA 6     425506\n",
       "346125      696  06:22:11                 AYURA      76624"
      ]
     },
     "execution_count": 8,
     "metadata": {},
     "output_type": "execute_result"
    }
   ],
   "source": [
    "# vuelvo a ordenar por TARJETA y HORA\n",
    "civica2 = orden_hora.sort_values(by=['TARJETA', 'HORA'])\n",
    "civica2.head()"
   ]
  },
  {
   "cell_type": "markdown",
   "metadata": {},
   "source": [
    "<div class='alert alert-warning'>\n",
    "Selecciono tarjetas que tuvieron entre 2 y 6 transacciones.\n",
    "</div>"
   ]
  },
  {
   "cell_type": "code",
   "execution_count": 9,
   "metadata": {},
   "outputs": [
    {
     "data": {
      "text/plain": [
       "TARJETA\n",
       "197    False\n",
       "401    False\n",
       "420     True\n",
       "696    False\n",
       "711    False\n",
       "Name: TARJETA, dtype: bool"
      ]
     },
     "execution_count": 9,
     "metadata": {},
     "output_type": "execute_result"
    }
   ],
   "source": [
    "conteo = civica2.groupby(['TARJETA'])\n",
    "conteo = conteo['TARJETA'].value_counts()\n",
    "# quito multiIndex\n",
    "conteo.index = conteo.index.get_level_values(0)\n",
    "mask = ((conteo >= 2) & (conteo <= 6))\n",
    "mask.head()"
   ]
  },
  {
   "cell_type": "code",
   "execution_count": 10,
   "metadata": {},
   "outputs": [
    {
     "data": {
      "text/plain": [
       "TARJETA\n",
       "197    1\n",
       "401    1\n",
       "420    2\n",
       "696    1\n",
       "711    1\n",
       "Name: TARJETA, dtype: int64"
      ]
     },
     "execution_count": 10,
     "metadata": {},
     "output_type": "execute_result"
    }
   ],
   "source": [
    "conteo.head()"
   ]
  },
  {
   "cell_type": "code",
   "execution_count": 11,
   "metadata": {},
   "outputs": [
    {
     "data": {
      "text/plain": [
       "TARJETA\n",
       "420     2\n",
       "885     3\n",
       "908     2\n",
       "929     2\n",
       "1173    2\n",
       "Name: TARJETA, dtype: int64"
      ]
     },
     "execution_count": 11,
     "metadata": {},
     "output_type": "execute_result"
    }
   ],
   "source": [
    "# Dejo solo las tarjetas que cumplen\n",
    "conteo = conteo[mask]\n",
    "conteo.head()"
   ]
  },
  {
   "cell_type": "code",
   "execution_count": 12,
   "metadata": {},
   "outputs": [
    {
     "data": {
      "text/plain": [
       "562031"
      ]
     },
     "execution_count": 12,
     "metadata": {},
     "output_type": "execute_result"
    }
   ],
   "source": [
    "# Creo array de booleanos, con True donde las tarjetas cumplen\n",
    "array = []\n",
    "for i in civica2['TARJETA']:\n",
    "    if(i in conteo):\n",
    "        array.append(True)\n",
    "    else:\n",
    "        array.append(False)\n",
    "        \n",
    "len(array)\n",
    "        "
   ]
  },
  {
   "cell_type": "code",
   "execution_count": 13,
   "metadata": {},
   "outputs": [
    {
     "data": {
      "text/html": [
       "<div>\n",
       "<style scoped>\n",
       "    .dataframe tbody tr th:only-of-type {\n",
       "        vertical-align: middle;\n",
       "    }\n",
       "\n",
       "    .dataframe tbody tr th {\n",
       "        vertical-align: top;\n",
       "    }\n",
       "\n",
       "    .dataframe thead th {\n",
       "        text-align: right;\n",
       "    }\n",
       "</style>\n",
       "<table border=\"1\" class=\"dataframe\">\n",
       "  <thead>\n",
       "    <tr style=\"text-align: right;\">\n",
       "      <th></th>\n",
       "      <th>TARJETA</th>\n",
       "    </tr>\n",
       "  </thead>\n",
       "  <tbody>\n",
       "    <tr>\n",
       "      <th>254788</th>\n",
       "      <td>False</td>\n",
       "    </tr>\n",
       "    <tr>\n",
       "      <th>310672</th>\n",
       "      <td>False</td>\n",
       "    </tr>\n",
       "    <tr>\n",
       "      <th>167890</th>\n",
       "      <td>True</td>\n",
       "    </tr>\n",
       "    <tr>\n",
       "      <th>110499</th>\n",
       "      <td>True</td>\n",
       "    </tr>\n",
       "    <tr>\n",
       "      <th>346125</th>\n",
       "      <td>False</td>\n",
       "    </tr>\n",
       "  </tbody>\n",
       "</table>\n",
       "</div>"
      ],
      "text/plain": [
       "        TARJETA\n",
       "254788    False\n",
       "310672    False\n",
       "167890     True\n",
       "110499     True\n",
       "346125    False"
      ]
     },
     "execution_count": 13,
     "metadata": {},
     "output_type": "execute_result"
    }
   ],
   "source": [
    "# dataFrame a partir de array para crear mascara\n",
    "array = np.array(array)\n",
    "mask = pd.DataFrame(data=array,\n",
    "                    index=civica2.index,\n",
    "                    columns=['TARJETA'])\n",
    "\n",
    "mask.head()"
   ]
  },
  {
   "cell_type": "code",
   "execution_count": 20,
   "metadata": {},
   "outputs": [
    {
     "data": {
      "text/html": [
       "<div>\n",
       "<style scoped>\n",
       "    .dataframe tbody tr th:only-of-type {\n",
       "        vertical-align: middle;\n",
       "    }\n",
       "\n",
       "    .dataframe tbody tr th {\n",
       "        vertical-align: top;\n",
       "    }\n",
       "\n",
       "    .dataframe thead th {\n",
       "        text-align: right;\n",
       "    }\n",
       "</style>\n",
       "<table border=\"1\" class=\"dataframe\">\n",
       "  <thead>\n",
       "    <tr style=\"text-align: right;\">\n",
       "      <th></th>\n",
       "      <th>TARJETA</th>\n",
       "      <th>HORA</th>\n",
       "      <th>ESTACION</th>\n",
       "      <th>SECUENCIA</th>\n",
       "    </tr>\n",
       "  </thead>\n",
       "  <tbody>\n",
       "    <tr>\n",
       "      <th>167890</th>\n",
       "      <td>420</td>\n",
       "      <td>17:06:49</td>\n",
       "      <td>NUTIBARA</td>\n",
       "      <td>381520</td>\n",
       "    </tr>\n",
       "    <tr>\n",
       "      <th>110499</th>\n",
       "      <td>420</td>\n",
       "      <td>17:51:39</td>\n",
       "      <td>ALIMENTADOR CUENCA 6</td>\n",
       "      <td>425506</td>\n",
       "    </tr>\n",
       "    <tr>\n",
       "      <th>362682</th>\n",
       "      <td>885</td>\n",
       "      <td>06:26:13</td>\n",
       "      <td>GARDEL</td>\n",
       "      <td>80472</td>\n",
       "    </tr>\n",
       "    <tr>\n",
       "      <th>318339</th>\n",
       "      <td>885</td>\n",
       "      <td>06:38:46</td>\n",
       "      <td>HOSPITAL</td>\n",
       "      <td>92093</td>\n",
       "    </tr>\n",
       "    <tr>\n",
       "      <th>42771</th>\n",
       "      <td>885</td>\n",
       "      <td>21:07:31</td>\n",
       "      <td>ALIMENTADOR CUENCA 6</td>\n",
       "      <td>538679</td>\n",
       "    </tr>\n",
       "  </tbody>\n",
       "</table>\n",
       "</div>"
      ],
      "text/plain": [
       "        TARJETA      HORA              ESTACION  SECUENCIA\n",
       "167890      420  17:06:49              NUTIBARA     381520\n",
       "110499      420  17:51:39  ALIMENTADOR CUENCA 6     425506\n",
       "362682      885  06:26:13                GARDEL      80472\n",
       "318339      885  06:38:46              HOSPITAL      92093\n",
       "42771       885  21:07:31  ALIMENTADOR CUENCA 6     538679"
      ]
     },
     "execution_count": 20,
     "metadata": {},
     "output_type": "execute_result"
    }
   ],
   "source": [
    "## Creo mascara con True solo para tarjetas que cumplen\n",
    "mask2 = civica2[mask]['TARJETA'].notnull()\n",
    "# Aplico mascara para obtener nuevo dataframe\n",
    "newCivica = civica2[mask2]\n",
    "newCivica.head()"
   ]
  },
  {
   "cell_type": "markdown",
   "metadata": {},
   "source": [
    "<div class='alert alert-warning'>\n",
    "Crear variable llamada **PERIODO** y agrupar las transacciones por intervalos de 30 minutos.\n",
    "</div>"
   ]
  },
  {
   "cell_type": "code",
   "execution_count": 15,
   "metadata": {},
   "outputs": [
    {
     "data": {
      "text/html": [
       "<div>\n",
       "<style scoped>\n",
       "    .dataframe tbody tr th:only-of-type {\n",
       "        vertical-align: middle;\n",
       "    }\n",
       "\n",
       "    .dataframe tbody tr th {\n",
       "        vertical-align: top;\n",
       "    }\n",
       "\n",
       "    .dataframe thead th {\n",
       "        text-align: right;\n",
       "    }\n",
       "</style>\n",
       "<table border=\"1\" class=\"dataframe\">\n",
       "  <thead>\n",
       "    <tr style=\"text-align: right;\">\n",
       "      <th></th>\n",
       "      <th>TARJETA</th>\n",
       "      <th>HORA</th>\n",
       "      <th>ESTACION</th>\n",
       "      <th>SECUENCIA</th>\n",
       "    </tr>\n",
       "  </thead>\n",
       "  <tbody>\n",
       "    <tr>\n",
       "      <th>538359</th>\n",
       "      <td>2754180</td>\n",
       "      <td>00:04:36</td>\n",
       "      <td>ALIMENTADOR CUENCA 3</td>\n",
       "      <td>2</td>\n",
       "    </tr>\n",
       "    <tr>\n",
       "      <th>327281</th>\n",
       "      <td>2944431</td>\n",
       "      <td>03:37:07</td>\n",
       "      <td>ALIMENTADOR CUENCA 3</td>\n",
       "      <td>11</td>\n",
       "    </tr>\n",
       "    <tr>\n",
       "      <th>327282</th>\n",
       "      <td>2937539</td>\n",
       "      <td>03:40:44</td>\n",
       "      <td>ALIMENTADOR CUENCA 3</td>\n",
       "      <td>16</td>\n",
       "    </tr>\n",
       "    <tr>\n",
       "      <th>327289</th>\n",
       "      <td>2739045</td>\n",
       "      <td>03:44:41</td>\n",
       "      <td>ALIMENTADOR CUENCA 3</td>\n",
       "      <td>24</td>\n",
       "    </tr>\n",
       "    <tr>\n",
       "      <th>327290</th>\n",
       "      <td>2370149</td>\n",
       "      <td>03:44:44</td>\n",
       "      <td>ALIMENTADOR CUENCA 3</td>\n",
       "      <td>25</td>\n",
       "    </tr>\n",
       "  </tbody>\n",
       "</table>\n",
       "</div>"
      ],
      "text/plain": [
       "        TARJETA      HORA              ESTACION  SECUENCIA\n",
       "538359  2754180  00:04:36  ALIMENTADOR CUENCA 3          2\n",
       "327281  2944431  03:37:07  ALIMENTADOR CUENCA 3         11\n",
       "327282  2937539  03:40:44  ALIMENTADOR CUENCA 3         16\n",
       "327289  2739045  03:44:41  ALIMENTADOR CUENCA 3         24\n",
       "327290  2370149  03:44:44  ALIMENTADOR CUENCA 3         25"
      ]
     },
     "execution_count": 15,
     "metadata": {},
     "output_type": "execute_result"
    }
   ],
   "source": [
    "# ordeno por hora.\n",
    "newCivica = newCivica.sort_values(by=['HORA'])\n",
    "newCivica.head()"
   ]
  },
  {
   "cell_type": "code",
   "execution_count": 16,
   "metadata": {},
   "outputs": [
    {
     "data": {
      "text/plain": [
       "[datetime.time(0, 0),\n",
       " datetime.time(0, 30),\n",
       " datetime.time(1, 0),\n",
       " datetime.time(1, 30),\n",
       " datetime.time(2, 0),\n",
       " datetime.time(2, 30),\n",
       " datetime.time(3, 0),\n",
       " datetime.time(3, 30),\n",
       " datetime.time(4, 0),\n",
       " datetime.time(4, 30),\n",
       " datetime.time(5, 0),\n",
       " datetime.time(5, 30),\n",
       " datetime.time(6, 0),\n",
       " datetime.time(6, 30),\n",
       " datetime.time(7, 0),\n",
       " datetime.time(7, 30),\n",
       " datetime.time(8, 0),\n",
       " datetime.time(8, 30),\n",
       " datetime.time(9, 0),\n",
       " datetime.time(9, 30),\n",
       " datetime.time(10, 0),\n",
       " datetime.time(10, 30),\n",
       " datetime.time(11, 0),\n",
       " datetime.time(11, 30),\n",
       " datetime.time(12, 0),\n",
       " datetime.time(12, 30),\n",
       " datetime.time(13, 0),\n",
       " datetime.time(13, 30),\n",
       " datetime.time(14, 0),\n",
       " datetime.time(14, 30),\n",
       " datetime.time(15, 0),\n",
       " datetime.time(15, 30),\n",
       " datetime.time(16, 0),\n",
       " datetime.time(16, 30),\n",
       " datetime.time(17, 0),\n",
       " datetime.time(17, 30),\n",
       " datetime.time(18, 0),\n",
       " datetime.time(18, 30),\n",
       " datetime.time(19, 0),\n",
       " datetime.time(19, 30),\n",
       " datetime.time(20, 0),\n",
       " datetime.time(20, 30),\n",
       " datetime.time(21, 0),\n",
       " datetime.time(21, 30),\n",
       " datetime.time(22, 0),\n",
       " datetime.time(22, 30),\n",
       " datetime.time(23, 0),\n",
       " datetime.time(23, 30)]"
      ]
     },
     "execution_count": 16,
     "metadata": {},
     "output_type": "execute_result"
    }
   ],
   "source": [
    "# crear array con intervalos de tiempo\n",
    "import datetime\n",
    "horas = []\n",
    "for i in range(24):\n",
    "    horas.append(datetime.time(i, 0, 0))\n",
    "    horas.append(datetime.time(i, 30, 0))\n",
    "    \n",
    "horas"
   ]
  },
  {
   "cell_type": "code",
   "execution_count": 17,
   "metadata": {},
   "outputs": [],
   "source": [
    "# crear array periodo sengun corresponda la hora en newcivica dentro de horas.\n",
    "periodo = []\n",
    "for i in newCivica['HORA']:\n",
    "    ban = 0\n",
    "    for h in range(len(horas)):\n",
    "        p = horas[h] > i\n",
    "        if (p):\n",
    "            periodo.append(h)\n",
    "            ban = 1\n",
    "            break\n",
    "    if (ban == 0):\n",
    "        periodo.append(48)"
   ]
  },
  {
   "cell_type": "code",
   "execution_count": 18,
   "metadata": {},
   "outputs": [
    {
     "data": {
      "text/html": [
       "<div>\n",
       "<style scoped>\n",
       "    .dataframe tbody tr th:only-of-type {\n",
       "        vertical-align: middle;\n",
       "    }\n",
       "\n",
       "    .dataframe tbody tr th {\n",
       "        vertical-align: top;\n",
       "    }\n",
       "\n",
       "    .dataframe thead th {\n",
       "        text-align: right;\n",
       "    }\n",
       "</style>\n",
       "<table border=\"1\" class=\"dataframe\">\n",
       "  <thead>\n",
       "    <tr style=\"text-align: right;\">\n",
       "      <th></th>\n",
       "      <th>PERIODO</th>\n",
       "    </tr>\n",
       "  </thead>\n",
       "  <tbody>\n",
       "    <tr>\n",
       "      <th>538359</th>\n",
       "      <td>1</td>\n",
       "    </tr>\n",
       "    <tr>\n",
       "      <th>327281</th>\n",
       "      <td>8</td>\n",
       "    </tr>\n",
       "    <tr>\n",
       "      <th>327282</th>\n",
       "      <td>8</td>\n",
       "    </tr>\n",
       "    <tr>\n",
       "      <th>327289</th>\n",
       "      <td>8</td>\n",
       "    </tr>\n",
       "    <tr>\n",
       "      <th>327290</th>\n",
       "      <td>8</td>\n",
       "    </tr>\n",
       "  </tbody>\n",
       "</table>\n",
       "</div>"
      ],
      "text/plain": [
       "        PERIODO\n",
       "538359        1\n",
       "327281        8\n",
       "327282        8\n",
       "327289        8\n",
       "327290        8"
      ]
     },
     "execution_count": 18,
     "metadata": {},
     "output_type": "execute_result"
    }
   ],
   "source": [
    "Periodo = pd.DataFrame(data=periodo,\n",
    "                    index=newCivica.index,\n",
    "                    columns=['PERIODO'])\n",
    "Periodo.head()"
   ]
  },
  {
   "cell_type": "code",
   "execution_count": 19,
   "metadata": {},
   "outputs": [
    {
     "data": {
      "text/html": [
       "<div>\n",
       "<style scoped>\n",
       "    .dataframe tbody tr th:only-of-type {\n",
       "        vertical-align: middle;\n",
       "    }\n",
       "\n",
       "    .dataframe tbody tr th {\n",
       "        vertical-align: top;\n",
       "    }\n",
       "\n",
       "    .dataframe thead th {\n",
       "        text-align: right;\n",
       "    }\n",
       "</style>\n",
       "<table border=\"1\" class=\"dataframe\">\n",
       "  <thead>\n",
       "    <tr style=\"text-align: right;\">\n",
       "      <th></th>\n",
       "      <th>TARJETA</th>\n",
       "      <th>HORA</th>\n",
       "      <th>ESTACION</th>\n",
       "      <th>SECUENCIA</th>\n",
       "      <th>PERIODO</th>\n",
       "    </tr>\n",
       "  </thead>\n",
       "  <tbody>\n",
       "    <tr>\n",
       "      <th>538359</th>\n",
       "      <td>2754180</td>\n",
       "      <td>00:04:36</td>\n",
       "      <td>ALIMENTADOR CUENCA 3</td>\n",
       "      <td>2</td>\n",
       "      <td>1</td>\n",
       "    </tr>\n",
       "    <tr>\n",
       "      <th>327281</th>\n",
       "      <td>2944431</td>\n",
       "      <td>03:37:07</td>\n",
       "      <td>ALIMENTADOR CUENCA 3</td>\n",
       "      <td>11</td>\n",
       "      <td>8</td>\n",
       "    </tr>\n",
       "    <tr>\n",
       "      <th>327282</th>\n",
       "      <td>2937539</td>\n",
       "      <td>03:40:44</td>\n",
       "      <td>ALIMENTADOR CUENCA 3</td>\n",
       "      <td>16</td>\n",
       "      <td>8</td>\n",
       "    </tr>\n",
       "    <tr>\n",
       "      <th>327289</th>\n",
       "      <td>2739045</td>\n",
       "      <td>03:44:41</td>\n",
       "      <td>ALIMENTADOR CUENCA 3</td>\n",
       "      <td>24</td>\n",
       "      <td>8</td>\n",
       "    </tr>\n",
       "    <tr>\n",
       "      <th>327290</th>\n",
       "      <td>2370149</td>\n",
       "      <td>03:44:44</td>\n",
       "      <td>ALIMENTADOR CUENCA 3</td>\n",
       "      <td>25</td>\n",
       "      <td>8</td>\n",
       "    </tr>\n",
       "  </tbody>\n",
       "</table>\n",
       "</div>"
      ],
      "text/plain": [
       "        TARJETA      HORA              ESTACION  SECUENCIA  PERIODO\n",
       "538359  2754180  00:04:36  ALIMENTADOR CUENCA 3          2        1\n",
       "327281  2944431  03:37:07  ALIMENTADOR CUENCA 3         11        8\n",
       "327282  2937539  03:40:44  ALIMENTADOR CUENCA 3         16        8\n",
       "327289  2739045  03:44:41  ALIMENTADOR CUENCA 3         24        8\n",
       "327290  2370149  03:44:44  ALIMENTADOR CUENCA 3         25        8"
      ]
     },
     "execution_count": 19,
     "metadata": {},
     "output_type": "execute_result"
    }
   ],
   "source": [
    "newCivica = pd.concat([newCivica, Periodo], axis=1)\n",
    "newCivica.head()"
   ]
  },
  {
   "cell_type": "code",
   "execution_count": null,
   "metadata": {},
   "outputs": [],
   "source": []
  }
 ],
 "metadata": {
  "kernelspec": {
   "display_name": "Python 3",
   "language": "python",
   "name": "python3"
  },
  "language_info": {
   "codemirror_mode": {
    "name": "ipython",
    "version": 3
   },
   "file_extension": ".py",
   "mimetype": "text/x-python",
   "name": "python",
   "nbconvert_exporter": "python",
   "pygments_lexer": "ipython3",
   "version": "3.6.4"
  }
 },
 "nbformat": 4,
 "nbformat_minor": 2
}
